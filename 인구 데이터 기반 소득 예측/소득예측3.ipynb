{
  "nbformat": 4,
  "nbformat_minor": 0,
  "metadata": {
    "colab": {
      "name": "소득예측2.iypnb",
      "provenance": [],
      "collapsed_sections": [
        "ONxiUYzNeNWN",
        "6gbyz5dQgC9A",
        "VxLixTOdgGs3",
        "CgqORZ_SGJxy"
      ]
    },
    "kernelspec": {
      "name": "python3",
      "display_name": "Python 3"
    },
    "language_info": {
      "name": "python"
    }
  },
  "cells": [
    {
      "cell_type": "markdown",
      "source": [
        "## EDA 및 전처리"
      ],
      "metadata": {
        "id": "ONxiUYzNeNWN"
      }
    },
    {
      "cell_type": "markdown",
      "source": [
        "### 데이터 불러오기 및 간단하게 데이터 살펴보기"
      ],
      "metadata": {
        "id": "6gbyz5dQgC9A"
      }
    },
    {
      "cell_type": "code",
      "execution_count": null,
      "metadata": {
        "id": "Ge6-QgI8d9uM"
      },
      "outputs": [],
      "source": [
        "import numpy as np\n",
        "import pandas as pd\n",
        "import matplotlib.pyplot as plt\n",
        "import seaborn as sns"
      ]
    },
    {
      "cell_type": "code",
      "source": [
        "train = pd.read_csv('train.csv', index_col=0)\n",
        "test = pd.read_csv('test.csv', index_col=0)\n",
        "\n",
        "print('train df')\n",
        "display(train.head())\n",
        "print('test df')\n",
        "display(test.head())"
      ],
      "metadata": {
        "colab": {
          "base_uri": "https://localhost:8080/"
        },
        "id": "88YbtI-CeMtz",
        "outputId": "3eb0f4cc-e286-46cc-9d95-8ffb4c7d7107"
      },
      "execution_count": null,
      "outputs": [
        {
          "output_type": "stream",
          "name": "stdout",
          "text": [
            "train df\n"
          ]
        },
        {
          "output_type": "display_data",
          "data": {
            "text/plain": [
              "    age workclass  fnlwgt     education  education.num      marital.status  \\\n",
              "id                                                                           \n",
              "0    32   Private  309513    Assoc-acdm             12  Married-civ-spouse   \n",
              "1    33   Private  205469  Some-college             10  Married-civ-spouse   \n",
              "2    46   Private  149949  Some-college             10  Married-civ-spouse   \n",
              "3    23   Private  193090     Bachelors             13       Never-married   \n",
              "4    55   Private   60193       HS-grad              9            Divorced   \n",
              "\n",
              "         occupation   relationship   race     sex  capital.gain  capital.loss  \\\n",
              "id                                                                              \n",
              "0      Craft-repair        Husband  White    Male             0             0   \n",
              "1   Exec-managerial        Husband  White    Male             0             0   \n",
              "2      Craft-repair        Husband  White    Male             0             0   \n",
              "3      Adm-clerical      Own-child  White  Female             0             0   \n",
              "4      Adm-clerical  Not-in-family  White  Female             0             0   \n",
              "\n",
              "    hours.per.week native.country  target  \n",
              "id                                         \n",
              "0               40  United-States       0  \n",
              "1               40  United-States       1  \n",
              "2               40  United-States       0  \n",
              "3               30  United-States       0  \n",
              "4               40  United-States       0  "
            ],
            "text/html": [
              "\n",
              "  <div id=\"df-ffa2d740-dd4f-441e-98c5-f77cc1585097\">\n",
              "    <div class=\"colab-df-container\">\n",
              "      <div>\n",
              "<style scoped>\n",
              "    .dataframe tbody tr th:only-of-type {\n",
              "        vertical-align: middle;\n",
              "    }\n",
              "\n",
              "    .dataframe tbody tr th {\n",
              "        vertical-align: top;\n",
              "    }\n",
              "\n",
              "    .dataframe thead th {\n",
              "        text-align: right;\n",
              "    }\n",
              "</style>\n",
              "<table border=\"1\" class=\"dataframe\">\n",
              "  <thead>\n",
              "    <tr style=\"text-align: right;\">\n",
              "      <th></th>\n",
              "      <th>age</th>\n",
              "      <th>workclass</th>\n",
              "      <th>fnlwgt</th>\n",
              "      <th>education</th>\n",
              "      <th>education.num</th>\n",
              "      <th>marital.status</th>\n",
              "      <th>occupation</th>\n",
              "      <th>relationship</th>\n",
              "      <th>race</th>\n",
              "      <th>sex</th>\n",
              "      <th>capital.gain</th>\n",
              "      <th>capital.loss</th>\n",
              "      <th>hours.per.week</th>\n",
              "      <th>native.country</th>\n",
              "      <th>target</th>\n",
              "    </tr>\n",
              "    <tr>\n",
              "      <th>id</th>\n",
              "      <th></th>\n",
              "      <th></th>\n",
              "      <th></th>\n",
              "      <th></th>\n",
              "      <th></th>\n",
              "      <th></th>\n",
              "      <th></th>\n",
              "      <th></th>\n",
              "      <th></th>\n",
              "      <th></th>\n",
              "      <th></th>\n",
              "      <th></th>\n",
              "      <th></th>\n",
              "      <th></th>\n",
              "      <th></th>\n",
              "    </tr>\n",
              "  </thead>\n",
              "  <tbody>\n",
              "    <tr>\n",
              "      <th>0</th>\n",
              "      <td>32</td>\n",
              "      <td>Private</td>\n",
              "      <td>309513</td>\n",
              "      <td>Assoc-acdm</td>\n",
              "      <td>12</td>\n",
              "      <td>Married-civ-spouse</td>\n",
              "      <td>Craft-repair</td>\n",
              "      <td>Husband</td>\n",
              "      <td>White</td>\n",
              "      <td>Male</td>\n",
              "      <td>0</td>\n",
              "      <td>0</td>\n",
              "      <td>40</td>\n",
              "      <td>United-States</td>\n",
              "      <td>0</td>\n",
              "    </tr>\n",
              "    <tr>\n",
              "      <th>1</th>\n",
              "      <td>33</td>\n",
              "      <td>Private</td>\n",
              "      <td>205469</td>\n",
              "      <td>Some-college</td>\n",
              "      <td>10</td>\n",
              "      <td>Married-civ-spouse</td>\n",
              "      <td>Exec-managerial</td>\n",
              "      <td>Husband</td>\n",
              "      <td>White</td>\n",
              "      <td>Male</td>\n",
              "      <td>0</td>\n",
              "      <td>0</td>\n",
              "      <td>40</td>\n",
              "      <td>United-States</td>\n",
              "      <td>1</td>\n",
              "    </tr>\n",
              "    <tr>\n",
              "      <th>2</th>\n",
              "      <td>46</td>\n",
              "      <td>Private</td>\n",
              "      <td>149949</td>\n",
              "      <td>Some-college</td>\n",
              "      <td>10</td>\n",
              "      <td>Married-civ-spouse</td>\n",
              "      <td>Craft-repair</td>\n",
              "      <td>Husband</td>\n",
              "      <td>White</td>\n",
              "      <td>Male</td>\n",
              "      <td>0</td>\n",
              "      <td>0</td>\n",
              "      <td>40</td>\n",
              "      <td>United-States</td>\n",
              "      <td>0</td>\n",
              "    </tr>\n",
              "    <tr>\n",
              "      <th>3</th>\n",
              "      <td>23</td>\n",
              "      <td>Private</td>\n",
              "      <td>193090</td>\n",
              "      <td>Bachelors</td>\n",
              "      <td>13</td>\n",
              "      <td>Never-married</td>\n",
              "      <td>Adm-clerical</td>\n",
              "      <td>Own-child</td>\n",
              "      <td>White</td>\n",
              "      <td>Female</td>\n",
              "      <td>0</td>\n",
              "      <td>0</td>\n",
              "      <td>30</td>\n",
              "      <td>United-States</td>\n",
              "      <td>0</td>\n",
              "    </tr>\n",
              "    <tr>\n",
              "      <th>4</th>\n",
              "      <td>55</td>\n",
              "      <td>Private</td>\n",
              "      <td>60193</td>\n",
              "      <td>HS-grad</td>\n",
              "      <td>9</td>\n",
              "      <td>Divorced</td>\n",
              "      <td>Adm-clerical</td>\n",
              "      <td>Not-in-family</td>\n",
              "      <td>White</td>\n",
              "      <td>Female</td>\n",
              "      <td>0</td>\n",
              "      <td>0</td>\n",
              "      <td>40</td>\n",
              "      <td>United-States</td>\n",
              "      <td>0</td>\n",
              "    </tr>\n",
              "  </tbody>\n",
              "</table>\n",
              "</div>\n",
              "      <button class=\"colab-df-convert\" onclick=\"convertToInteractive('df-ffa2d740-dd4f-441e-98c5-f77cc1585097')\"\n",
              "              title=\"Convert this dataframe to an interactive table.\"\n",
              "              style=\"display:none;\">\n",
              "        \n",
              "  <svg xmlns=\"http://www.w3.org/2000/svg\" height=\"24px\"viewBox=\"0 0 24 24\"\n",
              "       width=\"24px\">\n",
              "    <path d=\"M0 0h24v24H0V0z\" fill=\"none\"/>\n",
              "    <path d=\"M18.56 5.44l.94 2.06.94-2.06 2.06-.94-2.06-.94-.94-2.06-.94 2.06-2.06.94zm-11 1L8.5 8.5l.94-2.06 2.06-.94-2.06-.94L8.5 2.5l-.94 2.06-2.06.94zm10 10l.94 2.06.94-2.06 2.06-.94-2.06-.94-.94-2.06-.94 2.06-2.06.94z\"/><path d=\"M17.41 7.96l-1.37-1.37c-.4-.4-.92-.59-1.43-.59-.52 0-1.04.2-1.43.59L10.3 9.45l-7.72 7.72c-.78.78-.78 2.05 0 2.83L4 21.41c.39.39.9.59 1.41.59.51 0 1.02-.2 1.41-.59l7.78-7.78 2.81-2.81c.8-.78.8-2.07 0-2.86zM5.41 20L4 18.59l7.72-7.72 1.47 1.35L5.41 20z\"/>\n",
              "  </svg>\n",
              "      </button>\n",
              "      \n",
              "  <style>\n",
              "    .colab-df-container {\n",
              "      display:flex;\n",
              "      flex-wrap:wrap;\n",
              "      gap: 12px;\n",
              "    }\n",
              "\n",
              "    .colab-df-convert {\n",
              "      background-color: #E8F0FE;\n",
              "      border: none;\n",
              "      border-radius: 50%;\n",
              "      cursor: pointer;\n",
              "      display: none;\n",
              "      fill: #1967D2;\n",
              "      height: 32px;\n",
              "      padding: 0 0 0 0;\n",
              "      width: 32px;\n",
              "    }\n",
              "\n",
              "    .colab-df-convert:hover {\n",
              "      background-color: #E2EBFA;\n",
              "      box-shadow: 0px 1px 2px rgba(60, 64, 67, 0.3), 0px 1px 3px 1px rgba(60, 64, 67, 0.15);\n",
              "      fill: #174EA6;\n",
              "    }\n",
              "\n",
              "    [theme=dark] .colab-df-convert {\n",
              "      background-color: #3B4455;\n",
              "      fill: #D2E3FC;\n",
              "    }\n",
              "\n",
              "    [theme=dark] .colab-df-convert:hover {\n",
              "      background-color: #434B5C;\n",
              "      box-shadow: 0px 1px 3px 1px rgba(0, 0, 0, 0.15);\n",
              "      filter: drop-shadow(0px 1px 2px rgba(0, 0, 0, 0.3));\n",
              "      fill: #FFFFFF;\n",
              "    }\n",
              "  </style>\n",
              "\n",
              "      <script>\n",
              "        const buttonEl =\n",
              "          document.querySelector('#df-ffa2d740-dd4f-441e-98c5-f77cc1585097 button.colab-df-convert');\n",
              "        buttonEl.style.display =\n",
              "          google.colab.kernel.accessAllowed ? 'block' : 'none';\n",
              "\n",
              "        async function convertToInteractive(key) {\n",
              "          const element = document.querySelector('#df-ffa2d740-dd4f-441e-98c5-f77cc1585097');\n",
              "          const dataTable =\n",
              "            await google.colab.kernel.invokeFunction('convertToInteractive',\n",
              "                                                     [key], {});\n",
              "          if (!dataTable) return;\n",
              "\n",
              "          const docLinkHtml = 'Like what you see? Visit the ' +\n",
              "            '<a target=\"_blank\" href=https://colab.research.google.com/notebooks/data_table.ipynb>data table notebook</a>'\n",
              "            + ' to learn more about interactive tables.';\n",
              "          element.innerHTML = '';\n",
              "          dataTable['output_type'] = 'display_data';\n",
              "          await google.colab.output.renderOutput(dataTable, element);\n",
              "          const docLink = document.createElement('div');\n",
              "          docLink.innerHTML = docLinkHtml;\n",
              "          element.appendChild(docLink);\n",
              "        }\n",
              "      </script>\n",
              "    </div>\n",
              "  </div>\n",
              "  "
            ]
          },
          "metadata": {}
        },
        {
          "output_type": "stream",
          "name": "stdout",
          "text": [
            "test df\n"
          ]
        },
        {
          "output_type": "display_data",
          "data": {
            "text/plain": [
              "    age     workclass  fnlwgt     education  education.num  \\\n",
              "id                                                           \n",
              "0    47       Private  304133  Some-college             10   \n",
              "1    34  Self-emp-inc  154227  Some-college             10   \n",
              "2    31     Local-gov  158291     Bachelors             13   \n",
              "3    28       Private  183155     Bachelors             13   \n",
              "4    54     Local-gov  182543  Some-college             10   \n",
              "\n",
              "        marital.status       occupation   relationship   race     sex  \\\n",
              "id                                                                      \n",
              "0   Married-civ-spouse  Exec-managerial        Husband  White    Male   \n",
              "1        Never-married            Sales  Not-in-family  White    Male   \n",
              "2        Never-married     Craft-repair  Not-in-family  White    Male   \n",
              "3   Married-civ-spouse   Prof-specialty        Husband  White    Male   \n",
              "4              Widowed     Adm-clerical      Unmarried  White  Female   \n",
              "\n",
              "    capital.gain  capital.loss  hours.per.week native.country  \n",
              "id                                                             \n",
              "0              0             0              45  United-States  \n",
              "1              0             0              75  United-States  \n",
              "2           8614             0              40  United-States  \n",
              "3              0             0              55  United-States  \n",
              "4              0             0              40         Mexico  "
            ],
            "text/html": [
              "\n",
              "  <div id=\"df-bb3b7fe8-0d06-47b1-b980-cdadb7f885fd\">\n",
              "    <div class=\"colab-df-container\">\n",
              "      <div>\n",
              "<style scoped>\n",
              "    .dataframe tbody tr th:only-of-type {\n",
              "        vertical-align: middle;\n",
              "    }\n",
              "\n",
              "    .dataframe tbody tr th {\n",
              "        vertical-align: top;\n",
              "    }\n",
              "\n",
              "    .dataframe thead th {\n",
              "        text-align: right;\n",
              "    }\n",
              "</style>\n",
              "<table border=\"1\" class=\"dataframe\">\n",
              "  <thead>\n",
              "    <tr style=\"text-align: right;\">\n",
              "      <th></th>\n",
              "      <th>age</th>\n",
              "      <th>workclass</th>\n",
              "      <th>fnlwgt</th>\n",
              "      <th>education</th>\n",
              "      <th>education.num</th>\n",
              "      <th>marital.status</th>\n",
              "      <th>occupation</th>\n",
              "      <th>relationship</th>\n",
              "      <th>race</th>\n",
              "      <th>sex</th>\n",
              "      <th>capital.gain</th>\n",
              "      <th>capital.loss</th>\n",
              "      <th>hours.per.week</th>\n",
              "      <th>native.country</th>\n",
              "    </tr>\n",
              "    <tr>\n",
              "      <th>id</th>\n",
              "      <th></th>\n",
              "      <th></th>\n",
              "      <th></th>\n",
              "      <th></th>\n",
              "      <th></th>\n",
              "      <th></th>\n",
              "      <th></th>\n",
              "      <th></th>\n",
              "      <th></th>\n",
              "      <th></th>\n",
              "      <th></th>\n",
              "      <th></th>\n",
              "      <th></th>\n",
              "      <th></th>\n",
              "    </tr>\n",
              "  </thead>\n",
              "  <tbody>\n",
              "    <tr>\n",
              "      <th>0</th>\n",
              "      <td>47</td>\n",
              "      <td>Private</td>\n",
              "      <td>304133</td>\n",
              "      <td>Some-college</td>\n",
              "      <td>10</td>\n",
              "      <td>Married-civ-spouse</td>\n",
              "      <td>Exec-managerial</td>\n",
              "      <td>Husband</td>\n",
              "      <td>White</td>\n",
              "      <td>Male</td>\n",
              "      <td>0</td>\n",
              "      <td>0</td>\n",
              "      <td>45</td>\n",
              "      <td>United-States</td>\n",
              "    </tr>\n",
              "    <tr>\n",
              "      <th>1</th>\n",
              "      <td>34</td>\n",
              "      <td>Self-emp-inc</td>\n",
              "      <td>154227</td>\n",
              "      <td>Some-college</td>\n",
              "      <td>10</td>\n",
              "      <td>Never-married</td>\n",
              "      <td>Sales</td>\n",
              "      <td>Not-in-family</td>\n",
              "      <td>White</td>\n",
              "      <td>Male</td>\n",
              "      <td>0</td>\n",
              "      <td>0</td>\n",
              "      <td>75</td>\n",
              "      <td>United-States</td>\n",
              "    </tr>\n",
              "    <tr>\n",
              "      <th>2</th>\n",
              "      <td>31</td>\n",
              "      <td>Local-gov</td>\n",
              "      <td>158291</td>\n",
              "      <td>Bachelors</td>\n",
              "      <td>13</td>\n",
              "      <td>Never-married</td>\n",
              "      <td>Craft-repair</td>\n",
              "      <td>Not-in-family</td>\n",
              "      <td>White</td>\n",
              "      <td>Male</td>\n",
              "      <td>8614</td>\n",
              "      <td>0</td>\n",
              "      <td>40</td>\n",
              "      <td>United-States</td>\n",
              "    </tr>\n",
              "    <tr>\n",
              "      <th>3</th>\n",
              "      <td>28</td>\n",
              "      <td>Private</td>\n",
              "      <td>183155</td>\n",
              "      <td>Bachelors</td>\n",
              "      <td>13</td>\n",
              "      <td>Married-civ-spouse</td>\n",
              "      <td>Prof-specialty</td>\n",
              "      <td>Husband</td>\n",
              "      <td>White</td>\n",
              "      <td>Male</td>\n",
              "      <td>0</td>\n",
              "      <td>0</td>\n",
              "      <td>55</td>\n",
              "      <td>United-States</td>\n",
              "    </tr>\n",
              "    <tr>\n",
              "      <th>4</th>\n",
              "      <td>54</td>\n",
              "      <td>Local-gov</td>\n",
              "      <td>182543</td>\n",
              "      <td>Some-college</td>\n",
              "      <td>10</td>\n",
              "      <td>Widowed</td>\n",
              "      <td>Adm-clerical</td>\n",
              "      <td>Unmarried</td>\n",
              "      <td>White</td>\n",
              "      <td>Female</td>\n",
              "      <td>0</td>\n",
              "      <td>0</td>\n",
              "      <td>40</td>\n",
              "      <td>Mexico</td>\n",
              "    </tr>\n",
              "  </tbody>\n",
              "</table>\n",
              "</div>\n",
              "      <button class=\"colab-df-convert\" onclick=\"convertToInteractive('df-bb3b7fe8-0d06-47b1-b980-cdadb7f885fd')\"\n",
              "              title=\"Convert this dataframe to an interactive table.\"\n",
              "              style=\"display:none;\">\n",
              "        \n",
              "  <svg xmlns=\"http://www.w3.org/2000/svg\" height=\"24px\"viewBox=\"0 0 24 24\"\n",
              "       width=\"24px\">\n",
              "    <path d=\"M0 0h24v24H0V0z\" fill=\"none\"/>\n",
              "    <path d=\"M18.56 5.44l.94 2.06.94-2.06 2.06-.94-2.06-.94-.94-2.06-.94 2.06-2.06.94zm-11 1L8.5 8.5l.94-2.06 2.06-.94-2.06-.94L8.5 2.5l-.94 2.06-2.06.94zm10 10l.94 2.06.94-2.06 2.06-.94-2.06-.94-.94-2.06-.94 2.06-2.06.94z\"/><path d=\"M17.41 7.96l-1.37-1.37c-.4-.4-.92-.59-1.43-.59-.52 0-1.04.2-1.43.59L10.3 9.45l-7.72 7.72c-.78.78-.78 2.05 0 2.83L4 21.41c.39.39.9.59 1.41.59.51 0 1.02-.2 1.41-.59l7.78-7.78 2.81-2.81c.8-.78.8-2.07 0-2.86zM5.41 20L4 18.59l7.72-7.72 1.47 1.35L5.41 20z\"/>\n",
              "  </svg>\n",
              "      </button>\n",
              "      \n",
              "  <style>\n",
              "    .colab-df-container {\n",
              "      display:flex;\n",
              "      flex-wrap:wrap;\n",
              "      gap: 12px;\n",
              "    }\n",
              "\n",
              "    .colab-df-convert {\n",
              "      background-color: #E8F0FE;\n",
              "      border: none;\n",
              "      border-radius: 50%;\n",
              "      cursor: pointer;\n",
              "      display: none;\n",
              "      fill: #1967D2;\n",
              "      height: 32px;\n",
              "      padding: 0 0 0 0;\n",
              "      width: 32px;\n",
              "    }\n",
              "\n",
              "    .colab-df-convert:hover {\n",
              "      background-color: #E2EBFA;\n",
              "      box-shadow: 0px 1px 2px rgba(60, 64, 67, 0.3), 0px 1px 3px 1px rgba(60, 64, 67, 0.15);\n",
              "      fill: #174EA6;\n",
              "    }\n",
              "\n",
              "    [theme=dark] .colab-df-convert {\n",
              "      background-color: #3B4455;\n",
              "      fill: #D2E3FC;\n",
              "    }\n",
              "\n",
              "    [theme=dark] .colab-df-convert:hover {\n",
              "      background-color: #434B5C;\n",
              "      box-shadow: 0px 1px 3px 1px rgba(0, 0, 0, 0.15);\n",
              "      filter: drop-shadow(0px 1px 2px rgba(0, 0, 0, 0.3));\n",
              "      fill: #FFFFFF;\n",
              "    }\n",
              "  </style>\n",
              "\n",
              "      <script>\n",
              "        const buttonEl =\n",
              "          document.querySelector('#df-bb3b7fe8-0d06-47b1-b980-cdadb7f885fd button.colab-df-convert');\n",
              "        buttonEl.style.display =\n",
              "          google.colab.kernel.accessAllowed ? 'block' : 'none';\n",
              "\n",
              "        async function convertToInteractive(key) {\n",
              "          const element = document.querySelector('#df-bb3b7fe8-0d06-47b1-b980-cdadb7f885fd');\n",
              "          const dataTable =\n",
              "            await google.colab.kernel.invokeFunction('convertToInteractive',\n",
              "                                                     [key], {});\n",
              "          if (!dataTable) return;\n",
              "\n",
              "          const docLinkHtml = 'Like what you see? Visit the ' +\n",
              "            '<a target=\"_blank\" href=https://colab.research.google.com/notebooks/data_table.ipynb>data table notebook</a>'\n",
              "            + ' to learn more about interactive tables.';\n",
              "          element.innerHTML = '';\n",
              "          dataTable['output_type'] = 'display_data';\n",
              "          await google.colab.output.renderOutput(dataTable, element);\n",
              "          const docLink = document.createElement('div');\n",
              "          docLink.innerHTML = docLinkHtml;\n",
              "          element.appendChild(docLink);\n",
              "        }\n",
              "      </script>\n",
              "    </div>\n",
              "  </div>\n",
              "  "
            ]
          },
          "metadata": {}
        }
      ]
    },
    {
      "cell_type": "code",
      "source": [
        "print(\"shape of train: \" , train.shape)\n",
        "print(\"shape of test: \", test.shape)"
      ],
      "metadata": {
        "colab": {
          "base_uri": "https://localhost:8080/"
        },
        "id": "mdI2Q2Y10hoX",
        "outputId": "ece59e86-2006-4b0e-8142-124b25ada28e"
      },
      "execution_count": null,
      "outputs": [
        {
          "output_type": "stream",
          "name": "stdout",
          "text": [
            "shape of train:  (17480, 15)\n",
            "shape of test:  (15081, 14)\n"
          ]
        }
      ]
    },
    {
      "cell_type": "code",
      "source": [
        "# train 값은 결측치가 존재함을 확인할 수 있다.\n",
        "# column은 13개이고, row는 17480개이다.\n",
        "# 범주형 변수는 workclass, eudcation, matrial.status, occupation, relationship, race, sex 이다.\n",
        "train.info()"
      ],
      "metadata": {
        "colab": {
          "base_uri": "https://localhost:8080/"
        },
        "id": "CO9nqy2We6kz",
        "outputId": "7d42b3c0-fce4-45a4-9c3f-388e85cbbc26"
      },
      "execution_count": null,
      "outputs": [
        {
          "output_type": "stream",
          "name": "stdout",
          "text": [
            "<class 'pandas.core.frame.DataFrame'>\n",
            "Int64Index: 17480 entries, 0 to 17479\n",
            "Data columns (total 15 columns):\n",
            " #   Column          Non-Null Count  Dtype \n",
            "---  ------          --------------  ----- \n",
            " 0   age             17480 non-null  int64 \n",
            " 1   workclass       15644 non-null  object\n",
            " 2   fnlwgt          17480 non-null  int64 \n",
            " 3   education       17480 non-null  object\n",
            " 4   education.num   17480 non-null  int64 \n",
            " 5   marital.status  17480 non-null  object\n",
            " 6   occupation      15637 non-null  object\n",
            " 7   relationship    17480 non-null  object\n",
            " 8   race            17480 non-null  object\n",
            " 9   sex             17480 non-null  object\n",
            " 10  capital.gain    17480 non-null  int64 \n",
            " 11  capital.loss    17480 non-null  int64 \n",
            " 12  hours.per.week  17480 non-null  int64 \n",
            " 13  native.country  16897 non-null  object\n",
            " 14  target          17480 non-null  int64 \n",
            "dtypes: int64(7), object(8)\n",
            "memory usage: 2.1+ MB\n"
          ]
        }
      ]
    },
    {
      "cell_type": "code",
      "source": [
        "# train의 경우, workclass, occupation, native country에서 결측치가 확인됨.\n",
        "train.isnull().sum()"
      ],
      "metadata": {
        "colab": {
          "base_uri": "https://localhost:8080/"
        },
        "id": "_6GLUO0yvUYL",
        "outputId": "f52196e1-c159-427f-e2b5-7cc7dbb9183f"
      },
      "execution_count": null,
      "outputs": [
        {
          "output_type": "execute_result",
          "data": {
            "text/plain": [
              "age                  0\n",
              "workclass         1836\n",
              "fnlwgt               0\n",
              "education            0\n",
              "education.num        0\n",
              "marital.status       0\n",
              "occupation        1843\n",
              "relationship         0\n",
              "race                 0\n",
              "sex                  0\n",
              "capital.gain         0\n",
              "capital.loss         0\n",
              "hours.per.week       0\n",
              "native.country     583\n",
              "target               0\n",
              "dtype: int64"
            ]
          },
          "metadata": {},
          "execution_count": 5
        }
      ]
    },
    {
      "cell_type": "code",
      "source": [
        "# 결측치 없음\n",
        "test.info()"
      ],
      "metadata": {
        "colab": {
          "base_uri": "https://localhost:8080/"
        },
        "id": "GRr5Mhg4fChb",
        "outputId": "ff0f0273-340d-4875-89f8-ea3eedbd5a70"
      },
      "execution_count": null,
      "outputs": [
        {
          "output_type": "stream",
          "name": "stdout",
          "text": [
            "<class 'pandas.core.frame.DataFrame'>\n",
            "Int64Index: 15081 entries, 0 to 15080\n",
            "Data columns (total 14 columns):\n",
            " #   Column          Non-Null Count  Dtype \n",
            "---  ------          --------------  ----- \n",
            " 0   age             15081 non-null  int64 \n",
            " 1   workclass       15081 non-null  object\n",
            " 2   fnlwgt          15081 non-null  int64 \n",
            " 3   education       15081 non-null  object\n",
            " 4   education.num   15081 non-null  int64 \n",
            " 5   marital.status  15081 non-null  object\n",
            " 6   occupation      15081 non-null  object\n",
            " 7   relationship    15081 non-null  object\n",
            " 8   race            15081 non-null  object\n",
            " 9   sex             15081 non-null  object\n",
            " 10  capital.gain    15081 non-null  int64 \n",
            " 11  capital.loss    15081 non-null  int64 \n",
            " 12  hours.per.week  15081 non-null  int64 \n",
            " 13  native.country  15081 non-null  object\n",
            "dtypes: int64(6), object(8)\n",
            "memory usage: 1.7+ MB\n"
          ]
        }
      ]
    },
    {
      "cell_type": "code",
      "source": [
        "train.describe()"
      ],
      "metadata": {
        "colab": {
          "base_uri": "https://localhost:8080/"
        },
        "id": "6zFN-glifO-v",
        "outputId": "0f17bbc3-6f04-42cb-ede2-701b1ad4c7f1"
      },
      "execution_count": null,
      "outputs": [
        {
          "output_type": "execute_result",
          "data": {
            "text/plain": [
              "                age        fnlwgt  education.num  capital.gain  capital.loss  \\\n",
              "count  17480.000000  1.748000e+04   17480.000000  17480.000000   17480.00000   \n",
              "mean      38.720995  1.897610e+05      10.036556   1076.644508      83.87460   \n",
              "std       14.079617  1.049929e+05       2.604415   7439.498620     396.03288   \n",
              "min       17.000000  1.228500e+04       1.000000      0.000000       0.00000   \n",
              "25%       27.000000  1.181558e+05       9.000000      0.000000       0.00000   \n",
              "50%       37.000000  1.781340e+05      10.000000      0.000000       0.00000   \n",
              "75%       48.000000  2.373180e+05      12.000000      0.000000       0.00000   \n",
              "max       90.000000  1.455435e+06      16.000000  99999.000000    4356.00000   \n",
              "\n",
              "       hours.per.week        target  \n",
              "count    17480.000000  17480.000000  \n",
              "mean        40.002460      0.234897  \n",
              "std         12.671265      0.423947  \n",
              "min          1.000000      0.000000  \n",
              "25%         38.000000      0.000000  \n",
              "50%         40.000000      0.000000  \n",
              "75%         45.000000      0.000000  \n",
              "max         99.000000      1.000000  "
            ],
            "text/html": [
              "\n",
              "  <div id=\"df-1717957e-f8ec-4995-9f13-ae565ca0743c\">\n",
              "    <div class=\"colab-df-container\">\n",
              "      <div>\n",
              "<style scoped>\n",
              "    .dataframe tbody tr th:only-of-type {\n",
              "        vertical-align: middle;\n",
              "    }\n",
              "\n",
              "    .dataframe tbody tr th {\n",
              "        vertical-align: top;\n",
              "    }\n",
              "\n",
              "    .dataframe thead th {\n",
              "        text-align: right;\n",
              "    }\n",
              "</style>\n",
              "<table border=\"1\" class=\"dataframe\">\n",
              "  <thead>\n",
              "    <tr style=\"text-align: right;\">\n",
              "      <th></th>\n",
              "      <th>age</th>\n",
              "      <th>fnlwgt</th>\n",
              "      <th>education.num</th>\n",
              "      <th>capital.gain</th>\n",
              "      <th>capital.loss</th>\n",
              "      <th>hours.per.week</th>\n",
              "      <th>target</th>\n",
              "    </tr>\n",
              "  </thead>\n",
              "  <tbody>\n",
              "    <tr>\n",
              "      <th>count</th>\n",
              "      <td>17480.000000</td>\n",
              "      <td>1.748000e+04</td>\n",
              "      <td>17480.000000</td>\n",
              "      <td>17480.000000</td>\n",
              "      <td>17480.00000</td>\n",
              "      <td>17480.000000</td>\n",
              "      <td>17480.000000</td>\n",
              "    </tr>\n",
              "    <tr>\n",
              "      <th>mean</th>\n",
              "      <td>38.720995</td>\n",
              "      <td>1.897610e+05</td>\n",
              "      <td>10.036556</td>\n",
              "      <td>1076.644508</td>\n",
              "      <td>83.87460</td>\n",
              "      <td>40.002460</td>\n",
              "      <td>0.234897</td>\n",
              "    </tr>\n",
              "    <tr>\n",
              "      <th>std</th>\n",
              "      <td>14.079617</td>\n",
              "      <td>1.049929e+05</td>\n",
              "      <td>2.604415</td>\n",
              "      <td>7439.498620</td>\n",
              "      <td>396.03288</td>\n",
              "      <td>12.671265</td>\n",
              "      <td>0.423947</td>\n",
              "    </tr>\n",
              "    <tr>\n",
              "      <th>min</th>\n",
              "      <td>17.000000</td>\n",
              "      <td>1.228500e+04</td>\n",
              "      <td>1.000000</td>\n",
              "      <td>0.000000</td>\n",
              "      <td>0.00000</td>\n",
              "      <td>1.000000</td>\n",
              "      <td>0.000000</td>\n",
              "    </tr>\n",
              "    <tr>\n",
              "      <th>25%</th>\n",
              "      <td>27.000000</td>\n",
              "      <td>1.181558e+05</td>\n",
              "      <td>9.000000</td>\n",
              "      <td>0.000000</td>\n",
              "      <td>0.00000</td>\n",
              "      <td>38.000000</td>\n",
              "      <td>0.000000</td>\n",
              "    </tr>\n",
              "    <tr>\n",
              "      <th>50%</th>\n",
              "      <td>37.000000</td>\n",
              "      <td>1.781340e+05</td>\n",
              "      <td>10.000000</td>\n",
              "      <td>0.000000</td>\n",
              "      <td>0.00000</td>\n",
              "      <td>40.000000</td>\n",
              "      <td>0.000000</td>\n",
              "    </tr>\n",
              "    <tr>\n",
              "      <th>75%</th>\n",
              "      <td>48.000000</td>\n",
              "      <td>2.373180e+05</td>\n",
              "      <td>12.000000</td>\n",
              "      <td>0.000000</td>\n",
              "      <td>0.00000</td>\n",
              "      <td>45.000000</td>\n",
              "      <td>0.000000</td>\n",
              "    </tr>\n",
              "    <tr>\n",
              "      <th>max</th>\n",
              "      <td>90.000000</td>\n",
              "      <td>1.455435e+06</td>\n",
              "      <td>16.000000</td>\n",
              "      <td>99999.000000</td>\n",
              "      <td>4356.00000</td>\n",
              "      <td>99.000000</td>\n",
              "      <td>1.000000</td>\n",
              "    </tr>\n",
              "  </tbody>\n",
              "</table>\n",
              "</div>\n",
              "      <button class=\"colab-df-convert\" onclick=\"convertToInteractive('df-1717957e-f8ec-4995-9f13-ae565ca0743c')\"\n",
              "              title=\"Convert this dataframe to an interactive table.\"\n",
              "              style=\"display:none;\">\n",
              "        \n",
              "  <svg xmlns=\"http://www.w3.org/2000/svg\" height=\"24px\"viewBox=\"0 0 24 24\"\n",
              "       width=\"24px\">\n",
              "    <path d=\"M0 0h24v24H0V0z\" fill=\"none\"/>\n",
              "    <path d=\"M18.56 5.44l.94 2.06.94-2.06 2.06-.94-2.06-.94-.94-2.06-.94 2.06-2.06.94zm-11 1L8.5 8.5l.94-2.06 2.06-.94-2.06-.94L8.5 2.5l-.94 2.06-2.06.94zm10 10l.94 2.06.94-2.06 2.06-.94-2.06-.94-.94-2.06-.94 2.06-2.06.94z\"/><path d=\"M17.41 7.96l-1.37-1.37c-.4-.4-.92-.59-1.43-.59-.52 0-1.04.2-1.43.59L10.3 9.45l-7.72 7.72c-.78.78-.78 2.05 0 2.83L4 21.41c.39.39.9.59 1.41.59.51 0 1.02-.2 1.41-.59l7.78-7.78 2.81-2.81c.8-.78.8-2.07 0-2.86zM5.41 20L4 18.59l7.72-7.72 1.47 1.35L5.41 20z\"/>\n",
              "  </svg>\n",
              "      </button>\n",
              "      \n",
              "  <style>\n",
              "    .colab-df-container {\n",
              "      display:flex;\n",
              "      flex-wrap:wrap;\n",
              "      gap: 12px;\n",
              "    }\n",
              "\n",
              "    .colab-df-convert {\n",
              "      background-color: #E8F0FE;\n",
              "      border: none;\n",
              "      border-radius: 50%;\n",
              "      cursor: pointer;\n",
              "      display: none;\n",
              "      fill: #1967D2;\n",
              "      height: 32px;\n",
              "      padding: 0 0 0 0;\n",
              "      width: 32px;\n",
              "    }\n",
              "\n",
              "    .colab-df-convert:hover {\n",
              "      background-color: #E2EBFA;\n",
              "      box-shadow: 0px 1px 2px rgba(60, 64, 67, 0.3), 0px 1px 3px 1px rgba(60, 64, 67, 0.15);\n",
              "      fill: #174EA6;\n",
              "    }\n",
              "\n",
              "    [theme=dark] .colab-df-convert {\n",
              "      background-color: #3B4455;\n",
              "      fill: #D2E3FC;\n",
              "    }\n",
              "\n",
              "    [theme=dark] .colab-df-convert:hover {\n",
              "      background-color: #434B5C;\n",
              "      box-shadow: 0px 1px 3px 1px rgba(0, 0, 0, 0.15);\n",
              "      filter: drop-shadow(0px 1px 2px rgba(0, 0, 0, 0.3));\n",
              "      fill: #FFFFFF;\n",
              "    }\n",
              "  </style>\n",
              "\n",
              "      <script>\n",
              "        const buttonEl =\n",
              "          document.querySelector('#df-1717957e-f8ec-4995-9f13-ae565ca0743c button.colab-df-convert');\n",
              "        buttonEl.style.display =\n",
              "          google.colab.kernel.accessAllowed ? 'block' : 'none';\n",
              "\n",
              "        async function convertToInteractive(key) {\n",
              "          const element = document.querySelector('#df-1717957e-f8ec-4995-9f13-ae565ca0743c');\n",
              "          const dataTable =\n",
              "            await google.colab.kernel.invokeFunction('convertToInteractive',\n",
              "                                                     [key], {});\n",
              "          if (!dataTable) return;\n",
              "\n",
              "          const docLinkHtml = 'Like what you see? Visit the ' +\n",
              "            '<a target=\"_blank\" href=https://colab.research.google.com/notebooks/data_table.ipynb>data table notebook</a>'\n",
              "            + ' to learn more about interactive tables.';\n",
              "          element.innerHTML = '';\n",
              "          dataTable['output_type'] = 'display_data';\n",
              "          await google.colab.output.renderOutput(dataTable, element);\n",
              "          const docLink = document.createElement('div');\n",
              "          docLink.innerHTML = docLinkHtml;\n",
              "          element.appendChild(docLink);\n",
              "        }\n",
              "      </script>\n",
              "    </div>\n",
              "  </div>\n",
              "  "
            ]
          },
          "metadata": {},
          "execution_count": 7
        }
      ]
    },
    {
      "cell_type": "code",
      "source": [
        "#describe를 통해 요약 값들을 확인해 보았을 때는 train과 test는 비슷한 분포를 지닌 것으로 보인다(적어도 수치형 변수에 대해서는)\n",
        "test.describe()"
      ],
      "metadata": {
        "colab": {
          "base_uri": "https://localhost:8080/"
        },
        "id": "Zu0ITIncfksl",
        "outputId": "e3861549-30b1-405c-e369-549b62be8ccb"
      },
      "execution_count": null,
      "outputs": [
        {
          "output_type": "execute_result",
          "data": {
            "text/plain": [
              "                age        fnlwgt  education.num  capital.gain  capital.loss  \\\n",
              "count  15081.000000  1.508100e+04   15081.000000  15081.000000  15081.000000   \n",
              "mean      38.420131  1.897985e+05      10.131821   1078.812943     91.278562   \n",
              "std       13.111605  1.061955e+05       2.534614   7322.206791    410.820751   \n",
              "min       17.000000  1.376900e+04       1.000000      0.000000      0.000000   \n",
              "25%       28.000000  1.176050e+05       9.000000      0.000000      0.000000   \n",
              "50%       37.000000  1.786490e+05      10.000000      0.000000      0.000000   \n",
              "75%       47.000000  2.369070e+05      13.000000      0.000000      0.000000   \n",
              "max       90.000000  1.484705e+06      16.000000  99999.000000   3900.000000   \n",
              "\n",
              "       hours.per.week  \n",
              "count    15081.000000  \n",
              "mean        40.941648  \n",
              "std         11.941720  \n",
              "min          1.000000  \n",
              "25%         40.000000  \n",
              "50%         40.000000  \n",
              "75%         45.000000  \n",
              "max         99.000000  "
            ],
            "text/html": [
              "\n",
              "  <div id=\"df-eae7fa80-3517-40ac-8d9f-7f48b7656260\">\n",
              "    <div class=\"colab-df-container\">\n",
              "      <div>\n",
              "<style scoped>\n",
              "    .dataframe tbody tr th:only-of-type {\n",
              "        vertical-align: middle;\n",
              "    }\n",
              "\n",
              "    .dataframe tbody tr th {\n",
              "        vertical-align: top;\n",
              "    }\n",
              "\n",
              "    .dataframe thead th {\n",
              "        text-align: right;\n",
              "    }\n",
              "</style>\n",
              "<table border=\"1\" class=\"dataframe\">\n",
              "  <thead>\n",
              "    <tr style=\"text-align: right;\">\n",
              "      <th></th>\n",
              "      <th>age</th>\n",
              "      <th>fnlwgt</th>\n",
              "      <th>education.num</th>\n",
              "      <th>capital.gain</th>\n",
              "      <th>capital.loss</th>\n",
              "      <th>hours.per.week</th>\n",
              "    </tr>\n",
              "  </thead>\n",
              "  <tbody>\n",
              "    <tr>\n",
              "      <th>count</th>\n",
              "      <td>15081.000000</td>\n",
              "      <td>1.508100e+04</td>\n",
              "      <td>15081.000000</td>\n",
              "      <td>15081.000000</td>\n",
              "      <td>15081.000000</td>\n",
              "      <td>15081.000000</td>\n",
              "    </tr>\n",
              "    <tr>\n",
              "      <th>mean</th>\n",
              "      <td>38.420131</td>\n",
              "      <td>1.897985e+05</td>\n",
              "      <td>10.131821</td>\n",
              "      <td>1078.812943</td>\n",
              "      <td>91.278562</td>\n",
              "      <td>40.941648</td>\n",
              "    </tr>\n",
              "    <tr>\n",
              "      <th>std</th>\n",
              "      <td>13.111605</td>\n",
              "      <td>1.061955e+05</td>\n",
              "      <td>2.534614</td>\n",
              "      <td>7322.206791</td>\n",
              "      <td>410.820751</td>\n",
              "      <td>11.941720</td>\n",
              "    </tr>\n",
              "    <tr>\n",
              "      <th>min</th>\n",
              "      <td>17.000000</td>\n",
              "      <td>1.376900e+04</td>\n",
              "      <td>1.000000</td>\n",
              "      <td>0.000000</td>\n",
              "      <td>0.000000</td>\n",
              "      <td>1.000000</td>\n",
              "    </tr>\n",
              "    <tr>\n",
              "      <th>25%</th>\n",
              "      <td>28.000000</td>\n",
              "      <td>1.176050e+05</td>\n",
              "      <td>9.000000</td>\n",
              "      <td>0.000000</td>\n",
              "      <td>0.000000</td>\n",
              "      <td>40.000000</td>\n",
              "    </tr>\n",
              "    <tr>\n",
              "      <th>50%</th>\n",
              "      <td>37.000000</td>\n",
              "      <td>1.786490e+05</td>\n",
              "      <td>10.000000</td>\n",
              "      <td>0.000000</td>\n",
              "      <td>0.000000</td>\n",
              "      <td>40.000000</td>\n",
              "    </tr>\n",
              "    <tr>\n",
              "      <th>75%</th>\n",
              "      <td>47.000000</td>\n",
              "      <td>2.369070e+05</td>\n",
              "      <td>13.000000</td>\n",
              "      <td>0.000000</td>\n",
              "      <td>0.000000</td>\n",
              "      <td>45.000000</td>\n",
              "    </tr>\n",
              "    <tr>\n",
              "      <th>max</th>\n",
              "      <td>90.000000</td>\n",
              "      <td>1.484705e+06</td>\n",
              "      <td>16.000000</td>\n",
              "      <td>99999.000000</td>\n",
              "      <td>3900.000000</td>\n",
              "      <td>99.000000</td>\n",
              "    </tr>\n",
              "  </tbody>\n",
              "</table>\n",
              "</div>\n",
              "      <button class=\"colab-df-convert\" onclick=\"convertToInteractive('df-eae7fa80-3517-40ac-8d9f-7f48b7656260')\"\n",
              "              title=\"Convert this dataframe to an interactive table.\"\n",
              "              style=\"display:none;\">\n",
              "        \n",
              "  <svg xmlns=\"http://www.w3.org/2000/svg\" height=\"24px\"viewBox=\"0 0 24 24\"\n",
              "       width=\"24px\">\n",
              "    <path d=\"M0 0h24v24H0V0z\" fill=\"none\"/>\n",
              "    <path d=\"M18.56 5.44l.94 2.06.94-2.06 2.06-.94-2.06-.94-.94-2.06-.94 2.06-2.06.94zm-11 1L8.5 8.5l.94-2.06 2.06-.94-2.06-.94L8.5 2.5l-.94 2.06-2.06.94zm10 10l.94 2.06.94-2.06 2.06-.94-2.06-.94-.94-2.06-.94 2.06-2.06.94z\"/><path d=\"M17.41 7.96l-1.37-1.37c-.4-.4-.92-.59-1.43-.59-.52 0-1.04.2-1.43.59L10.3 9.45l-7.72 7.72c-.78.78-.78 2.05 0 2.83L4 21.41c.39.39.9.59 1.41.59.51 0 1.02-.2 1.41-.59l7.78-7.78 2.81-2.81c.8-.78.8-2.07 0-2.86zM5.41 20L4 18.59l7.72-7.72 1.47 1.35L5.41 20z\"/>\n",
              "  </svg>\n",
              "      </button>\n",
              "      \n",
              "  <style>\n",
              "    .colab-df-container {\n",
              "      display:flex;\n",
              "      flex-wrap:wrap;\n",
              "      gap: 12px;\n",
              "    }\n",
              "\n",
              "    .colab-df-convert {\n",
              "      background-color: #E8F0FE;\n",
              "      border: none;\n",
              "      border-radius: 50%;\n",
              "      cursor: pointer;\n",
              "      display: none;\n",
              "      fill: #1967D2;\n",
              "      height: 32px;\n",
              "      padding: 0 0 0 0;\n",
              "      width: 32px;\n",
              "    }\n",
              "\n",
              "    .colab-df-convert:hover {\n",
              "      background-color: #E2EBFA;\n",
              "      box-shadow: 0px 1px 2px rgba(60, 64, 67, 0.3), 0px 1px 3px 1px rgba(60, 64, 67, 0.15);\n",
              "      fill: #174EA6;\n",
              "    }\n",
              "\n",
              "    [theme=dark] .colab-df-convert {\n",
              "      background-color: #3B4455;\n",
              "      fill: #D2E3FC;\n",
              "    }\n",
              "\n",
              "    [theme=dark] .colab-df-convert:hover {\n",
              "      background-color: #434B5C;\n",
              "      box-shadow: 0px 1px 3px 1px rgba(0, 0, 0, 0.15);\n",
              "      filter: drop-shadow(0px 1px 2px rgba(0, 0, 0, 0.3));\n",
              "      fill: #FFFFFF;\n",
              "    }\n",
              "  </style>\n",
              "\n",
              "      <script>\n",
              "        const buttonEl =\n",
              "          document.querySelector('#df-eae7fa80-3517-40ac-8d9f-7f48b7656260 button.colab-df-convert');\n",
              "        buttonEl.style.display =\n",
              "          google.colab.kernel.accessAllowed ? 'block' : 'none';\n",
              "\n",
              "        async function convertToInteractive(key) {\n",
              "          const element = document.querySelector('#df-eae7fa80-3517-40ac-8d9f-7f48b7656260');\n",
              "          const dataTable =\n",
              "            await google.colab.kernel.invokeFunction('convertToInteractive',\n",
              "                                                     [key], {});\n",
              "          if (!dataTable) return;\n",
              "\n",
              "          const docLinkHtml = 'Like what you see? Visit the ' +\n",
              "            '<a target=\"_blank\" href=https://colab.research.google.com/notebooks/data_table.ipynb>data table notebook</a>'\n",
              "            + ' to learn more about interactive tables.';\n",
              "          element.innerHTML = '';\n",
              "          dataTable['output_type'] = 'display_data';\n",
              "          await google.colab.output.renderOutput(dataTable, element);\n",
              "          const docLink = document.createElement('div');\n",
              "          docLink.innerHTML = docLinkHtml;\n",
              "          element.appendChild(docLink);\n",
              "        }\n",
              "      </script>\n",
              "    </div>\n",
              "  </div>\n",
              "  "
            ]
          },
          "metadata": {},
          "execution_count": 8
        }
      ]
    },
    {
      "cell_type": "markdown",
      "source": [
        "### 범주형 변수 처리하기"
      ],
      "metadata": {
        "id": "VxLixTOdgGs3"
      }
    },
    {
      "cell_type": "markdown",
      "source": [
        "#### workclass"
      ],
      "metadata": {
        "id": "5xuGHLJ0kkgJ"
      }
    },
    {
      "cell_type": "code",
      "source": [
        "# train data에는 Never-worked가 존재하지만 test data에는 존재하지 않는다. 따라서 Never-worked를 가진 열은 제외해도 될 것 같다.\n",
        "train['workclass'].value_counts()"
      ],
      "metadata": {
        "colab": {
          "base_uri": "https://localhost:8080/"
        },
        "id": "ymG0T4I8f4bf",
        "outputId": "b9d34fb6-16cd-4500-d6a2-b0a214afc9c3"
      },
      "execution_count": null,
      "outputs": [
        {
          "output_type": "execute_result",
          "data": {
            "text/plain": [
              "Private             11568\n",
              "Self-emp-not-inc     1272\n",
              "Local-gov            1053\n",
              "State-gov             659\n",
              "Self-emp-inc          594\n",
              "Federal-gov           485\n",
              "Never-worked            7\n",
              "Without-pay             6\n",
              "Name: workclass, dtype: int64"
            ]
          },
          "metadata": {},
          "execution_count": 9
        }
      ]
    },
    {
      "cell_type": "code",
      "source": [
        "test['workclass'].value_counts()"
      ],
      "metadata": {
        "colab": {
          "base_uri": "https://localhost:8080/"
        },
        "id": "3BczKpA9g7F1",
        "outputId": "390edd4f-e433-4452-fcba-d9d304732ba9"
      },
      "execution_count": null,
      "outputs": [
        {
          "output_type": "execute_result",
          "data": {
            "text/plain": [
              "Private             11128\n",
              "Self-emp-not-inc     1269\n",
              "Local-gov            1040\n",
              "State-gov             639\n",
              "Self-emp-inc          522\n",
              "Federal-gov           475\n",
              "Without-pay             8\n",
              "Name: workclass, dtype: int64"
            ]
          },
          "metadata": {},
          "execution_count": 10
        }
      ]
    },
    {
      "cell_type": "code",
      "source": [
        "# Never-worked 제외\n",
        "train = train[train['workclass'] != 'Never-worked'].reset_index(drop=True)\n",
        "train.head()"
      ],
      "metadata": {
        "colab": {
          "base_uri": "https://localhost:8080/"
        },
        "id": "dT0x1wMbhMmr",
        "outputId": "0f8c660c-444d-4f29-b8e3-3b96389fabe9"
      },
      "execution_count": null,
      "outputs": [
        {
          "output_type": "execute_result",
          "data": {
            "text/plain": [
              "   age workclass  fnlwgt     education  education.num      marital.status  \\\n",
              "0   32   Private  309513    Assoc-acdm             12  Married-civ-spouse   \n",
              "1   33   Private  205469  Some-college             10  Married-civ-spouse   \n",
              "2   46   Private  149949  Some-college             10  Married-civ-spouse   \n",
              "3   23   Private  193090     Bachelors             13       Never-married   \n",
              "4   55   Private   60193       HS-grad              9            Divorced   \n",
              "\n",
              "        occupation   relationship   race     sex  capital.gain  capital.loss  \\\n",
              "0     Craft-repair        Husband  White    Male             0             0   \n",
              "1  Exec-managerial        Husband  White    Male             0             0   \n",
              "2     Craft-repair        Husband  White    Male             0             0   \n",
              "3     Adm-clerical      Own-child  White  Female             0             0   \n",
              "4     Adm-clerical  Not-in-family  White  Female             0             0   \n",
              "\n",
              "   hours.per.week native.country  target  \n",
              "0              40  United-States       0  \n",
              "1              40  United-States       1  \n",
              "2              40  United-States       0  \n",
              "3              30  United-States       0  \n",
              "4              40  United-States       0  "
            ],
            "text/html": [
              "\n",
              "  <div id=\"df-c3fdfa01-a6a4-4bae-aa51-6d9620ab99de\">\n",
              "    <div class=\"colab-df-container\">\n",
              "      <div>\n",
              "<style scoped>\n",
              "    .dataframe tbody tr th:only-of-type {\n",
              "        vertical-align: middle;\n",
              "    }\n",
              "\n",
              "    .dataframe tbody tr th {\n",
              "        vertical-align: top;\n",
              "    }\n",
              "\n",
              "    .dataframe thead th {\n",
              "        text-align: right;\n",
              "    }\n",
              "</style>\n",
              "<table border=\"1\" class=\"dataframe\">\n",
              "  <thead>\n",
              "    <tr style=\"text-align: right;\">\n",
              "      <th></th>\n",
              "      <th>age</th>\n",
              "      <th>workclass</th>\n",
              "      <th>fnlwgt</th>\n",
              "      <th>education</th>\n",
              "      <th>education.num</th>\n",
              "      <th>marital.status</th>\n",
              "      <th>occupation</th>\n",
              "      <th>relationship</th>\n",
              "      <th>race</th>\n",
              "      <th>sex</th>\n",
              "      <th>capital.gain</th>\n",
              "      <th>capital.loss</th>\n",
              "      <th>hours.per.week</th>\n",
              "      <th>native.country</th>\n",
              "      <th>target</th>\n",
              "    </tr>\n",
              "  </thead>\n",
              "  <tbody>\n",
              "    <tr>\n",
              "      <th>0</th>\n",
              "      <td>32</td>\n",
              "      <td>Private</td>\n",
              "      <td>309513</td>\n",
              "      <td>Assoc-acdm</td>\n",
              "      <td>12</td>\n",
              "      <td>Married-civ-spouse</td>\n",
              "      <td>Craft-repair</td>\n",
              "      <td>Husband</td>\n",
              "      <td>White</td>\n",
              "      <td>Male</td>\n",
              "      <td>0</td>\n",
              "      <td>0</td>\n",
              "      <td>40</td>\n",
              "      <td>United-States</td>\n",
              "      <td>0</td>\n",
              "    </tr>\n",
              "    <tr>\n",
              "      <th>1</th>\n",
              "      <td>33</td>\n",
              "      <td>Private</td>\n",
              "      <td>205469</td>\n",
              "      <td>Some-college</td>\n",
              "      <td>10</td>\n",
              "      <td>Married-civ-spouse</td>\n",
              "      <td>Exec-managerial</td>\n",
              "      <td>Husband</td>\n",
              "      <td>White</td>\n",
              "      <td>Male</td>\n",
              "      <td>0</td>\n",
              "      <td>0</td>\n",
              "      <td>40</td>\n",
              "      <td>United-States</td>\n",
              "      <td>1</td>\n",
              "    </tr>\n",
              "    <tr>\n",
              "      <th>2</th>\n",
              "      <td>46</td>\n",
              "      <td>Private</td>\n",
              "      <td>149949</td>\n",
              "      <td>Some-college</td>\n",
              "      <td>10</td>\n",
              "      <td>Married-civ-spouse</td>\n",
              "      <td>Craft-repair</td>\n",
              "      <td>Husband</td>\n",
              "      <td>White</td>\n",
              "      <td>Male</td>\n",
              "      <td>0</td>\n",
              "      <td>0</td>\n",
              "      <td>40</td>\n",
              "      <td>United-States</td>\n",
              "      <td>0</td>\n",
              "    </tr>\n",
              "    <tr>\n",
              "      <th>3</th>\n",
              "      <td>23</td>\n",
              "      <td>Private</td>\n",
              "      <td>193090</td>\n",
              "      <td>Bachelors</td>\n",
              "      <td>13</td>\n",
              "      <td>Never-married</td>\n",
              "      <td>Adm-clerical</td>\n",
              "      <td>Own-child</td>\n",
              "      <td>White</td>\n",
              "      <td>Female</td>\n",
              "      <td>0</td>\n",
              "      <td>0</td>\n",
              "      <td>30</td>\n",
              "      <td>United-States</td>\n",
              "      <td>0</td>\n",
              "    </tr>\n",
              "    <tr>\n",
              "      <th>4</th>\n",
              "      <td>55</td>\n",
              "      <td>Private</td>\n",
              "      <td>60193</td>\n",
              "      <td>HS-grad</td>\n",
              "      <td>9</td>\n",
              "      <td>Divorced</td>\n",
              "      <td>Adm-clerical</td>\n",
              "      <td>Not-in-family</td>\n",
              "      <td>White</td>\n",
              "      <td>Female</td>\n",
              "      <td>0</td>\n",
              "      <td>0</td>\n",
              "      <td>40</td>\n",
              "      <td>United-States</td>\n",
              "      <td>0</td>\n",
              "    </tr>\n",
              "  </tbody>\n",
              "</table>\n",
              "</div>\n",
              "      <button class=\"colab-df-convert\" onclick=\"convertToInteractive('df-c3fdfa01-a6a4-4bae-aa51-6d9620ab99de')\"\n",
              "              title=\"Convert this dataframe to an interactive table.\"\n",
              "              style=\"display:none;\">\n",
              "        \n",
              "  <svg xmlns=\"http://www.w3.org/2000/svg\" height=\"24px\"viewBox=\"0 0 24 24\"\n",
              "       width=\"24px\">\n",
              "    <path d=\"M0 0h24v24H0V0z\" fill=\"none\"/>\n",
              "    <path d=\"M18.56 5.44l.94 2.06.94-2.06 2.06-.94-2.06-.94-.94-2.06-.94 2.06-2.06.94zm-11 1L8.5 8.5l.94-2.06 2.06-.94-2.06-.94L8.5 2.5l-.94 2.06-2.06.94zm10 10l.94 2.06.94-2.06 2.06-.94-2.06-.94-.94-2.06-.94 2.06-2.06.94z\"/><path d=\"M17.41 7.96l-1.37-1.37c-.4-.4-.92-.59-1.43-.59-.52 0-1.04.2-1.43.59L10.3 9.45l-7.72 7.72c-.78.78-.78 2.05 0 2.83L4 21.41c.39.39.9.59 1.41.59.51 0 1.02-.2 1.41-.59l7.78-7.78 2.81-2.81c.8-.78.8-2.07 0-2.86zM5.41 20L4 18.59l7.72-7.72 1.47 1.35L5.41 20z\"/>\n",
              "  </svg>\n",
              "      </button>\n",
              "      \n",
              "  <style>\n",
              "    .colab-df-container {\n",
              "      display:flex;\n",
              "      flex-wrap:wrap;\n",
              "      gap: 12px;\n",
              "    }\n",
              "\n",
              "    .colab-df-convert {\n",
              "      background-color: #E8F0FE;\n",
              "      border: none;\n",
              "      border-radius: 50%;\n",
              "      cursor: pointer;\n",
              "      display: none;\n",
              "      fill: #1967D2;\n",
              "      height: 32px;\n",
              "      padding: 0 0 0 0;\n",
              "      width: 32px;\n",
              "    }\n",
              "\n",
              "    .colab-df-convert:hover {\n",
              "      background-color: #E2EBFA;\n",
              "      box-shadow: 0px 1px 2px rgba(60, 64, 67, 0.3), 0px 1px 3px 1px rgba(60, 64, 67, 0.15);\n",
              "      fill: #174EA6;\n",
              "    }\n",
              "\n",
              "    [theme=dark] .colab-df-convert {\n",
              "      background-color: #3B4455;\n",
              "      fill: #D2E3FC;\n",
              "    }\n",
              "\n",
              "    [theme=dark] .colab-df-convert:hover {\n",
              "      background-color: #434B5C;\n",
              "      box-shadow: 0px 1px 3px 1px rgba(0, 0, 0, 0.15);\n",
              "      filter: drop-shadow(0px 1px 2px rgba(0, 0, 0, 0.3));\n",
              "      fill: #FFFFFF;\n",
              "    }\n",
              "  </style>\n",
              "\n",
              "      <script>\n",
              "        const buttonEl =\n",
              "          document.querySelector('#df-c3fdfa01-a6a4-4bae-aa51-6d9620ab99de button.colab-df-convert');\n",
              "        buttonEl.style.display =\n",
              "          google.colab.kernel.accessAllowed ? 'block' : 'none';\n",
              "\n",
              "        async function convertToInteractive(key) {\n",
              "          const element = document.querySelector('#df-c3fdfa01-a6a4-4bae-aa51-6d9620ab99de');\n",
              "          const dataTable =\n",
              "            await google.colab.kernel.invokeFunction('convertToInteractive',\n",
              "                                                     [key], {});\n",
              "          if (!dataTable) return;\n",
              "\n",
              "          const docLinkHtml = 'Like what you see? Visit the ' +\n",
              "            '<a target=\"_blank\" href=https://colab.research.google.com/notebooks/data_table.ipynb>data table notebook</a>'\n",
              "            + ' to learn more about interactive tables.';\n",
              "          element.innerHTML = '';\n",
              "          dataTable['output_type'] = 'display_data';\n",
              "          await google.colab.output.renderOutput(dataTable, element);\n",
              "          const docLink = document.createElement('div');\n",
              "          docLink.innerHTML = docLinkHtml;\n",
              "          element.appendChild(docLink);\n",
              "        }\n",
              "      </script>\n",
              "    </div>\n",
              "  </div>\n",
              "  "
            ]
          },
          "metadata": {},
          "execution_count": 11
        }
      ]
    },
    {
      "cell_type": "code",
      "source": [
        "# train에서 target이 1인 비율이 높은 순으로 label을 정하기로 한다\n",
        "# 따라서 Self-emp-inc, Federal-gov, Local-gov, Self-emp-not-inc, Private, Without-pay순으로 정하기로 한다.\n",
        "workclass = test['workclass'].unique()\n",
        "\n",
        "for kind in workclass:\n",
        "  data = train[train['workclass'] == kind]\n",
        "  proportion = round(np.sum(data['target']) / len(data),4)\n",
        "  print(f\"{kind}: {proportion}\")"
      ],
      "metadata": {
        "colab": {
          "base_uri": "https://localhost:8080/"
        },
        "id": "Wwe2eIaCh3Li",
        "outputId": "eeba8a53-3e16-41d2-e41f-6657c279dc9e"
      },
      "execution_count": null,
      "outputs": [
        {
          "output_type": "stream",
          "name": "stdout",
          "text": [
            "Private: 0.2189\n",
            "Self-emp-inc: 0.5438\n",
            "Local-gov: 0.301\n",
            "State-gov: 0.2838\n",
            "Federal-gov: 0.3773\n",
            "Self-emp-not-inc: 0.2932\n",
            "Without-pay: 0.0\n"
          ]
        }
      ]
    },
    {
      "cell_type": "code",
      "source": [
        "# 한편, 결측치의 경우 제외시키기로 한다(최빈값 혹인 중위 값 등으로 채워넣기에는 무리가 있다.)\n",
        "train.dropna(subset=['workclass'], inplace=True)\n",
        "train.head()"
      ],
      "metadata": {
        "colab": {
          "base_uri": "https://localhost:8080/"
        },
        "id": "5pGooyyTkUbq",
        "outputId": "16470ba5-efdc-407d-c260-fdaede51c4b3"
      },
      "execution_count": null,
      "outputs": [
        {
          "output_type": "execute_result",
          "data": {
            "text/plain": [
              "   age workclass  fnlwgt     education  education.num      marital.status  \\\n",
              "0   32   Private  309513    Assoc-acdm             12  Married-civ-spouse   \n",
              "1   33   Private  205469  Some-college             10  Married-civ-spouse   \n",
              "2   46   Private  149949  Some-college             10  Married-civ-spouse   \n",
              "3   23   Private  193090     Bachelors             13       Never-married   \n",
              "4   55   Private   60193       HS-grad              9            Divorced   \n",
              "\n",
              "        occupation   relationship   race     sex  capital.gain  capital.loss  \\\n",
              "0     Craft-repair        Husband  White    Male             0             0   \n",
              "1  Exec-managerial        Husband  White    Male             0             0   \n",
              "2     Craft-repair        Husband  White    Male             0             0   \n",
              "3     Adm-clerical      Own-child  White  Female             0             0   \n",
              "4     Adm-clerical  Not-in-family  White  Female             0             0   \n",
              "\n",
              "   hours.per.week native.country  target  \n",
              "0              40  United-States       0  \n",
              "1              40  United-States       1  \n",
              "2              40  United-States       0  \n",
              "3              30  United-States       0  \n",
              "4              40  United-States       0  "
            ],
            "text/html": [
              "\n",
              "  <div id=\"df-bae09d73-eec1-4459-ad6e-3decd186c64b\">\n",
              "    <div class=\"colab-df-container\">\n",
              "      <div>\n",
              "<style scoped>\n",
              "    .dataframe tbody tr th:only-of-type {\n",
              "        vertical-align: middle;\n",
              "    }\n",
              "\n",
              "    .dataframe tbody tr th {\n",
              "        vertical-align: top;\n",
              "    }\n",
              "\n",
              "    .dataframe thead th {\n",
              "        text-align: right;\n",
              "    }\n",
              "</style>\n",
              "<table border=\"1\" class=\"dataframe\">\n",
              "  <thead>\n",
              "    <tr style=\"text-align: right;\">\n",
              "      <th></th>\n",
              "      <th>age</th>\n",
              "      <th>workclass</th>\n",
              "      <th>fnlwgt</th>\n",
              "      <th>education</th>\n",
              "      <th>education.num</th>\n",
              "      <th>marital.status</th>\n",
              "      <th>occupation</th>\n",
              "      <th>relationship</th>\n",
              "      <th>race</th>\n",
              "      <th>sex</th>\n",
              "      <th>capital.gain</th>\n",
              "      <th>capital.loss</th>\n",
              "      <th>hours.per.week</th>\n",
              "      <th>native.country</th>\n",
              "      <th>target</th>\n",
              "    </tr>\n",
              "  </thead>\n",
              "  <tbody>\n",
              "    <tr>\n",
              "      <th>0</th>\n",
              "      <td>32</td>\n",
              "      <td>Private</td>\n",
              "      <td>309513</td>\n",
              "      <td>Assoc-acdm</td>\n",
              "      <td>12</td>\n",
              "      <td>Married-civ-spouse</td>\n",
              "      <td>Craft-repair</td>\n",
              "      <td>Husband</td>\n",
              "      <td>White</td>\n",
              "      <td>Male</td>\n",
              "      <td>0</td>\n",
              "      <td>0</td>\n",
              "      <td>40</td>\n",
              "      <td>United-States</td>\n",
              "      <td>0</td>\n",
              "    </tr>\n",
              "    <tr>\n",
              "      <th>1</th>\n",
              "      <td>33</td>\n",
              "      <td>Private</td>\n",
              "      <td>205469</td>\n",
              "      <td>Some-college</td>\n",
              "      <td>10</td>\n",
              "      <td>Married-civ-spouse</td>\n",
              "      <td>Exec-managerial</td>\n",
              "      <td>Husband</td>\n",
              "      <td>White</td>\n",
              "      <td>Male</td>\n",
              "      <td>0</td>\n",
              "      <td>0</td>\n",
              "      <td>40</td>\n",
              "      <td>United-States</td>\n",
              "      <td>1</td>\n",
              "    </tr>\n",
              "    <tr>\n",
              "      <th>2</th>\n",
              "      <td>46</td>\n",
              "      <td>Private</td>\n",
              "      <td>149949</td>\n",
              "      <td>Some-college</td>\n",
              "      <td>10</td>\n",
              "      <td>Married-civ-spouse</td>\n",
              "      <td>Craft-repair</td>\n",
              "      <td>Husband</td>\n",
              "      <td>White</td>\n",
              "      <td>Male</td>\n",
              "      <td>0</td>\n",
              "      <td>0</td>\n",
              "      <td>40</td>\n",
              "      <td>United-States</td>\n",
              "      <td>0</td>\n",
              "    </tr>\n",
              "    <tr>\n",
              "      <th>3</th>\n",
              "      <td>23</td>\n",
              "      <td>Private</td>\n",
              "      <td>193090</td>\n",
              "      <td>Bachelors</td>\n",
              "      <td>13</td>\n",
              "      <td>Never-married</td>\n",
              "      <td>Adm-clerical</td>\n",
              "      <td>Own-child</td>\n",
              "      <td>White</td>\n",
              "      <td>Female</td>\n",
              "      <td>0</td>\n",
              "      <td>0</td>\n",
              "      <td>30</td>\n",
              "      <td>United-States</td>\n",
              "      <td>0</td>\n",
              "    </tr>\n",
              "    <tr>\n",
              "      <th>4</th>\n",
              "      <td>55</td>\n",
              "      <td>Private</td>\n",
              "      <td>60193</td>\n",
              "      <td>HS-grad</td>\n",
              "      <td>9</td>\n",
              "      <td>Divorced</td>\n",
              "      <td>Adm-clerical</td>\n",
              "      <td>Not-in-family</td>\n",
              "      <td>White</td>\n",
              "      <td>Female</td>\n",
              "      <td>0</td>\n",
              "      <td>0</td>\n",
              "      <td>40</td>\n",
              "      <td>United-States</td>\n",
              "      <td>0</td>\n",
              "    </tr>\n",
              "  </tbody>\n",
              "</table>\n",
              "</div>\n",
              "      <button class=\"colab-df-convert\" onclick=\"convertToInteractive('df-bae09d73-eec1-4459-ad6e-3decd186c64b')\"\n",
              "              title=\"Convert this dataframe to an interactive table.\"\n",
              "              style=\"display:none;\">\n",
              "        \n",
              "  <svg xmlns=\"http://www.w3.org/2000/svg\" height=\"24px\"viewBox=\"0 0 24 24\"\n",
              "       width=\"24px\">\n",
              "    <path d=\"M0 0h24v24H0V0z\" fill=\"none\"/>\n",
              "    <path d=\"M18.56 5.44l.94 2.06.94-2.06 2.06-.94-2.06-.94-.94-2.06-.94 2.06-2.06.94zm-11 1L8.5 8.5l.94-2.06 2.06-.94-2.06-.94L8.5 2.5l-.94 2.06-2.06.94zm10 10l.94 2.06.94-2.06 2.06-.94-2.06-.94-.94-2.06-.94 2.06-2.06.94z\"/><path d=\"M17.41 7.96l-1.37-1.37c-.4-.4-.92-.59-1.43-.59-.52 0-1.04.2-1.43.59L10.3 9.45l-7.72 7.72c-.78.78-.78 2.05 0 2.83L4 21.41c.39.39.9.59 1.41.59.51 0 1.02-.2 1.41-.59l7.78-7.78 2.81-2.81c.8-.78.8-2.07 0-2.86zM5.41 20L4 18.59l7.72-7.72 1.47 1.35L5.41 20z\"/>\n",
              "  </svg>\n",
              "      </button>\n",
              "      \n",
              "  <style>\n",
              "    .colab-df-container {\n",
              "      display:flex;\n",
              "      flex-wrap:wrap;\n",
              "      gap: 12px;\n",
              "    }\n",
              "\n",
              "    .colab-df-convert {\n",
              "      background-color: #E8F0FE;\n",
              "      border: none;\n",
              "      border-radius: 50%;\n",
              "      cursor: pointer;\n",
              "      display: none;\n",
              "      fill: #1967D2;\n",
              "      height: 32px;\n",
              "      padding: 0 0 0 0;\n",
              "      width: 32px;\n",
              "    }\n",
              "\n",
              "    .colab-df-convert:hover {\n",
              "      background-color: #E2EBFA;\n",
              "      box-shadow: 0px 1px 2px rgba(60, 64, 67, 0.3), 0px 1px 3px 1px rgba(60, 64, 67, 0.15);\n",
              "      fill: #174EA6;\n",
              "    }\n",
              "\n",
              "    [theme=dark] .colab-df-convert {\n",
              "      background-color: #3B4455;\n",
              "      fill: #D2E3FC;\n",
              "    }\n",
              "\n",
              "    [theme=dark] .colab-df-convert:hover {\n",
              "      background-color: #434B5C;\n",
              "      box-shadow: 0px 1px 3px 1px rgba(0, 0, 0, 0.15);\n",
              "      filter: drop-shadow(0px 1px 2px rgba(0, 0, 0, 0.3));\n",
              "      fill: #FFFFFF;\n",
              "    }\n",
              "  </style>\n",
              "\n",
              "      <script>\n",
              "        const buttonEl =\n",
              "          document.querySelector('#df-bae09d73-eec1-4459-ad6e-3decd186c64b button.colab-df-convert');\n",
              "        buttonEl.style.display =\n",
              "          google.colab.kernel.accessAllowed ? 'block' : 'none';\n",
              "\n",
              "        async function convertToInteractive(key) {\n",
              "          const element = document.querySelector('#df-bae09d73-eec1-4459-ad6e-3decd186c64b');\n",
              "          const dataTable =\n",
              "            await google.colab.kernel.invokeFunction('convertToInteractive',\n",
              "                                                     [key], {});\n",
              "          if (!dataTable) return;\n",
              "\n",
              "          const docLinkHtml = 'Like what you see? Visit the ' +\n",
              "            '<a target=\"_blank\" href=https://colab.research.google.com/notebooks/data_table.ipynb>data table notebook</a>'\n",
              "            + ' to learn more about interactive tables.';\n",
              "          element.innerHTML = '';\n",
              "          dataTable['output_type'] = 'display_data';\n",
              "          await google.colab.output.renderOutput(dataTable, element);\n",
              "          const docLink = document.createElement('div');\n",
              "          docLink.innerHTML = docLinkHtml;\n",
              "          element.appendChild(docLink);\n",
              "        }\n",
              "      </script>\n",
              "    </div>\n",
              "  </div>\n",
              "  "
            ]
          },
          "metadata": {},
          "execution_count": 13
        }
      ]
    },
    {
      "cell_type": "code",
      "source": [
        "# 결측치 처리 결과, occupation에 있었던 결측치까지 함께 제거되었다\n",
        "train.isnull().sum()"
      ],
      "metadata": {
        "colab": {
          "base_uri": "https://localhost:8080/"
        },
        "id": "dDSDzI2ivAky",
        "outputId": "43423989-f2b4-4c2e-9070-a853d9cdc4a5"
      },
      "execution_count": null,
      "outputs": [
        {
          "output_type": "execute_result",
          "data": {
            "text/plain": [
              "age                 0\n",
              "workclass           0\n",
              "fnlwgt              0\n",
              "education           0\n",
              "education.num       0\n",
              "marital.status      0\n",
              "occupation          0\n",
              "relationship        0\n",
              "race                0\n",
              "sex                 0\n",
              "capital.gain        0\n",
              "capital.loss        0\n",
              "hours.per.week      0\n",
              "native.country    556\n",
              "target              0\n",
              "dtype: int64"
            ]
          },
          "metadata": {},
          "execution_count": 14
        }
      ]
    },
    {
      "cell_type": "code",
      "source": [
        "map_class = {'Without-pay':0, 'Private':1, 'State-gov':2, 'Self-emp-not-inc':3, 'Local-gov':4, 'Federal-gov': 5, 'Self-emp-inc':6}\n",
        "train[['workclass']] = train[['workclass']].applymap(map_class.get)\n",
        "test[['workclass']] = test[['workclass']].applymap(map_class.get)"
      ],
      "metadata": {
        "id": "8t7eJT0ulC6W"
      },
      "execution_count": null,
      "outputs": []
    },
    {
      "cell_type": "markdown",
      "source": [
        "#### native country"
      ],
      "metadata": {
        "id": "Ngptt9Tev7Ib"
      }
    },
    {
      "cell_type": "code",
      "source": [
        "print(\"number of unique values: \", train['native.country'].nunique())\n",
        "train['native.country'].value_counts()"
      ],
      "metadata": {
        "colab": {
          "base_uri": "https://localhost:8080/"
        },
        "id": "UFBXcjBCv9K-",
        "outputId": "23634d90-d6a7-40b6-f20e-f583c7dac57c"
      },
      "execution_count": null,
      "outputs": [
        {
          "output_type": "stream",
          "name": "stdout",
          "text": [
            "number of unique values:  41\n"
          ]
        },
        {
          "output_type": "execute_result",
          "data": {
            "text/plain": [
              "United-States                 13727\n",
              "Mexico                          322\n",
              "Philippines                      98\n",
              "Germany                          66\n",
              "Puerto-Rico                      54\n",
              "El-Salvador                      52\n",
              "Canada                           49\n",
              "India                            47\n",
              "Cuba                             46\n",
              "England                          42\n",
              "Jamaica                          41\n",
              "Dominican-Republic               35\n",
              "Guatemala                        35\n",
              "Columbia                         34\n",
              "China                            33\n",
              "Italy                            33\n",
              "Poland                           31\n",
              "South                            30\n",
              "Japan                            30\n",
              "Vietnam                          29\n",
              "Haiti                            21\n",
              "Taiwan                           19\n",
              "Nicaragua                        19\n",
              "Ecuador                          18\n",
              "Ireland                          18\n",
              "Portugal                         17\n",
              "Iran                             16\n",
              "Peru                             16\n",
              "Greece                           14\n",
              "France                           12\n",
              "Cambodia                         10\n",
              "Laos                              9\n",
              "Yugoslavia                        9\n",
              "Trinadad&Tobago                   9\n",
              "Hong                              8\n",
              "Hungary                           7\n",
              "Outlying-US(Guam-USVI-etc)        7\n",
              "Honduras                          6\n",
              "Scotland                          6\n",
              "Thailand                          5\n",
              "Holand-Netherlands                1\n",
              "Name: native.country, dtype: int64"
            ]
          },
          "metadata": {},
          "execution_count": 16
        }
      ]
    },
    {
      "cell_type": "code",
      "source": [
        "#Holand-Netherlands가 없다는 것을 제외하고 같은 나라들이다.\n",
        "print(\"number of unique values: \", test['native.country'].nunique())\n",
        "test['native.country'].value_counts()"
      ],
      "metadata": {
        "colab": {
          "base_uri": "https://localhost:8080/"
        },
        "id": "pfrQVdNLwQG7",
        "outputId": "6d22cafe-3dc5-483c-80a9-18f8e87f914e"
      },
      "execution_count": null,
      "outputs": [
        {
          "output_type": "stream",
          "name": "stdout",
          "text": [
            "number of unique values:  40\n"
          ]
        },
        {
          "output_type": "execute_result",
          "data": {
            "text/plain": [
              "United-States                 13777\n",
              "Mexico                          288\n",
              "Philippines                      90\n",
              "Germany                          62\n",
              "Canada                           58\n",
              "Puerto-Rico                      55\n",
              "India                            53\n",
              "El-Salvador                      48\n",
              "Cuba                             46\n",
              "England                          44\n",
              "South                            41\n",
              "Jamaica                          39\n",
              "China                            35\n",
              "Vietnam                          35\n",
              "Italy                            35\n",
              "Dominican-Republic               32\n",
              "Japan                            29\n",
              "Guatemala                        28\n",
              "Iran                             26\n",
              "Poland                           25\n",
              "Taiwan                           23\n",
              "Columbia                         22\n",
              "Haiti                            21\n",
              "Portugal                         17\n",
              "Greece                           15\n",
              "France                           15\n",
              "Peru                             14\n",
              "Nicaragua                        14\n",
              "Thailand                         12\n",
              "Hong                             11\n",
              "Ecuador                           9\n",
              "Trinadad&Tobago                   9\n",
              "Cambodia                          8\n",
              "Laos                              8\n",
              "Yugoslavia                        7\n",
              "Outlying-US(Guam-USVI-etc)        7\n",
              "Honduras                          6\n",
              "Hungary                           6\n",
              "Ireland                           6\n",
              "Scotland                          5\n",
              "Name: native.country, dtype: int64"
            ]
          },
          "metadata": {},
          "execution_count": 17
        }
      ]
    },
    {
      "cell_type": "code",
      "source": [
        "# native.country가 NaN인 경우에 대해서는 일단 전체 관측치들 중 native.country가 United-states인 경우가 압도적으로 많으므로 United-states로 설정하자\n",
        "train['native.country'] = train['native.country'].fillna('United-States')"
      ],
      "metadata": {
        "id": "qKZjyMIJwT9R"
      },
      "execution_count": null,
      "outputs": []
    },
    {
      "cell_type": "code",
      "source": [
        "# train에서 Holand-Netherlands인 관측치를 삭제한다.\n",
        "train = train[train['native.country'] != 'Holand-Netherlands']"
      ],
      "metadata": {
        "id": "Q59GKP_6yTs_"
      },
      "execution_count": null,
      "outputs": []
    },
    {
      "cell_type": "code",
      "source": [
        "# train에서 target이 1인 비율이 높은 순으로 label을 정하기로 한다\n",
        "country = test['native.country'].unique()\n",
        "country_dict = {}\n",
        "for nation in country:\n",
        "  data = train[train['native.country'] == nation]\n",
        "  proportion = round(np.sum(data['target']) / len(data),4)\n",
        "  country_dict[nation] = proportion\n",
        "country_df = pd.DataFrame(index=country_dict.keys(), data=country_dict.values())\n",
        "country_df.rename(columns={0:'proportion'}, inplace=True)\n",
        "display(country_df.head())"
      ],
      "metadata": {
        "colab": {
          "base_uri": "https://localhost:8080/"
        },
        "id": "l7z_HyyB0smJ",
        "outputId": "04b1085a-dbbb-455a-a573-f09f62526244"
      },
      "execution_count": null,
      "outputs": [
        {
          "output_type": "display_data",
          "data": {
            "text/plain": [
              "               proportion\n",
              "United-States      0.2569\n",
              "Mexico             0.0497\n",
              "Vietnam            0.0345\n",
              "Iran               0.6875\n",
              "China              0.2424"
            ],
            "text/html": [
              "\n",
              "  <div id=\"df-05ed9d4e-004a-4200-8cf7-a3fa282c3cfc\">\n",
              "    <div class=\"colab-df-container\">\n",
              "      <div>\n",
              "<style scoped>\n",
              "    .dataframe tbody tr th:only-of-type {\n",
              "        vertical-align: middle;\n",
              "    }\n",
              "\n",
              "    .dataframe tbody tr th {\n",
              "        vertical-align: top;\n",
              "    }\n",
              "\n",
              "    .dataframe thead th {\n",
              "        text-align: right;\n",
              "    }\n",
              "</style>\n",
              "<table border=\"1\" class=\"dataframe\">\n",
              "  <thead>\n",
              "    <tr style=\"text-align: right;\">\n",
              "      <th></th>\n",
              "      <th>proportion</th>\n",
              "    </tr>\n",
              "  </thead>\n",
              "  <tbody>\n",
              "    <tr>\n",
              "      <th>United-States</th>\n",
              "      <td>0.2569</td>\n",
              "    </tr>\n",
              "    <tr>\n",
              "      <th>Mexico</th>\n",
              "      <td>0.0497</td>\n",
              "    </tr>\n",
              "    <tr>\n",
              "      <th>Vietnam</th>\n",
              "      <td>0.0345</td>\n",
              "    </tr>\n",
              "    <tr>\n",
              "      <th>Iran</th>\n",
              "      <td>0.6875</td>\n",
              "    </tr>\n",
              "    <tr>\n",
              "      <th>China</th>\n",
              "      <td>0.2424</td>\n",
              "    </tr>\n",
              "  </tbody>\n",
              "</table>\n",
              "</div>\n",
              "      <button class=\"colab-df-convert\" onclick=\"convertToInteractive('df-05ed9d4e-004a-4200-8cf7-a3fa282c3cfc')\"\n",
              "              title=\"Convert this dataframe to an interactive table.\"\n",
              "              style=\"display:none;\">\n",
              "        \n",
              "  <svg xmlns=\"http://www.w3.org/2000/svg\" height=\"24px\"viewBox=\"0 0 24 24\"\n",
              "       width=\"24px\">\n",
              "    <path d=\"M0 0h24v24H0V0z\" fill=\"none\"/>\n",
              "    <path d=\"M18.56 5.44l.94 2.06.94-2.06 2.06-.94-2.06-.94-.94-2.06-.94 2.06-2.06.94zm-11 1L8.5 8.5l.94-2.06 2.06-.94-2.06-.94L8.5 2.5l-.94 2.06-2.06.94zm10 10l.94 2.06.94-2.06 2.06-.94-2.06-.94-.94-2.06-.94 2.06-2.06.94z\"/><path d=\"M17.41 7.96l-1.37-1.37c-.4-.4-.92-.59-1.43-.59-.52 0-1.04.2-1.43.59L10.3 9.45l-7.72 7.72c-.78.78-.78 2.05 0 2.83L4 21.41c.39.39.9.59 1.41.59.51 0 1.02-.2 1.41-.59l7.78-7.78 2.81-2.81c.8-.78.8-2.07 0-2.86zM5.41 20L4 18.59l7.72-7.72 1.47 1.35L5.41 20z\"/>\n",
              "  </svg>\n",
              "      </button>\n",
              "      \n",
              "  <style>\n",
              "    .colab-df-container {\n",
              "      display:flex;\n",
              "      flex-wrap:wrap;\n",
              "      gap: 12px;\n",
              "    }\n",
              "\n",
              "    .colab-df-convert {\n",
              "      background-color: #E8F0FE;\n",
              "      border: none;\n",
              "      border-radius: 50%;\n",
              "      cursor: pointer;\n",
              "      display: none;\n",
              "      fill: #1967D2;\n",
              "      height: 32px;\n",
              "      padding: 0 0 0 0;\n",
              "      width: 32px;\n",
              "    }\n",
              "\n",
              "    .colab-df-convert:hover {\n",
              "      background-color: #E2EBFA;\n",
              "      box-shadow: 0px 1px 2px rgba(60, 64, 67, 0.3), 0px 1px 3px 1px rgba(60, 64, 67, 0.15);\n",
              "      fill: #174EA6;\n",
              "    }\n",
              "\n",
              "    [theme=dark] .colab-df-convert {\n",
              "      background-color: #3B4455;\n",
              "      fill: #D2E3FC;\n",
              "    }\n",
              "\n",
              "    [theme=dark] .colab-df-convert:hover {\n",
              "      background-color: #434B5C;\n",
              "      box-shadow: 0px 1px 3px 1px rgba(0, 0, 0, 0.15);\n",
              "      filter: drop-shadow(0px 1px 2px rgba(0, 0, 0, 0.3));\n",
              "      fill: #FFFFFF;\n",
              "    }\n",
              "  </style>\n",
              "\n",
              "      <script>\n",
              "        const buttonEl =\n",
              "          document.querySelector('#df-05ed9d4e-004a-4200-8cf7-a3fa282c3cfc button.colab-df-convert');\n",
              "        buttonEl.style.display =\n",
              "          google.colab.kernel.accessAllowed ? 'block' : 'none';\n",
              "\n",
              "        async function convertToInteractive(key) {\n",
              "          const element = document.querySelector('#df-05ed9d4e-004a-4200-8cf7-a3fa282c3cfc');\n",
              "          const dataTable =\n",
              "            await google.colab.kernel.invokeFunction('convertToInteractive',\n",
              "                                                     [key], {});\n",
              "          if (!dataTable) return;\n",
              "\n",
              "          const docLinkHtml = 'Like what you see? Visit the ' +\n",
              "            '<a target=\"_blank\" href=https://colab.research.google.com/notebooks/data_table.ipynb>data table notebook</a>'\n",
              "            + ' to learn more about interactive tables.';\n",
              "          element.innerHTML = '';\n",
              "          dataTable['output_type'] = 'display_data';\n",
              "          await google.colab.output.renderOutput(dataTable, element);\n",
              "          const docLink = document.createElement('div');\n",
              "          docLink.innerHTML = docLinkHtml;\n",
              "          element.appendChild(docLink);\n",
              "        }\n",
              "      </script>\n",
              "    </div>\n",
              "  </div>\n",
              "  "
            ]
          },
          "metadata": {}
        }
      ]
    },
    {
      "cell_type": "code",
      "source": [
        "country_df = country_df.sort_values(by='proportion', ascending=False)\n",
        "country_df.head()"
      ],
      "metadata": {
        "colab": {
          "base_uri": "https://localhost:8080/"
        },
        "id": "PWoyn8df4tzQ",
        "outputId": "934f5a27-c01e-4b3b-8ba3-a7a5f0505c92"
      },
      "execution_count": null,
      "outputs": [
        {
          "output_type": "execute_result",
          "data": {
            "text/plain": [
              "            proportion\n",
              "Iran            0.6875\n",
              "Yugoslavia      0.4444\n",
              "India           0.4043\n",
              "Japan           0.4000\n",
              "Canada          0.3878"
            ],
            "text/html": [
              "\n",
              "  <div id=\"df-3d834260-7703-4526-bb7a-b37e316bf31f\">\n",
              "    <div class=\"colab-df-container\">\n",
              "      <div>\n",
              "<style scoped>\n",
              "    .dataframe tbody tr th:only-of-type {\n",
              "        vertical-align: middle;\n",
              "    }\n",
              "\n",
              "    .dataframe tbody tr th {\n",
              "        vertical-align: top;\n",
              "    }\n",
              "\n",
              "    .dataframe thead th {\n",
              "        text-align: right;\n",
              "    }\n",
              "</style>\n",
              "<table border=\"1\" class=\"dataframe\">\n",
              "  <thead>\n",
              "    <tr style=\"text-align: right;\">\n",
              "      <th></th>\n",
              "      <th>proportion</th>\n",
              "    </tr>\n",
              "  </thead>\n",
              "  <tbody>\n",
              "    <tr>\n",
              "      <th>Iran</th>\n",
              "      <td>0.6875</td>\n",
              "    </tr>\n",
              "    <tr>\n",
              "      <th>Yugoslavia</th>\n",
              "      <td>0.4444</td>\n",
              "    </tr>\n",
              "    <tr>\n",
              "      <th>India</th>\n",
              "      <td>0.4043</td>\n",
              "    </tr>\n",
              "    <tr>\n",
              "      <th>Japan</th>\n",
              "      <td>0.4000</td>\n",
              "    </tr>\n",
              "    <tr>\n",
              "      <th>Canada</th>\n",
              "      <td>0.3878</td>\n",
              "    </tr>\n",
              "  </tbody>\n",
              "</table>\n",
              "</div>\n",
              "      <button class=\"colab-df-convert\" onclick=\"convertToInteractive('df-3d834260-7703-4526-bb7a-b37e316bf31f')\"\n",
              "              title=\"Convert this dataframe to an interactive table.\"\n",
              "              style=\"display:none;\">\n",
              "        \n",
              "  <svg xmlns=\"http://www.w3.org/2000/svg\" height=\"24px\"viewBox=\"0 0 24 24\"\n",
              "       width=\"24px\">\n",
              "    <path d=\"M0 0h24v24H0V0z\" fill=\"none\"/>\n",
              "    <path d=\"M18.56 5.44l.94 2.06.94-2.06 2.06-.94-2.06-.94-.94-2.06-.94 2.06-2.06.94zm-11 1L8.5 8.5l.94-2.06 2.06-.94-2.06-.94L8.5 2.5l-.94 2.06-2.06.94zm10 10l.94 2.06.94-2.06 2.06-.94-2.06-.94-.94-2.06-.94 2.06-2.06.94z\"/><path d=\"M17.41 7.96l-1.37-1.37c-.4-.4-.92-.59-1.43-.59-.52 0-1.04.2-1.43.59L10.3 9.45l-7.72 7.72c-.78.78-.78 2.05 0 2.83L4 21.41c.39.39.9.59 1.41.59.51 0 1.02-.2 1.41-.59l7.78-7.78 2.81-2.81c.8-.78.8-2.07 0-2.86zM5.41 20L4 18.59l7.72-7.72 1.47 1.35L5.41 20z\"/>\n",
              "  </svg>\n",
              "      </button>\n",
              "      \n",
              "  <style>\n",
              "    .colab-df-container {\n",
              "      display:flex;\n",
              "      flex-wrap:wrap;\n",
              "      gap: 12px;\n",
              "    }\n",
              "\n",
              "    .colab-df-convert {\n",
              "      background-color: #E8F0FE;\n",
              "      border: none;\n",
              "      border-radius: 50%;\n",
              "      cursor: pointer;\n",
              "      display: none;\n",
              "      fill: #1967D2;\n",
              "      height: 32px;\n",
              "      padding: 0 0 0 0;\n",
              "      width: 32px;\n",
              "    }\n",
              "\n",
              "    .colab-df-convert:hover {\n",
              "      background-color: #E2EBFA;\n",
              "      box-shadow: 0px 1px 2px rgba(60, 64, 67, 0.3), 0px 1px 3px 1px rgba(60, 64, 67, 0.15);\n",
              "      fill: #174EA6;\n",
              "    }\n",
              "\n",
              "    [theme=dark] .colab-df-convert {\n",
              "      background-color: #3B4455;\n",
              "      fill: #D2E3FC;\n",
              "    }\n",
              "\n",
              "    [theme=dark] .colab-df-convert:hover {\n",
              "      background-color: #434B5C;\n",
              "      box-shadow: 0px 1px 3px 1px rgba(0, 0, 0, 0.15);\n",
              "      filter: drop-shadow(0px 1px 2px rgba(0, 0, 0, 0.3));\n",
              "      fill: #FFFFFF;\n",
              "    }\n",
              "  </style>\n",
              "\n",
              "      <script>\n",
              "        const buttonEl =\n",
              "          document.querySelector('#df-3d834260-7703-4526-bb7a-b37e316bf31f button.colab-df-convert');\n",
              "        buttonEl.style.display =\n",
              "          google.colab.kernel.accessAllowed ? 'block' : 'none';\n",
              "\n",
              "        async function convertToInteractive(key) {\n",
              "          const element = document.querySelector('#df-3d834260-7703-4526-bb7a-b37e316bf31f');\n",
              "          const dataTable =\n",
              "            await google.colab.kernel.invokeFunction('convertToInteractive',\n",
              "                                                     [key], {});\n",
              "          if (!dataTable) return;\n",
              "\n",
              "          const docLinkHtml = 'Like what you see? Visit the ' +\n",
              "            '<a target=\"_blank\" href=https://colab.research.google.com/notebooks/data_table.ipynb>data table notebook</a>'\n",
              "            + ' to learn more about interactive tables.';\n",
              "          element.innerHTML = '';\n",
              "          dataTable['output_type'] = 'display_data';\n",
              "          await google.colab.output.renderOutput(dataTable, element);\n",
              "          const docLink = document.createElement('div');\n",
              "          docLink.innerHTML = docLinkHtml;\n",
              "          element.appendChild(docLink);\n",
              "        }\n",
              "      </script>\n",
              "    </div>\n",
              "  </div>\n",
              "  "
            ]
          },
          "metadata": {},
          "execution_count": 21
        }
      ]
    },
    {
      "cell_type": "code",
      "source": [
        "map_class2 ={}\n",
        "for i in range(40):\n",
        "  map_class2[country_df.index[i]] = i\n",
        "train[['native.country']] = train[['native.country']].applymap(map_class2.get)\n",
        "test[['native.country']] = test[['native.country']].applymap(map_class2.get)"
      ],
      "metadata": {
        "id": "Lpx7uHoU3lkU"
      },
      "execution_count": null,
      "outputs": []
    },
    {
      "cell_type": "markdown",
      "source": [
        "#### education"
      ],
      "metadata": {
        "id": "v2kjcwzVmurB"
      }
    },
    {
      "cell_type": "code",
      "source": [
        "print(\"number of unique values: \", train['education'].nunique())\n",
        "train['education'].value_counts()"
      ],
      "metadata": {
        "colab": {
          "base_uri": "https://localhost:8080/"
        },
        "id": "f8DVJ7TYmwDf",
        "outputId": "d6e0084b-0010-4bcb-9874-d85fbf2707e8"
      },
      "execution_count": null,
      "outputs": [
        {
          "output_type": "stream",
          "name": "stdout",
          "text": [
            "number of unique values:  16\n"
          ]
        },
        {
          "output_type": "execute_result",
          "data": {
            "text/plain": [
              "HS-grad         5033\n",
              "Some-college    3388\n",
              "Bachelors       2669\n",
              "Masters          873\n",
              "Assoc-voc        663\n",
              "11th             545\n",
              "Assoc-acdm       541\n",
              "10th             408\n",
              "7th-8th          305\n",
              "Prof-school      283\n",
              "9th              243\n",
              "12th             209\n",
              "Doctorate        199\n",
              "5th-6th          167\n",
              "1st-4th           84\n",
              "Preschool         26\n",
              "Name: education, dtype: int64"
            ]
          },
          "metadata": {},
          "execution_count": 23
        }
      ]
    },
    {
      "cell_type": "code",
      "source": [
        "print(\"number of unique values: \",test['education'].nunique())\n",
        "test['education'].value_counts()"
      ],
      "metadata": {
        "colab": {
          "base_uri": "https://localhost:8080/"
        },
        "id": "_Rj8y0aKm8Q1",
        "outputId": "d0136a21-cca0-4265-c268-fb32320618a4"
      },
      "execution_count": null,
      "outputs": [
        {
          "output_type": "stream",
          "name": "stdout",
          "text": [
            "number of unique values:  16\n"
          ]
        },
        {
          "output_type": "execute_result",
          "data": {
            "text/plain": [
              "HS-grad         4935\n",
              "Some-college    3386\n",
              "Bachelors       2513\n",
              "Masters          802\n",
              "Assoc-voc        658\n",
              "11th             511\n",
              "Assoc-acdm       479\n",
              "10th             423\n",
              "Prof-school      275\n",
              "7th-8th          268\n",
              "9th              220\n",
              "Doctorate        199\n",
              "12th             184\n",
              "5th-6th          136\n",
              "1st-4th           72\n",
              "Preschool         20\n",
              "Name: education, dtype: int64"
            ]
          },
          "metadata": {},
          "execution_count": 24
        }
      ]
    },
    {
      "cell_type": "code",
      "source": [
        "# train과 test의 범주가 같고, 각각의 범주가 무엇을 의미하는 지 알고 있다. \n",
        "# 교육수준이 낮은 순서부터 높은 순서대로 label을 정하기로 하자.\n",
        "map_class3 = {'Preschool':0, '1st-4th':1, '5th-6th':2, '7th-8th':3, '9th':4, '10th': 5, '11th':6,\n",
        "              '12th':7, 'HS-grad':8, 'Prof-school':9, 'Assoc-acdm':10, 'Assoc-voc':11,\n",
        "              'Some-college':12, 'Bachelors':13, 'Masters':14, 'Doctorate':15}\n",
        "train[['education']] = train[['education']].applymap(map_class3.get)\n",
        "test[['education']] = test[['education']].applymap(map_class3.get)"
      ],
      "metadata": {
        "id": "NS3sqv1sndJM"
      },
      "execution_count": null,
      "outputs": []
    },
    {
      "cell_type": "markdown",
      "source": [
        "#### marital.status"
      ],
      "metadata": {
        "id": "iwnR75-KpShJ"
      }
    },
    {
      "cell_type": "code",
      "source": [
        "print(\"number of unique values: \", train['marital.status'].nunique())\n",
        "train['marital.status'].value_counts()"
      ],
      "metadata": {
        "colab": {
          "base_uri": "https://localhost:8080/"
        },
        "id": "3qgEl0CKpWol",
        "outputId": "ef7469f0-17b7-451e-cbb1-43d224437c7a"
      },
      "execution_count": null,
      "outputs": [
        {
          "output_type": "stream",
          "name": "stdout",
          "text": [
            "number of unique values:  7\n"
          ]
        },
        {
          "output_type": "execute_result",
          "data": {
            "text/plain": [
              "Married-civ-spouse       7366\n",
              "Never-married            4999\n",
              "Divorced                 2130\n",
              "Separated                 474\n",
              "Widowed                   437\n",
              "Married-spouse-absent     218\n",
              "Married-AF-spouse          12\n",
              "Name: marital.status, dtype: int64"
            ]
          },
          "metadata": {},
          "execution_count": 26
        }
      ]
    },
    {
      "cell_type": "code",
      "source": [
        "print(\"number of unique values: \", test['marital.status'].nunique())\n",
        "test['marital.status'].value_counts()"
      ],
      "metadata": {
        "colab": {
          "base_uri": "https://localhost:8080/"
        },
        "id": "dCK5FERgpnyC",
        "outputId": "3d5fadec-6996-4c3e-8a25-febaa6abadd6"
      },
      "execution_count": null,
      "outputs": [
        {
          "output_type": "stream",
          "name": "stdout",
          "text": [
            "number of unique values:  7\n"
          ]
        },
        {
          "output_type": "execute_result",
          "data": {
            "text/plain": [
              "Married-civ-spouse       6973\n",
              "Never-married            4912\n",
              "Divorced                 2128\n",
              "Separated                 485\n",
              "Widowed                   403\n",
              "Married-spouse-absent     171\n",
              "Married-AF-spouse           9\n",
              "Name: marital.status, dtype: int64"
            ]
          },
          "metadata": {},
          "execution_count": 27
        }
      ]
    },
    {
      "cell_type": "code",
      "source": [
        "# train에서 target이 1인 비율이 높은 순으로 label을 정하기로 한다\n",
        "# 따라서 Married-civ-spouse, Married-AF-spouse, Divorced, Widowed, Married-spouse-absent, Separated, Never-married 순으로 label을 정하기로 하자.\n",
        "marital_status = test['marital.status'].unique()\n",
        "\n",
        "for status in marital_status:\n",
        "  data = train[train['marital.status'] == status]\n",
        "  proportion = round(np.sum(data['target']) / len(data),4)\n",
        "  print(f\"{status}: {proportion}\")"
      ],
      "metadata": {
        "colab": {
          "base_uri": "https://localhost:8080/"
        },
        "id": "NgMn1OUtp3Zz",
        "outputId": "b512de12-a17c-4ad0-8dee-b21471da01e6"
      },
      "execution_count": null,
      "outputs": [
        {
          "output_type": "stream",
          "name": "stdout",
          "text": [
            "Married-civ-spouse: 0.4519\n",
            "Never-married: 0.0488\n",
            "Widowed: 0.1007\n",
            "Divorced: 0.1131\n",
            "Married-spouse-absent: 0.0826\n",
            "Separated: 0.0717\n",
            "Married-AF-spouse: 0.4167\n"
          ]
        }
      ]
    },
    {
      "cell_type": "code",
      "source": [
        "map_class4 = {'Never-married':0, 'Separated':1, 'Married-spouse-absent':2, 'Widowed':3, 'Divorced':4, 'Married-AF-spouse': 5, 'Married-civ-spouse':6}\n",
        "train[['marital.status']] = train[['marital.status']].applymap(map_class4.get)\n",
        "test[['marital.status']] = test[['marital.status']].applymap(map_class4.get)"
      ],
      "metadata": {
        "id": "iyg-4YZWqyv2"
      },
      "execution_count": null,
      "outputs": []
    },
    {
      "cell_type": "markdown",
      "source": [
        "#### occupation"
      ],
      "metadata": {
        "id": "onRAEMrjsf0L"
      }
    },
    {
      "cell_type": "code",
      "source": [
        "print(\"number of unique values: \", train['occupation'].nunique())\n",
        "train['occupation'].value_counts()"
      ],
      "metadata": {
        "colab": {
          "base_uri": "https://localhost:8080/"
        },
        "id": "1AoilrbAsk-x",
        "outputId": "235449b1-741f-4fc0-a089-f4cad731f991"
      },
      "execution_count": null,
      "outputs": [
        {
          "output_type": "stream",
          "name": "stdout",
          "text": [
            "number of unique values:  14\n"
          ]
        },
        {
          "output_type": "execute_result",
          "data": {
            "text/plain": [
              "Exec-managerial      2113\n",
              "Craft-repair         2101\n",
              "Prof-specialty       2085\n",
              "Adm-clerical         1893\n",
              "Sales                1829\n",
              "Other-service        1677\n",
              "Machine-op-inspct    1039\n",
              "Transport-moving      785\n",
              "Handlers-cleaners     695\n",
              "Farming-fishing       508\n",
              "Tech-support          475\n",
              "Protective-serv       350\n",
              "Priv-house-serv        83\n",
              "Armed-Forces            3\n",
              "Name: occupation, dtype: int64"
            ]
          },
          "metadata": {},
          "execution_count": 30
        }
      ]
    },
    {
      "cell_type": "code",
      "source": [
        "print(\"number of unique values: \", train['occupation'].nunique())\n",
        "test['occupation'].value_counts()"
      ],
      "metadata": {
        "colab": {
          "base_uri": "https://localhost:8080/"
        },
        "id": "T_0b12icsqnA",
        "outputId": "f57cee95-53a7-4214-b381-4c3db3ab1289"
      },
      "execution_count": null,
      "outputs": [
        {
          "output_type": "stream",
          "name": "stdout",
          "text": [
            "number of unique values:  14\n"
          ]
        },
        {
          "output_type": "execute_result",
          "data": {
            "text/plain": [
              "Prof-specialty       2055\n",
              "Craft-repair         1998\n",
              "Exec-managerial      1953\n",
              "Adm-clerical         1877\n",
              "Sales                1821\n",
              "Other-service        1618\n",
              "Machine-op-inspct     962\n",
              "Transport-moving      812\n",
              "Handlers-cleaners     675\n",
              "Farming-fishing       486\n",
              "Tech-support          453\n",
              "Protective-serv       299\n",
              "Priv-house-serv        66\n",
              "Armed-Forces            6\n",
              "Name: occupation, dtype: int64"
            ]
          },
          "metadata": {},
          "execution_count": 31
        }
      ]
    },
    {
      "cell_type": "code",
      "source": [
        "# train에서 target이 1인 비율이 높은 순으로 label을 정하기로 한다\n",
        "occupations = test['occupation'].unique()\n",
        "\n",
        "for job in occupations:\n",
        "  data = train[train['occupation'] == job]\n",
        "  proportion = round(np.sum(data['target']) / len(data),4)\n",
        "  print(f\"{job}: {proportion}\")"
      ],
      "metadata": {
        "colab": {
          "base_uri": "https://localhost:8080/"
        },
        "id": "iAzdUb24suLA",
        "outputId": "448902c0-74ba-4b52-e553-335710cdd5cf"
      },
      "execution_count": null,
      "outputs": [
        {
          "output_type": "stream",
          "name": "stdout",
          "text": [
            "Exec-managerial: 0.4841\n",
            "Sales: 0.2712\n",
            "Craft-repair: 0.227\n",
            "Prof-specialty: 0.4523\n",
            "Adm-clerical: 0.1384\n",
            "Other-service: 0.0429\n",
            "Protective-serv: 0.3229\n",
            "Handlers-cleaners: 0.0561\n",
            "Transport-moving: 0.1911\n",
            "Tech-support: 0.2989\n",
            "Machine-op-inspct: 0.128\n",
            "Farming-fishing: 0.128\n",
            "Priv-house-serv: 0.0\n",
            "Armed-Forces: 0.0\n"
          ]
        }
      ]
    },
    {
      "cell_type": "code",
      "source": [
        "map_class5 = {'Armed-Forces':0, 'Priv-house-serv':1, 'Other-service':2, 'Handlers-cleaners':3, 'Machine-op-inspct':4, \n",
        "              'Farming-fishing': 5, 'Adm-clerical':6, 'Transport-moving':7, 'Craft-repair':8, 'Sales':9,\n",
        "              'Tech-support':10, 'Protective-serv':11, 'Prof-specialty':12, 'Exec-managerial':13}\n",
        "train[['occupation']] = train[['occupation']].applymap(map_class5.get)\n",
        "test[['occupation']] = test[['occupation']].applymap(map_class5.get)"
      ],
      "metadata": {
        "id": "MpD5DqRctIWL"
      },
      "execution_count": null,
      "outputs": []
    },
    {
      "cell_type": "markdown",
      "source": [
        "#### relationship"
      ],
      "metadata": {
        "id": "tHk0wz1I6ety"
      }
    },
    {
      "cell_type": "code",
      "source": [
        "print(\"number of unique values: \", train['relationship'].nunique())\n",
        "train['relationship'].value_counts()"
      ],
      "metadata": {
        "colab": {
          "base_uri": "https://localhost:8080/"
        },
        "id": "PQAp9H046gt7",
        "outputId": "959b9fb7-8272-41c0-febf-49d7710ee3a7"
      },
      "execution_count": null,
      "outputs": [
        {
          "output_type": "stream",
          "name": "stdout",
          "text": [
            "number of unique values:  6\n"
          ]
        },
        {
          "output_type": "execute_result",
          "data": {
            "text/plain": [
              "Husband           6483\n",
              "Not-in-family     3975\n",
              "Own-child         2291\n",
              "Unmarried         1647\n",
              "Wife               771\n",
              "Other-relative     469\n",
              "Name: relationship, dtype: int64"
            ]
          },
          "metadata": {},
          "execution_count": 34
        }
      ]
    },
    {
      "cell_type": "code",
      "source": [
        "print(\"number of unique values: \", test['relationship'].nunique())\n",
        "test['relationship'].value_counts()"
      ],
      "metadata": {
        "colab": {
          "base_uri": "https://localhost:8080/"
        },
        "id": "DRlsAWeS61aN",
        "outputId": "d20ba45b-11d2-4a11-af49-f7edb47be5ae"
      },
      "execution_count": null,
      "outputs": [
        {
          "output_type": "stream",
          "name": "stdout",
          "text": [
            "number of unique values:  6\n"
          ]
        },
        {
          "output_type": "execute_result",
          "data": {
            "text/plain": [
              "Husband           6221\n",
              "Not-in-family     3890\n",
              "Own-child         2234\n",
              "Unmarried         1624\n",
              "Wife               664\n",
              "Other-relative     448\n",
              "Name: relationship, dtype: int64"
            ]
          },
          "metadata": {},
          "execution_count": 35
        }
      ]
    },
    {
      "cell_type": "code",
      "source": [
        "# train에서 target이 1인 비율이 높은 순으로 label을 정하기로 한다\n",
        "relationship = test['relationship'].unique()\n",
        "\n",
        "for relation in relationship:\n",
        "  data = train[train['relationship'] == relation]\n",
        "  proportion = round(np.sum(data['target']) / len(data),4)\n",
        "  print(f\"{relation}: {proportion}\")"
      ],
      "metadata": {
        "colab": {
          "base_uri": "https://localhost:8080/"
        },
        "id": "YGy1crMJ65cT",
        "outputId": "b6534c7e-a403-4cef-f1f5-69f2d8fef445"
      },
      "execution_count": null,
      "outputs": [
        {
          "output_type": "stream",
          "name": "stdout",
          "text": [
            "Husband: 0.454\n",
            "Not-in-family: 0.1117\n",
            "Unmarried: 0.0638\n",
            "Own-child: 0.0162\n",
            "Other-relative: 0.0426\n",
            "Wife: 0.4747\n"
          ]
        }
      ]
    },
    {
      "cell_type": "code",
      "source": [
        "map_class6 = {'Own-child':0, 'Other-relative':1, 'Unmarried':2, 'Not-in-family':3, 'Husband':4, 'Wife': 5}\n",
        "train[['relationship']] = train[['relationship']].applymap(map_class6.get)\n",
        "test[['relationship']] = test[['relationship']].applymap(map_class6.get)"
      ],
      "metadata": {
        "id": "sjyjB0U67TX-"
      },
      "execution_count": null,
      "outputs": []
    },
    {
      "cell_type": "markdown",
      "source": [
        "#### race"
      ],
      "metadata": {
        "id": "Kb0jtvmK778g"
      }
    },
    {
      "cell_type": "code",
      "source": [
        "print(\"number of unique values: \", train['race'].nunique())\n",
        "train['race'].value_counts()"
      ],
      "metadata": {
        "colab": {
          "base_uri": "https://localhost:8080/"
        },
        "id": "a680JbX779Rh",
        "outputId": "baf72a4c-c686-4118-aa47-98af296f8986"
      },
      "execution_count": null,
      "outputs": [
        {
          "output_type": "stream",
          "name": "stdout",
          "text": [
            "number of unique values:  5\n"
          ]
        },
        {
          "output_type": "execute_result",
          "data": {
            "text/plain": [
              "White                 13348\n",
              "Black                  1487\n",
              "Asian-Pac-Islander      521\n",
              "Amer-Indian-Eskimo      140\n",
              "Other                   140\n",
              "Name: race, dtype: int64"
            ]
          },
          "metadata": {},
          "execution_count": 38
        }
      ]
    },
    {
      "cell_type": "code",
      "source": [
        "print(\"number of unique values: \", test['race'].nunique())\n",
        "test['race'].value_counts()"
      ],
      "metadata": {
        "colab": {
          "base_uri": "https://localhost:8080/"
        },
        "id": "yngKMuDB8BEi",
        "outputId": "c65bbf14-8e96-451c-cc2a-8683b26f173f"
      },
      "execution_count": null,
      "outputs": [
        {
          "output_type": "stream",
          "name": "stdout",
          "text": [
            "number of unique values:  5\n"
          ]
        },
        {
          "output_type": "execute_result",
          "data": {
            "text/plain": [
              "White                 12952\n",
              "Black                  1422\n",
              "Asian-Pac-Islander      453\n",
              "Amer-Indian-Eskimo      146\n",
              "Other                   108\n",
              "Name: race, dtype: int64"
            ]
          },
          "metadata": {},
          "execution_count": 39
        }
      ]
    },
    {
      "cell_type": "code",
      "source": [
        "# train에서 target이 1인 비율이 높은 순으로 label을 정하기로 한다\n",
        "races = test['race'].unique()\n",
        "\n",
        "for race in races:\n",
        "  data = train[train['race'] == race]\n",
        "  proportion = round(np.sum(data['target']) / len(data),4)\n",
        "  print(f\"{race}: {proportion}\")"
      ],
      "metadata": {
        "colab": {
          "base_uri": "https://localhost:8080/"
        },
        "id": "8mgB-sO28GLX",
        "outputId": "e3de8bdb-4a09-436b-c01b-918f9bb5616b"
      },
      "execution_count": null,
      "outputs": [
        {
          "output_type": "stream",
          "name": "stdout",
          "text": [
            "White: 0.2671\n",
            "Asian-Pac-Islander: 0.2514\n",
            "Black: 0.1237\n",
            "Amer-Indian-Eskimo: 0.1571\n",
            "Other: 0.0929\n"
          ]
        }
      ]
    },
    {
      "cell_type": "code",
      "source": [
        "map_class7 = {'Other':0, 'Black':1, 'Amer-Indian-Eskimo':2, 'Asian-Pac-Islander':3, 'White':4}\n",
        "train[['race']] = train[['race']].applymap(map_class7.get)\n",
        "test[['race']] = test[['race']].applymap(map_class7.get)"
      ],
      "metadata": {
        "id": "P7xfLBmG8ao-"
      },
      "execution_count": null,
      "outputs": []
    },
    {
      "cell_type": "markdown",
      "source": [
        "#### sex"
      ],
      "metadata": {
        "id": "D16_wTjU86E-"
      }
    },
    {
      "cell_type": "code",
      "source": [
        "print(\"number of unique values: \", train['sex'].nunique())\n",
        "train['sex'].value_counts()"
      ],
      "metadata": {
        "colab": {
          "base_uri": "https://localhost:8080/"
        },
        "id": "uYSeTGfU806D",
        "outputId": "ee1323cb-e308-4fa4-dc9d-e952210fd3c8"
      },
      "execution_count": null,
      "outputs": [
        {
          "output_type": "stream",
          "name": "stdout",
          "text": [
            "number of unique values:  2\n"
          ]
        },
        {
          "output_type": "execute_result",
          "data": {
            "text/plain": [
              "Male      10588\n",
              "Female     5048\n",
              "Name: sex, dtype: int64"
            ]
          },
          "metadata": {},
          "execution_count": 42
        }
      ]
    },
    {
      "cell_type": "code",
      "source": [
        "print(\"number of unique values: \", test['sex'].nunique())\n",
        "test['sex'].value_counts()"
      ],
      "metadata": {
        "colab": {
          "base_uri": "https://localhost:8080/"
        },
        "id": "RZaAGm6y8_NI",
        "outputId": "93f84dc4-8c92-4ba4-bef8-2eedd21af46c"
      },
      "execution_count": null,
      "outputs": [
        {
          "output_type": "stream",
          "name": "stdout",
          "text": [
            "number of unique values:  2\n"
          ]
        },
        {
          "output_type": "execute_result",
          "data": {
            "text/plain": [
              "Male      10200\n",
              "Female     4881\n",
              "Name: sex, dtype: int64"
            ]
          },
          "metadata": {},
          "execution_count": 43
        }
      ]
    },
    {
      "cell_type": "code",
      "source": [
        "map_class8 = {'Female':0, 'Male':1}\n",
        "train[['sex']] = train[['sex']].applymap(map_class8.get)\n",
        "test[['sex']] = test[['sex']].applymap(map_class8.get)"
      ],
      "metadata": {
        "id": "pJeha3Bc9CEe"
      },
      "execution_count": null,
      "outputs": []
    },
    {
      "cell_type": "markdown",
      "source": [
        "#### 확인"
      ],
      "metadata": {
        "id": "IT3QYv6Y9fOt"
      }
    },
    {
      "cell_type": "code",
      "source": [
        "display(train.head())\n",
        "display(test.head())"
      ],
      "metadata": {
        "colab": {
          "base_uri": "https://localhost:8080/"
        },
        "id": "uMz-Dw4J9j1a",
        "outputId": "7d18b1fb-8cf0-4e6c-bd95-a14b419d03da"
      },
      "execution_count": null,
      "outputs": [
        {
          "output_type": "display_data",
          "data": {
            "text/plain": [
              "   age  workclass  fnlwgt  education  education.num  marital.status  \\\n",
              "0   32          1  309513         10             12               6   \n",
              "1   33          1  205469         12             10               6   \n",
              "2   46          1  149949         12             10               6   \n",
              "3   23          1  193090         13             13               0   \n",
              "4   55          1   60193          8              9               4   \n",
              "\n",
              "   occupation  relationship  race  sex  capital.gain  capital.loss  \\\n",
              "0           8             4     4    1             0             0   \n",
              "1          13             4     4    1             0             0   \n",
              "2           8             4     4    1             0             0   \n",
              "3           6             0     4    0             0             0   \n",
              "4           6             3     4    0             0             0   \n",
              "\n",
              "   hours.per.week  native.country  target  \n",
              "0              40              15       0  \n",
              "1              40              15       1  \n",
              "2              40              15       0  \n",
              "3              30              15       0  \n",
              "4              40              15       0  "
            ],
            "text/html": [
              "\n",
              "  <div id=\"df-1ae794a1-b9f7-431a-9f8d-bb0df32a782e\">\n",
              "    <div class=\"colab-df-container\">\n",
              "      <div>\n",
              "<style scoped>\n",
              "    .dataframe tbody tr th:only-of-type {\n",
              "        vertical-align: middle;\n",
              "    }\n",
              "\n",
              "    .dataframe tbody tr th {\n",
              "        vertical-align: top;\n",
              "    }\n",
              "\n",
              "    .dataframe thead th {\n",
              "        text-align: right;\n",
              "    }\n",
              "</style>\n",
              "<table border=\"1\" class=\"dataframe\">\n",
              "  <thead>\n",
              "    <tr style=\"text-align: right;\">\n",
              "      <th></th>\n",
              "      <th>age</th>\n",
              "      <th>workclass</th>\n",
              "      <th>fnlwgt</th>\n",
              "      <th>education</th>\n",
              "      <th>education.num</th>\n",
              "      <th>marital.status</th>\n",
              "      <th>occupation</th>\n",
              "      <th>relationship</th>\n",
              "      <th>race</th>\n",
              "      <th>sex</th>\n",
              "      <th>capital.gain</th>\n",
              "      <th>capital.loss</th>\n",
              "      <th>hours.per.week</th>\n",
              "      <th>native.country</th>\n",
              "      <th>target</th>\n",
              "    </tr>\n",
              "  </thead>\n",
              "  <tbody>\n",
              "    <tr>\n",
              "      <th>0</th>\n",
              "      <td>32</td>\n",
              "      <td>1</td>\n",
              "      <td>309513</td>\n",
              "      <td>10</td>\n",
              "      <td>12</td>\n",
              "      <td>6</td>\n",
              "      <td>8</td>\n",
              "      <td>4</td>\n",
              "      <td>4</td>\n",
              "      <td>1</td>\n",
              "      <td>0</td>\n",
              "      <td>0</td>\n",
              "      <td>40</td>\n",
              "      <td>15</td>\n",
              "      <td>0</td>\n",
              "    </tr>\n",
              "    <tr>\n",
              "      <th>1</th>\n",
              "      <td>33</td>\n",
              "      <td>1</td>\n",
              "      <td>205469</td>\n",
              "      <td>12</td>\n",
              "      <td>10</td>\n",
              "      <td>6</td>\n",
              "      <td>13</td>\n",
              "      <td>4</td>\n",
              "      <td>4</td>\n",
              "      <td>1</td>\n",
              "      <td>0</td>\n",
              "      <td>0</td>\n",
              "      <td>40</td>\n",
              "      <td>15</td>\n",
              "      <td>1</td>\n",
              "    </tr>\n",
              "    <tr>\n",
              "      <th>2</th>\n",
              "      <td>46</td>\n",
              "      <td>1</td>\n",
              "      <td>149949</td>\n",
              "      <td>12</td>\n",
              "      <td>10</td>\n",
              "      <td>6</td>\n",
              "      <td>8</td>\n",
              "      <td>4</td>\n",
              "      <td>4</td>\n",
              "      <td>1</td>\n",
              "      <td>0</td>\n",
              "      <td>0</td>\n",
              "      <td>40</td>\n",
              "      <td>15</td>\n",
              "      <td>0</td>\n",
              "    </tr>\n",
              "    <tr>\n",
              "      <th>3</th>\n",
              "      <td>23</td>\n",
              "      <td>1</td>\n",
              "      <td>193090</td>\n",
              "      <td>13</td>\n",
              "      <td>13</td>\n",
              "      <td>0</td>\n",
              "      <td>6</td>\n",
              "      <td>0</td>\n",
              "      <td>4</td>\n",
              "      <td>0</td>\n",
              "      <td>0</td>\n",
              "      <td>0</td>\n",
              "      <td>30</td>\n",
              "      <td>15</td>\n",
              "      <td>0</td>\n",
              "    </tr>\n",
              "    <tr>\n",
              "      <th>4</th>\n",
              "      <td>55</td>\n",
              "      <td>1</td>\n",
              "      <td>60193</td>\n",
              "      <td>8</td>\n",
              "      <td>9</td>\n",
              "      <td>4</td>\n",
              "      <td>6</td>\n",
              "      <td>3</td>\n",
              "      <td>4</td>\n",
              "      <td>0</td>\n",
              "      <td>0</td>\n",
              "      <td>0</td>\n",
              "      <td>40</td>\n",
              "      <td>15</td>\n",
              "      <td>0</td>\n",
              "    </tr>\n",
              "  </tbody>\n",
              "</table>\n",
              "</div>\n",
              "      <button class=\"colab-df-convert\" onclick=\"convertToInteractive('df-1ae794a1-b9f7-431a-9f8d-bb0df32a782e')\"\n",
              "              title=\"Convert this dataframe to an interactive table.\"\n",
              "              style=\"display:none;\">\n",
              "        \n",
              "  <svg xmlns=\"http://www.w3.org/2000/svg\" height=\"24px\"viewBox=\"0 0 24 24\"\n",
              "       width=\"24px\">\n",
              "    <path d=\"M0 0h24v24H0V0z\" fill=\"none\"/>\n",
              "    <path d=\"M18.56 5.44l.94 2.06.94-2.06 2.06-.94-2.06-.94-.94-2.06-.94 2.06-2.06.94zm-11 1L8.5 8.5l.94-2.06 2.06-.94-2.06-.94L8.5 2.5l-.94 2.06-2.06.94zm10 10l.94 2.06.94-2.06 2.06-.94-2.06-.94-.94-2.06-.94 2.06-2.06.94z\"/><path d=\"M17.41 7.96l-1.37-1.37c-.4-.4-.92-.59-1.43-.59-.52 0-1.04.2-1.43.59L10.3 9.45l-7.72 7.72c-.78.78-.78 2.05 0 2.83L4 21.41c.39.39.9.59 1.41.59.51 0 1.02-.2 1.41-.59l7.78-7.78 2.81-2.81c.8-.78.8-2.07 0-2.86zM5.41 20L4 18.59l7.72-7.72 1.47 1.35L5.41 20z\"/>\n",
              "  </svg>\n",
              "      </button>\n",
              "      \n",
              "  <style>\n",
              "    .colab-df-container {\n",
              "      display:flex;\n",
              "      flex-wrap:wrap;\n",
              "      gap: 12px;\n",
              "    }\n",
              "\n",
              "    .colab-df-convert {\n",
              "      background-color: #E8F0FE;\n",
              "      border: none;\n",
              "      border-radius: 50%;\n",
              "      cursor: pointer;\n",
              "      display: none;\n",
              "      fill: #1967D2;\n",
              "      height: 32px;\n",
              "      padding: 0 0 0 0;\n",
              "      width: 32px;\n",
              "    }\n",
              "\n",
              "    .colab-df-convert:hover {\n",
              "      background-color: #E2EBFA;\n",
              "      box-shadow: 0px 1px 2px rgba(60, 64, 67, 0.3), 0px 1px 3px 1px rgba(60, 64, 67, 0.15);\n",
              "      fill: #174EA6;\n",
              "    }\n",
              "\n",
              "    [theme=dark] .colab-df-convert {\n",
              "      background-color: #3B4455;\n",
              "      fill: #D2E3FC;\n",
              "    }\n",
              "\n",
              "    [theme=dark] .colab-df-convert:hover {\n",
              "      background-color: #434B5C;\n",
              "      box-shadow: 0px 1px 3px 1px rgba(0, 0, 0, 0.15);\n",
              "      filter: drop-shadow(0px 1px 2px rgba(0, 0, 0, 0.3));\n",
              "      fill: #FFFFFF;\n",
              "    }\n",
              "  </style>\n",
              "\n",
              "      <script>\n",
              "        const buttonEl =\n",
              "          document.querySelector('#df-1ae794a1-b9f7-431a-9f8d-bb0df32a782e button.colab-df-convert');\n",
              "        buttonEl.style.display =\n",
              "          google.colab.kernel.accessAllowed ? 'block' : 'none';\n",
              "\n",
              "        async function convertToInteractive(key) {\n",
              "          const element = document.querySelector('#df-1ae794a1-b9f7-431a-9f8d-bb0df32a782e');\n",
              "          const dataTable =\n",
              "            await google.colab.kernel.invokeFunction('convertToInteractive',\n",
              "                                                     [key], {});\n",
              "          if (!dataTable) return;\n",
              "\n",
              "          const docLinkHtml = 'Like what you see? Visit the ' +\n",
              "            '<a target=\"_blank\" href=https://colab.research.google.com/notebooks/data_table.ipynb>data table notebook</a>'\n",
              "            + ' to learn more about interactive tables.';\n",
              "          element.innerHTML = '';\n",
              "          dataTable['output_type'] = 'display_data';\n",
              "          await google.colab.output.renderOutput(dataTable, element);\n",
              "          const docLink = document.createElement('div');\n",
              "          docLink.innerHTML = docLinkHtml;\n",
              "          element.appendChild(docLink);\n",
              "        }\n",
              "      </script>\n",
              "    </div>\n",
              "  </div>\n",
              "  "
            ]
          },
          "metadata": {}
        },
        {
          "output_type": "display_data",
          "data": {
            "text/plain": [
              "    age  workclass  fnlwgt  education  education.num  marital.status  \\\n",
              "id                                                                     \n",
              "0    47          1  304133         12             10               6   \n",
              "1    34          6  154227         12             10               0   \n",
              "2    31          4  158291         13             13               0   \n",
              "3    28          1  183155         13             13               6   \n",
              "4    54          4  182543         12             10               3   \n",
              "\n",
              "    occupation  relationship  race  sex  capital.gain  capital.loss  \\\n",
              "id                                                                    \n",
              "0           13             4     4    1             0             0   \n",
              "1            9             3     4    1             0             0   \n",
              "2            8             3     4    1          8614             0   \n",
              "3           12             4     4    1             0             0   \n",
              "4            6             2     4    0             0             0   \n",
              "\n",
              "    hours.per.week  native.country  \n",
              "id                                  \n",
              "0               45              15  \n",
              "1               75              15  \n",
              "2               40              15  \n",
              "3               55              15  \n",
              "4               40              29  "
            ],
            "text/html": [
              "\n",
              "  <div id=\"df-259c8531-7ec8-4fbe-9884-8c3d0c7671b4\">\n",
              "    <div class=\"colab-df-container\">\n",
              "      <div>\n",
              "<style scoped>\n",
              "    .dataframe tbody tr th:only-of-type {\n",
              "        vertical-align: middle;\n",
              "    }\n",
              "\n",
              "    .dataframe tbody tr th {\n",
              "        vertical-align: top;\n",
              "    }\n",
              "\n",
              "    .dataframe thead th {\n",
              "        text-align: right;\n",
              "    }\n",
              "</style>\n",
              "<table border=\"1\" class=\"dataframe\">\n",
              "  <thead>\n",
              "    <tr style=\"text-align: right;\">\n",
              "      <th></th>\n",
              "      <th>age</th>\n",
              "      <th>workclass</th>\n",
              "      <th>fnlwgt</th>\n",
              "      <th>education</th>\n",
              "      <th>education.num</th>\n",
              "      <th>marital.status</th>\n",
              "      <th>occupation</th>\n",
              "      <th>relationship</th>\n",
              "      <th>race</th>\n",
              "      <th>sex</th>\n",
              "      <th>capital.gain</th>\n",
              "      <th>capital.loss</th>\n",
              "      <th>hours.per.week</th>\n",
              "      <th>native.country</th>\n",
              "    </tr>\n",
              "    <tr>\n",
              "      <th>id</th>\n",
              "      <th></th>\n",
              "      <th></th>\n",
              "      <th></th>\n",
              "      <th></th>\n",
              "      <th></th>\n",
              "      <th></th>\n",
              "      <th></th>\n",
              "      <th></th>\n",
              "      <th></th>\n",
              "      <th></th>\n",
              "      <th></th>\n",
              "      <th></th>\n",
              "      <th></th>\n",
              "      <th></th>\n",
              "    </tr>\n",
              "  </thead>\n",
              "  <tbody>\n",
              "    <tr>\n",
              "      <th>0</th>\n",
              "      <td>47</td>\n",
              "      <td>1</td>\n",
              "      <td>304133</td>\n",
              "      <td>12</td>\n",
              "      <td>10</td>\n",
              "      <td>6</td>\n",
              "      <td>13</td>\n",
              "      <td>4</td>\n",
              "      <td>4</td>\n",
              "      <td>1</td>\n",
              "      <td>0</td>\n",
              "      <td>0</td>\n",
              "      <td>45</td>\n",
              "      <td>15</td>\n",
              "    </tr>\n",
              "    <tr>\n",
              "      <th>1</th>\n",
              "      <td>34</td>\n",
              "      <td>6</td>\n",
              "      <td>154227</td>\n",
              "      <td>12</td>\n",
              "      <td>10</td>\n",
              "      <td>0</td>\n",
              "      <td>9</td>\n",
              "      <td>3</td>\n",
              "      <td>4</td>\n",
              "      <td>1</td>\n",
              "      <td>0</td>\n",
              "      <td>0</td>\n",
              "      <td>75</td>\n",
              "      <td>15</td>\n",
              "    </tr>\n",
              "    <tr>\n",
              "      <th>2</th>\n",
              "      <td>31</td>\n",
              "      <td>4</td>\n",
              "      <td>158291</td>\n",
              "      <td>13</td>\n",
              "      <td>13</td>\n",
              "      <td>0</td>\n",
              "      <td>8</td>\n",
              "      <td>3</td>\n",
              "      <td>4</td>\n",
              "      <td>1</td>\n",
              "      <td>8614</td>\n",
              "      <td>0</td>\n",
              "      <td>40</td>\n",
              "      <td>15</td>\n",
              "    </tr>\n",
              "    <tr>\n",
              "      <th>3</th>\n",
              "      <td>28</td>\n",
              "      <td>1</td>\n",
              "      <td>183155</td>\n",
              "      <td>13</td>\n",
              "      <td>13</td>\n",
              "      <td>6</td>\n",
              "      <td>12</td>\n",
              "      <td>4</td>\n",
              "      <td>4</td>\n",
              "      <td>1</td>\n",
              "      <td>0</td>\n",
              "      <td>0</td>\n",
              "      <td>55</td>\n",
              "      <td>15</td>\n",
              "    </tr>\n",
              "    <tr>\n",
              "      <th>4</th>\n",
              "      <td>54</td>\n",
              "      <td>4</td>\n",
              "      <td>182543</td>\n",
              "      <td>12</td>\n",
              "      <td>10</td>\n",
              "      <td>3</td>\n",
              "      <td>6</td>\n",
              "      <td>2</td>\n",
              "      <td>4</td>\n",
              "      <td>0</td>\n",
              "      <td>0</td>\n",
              "      <td>0</td>\n",
              "      <td>40</td>\n",
              "      <td>29</td>\n",
              "    </tr>\n",
              "  </tbody>\n",
              "</table>\n",
              "</div>\n",
              "      <button class=\"colab-df-convert\" onclick=\"convertToInteractive('df-259c8531-7ec8-4fbe-9884-8c3d0c7671b4')\"\n",
              "              title=\"Convert this dataframe to an interactive table.\"\n",
              "              style=\"display:none;\">\n",
              "        \n",
              "  <svg xmlns=\"http://www.w3.org/2000/svg\" height=\"24px\"viewBox=\"0 0 24 24\"\n",
              "       width=\"24px\">\n",
              "    <path d=\"M0 0h24v24H0V0z\" fill=\"none\"/>\n",
              "    <path d=\"M18.56 5.44l.94 2.06.94-2.06 2.06-.94-2.06-.94-.94-2.06-.94 2.06-2.06.94zm-11 1L8.5 8.5l.94-2.06 2.06-.94-2.06-.94L8.5 2.5l-.94 2.06-2.06.94zm10 10l.94 2.06.94-2.06 2.06-.94-2.06-.94-.94-2.06-.94 2.06-2.06.94z\"/><path d=\"M17.41 7.96l-1.37-1.37c-.4-.4-.92-.59-1.43-.59-.52 0-1.04.2-1.43.59L10.3 9.45l-7.72 7.72c-.78.78-.78 2.05 0 2.83L4 21.41c.39.39.9.59 1.41.59.51 0 1.02-.2 1.41-.59l7.78-7.78 2.81-2.81c.8-.78.8-2.07 0-2.86zM5.41 20L4 18.59l7.72-7.72 1.47 1.35L5.41 20z\"/>\n",
              "  </svg>\n",
              "      </button>\n",
              "      \n",
              "  <style>\n",
              "    .colab-df-container {\n",
              "      display:flex;\n",
              "      flex-wrap:wrap;\n",
              "      gap: 12px;\n",
              "    }\n",
              "\n",
              "    .colab-df-convert {\n",
              "      background-color: #E8F0FE;\n",
              "      border: none;\n",
              "      border-radius: 50%;\n",
              "      cursor: pointer;\n",
              "      display: none;\n",
              "      fill: #1967D2;\n",
              "      height: 32px;\n",
              "      padding: 0 0 0 0;\n",
              "      width: 32px;\n",
              "    }\n",
              "\n",
              "    .colab-df-convert:hover {\n",
              "      background-color: #E2EBFA;\n",
              "      box-shadow: 0px 1px 2px rgba(60, 64, 67, 0.3), 0px 1px 3px 1px rgba(60, 64, 67, 0.15);\n",
              "      fill: #174EA6;\n",
              "    }\n",
              "\n",
              "    [theme=dark] .colab-df-convert {\n",
              "      background-color: #3B4455;\n",
              "      fill: #D2E3FC;\n",
              "    }\n",
              "\n",
              "    [theme=dark] .colab-df-convert:hover {\n",
              "      background-color: #434B5C;\n",
              "      box-shadow: 0px 1px 3px 1px rgba(0, 0, 0, 0.15);\n",
              "      filter: drop-shadow(0px 1px 2px rgba(0, 0, 0, 0.3));\n",
              "      fill: #FFFFFF;\n",
              "    }\n",
              "  </style>\n",
              "\n",
              "      <script>\n",
              "        const buttonEl =\n",
              "          document.querySelector('#df-259c8531-7ec8-4fbe-9884-8c3d0c7671b4 button.colab-df-convert');\n",
              "        buttonEl.style.display =\n",
              "          google.colab.kernel.accessAllowed ? 'block' : 'none';\n",
              "\n",
              "        async function convertToInteractive(key) {\n",
              "          const element = document.querySelector('#df-259c8531-7ec8-4fbe-9884-8c3d0c7671b4');\n",
              "          const dataTable =\n",
              "            await google.colab.kernel.invokeFunction('convertToInteractive',\n",
              "                                                     [key], {});\n",
              "          if (!dataTable) return;\n",
              "\n",
              "          const docLinkHtml = 'Like what you see? Visit the ' +\n",
              "            '<a target=\"_blank\" href=https://colab.research.google.com/notebooks/data_table.ipynb>data table notebook</a>'\n",
              "            + ' to learn more about interactive tables.';\n",
              "          element.innerHTML = '';\n",
              "          dataTable['output_type'] = 'display_data';\n",
              "          await google.colab.output.renderOutput(dataTable, element);\n",
              "          const docLink = document.createElement('div');\n",
              "          docLink.innerHTML = docLinkHtml;\n",
              "          element.appendChild(docLink);\n",
              "        }\n",
              "      </script>\n",
              "    </div>\n",
              "  </div>\n",
              "  "
            ]
          },
          "metadata": {}
        }
      ]
    },
    {
      "cell_type": "code",
      "source": [
        "train.isnull().sum()"
      ],
      "metadata": {
        "colab": {
          "base_uri": "https://localhost:8080/"
        },
        "id": "KrCYGrT_9pfI",
        "outputId": "bce8ee98-16ea-4656-dcb6-3cba1b17cfd6"
      },
      "execution_count": null,
      "outputs": [
        {
          "output_type": "execute_result",
          "data": {
            "text/plain": [
              "age               0\n",
              "workclass         0\n",
              "fnlwgt            0\n",
              "education         0\n",
              "education.num     0\n",
              "marital.status    0\n",
              "occupation        0\n",
              "relationship      0\n",
              "race              0\n",
              "sex               0\n",
              "capital.gain      0\n",
              "capital.loss      0\n",
              "hours.per.week    0\n",
              "native.country    0\n",
              "target            0\n",
              "dtype: int64"
            ]
          },
          "metadata": {},
          "execution_count": 46
        }
      ]
    },
    {
      "cell_type": "code",
      "source": [
        "test.isnull().sum()"
      ],
      "metadata": {
        "colab": {
          "base_uri": "https://localhost:8080/"
        },
        "id": "-9rdbWSw9rlw",
        "outputId": "ac25f3b1-6dfb-4fd4-bb77-bd13354cb455"
      },
      "execution_count": null,
      "outputs": [
        {
          "output_type": "execute_result",
          "data": {
            "text/plain": [
              "age               0\n",
              "workclass         0\n",
              "fnlwgt            0\n",
              "education         0\n",
              "education.num     0\n",
              "marital.status    0\n",
              "occupation        0\n",
              "relationship      0\n",
              "race              0\n",
              "sex               0\n",
              "capital.gain      0\n",
              "capital.loss      0\n",
              "hours.per.week    0\n",
              "native.country    0\n",
              "dtype: int64"
            ]
          },
          "metadata": {},
          "execution_count": 47
        }
      ]
    },
    {
      "cell_type": "markdown",
      "source": [
        "### 스케일링 및 데이터의 분포 확인"
      ],
      "metadata": {
        "id": "RnK4bkuh-NgY"
      }
    },
    {
      "cell_type": "markdown",
      "source": [
        "#### 데이터의 분포 확인"
      ],
      "metadata": {
        "id": "3PIX7Aiy_dxu"
      }
    },
    {
      "cell_type": "code",
      "source": [
        "# percent = sum은 막대들의 높이의 합이 100이 되도록 하는 것\n",
        "# 범주형 데이터들은 비슷한 분포를 가진다는 것을 확인할 수 있다.\n",
        "# age, fnlwgt, capital.gain, capital.loss 모두 양의 왜도를 지닌다. 그리고 capital과 관련된 변수 2개는 대부분의 값이 거의 0임을 알 수 있다.\n",
        "# 한편, train, test의 분포는 상당히 유사하다고 할 수 있다.\n",
        "fig, axes = plt.subplots(nrows = 4, ncols = 4, figsize = (15, 15))\n",
        "\n",
        "column_list = test.columns\n",
        "\n",
        "for index, column in enumerate(column_list):\n",
        "    \n",
        "    row = index // 4\n",
        "    col = index % 4\n",
        "    \n",
        "    # Train data visualization\n",
        "    sns.histplot(x = column, data = train, stat = \"percent\", color = \"blue\", alpha = 0.3, label = \"Train\", ax = axes[row][col])\n",
        "    \n",
        "    # Test data visualization\n",
        "    sns.histplot(x = column, data = test, stat = \"percent\", color = \"yellow\", alpha = 0.3, label = \"Test\", ax = axes[row][col])\n",
        "    \n",
        "    axes[row][col].set_title(\"Histplot of {}\".format(column))\n",
        "    axes[row][col].set_xlabel(\"\")\n",
        "    axes[row][col].set_ylabel(\"\")\n",
        "    axes[row][col].legend()\n",
        "    \n",
        "fig.tight_layout(pad = 1.5)"
      ],
      "metadata": {
        "id": "0T9BtYhX_W67",
        "colab": {
          "base_uri": "https://localhost:8080/"
        },
        "outputId": "2d6e9fdf-4e41-40b5-9a76-e8a0890442da"
      },
      "execution_count": null,
      "outputs": [
        {
          "output_type": "display_data",
          "data": {
            "text/plain": [
              "<Figure size 1080x1080 with 16 Axes>"
            ],
            "image/png": "[encoded data removed]"
          },
          "metadata": {
            "needs_background": "light"
          }
        }
      ]
    },
    {
      "cell_type": "markdown",
      "source": [
        "#### 로그변환"
      ],
      "metadata": {
        "id": "b8e-WO_qB8U7"
      }
    },
    {
      "cell_type": "code",
      "source": [
        "# 왜도와 첨도를 관측하고, 왜도와 첨도가 큰 데이터에 로그를 취한다.\n",
        "numeric_columns = ['age', 'fnlwgt', 'education.num', 'capital.gain', 'capital.loss', 'hours.per.week']\n",
        "for column in numeric_columns:\n",
        "  print(\"{:15}\".format(column),\n",
        "        'Skewness:{}'.format(train[column].skew()),\n",
        "        'Kurtosis:{}'.format(train[column].kurt()))"
      ],
      "metadata": {
        "id": "ydvsn3fkB-vi",
        "colab": {
          "base_uri": "https://localhost:8080/"
        },
        "outputId": "5e29b602-fee8-4242-e6e7-fb0fcb502152"
      },
      "execution_count": null,
      "outputs": [
        {
          "output_type": "stream",
          "name": "stdout",
          "text": [
            "age             Skewness:0.5347514796971361 Kurtosis:-0.1394013821130593\n",
            "fnlwgt          Skewness:1.4170239926716877 Kurtosis:6.231188254166485\n",
            "education.num   Skewness:-0.34014523794894624 Kurtosis:0.6163769181677043\n",
            "capital.gain    Skewness:11.585169593969049 Kurtosis:144.5462131916584\n",
            "capital.loss    Skewness:4.583033052806039 Kurtosis:20.085963911239503\n",
            "hours.per.week  Skewness:0.3535615391484752 Kurtosis:3.2267895362092025\n"
          ]
        }
      ]
    },
    {
      "cell_type": "code",
      "source": [
        "# fnlwgt, capital.gain, capital.loss에 대해서 log변환을 사용해 주기로 함.\n",
        "train[\"fnlwgt\"] = train[\"fnlwgt\"].apply(lambda x: np.log1p(x))\n",
        "train[\"capital.gain\"] = train[\"capital.gain\"].apply(lambda x: np.log1p(x))\n",
        "train[\"capital.loss\"] = train[\"capital.loss\"].apply(lambda x: np.log1p(x))"
      ],
      "metadata": {
        "id": "7OUiHgt1Dlm-"
      },
      "execution_count": null,
      "outputs": []
    },
    {
      "cell_type": "code",
      "source": [
        "# 여전히 정규분포에서는 많이 벗어난 모습을 보이지만 이전에 비해서는 훨씬 낫다\n",
        "numeric_columns = ['age', 'fnlwgt', 'education.num', 'capital.gain', 'capital.loss', 'hours.per.week']\n",
        "for column in numeric_columns:\n",
        "  print(\"{:15}\".format(column),\n",
        "        'Skewness:{}'.format(train[column].skew()),\n",
        "        'Kurtosis:{}'.format(train[column].kurt()))"
      ],
      "metadata": {
        "id": "V-PqLa-gEUAC",
        "colab": {
          "base_uri": "https://localhost:8080/"
        },
        "outputId": "c86a9f57-289f-49dd-9943-cc17a2c00210"
      },
      "execution_count": null,
      "outputs": [
        {
          "output_type": "stream",
          "name": "stdout",
          "text": [
            "age             Skewness:0.5347514796971361 Kurtosis:-0.1394013821130593\n",
            "fnlwgt          Skewness:-0.8616098997379611 Kurtosis:0.8897593266708816\n",
            "education.num   Skewness:-0.34014523794894624 Kurtosis:0.6163769181677043\n",
            "capital.gain    Skewness:3.0687133282593284 Kurtosis:7.6234161812546954\n",
            "capital.loss    Skewness:4.332038680942931 Kurtosis:16.78697586510876\n",
            "hours.per.week  Skewness:0.3535615391484752 Kurtosis:3.2267895362092025\n"
          ]
        }
      ]
    },
    {
      "cell_type": "code",
      "source": [
        "# test에 대해서도 log변환을 적용\n",
        "test[\"fnlwgt\"] = test[\"fnlwgt\"].apply(lambda x: np.log1p(x))\n",
        "test[\"capital.gain\"] = test[\"capital.gain\"].apply(lambda x: np.log1p(x))\n",
        "test[\"capital.loss\"] = test[\"capital.loss\"].apply(lambda x: np.log1p(x))"
      ],
      "metadata": {
        "id": "iaZxpQ_WEV7A"
      },
      "execution_count": null,
      "outputs": []
    },
    {
      "cell_type": "markdown",
      "source": [
        "#### 스케일링"
      ],
      "metadata": {
        "id": "f9LKd4SGCwKR"
      }
    },
    {
      "cell_type": "code",
      "source": [
        "from sklearn.preprocessing import MinMaxScaler, StandardScaler\n",
        "scaler = StandardScaler()\n",
        "train.iloc[:,:-1] = scaler.fit_transform(train.iloc[:,:-1])\n",
        "test = scaler.transform(test)"
      ],
      "metadata": {
        "id": "IGvwG-Gy-PoE"
      },
      "execution_count": null,
      "outputs": []
    },
    {
      "cell_type": "code",
      "source": [
        "test = pd.DataFrame(test, columns=train.columns[:-1])"
      ],
      "metadata": {
        "id": "GjLu4aJBFCna"
      },
      "execution_count": null,
      "outputs": []
    },
    {
      "cell_type": "markdown",
      "source": [
        "#### 로그변환과 스케일링을 모두 적용 후 분포 확인"
      ],
      "metadata": {
        "id": "yF05gFF2Fm6f"
      }
    },
    {
      "cell_type": "code",
      "source": [
        "fig, axes = plt.subplots(nrows = 4, ncols = 4, figsize = (15, 15))\n",
        "\n",
        "column_list = test.columns\n",
        "\n",
        "for index, column in enumerate(column_list):\n",
        "    \n",
        "    row = index // 4\n",
        "    col = index % 4\n",
        "    \n",
        "    # Train data visualization\n",
        "    sns.histplot(x = column, data = train, stat = \"percent\", color = \"blue\", alpha = 0.3, label = \"Train\", ax = axes[row][col])\n",
        "    \n",
        "    # Test data visualization\n",
        "    sns.histplot(x = column, data = test, stat = \"percent\", color = \"yellow\", alpha = 0.3, label = \"Test\", ax = axes[row][col])\n",
        "    \n",
        "    axes[row][col].set_title(\"Histplot of {}\".format(column))\n",
        "    axes[row][col].set_xlabel(\"\")\n",
        "    axes[row][col].set_ylabel(\"\")\n",
        "    axes[row][col].legend()\n",
        "    \n",
        "fig.tight_layout(pad = 1.5)"
      ],
      "metadata": {
        "id": "mfkrZiw4FrxP",
        "colab": {
          "base_uri": "https://localhost:8080/"
        },
        "outputId": "8c3dc998-a74f-433b-c472-66bfe4a4e7b6"
      },
      "execution_count": null,
      "outputs": [
        {
          "output_type": "display_data",
          "data": {
            "text/plain": [
              "<Figure size 1080x1080 with 16 Axes>"
            ],
            "image/png": "[encoded data removed]"
          },
          "metadata": {
            "needs_background": "light"
          }
        }
      ]
    },
    {
      "cell_type": "markdown",
      "source": [
        "#### X와 y 나누기"
      ],
      "metadata": {
        "id": "Yl_lS2XXHBY3"
      }
    },
    {
      "cell_type": "code",
      "source": [
        "X_train = train.drop('target', axis=1)\n",
        "y_train = train[['target']]\n",
        "X_test = test"
      ],
      "metadata": {
        "id": "yEntWh_GG_z6"
      },
      "execution_count": null,
      "outputs": []
    },
    {
      "cell_type": "markdown",
      "source": [
        "### 불균형 데이터 처리(실행하지 않음)"
      ],
      "metadata": {
        "id": "CgqORZ_SGJxy"
      }
    },
    {
      "cell_type": "code",
      "source": [
        "#불균형데이터 처리가 필요해 보인다.\n",
        "#display(train.target.value_counts())\n",
        "#sns.countplot(x=train.target)\n",
        "#plt.show()"
      ],
      "metadata": {
        "id": "p_C402D5btJb"
      },
      "execution_count": null,
      "outputs": []
    },
    {
      "cell_type": "code",
      "source": [
        "#SMOTE를 사용한 oversampling\n",
        "#from imblearn.under_sampling import *\n",
        "#from imblearn.over_sampling import *\n",
        "#from imblearn.combine import *\n",
        "\n",
        "#X_train, y_train = SMOTE(random_state=42).fit_resample(X_train, y_train)"
      ],
      "metadata": {
        "id": "tRSAP27_bqQE"
      },
      "execution_count": null,
      "outputs": []
    },
    {
      "cell_type": "code",
      "source": [
        "#확인!\n",
        "#y_train.value_counts()"
      ],
      "metadata": {
        "id": "YfONrvdsbvo3"
      },
      "execution_count": null,
      "outputs": []
    },
    {
      "cell_type": "markdown",
      "source": [
        "## 모델 사용하기"
      ],
      "metadata": {
        "id": "r64AqAt4IsL9"
      }
    },
    {
      "cell_type": "code",
      "source": [
        "np.random.seed(42)"
      ],
      "metadata": {
        "id": "Kmbl4HGkIub2"
      },
      "execution_count": null,
      "outputs": []
    },
    {
      "cell_type": "code",
      "source": [
        "!pip install catboost\n",
        "!pip install Bayesian-Optimization\n",
        "!pip install Optuna"
      ],
      "metadata": {
        "id": "v22QLoxFI4S7",
        "colab": {
          "base_uri": "https://localhost:8080/"
        },
        "outputId": "cf7b803b-6acc-41ba-8c81-21172de43397"
      },
      "execution_count": null,
      "outputs": [
        {
          "output_type": "stream",
          "name": "stdout",
          "text": [
            "Requirement already satisfied: catboost in /usr/local/lib/python3.7/dist-packages (1.0.5)\n",
            "Requirement already satisfied: scipy in /usr/local/lib/python3.7/dist-packages (from catboost) (1.4.1)\n",
            "Requirement already satisfied: numpy>=1.16.0 in /usr/local/lib/python3.7/dist-packages (from catboost) (1.21.6)\n",
            "Requirement already satisfied: graphviz in /usr/local/lib/python3.7/dist-packages (from catboost) (0.10.1)\n",
            "Requirement already satisfied: plotly in /usr/local/lib/python3.7/dist-packages (from catboost) (5.5.0)\n",
            "Requirement already satisfied: six in /usr/local/lib/python3.7/dist-packages (from catboost) (1.15.0)\n",
            "Requirement already satisfied: matplotlib in /usr/local/lib/python3.7/dist-packages (from catboost) (3.2.2)\n",
            "Requirement already satisfied: pandas>=0.24.0 in /usr/local/lib/python3.7/dist-packages (from catboost) (1.3.5)\n",
            "Requirement already satisfied: python-dateutil>=2.7.3 in /usr/local/lib/python3.7/dist-packages (from pandas>=0.24.0->catboost) (2.8.2)\n",
            "Requirement already satisfied: pytz>=2017.3 in /usr/local/lib/python3.7/dist-packages (from pandas>=0.24.0->catboost) (2022.1)\n",
            "Requirement already satisfied: pyparsing!=2.0.4,!=2.1.2,!=2.1.6,>=2.0.1 in /usr/local/lib/python3.7/dist-packages (from matplotlib->catboost) (3.0.8)\n",
            "Requirement already satisfied: cycler>=0.10 in /usr/local/lib/python3.7/dist-packages (from matplotlib->catboost) (0.11.0)\n",
            "Requirement already satisfied: kiwisolver>=1.0.1 in /usr/local/lib/python3.7/dist-packages (from matplotlib->catboost) (1.4.2)\n",
            "Requirement already satisfied: typing-extensions in /usr/local/lib/python3.7/dist-packages (from kiwisolver>=1.0.1->matplotlib->catboost) (4.2.0)\n",
            "Requirement already satisfied: tenacity>=6.2.0 in /usr/local/lib/python3.7/dist-packages (from plotly->catboost) (8.0.1)\n",
            "Requirement already satisfied: Bayesian-Optimization in /usr/local/lib/python3.7/dist-packages (1.2.0)\n",
            "Requirement already satisfied: numpy>=1.9.0 in /usr/local/lib/python3.7/dist-packages (from Bayesian-Optimization) (1.21.6)\n",
            "Requirement already satisfied: scipy>=0.14.0 in /usr/local/lib/python3.7/dist-packages (from Bayesian-Optimization) (1.4.1)\n",
            "Requirement already satisfied: scikit-learn>=0.18.0 in /usr/local/lib/python3.7/dist-packages (from Bayesian-Optimization) (1.0.2)\n",
            "Requirement already satisfied: threadpoolctl>=2.0.0 in /usr/local/lib/python3.7/dist-packages (from scikit-learn>=0.18.0->Bayesian-Optimization) (3.1.0)\n",
            "Requirement already satisfied: joblib>=0.11 in /usr/local/lib/python3.7/dist-packages (from scikit-learn>=0.18.0->Bayesian-Optimization) (1.1.0)\n",
            "Requirement already satisfied: Optuna in /usr/local/lib/python3.7/dist-packages (2.10.0)\n",
            "Requirement already satisfied: numpy in /usr/local/lib/python3.7/dist-packages (from Optuna) (1.21.6)\n",
            "Requirement already satisfied: alembic in /usr/local/lib/python3.7/dist-packages (from Optuna) (1.7.7)\n",
            "Requirement already satisfied: cliff in /usr/local/lib/python3.7/dist-packages (from Optuna) (3.10.1)\n",
            "Requirement already satisfied: colorlog in /usr/local/lib/python3.7/dist-packages (from Optuna) (6.6.0)\n",
            "Requirement already satisfied: tqdm in /usr/local/lib/python3.7/dist-packages (from Optuna) (4.64.0)\n",
            "Requirement already satisfied: PyYAML in /usr/local/lib/python3.7/dist-packages (from Optuna) (3.13)\n",
            "Requirement already satisfied: sqlalchemy>=1.1.0 in /usr/local/lib/python3.7/dist-packages (from Optuna) (1.4.36)\n",
            "Requirement already satisfied: scipy!=1.4.0 in /usr/local/lib/python3.7/dist-packages (from Optuna) (1.4.1)\n",
            "Requirement already satisfied: cmaes>=0.8.2 in /usr/local/lib/python3.7/dist-packages (from Optuna) (0.8.2)\n",
            "Requirement already satisfied: packaging>=20.0 in /usr/local/lib/python3.7/dist-packages (from Optuna) (21.3)\n",
            "Requirement already satisfied: pyparsing!=3.0.5,>=2.0.2 in /usr/local/lib/python3.7/dist-packages (from packaging>=20.0->Optuna) (3.0.8)\n",
            "Requirement already satisfied: importlib-metadata in /usr/local/lib/python3.7/dist-packages (from sqlalchemy>=1.1.0->Optuna) (4.11.3)\n",
            "Requirement already satisfied: greenlet!=0.4.17 in /usr/local/lib/python3.7/dist-packages (from sqlalchemy>=1.1.0->Optuna) (1.1.2)\n",
            "Requirement already satisfied: importlib-resources in /usr/local/lib/python3.7/dist-packages (from alembic->Optuna) (5.7.1)\n",
            "Requirement already satisfied: Mako in /usr/local/lib/python3.7/dist-packages (from alembic->Optuna) (1.2.0)\n",
            "Requirement already satisfied: PrettyTable>=0.7.2 in /usr/local/lib/python3.7/dist-packages (from cliff->Optuna) (3.2.0)\n",
            "Requirement already satisfied: stevedore>=2.0.1 in /usr/local/lib/python3.7/dist-packages (from cliff->Optuna) (3.5.0)\n",
            "Requirement already satisfied: cmd2>=1.0.0 in /usr/local/lib/python3.7/dist-packages (from cliff->Optuna) (2.4.1)\n",
            "Requirement already satisfied: autopage>=0.4.0 in /usr/local/lib/python3.7/dist-packages (from cliff->Optuna) (0.5.0)\n",
            "Requirement already satisfied: pbr!=2.1.0,>=2.0.0 in /usr/local/lib/python3.7/dist-packages (from cliff->Optuna) (5.8.1)\n",
            "Requirement already satisfied: wcwidth>=0.1.7 in /usr/local/lib/python3.7/dist-packages (from cmd2>=1.0.0->cliff->Optuna) (0.2.5)\n",
            "Requirement already satisfied: attrs>=16.3.0 in /usr/local/lib/python3.7/dist-packages (from cmd2>=1.0.0->cliff->Optuna) (21.4.0)\n",
            "Requirement already satisfied: typing-extensions in /usr/local/lib/python3.7/dist-packages (from cmd2>=1.0.0->cliff->Optuna) (4.2.0)\n",
            "Requirement already satisfied: pyperclip>=1.6 in /usr/local/lib/python3.7/dist-packages (from cmd2>=1.0.0->cliff->Optuna) (1.8.2)\n",
            "Requirement already satisfied: zipp>=0.5 in /usr/local/lib/python3.7/dist-packages (from importlib-metadata->sqlalchemy>=1.1.0->Optuna) (3.8.0)\n",
            "Requirement already satisfied: MarkupSafe>=0.9.2 in /usr/local/lib/python3.7/dist-packages (from Mako->alembic->Optuna) (2.0.1)\n"
          ]
        }
      ]
    },
    {
      "cell_type": "markdown",
      "source": [
        "### 다양한 모델 사용해보기"
      ],
      "metadata": {
        "id": "9ePxhlzsKgkf"
      }
    },
    {
      "cell_type": "code",
      "source": [
        "from sklearn.neighbors import KNeighborsClassifier #KNN\n",
        "from sklearn.svm import SVC    #SVC\n",
        "from sklearn.linear_model import LogisticRegression  #LogisticRegression\n",
        "from sklearn.tree import DecisionTreeClassifier  #DecisionTree\n",
        "from sklearn.naive_bayes import GaussianNB   #가우시안\n",
        "from sklearn.naive_bayes import ComplementNB #complement 가우지안\n",
        "from sklearn.ensemble import RandomForestClassifier #RandomForest\n",
        "from sklearn.ensemble import AdaBoostClassifier   #Adaboost   \n",
        "from xgboost import XGBClassifier   #XGBoost\n",
        "from lightgbm import LGBMClassifier  #Light GBM\n",
        "from catboost import CatBoostClassifier #Catboost\n",
        "from sklearn.ensemble import ExtraTreesClassifier #extra\n",
        "\n",
        "from sklearn.ensemble import VotingClassifier #voting \n",
        "from sklearn.ensemble import StackingClassifier\n",
        "\n",
        "from sklearn.model_selection import GridSearchCV, RandomizedSearchCV\n",
        "from sklearn.model_selection import train_test_split, cross_validate\n",
        "from sklearn.model_selection import KFold, StratifiedKFold\n",
        "from bayes_opt import BayesianOptimization\n",
        "import warnings\n",
        "warnings.filterwarnings('ignore')\n",
        "from sklearn.metrics import accuracy_score, precision_score, recall_score, f1_score"
      ],
      "metadata": {
        "id": "_Pi-fqBzI5v_"
      },
      "execution_count": null,
      "outputs": []
    },
    {
      "cell_type": "code",
      "source": [
        "def return_score(model):\n",
        "  average_accuracy = cross_validate(model,X_train,y_train, scoring=\"accuracy\", cv=10)['test_score'].mean()\n",
        "  print(model)\n",
        "  print(\"average_accuracy: \", average_accuracy)"
      ],
      "metadata": {
        "id": "5KrdvDbBJ3Y3"
      },
      "execution_count": null,
      "outputs": []
    },
    {
      "cell_type": "code",
      "source": [
        "knn = KNeighborsClassifier()\n",
        "svm = SVC()\n",
        "lr = LogisticRegression()\n",
        "dt = DecisionTreeClassifier()\n",
        "gnb = GaussianNB()\n",
        "cnb = ComplementNB()\n",
        "rf = RandomForestClassifier()\n",
        "ada = AdaBoostClassifier()\n",
        "xgb = XGBClassifier()\n",
        "lgbm = LGBMClassifier()\n",
        "etc= ExtraTreesClassifier()\n",
        "cat = CatBoostClassifier(silent=True)\n",
        "\n",
        "model_list = [knn,svm,lr, dt,gnb, cnb, rf,ada,xgb,lgbm,etc,cat]"
      ],
      "metadata": {
        "id": "dwRbQSiMJ6on"
      },
      "execution_count": null,
      "outputs": []
    },
    {
      "cell_type": "code",
      "source": [
        "\"\"\"다양한 모델들을 사용해 본 결과, knn, dt, rf, \n",
        "lgb, etc, catboost등이 좋은 성능을 보여주었다.\"\"\"\n",
        "for model in model_list:\n",
        "  return_score(model)"
      ],
      "metadata": {
        "id": "iXZNBQadKRR3",
        "colab": {
          "base_uri": "https://localhost:8080/"
        },
        "outputId": "da806a6f-61f8-442b-c24e-0dd62528210c"
      },
      "execution_count": null,
      "outputs": [
        {
          "output_type": "stream",
          "name": "stdout",
          "text": [
            "KNeighborsClassifier()\n",
            "average_accuracy:  0.8222688841872392\n",
            "SVC()\n",
            "average_accuracy:  0.8437570872461476\n",
            "LogisticRegression()\n",
            "average_accuracy:  0.8378732207228214\n",
            "DecisionTreeClassifier()\n",
            "average_accuracy:  0.8042345528714698\n",
            "GaussianNB()\n",
            "average_accuracy:  0.7977745024405489\n",
            "ComplementNB()\n",
            "average_accuracy:  nan\n",
            "RandomForestClassifier()\n",
            "average_accuracy:  0.8519433576651891\n",
            "AdaBoostClassifier()\n",
            "average_accuracy:  0.856037351934849\n",
            "XGBClassifier()\n",
            "average_accuracy:  0.8584676739760413\n",
            "LGBMClassifier()\n",
            "average_accuracy:  0.8655669469657179\n",
            "ExtraTreesClassifier()\n",
            "average_accuracy:  0.8406236858425252\n",
            "<catboost.core.CatBoostClassifier object at 0x7fd67af9b110>\n",
            "average_accuracy:  0.8672301692103028\n"
          ]
        }
      ]
    },
    {
      "cell_type": "markdown",
      "source": [
        "### 하이퍼파라미터 튜닝(Optuna)"
      ],
      "metadata": {
        "id": "rt2LQM70Lf30"
      }
    },
    {
      "cell_type": "code",
      "source": [
        "import optuna\n",
        "from optuna import Trial,visualization\n",
        "from optuna.samplers import TPESampler"
      ],
      "metadata": {
        "id": "8uOqTbYzNZAB"
      },
      "execution_count": null,
      "outputs": []
    },
    {
      "cell_type": "code",
      "source": [
        "skf = StratifiedKFold(n_splits=10, shuffle=True, random_state=42)"
      ],
      "metadata": {
        "id": "fgoediE5NmRK"
      },
      "execution_count": null,
      "outputs": []
    },
    {
      "cell_type": "markdown",
      "source": [
        "####knn"
      ],
      "metadata": {
        "id": "DTqJc4tvMhiD"
      }
    },
    {
      "cell_type": "code",
      "source": [
        "def objectiveKNN(trial:Trial) -> float:\n",
        "  score_list = []\n",
        "  params = {\n",
        "    'n_neighbors' : trial.suggest_int('n_neighbors', 5, 200),\n",
        "    'weights': trial.suggest_categorical('weights', ['distance', 'uniform'])}\n",
        "  for tr_idx, val_idx in skf.split(X_train, y_train):\n",
        "    X_tr, X_val = np.array(X_train)[tr_idx], np.array(X_train)[val_idx]\n",
        "    y_tr, y_val = np.array(y_train)[tr_idx], np.array(y_train)[val_idx]\n",
        "    knn = KNeighborsClassifier(**params)\n",
        "    knn = knn.fit(X_tr, y_tr)\n",
        "    predictions = knn.predict(X_val)\n",
        "    score = accuracy_score(y_val, predictions)\n",
        "    score_list.append(score)\n",
        "  return np.mean(score_list)"
      ],
      "metadata": {
        "id": "s9k3mxvPKTLf"
      },
      "execution_count": null,
      "outputs": []
    },
    {
      "cell_type": "code",
      "source": [
        "knn_study = optuna.create_study(\n",
        "    study_name = 'knn_test',\n",
        "    direction='maximize',\n",
        "    sampler = TPESampler(seed=42)\n",
        ")"
      ],
      "metadata": {
        "id": "rNMic5z3RM68",
        "colab": {
          "base_uri": "https://localhost:8080/"
        },
        "outputId": "bf49269c-92af-4a91-ebbf-d5d2a1c4d57a"
      },
      "execution_count": null,
      "outputs": [
        {
          "output_type": "stream",
          "name": "stderr",
          "text": [
            "\u001b[32m[I 2022-04-30 05:53:36,842]\u001b[0m A new study created in memory with name: knn_test\u001b[0m\n"
          ]
        }
      ]
    },
    {
      "cell_type": "code",
      "source": [
        "# 'n_neighbors': 26, 'weights': 'uniform'\n",
        "knn_study.optimize(objectiveKNN, n_trials=50)\n",
        "print(\"Best Score:\", knn_study.best_value)\n",
        "print(\"Best trial:\", knn_study.best_trial.params)"
      ],
      "metadata": {
        "id": "l6iGgoTkRTU9",
        "colab": {
          "base_uri": "https://localhost:8080/"
        },
        "outputId": "4938406a-6d6b-4607-ba64-ceff7bf29391"
      },
      "execution_count": null,
      "outputs": [
        {
          "output_type": "stream",
          "name": "stderr",
          "text": [
            "\u001b[32m[I 2022-04-30 05:53:43,580]\u001b[0m Trial 0 finished with value: 0.8363395938363662 and parameters: {'n_neighbors': 78, 'weights': 'distance'}. Best is trial 0 with value: 0.8363395938363662.\u001b[0m\n",
            "\u001b[32m[I 2022-04-30 05:53:57,925]\u001b[0m Trial 1 finished with value: 0.835060657827347 and parameters: {'n_neighbors': 122, 'weights': 'distance'}. Best is trial 0 with value: 0.8363395938363662.\u001b[0m\n",
            "\u001b[32m[I 2022-04-30 05:54:07,400]\u001b[0m Trial 2 finished with value: 0.83435716938866 and parameters: {'n_neighbors': 16, 'weights': 'distance'}. Best is trial 0 with value: 0.8363395938363662.\u001b[0m\n",
            "\u001b[32m[I 2022-04-30 05:54:18,283]\u001b[0m Trial 3 finished with value: 0.8348050260745206 and parameters: {'n_neighbors': 143, 'weights': 'uniform'}. Best is trial 0 with value: 0.8363395938363662.\u001b[0m\n",
            "\u001b[32m[I 2022-04-30 05:54:24,848]\u001b[0m Trial 4 finished with value: 0.8359563302914422 and parameters: {'n_neighbors': 168, 'weights': 'distance'}. Best is trial 0 with value: 0.8363395938363662.\u001b[0m\n",
            "\u001b[32m[I 2022-04-30 05:54:30,057]\u001b[0m Trial 5 finished with value: 0.8376188980140166 and parameters: {'n_neighbors': 40, 'weights': 'uniform'}. Best is trial 5 with value: 0.8376188980140166.\u001b[0m\n",
            "\u001b[32m[I 2022-04-30 05:54:36,161]\u001b[0m Trial 6 finished with value: 0.8351885350651986 and parameters: {'n_neighbors': 89, 'weights': 'uniform'}. Best is trial 5 with value: 0.8376188980140166.\u001b[0m\n",
            "\u001b[32m[I 2022-04-30 05:54:41,215]\u001b[0m Trial 7 finished with value: 0.8370439004275665 and parameters: {'n_neighbors': 32, 'weights': 'uniform'}. Best is trial 5 with value: 0.8376188980140166.\u001b[0m\n",
            "\u001b[32m[I 2022-04-30 05:54:47,066]\u001b[0m Trial 8 finished with value: 0.8356359008595511 and parameters: {'n_neighbors': 94, 'weights': 'distance'}. Best is trial 5 with value: 0.8376188980140166.\u001b[0m\n",
            "\u001b[32m[I 2022-04-30 05:54:52,962]\u001b[0m Trial 9 finished with value: 0.8360196143883574 and parameters: {'n_neighbors': 105, 'weights': 'distance'}. Best is trial 5 with value: 0.8376188980140166.\u001b[0m\n",
            "\u001b[32m[I 2022-04-30 05:54:58,316]\u001b[0m Trial 10 finished with value: 0.8360834711920319 and parameters: {'n_neighbors': 45, 'weights': 'uniform'}. Best is trial 5 with value: 0.8376188980140166.\u001b[0m\n",
            "\u001b[32m[I 2022-04-30 05:55:02,103]\u001b[0m Trial 11 finished with value: 0.8259791240204668 and parameters: {'n_neighbors': 6, 'weights': 'uniform'}. Best is trial 5 with value: 0.8376188980140166.\u001b[0m\n",
            "\u001b[32m[I 2022-04-30 05:55:07,645]\u001b[0m Trial 12 finished with value: 0.8369150414066986 and parameters: {'n_neighbors': 50, 'weights': 'uniform'}. Best is trial 5 with value: 0.8376188980140166.\u001b[0m\n",
            "\u001b[32m[I 2022-04-30 05:55:13,402]\u001b[0m Trial 13 finished with value: 0.8358276349010773 and parameters: {'n_neighbors': 55, 'weights': 'uniform'}. Best is trial 5 with value: 0.8376188980140166.\u001b[0m\n",
            "\u001b[32m[I 2022-04-30 05:55:18,430]\u001b[0m Trial 14 finished with value: 0.8357645553422903 and parameters: {'n_neighbors': 29, 'weights': 'uniform'}. Best is trial 5 with value: 0.8376188980140166.\u001b[0m\n",
            "\u001b[32m[I 2022-04-30 05:55:25,561]\u001b[0m Trial 15 finished with value: 0.8342297421346908 and parameters: {'n_neighbors': 194, 'weights': 'uniform'}. Best is trial 5 with value: 0.8376188980140166.\u001b[0m\n",
            "\u001b[32m[I 2022-04-30 05:55:31,253]\u001b[0m Trial 16 finished with value: 0.8372991231041361 and parameters: {'n_neighbors': 61, 'weights': 'uniform'}. Best is trial 5 with value: 0.8376188980140166.\u001b[0m\n",
            "\u001b[32m[I 2022-04-30 05:55:37,073]\u001b[0m Trial 17 finished with value: 0.836211798413766 and parameters: {'n_neighbors': 72, 'weights': 'uniform'}. Best is trial 5 with value: 0.8376188980140166.\u001b[0m\n",
            "\u001b[32m[I 2022-04-30 05:55:42,812]\u001b[0m Trial 18 finished with value: 0.8356361053976794 and parameters: {'n_neighbors': 69, 'weights': 'uniform'}. Best is trial 5 with value: 0.8376188980140166.\u001b[0m\n",
            "\u001b[32m[I 2022-04-30 05:55:49,291]\u001b[0m Trial 19 finished with value: 0.8345490261530631 and parameters: {'n_neighbors': 126, 'weights': 'uniform'}. Best is trial 5 with value: 0.8376188980140166.\u001b[0m\n",
            "\u001b[32m[I 2022-04-30 05:55:54,926]\u001b[0m Trial 20 finished with value: 0.8373637162450727 and parameters: {'n_neighbors': 30, 'weights': 'uniform'}. Best is trial 5 with value: 0.8376188980140166.\u001b[0m\n",
            "\u001b[32m[I 2022-04-30 05:55:59,974]\u001b[0m Trial 21 finished with value: 0.8370439004275665 and parameters: {'n_neighbors': 32, 'weights': 'uniform'}. Best is trial 5 with value: 0.8376188980140166.\u001b[0m\n",
            "\u001b[32m[I 2022-04-30 05:56:05,411]\u001b[0m Trial 22 finished with value: 0.8366593687462467 and parameters: {'n_neighbors': 49, 'weights': 'uniform'}. Best is trial 5 with value: 0.8376188980140166.\u001b[0m\n",
            "\u001b[32m[I 2022-04-30 05:56:10,358]\u001b[0m Trial 23 finished with value: 0.8365316960465234 and parameters: {'n_neighbors': 21, 'weights': 'uniform'}. Best is trial 5 with value: 0.8376188980140166.\u001b[0m\n",
            "\u001b[32m[I 2022-04-30 05:56:17,073]\u001b[0m Trial 24 finished with value: 0.8372349799470818 and parameters: {'n_neighbors': 60, 'weights': 'uniform'}. Best is trial 5 with value: 0.8376188980140166.\u001b[0m\n",
            "\u001b[32m[I 2022-04-30 05:56:20,699]\u001b[0m Trial 25 finished with value: 0.8222051501064417 and parameters: {'n_neighbors': 5, 'weights': 'uniform'}. Best is trial 5 with value: 0.8376188980140166.\u001b[0m\n",
            "\u001b[32m[I 2022-04-30 05:56:25,790]\u001b[0m Trial 26 finished with value: 0.8377468570671196 and parameters: {'n_neighbors': 37, 'weights': 'uniform'}. Best is trial 26 with value: 0.8377468570671196.\u001b[0m\n",
            "\u001b[32m[I 2022-04-30 05:56:30,914]\u001b[0m Trial 27 finished with value: 0.8375552048408448 and parameters: {'n_neighbors': 36, 'weights': 'uniform'}. Best is trial 26 with value: 0.8377468570671196.\u001b[0m\n",
            "\u001b[32m[I 2022-04-30 05:56:36,105]\u001b[0m Trial 28 finished with value: 0.8376828366329423 and parameters: {'n_neighbors': 41, 'weights': 'uniform'}. Best is trial 26 with value: 0.8377468570671196.\u001b[0m\n",
            "\u001b[32m[I 2022-04-30 05:56:41,694]\u001b[0m Trial 29 finished with value: 0.8360837984530372 and parameters: {'n_neighbors': 83, 'weights': 'distance'}. Best is trial 26 with value: 0.8377468570671196.\u001b[0m\n",
            "\u001b[32m[I 2022-04-30 05:56:47,889]\u001b[0m Trial 30 finished with value: 0.8355720849635022 and parameters: {'n_neighbors': 103, 'weights': 'uniform'}. Best is trial 26 with value: 0.8377468570671196.\u001b[0m\n",
            "\u001b[32m[I 2022-04-30 05:56:53,115]\u001b[0m Trial 31 finished with value: 0.8376828366329423 and parameters: {'n_neighbors': 41, 'weights': 'uniform'}. Best is trial 26 with value: 0.8377468570671196.\u001b[0m\n",
            "\u001b[32m[I 2022-04-30 05:56:58,450]\u001b[0m Trial 32 finished with value: 0.8371709186052791 and parameters: {'n_neighbors': 44, 'weights': 'uniform'}. Best is trial 26 with value: 0.8377468570671196.\u001b[0m\n",
            "\u001b[32m[I 2022-04-30 05:57:02,954]\u001b[0m Trial 33 finished with value: 0.8348053533355259 and parameters: {'n_neighbors': 17, 'weights': 'uniform'}. Best is trial 26 with value: 0.8377468570671196.\u001b[0m\n",
            "\u001b[32m[I 2022-04-30 05:57:08,259]\u001b[0m Trial 34 finished with value: 0.8373626935544308 and parameters: {'n_neighbors': 63, 'weights': 'distance'}. Best is trial 26 with value: 0.8377468570671196.\u001b[0m\n",
            "\u001b[32m[I 2022-04-30 05:57:12,765]\u001b[0m Trial 35 finished with value: 0.8348053533355259 and parameters: {'n_neighbors': 17, 'weights': 'uniform'}. Best is trial 26 with value: 0.8377468570671196.\u001b[0m\n",
            "\u001b[32m[I 2022-04-30 05:57:18,264]\u001b[0m Trial 36 finished with value: 0.8359558803075599 and parameters: {'n_neighbors': 76, 'weights': 'distance'}. Best is trial 26 with value: 0.8377468570671196.\u001b[0m\n",
            "\u001b[32m[I 2022-04-30 05:57:23,488]\u001b[0m Trial 37 finished with value: 0.8376828366329423 and parameters: {'n_neighbors': 41, 'weights': 'uniform'}. Best is trial 26 with value: 0.8377468570671196.\u001b[0m\n",
            "\u001b[32m[I 2022-04-30 05:57:30,136]\u001b[0m Trial 38 finished with value: 0.8346134556634972 and parameters: {'n_neighbors': 145, 'weights': 'uniform'}. Best is trial 26 with value: 0.8377468570671196.\u001b[0m\n",
            "\u001b[32m[I 2022-04-30 05:57:34,887]\u001b[0m Trial 39 finished with value: 0.8369157777439608 and parameters: {'n_neighbors': 24, 'weights': 'uniform'}. Best is trial 26 with value: 0.8377468570671196.\u001b[0m\n",
            "\u001b[32m[I 2022-04-30 05:57:40,895]\u001b[0m Trial 40 finished with value: 0.8355718395177482 and parameters: {'n_neighbors': 115, 'weights': 'distance'}. Best is trial 26 with value: 0.8377468570671196.\u001b[0m\n",
            "\u001b[32m[I 2022-04-30 05:57:46,106]\u001b[0m Trial 41 finished with value: 0.8376828366329423 and parameters: {'n_neighbors': 41, 'weights': 'uniform'}. Best is trial 26 with value: 0.8377468570671196.\u001b[0m\n",
            "\u001b[32m[I 2022-04-30 05:57:51,625]\u001b[0m Trial 42 finished with value: 0.8360196143883574 and parameters: {'n_neighbors': 54, 'weights': 'uniform'}. Best is trial 26 with value: 0.8377468570671196.\u001b[0m\n",
            "\u001b[32m[I 2022-04-30 05:57:56,842]\u001b[0m Trial 43 finished with value: 0.8376828366329423 and parameters: {'n_neighbors': 41, 'weights': 'uniform'}. Best is trial 26 with value: 0.8377468570671196.\u001b[0m\n",
            "\u001b[32m[I 2022-04-30 05:58:01,988]\u001b[0m Trial 44 finished with value: 0.8376188980140167 and parameters: {'n_neighbors': 39, 'weights': 'uniform'}. Best is trial 26 with value: 0.8377468570671196.\u001b[0m\n",
            "\u001b[32m[I 2022-04-30 05:58:06,274]\u001b[0m Trial 45 finished with value: 0.8323110108601565 and parameters: {'n_neighbors': 13, 'weights': 'uniform'}. Best is trial 26 with value: 0.8377468570671196.\u001b[0m\n",
            "\u001b[32m[I 2022-04-30 05:58:12,370]\u001b[0m Trial 46 finished with value: 0.8363397165592433 and parameters: {'n_neighbors': 82, 'weights': 'uniform'}. Best is trial 26 with value: 0.8377468570671196.\u001b[0m\n",
            "\u001b[32m[I 2022-04-30 05:58:17,276]\u001b[0m Trial 47 finished with value: 0.837747307051002 and parameters: {'n_neighbors': 26, 'weights': 'uniform'}. Best is trial 47 with value: 0.837747307051002.\u001b[0m\n",
            "\u001b[32m[I 2022-04-30 05:58:21,790]\u001b[0m Trial 48 finished with value: 0.8353808009058585 and parameters: {'n_neighbors': 27, 'weights': 'distance'}. Best is trial 47 with value: 0.837747307051002.\u001b[0m\n",
            "\u001b[32m[I 2022-04-30 05:58:26,154]\u001b[0m Trial 49 finished with value: 0.8330785606406461 and parameters: {'n_neighbors': 12, 'weights': 'uniform'}. Best is trial 47 with value: 0.837747307051002.\u001b[0m\n"
          ]
        },
        {
          "output_type": "stream",
          "name": "stdout",
          "text": [
            "Best Score: 0.837747307051002\n",
            "Best trial: {'n_neighbors': 26, 'weights': 'uniform'}\n"
          ]
        }
      ]
    },
    {
      "cell_type": "markdown",
      "source": [
        "#### svm"
      ],
      "metadata": {
        "id": "v6dJ0tQ-b2Nb"
      }
    },
    {
      "cell_type": "code",
      "source": [
        "def objectiveSVM(trial:Trial) -> float:\n",
        "  score_list = []\n",
        "  params = {\n",
        "    'C' : trial.suggest_categorical('C', [0.001,0.01,0.1,1,10,100]),\n",
        "    'kernel': trial.suggest_categorical('kernel', ['linear', 'rbf'])}\n",
        "  for tr_idx, val_idx in skf.split(X_train, y_train):\n",
        "    X_tr, X_val = np.array(X_train)[tr_idx], np.array(X_train)[val_idx]\n",
        "    y_tr, y_val = np.array(y_train)[tr_idx], np.array(y_train)[val_idx]\n",
        "    svc = SVC(**params)\n",
        "    svc = svc.fit(X_tr, y_tr)\n",
        "    predictions = svc.predict(X_val)\n",
        "    score = accuracy_score(y_val, predictions)\n",
        "    score_list.append(score)\n",
        "  return np.mean(score_list)"
      ],
      "metadata": {
        "id": "PrsgVE7jb5Hz"
      },
      "execution_count": null,
      "outputs": []
    },
    {
      "cell_type": "code",
      "source": [
        "svm_study = optuna.create_study(\n",
        "    study_name = 'SVM_test',\n",
        "    direction='maximize',\n",
        "    sampler = TPESampler(seed=42)\n",
        ")"
      ],
      "metadata": {
        "id": "uvAA2ypOcHTP",
        "colab": {
          "base_uri": "https://localhost:8080/"
        },
        "outputId": "9b05858b-37c4-418f-ebbc-9876d9b0e223"
      },
      "execution_count": null,
      "outputs": [
        {
          "output_type": "stream",
          "name": "stderr",
          "text": [
            "\u001b[32m[I 2022-04-30 05:58:26,197]\u001b[0m A new study created in memory with name: SVM_test\u001b[0m\n"
          ]
        }
      ]
    },
    {
      "cell_type": "code",
      "source": [
        "# 'C': 10, 'kernel': 'rbf'\n",
        "svm_study.optimize(objectiveSVM, n_trials=10)\n",
        "print(\"Best Score:\", svm_study.best_value)\n",
        "print(\"Best trial:\", svm_study.best_trial.params)"
      ],
      "metadata": {
        "id": "P190-Z1AcX0-",
        "colab": {
          "base_uri": "https://localhost:8080/"
        },
        "outputId": "0091305a-014b-4552-e4f1-70bdc3d45021"
      },
      "execution_count": null,
      "outputs": [
        {
          "output_type": "stream",
          "name": "stderr",
          "text": [
            "\u001b[32m[I 2022-04-30 05:59:44,868]\u001b[0m Trial 0 finished with value: 0.8206063573722904 and parameters: {'C': 0.01, 'kernel': 'rbf'}. Best is trial 0 with value: 0.8206063573722904.\u001b[0m\n",
            "\u001b[32m[I 2022-04-30 06:00:56,212]\u001b[0m Trial 1 finished with value: 0.843565803188504 and parameters: {'C': 1, 'kernel': 'rbf'}. Best is trial 1 with value: 0.843565803188504.\u001b[0m\n",
            "\u001b[32m[I 2022-04-30 06:02:28,078]\u001b[0m Trial 2 finished with value: 0.8452924731605069 and parameters: {'C': 10, 'kernel': 'rbf'}. Best is trial 2 with value: 0.8452924731605069.\u001b[0m\n",
            "\u001b[32m[I 2022-04-30 06:03:04,576]\u001b[0m Trial 3 finished with value: 0.8360198598341112 and parameters: {'C': 0.01, 'kernel': 'linear'}. Best is trial 2 with value: 0.8452924731605069.\u001b[0m\n",
            "\u001b[32m[I 2022-04-30 06:03:49,618]\u001b[0m Trial 4 finished with value: 0.8370432868131814 and parameters: {'C': 0.1, 'kernel': 'linear'}. Best is trial 2 with value: 0.8452924731605069.\u001b[0m\n",
            "\u001b[32m[I 2022-04-30 06:04:58,754]\u001b[0m Trial 5 finished with value: 0.843565803188504 and parameters: {'C': 1, 'kernel': 'rbf'}. Best is trial 2 with value: 0.8452924731605069.\u001b[0m\n",
            "\u001b[32m[I 2022-04-30 06:06:04,382]\u001b[0m Trial 6 finished with value: 0.8374901617160259 and parameters: {'C': 0.1, 'kernel': 'rbf'}. Best is trial 2 with value: 0.8452924731605069.\u001b[0m\n",
            "\u001b[32m[I 2022-04-30 06:09:24,281]\u001b[0m Trial 7 finished with value: 0.8374910616837905 and parameters: {'C': 10, 'kernel': 'linear'}. Best is trial 2 with value: 0.8452924731605069.\u001b[0m\n",
            "\u001b[32m[I 2022-04-30 06:27:59,384]\u001b[0m Trial 8 finished with value: 0.8374271230648647 and parameters: {'C': 100, 'kernel': 'linear'}. Best is trial 2 with value: 0.8452924731605069.\u001b[0m\n",
            "\u001b[32m[I 2022-04-30 06:28:35,491]\u001b[0m Trial 9 finished with value: 0.8360198598341112 and parameters: {'C': 0.01, 'kernel': 'linear'}. Best is trial 2 with value: 0.8452924731605069.\u001b[0m\n"
          ]
        },
        {
          "output_type": "stream",
          "name": "stdout",
          "text": [
            "Best Score: 0.8452924731605069\n",
            "Best trial: {'C': 10, 'kernel': 'rbf'}\n"
          ]
        }
      ]
    },
    {
      "cell_type": "markdown",
      "source": [
        "#### 의사결정나무"
      ],
      "metadata": {
        "id": "T8-YZ7-ZMjfA"
      }
    },
    {
      "cell_type": "code",
      "source": [
        "def objectiveDT(trial:Trial) -> float:\n",
        "  score_list = []\n",
        "  params = {\n",
        "    'random_state':42,\n",
        "    'max_depth' : int(trial.suggest_discrete_uniform('max_depth',2, 30,2)),\n",
        "    'min_samples_leaf': int(trial.suggest_discrete_uniform('min_samples_leaf',2,20,2)),\n",
        "    'min_samples_split': int(trial.suggest_discrete_uniform('min_samples_split',2,20,2))}\n",
        "  for tr_idx, val_idx in skf.split(X_train, y_train):\n",
        "    X_tr, X_val = np.array(X_train)[tr_idx], np.array(X_train)[val_idx]\n",
        "    y_tr, y_val = np.array(y_train)[tr_idx], np.array(y_train)[val_idx]\n",
        "    dt = DecisionTreeClassifier(**params)\n",
        "    dt.fit(X_tr, y_tr)\n",
        "    predictions = dt.predict(X_val)\n",
        "    score = accuracy_score(y_val, predictions)\n",
        "    score_list.append(score)\n",
        "  return np.mean(score_list)"
      ],
      "metadata": {
        "id": "gpuye1EgM0W5"
      },
      "execution_count": null,
      "outputs": []
    },
    {
      "cell_type": "code",
      "source": [
        "dt_study = optuna.create_study(\n",
        "    study_name = 'DT_test',\n",
        "    direction='maximize',\n",
        "    sampler = TPESampler(seed=42)\n",
        ")"
      ],
      "metadata": {
        "id": "Eb7-OcVKR_2G",
        "colab": {
          "base_uri": "https://localhost:8080/"
        },
        "outputId": "8b3e2888-c622-4b1b-a377-308c90b5a4ff"
      },
      "execution_count": null,
      "outputs": [
        {
          "output_type": "stream",
          "name": "stderr",
          "text": [
            "\u001b[32m[I 2022-04-30 06:28:35,525]\u001b[0m A new study created in memory with name: DT_test\u001b[0m\n"
          ]
        }
      ]
    },
    {
      "cell_type": "code",
      "source": [
        "# 'max_depth': 10.0, 'min_samples_leaf': 20.0, 'min_samples_split': 16.0\n",
        "dt_study.optimize(objectiveDT, n_trials=50)\n",
        "print(\"Best Score:\", dt_study.best_value)\n",
        "print(\"Best trial:\", dt_study.best_trial.params)"
      ],
      "metadata": {
        "id": "XD3LUxj2SHMZ",
        "colab": {
          "base_uri": "https://localhost:8080/"
        },
        "outputId": "2bd8d6ca-8d5c-4711-f998-3a30e14fc9be"
      },
      "execution_count": null,
      "outputs": [
        {
          "output_type": "stream",
          "name": "stderr",
          "text": [
            "\u001b[32m[I 2022-04-30 06:28:36,105]\u001b[0m Trial 0 finished with value: 0.8485541608782377 and parameters: {'max_depth': 12.0, 'min_samples_leaf': 20.0, 'min_samples_split': 16.0}. Best is trial 0 with value: 0.8485541608782377.\u001b[0m\n",
            "\u001b[32m[I 2022-04-30 06:28:36,821]\u001b[0m Trial 1 finished with value: 0.8316062133774482 and parameters: {'max_depth': 18.0, 'min_samples_leaf': 4.0, 'min_samples_split': 4.0}. Best is trial 0 with value: 0.8485541608782377.\u001b[0m\n",
            "\u001b[32m[I 2022-04-30 06:28:36,992]\u001b[0m Trial 2 finished with value: 0.8239961677736269 and parameters: {'max_depth': 2.0, 'min_samples_leaf': 18.0, 'min_samples_split': 14.0}. Best is trial 0 with value: 0.8485541608782377.\u001b[0m\n",
            "\u001b[32m[I 2022-04-30 06:28:37,720]\u001b[0m Trial 3 finished with value: 0.8311578248924538 and parameters: {'max_depth': 22.0, 'min_samples_leaf': 2.0, 'min_samples_split': 20.0}. Best is trial 0 with value: 0.8485541608782377.\u001b[0m\n",
            "\u001b[32m[I 2022-04-30 06:28:38,412]\u001b[0m Trial 4 finished with value: 0.8300066024907835 and parameters: {'max_depth': 26.0, 'min_samples_leaf': 6.0, 'min_samples_split': 4.0}. Best is trial 0 with value: 0.8485541608782377.\u001b[0m\n",
            "\u001b[32m[I 2022-04-30 06:28:38,765]\u001b[0m Trial 5 finished with value: 0.8436943349483664 and parameters: {'max_depth': 6.0, 'min_samples_leaf': 8.0, 'min_samples_split': 12.0}. Best is trial 0 with value: 0.8485541608782377.\u001b[0m\n",
            "\u001b[32m[I 2022-04-30 06:28:39,400]\u001b[0m Trial 6 finished with value: 0.8451639823082701 and parameters: {'max_depth': 14.0, 'min_samples_leaf': 6.0, 'min_samples_split': 14.0}. Best is trial 0 with value: 0.8485541608782377.\u001b[0m\n",
            "\u001b[32m[I 2022-04-30 06:28:39,769]\u001b[0m Trial 7 finished with value: 0.8433745600384859 and parameters: {'max_depth': 6.0, 'min_samples_leaf': 6.0, 'min_samples_split': 8.0}. Best is trial 0 with value: 0.8485541608782377.\u001b[0m\n",
            "\u001b[32m[I 2022-04-30 06:28:40,380]\u001b[0m Trial 8 finished with value: 0.84382172129471 and parameters: {'max_depth': 14.0, 'min_samples_leaf': 16.0, 'min_samples_split': 4.0}. Best is trial 0 with value: 0.8485541608782377.\u001b[0m\n",
            "\u001b[32m[I 2022-04-30 06:28:41,007]\u001b[0m Trial 9 finished with value: 0.8394089748058114 and parameters: {'max_depth': 16.0, 'min_samples_leaf': 12.0, 'min_samples_split': 2.0}. Best is trial 0 with value: 0.8485541608782377.\u001b[0m\n",
            "\u001b[32m[I 2022-04-30 06:28:41,602]\u001b[0m Trial 10 finished with value: 0.8429260897382402 and parameters: {'max_depth': 30.0, 'min_samples_leaf': 20.0, 'min_samples_split': 20.0}. Best is trial 0 with value: 0.8485541608782377.\u001b[0m\n",
            "\u001b[32m[I 2022-04-30 06:28:42,187]\u001b[0m Trial 11 finished with value: 0.8462524524121591 and parameters: {'max_depth': 12.0, 'min_samples_leaf': 12.0, 'min_samples_split': 16.0}. Best is trial 0 with value: 0.8485541608782377.\u001b[0m\n",
            "\u001b[32m[I 2022-04-30 06:28:42,700]\u001b[0m Trial 12 finished with value: 0.8490666516126604 and parameters: {'max_depth': 10.0, 'min_samples_leaf': 14.0, 'min_samples_split': 16.0}. Best is trial 12 with value: 0.8490666516126604.\u001b[0m\n",
            "\u001b[32m[I 2022-04-30 06:28:43,158]\u001b[0m Trial 13 finished with value: 0.8496418946448646 and parameters: {'max_depth': 8.0, 'min_samples_leaf': 16.0, 'min_samples_split': 18.0}. Best is trial 13 with value: 0.8496418946448646.\u001b[0m\n",
            "\u001b[32m[I 2022-04-30 06:28:43,607]\u001b[0m Trial 14 finished with value: 0.8495780787488159 and parameters: {'max_depth': 8.0, 'min_samples_leaf': 14.0, 'min_samples_split': 18.0}. Best is trial 13 with value: 0.8496418946448646.\u001b[0m\n",
            "\u001b[32m[I 2022-04-30 06:28:43,972]\u001b[0m Trial 15 finished with value: 0.8419036854498121 and parameters: {'max_depth': 6.0, 'min_samples_leaf': 16.0, 'min_samples_split': 20.0}. Best is trial 13 with value: 0.8496418946448646.\u001b[0m\n",
            "\u001b[32m[I 2022-04-30 06:28:44,142]\u001b[0m Trial 16 finished with value: 0.8239961677736269 and parameters: {'max_depth': 2.0, 'min_samples_leaf': 10.0, 'min_samples_split': 8.0}. Best is trial 13 with value: 0.8496418946448646.\u001b[0m\n",
            "\u001b[32m[I 2022-04-30 06:28:44,588]\u001b[0m Trial 17 finished with value: 0.8496418946448646 and parameters: {'max_depth': 8.0, 'min_samples_leaf': 16.0, 'min_samples_split': 18.0}. Best is trial 13 with value: 0.8496418946448646.\u001b[0m\n",
            "\u001b[32m[I 2022-04-30 06:28:45,222]\u001b[0m Trial 18 finished with value: 0.8426063148283598 and parameters: {'max_depth': 20.0, 'min_samples_leaf': 16.0, 'min_samples_split': 10.0}. Best is trial 13 with value: 0.8496418946448646.\u001b[0m\n",
            "\u001b[32m[I 2022-04-30 06:28:45,496]\u001b[0m Trial 19 finished with value: 0.842798907930025 and parameters: {'max_depth': 4.0, 'min_samples_leaf': 18.0, 'min_samples_split': 18.0}. Best is trial 13 with value: 0.8496418946448646.\u001b[0m\n",
            "\u001b[32m[I 2022-04-30 06:28:46,037]\u001b[0m Trial 20 finished with value: 0.8490666516126604 and parameters: {'max_depth': 10.0, 'min_samples_leaf': 14.0, 'min_samples_split': 12.0}. Best is trial 13 with value: 0.8496418946448646.\u001b[0m\n",
            "\u001b[32m[I 2022-04-30 06:28:46,493]\u001b[0m Trial 21 finished with value: 0.8495780787488159 and parameters: {'max_depth': 8.0, 'min_samples_leaf': 14.0, 'min_samples_split': 18.0}. Best is trial 13 with value: 0.8496418946448646.\u001b[0m\n",
            "\u001b[32m[I 2022-04-30 06:28:46,941]\u001b[0m Trial 22 finished with value: 0.8493861810767868 and parameters: {'max_depth': 8.0, 'min_samples_leaf': 18.0, 'min_samples_split': 18.0}. Best is trial 13 with value: 0.8496418946448646.\u001b[0m\n",
            "\u001b[32m[I 2022-04-30 06:28:47,472]\u001b[0m Trial 23 finished with value: 0.8475961451926176 and parameters: {'max_depth': 10.0, 'min_samples_leaf': 10.0, 'min_samples_split': 14.0}. Best is trial 13 with value: 0.8496418946448646.\u001b[0m\n",
            "\u001b[32m[I 2022-04-30 06:28:47,747]\u001b[0m Trial 24 finished with value: 0.842798907930025 and parameters: {'max_depth': 4.0, 'min_samples_leaf': 14.0, 'min_samples_split': 18.0}. Best is trial 13 with value: 0.8496418946448646.\u001b[0m\n",
            "\u001b[32m[I 2022-04-30 06:28:48,203]\u001b[0m Trial 25 finished with value: 0.8496418946448646 and parameters: {'max_depth': 8.0, 'min_samples_leaf': 16.0, 'min_samples_split': 16.0}. Best is trial 13 with value: 0.8496418946448646.\u001b[0m\n",
            "\u001b[32m[I 2022-04-30 06:28:48,785]\u001b[0m Trial 26 finished with value: 0.8436298236226811 and parameters: {'max_depth': 14.0, 'min_samples_leaf': 18.0, 'min_samples_split': 16.0}. Best is trial 13 with value: 0.8496418946448646.\u001b[0m\n",
            "\u001b[32m[I 2022-04-30 06:28:49,054]\u001b[0m Trial 27 finished with value: 0.842798907930025 and parameters: {'max_depth': 4.0, 'min_samples_leaf': 16.0, 'min_samples_split': 20.0}. Best is trial 13 with value: 0.8496418946448646.\u001b[0m\n",
            "\u001b[32m[I 2022-04-30 06:28:49,613]\u001b[0m Trial 28 finished with value: 0.8485541608782377 and parameters: {'max_depth': 12.0, 'min_samples_leaf': 20.0, 'min_samples_split': 14.0}. Best is trial 13 with value: 0.8496418946448646.\u001b[0m\n",
            "\u001b[32m[I 2022-04-30 06:28:50,129]\u001b[0m Trial 29 finished with value: 0.8502175876609511 and parameters: {'max_depth': 10.0, 'min_samples_leaf': 20.0, 'min_samples_split': 16.0}. Best is trial 29 with value: 0.8502175876609511.\u001b[0m\n",
            "\u001b[32m[I 2022-04-30 06:28:50,720]\u001b[0m Trial 30 finished with value: 0.8441411280359595 and parameters: {'max_depth': 16.0, 'min_samples_leaf': 20.0, 'min_samples_split': 16.0}. Best is trial 29 with value: 0.8502175876609511.\u001b[0m\n",
            "\u001b[32m[I 2022-04-30 06:28:51,283]\u001b[0m Trial 31 finished with value: 0.8474033066451983 and parameters: {'max_depth': 12.0, 'min_samples_leaf': 18.0, 'min_samples_split': 16.0}. Best is trial 29 with value: 0.8502175876609511.\u001b[0m\n",
            "\u001b[32m[I 2022-04-30 06:28:51,727]\u001b[0m Trial 32 finished with value: 0.849450078788087 and parameters: {'max_depth': 8.0, 'min_samples_leaf': 20.0, 'min_samples_split': 18.0}. Best is trial 29 with value: 0.8502175876609511.\u001b[0m\n",
            "\u001b[32m[I 2022-04-30 06:28:52,242]\u001b[0m Trial 33 finished with value: 0.8500260581575534 and parameters: {'max_depth': 10.0, 'min_samples_leaf': 16.0, 'min_samples_split': 12.0}. Best is trial 29 with value: 0.8502175876609511.\u001b[0m\n",
            "\u001b[32m[I 2022-04-30 06:28:52,866]\u001b[0m Trial 34 finished with value: 0.8382574251431357 and parameters: {'max_depth': 18.0, 'min_samples_leaf': 12.0, 'min_samples_split': 12.0}. Best is trial 29 with value: 0.8502175876609511.\u001b[0m\n",
            "\u001b[32m[I 2022-04-30 06:28:53,391]\u001b[0m Trial 35 finished with value: 0.8488746721253803 and parameters: {'max_depth': 10.0, 'min_samples_leaf': 18.0, 'min_samples_split': 10.0}. Best is trial 29 with value: 0.8502175876609511.\u001b[0m\n",
            "\u001b[32m[I 2022-04-30 06:28:53,751]\u001b[0m Trial 36 finished with value: 0.8419036854498121 and parameters: {'max_depth': 6.0, 'min_samples_leaf': 16.0, 'min_samples_split': 8.0}. Best is trial 29 with value: 0.8502175876609511.\u001b[0m\n",
            "\u001b[32m[I 2022-04-30 06:28:53,926]\u001b[0m Trial 37 finished with value: 0.8239961677736269 and parameters: {'max_depth': 2.0, 'min_samples_leaf': 20.0, 'min_samples_split': 14.0}. Best is trial 29 with value: 0.8502175876609511.\u001b[0m\n",
            "\u001b[32m[I 2022-04-30 06:28:54,521]\u001b[0m Trial 38 finished with value: 0.8473394907491496 and parameters: {'max_depth': 12.0, 'min_samples_leaf': 2.0, 'min_samples_split': 20.0}. Best is trial 29 with value: 0.8502175876609511.\u001b[0m\n",
            "\u001b[32m[I 2022-04-30 06:28:55,111]\u001b[0m Trial 39 finished with value: 0.8436298236226811 and parameters: {'max_depth': 14.0, 'min_samples_leaf': 18.0, 'min_samples_split': 12.0}. Best is trial 29 with value: 0.8502175876609511.\u001b[0m\n",
            "\u001b[32m[I 2022-04-30 06:28:55,482]\u001b[0m Trial 40 finished with value: 0.8436943349483664 and parameters: {'max_depth': 6.0, 'min_samples_leaf': 8.0, 'min_samples_split': 14.0}. Best is trial 29 with value: 0.8502175876609511.\u001b[0m\n",
            "\u001b[32m[I 2022-04-30 06:28:55,933]\u001b[0m Trial 41 finished with value: 0.8496418946448646 and parameters: {'max_depth': 8.0, 'min_samples_leaf': 16.0, 'min_samples_split': 16.0}. Best is trial 29 with value: 0.8502175876609511.\u001b[0m\n",
            "\u001b[32m[I 2022-04-30 06:28:56,468]\u001b[0m Trial 42 finished with value: 0.8500260581575534 and parameters: {'max_depth': 10.0, 'min_samples_leaf': 16.0, 'min_samples_split': 16.0}. Best is trial 29 with value: 0.8502175876609511.\u001b[0m\n",
            "\u001b[32m[I 2022-04-30 06:28:56,996]\u001b[0m Trial 43 finished with value: 0.8490666516126604 and parameters: {'max_depth': 10.0, 'min_samples_leaf': 14.0, 'min_samples_split': 16.0}. Best is trial 29 with value: 0.8502175876609511.\u001b[0m\n",
            "\u001b[32m[I 2022-04-30 06:28:57,648]\u001b[0m Trial 44 finished with value: 0.8356349190765349 and parameters: {'max_depth': 24.0, 'min_samples_leaf': 12.0, 'min_samples_split': 14.0}. Best is trial 29 with value: 0.8502175876609511.\u001b[0m\n",
            "\u001b[32m[I 2022-04-30 06:28:58,219]\u001b[0m Trial 45 finished with value: 0.8474033066451983 and parameters: {'max_depth': 12.0, 'min_samples_leaf': 18.0, 'min_samples_split': 10.0}. Best is trial 29 with value: 0.8502175876609511.\u001b[0m\n",
            "\u001b[32m[I 2022-04-30 06:28:58,831]\u001b[0m Trial 46 finished with value: 0.843693394072976 and parameters: {'max_depth': 16.0, 'min_samples_leaf': 16.0, 'min_samples_split': 16.0}. Best is trial 29 with value: 0.8502175876609511.\u001b[0m\n",
            "\u001b[32m[I 2022-04-30 06:28:59,187]\u001b[0m Trial 47 finished with value: 0.8420955422142151 and parameters: {'max_depth': 6.0, 'min_samples_leaf': 20.0, 'min_samples_split': 6.0}. Best is trial 29 with value: 0.8502175876609511.\u001b[0m\n",
            "\u001b[32m[I 2022-04-30 06:28:59,797]\u001b[0m Trial 48 finished with value: 0.8438218031099612 and parameters: {'max_depth': 14.0, 'min_samples_leaf': 14.0, 'min_samples_split': 14.0}. Best is trial 29 with value: 0.8502175876609511.\u001b[0m\n",
            "\u001b[32m[I 2022-04-30 06:29:00,340]\u001b[0m Trial 49 finished with value: 0.8480434291717188 and parameters: {'max_depth': 10.0, 'min_samples_leaf': 4.0, 'min_samples_split': 12.0}. Best is trial 29 with value: 0.8502175876609511.\u001b[0m\n"
          ]
        },
        {
          "output_type": "stream",
          "name": "stdout",
          "text": [
            "Best Score: 0.8502175876609511\n",
            "Best trial: {'max_depth': 10.0, 'min_samples_leaf': 20.0, 'min_samples_split': 16.0}\n"
          ]
        }
      ]
    },
    {
      "cell_type": "markdown",
      "source": [
        "#### 랜덤포레스트"
      ],
      "metadata": {
        "id": "G95HBgP7MzFO"
      }
    },
    {
      "cell_type": "code",
      "source": [
        "def objectiveRF(trial:Trial) -> float:\n",
        "  score_list = []\n",
        "  params = {\n",
        "    'random_state':42,\n",
        "    'max_depth' : int(trial.suggest_discrete_uniform('max_depth',2, 30,2)),\n",
        "    'min_samples_leaf': int(trial.suggest_discrete_uniform('min_samples_leaf',2,20,2)),\n",
        "    'min_samples_split': int(trial.suggest_discrete_uniform('min_samples_split',2,20,2)),\n",
        "    'n_estimators': int(trial.suggest_discrete_uniform('n_estimators',100,550,10))}\n",
        "  for tr_idx, val_idx in skf.split(X_train, y_train):\n",
        "    X_tr, X_val = np.array(X_train)[tr_idx], np.array(X_train)[val_idx]\n",
        "    y_tr, y_val = np.array(y_train)[tr_idx], np.array(y_train)[val_idx]\n",
        "    rf = RandomForestClassifier(**params)\n",
        "    rf = rf.fit(X_tr, y_tr)\n",
        "    predictions = rf.predict(X_val)\n",
        "    score = accuracy_score(y_val, predictions)\n",
        "    score_list.append(score)\n",
        "  return np.mean(score_list)"
      ],
      "metadata": {
        "id": "9ekLrcbIM3ck"
      },
      "execution_count": null,
      "outputs": []
    },
    {
      "cell_type": "code",
      "source": [
        "rf_study = optuna.create_study(\n",
        "    study_name = 'RF_test',\n",
        "    direction='maximize',\n",
        "    sampler = TPESampler(seed=42)\n",
        ")"
      ],
      "metadata": {
        "id": "3xRR_0VESqq3",
        "colab": {
          "base_uri": "https://localhost:8080/"
        },
        "outputId": "d7fe316a-2ca6-499c-8d51-0969274c543a"
      },
      "execution_count": null,
      "outputs": [
        {
          "output_type": "stream",
          "name": "stderr",
          "text": [
            "\u001b[32m[I 2022-04-30 06:29:00,373]\u001b[0m A new study created in memory with name: RF_test\u001b[0m\n"
          ]
        }
      ]
    },
    {
      "cell_type": "code",
      "source": [
        "# 'max_depth': 18.0, 'min_samples_leaf': 2.0, 'min_samples_split': 14.0, 'n_estimators': 170.0\n",
        "rf_study.optimize(objectiveRF, n_trials=30)\n",
        "print(\"Best Score:\", rf_study.best_value)\n",
        "print(\"Best trial:\", rf_study.best_trial.params)"
      ],
      "metadata": {
        "id": "_pETP6FQSrc-",
        "colab": {
          "base_uri": "https://localhost:8080/"
        },
        "outputId": "4c162bf7-2d2c-43db-80fe-8ca093b591e5"
      },
      "execution_count": null,
      "outputs": [
        {
          "output_type": "stream",
          "name": "stderr",
          "text": [
            "\u001b[32m[I 2022-04-30 06:29:38,774]\u001b[0m Trial 0 finished with value: 0.8544386819235749 and parameters: {'max_depth': 12.0, 'min_samples_leaf': 20.0, 'min_samples_split': 16.0, 'n_estimators': 370.0}. Best is trial 0 with value: 0.8544386819235749.\u001b[0m\n",
            "\u001b[32m[I 2022-04-30 06:30:17,256]\u001b[0m Trial 1 finished with value: 0.8518166258408563 and parameters: {'max_depth': 6.0, 'min_samples_leaf': 4.0, 'min_samples_split': 2.0, 'n_estimators': 490.0}. Best is trial 0 with value: 0.8544386819235749.\u001b[0m\n",
            "\u001b[32m[I 2022-04-30 06:31:16,466]\u001b[0m Trial 2 finished with value: 0.8557181497317279 and parameters: {'max_depth': 20.0, 'min_samples_leaf': 16.0, 'min_samples_split': 2.0, 'n_estimators': 540.0}. Best is trial 2 with value: 0.8557181497317279.\u001b[0m\n",
            "\u001b[32m[I 2022-04-30 06:31:38,292]\u001b[0m Trial 3 finished with value: 0.8592991623754568 and parameters: {'max_depth': 26.0, 'min_samples_leaf': 6.0, 'min_samples_split': 4.0, 'n_estimators': 180.0}. Best is trial 3 with value: 0.8592991623754568.\u001b[0m\n",
            "\u001b[32m[I 2022-04-30 06:32:01,442]\u001b[0m Trial 4 finished with value: 0.8543108046857231 and parameters: {'max_depth': 10.0, 'min_samples_leaf': 12.0, 'min_samples_split': 10.0, 'n_estimators': 230.0}. Best is trial 3 with value: 0.8592991623754568.\u001b[0m\n",
            "\u001b[32m[I 2022-04-30 06:32:34,596]\u001b[0m Trial 5 finished with value: 0.8606419142805249 and parameters: {'max_depth': 20.0, 'min_samples_leaf': 4.0, 'min_samples_split': 6.0, 'n_estimators': 260.0}. Best is trial 5 with value: 0.8606419142805249.\u001b[0m\n",
            "\u001b[32m[I 2022-04-30 06:33:10,454]\u001b[0m Trial 6 finished with value: 0.8562296586831344 and parameters: {'max_depth': 14.0, 'min_samples_leaf': 16.0, 'min_samples_split': 4.0, 'n_estimators': 330.0}. Best is trial 5 with value: 0.8606419142805249.\u001b[0m\n",
            "\u001b[32m[I 2022-04-30 06:33:32,350]\u001b[0m Trial 7 finished with value: 0.8613456890725913 and parameters: {'max_depth': 18.0, 'min_samples_leaf': 2.0, 'min_samples_split': 14.0, 'n_estimators': 170.0}. Best is trial 7 with value: 0.8613456890725913.\u001b[0m\n",
            "\u001b[32m[I 2022-04-30 06:33:54,438]\u001b[0m Trial 8 finished with value: 0.8262983262235879 and parameters: {'max_depth': 2.0, 'min_samples_leaf': 20.0, 'min_samples_split': 20.0, 'n_estimators': 470.0}. Best is trial 7 with value: 0.8613456890725913.\u001b[0m\n",
            "\u001b[32m[I 2022-04-30 06:34:25,607]\u001b[0m Trial 9 finished with value: 0.8566132903966894 and parameters: {'max_depth': 10.0, 'min_samples_leaf': 2.0, 'min_samples_split': 14.0, 'n_estimators': 300.0}. Best is trial 7 with value: 0.8613456890725913.\u001b[0m\n",
            "\u001b[32m[I 2022-04-30 06:34:37,427]\u001b[0m Trial 10 finished with value: 0.8585319398559724 and parameters: {'max_depth': 30.0, 'min_samples_leaf': 8.0, 'min_samples_split': 10.0, 'n_estimators': 100.0}. Best is trial 7 with value: 0.8613456890725913.\u001b[0m\n",
            "\u001b[32m[I 2022-04-30 06:35:04,056]\u001b[0m Trial 11 finished with value: 0.8598109167726176 and parameters: {'max_depth': 20.0, 'min_samples_leaf': 2.0, 'min_samples_split': 6.0, 'n_estimators': 200.0}. Best is trial 7 with value: 0.8613456890725913.\u001b[0m\n",
            "\u001b[32m[I 2022-04-30 06:35:16,024]\u001b[0m Trial 12 finished with value: 0.857892062775206 and parameters: {'max_depth': 20.0, 'min_samples_leaf': 8.0, 'min_samples_split': 8.0, 'n_estimators': 100.0}. Best is trial 7 with value: 0.8613456890725913.\u001b[0m\n",
            "\u001b[32m[I 2022-04-30 06:35:48,913]\u001b[0m Trial 13 finished with value: 0.8587238375280013 and parameters: {'max_depth': 24.0, 'min_samples_leaf': 6.0, 'min_samples_split': 14.0, 'n_estimators': 270.0}. Best is trial 7 with value: 0.8613456890725913.\u001b[0m\n",
            "\u001b[32m[I 2022-04-30 06:36:09,262]\u001b[0m Trial 14 finished with value: 0.8612178527423653 and parameters: {'max_depth': 18.0, 'min_samples_leaf': 2.0, 'min_samples_split': 18.0, 'n_estimators': 160.0}. Best is trial 7 with value: 0.8613456890725913.\u001b[0m\n",
            "\u001b[32m[I 2022-04-30 06:36:27,438]\u001b[0m Trial 15 finished with value: 0.8565492699625123 and parameters: {'max_depth': 16.0, 'min_samples_leaf': 12.0, 'min_samples_split': 20.0, 'n_estimators': 160.0}. Best is trial 7 with value: 0.8613456890725913.\u001b[0m\n",
            "\u001b[32m[I 2022-04-30 06:36:46,921]\u001b[0m Trial 16 finished with value: 0.8604506302228812 and parameters: {'max_depth': 24.0, 'min_samples_leaf': 2.0, 'min_samples_split': 16.0, 'n_estimators': 150.0}. Best is trial 7 with value: 0.8613456890725913.\u001b[0m\n",
            "\u001b[32m[I 2022-04-30 06:37:31,364]\u001b[0m Trial 17 finished with value: 0.8569969221102444 and parameters: {'max_depth': 16.0, 'min_samples_leaf': 10.0, 'min_samples_split': 18.0, 'n_estimators': 390.0}. Best is trial 7 with value: 0.8613456890725913.\u001b[0m\n",
            "\u001b[32m[I 2022-04-30 06:37:48,696]\u001b[0m Trial 18 finished with value: 0.8586596125556957 and parameters: {'max_depth': 18.0, 'min_samples_leaf': 4.0, 'min_samples_split': 14.0, 'n_estimators': 140.0}. Best is trial 7 with value: 0.8613456890725913.\u001b[0m\n",
            "\u001b[32m[I 2022-04-30 06:38:15,452]\u001b[0m Trial 19 finished with value: 0.8587234284517447 and parameters: {'max_depth': 30.0, 'min_samples_leaf': 6.0, 'min_samples_split': 12.0, 'n_estimators': 220.0}. Best is trial 7 with value: 0.8613456890725913.\u001b[0m\n",
            "\u001b[32m[I 2022-04-30 06:38:54,246]\u001b[0m Trial 20 finished with value: 0.8556543338356789 and parameters: {'max_depth': 24.0, 'min_samples_leaf': 14.0, 'min_samples_split': 18.0, 'n_estimators': 350.0}. Best is trial 7 with value: 0.8613456890725913.\u001b[0m\n",
            "\u001b[32m[I 2022-04-30 06:39:26,770]\u001b[0m Trial 21 finished with value: 0.8600667121559464 and parameters: {'max_depth': 18.0, 'min_samples_leaf': 4.0, 'min_samples_split': 12.0, 'n_estimators': 260.0}. Best is trial 7 with value: 0.8613456890725913.\u001b[0m\n",
            "\u001b[32m[I 2022-04-30 06:40:00,061]\u001b[0m Trial 22 finished with value: 0.8589152852161478 and parameters: {'max_depth': 22.0, 'min_samples_leaf': 2.0, 'min_samples_split': 8.0, 'n_estimators': 250.0}. Best is trial 7 with value: 0.8613456890725913.\u001b[0m\n",
            "\u001b[32m[I 2022-04-30 06:40:23,775]\u001b[0m Trial 23 finished with value: 0.8593633464401366 and parameters: {'max_depth': 14.0, 'min_samples_leaf': 4.0, 'min_samples_split': 16.0, 'n_estimators': 200.0}. Best is trial 7 with value: 0.8613456890725913.\u001b[0m\n",
            "\u001b[32m[I 2022-04-30 06:40:58,135]\u001b[0m Trial 24 finished with value: 0.857827919618152 and parameters: {'max_depth': 18.0, 'min_samples_leaf': 8.0, 'min_samples_split': 18.0, 'n_estimators': 290.0}. Best is trial 7 with value: 0.8613456890725913.\u001b[0m\n",
            "\u001b[32m[I 2022-04-30 06:41:17,354]\u001b[0m Trial 25 finished with value: 0.859235469202285 and parameters: {'max_depth': 28.0, 'min_samples_leaf': 2.0, 'min_samples_split': 8.0, 'n_estimators': 140.0}. Best is trial 7 with value: 0.8613456890725913.\u001b[0m\n",
            "\u001b[32m[I 2022-04-30 06:41:39,157]\u001b[0m Trial 26 finished with value: 0.8581478581585351 and parameters: {'max_depth': 22.0, 'min_samples_leaf': 6.0, 'min_samples_split': 12.0, 'n_estimators': 180.0}. Best is trial 7 with value: 0.8613456890725913.\u001b[0m\n",
            "\u001b[32m[I 2022-04-30 06:42:26,674]\u001b[0m Trial 27 finished with value: 0.8594910600474857 and parameters: {'max_depth': 14.0, 'min_samples_leaf': 4.0, 'min_samples_split': 6.0, 'n_estimators': 400.0}. Best is trial 7 with value: 0.8613456890725913.\u001b[0m\n",
            "\u001b[32m[I 2022-04-30 06:42:48,699]\u001b[0m Trial 28 finished with value: 0.8551419249165075 and parameters: {'max_depth': 8.0, 'min_samples_leaf': 2.0, 'min_samples_split': 16.0, 'n_estimators': 240.0}. Best is trial 7 with value: 0.8613456890725913.\u001b[0m\n",
            "\u001b[32m[I 2022-04-30 06:43:01,764]\u001b[0m Trial 29 finished with value: 0.8566136176576947 and parameters: {'max_depth': 12.0, 'min_samples_leaf': 10.0, 'min_samples_split': 16.0, 'n_estimators': 120.0}. Best is trial 7 with value: 0.8613456890725913.\u001b[0m\n"
          ]
        },
        {
          "output_type": "stream",
          "name": "stdout",
          "text": [
            "Best Score: 0.8613456890725913\n",
            "Best trial: {'max_depth': 18.0, 'min_samples_leaf': 2.0, 'min_samples_split': 14.0, 'n_estimators': 170.0}\n"
          ]
        }
      ]
    },
    {
      "cell_type": "markdown",
      "source": [
        "#### adaboost"
      ],
      "metadata": {
        "id": "Uw5PCBUEe3CU"
      }
    },
    {
      "cell_type": "code",
      "source": [
        "def objectiveADA(trial:Trial) -> float:\n",
        "  score_list = []\n",
        "  params = {\n",
        "    'random_state':42,\n",
        "    'n_estimators': int(trial.suggest_discrete_uniform('n_estimators',100,550,10)),\n",
        "     'learning_rate': trial.suggest_discrete_uniform('learning_rate',0.5,1,0.05)}\n",
        "  for tr_idx, val_idx in skf.split(X_train, y_train):\n",
        "    X_tr, X_val = X_train.to_numpy()[tr_idx], X_train.to_numpy()[val_idx]\n",
        "    y_tr, y_val = y_train.to_numpy()[tr_idx], y_train.to_numpy()[val_idx]\n",
        "    ada = AdaBoostClassifier(**params)\n",
        "    ada = ada.fit(X_tr, y_tr)\n",
        "    score = accuracy_score(ada.predict(X_val), y_val)\n",
        "    score_list.append(score)\n",
        "  return np.mean(score_list)"
      ],
      "metadata": {
        "id": "0cg8Lfzre5Sf"
      },
      "execution_count": null,
      "outputs": []
    },
    {
      "cell_type": "code",
      "source": [
        "ada_study = optuna.create_study(\n",
        "    study_name = 'ADA_test',\n",
        "    direction='maximize',\n",
        "    sampler = TPESampler(seed=42)\n",
        ")"
      ],
      "metadata": {
        "id": "8_W585aafsD3",
        "colab": {
          "base_uri": "https://localhost:8080/"
        },
        "outputId": "0d7258e5-6d15-4413-d34e-30567bd02bfb"
      },
      "execution_count": null,
      "outputs": [
        {
          "output_type": "stream",
          "name": "stderr",
          "text": [
            "\u001b[32m[I 2022-04-30 06:43:01,806]\u001b[0m A new study created in memory with name: ADA_test\u001b[0m\n"
          ]
        }
      ]
    },
    {
      "cell_type": "code",
      "source": [
        "# 'n_estimators': 540.0, 'learning_rate': 0.7\n",
        "ada_study.optimize(objectiveADA, n_trials=50)\n",
        "print(\"Best Score:\", ada_study.best_value)\n",
        "print(\"Best trial:\", ada_study.best_trial.params)"
      ],
      "metadata": {
        "id": "RUIS2Lnyf0kK",
        "colab": {
          "base_uri": "https://localhost:8080/"
        },
        "outputId": "5ee0d2f7-57e1-4b59-b59c-0166f008aa3b"
      },
      "execution_count": null,
      "outputs": [
        {
          "output_type": "stream",
          "name": "stderr",
          "text": [
            "\u001b[32m[I 2022-04-30 06:43:35,267]\u001b[0m Trial 0 finished with value: 0.8635853815781507 and parameters: {'n_estimators': 270.0, 'learning_rate': 1.0}. Best is trial 0 with value: 0.8635853815781507.\u001b[0m\n",
            "\u001b[32m[I 2022-04-30 06:44:29,243]\u001b[0m Trial 1 finished with value: 0.8642882973100783 and parameters: {'n_estimators': 430.0, 'learning_rate': 0.8}. Best is trial 1 with value: 0.8642882973100783.\u001b[0m\n",
            "\u001b[32m[I 2022-04-30 06:44:50,443]\u001b[0m Trial 2 finished with value: 0.8597474690451996 and parameters: {'n_estimators': 170.0, 'learning_rate': 0.55}. Best is trial 1 with value: 0.8642882973100783.\u001b[0m\n",
            "\u001b[32m[I 2022-04-30 06:45:05,437]\u001b[0m Trial 3 finished with value: 0.8621139342827175 and parameters: {'n_estimators': 120.0, 'learning_rate': 0.95}. Best is trial 1 with value: 0.8642882973100783.\u001b[0m\n",
            "\u001b[32m[I 2022-04-30 06:45:51,231]\u001b[0m Trial 4 finished with value: 0.8650556016448137 and parameters: {'n_estimators': 370.0, 'learning_rate': 0.8500000000000001}. Best is trial 4 with value: 0.8650556016448137.\u001b[0m\n",
            "\u001b[32m[I 2022-04-30 06:46:03,581]\u001b[0m Trial 5 finished with value: 0.8614108140126617 and parameters: {'n_estimators': 100.0, 'learning_rate': 1.0}. Best is trial 4 with value: 0.8650556016448137.\u001b[0m\n",
            "\u001b[32m[I 2022-04-30 06:47:04,159]\u001b[0m Trial 6 finished with value: 0.8647998880767362 and parameters: {'n_estimators': 480.0, 'learning_rate': 0.6}. Best is trial 4 with value: 0.8650556016448137.\u001b[0m\n",
            "\u001b[32m[I 2022-04-30 06:47:27,107]\u001b[0m Trial 7 finished with value: 0.8608351209965752 and parameters: {'n_estimators': 180.0, 'learning_rate': 0.6}. Best is trial 4 with value: 0.8650556016448137.\u001b[0m\n",
            "\u001b[32m[I 2022-04-30 06:47:55,579]\u001b[0m Trial 8 finished with value: 0.8616664048578624 and parameters: {'n_estimators': 230.0, 'learning_rate': 0.75}. Best is trial 4 with value: 0.8650556016448137.\u001b[0m\n",
            "\u001b[32m[I 2022-04-30 06:48:31,691]\u001b[0m Trial 9 finished with value: 0.8628814431555816 and parameters: {'n_estimators': 290.0, 'learning_rate': 0.65}. Best is trial 4 with value: 0.8650556016448137.\u001b[0m\n",
            "\u001b[32m[I 2022-04-30 06:49:20,088]\u001b[0m Trial 10 finished with value: 0.8646078267742047 and parameters: {'n_estimators': 390.0, 'learning_rate': 0.8500000000000001}. Best is trial 4 with value: 0.8650556016448137.\u001b[0m\n",
            "\u001b[32m[I 2022-04-30 06:50:26,662]\u001b[0m Trial 11 finished with value: 0.8662070285846125 and parameters: {'n_estimators': 540.0, 'learning_rate': 0.7}. Best is trial 11 with value: 0.8662070285846125.\u001b[0m\n",
            "\u001b[32m[I 2022-04-30 06:51:32,894]\u001b[0m Trial 12 finished with value: 0.8662070285846125 and parameters: {'n_estimators': 540.0, 'learning_rate': 0.7}. Best is trial 11 with value: 0.8662070285846125.\u001b[0m\n",
            "\u001b[32m[I 2022-04-30 06:52:41,206]\u001b[0m Trial 13 finished with value: 0.8654395606193741 and parameters: {'n_estimators': 550.0, 'learning_rate': 0.7}. Best is trial 11 with value: 0.8662070285846125.\u001b[0m\n",
            "\u001b[32m[I 2022-04-30 06:53:47,814]\u001b[0m Trial 14 finished with value: 0.865438947004989 and parameters: {'n_estimators': 540.0, 'learning_rate': 0.5}. Best is trial 11 with value: 0.8662070285846125.\u001b[0m\n",
            "\u001b[32m[I 2022-04-30 06:54:46,876]\u001b[0m Trial 15 finished with value: 0.8651835606979168 and parameters: {'n_estimators': 480.0, 'learning_rate': 0.7}. Best is trial 11 with value: 0.8662070285846125.\u001b[0m\n",
            "\u001b[32m[I 2022-04-30 06:55:44,968]\u001b[0m Trial 16 finished with value: 0.8647360721806873 and parameters: {'n_estimators': 470.0, 'learning_rate': 0.75}. Best is trial 11 with value: 0.8662070285846125.\u001b[0m\n",
            "\u001b[32m[I 2022-04-30 06:56:49,884]\u001b[0m Trial 17 finished with value: 0.8658231923329293 and parameters: {'n_estimators': 520.0, 'learning_rate': 0.65}. Best is trial 11 with value: 0.8662070285846125.\u001b[0m\n",
            "\u001b[32m[I 2022-04-30 06:57:34,623]\u001b[0m Trial 18 finished with value: 0.8643519495756242 and parameters: {'n_estimators': 360.0, 'learning_rate': 0.8500000000000001}. Best is trial 11 with value: 0.8662070285846125.\u001b[0m\n",
            "\u001b[32m[I 2022-04-30 06:58:28,244]\u001b[0m Trial 19 finished with value: 0.8651838470512967 and parameters: {'n_estimators': 430.0, 'learning_rate': 0.7}. Best is trial 11 with value: 0.8662070285846125.\u001b[0m\n",
            "\u001b[32m[I 2022-04-30 06:59:31,920]\u001b[0m Trial 20 finished with value: 0.8641599700883441 and parameters: {'n_estimators': 510.0, 'learning_rate': 0.5}. Best is trial 11 with value: 0.8662070285846125.\u001b[0m\n",
            "\u001b[32m[I 2022-04-30 07:00:41,802]\u001b[0m Trial 21 finished with value: 0.8655674378572258 and parameters: {'n_estimators': 550.0, 'learning_rate': 0.65}. Best is trial 11 with value: 0.8662070285846125.\u001b[0m\n",
            "\u001b[32m[I 2022-04-30 07:01:45,163]\u001b[0m Trial 22 finished with value: 0.8645440926934072 and parameters: {'n_estimators': 510.0, 'learning_rate': 0.6}. Best is trial 11 with value: 0.8662070285846125.\u001b[0m\n",
            "\u001b[32m[I 2022-04-30 07:02:38,848]\u001b[0m Trial 23 finished with value: 0.8644803177049839 and parameters: {'n_estimators': 430.0, 'learning_rate': 0.65}. Best is trial 11 with value: 0.8662070285846125.\u001b[0m\n",
            "\u001b[32m[I 2022-04-30 07:03:44,378]\u001b[0m Trial 24 finished with value: 0.8641602564417239 and parameters: {'n_estimators': 520.0, 'learning_rate': 0.8}. Best is trial 11 with value: 0.8662070285846125.\u001b[0m\n",
            "\u001b[32m[I 2022-04-30 07:04:41,980]\u001b[0m Trial 25 finished with value: 0.8650557243676908 and parameters: {'n_estimators': 460.0, 'learning_rate': 0.75}. Best is trial 11 with value: 0.8662070285846125.\u001b[0m\n",
            "\u001b[32m[I 2022-04-30 07:05:43,337]\u001b[0m Trial 26 finished with value: 0.8644162154555556 and parameters: {'n_estimators': 500.0, 'learning_rate': 0.55}. Best is trial 11 with value: 0.8662070285846125.\u001b[0m\n",
            "\u001b[32m[I 2022-04-30 07:06:32,435]\u001b[0m Trial 27 finished with value: 0.8649278880374649 and parameters: {'n_estimators': 400.0, 'learning_rate': 0.7}. Best is trial 11 with value: 0.8662070285846125.\u001b[0m\n",
            "\u001b[32m[I 2022-04-30 07:07:11,755]\u001b[0m Trial 28 finished with value: 0.8630735862733643 and parameters: {'n_estimators': 320.0, 'learning_rate': 0.65}. Best is trial 11 with value: 0.8662070285846125.\u001b[0m\n",
            "\u001b[32m[I 2022-04-30 07:08:07,210]\u001b[0m Trial 29 finished with value: 0.8635845634256374 and parameters: {'n_estimators': 450.0, 'learning_rate': 0.8}. Best is trial 11 with value: 0.8662070285846125.\u001b[0m\n",
            "\u001b[32m[I 2022-04-30 07:09:12,922]\u001b[0m Trial 30 finished with value: 0.8647999698919875 and parameters: {'n_estimators': 530.0, 'learning_rate': 0.55}. Best is trial 11 with value: 0.8662070285846125.\u001b[0m\n",
            "\u001b[32m[I 2022-04-30 07:10:20,597]\u001b[0m Trial 31 finished with value: 0.8655674378572258 and parameters: {'n_estimators': 550.0, 'learning_rate': 0.65}. Best is trial 11 with value: 0.8662070285846125.\u001b[0m\n",
            "\u001b[32m[I 2022-04-30 07:11:22,854]\u001b[0m Trial 32 finished with value: 0.864224276875901 and parameters: {'n_estimators': 500.0, 'learning_rate': 0.6}. Best is trial 11 with value: 0.8662070285846125.\u001b[0m\n",
            "\u001b[32m[I 2022-04-30 07:12:30,696]\u001b[0m Trial 33 finished with value: 0.8649279698527161 and parameters: {'n_estimators': 550.0, 'learning_rate': 0.75}. Best is trial 11 with value: 0.8662070285846125.\u001b[0m\n",
            "\u001b[32m[I 2022-04-30 07:13:32,109]\u001b[0m Trial 34 finished with value: 0.8653114788433941 and parameters: {'n_estimators': 490.0, 'learning_rate': 0.7}. Best is trial 11 with value: 0.8662070285846125.\u001b[0m\n",
            "\u001b[32m[I 2022-04-30 07:14:38,142]\u001b[0m Trial 35 finished with value: 0.8656312946609004 and parameters: {'n_estimators': 530.0, 'learning_rate': 0.65}. Best is trial 11 with value: 0.8662070285846125.\u001b[0m\n",
            "\u001b[32m[I 2022-04-30 07:15:34,841]\u001b[0m Trial 36 finished with value: 0.8635845634256374 and parameters: {'n_estimators': 450.0, 'learning_rate': 0.8}. Best is trial 11 with value: 0.8662070285846125.\u001b[0m\n",
            "\u001b[32m[I 2022-04-30 07:16:39,465]\u001b[0m Trial 37 finished with value: 0.8645442972315355 and parameters: {'n_estimators': 520.0, 'learning_rate': 0.6}. Best is trial 11 with value: 0.8662070285846125.\u001b[0m\n",
            "\u001b[32m[I 2022-04-30 07:17:09,174]\u001b[0m Trial 38 finished with value: 0.8634568498182883 and parameters: {'n_estimators': 240.0, 'learning_rate': 0.9}. Best is trial 11 with value: 0.8662070285846125.\u001b[0m\n",
            "\u001b[32m[I 2022-04-30 07:17:59,681]\u001b[0m Trial 39 finished with value: 0.8650558470905679 and parameters: {'n_estimators': 410.0, 'learning_rate': 0.7}. Best is trial 11 with value: 0.8662070285846125.\u001b[0m\n",
            "\u001b[32m[I 2022-04-30 07:18:43,232]\u001b[0m Trial 40 finished with value: 0.8638407269775973 and parameters: {'n_estimators': 350.0, 'learning_rate': 0.75}. Best is trial 11 with value: 0.8662070285846125.\u001b[0m\n",
            "\u001b[32m[I 2022-04-30 07:19:48,508]\u001b[0m Trial 41 finished with value: 0.8656312946609004 and parameters: {'n_estimators': 530.0, 'learning_rate': 0.65}. Best is trial 11 with value: 0.8662070285846125.\u001b[0m\n",
            "\u001b[32m[I 2022-04-30 07:20:52,202]\u001b[0m Trial 42 finished with value: 0.8658231923329293 and parameters: {'n_estimators': 520.0, 'learning_rate': 0.65}. Best is trial 11 with value: 0.8662070285846125.\u001b[0m\n",
            "\u001b[32m[I 2022-04-30 07:22:52,142]\u001b[0m Trial 44 finished with value: 0.864224276875901 and parameters: {'n_estimators': 500.0, 'learning_rate': 0.6}. Best is trial 11 with value: 0.8662070285846125.\u001b[0m\n",
            "\u001b[32m[I 2022-04-30 07:23:58,905]\u001b[0m Trial 45 finished with value: 0.8658231923329293 and parameters: {'n_estimators': 520.0, 'learning_rate': 0.65}. Best is trial 11 with value: 0.8662070285846125.\u001b[0m\n",
            "\u001b[32m[I 2022-04-30 07:24:19,046]\u001b[0m Trial 46 finished with value: 0.8610909163799043 and parameters: {'n_estimators': 160.0, 'learning_rate': 0.7}. Best is trial 11 with value: 0.8662070285846125.\u001b[0m\n",
            "\u001b[32m[I 2022-04-30 07:25:16,386]\u001b[0m Trial 47 finished with value: 0.864735990365436 and parameters: {'n_estimators': 460.0, 'learning_rate': 0.6}. Best is trial 11 with value: 0.8662070285846125.\u001b[0m\n",
            "\u001b[32m[I 2022-04-30 07:26:17,025]\u001b[0m Trial 48 finished with value: 0.8633935248137476 and parameters: {'n_estimators': 490.0, 'learning_rate': 1.0}. Best is trial 11 with value: 0.8662070285846125.\u001b[0m\n",
            "\u001b[32m[I 2022-04-30 07:27:09,986]\u001b[0m Trial 49 finished with value: 0.8651838470512967 and parameters: {'n_estimators': 430.0, 'learning_rate': 0.7}. Best is trial 11 with value: 0.8662070285846125.\u001b[0m\n"
          ]
        },
        {
          "output_type": "stream",
          "name": "stdout",
          "text": [
            "Best Score: 0.8662070285846125\n",
            "Best trial: {'n_estimators': 540.0, 'learning_rate': 0.7}\n"
          ]
        }
      ]
    },
    {
      "cell_type": "markdown",
      "source": [
        "#### XGBoost"
      ],
      "metadata": {
        "id": "s1Drq2hmIfrT"
      }
    },
    {
      "cell_type": "code",
      "source": [
        "def objectiveXGB(trial:Trial) -> float:\n",
        "  score_list = []\n",
        "  params = {\n",
        "    'random_state':42,\n",
        "    'max_depth' : int(trial.suggest_discrete_uniform('max_depth',2, 30,2)),\n",
        "    'n_estimators': int(trial.suggest_discrete_uniform('n_estimators',100,550,10)),\n",
        "     'learning_rate': trial.suggest_loguniform('learning_rate', 1e-3, 0.05),\n",
        "     'subsample': trial.suggest_loguniform('subsample',0.7,1),\n",
        "     'colsample_bytree':trial.suggest_loguniform('colsample_bytree',0.7,1)\n",
        "     }\n",
        "  for tr_idx, val_idx in skf.split(X_train, y_train):\n",
        "    X_tr, X_val = np.array(X_train)[tr_idx], np.array(X_train)[val_idx]\n",
        "    y_tr, y_val = np.array(y_train)[tr_idx], np.array(y_train)[val_idx]\n",
        "    xgb = XGBClassifier(**params)\n",
        "    xgb = xgb.fit(X_tr, y_tr)\n",
        "    predictions = xgb.predict(X_val)\n",
        "    score = accuracy_score(y_val, predictions)\n",
        "    score_list.append(score)\n",
        "  return np.mean(score_list)"
      ],
      "metadata": {
        "id": "etf_PiwEIh0N"
      },
      "execution_count": null,
      "outputs": []
    },
    {
      "cell_type": "code",
      "source": [
        "xgb_study = optuna.create_study(\n",
        "    study_name = 'XGB_test',\n",
        "    direction='maximize',\n",
        "    sampler = TPESampler(seed=42)\n",
        ")"
      ],
      "metadata": {
        "id": "0FWheR4OJJ-0",
        "colab": {
          "base_uri": "https://localhost:8080/"
        },
        "outputId": "4cee68ae-5cb6-4da3-e175-c11629021dee"
      },
      "execution_count": null,
      "outputs": [
        {
          "output_type": "stream",
          "name": "stderr",
          "text": [
            "\u001b[32m[I 2022-04-30 07:27:10,026]\u001b[0m A new study created in memory with name: XGB_test\u001b[0m\n"
          ]
        }
      ]
    },
    {
      "cell_type": "code",
      "source": [
        "# 'max_depth': 10.0, 'n_estimators': 350.0, 'learning_rate': 0.01081053261365495, 'subsample': 0.783876773469082, 'colsample_bytree': 0.9540872774964744\n",
        "xgb_study.optimize(objectiveXGB, n_trials=30)\n",
        "print(\"Best Score:\", xgb_study.best_value)\n",
        "print(\"Best trial:\", xgb_study.best_trial.params)"
      ],
      "metadata": {
        "colab": {
          "base_uri": "https://localhost:8080/"
        },
        "id": "zvDLFUiMXgp9",
        "outputId": "9fc1bb60-1ee8-42da-c833-0fc5ed1699d4"
      },
      "execution_count": null,
      "outputs": [
        {
          "output_type": "stream",
          "name": "stderr",
          "text": [
            "\u001b[32m[I 2022-04-30 07:30:57,265]\u001b[0m Trial 0 finished with value: 0.8639684405849464 and parameters: {'max_depth': 12.0, 'n_estimators': 530.0, 'learning_rate': 0.01752410111812814, 'subsample': 0.8666253978417815, 'colsample_bytree': 0.7400577878782706}. Best is trial 0 with value: 0.8639684405849464.\u001b[0m\n",
            "\u001b[32m[I 2022-04-30 07:31:17,352]\u001b[0m Trial 1 finished with value: 0.8609620982666621 and parameters: {'max_depth': 6.0, 'n_estimators': 120.0, 'learning_rate': 0.029621516588303493, 'subsample': 0.867385052013284, 'colsample_bytree': 0.9011142760532918}. Best is trial 0 with value: 0.8639684405849464.\u001b[0m\n",
            "\u001b[32m[I 2022-04-30 07:31:50,698]\u001b[0m Trial 2 finished with value: 0.8589161033686612 and parameters: {'max_depth': 2.0, 'n_estimators': 540.0, 'learning_rate': 0.025959425503112647, 'subsample': 0.7550744664467341, 'colsample_bytree': 0.746901073793237}. Best is trial 0 with value: 0.8639684405849464.\u001b[0m\n",
            "\u001b[32m[I 2022-04-30 07:32:26,876]\u001b[0m Trial 3 finished with value: 0.8590436124378817 and parameters: {'max_depth': 6.0, 'n_estimators': 230.0, 'learning_rate': 0.0077901431262762414, 'subsample': 0.8165958528802547, 'colsample_bytree': 0.7766225644402593}. Best is trial 0 with value: 0.8639684405849464.\u001b[0m\n",
            "\u001b[32m[I 2022-04-30 07:33:44,005]\u001b[0m Trial 4 finished with value: 0.8592987532992 and parameters: {'max_depth': 20.0, 'n_estimators': 160.0, 'learning_rate': 0.0031357757322577457, 'subsample': 0.7977158249649767, 'colsample_bytree': 0.8236527911100895}. Best is trial 0 with value: 0.8639684405849464.\u001b[0m\n",
            "\u001b[32m[I 2022-04-30 07:35:21,359]\u001b[0m Trial 5 finished with value: 0.8599388349180946 and parameters: {'max_depth': 24.0, 'n_estimators': 190.0, 'learning_rate': 0.007475992999956505, 'subsample': 0.8646975288763031, 'colsample_bytree': 0.7116939926304295}. Best is trial 0 with value: 0.8639684405849464.\u001b[0m\n",
            "\u001b[32m[I 2022-04-30 07:36:56,500]\u001b[0m Trial 6 finished with value: 0.852391541612055 and parameters: {'max_depth': 20.0, 'n_estimators': 170.0, 'learning_rate': 0.0012897950480855534, 'subsample': 0.9819339357105158, 'colsample_bytree': 0.9878166329131964}. Best is trial 0 with value: 0.8639684405849464.\u001b[0m\n",
            "\u001b[32m[I 2022-04-30 07:39:02,835]\u001b[0m Trial 7 finished with value: 0.8579560832093833 and parameters: {'max_depth': 26.0, 'n_estimators': 240.0, 'learning_rate': 0.0014653521030672135, 'subsample': 0.8934846112177743, 'colsample_bytree': 0.8189898585654789}. Best is trial 0 with value: 0.8639684405849464.\u001b[0m\n",
            "\u001b[32m[I 2022-04-30 07:39:32,434]\u001b[0m Trial 8 finished with value: 0.8456127389618955 and parameters: {'max_depth': 4.0, 'n_estimators': 320.0, 'learning_rate': 0.0011439974749291274, 'subsample': 0.9681743052536671, 'colsample_bytree': 0.7676859041127272}. Best is trial 0 with value: 0.8639684405849464.\u001b[0m\n",
            "\u001b[32m[I 2022-04-30 07:41:28,498]\u001b[0m Trial 9 finished with value: 0.8600669576017005 and parameters: {'max_depth': 20.0, 'n_estimators': 240.0, 'learning_rate': 0.00764856511236995, 'subsample': 0.8507158685078077, 'colsample_bytree': 0.7477085683912128}. Best is trial 0 with value: 0.8639684405849464.\u001b[0m\n",
            "\u001b[32m[I 2022-04-30 07:44:05,279]\u001b[0m Trial 10 finished with value: 0.8638399906403352 and parameters: {'max_depth': 12.0, 'n_estimators': 520.0, 'learning_rate': 0.015229416615648682, 'subsample': 0.7044989817746417, 'colsample_bytree': 0.7038474356112341}. Best is trial 0 with value: 0.8639684405849464.\u001b[0m\n",
            "\u001b[32m[I 2022-04-30 07:46:48,833]\u001b[0m Trial 11 finished with value: 0.8633925839383572 and parameters: {'max_depth': 12.0, 'n_estimators': 550.0, 'learning_rate': 0.01624018209440578, 'subsample': 0.721697722637088, 'colsample_bytree': 0.700933642527879}. Best is trial 0 with value: 0.8639684405849464.\u001b[0m\n",
            "\u001b[32m[I 2022-04-30 07:49:06,607]\u001b[0m Trial 12 finished with value: 0.8639042974278921 and parameters: {'max_depth': 12.0, 'n_estimators': 450.0, 'learning_rate': 0.014264681201116, 'subsample': 0.713083720830152, 'colsample_bytree': 0.7042678900878802}. Best is trial 0 with value: 0.8639684405849464.\u001b[0m\n",
            "\u001b[32m[I 2022-04-30 07:51:43,289]\u001b[0m Trial 13 finished with value: 0.8546943954916525 and parameters: {'max_depth': 14.0, 'n_estimators': 440.0, 'learning_rate': 0.04923182249746339, 'subsample': 0.9269156675702644, 'colsample_bytree': 0.8813379449398991}. Best is trial 0 with value: 0.8639684405849464.\u001b[0m\n",
            "\u001b[32m[I 2022-04-30 07:53:39,111]\u001b[0m Trial 14 finished with value: 0.8650550289380543 and parameters: {'max_depth': 10.0, 'n_estimators': 410.0, 'learning_rate': 0.015148377056929601, 'subsample': 0.7783261275129727, 'colsample_bytree': 0.7924048768824931}. Best is trial 14 with value: 0.8650550289380543.\u001b[0m\n",
            "\u001b[32m[I 2022-04-30 07:55:13,964]\u001b[0m Trial 15 finished with value: 0.860130814405375 and parameters: {'max_depth': 8.0, 'n_estimators': 410.0, 'learning_rate': 0.003823012414172605, 'subsample': 0.7799234768202137, 'colsample_bytree': 0.7935444700090026}. Best is trial 14 with value: 0.8650550289380543.\u001b[0m\n",
            "\u001b[32m[I 2022-04-30 07:59:16,341]\u001b[0m Trial 16 finished with value: 0.8548220272837501 and parameters: {'max_depth': 30.0, 'n_estimators': 350.0, 'learning_rate': 0.024419378426851067, 'subsample': 0.7570166170513564, 'colsample_bytree': 0.8947591336448545}. Best is trial 14 with value: 0.8650550289380543.\u001b[0m\n",
            "\u001b[32m[I 2022-04-30 08:02:51,365]\u001b[0m Trial 17 finished with value: 0.8617297298624031 and parameters: {'max_depth': 16.0, 'n_estimators': 480.0, 'learning_rate': 0.011360411124796565, 'subsample': 0.8254305183019833, 'colsample_bytree': 0.8536196988757029}. Best is trial 14 with value: 0.8650550289380543.\u001b[0m\n",
            "\u001b[32m[I 2022-04-30 08:04:34,338]\u001b[0m Trial 18 finished with value: 0.8612817095460399 and parameters: {'max_depth': 10.0, 'n_estimators': 380.0, 'learning_rate': 0.004189178146712622, 'subsample': 0.916648259211489, 'colsample_bytree': 0.7378451339046582}. Best is trial 14 with value: 0.8650550289380543.\u001b[0m\n",
            "\u001b[32m[I 2022-04-30 08:07:59,164]\u001b[0m Trial 19 finished with value: 0.8517522372380479 and parameters: {'max_depth': 16.0, 'n_estimators': 490.0, 'learning_rate': 0.044336397764952545, 'subsample': 0.7660880971612335, 'colsample_bytree': 0.7935045727829579}. Best is trial 14 with value: 0.8650550289380543.\u001b[0m\n",
            "\u001b[32m[I 2022-04-30 08:09:07,535]\u001b[0m Trial 20 finished with value: 0.8636479702454294 and parameters: {'max_depth': 8.0, 'n_estimators': 310.0, 'learning_rate': 0.010842124511799046, 'subsample': 0.8909696684945141, 'colsample_bytree': 0.8461995446995828}. Best is trial 14 with value: 0.8650550289380543.\u001b[0m\n",
            "\u001b[32m[I 2022-04-30 08:11:32,179]\u001b[0m Trial 21 finished with value: 0.8640957451160386 and parameters: {'max_depth': 12.0, 'n_estimators': 450.0, 'learning_rate': 0.016915640574115164, 'subsample': 0.7257621291201325, 'colsample_bytree': 0.7296265252733611}. Best is trial 14 with value: 0.8650550289380543.\u001b[0m\n",
            "\u001b[32m[I 2022-04-30 08:13:20,172]\u001b[0m Trial 22 finished with value: 0.8649276016840852 and parameters: {'max_depth': 10.0, 'n_estimators': 410.0, 'learning_rate': 0.020137257879436217, 'subsample': 0.743871798077262, 'colsample_bytree': 0.7308976276159718}. Best is trial 14 with value: 0.8650550289380543.\u001b[0m\n",
            "\u001b[32m[I 2022-04-30 08:14:39,118]\u001b[0m Trial 23 finished with value: 0.8638401951784637 and parameters: {'max_depth': 8.0, 'n_estimators': 390.0, 'learning_rate': 0.03286027091536723, 'subsample': 0.7339668170544642, 'colsample_bytree': 0.7650882630841135}. Best is trial 14 with value: 0.8650550289380543.\u001b[0m\n",
            "\u001b[32m[I 2022-04-30 08:17:58,090]\u001b[0m Trial 24 finished with value: 0.8565486563481273 and parameters: {'max_depth': 18.0, 'n_estimators': 440.0, 'learning_rate': 0.021464426926264366, 'subsample': 0.7369867766814525, 'colsample_bytree': 0.7212441955127523}. Best is trial 14 with value: 0.8650550289380543.\u001b[0m\n",
            "\u001b[32m[I 2022-04-30 08:19:47,583]\u001b[0m Trial 25 finished with value: 0.8652473765939657 and parameters: {'max_depth': 10.0, 'n_estimators': 370.0, 'learning_rate': 0.010115113960610213, 'subsample': 0.788047312151677, 'colsample_bytree': 0.7950146250550985}. Best is trial 25 with value: 0.8652473765939657.\u001b[0m\n",
            "\u001b[32m[I 2022-04-30 08:20:05,611]\u001b[0m Trial 26 finished with value: 0.8437582326596665 and parameters: {'max_depth': 2.0, 'n_estimators': 280.0, 'learning_rate': 0.0053568012758775626, 'subsample': 0.8024959473029197, 'colsample_bytree': 0.8078237633776243}. Best is trial 25 with value: 0.8652473765939657.\u001b[0m\n",
            "\u001b[32m[I 2022-04-30 08:22:00,979]\u001b[0m Trial 27 finished with value: 0.8656312946609003 and parameters: {'max_depth': 10.0, 'n_estimators': 350.0, 'learning_rate': 0.01081053261365495, 'subsample': 0.783876773469082, 'colsample_bytree': 0.9540872774964744}. Best is trial 27 with value: 0.8656312946609003.\u001b[0m\n",
            "\u001b[32m[I 2022-04-30 08:23:04,323]\u001b[0m Trial 28 finished with value: 0.8617935048508263 and parameters: {'max_depth': 6.0, 'n_estimators': 350.0, 'learning_rate': 0.010899234297597832, 'subsample': 0.7826076911346832, 'colsample_bytree': 0.99932567515182}. Best is trial 27 with value: 0.8656312946609003.\u001b[0m\n",
            "\u001b[32m[I 2022-04-30 08:25:11,802]\u001b[0m Trial 29 finished with value: 0.8613456072573399 and parameters: {'max_depth': 14.0, 'n_estimators': 280.0, 'learning_rate': 0.006274357737700622, 'subsample': 0.7821262688613276, 'colsample_bytree': 0.9543569639989755}. Best is trial 27 with value: 0.8656312946609003.\u001b[0m\n"
          ]
        },
        {
          "output_type": "stream",
          "name": "stdout",
          "text": [
            "Best Score: 0.8656312946609003\n",
            "Best trial: {'max_depth': 10.0, 'n_estimators': 350.0, 'learning_rate': 0.01081053261365495, 'subsample': 0.783876773469082, 'colsample_bytree': 0.9540872774964744}\n"
          ]
        }
      ]
    },
    {
      "cell_type": "markdown",
      "source": [
        "#### LightGBM"
      ],
      "metadata": {
        "id": "rG5BKmDJM4Ja"
      }
    },
    {
      "cell_type": "code",
      "source": [
        "def objectiveLGB(trial:Trial) -> float:\n",
        "  score_list = []\n",
        "  params = {\n",
        "    'random_state':42,\n",
        "    'max_depth' : int(trial.suggest_discrete_uniform('max_depth',2, 30,2)),\n",
        "    'n_estimators': int(trial.suggest_discrete_uniform('n_estimators',100,550,10)),\n",
        "     'learning_rate': trial.suggest_loguniform('learning_rate', 1e-3, 0.05),\n",
        "     'subsample': trial.suggest_loguniform('subsample',0.7,1),\n",
        "     'colsample_bytree':trial.suggest_loguniform('colsample_bytree',0.7,1)\n",
        "     }\n",
        "  for tr_idx, val_idx in skf.split(X_train, y_train):\n",
        "    X_tr, X_val = np.array(X_train)[tr_idx], np.array(X_train)[val_idx]\n",
        "    y_tr, y_val = np.array(y_train)[tr_idx], np.array(y_train)[val_idx]\n",
        "    lgb = LGBMClassifier(**params)\n",
        "    lgb = lgb.fit(X_tr, y_tr)\n",
        "    predictions = lgb.predict(X_val)\n",
        "    score = accuracy_score(y_val, predictions)\n",
        "    score_list.append(score)\n",
        "  return np.mean(score_list)"
      ],
      "metadata": {
        "id": "sK7nxTIgM7qt"
      },
      "execution_count": null,
      "outputs": []
    },
    {
      "cell_type": "code",
      "source": [
        "lgb_study = optuna.create_study(\n",
        "    study_name = 'LGB_test',\n",
        "    direction='maximize',\n",
        "    sampler = TPESampler(seed=42)\n",
        ")"
      ],
      "metadata": {
        "id": "o6eVsnWTTjn3",
        "colab": {
          "base_uri": "https://localhost:8080/"
        },
        "outputId": "5faa32ab-9e4e-42ab-968a-f4aeb9d901c1"
      },
      "execution_count": null,
      "outputs": [
        {
          "output_type": "stream",
          "name": "stderr",
          "text": [
            "\u001b[32m[I 2022-04-30 08:25:11,867]\u001b[0m A new study created in memory with name: LGB_test\u001b[0m\n"
          ]
        }
      ]
    },
    {
      "cell_type": "code",
      "source": [
        "# 'max_depth': 10.0, 'n_estimators': 450.0, 'learning_rate': 0.017176619845728085, 'subsample': 0.9057955079535207, 'colsample_bytree': 0.8159300849840903\n",
        "lgb_study.optimize(objectiveLGB, n_trials=50)\n",
        "print(\"Best Score:\", lgb_study.best_value)\n",
        "print(\"Best trial:\", lgb_study.best_trial.params)"
      ],
      "metadata": {
        "id": "RoV1vAHyTqct",
        "colab": {
          "base_uri": "https://localhost:8080/"
        },
        "outputId": "ea53c4f8-da0a-4dae-cf12-a667dc95b03e"
      },
      "execution_count": null,
      "outputs": [
        {
          "output_type": "stream",
          "name": "stderr",
          "text": [
            "\u001b[32m[I 2022-04-30 08:25:25,538]\u001b[0m Trial 0 finished with value: 0.8672295965035435 and parameters: {'max_depth': 12.0, 'n_estimators': 530.0, 'learning_rate': 0.01752410111812814, 'subsample': 0.8666253978417815, 'colsample_bytree': 0.7400577878782706}. Best is trial 0 with value: 0.8672295965035435.\u001b[0m\n",
            "\u001b[32m[I 2022-04-30 08:25:29,016]\u001b[0m Trial 1 finished with value: 0.8600667939711977 and parameters: {'max_depth': 6.0, 'n_estimators': 120.0, 'learning_rate': 0.029621516588303493, 'subsample': 0.867385052013284, 'colsample_bytree': 0.9011142760532918}. Best is trial 0 with value: 0.8672295965035435.\u001b[0m\n",
            "\u001b[32m[I 2022-04-30 08:25:35,328]\u001b[0m Trial 2 finished with value: 0.8583404103525746 and parameters: {'max_depth': 2.0, 'n_estimators': 540.0, 'learning_rate': 0.025959425503112647, 'subsample': 0.7550744664467341, 'colsample_bytree': 0.746901073793237}. Best is trial 0 with value: 0.8672295965035435.\u001b[0m\n",
            "\u001b[32m[I 2022-04-30 08:25:41,377]\u001b[0m Trial 3 finished with value: 0.854758865909712 and parameters: {'max_depth': 6.0, 'n_estimators': 230.0, 'learning_rate': 0.0077901431262762414, 'subsample': 0.8165958528802547, 'colsample_bytree': 0.7766225644402593}. Best is trial 0 with value: 0.8672295965035435.\u001b[0m\n",
            "\u001b[32m[I 2022-04-30 08:25:46,300]\u001b[0m Trial 4 finished with value: 0.7943851011154691 and parameters: {'max_depth': 20.0, 'n_estimators': 160.0, 'learning_rate': 0.0031357757322577457, 'subsample': 0.7977158249649767, 'colsample_bytree': 0.8236527911100895}. Best is trial 0 with value: 0.8672295965035435.\u001b[0m\n",
            "\u001b[32m[I 2022-04-30 08:25:51,613]\u001b[0m Trial 5 finished with value: 0.8536074389699133 and parameters: {'max_depth': 24.0, 'n_estimators': 190.0, 'learning_rate': 0.007475992999956505, 'subsample': 0.8646975288763031, 'colsample_bytree': 0.7116939926304295}. Best is trial 0 with value: 0.8672295965035435.\u001b[0m\n",
            "\u001b[32m[I 2022-04-30 08:25:57,287]\u001b[0m Trial 6 finished with value: 0.7496163273788194 and parameters: {'max_depth': 20.0, 'n_estimators': 170.0, 'learning_rate': 0.0012897950480855534, 'subsample': 0.9819339357105158, 'colsample_bytree': 0.9878166329131964}. Best is trial 0 with value: 0.8672295965035435.\u001b[0m\n",
            "\u001b[32m[I 2022-04-30 08:26:04,563]\u001b[0m Trial 7 finished with value: 0.7496163273788194 and parameters: {'max_depth': 26.0, 'n_estimators': 240.0, 'learning_rate': 0.0014653521030672135, 'subsample': 0.8934846112177743, 'colsample_bytree': 0.8189898585654789}. Best is trial 0 with value: 0.8672295965035435.\u001b[0m\n",
            "\u001b[32m[I 2022-04-30 08:26:10,886]\u001b[0m Trial 8 finished with value: 0.7496163273788194 and parameters: {'max_depth': 4.0, 'n_estimators': 320.0, 'learning_rate': 0.0011439974749291274, 'subsample': 0.9681743052536671, 'colsample_bytree': 0.7676859041127272}. Best is trial 0 with value: 0.8672295965035435.\u001b[0m\n",
            "\u001b[32m[I 2022-04-30 08:26:17,868]\u001b[0m Trial 9 finished with value: 0.8579562468398858 and parameters: {'max_depth': 20.0, 'n_estimators': 240.0, 'learning_rate': 0.00764856511236995, 'subsample': 0.8507158685078077, 'colsample_bytree': 0.7477085683912128}. Best is trial 0 with value: 0.8672295965035435.\u001b[0m\n",
            "\u001b[32m[I 2022-04-30 08:26:30,978]\u001b[0m Trial 10 finished with value: 0.86588651733747 and parameters: {'max_depth': 12.0, 'n_estimators': 520.0, 'learning_rate': 0.015229416615648682, 'subsample': 0.7044989817746417, 'colsample_bytree': 0.7038474356112341}. Best is trial 0 with value: 0.8672295965035435.\u001b[0m\n",
            "\u001b[32m[I 2022-04-30 08:26:44,641]\u001b[0m Trial 11 finished with value: 0.8671658215151202 and parameters: {'max_depth': 12.0, 'n_estimators': 550.0, 'learning_rate': 0.01624018209440578, 'subsample': 0.721697722637088, 'colsample_bytree': 0.700933642527879}. Best is trial 0 with value: 0.8672295965035435.\u001b[0m\n",
            "\u001b[32m[I 2022-04-30 08:26:56,369]\u001b[0m Trial 12 finished with value: 0.8667179648292598 and parameters: {'max_depth': 12.0, 'n_estimators': 450.0, 'learning_rate': 0.014264681201116, 'subsample': 0.713069765416469, 'colsample_bytree': 0.7041156562893638}. Best is trial 0 with value: 0.8672295965035435.\u001b[0m\n",
            "\u001b[32m[I 2022-04-30 08:27:06,315]\u001b[0m Trial 13 finished with value: 0.8633283998736772 and parameters: {'max_depth': 14.0, 'n_estimators': 410.0, 'learning_rate': 0.04936136705399827, 'subsample': 0.9269156675702644, 'colsample_bytree': 0.8813379449398991}. Best is trial 0 with value: 0.8672295965035435.\u001b[0m\n",
            "\u001b[32m[I 2022-04-30 08:27:19,193]\u001b[0m Trial 14 finished with value: 0.8674856373326264 and parameters: {'max_depth': 10.0, 'n_estimators': 460.0, 'learning_rate': 0.015148377056929601, 'subsample': 0.7719982224536588, 'colsample_bytree': 0.7924048768824931}. Best is trial 14 with value: 0.8674856373326264.\u001b[0m\n",
            "\u001b[32m[I 2022-04-30 08:27:32,580]\u001b[0m Trial 15 finished with value: 0.8563575768286118 and parameters: {'max_depth': 8.0, 'n_estimators': 450.0, 'learning_rate': 0.003823012414172605, 'subsample': 0.7754553638176545, 'colsample_bytree': 0.7935444700090026}. Best is trial 14 with value: 0.8674856373326264.\u001b[0m\n",
            "\u001b[32m[I 2022-04-30 08:27:42,670]\u001b[0m Trial 16 finished with value: 0.8664622103535564 and parameters: {'max_depth': 30.0, 'n_estimators': 360.0, 'learning_rate': 0.024419378426851067, 'subsample': 0.7570166170513564, 'colsample_bytree': 0.8947591336448545}. Best is trial 14 with value: 0.8674856373326264.\u001b[0m\n",
            "\u001b[32m[I 2022-04-30 08:27:56,990]\u001b[0m Trial 17 finished with value: 0.8671659033303716 and parameters: {'max_depth': 16.0, 'n_estimators': 490.0, 'learning_rate': 0.011360411124796565, 'subsample': 0.8219383112165133, 'colsample_bytree': 0.8536196988757029}. Best is trial 14 with value: 0.8674856373326264.\u001b[0m\n",
            "\u001b[32m[I 2022-04-30 08:28:07,372]\u001b[0m Trial 18 finished with value: 0.8559098019580027 and parameters: {'max_depth': 10.0, 'n_estimators': 370.0, 'learning_rate': 0.004189178146712622, 'subsample': 0.916648259211489, 'colsample_bytree': 0.7378451339046582}. Best is trial 14 with value: 0.8674856373326264.\u001b[0m\n",
            "\u001b[32m[I 2022-04-30 08:28:18,938]\u001b[0m Trial 19 finished with value: 0.8632645430700027 and parameters: {'max_depth': 16.0, 'n_estimators': 480.0, 'learning_rate': 0.044336397764952545, 'subsample': 0.7998856758536891, 'colsample_bytree': 0.7935045727829579}. Best is trial 14 with value: 0.8674856373326264.\u001b[0m\n",
            "\u001b[32m[I 2022-04-30 08:28:27,782]\u001b[0m Trial 20 finished with value: 0.8618570753011211 and parameters: {'max_depth': 8.0, 'n_estimators': 310.0, 'learning_rate': 0.010842124511799046, 'subsample': 0.742476952263741, 'colsample_bytree': 0.8461995446995828}. Best is trial 14 with value: 0.8674856373326264.\u001b[0m\n",
            "\u001b[32m[I 2022-04-30 08:28:42,898]\u001b[0m Trial 21 finished with value: 0.8662061695244734 and parameters: {'max_depth': 16.0, 'n_estimators': 490.0, 'learning_rate': 0.011063606442706209, 'subsample': 0.8300689785998405, 'colsample_bytree': 0.8599408856734483}. Best is trial 14 with value: 0.8674856373326264.\u001b[0m\n",
            "\u001b[32m[I 2022-04-30 08:28:55,373]\u001b[0m Trial 22 finished with value: 0.866718046644511 and parameters: {'max_depth': 18.0, 'n_estimators': 420.0, 'learning_rate': 0.020137257879436217, 'subsample': 0.7849439840965948, 'colsample_bytree': 0.954904684359005}. Best is trial 14 with value: 0.8674856373326264.\u001b[0m\n",
            "\u001b[32m[I 2022-04-30 08:29:10,215]\u001b[0m Trial 23 finished with value: 0.8671015556351891 and parameters: {'max_depth': 14.0, 'n_estimators': 510.0, 'learning_rate': 0.01159762020390666, 'subsample': 0.8287011919439918, 'colsample_bytree': 0.8042330861510841}. Best is trial 14 with value: 0.8674856373326264.\u001b[0m\n",
            "\u001b[32m[I 2022-04-30 08:29:23,214]\u001b[0m Trial 24 finished with value: 0.859171530583359 and parameters: {'max_depth': 8.0, 'n_estimators': 460.0, 'learning_rate': 0.005049501113762245, 'subsample': 0.888260601025345, 'colsample_bytree': 0.7619347291937694}. Best is trial 14 with value: 0.8674856373326264.\u001b[0m\n",
            "\u001b[32m[I 2022-04-30 08:29:35,519]\u001b[0m Trial 25 finished with value: 0.863840399716592 and parameters: {'max_depth': 14.0, 'n_estimators': 500.0, 'learning_rate': 0.033741655846383785, 'subsample': 0.8077200495042031, 'colsample_bytree': 0.8524279799494101}. Best is trial 14 with value: 0.8674856373326264.\u001b[0m\n",
            "\u001b[32m[I 2022-04-30 08:29:46,293]\u001b[0m Trial 26 finished with value: 0.8672295555959177 and parameters: {'max_depth': 10.0, 'n_estimators': 410.0, 'learning_rate': 0.018785057462207645, 'subsample': 0.8488724511050705, 'colsample_bytree': 0.7260890897302461}. Best is trial 14 with value: 0.8674856373326264.\u001b[0m\n",
            "\u001b[32m[I 2022-04-30 08:29:57,137]\u001b[0m Trial 27 finished with value: 0.8669740056583427 and parameters: {'max_depth': 10.0, 'n_estimators': 410.0, 'learning_rate': 0.019686605894405188, 'subsample': 0.842751346984005, 'colsample_bytree': 0.7282636522409528}. Best is trial 14 with value: 0.8674856373326264.\u001b[0m\n",
            "\u001b[32m[I 2022-04-30 08:30:03,331]\u001b[0m Trial 28 finished with value: 0.8651191720951086 and parameters: {'max_depth': 4.0, 'n_estimators': 370.0, 'learning_rate': 0.033931328103824945, 'subsample': 0.9438669254847936, 'colsample_bytree': 0.7247934339810829}. Best is trial 14 with value: 0.8674856373326264.\u001b[0m\n",
            "\u001b[32m[I 2022-04-30 08:30:14,612]\u001b[0m Trial 29 finished with value: 0.866782230709191 and parameters: {'max_depth': 10.0, 'n_estimators': 430.0, 'learning_rate': 0.02002810188216209, 'subsample': 0.8834050142154853, 'colsample_bytree': 0.778605929752772}. Best is trial 14 with value: 0.8674856373326264.\u001b[0m\n",
            "\u001b[32m[I 2022-04-30 08:30:21,144]\u001b[0m Trial 30 finished with value: 0.8665260262496052 and parameters: {'max_depth': 6.0, 'n_estimators': 290.0, 'learning_rate': 0.03056028619295333, 'subsample': 0.8635780692690326, 'colsample_bytree': 0.7591188825830395}. Best is trial 14 with value: 0.8674856373326264.\u001b[0m\n",
            "\u001b[32m[I 2022-04-30 08:30:24,361]\u001b[0m Trial 31 finished with value: 0.8465080841649855 and parameters: {'max_depth': 18.0, 'n_estimators': 100.0, 'learning_rate': 0.009041337973452789, 'subsample': 0.7734817278904668, 'colsample_bytree': 0.826994779913121}. Best is trial 14 with value: 0.8674856373326264.\u001b[0m\n",
            "\u001b[32m[I 2022-04-30 08:30:41,792]\u001b[0m Trial 32 finished with value: 0.8628807068183194 and parameters: {'max_depth': 12.0, 'n_estimators': 550.0, 'learning_rate': 0.005866775515207286, 'subsample': 0.8479350558207643, 'colsample_bytree': 0.8705480555126566}. Best is trial 14 with value: 0.8674856373326264.\u001b[0m\n",
            "\u001b[32m[I 2022-04-30 08:30:48,120]\u001b[0m Trial 33 finished with value: 0.8532239708868609 and parameters: {'max_depth': 2.0, 'n_estimators': 470.0, 'learning_rate': 0.013236873007944116, 'subsample': 0.8128160823331045, 'colsample_bytree': 0.9221516359204979}. Best is trial 14 with value: 0.8674856373326264.\u001b[0m\n",
            "\u001b[32m[I 2022-04-30 08:31:01,126]\u001b[0m Trial 34 finished with value: 0.8655666606123381 and parameters: {'max_depth': 14.0, 'n_estimators': 530.0, 'learning_rate': 0.025062377876416977, 'subsample': 0.734918682333511, 'colsample_bytree': 0.747802920597594}. Best is trial 14 with value: 0.8674856373326264.\u001b[0m\n",
            "\u001b[32m[I 2022-04-30 08:31:15,366]\u001b[0m Trial 35 finished with value: 0.8656949060188207 and parameters: {'max_depth': 18.0, 'n_estimators': 500.0, 'learning_rate': 0.009176998388962724, 'subsample': 0.8237525017590269, 'colsample_bytree': 0.7202903465431728}. Best is trial 14 with value: 0.8674856373326264.\u001b[0m\n",
            "\u001b[32m[I 2022-04-30 08:31:25,742]\u001b[0m Trial 36 finished with value: 0.8663342103928278 and parameters: {'max_depth': 22.0, 'n_estimators': 390.0, 'learning_rate': 0.019195681936518307, 'subsample': 0.8631121375127592, 'colsample_bytree': 0.7751887857593168}. Best is trial 14 with value: 0.8674856373326264.\u001b[0m\n",
            "\u001b[32m[I 2022-04-30 08:31:38,146]\u001b[0m Trial 37 finished with value: 0.8674857191478779 and parameters: {'max_depth': 10.0, 'n_estimators': 450.0, 'learning_rate': 0.017176619845728085, 'subsample': 0.9057955079535207, 'colsample_bytree': 0.8159300849840903}. Best is trial 37 with value: 0.8674857191478779.\u001b[0m\n",
            "\u001b[32m[I 2022-04-30 08:31:50,667]\u001b[0m Trial 38 finished with value: 0.8442058848073988 and parameters: {'max_depth': 6.0, 'n_estimators': 440.0, 'learning_rate': 0.001980453930119666, 'subsample': 0.9102096673254759, 'colsample_bytree': 0.8097826550782854}. Best is trial 37 with value: 0.8674857191478779.\u001b[0m\n",
            "\u001b[32m[I 2022-04-30 08:31:58,985]\u001b[0m Trial 39 finished with value: 0.8653111924900145 and parameters: {'max_depth': 10.0, 'n_estimators': 340.0, 'learning_rate': 0.038187066688641254, 'subsample': 0.9493991055659964, 'colsample_bytree': 0.7399283371443894}. Best is trial 37 with value: 0.8674857191478779.\u001b[0m\n",
            "\u001b[32m[I 2022-04-30 08:32:08,966]\u001b[0m Trial 40 finished with value: 0.8669740874735942 and parameters: {'max_depth': 8.0, 'n_estimators': 390.0, 'learning_rate': 0.02405022899132302, 'subsample': 0.8776442007716554, 'colsample_bytree': 0.7894820469093594}. Best is trial 37 with value: 0.8674857191478779.\u001b[0m\n",
            "\u001b[32m[I 2022-04-30 08:32:22,732]\u001b[0m Trial 41 finished with value: 0.8670379851848942 and parameters: {'max_depth': 12.0, 'n_estimators': 480.0, 'learning_rate': 0.015876091885592247, 'subsample': 0.9034007836252382, 'colsample_bytree': 0.8378507699294617}. Best is trial 37 with value: 0.8674857191478779.\u001b[0m\n",
            "\u001b[32m[I 2022-04-30 08:32:38,376]\u001b[0m Trial 42 finished with value: 0.8658225378109184 and parameters: {'max_depth': 16.0, 'n_estimators': 520.0, 'learning_rate': 0.008897892836049123, 'subsample': 0.8740120966281949, 'colsample_bytree': 0.8208230872329502}. Best is trial 37 with value: 0.8674857191478779.\u001b[0m\n",
            "\u001b[32m[I 2022-04-30 08:32:51,621]\u001b[0m Trial 43 finished with value: 0.8664619240001767 and parameters: {'max_depth': 10.0, 'n_estimators': 470.0, 'learning_rate': 0.013056972324877323, 'subsample': 0.7855456049589451, 'colsample_bytree': 0.8074157310015521}. Best is trial 37 with value: 0.8674857191478779.\u001b[0m\n",
            "\u001b[32m[I 2022-04-30 08:33:02,209]\u001b[0m Trial 44 finished with value: 0.854375479641911 and parameters: {'max_depth': 4.0, 'n_estimators': 530.0, 'learning_rate': 0.0064113818605339755, 'subsample': 0.8473659247416192, 'colsample_bytree': 0.8350454813062446}. Best is trial 37 with value: 0.8674857191478779.\u001b[0m\n",
            "\u001b[32m[I 2022-04-30 08:33:14,467]\u001b[0m Trial 45 finished with value: 0.8667821488939398 and parameters: {'max_depth': 14.0, 'n_estimators': 440.0, 'learning_rate': 0.016481334973400524, 'subsample': 0.8996763296787608, 'colsample_bytree': 0.756466360027844}. Best is trial 37 with value: 0.8674857191478779.\u001b[0m\n",
            "\u001b[32m[I 2022-04-30 08:33:24,540]\u001b[0m Trial 46 finished with value: 0.8669096988707861 and parameters: {'max_depth': 12.0, 'n_estimators': 400.0, 'learning_rate': 0.017704077446617724, 'subsample': 0.7653050698227172, 'colsample_bytree': 0.7115795941051148}. Best is trial 37 with value: 0.8674857191478779.\u001b[0m\n",
            "\u001b[32m[I 2022-04-30 08:33:36,894]\u001b[0m Trial 47 finished with value: 0.8667183329978909 and parameters: {'max_depth': 8.0, 'n_estimators': 460.0, 'learning_rate': 0.0227016667457762, 'subsample': 0.9310122665746065, 'colsample_bytree': 0.9125624497509043}. Best is trial 37 with value: 0.8674857191478779.\u001b[0m\n",
            "\u001b[32m[I 2022-04-30 08:33:52,105]\u001b[0m Trial 48 finished with value: 0.866781985263437 and parameters: {'max_depth': 16.0, 'n_estimators': 550.0, 'learning_rate': 0.012723824983989416, 'subsample': 0.8572127684394655, 'colsample_bytree': 0.7820623294468085}. Best is trial 37 with value: 0.8674857191478779.\u001b[0m\n",
            "\u001b[32m[I 2022-04-30 08:34:00,881]\u001b[0m Trial 49 finished with value: 0.8639680315086895 and parameters: {'max_depth': 10.0, 'n_estimators': 280.0, 'learning_rate': 0.01479433159088097, 'subsample': 0.7968698193810458, 'colsample_bytree': 0.8818311855894914}. Best is trial 37 with value: 0.8674857191478779.\u001b[0m\n"
          ]
        },
        {
          "output_type": "stream",
          "name": "stdout",
          "text": [
            "Best Score: 0.8674857191478779\n",
            "Best trial: {'max_depth': 10.0, 'n_estimators': 450.0, 'learning_rate': 0.017176619845728085, 'subsample': 0.9057955079535207, 'colsample_bytree': 0.8159300849840903}\n"
          ]
        }
      ]
    },
    {
      "cell_type": "markdown",
      "source": [
        "#### etc"
      ],
      "metadata": {
        "id": "LVCW4DiDM8K_"
      }
    },
    {
      "cell_type": "code",
      "source": [
        "def objectiveETC(trial:Trial) -> float:\n",
        "  score_list = []\n",
        "  params = {\n",
        "    'random_state':42,\n",
        "    'max_depth' : int(trial.suggest_discrete_uniform('max_depth',2, 30,2)),\n",
        "    'min_samples_leaf': int(trial.suggest_discrete_uniform('min_samples_leaf',2,20,2)),\n",
        "    'min_samples_split': int(trial.suggest_discrete_uniform('min_samples_split',2,20,2)),\n",
        "    'n_estimators': int(trial.suggest_discrete_uniform('n_estimators',100,550,10))}\n",
        "  for tr_idx, val_idx in skf.split(X_train, y_train):\n",
        "    X_tr, X_val = np.array(X_train)[tr_idx], np.array(X_train)[val_idx]\n",
        "    y_tr, y_val = np.array(y_train)[tr_idx], np.array(y_train)[val_idx]\n",
        "    etc = ExtraTreesClassifier(**params)\n",
        "    etc = etc.fit(X_tr, y_tr)\n",
        "    predictions = etc.predict(X_val)\n",
        "    score = accuracy_score(y_val, predictions)\n",
        "    score_list.append(score)\n",
        "  return np.mean(score_list)"
      ],
      "metadata": {
        "id": "EwO6-vXLTE1g"
      },
      "execution_count": null,
      "outputs": []
    },
    {
      "cell_type": "code",
      "source": [
        "etc_study = optuna.create_study(\n",
        "    study_name = 'ETC_test',\n",
        "    direction='maximize',\n",
        "    sampler = TPESampler(seed=42)\n",
        ")"
      ],
      "metadata": {
        "id": "lKrsMt7KUNiO",
        "colab": {
          "base_uri": "https://localhost:8080/"
        },
        "outputId": "01b3db5b-1680-4ac9-9105-c05b3f8532f2"
      },
      "execution_count": null,
      "outputs": [
        {
          "output_type": "stream",
          "name": "stderr",
          "text": [
            "\u001b[32m[I 2022-04-30 08:34:00,918]\u001b[0m A new study created in memory with name: ETC_test\u001b[0m\n"
          ]
        }
      ]
    },
    {
      "cell_type": "code",
      "source": [
        "# 'max_depth': 26.0, 'min_samples_leaf': 2.0, 'min_samples_split': 8.0, 'n_estimators': 280.0\n",
        "etc_study.optimize(objectiveETC, n_trials=50)\n",
        "print(\"Best Score:\", etc_study.best_value)\n",
        "print(\"Best trial:\", etc_study.best_trial.params)"
      ],
      "metadata": {
        "id": "_meyRdHCUThX",
        "colab": {
          "base_uri": "https://localhost:8080/"
        },
        "outputId": "6372dcc0-9844-4635-ded4-bb05471a6b80"
      },
      "execution_count": null,
      "outputs": [
        {
          "output_type": "stream",
          "name": "stderr",
          "text": [
            "\u001b[32m[I 2022-04-30 08:34:23,192]\u001b[0m Trial 0 finished with value: 0.8406890562283497 and parameters: {'max_depth': 12.0, 'min_samples_leaf': 20.0, 'min_samples_split': 16.0, 'n_estimators': 370.0}. Best is trial 0 with value: 0.8406890562283497.\u001b[0m\n",
            "\u001b[32m[I 2022-04-30 08:34:45,679]\u001b[0m Trial 1 finished with value: 0.8345487807073093 and parameters: {'max_depth': 6.0, 'min_samples_leaf': 4.0, 'min_samples_split': 2.0, 'n_estimators': 490.0}. Best is trial 0 with value: 0.8406890562283497.\u001b[0m\n",
            "\u001b[32m[I 2022-04-30 08:35:20,440]\u001b[0m Trial 2 finished with value: 0.8424154807545984 and parameters: {'max_depth': 20.0, 'min_samples_leaf': 16.0, 'min_samples_split': 2.0, 'n_estimators': 540.0}. Best is trial 2 with value: 0.8424154807545984.\u001b[0m\n",
            "\u001b[32m[I 2022-04-30 08:35:33,407]\u001b[0m Trial 3 finished with value: 0.8465722682296652 and parameters: {'max_depth': 26.0, 'min_samples_leaf': 6.0, 'min_samples_split': 4.0, 'n_estimators': 180.0}. Best is trial 3 with value: 0.8465722682296652.\u001b[0m\n",
            "\u001b[32m[I 2022-04-30 08:35:46,688]\u001b[0m Trial 4 finished with value: 0.8417121559464142 and parameters: {'max_depth': 10.0, 'min_samples_leaf': 12.0, 'min_samples_split': 10.0, 'n_estimators': 230.0}. Best is trial 3 with value: 0.8465722682296652.\u001b[0m\n",
            "\u001b[32m[I 2022-04-30 08:36:06,859]\u001b[0m Trial 5 finished with value: 0.8479151428576104 and parameters: {'max_depth': 20.0, 'min_samples_leaf': 4.0, 'min_samples_split': 6.0, 'n_estimators': 260.0}. Best is trial 5 with value: 0.8479151428576104.\u001b[0m\n",
            "\u001b[32m[I 2022-04-30 08:36:27,883]\u001b[0m Trial 6 finished with value: 0.8428631738099563 and parameters: {'max_depth': 14.0, 'min_samples_leaf': 16.0, 'min_samples_split': 4.0, 'n_estimators': 330.0}. Best is trial 5 with value: 0.8479151428576104.\u001b[0m\n",
            "\u001b[32m[I 2022-04-30 08:36:41,454]\u001b[0m Trial 7 finished with value: 0.849002672086109 and parameters: {'max_depth': 18.0, 'min_samples_leaf': 2.0, 'min_samples_split': 14.0, 'n_estimators': 170.0}. Best is trial 7 with value: 0.849002672086109.\u001b[0m\n",
            "\u001b[32m[I 2022-04-30 08:36:55,791]\u001b[0m Trial 8 finished with value: 0.7613202036217975 and parameters: {'max_depth': 2.0, 'min_samples_leaf': 20.0, 'min_samples_split': 20.0, 'n_estimators': 470.0}. Best is trial 7 with value: 0.849002672086109.\u001b[0m\n",
            "\u001b[32m[I 2022-04-30 08:37:14,336]\u001b[0m Trial 9 finished with value: 0.8440142734887497 and parameters: {'max_depth': 10.0, 'min_samples_leaf': 2.0, 'min_samples_split': 14.0, 'n_estimators': 300.0}. Best is trial 7 with value: 0.849002672086109.\u001b[0m\n",
            "\u001b[32m[I 2022-04-30 08:37:21,392]\u001b[0m Trial 10 finished with value: 0.8452294345093458 and parameters: {'max_depth': 30.0, 'min_samples_leaf': 8.0, 'min_samples_split': 10.0, 'n_estimators': 100.0}. Best is trial 7 with value: 0.849002672086109.\u001b[0m\n",
            "\u001b[32m[I 2022-04-30 08:37:38,356]\u001b[0m Trial 11 finished with value: 0.8511768305753413 and parameters: {'max_depth': 20.0, 'min_samples_leaf': 2.0, 'min_samples_split': 6.0, 'n_estimators': 200.0}. Best is trial 11 with value: 0.8511768305753413.\u001b[0m\n",
            "\u001b[32m[I 2022-04-30 08:37:49,951]\u001b[0m Trial 12 finished with value: 0.8506650761781804 and parameters: {'max_depth': 20.0, 'min_samples_leaf': 2.0, 'min_samples_split': 8.0, 'n_estimators': 140.0}. Best is trial 11 with value: 0.8511768305753413.\u001b[0m\n",
            "\u001b[32m[I 2022-04-30 08:37:56,788]\u001b[0m Trial 13 finished with value: 0.8442699870568273 and parameters: {'max_depth': 24.0, 'min_samples_leaf': 10.0, 'min_samples_split': 8.0, 'n_estimators': 100.0}. Best is trial 11 with value: 0.8511768305753413.\u001b[0m\n",
            "\u001b[32m[I 2022-04-30 08:38:09,243]\u001b[0m Trial 14 finished with value: 0.8467640840864427 and parameters: {'max_depth': 24.0, 'min_samples_leaf': 6.0, 'min_samples_split': 8.0, 'n_estimators': 170.0}. Best is trial 11 with value: 0.8511768305753413.\u001b[0m\n",
            "\u001b[32m[I 2022-04-30 08:38:26,800]\u001b[0m Trial 15 finished with value: 0.8493862219844125 and parameters: {'max_depth': 16.0, 'min_samples_leaf': 2.0, 'min_samples_split': 6.0, 'n_estimators': 220.0}. Best is trial 11 with value: 0.8511768305753413.\u001b[0m\n",
            "\u001b[32m[I 2022-04-30 08:38:53,199]\u001b[0m Trial 16 finished with value: 0.8439504166850751 and parameters: {'max_depth': 30.0, 'min_samples_leaf': 12.0, 'min_samples_split': 12.0, 'n_estimators': 390.0}. Best is trial 11 with value: 0.8511768305753413.\u001b[0m\n",
            "\u001b[32m[I 2022-04-30 08:39:03,682]\u001b[0m Trial 17 finished with value: 0.8454850253545464 and parameters: {'max_depth': 20.0, 'min_samples_leaf': 6.0, 'min_samples_split': 8.0, 'n_estimators': 140.0}. Best is trial 11 with value: 0.8511768305753413.\u001b[0m\n",
            "\u001b[32m[I 2022-04-30 08:39:22,110]\u001b[0m Trial 18 finished with value: 0.8456128616847725 and parameters: {'max_depth': 26.0, 'min_samples_leaf': 8.0, 'min_samples_split': 6.0, 'n_estimators': 260.0}. Best is trial 11 with value: 0.8511768305753413.\u001b[0m\n",
            "\u001b[32m[I 2022-04-30 08:39:38,433]\u001b[0m Trial 19 finished with value: 0.8466361250333397 and parameters: {'max_depth': 16.0, 'min_samples_leaf': 4.0, 'min_samples_split': 12.0, 'n_estimators': 220.0}. Best is trial 11 with value: 0.8511768305753413.\u001b[0m\n",
            "\u001b[32m[I 2022-04-30 08:39:47,708]\u001b[0m Trial 20 finished with value: 0.8440782121076754 and parameters: {'max_depth': 22.0, 'min_samples_leaf': 14.0, 'min_samples_split': 18.0, 'n_estimators': 140.0}. Best is trial 11 with value: 0.8511768305753413.\u001b[0m\n",
            "\u001b[32m[I 2022-04-30 08:40:03,590]\u001b[0m Trial 21 finished with value: 0.8491301402477038 and parameters: {'max_depth': 16.0, 'min_samples_leaf': 2.0, 'min_samples_split': 6.0, 'n_estimators': 200.0}. Best is trial 11 with value: 0.8511768305753413.\u001b[0m\n",
            "\u001b[32m[I 2022-04-30 08:40:23,371]\u001b[0m Trial 22 finished with value: 0.8484907540584455 and parameters: {'max_depth': 14.0, 'min_samples_leaf': 2.0, 'min_samples_split': 4.0, 'n_estimators': 260.0}. Best is trial 11 with value: 0.8511768305753413.\u001b[0m\n",
            "\u001b[32m[I 2022-04-30 08:40:34,314]\u001b[0m Trial 23 finished with value: 0.8477234906313356 and parameters: {'max_depth': 18.0, 'min_samples_leaf': 4.0, 'min_samples_split': 8.0, 'n_estimators': 140.0}. Best is trial 11 with value: 0.8511768305753413.\u001b[0m\n",
            "\u001b[32m[I 2022-04-30 08:40:57,028]\u001b[0m Trial 24 finished with value: 0.8457408616455011 and parameters: {'max_depth': 22.0, 'min_samples_leaf': 8.0, 'min_samples_split': 6.0, 'n_estimators': 310.0}. Best is trial 11 with value: 0.8511768305753413.\u001b[0m\n",
            "\u001b[32m[I 2022-04-30 08:41:16,013]\u001b[0m Trial 25 finished with value: 0.8488105698759518 and parameters: {'max_depth': 18.0, 'min_samples_leaf': 2.0, 'min_samples_split': 10.0, 'n_estimators': 230.0}. Best is trial 11 with value: 0.8511768305753413.\u001b[0m\n",
            "\u001b[32m[I 2022-04-30 08:41:25,185]\u001b[0m Trial 26 finished with value: 0.8477871428968816 and parameters: {'max_depth': 14.0, 'min_samples_leaf': 4.0, 'min_samples_split': 4.0, 'n_estimators': 130.0}. Best is trial 11 with value: 0.8511768305753413.\u001b[0m\n",
            "\u001b[32m[I 2022-04-30 08:41:35,876]\u001b[0m Trial 27 finished with value: 0.840944565258299 and parameters: {'max_depth': 8.0, 'min_samples_leaf': 6.0, 'min_samples_split': 2.0, 'n_estimators': 200.0}. Best is trial 11 with value: 0.8511768305753413.\u001b[0m\n",
            "\u001b[32m[I 2022-04-30 08:42:00,022]\u001b[0m Trial 28 finished with value: 0.8513687691549958 and parameters: {'max_depth': 26.0, 'min_samples_leaf': 2.0, 'min_samples_split': 8.0, 'n_estimators': 280.0}. Best is trial 28 with value: 0.8513687691549958.\u001b[0m\n",
            "\u001b[32m[I 2022-04-30 08:42:25,583]\u001b[0m Trial 29 finished with value: 0.8450373732068142 and parameters: {'max_depth': 28.0, 'min_samples_leaf': 10.0, 'min_samples_split': 14.0, 'n_estimators': 370.0}. Best is trial 28 with value: 0.8513687691549958.\u001b[0m\n",
            "\u001b[32m[I 2022-04-30 08:42:43,359]\u001b[0m Trial 30 finished with value: 0.8409450152421813 and parameters: {'max_depth': 26.0, 'min_samples_leaf': 20.0, 'min_samples_split': 12.0, 'n_estimators': 280.0}. Best is trial 28 with value: 0.8513687691549958.\u001b[0m\n",
            "\u001b[32m[I 2022-04-30 08:43:13,599]\u001b[0m Trial 31 finished with value: 0.8506652807163089 and parameters: {'max_depth': 22.0, 'min_samples_leaf': 2.0, 'min_samples_split': 8.0, 'n_estimators': 350.0}. Best is trial 28 with value: 0.8513687691549958.\u001b[0m\n",
            "\u001b[32m[I 2022-04-30 08:43:44,068]\u001b[0m Trial 32 finished with value: 0.8485549381231255 and parameters: {'max_depth': 22.0, 'min_samples_leaf': 4.0, 'min_samples_split': 8.0, 'n_estimators': 390.0}. Best is trial 28 with value: 0.8513687691549958.\u001b[0m\n",
            "\u001b[32m[I 2022-04-30 08:44:09,724]\u001b[0m Trial 33 finished with value: 0.8488108562293315 and parameters: {'max_depth': 24.0, 'min_samples_leaf': 4.0, 'min_samples_split': 10.0, 'n_estimators': 330.0}. Best is trial 28 with value: 0.8513687691549958.\u001b[0m\n",
            "\u001b[32m[I 2022-04-30 08:44:47,989]\u001b[0m Trial 34 finished with value: 0.8505375262013344 and parameters: {'max_depth': 28.0, 'min_samples_leaf': 2.0, 'min_samples_split': 8.0, 'n_estimators': 440.0}. Best is trial 28 with value: 0.8513687691549958.\u001b[0m\n",
            "\u001b[32m[I 2022-04-30 08:45:14,275]\u001b[0m Trial 35 finished with value: 0.8464445137146906 and parameters: {'max_depth': 20.0, 'min_samples_leaf': 6.0, 'min_samples_split': 10.0, 'n_estimators': 360.0}. Best is trial 28 with value: 0.8513687691549958.\u001b[0m\n",
            "\u001b[32m[I 2022-04-30 08:45:46,910]\u001b[0m Trial 36 finished with value: 0.848299060924545 and parameters: {'max_depth': 22.0, 'min_samples_leaf': 4.0, 'min_samples_split': 2.0, 'n_estimators': 420.0}. Best is trial 28 with value: 0.8513687691549958.\u001b[0m\n",
            "\u001b[32m[I 2022-04-30 08:46:35,576]\u001b[0m Trial 37 finished with value: 0.8510491169679921 and parameters: {'max_depth': 26.0, 'min_samples_leaf': 2.0, 'min_samples_split': 6.0, 'n_estimators': 550.0}. Best is trial 28 with value: 0.8513687691549958.\u001b[0m\n",
            "\u001b[32m[I 2022-04-30 08:47:16,611]\u001b[0m Trial 38 finished with value: 0.8461887592389872 and parameters: {'max_depth': 28.0, 'min_samples_leaf': 6.0, 'min_samples_split': 4.0, 'n_estimators': 550.0}. Best is trial 28 with value: 0.8513687691549958.\u001b[0m\n",
            "\u001b[32m[I 2022-04-30 08:47:56,620]\u001b[0m Trial 39 finished with value: 0.8491306311392119 and parameters: {'max_depth': 26.0, 'min_samples_leaf': 4.0, 'min_samples_split': 6.0, 'n_estimators': 510.0}. Best is trial 28 with value: 0.8513687691549958.\u001b[0m\n",
            "\u001b[32m[I 2022-04-30 08:48:29,302]\u001b[0m Trial 40 finished with value: 0.8416481764198627 and parameters: {'max_depth': 24.0, 'min_samples_leaf': 18.0, 'min_samples_split': 4.0, 'n_estimators': 510.0}. Best is trial 28 with value: 0.8513687691549958.\u001b[0m\n",
            "\u001b[32m[I 2022-04-30 08:48:44,507]\u001b[0m Trial 41 finished with value: 0.8502175058456997 and parameters: {'max_depth': 20.0, 'min_samples_leaf': 2.0, 'min_samples_split': 8.0, 'n_estimators': 180.0}. Best is trial 28 with value: 0.8513687691549958.\u001b[0m\n",
            "\u001b[32m[I 2022-04-30 08:49:13,525]\u001b[0m Trial 42 finished with value: 0.8499618740928734 and parameters: {'max_depth': 18.0, 'min_samples_leaf': 2.0, 'min_samples_split': 6.0, 'n_estimators': 350.0}. Best is trial 28 with value: 0.8513687691549958.\u001b[0m\n",
            "\u001b[32m[I 2022-04-30 08:49:37,673]\u001b[0m Trial 43 finished with value: 0.8506016693583884 and parameters: {'max_depth': 26.0, 'min_samples_leaf': 2.0, 'min_samples_split': 10.0, 'n_estimators': 280.0}. Best is trial 28 with value: 0.8513687691549958.\u001b[0m\n",
            "\u001b[32m[I 2022-04-30 08:50:14,261]\u001b[0m Trial 44 finished with value: 0.8482992654626734 and parameters: {'max_depth': 22.0, 'min_samples_leaf': 4.0, 'min_samples_split': 6.0, 'n_estimators': 470.0}. Best is trial 28 with value: 0.8513687691549958.\u001b[0m\n",
            "\u001b[32m[I 2022-04-30 08:50:24,726]\u001b[0m Trial 45 finished with value: 0.8501536081343997 and parameters: {'max_depth': 24.0, 'min_samples_leaf': 2.0, 'min_samples_split': 8.0, 'n_estimators': 120.0}. Best is trial 28 with value: 0.8513687691549958.\u001b[0m\n",
            "\u001b[32m[I 2022-04-30 08:50:37,138]\u001b[0m Trial 46 finished with value: 0.8474033884604497 and parameters: {'max_depth': 20.0, 'min_samples_leaf': 4.0, 'min_samples_split': 4.0, 'n_estimators': 160.0}. Best is trial 28 with value: 0.8513687691549958.\u001b[0m\n",
            "\u001b[32m[I 2022-04-30 08:50:46,313]\u001b[0m Trial 47 finished with value: 0.8075596883166185 and parameters: {'max_depth': 4.0, 'min_samples_leaf': 2.0, 'min_samples_split': 6.0, 'n_estimators': 240.0}. Best is trial 28 with value: 0.8513687691549958.\u001b[0m\n",
            "\u001b[32m[I 2022-04-30 08:50:59,562]\u001b[0m Trial 48 finished with value: 0.8436303963294405 and parameters: {'max_depth': 28.0, 'min_samples_leaf': 14.0, 'min_samples_split': 8.0, 'n_estimators': 200.0}. Best is trial 28 with value: 0.8513687691549958.\u001b[0m\n",
            "\u001b[32m[I 2022-04-30 08:51:21,557]\u001b[0m Trial 49 finished with value: 0.8469558590355947 and parameters: {'max_depth': 24.0, 'min_samples_leaf': 6.0, 'min_samples_split': 10.0, 'n_estimators': 300.0}. Best is trial 28 with value: 0.8513687691549958.\u001b[0m\n"
          ]
        },
        {
          "output_type": "stream",
          "name": "stdout",
          "text": [
            "Best Score: 0.8513687691549958\n",
            "Best trial: {'max_depth': 26.0, 'min_samples_leaf': 2.0, 'min_samples_split': 8.0, 'n_estimators': 280.0}\n"
          ]
        }
      ]
    },
    {
      "cell_type": "markdown",
      "source": [
        "#### 튜닝 후 적합한 하이퍼파라미터를 찾아 모델 돌리기"
      ],
      "metadata": {
        "id": "3Uw36gxQUlY5"
      }
    },
    {
      "cell_type": "code",
      "source": [
        "knn = KNeighborsClassifier(n_neighbors=26, weights='uniform')\n",
        "svc = SVC(kernel='rbf',C=10)\n",
        "dt = DecisionTreeClassifier(max_depth=10, min_samples_leaf=20, min_samples_split=16, random_state=42)\n",
        "rf = RandomForestClassifier(max_depth=int(rf_study.best_params['max_depth']),min_samples_leaf=int(rf_study.best_params['min_samples_leaf']),\n",
        "                           min_samples_split=int(rf_study.best_params['min_samples_split']),\n",
        "                           n_estimators=int(rf_study.best_params['n_estimators']), random_state=42)\n",
        "ada = AdaBoostClassifier(learning_rate=ada_study.best_params['learning_rate'], n_estimators=int(ada_study.best_params['n_estimators']), random_state=42)\n",
        "xgb = XGBClassifier(max_depth=int(xgb_study.best_params['max_depth']), colsample_bytree=xgb_study.best_params['colsample_bytree'],\n",
        "                   learning_rate=xgb_study.best_params['learning_rate'], n_estimators=int(xgb_study.best_params['n_estimators']), \n",
        "                    subsample=xgb_study.best_params['subsample'], random_state=42)\n",
        "lgb = LGBMClassifier(max_depth=int(lgb_study.best_params['max_depth']), colsample_bytree=lgb_study.best_params['colsample_bytree'],\n",
        "                    learning_rate=lgb_study.best_params['learning_rate'], n_estimators=int(lgb_study.best_params['n_estimators']),\n",
        "                    subsample=lgb_study.best_params['subsample'], random_state=42)\n",
        "etc = ExtraTreesClassifier(max_depth=int(etc_study.best_params['max_depth']), min_samples_leaf=int(etc_study.best_params['min_samples_leaf']),\n",
        "                          min_samples_split=int(etc_study.best_params['min_samples_split']), n_estimators=int(etc_study.best_params['n_estimators']), random_state=42)\n",
        "cat = CatBoostClassifier(silent=True)\n",
        "\n",
        "tuned_model_list = [knn,svc, dt, rf, ada, xgb,lgb,etc,cat]"
      ],
      "metadata": {
        "id": "s6mcRGEVU2IK"
      },
      "execution_count": null,
      "outputs": []
    },
    {
      "cell_type": "code",
      "source": [
        "for model in tuned_model_list:\n",
        "  return_score(model)"
      ],
      "metadata": {
        "id": "xdBgBvCgWFwq",
        "colab": {
          "base_uri": "https://localhost:8080/"
        },
        "outputId": "fe8333aa-1da8-4cde-ba5b-ef1a0b8a14a5"
      },
      "execution_count": null,
      "outputs": [
        {
          "output_type": "stream",
          "name": "stdout",
          "text": [
            "KNeighborsClassifier(n_neighbors=26)\n",
            "average_accuracy:  0.8378093230115213\n",
            "SVC(C=10)\n",
            "average_accuracy:  0.8468272454604808\n",
            "DecisionTreeClassifier(max_depth=10, min_samples_leaf=20, min_samples_split=16,\n",
            "                       random_state=42)\n",
            "average_accuracy:  0.8488736903423642\n",
            "RandomForestClassifier(max_depth=18, min_samples_leaf=2, min_samples_split=14,\n",
            "                       n_estimators=170, random_state=42)\n",
            "average_accuracy:  0.8612166255135951\n",
            "AdaBoostClassifier(learning_rate=0.7, n_estimators=540, random_state=42)\n",
            "average_accuracy:  0.863201340788339\n",
            "XGBClassifier(colsample_bytree=0.9540872774964744,\n",
            "              learning_rate=0.01081053261365495, max_depth=10, n_estimators=350,\n",
            "              random_state=42, subsample=0.783876773469082)\n",
            "average_accuracy:  0.8661418218292909\n",
            "LGBMClassifier(colsample_bytree=0.8159300849840903,\n",
            "               learning_rate=0.017176619845728085, max_depth=10,\n",
            "               n_estimators=450, random_state=42, subsample=0.9057955079535207)\n",
            "average_accuracy:  0.8669101488546683\n",
            "ExtraTreesClassifier(max_depth=26, min_samples_leaf=2, min_samples_split=8,\n",
            "                     n_estimators=280, random_state=42)\n",
            "average_accuracy:  0.850408748995718\n",
            "<catboost.core.CatBoostClassifier object at 0x7fd65d2daa90>\n",
            "average_accuracy:  0.8672301692103028\n"
          ]
        }
      ]
    },
    {
      "cell_type": "markdown",
      "source": [
        "### 여러 모델들을 종합해서 사용"
      ],
      "metadata": {
        "id": "cTHRoBNnWN24"
      }
    },
    {
      "cell_type": "code",
      "source": [
        "knn = KNeighborsClassifier(n_neighbors=26, weights='uniform')\n",
        "svc = SVC(kernel='rbf',C=10)\n",
        "dt = DecisionTreeClassifier(max_depth=10, min_samples_leaf=20, min_samples_split=16, random_state=42)\n",
        "rf = RandomForestClassifier(max_depth=int(rf_study.best_params['max_depth']),min_samples_leaf=int(rf_study.best_params['min_samples_leaf']),\n",
        "                           min_samples_split=int(rf_study.best_params['min_samples_split']),\n",
        "                           n_estimators=int(rf_study.best_params['n_estimators']), random_state=42)\n",
        "ada = AdaBoostClassifier(learning_rate=ada_study.best_params['learning_rate'], n_estimators=int(ada_study.best_params['n_estimators']), random_state=42)\n",
        "xgb = XGBClassifier(max_depth=int(xgb_study.best_params['max_depth']), colsample_bytree=xgb_study.best_params['colsample_bytree'],\n",
        "                   learning_rate=xgb_study.best_params['learning_rate'], n_estimators=int(xgb_study.best_params['n_estimators']), \n",
        "                    subsample=xgb_study.best_params['subsample'], random_state=42)\n",
        "lgb = LGBMClassifier(max_depth=int(lgb_study.best_params['max_depth']), colsample_bytree=lgb_study.best_params['colsample_bytree'],\n",
        "                    learning_rate=lgb_study.best_params['learning_rate'], n_estimators=int(lgb_study.best_params['n_estimators']),\n",
        "                    subsample=lgb_study.best_params['subsample'], random_state=42)\n",
        "etc = ExtraTreesClassifier(max_depth=int(etc_study.best_params['max_depth']), min_samples_leaf=int(etc_study.best_params['min_samples_leaf']),\n",
        "                          min_samples_split=int(etc_study.best_params['min_samples_split']), n_estimators=int(etc_study.best_params['n_estimators']), random_state=42)\n",
        "cat = CatBoostClassifier(silent=True)\n",
        "\n",
        "final_model_list = [knn,svc, dt, rf, ada, xgb,lgb,etc,cat]"
      ],
      "metadata": {
        "id": "N5_Y3pWpWMOF"
      },
      "execution_count": null,
      "outputs": []
    },
    {
      "cell_type": "code",
      "source": [
        "cat._estimator_type = 'classifier'"
      ],
      "metadata": {
        "id": "0uVGWFTHWX7H"
      },
      "execution_count": null,
      "outputs": []
    },
    {
      "cell_type": "code",
      "source": [
        "soft_voting = VotingClassifier(estimators=[('dt',dt),('rf',rf),('ada',ada),('xgb',xgb),('lgb',lgb),('etc',etc),('cat',cat)],voting='soft')\n",
        "hard_voting = VotingClassifier(estimators=[('knn',knn),('svc',svc),('dt',dt),('rf',rf), ('ada',ada),('xgb',xgb),('lgb',lgb),('etc',etc),('cat',cat)],voting='hard')\n",
        "stacking = StackingClassifier(estimators = [('svc',svc), ('rf',rf), ('xgb',xgb),('ada',ada),('etc',etc),('cat',cat)], final_estimator=lgb)"
      ],
      "metadata": {
        "id": "dXXAxEuhWcwv"
      },
      "execution_count": null,
      "outputs": []
    },
    {
      "cell_type": "markdown",
      "source": [
        "## 제출할 파일 생성"
      ],
      "metadata": {
        "id": "FpVZmcsBWh_p"
      }
    },
    {
      "cell_type": "code",
      "source": [
        "submission = pd.read_csv('sample_submission.csv')"
      ],
      "metadata": {
        "id": "io11WkGqWlO7"
      },
      "execution_count": null,
      "outputs": []
    },
    {
      "cell_type": "code",
      "source": [
        "X_train = np.array(X_train)\n",
        "y_train = np.array(y_train)\n",
        "X_test = np.array(X_test)"
      ],
      "metadata": {
        "id": "rwhPfWREXW-t"
      },
      "execution_count": null,
      "outputs": []
    },
    {
      "cell_type": "code",
      "source": [
        "stacking.fit(X_train, y_train)\n",
        "hard_voting.fit(X_train, y_train)\n",
        "soft_voting.fit(X_train, y_train)"
      ],
      "metadata": {
        "id": "Xr-ir77fXX1f",
        "colab": {
          "base_uri": "https://localhost:8080/"
        },
        "outputId": "43a021f5-ec2c-45bc-933a-fe46d2abd7fb"
      },
      "execution_count": null,
      "outputs": [
        {
          "output_type": "execute_result",
          "data": {
            "text/plain": [
              "VotingClassifier(estimators=[('dt',\n",
              "                              DecisionTreeClassifier(max_depth=10,\n",
              "                                                     min_samples_leaf=20,\n",
              "                                                     min_samples_split=16,\n",
              "                                                     random_state=42)),\n",
              "                             ('rf',\n",
              "                              RandomForestClassifier(max_depth=18,\n",
              "                                                     min_samples_leaf=2,\n",
              "                                                     min_samples_split=14,\n",
              "                                                     n_estimators=170,\n",
              "                                                     random_state=42)),\n",
              "                             ('ada',\n",
              "                              AdaBoostClassifier(learning_rate=0.7,\n",
              "                                                 n_estimators=540,\n",
              "                                                 random_state=42)),\n",
              "                             ('xgb',\n",
              "                              XGBClassifier(col...\n",
              "                              LGBMClassifier(colsample_bytree=0.8159300849840903,\n",
              "                                             learning_rate=0.017176619845728085,\n",
              "                                             max_depth=10, n_estimators=450,\n",
              "                                             random_state=42,\n",
              "                                             subsample=0.9057955079535207)),\n",
              "                             ('etc',\n",
              "                              ExtraTreesClassifier(max_depth=26,\n",
              "                                                   min_samples_leaf=2,\n",
              "                                                   min_samples_split=8,\n",
              "                                                   n_estimators=280,\n",
              "                                                   random_state=42)),\n",
              "                             ('cat',\n",
              "                              <catboost.core.CatBoostClassifier object at 0x7fd67adbf6d0>)],\n",
              "                 voting='soft')"
            ]
          },
          "metadata": {},
          "execution_count": 101
        }
      ]
    },
    {
      "cell_type": "code",
      "source": [
        "prediction1 = stacking.predict(X_test)\n",
        "prediction2 = hard_voting.predict(X_test)\n",
        "prediction3 = soft_voting.predict(X_test)"
      ],
      "metadata": {
        "id": "WRd5fJNIXaoh"
      },
      "execution_count": null,
      "outputs": []
    },
    {
      "cell_type": "code",
      "source": [
        "submission['target'] = prediction1\n",
        "submission.to_csv('stacking_2.csv', index=False)\n",
        "submission['target'].value_counts()"
      ],
      "metadata": {
        "id": "WN7YqZ2-XblS",
        "colab": {
          "base_uri": "https://localhost:8080/"
        },
        "outputId": "102daea5-ba6c-48d0-cb0d-83edc36a0756"
      },
      "execution_count": null,
      "outputs": [
        {
          "output_type": "execute_result",
          "data": {
            "text/plain": [
              "0    11945\n",
              "1     3136\n",
              "Name: target, dtype: int64"
            ]
          },
          "metadata": {},
          "execution_count": 103
        }
      ]
    },
    {
      "cell_type": "code",
      "source": [
        "submission['target'] = prediction2\n",
        "submission.to_csv('hard_voting_2.csv', index=False)\n",
        "submission['target'].value_counts()"
      ],
      "metadata": {
        "id": "tPYm1q0u_SpX",
        "colab": {
          "base_uri": "https://localhost:8080/"
        },
        "outputId": "ebc0be6b-6d5a-4216-b31f-c0d79904564d"
      },
      "execution_count": null,
      "outputs": [
        {
          "output_type": "execute_result",
          "data": {
            "text/plain": [
              "0    12074\n",
              "1     3007\n",
              "Name: target, dtype: int64"
            ]
          },
          "metadata": {},
          "execution_count": 104
        }
      ]
    },
    {
      "cell_type": "code",
      "source": [
        "submission['target'] = prediction3\n",
        "submission.to_csv('soft_voting_2.csv', index=False)\n",
        "submission['target'].value_counts()"
      ],
      "metadata": {
        "id": "FOtHBJEP_ZNN",
        "colab": {
          "base_uri": "https://localhost:8080/"
        },
        "outputId": "0a5aaae1-cf37-4998-ca02-8fa6cfce6f2d"
      },
      "execution_count": null,
      "outputs": [
        {
          "output_type": "execute_result",
          "data": {
            "text/plain": [
              "0    12044\n",
              "1     3037\n",
              "Name: target, dtype: int64"
            ]
          },
          "metadata": {},
          "execution_count": 105
        }
      ]
    }
  ]
}