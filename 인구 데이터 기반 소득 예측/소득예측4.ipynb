{
  "nbformat": 4,
  "nbformat_minor": 0,
  "metadata": {
    "colab": {
      "name": "소득예측3.iypnb",
      "provenance": [],
      "collapsed_sections": [
        "ONxiUYzNeNWN",
        "6gbyz5dQgC9A",
        "VxLixTOdgGs3",
        "RnK4bkuh-NgY",
        "b1WIcx9L3XJh"
      ]
    },
    "kernelspec": {
      "name": "python3",
      "display_name": "Python 3"
    },
    "language_info": {
      "name": "python"
    },
    "accelerator": "GPU"
  },
  "cells": [
    {
      "cell_type": "markdown",
      "source": [
        "## EDA 및 전처리"
      ],
      "metadata": {
        "id": "ONxiUYzNeNWN"
      }
    },
    {
      "cell_type": "markdown",
      "source": [
        "### 데이터 불러오기 및 간단하게 데이터 살펴보기"
      ],
      "metadata": {
        "id": "6gbyz5dQgC9A"
      }
    },
    {
      "cell_type": "code",
      "execution_count": null,
      "metadata": {
        "id": "Ge6-QgI8d9uM"
      },
      "outputs": [],
      "source": [
        "import numpy as np\n",
        "import pandas as pd\n",
        "import matplotlib.pyplot as plt\n",
        "import seaborn as sns"
      ]
    },
    {
      "cell_type": "code",
      "source": [
        "train = pd.read_csv('train.csv', index_col=0)\n",
        "test = pd.read_csv('test.csv', index_col=0)\n",
        "\n",
        "print('train df')\n",
        "display(train.head())\n",
        "print('test df')\n",
        "display(test.head())"
      ],
      "metadata": {
        "colab": {
          "base_uri": "https://localhost:8080/"
        },
        "id": "88YbtI-CeMtz",
        "outputId": "0fc93c59-ffd9-4fc2-98f6-7634f4701d68"
      },
      "execution_count": null,
      "outputs": [
        {
          "output_type": "stream",
          "name": "stdout",
          "text": [
            "train df\n"
          ]
        },
        {
          "output_type": "display_data",
          "data": {
            "text/plain": [
              "    age workclass  fnlwgt     education  education.num      marital.status  \\\n",
              "id                                                                           \n",
              "0    32   Private  309513    Assoc-acdm             12  Married-civ-spouse   \n",
              "1    33   Private  205469  Some-college             10  Married-civ-spouse   \n",
              "2    46   Private  149949  Some-college             10  Married-civ-spouse   \n",
              "3    23   Private  193090     Bachelors             13       Never-married   \n",
              "4    55   Private   60193       HS-grad              9            Divorced   \n",
              "\n",
              "         occupation   relationship   race     sex  capital.gain  capital.loss  \\\n",
              "id                                                                              \n",
              "0      Craft-repair        Husband  White    Male             0             0   \n",
              "1   Exec-managerial        Husband  White    Male             0             0   \n",
              "2      Craft-repair        Husband  White    Male             0             0   \n",
              "3      Adm-clerical      Own-child  White  Female             0             0   \n",
              "4      Adm-clerical  Not-in-family  White  Female             0             0   \n",
              "\n",
              "    hours.per.week native.country  target  \n",
              "id                                         \n",
              "0               40  United-States       0  \n",
              "1               40  United-States       1  \n",
              "2               40  United-States       0  \n",
              "3               30  United-States       0  \n",
              "4               40  United-States       0  "
            ],
            "text/html": [
              "\n",
              "  <div id=\"df-82820c78-d8b0-4244-9122-3ebd206ce48e\">\n",
              "    <div class=\"colab-df-container\">\n",
              "      <div>\n",
              "<style scoped>\n",
              "    .dataframe tbody tr th:only-of-type {\n",
              "        vertical-align: middle;\n",
              "    }\n",
              "\n",
              "    .dataframe tbody tr th {\n",
              "        vertical-align: top;\n",
              "    }\n",
              "\n",
              "    .dataframe thead th {\n",
              "        text-align: right;\n",
              "    }\n",
              "</style>\n",
              "<table border=\"1\" class=\"dataframe\">\n",
              "  <thead>\n",
              "    <tr style=\"text-align: right;\">\n",
              "      <th></th>\n",
              "      <th>age</th>\n",
              "      <th>workclass</th>\n",
              "      <th>fnlwgt</th>\n",
              "      <th>education</th>\n",
              "      <th>education.num</th>\n",
              "      <th>marital.status</th>\n",
              "      <th>occupation</th>\n",
              "      <th>relationship</th>\n",
              "      <th>race</th>\n",
              "      <th>sex</th>\n",
              "      <th>capital.gain</th>\n",
              "      <th>capital.loss</th>\n",
              "      <th>hours.per.week</th>\n",
              "      <th>native.country</th>\n",
              "      <th>target</th>\n",
              "    </tr>\n",
              "    <tr>\n",
              "      <th>id</th>\n",
              "      <th></th>\n",
              "      <th></th>\n",
              "      <th></th>\n",
              "      <th></th>\n",
              "      <th></th>\n",
              "      <th></th>\n",
              "      <th></th>\n",
              "      <th></th>\n",
              "      <th></th>\n",
              "      <th></th>\n",
              "      <th></th>\n",
              "      <th></th>\n",
              "      <th></th>\n",
              "      <th></th>\n",
              "      <th></th>\n",
              "    </tr>\n",
              "  </thead>\n",
              "  <tbody>\n",
              "    <tr>\n",
              "      <th>0</th>\n",
              "      <td>32</td>\n",
              "      <td>Private</td>\n",
              "      <td>309513</td>\n",
              "      <td>Assoc-acdm</td>\n",
              "      <td>12</td>\n",
              "      <td>Married-civ-spouse</td>\n",
              "      <td>Craft-repair</td>\n",
              "      <td>Husband</td>\n",
              "      <td>White</td>\n",
              "      <td>Male</td>\n",
              "      <td>0</td>\n",
              "      <td>0</td>\n",
              "      <td>40</td>\n",
              "      <td>United-States</td>\n",
              "      <td>0</td>\n",
              "    </tr>\n",
              "    <tr>\n",
              "      <th>1</th>\n",
              "      <td>33</td>\n",
              "      <td>Private</td>\n",
              "      <td>205469</td>\n",
              "      <td>Some-college</td>\n",
              "      <td>10</td>\n",
              "      <td>Married-civ-spouse</td>\n",
              "      <td>Exec-managerial</td>\n",
              "      <td>Husband</td>\n",
              "      <td>White</td>\n",
              "      <td>Male</td>\n",
              "      <td>0</td>\n",
              "      <td>0</td>\n",
              "      <td>40</td>\n",
              "      <td>United-States</td>\n",
              "      <td>1</td>\n",
              "    </tr>\n",
              "    <tr>\n",
              "      <th>2</th>\n",
              "      <td>46</td>\n",
              "      <td>Private</td>\n",
              "      <td>149949</td>\n",
              "      <td>Some-college</td>\n",
              "      <td>10</td>\n",
              "      <td>Married-civ-spouse</td>\n",
              "      <td>Craft-repair</td>\n",
              "      <td>Husband</td>\n",
              "      <td>White</td>\n",
              "      <td>Male</td>\n",
              "      <td>0</td>\n",
              "      <td>0</td>\n",
              "      <td>40</td>\n",
              "      <td>United-States</td>\n",
              "      <td>0</td>\n",
              "    </tr>\n",
              "    <tr>\n",
              "      <th>3</th>\n",
              "      <td>23</td>\n",
              "      <td>Private</td>\n",
              "      <td>193090</td>\n",
              "      <td>Bachelors</td>\n",
              "      <td>13</td>\n",
              "      <td>Never-married</td>\n",
              "      <td>Adm-clerical</td>\n",
              "      <td>Own-child</td>\n",
              "      <td>White</td>\n",
              "      <td>Female</td>\n",
              "      <td>0</td>\n",
              "      <td>0</td>\n",
              "      <td>30</td>\n",
              "      <td>United-States</td>\n",
              "      <td>0</td>\n",
              "    </tr>\n",
              "    <tr>\n",
              "      <th>4</th>\n",
              "      <td>55</td>\n",
              "      <td>Private</td>\n",
              "      <td>60193</td>\n",
              "      <td>HS-grad</td>\n",
              "      <td>9</td>\n",
              "      <td>Divorced</td>\n",
              "      <td>Adm-clerical</td>\n",
              "      <td>Not-in-family</td>\n",
              "      <td>White</td>\n",
              "      <td>Female</td>\n",
              "      <td>0</td>\n",
              "      <td>0</td>\n",
              "      <td>40</td>\n",
              "      <td>United-States</td>\n",
              "      <td>0</td>\n",
              "    </tr>\n",
              "  </tbody>\n",
              "</table>\n",
              "</div>\n",
              "      <button class=\"colab-df-convert\" onclick=\"convertToInteractive('df-82820c78-d8b0-4244-9122-3ebd206ce48e')\"\n",
              "              title=\"Convert this dataframe to an interactive table.\"\n",
              "              style=\"display:none;\">\n",
              "        \n",
              "  <svg xmlns=\"http://www.w3.org/2000/svg\" height=\"24px\"viewBox=\"0 0 24 24\"\n",
              "       width=\"24px\">\n",
              "    <path d=\"M0 0h24v24H0V0z\" fill=\"none\"/>\n",
              "    <path d=\"M18.56 5.44l.94 2.06.94-2.06 2.06-.94-2.06-.94-.94-2.06-.94 2.06-2.06.94zm-11 1L8.5 8.5l.94-2.06 2.06-.94-2.06-.94L8.5 2.5l-.94 2.06-2.06.94zm10 10l.94 2.06.94-2.06 2.06-.94-2.06-.94-.94-2.06-.94 2.06-2.06.94z\"/><path d=\"M17.41 7.96l-1.37-1.37c-.4-.4-.92-.59-1.43-.59-.52 0-1.04.2-1.43.59L10.3 9.45l-7.72 7.72c-.78.78-.78 2.05 0 2.83L4 21.41c.39.39.9.59 1.41.59.51 0 1.02-.2 1.41-.59l7.78-7.78 2.81-2.81c.8-.78.8-2.07 0-2.86zM5.41 20L4 18.59l7.72-7.72 1.47 1.35L5.41 20z\"/>\n",
              "  </svg>\n",
              "      </button>\n",
              "      \n",
              "  <style>\n",
              "    .colab-df-container {\n",
              "      display:flex;\n",
              "      flex-wrap:wrap;\n",
              "      gap: 12px;\n",
              "    }\n",
              "\n",
              "    .colab-df-convert {\n",
              "      background-color: #E8F0FE;\n",
              "      border: none;\n",
              "      border-radius: 50%;\n",
              "      cursor: pointer;\n",
              "      display: none;\n",
              "      fill: #1967D2;\n",
              "      height: 32px;\n",
              "      padding: 0 0 0 0;\n",
              "      width: 32px;\n",
              "    }\n",
              "\n",
              "    .colab-df-convert:hover {\n",
              "      background-color: #E2EBFA;\n",
              "      box-shadow: 0px 1px 2px rgba(60, 64, 67, 0.3), 0px 1px 3px 1px rgba(60, 64, 67, 0.15);\n",
              "      fill: #174EA6;\n",
              "    }\n",
              "\n",
              "    [theme=dark] .colab-df-convert {\n",
              "      background-color: #3B4455;\n",
              "      fill: #D2E3FC;\n",
              "    }\n",
              "\n",
              "    [theme=dark] .colab-df-convert:hover {\n",
              "      background-color: #434B5C;\n",
              "      box-shadow: 0px 1px 3px 1px rgba(0, 0, 0, 0.15);\n",
              "      filter: drop-shadow(0px 1px 2px rgba(0, 0, 0, 0.3));\n",
              "      fill: #FFFFFF;\n",
              "    }\n",
              "  </style>\n",
              "\n",
              "      <script>\n",
              "        const buttonEl =\n",
              "          document.querySelector('#df-82820c78-d8b0-4244-9122-3ebd206ce48e button.colab-df-convert');\n",
              "        buttonEl.style.display =\n",
              "          google.colab.kernel.accessAllowed ? 'block' : 'none';\n",
              "\n",
              "        async function convertToInteractive(key) {\n",
              "          const element = document.querySelector('#df-82820c78-d8b0-4244-9122-3ebd206ce48e');\n",
              "          const dataTable =\n",
              "            await google.colab.kernel.invokeFunction('convertToInteractive',\n",
              "                                                     [key], {});\n",
              "          if (!dataTable) return;\n",
              "\n",
              "          const docLinkHtml = 'Like what you see? Visit the ' +\n",
              "            '<a target=\"_blank\" href=https://colab.research.google.com/notebooks/data_table.ipynb>data table notebook</a>'\n",
              "            + ' to learn more about interactive tables.';\n",
              "          element.innerHTML = '';\n",
              "          dataTable['output_type'] = 'display_data';\n",
              "          await google.colab.output.renderOutput(dataTable, element);\n",
              "          const docLink = document.createElement('div');\n",
              "          docLink.innerHTML = docLinkHtml;\n",
              "          element.appendChild(docLink);\n",
              "        }\n",
              "      </script>\n",
              "    </div>\n",
              "  </div>\n",
              "  "
            ]
          },
          "metadata": {}
        },
        {
          "output_type": "stream",
          "name": "stdout",
          "text": [
            "test df\n"
          ]
        },
        {
          "output_type": "display_data",
          "data": {
            "text/plain": [
              "    age     workclass  fnlwgt     education  education.num  \\\n",
              "id                                                           \n",
              "0    47       Private  304133  Some-college             10   \n",
              "1    34  Self-emp-inc  154227  Some-college             10   \n",
              "2    31     Local-gov  158291     Bachelors             13   \n",
              "3    28       Private  183155     Bachelors             13   \n",
              "4    54     Local-gov  182543  Some-college             10   \n",
              "\n",
              "        marital.status       occupation   relationship   race     sex  \\\n",
              "id                                                                      \n",
              "0   Married-civ-spouse  Exec-managerial        Husband  White    Male   \n",
              "1        Never-married            Sales  Not-in-family  White    Male   \n",
              "2        Never-married     Craft-repair  Not-in-family  White    Male   \n",
              "3   Married-civ-spouse   Prof-specialty        Husband  White    Male   \n",
              "4              Widowed     Adm-clerical      Unmarried  White  Female   \n",
              "\n",
              "    capital.gain  capital.loss  hours.per.week native.country  \n",
              "id                                                             \n",
              "0              0             0              45  United-States  \n",
              "1              0             0              75  United-States  \n",
              "2           8614             0              40  United-States  \n",
              "3              0             0              55  United-States  \n",
              "4              0             0              40         Mexico  "
            ],
            "text/html": [
              "\n",
              "  <div id=\"df-3a1247f2-03db-47a6-80b5-fb7eb1be318e\">\n",
              "    <div class=\"colab-df-container\">\n",
              "      <div>\n",
              "<style scoped>\n",
              "    .dataframe tbody tr th:only-of-type {\n",
              "        vertical-align: middle;\n",
              "    }\n",
              "\n",
              "    .dataframe tbody tr th {\n",
              "        vertical-align: top;\n",
              "    }\n",
              "\n",
              "    .dataframe thead th {\n",
              "        text-align: right;\n",
              "    }\n",
              "</style>\n",
              "<table border=\"1\" class=\"dataframe\">\n",
              "  <thead>\n",
              "    <tr style=\"text-align: right;\">\n",
              "      <th></th>\n",
              "      <th>age</th>\n",
              "      <th>workclass</th>\n",
              "      <th>fnlwgt</th>\n",
              "      <th>education</th>\n",
              "      <th>education.num</th>\n",
              "      <th>marital.status</th>\n",
              "      <th>occupation</th>\n",
              "      <th>relationship</th>\n",
              "      <th>race</th>\n",
              "      <th>sex</th>\n",
              "      <th>capital.gain</th>\n",
              "      <th>capital.loss</th>\n",
              "      <th>hours.per.week</th>\n",
              "      <th>native.country</th>\n",
              "    </tr>\n",
              "    <tr>\n",
              "      <th>id</th>\n",
              "      <th></th>\n",
              "      <th></th>\n",
              "      <th></th>\n",
              "      <th></th>\n",
              "      <th></th>\n",
              "      <th></th>\n",
              "      <th></th>\n",
              "      <th></th>\n",
              "      <th></th>\n",
              "      <th></th>\n",
              "      <th></th>\n",
              "      <th></th>\n",
              "      <th></th>\n",
              "      <th></th>\n",
              "    </tr>\n",
              "  </thead>\n",
              "  <tbody>\n",
              "    <tr>\n",
              "      <th>0</th>\n",
              "      <td>47</td>\n",
              "      <td>Private</td>\n",
              "      <td>304133</td>\n",
              "      <td>Some-college</td>\n",
              "      <td>10</td>\n",
              "      <td>Married-civ-spouse</td>\n",
              "      <td>Exec-managerial</td>\n",
              "      <td>Husband</td>\n",
              "      <td>White</td>\n",
              "      <td>Male</td>\n",
              "      <td>0</td>\n",
              "      <td>0</td>\n",
              "      <td>45</td>\n",
              "      <td>United-States</td>\n",
              "    </tr>\n",
              "    <tr>\n",
              "      <th>1</th>\n",
              "      <td>34</td>\n",
              "      <td>Self-emp-inc</td>\n",
              "      <td>154227</td>\n",
              "      <td>Some-college</td>\n",
              "      <td>10</td>\n",
              "      <td>Never-married</td>\n",
              "      <td>Sales</td>\n",
              "      <td>Not-in-family</td>\n",
              "      <td>White</td>\n",
              "      <td>Male</td>\n",
              "      <td>0</td>\n",
              "      <td>0</td>\n",
              "      <td>75</td>\n",
              "      <td>United-States</td>\n",
              "    </tr>\n",
              "    <tr>\n",
              "      <th>2</th>\n",
              "      <td>31</td>\n",
              "      <td>Local-gov</td>\n",
              "      <td>158291</td>\n",
              "      <td>Bachelors</td>\n",
              "      <td>13</td>\n",
              "      <td>Never-married</td>\n",
              "      <td>Craft-repair</td>\n",
              "      <td>Not-in-family</td>\n",
              "      <td>White</td>\n",
              "      <td>Male</td>\n",
              "      <td>8614</td>\n",
              "      <td>0</td>\n",
              "      <td>40</td>\n",
              "      <td>United-States</td>\n",
              "    </tr>\n",
              "    <tr>\n",
              "      <th>3</th>\n",
              "      <td>28</td>\n",
              "      <td>Private</td>\n",
              "      <td>183155</td>\n",
              "      <td>Bachelors</td>\n",
              "      <td>13</td>\n",
              "      <td>Married-civ-spouse</td>\n",
              "      <td>Prof-specialty</td>\n",
              "      <td>Husband</td>\n",
              "      <td>White</td>\n",
              "      <td>Male</td>\n",
              "      <td>0</td>\n",
              "      <td>0</td>\n",
              "      <td>55</td>\n",
              "      <td>United-States</td>\n",
              "    </tr>\n",
              "    <tr>\n",
              "      <th>4</th>\n",
              "      <td>54</td>\n",
              "      <td>Local-gov</td>\n",
              "      <td>182543</td>\n",
              "      <td>Some-college</td>\n",
              "      <td>10</td>\n",
              "      <td>Widowed</td>\n",
              "      <td>Adm-clerical</td>\n",
              "      <td>Unmarried</td>\n",
              "      <td>White</td>\n",
              "      <td>Female</td>\n",
              "      <td>0</td>\n",
              "      <td>0</td>\n",
              "      <td>40</td>\n",
              "      <td>Mexico</td>\n",
              "    </tr>\n",
              "  </tbody>\n",
              "</table>\n",
              "</div>\n",
              "      <button class=\"colab-df-convert\" onclick=\"convertToInteractive('df-3a1247f2-03db-47a6-80b5-fb7eb1be318e')\"\n",
              "              title=\"Convert this dataframe to an interactive table.\"\n",
              "              style=\"display:none;\">\n",
              "        \n",
              "  <svg xmlns=\"http://www.w3.org/2000/svg\" height=\"24px\"viewBox=\"0 0 24 24\"\n",
              "       width=\"24px\">\n",
              "    <path d=\"M0 0h24v24H0V0z\" fill=\"none\"/>\n",
              "    <path d=\"M18.56 5.44l.94 2.06.94-2.06 2.06-.94-2.06-.94-.94-2.06-.94 2.06-2.06.94zm-11 1L8.5 8.5l.94-2.06 2.06-.94-2.06-.94L8.5 2.5l-.94 2.06-2.06.94zm10 10l.94 2.06.94-2.06 2.06-.94-2.06-.94-.94-2.06-.94 2.06-2.06.94z\"/><path d=\"M17.41 7.96l-1.37-1.37c-.4-.4-.92-.59-1.43-.59-.52 0-1.04.2-1.43.59L10.3 9.45l-7.72 7.72c-.78.78-.78 2.05 0 2.83L4 21.41c.39.39.9.59 1.41.59.51 0 1.02-.2 1.41-.59l7.78-7.78 2.81-2.81c.8-.78.8-2.07 0-2.86zM5.41 20L4 18.59l7.72-7.72 1.47 1.35L5.41 20z\"/>\n",
              "  </svg>\n",
              "      </button>\n",
              "      \n",
              "  <style>\n",
              "    .colab-df-container {\n",
              "      display:flex;\n",
              "      flex-wrap:wrap;\n",
              "      gap: 12px;\n",
              "    }\n",
              "\n",
              "    .colab-df-convert {\n",
              "      background-color: #E8F0FE;\n",
              "      border: none;\n",
              "      border-radius: 50%;\n",
              "      cursor: pointer;\n",
              "      display: none;\n",
              "      fill: #1967D2;\n",
              "      height: 32px;\n",
              "      padding: 0 0 0 0;\n",
              "      width: 32px;\n",
              "    }\n",
              "\n",
              "    .colab-df-convert:hover {\n",
              "      background-color: #E2EBFA;\n",
              "      box-shadow: 0px 1px 2px rgba(60, 64, 67, 0.3), 0px 1px 3px 1px rgba(60, 64, 67, 0.15);\n",
              "      fill: #174EA6;\n",
              "    }\n",
              "\n",
              "    [theme=dark] .colab-df-convert {\n",
              "      background-color: #3B4455;\n",
              "      fill: #D2E3FC;\n",
              "    }\n",
              "\n",
              "    [theme=dark] .colab-df-convert:hover {\n",
              "      background-color: #434B5C;\n",
              "      box-shadow: 0px 1px 3px 1px rgba(0, 0, 0, 0.15);\n",
              "      filter: drop-shadow(0px 1px 2px rgba(0, 0, 0, 0.3));\n",
              "      fill: #FFFFFF;\n",
              "    }\n",
              "  </style>\n",
              "\n",
              "      <script>\n",
              "        const buttonEl =\n",
              "          document.querySelector('#df-3a1247f2-03db-47a6-80b5-fb7eb1be318e button.colab-df-convert');\n",
              "        buttonEl.style.display =\n",
              "          google.colab.kernel.accessAllowed ? 'block' : 'none';\n",
              "\n",
              "        async function convertToInteractive(key) {\n",
              "          const element = document.querySelector('#df-3a1247f2-03db-47a6-80b5-fb7eb1be318e');\n",
              "          const dataTable =\n",
              "            await google.colab.kernel.invokeFunction('convertToInteractive',\n",
              "                                                     [key], {});\n",
              "          if (!dataTable) return;\n",
              "\n",
              "          const docLinkHtml = 'Like what you see? Visit the ' +\n",
              "            '<a target=\"_blank\" href=https://colab.research.google.com/notebooks/data_table.ipynb>data table notebook</a>'\n",
              "            + ' to learn more about interactive tables.';\n",
              "          element.innerHTML = '';\n",
              "          dataTable['output_type'] = 'display_data';\n",
              "          await google.colab.output.renderOutput(dataTable, element);\n",
              "          const docLink = document.createElement('div');\n",
              "          docLink.innerHTML = docLinkHtml;\n",
              "          element.appendChild(docLink);\n",
              "        }\n",
              "      </script>\n",
              "    </div>\n",
              "  </div>\n",
              "  "
            ]
          },
          "metadata": {}
        }
      ]
    },
    {
      "cell_type": "code",
      "source": [
        "print(\"shape of train: \" , train.shape)\n",
        "print(\"shape of test: \", test.shape)"
      ],
      "metadata": {
        "colab": {
          "base_uri": "https://localhost:8080/"
        },
        "id": "mdI2Q2Y10hoX",
        "outputId": "ecad55c1-68e4-42ef-f1bc-8b1c5e87bd5e"
      },
      "execution_count": null,
      "outputs": [
        {
          "output_type": "stream",
          "name": "stdout",
          "text": [
            "shape of train:  (17480, 15)\n",
            "shape of test:  (15081, 14)\n"
          ]
        }
      ]
    },
    {
      "cell_type": "code",
      "source": [
        "# train 값은 결측치가 존재함을 확인할 수 있다.\n",
        "# column은 13개이고, row는 17480개이다.\n",
        "# 범주형 변수는 workclass, eudcation, matrial.status, occupation, relationship, race, sex 이다.\n",
        "train.info()"
      ],
      "metadata": {
        "colab": {
          "base_uri": "https://localhost:8080/"
        },
        "id": "CO9nqy2We6kz",
        "outputId": "2fd12b25-0a7b-4218-9506-76a4624fd01c"
      },
      "execution_count": null,
      "outputs": [
        {
          "output_type": "stream",
          "name": "stdout",
          "text": [
            "<class 'pandas.core.frame.DataFrame'>\n",
            "Int64Index: 17480 entries, 0 to 17479\n",
            "Data columns (total 15 columns):\n",
            " #   Column          Non-Null Count  Dtype \n",
            "---  ------          --------------  ----- \n",
            " 0   age             17480 non-null  int64 \n",
            " 1   workclass       15644 non-null  object\n",
            " 2   fnlwgt          17480 non-null  int64 \n",
            " 3   education       17480 non-null  object\n",
            " 4   education.num   17480 non-null  int64 \n",
            " 5   marital.status  17480 non-null  object\n",
            " 6   occupation      15637 non-null  object\n",
            " 7   relationship    17480 non-null  object\n",
            " 8   race            17480 non-null  object\n",
            " 9   sex             17480 non-null  object\n",
            " 10  capital.gain    17480 non-null  int64 \n",
            " 11  capital.loss    17480 non-null  int64 \n",
            " 12  hours.per.week  17480 non-null  int64 \n",
            " 13  native.country  16897 non-null  object\n",
            " 14  target          17480 non-null  int64 \n",
            "dtypes: int64(7), object(8)\n",
            "memory usage: 2.1+ MB\n"
          ]
        }
      ]
    },
    {
      "cell_type": "code",
      "source": [
        "# train의 경우, workclass, occupation, native country에서 결측치가 확인됨.\n",
        "train.isnull().sum()"
      ],
      "metadata": {
        "colab": {
          "base_uri": "https://localhost:8080/"
        },
        "id": "_6GLUO0yvUYL",
        "outputId": "e8c027c8-c1a2-469e-9f7c-502d0eb74a70"
      },
      "execution_count": null,
      "outputs": [
        {
          "output_type": "execute_result",
          "data": {
            "text/plain": [
              "age                  0\n",
              "workclass         1836\n",
              "fnlwgt               0\n",
              "education            0\n",
              "education.num        0\n",
              "marital.status       0\n",
              "occupation        1843\n",
              "relationship         0\n",
              "race                 0\n",
              "sex                  0\n",
              "capital.gain         0\n",
              "capital.loss         0\n",
              "hours.per.week       0\n",
              "native.country     583\n",
              "target               0\n",
              "dtype: int64"
            ]
          },
          "metadata": {},
          "execution_count": 5
        }
      ]
    },
    {
      "cell_type": "code",
      "source": [
        "# 결측치 없음\n",
        "test.info()"
      ],
      "metadata": {
        "colab": {
          "base_uri": "https://localhost:8080/"
        },
        "id": "GRr5Mhg4fChb",
        "outputId": "792cb1cb-730d-4618-8a83-71ac33977749"
      },
      "execution_count": null,
      "outputs": [
        {
          "output_type": "stream",
          "name": "stdout",
          "text": [
            "<class 'pandas.core.frame.DataFrame'>\n",
            "Int64Index: 15081 entries, 0 to 15080\n",
            "Data columns (total 14 columns):\n",
            " #   Column          Non-Null Count  Dtype \n",
            "---  ------          --------------  ----- \n",
            " 0   age             15081 non-null  int64 \n",
            " 1   workclass       15081 non-null  object\n",
            " 2   fnlwgt          15081 non-null  int64 \n",
            " 3   education       15081 non-null  object\n",
            " 4   education.num   15081 non-null  int64 \n",
            " 5   marital.status  15081 non-null  object\n",
            " 6   occupation      15081 non-null  object\n",
            " 7   relationship    15081 non-null  object\n",
            " 8   race            15081 non-null  object\n",
            " 9   sex             15081 non-null  object\n",
            " 10  capital.gain    15081 non-null  int64 \n",
            " 11  capital.loss    15081 non-null  int64 \n",
            " 12  hours.per.week  15081 non-null  int64 \n",
            " 13  native.country  15081 non-null  object\n",
            "dtypes: int64(6), object(8)\n",
            "memory usage: 1.7+ MB\n"
          ]
        }
      ]
    },
    {
      "cell_type": "code",
      "source": [
        "train.describe()"
      ],
      "metadata": {
        "colab": {
          "base_uri": "https://localhost:8080/"
        },
        "id": "6zFN-glifO-v",
        "outputId": "5585608e-6a2c-45ab-c947-d4cce0e5d0b4"
      },
      "execution_count": null,
      "outputs": [
        {
          "output_type": "execute_result",
          "data": {
            "text/plain": [
              "                age        fnlwgt  education.num  capital.gain  capital.loss  \\\n",
              "count  17480.000000  1.748000e+04   17480.000000  17480.000000   17480.00000   \n",
              "mean      38.720995  1.897610e+05      10.036556   1076.644508      83.87460   \n",
              "std       14.079617  1.049929e+05       2.604415   7439.498620     396.03288   \n",
              "min       17.000000  1.228500e+04       1.000000      0.000000       0.00000   \n",
              "25%       27.000000  1.181558e+05       9.000000      0.000000       0.00000   \n",
              "50%       37.000000  1.781340e+05      10.000000      0.000000       0.00000   \n",
              "75%       48.000000  2.373180e+05      12.000000      0.000000       0.00000   \n",
              "max       90.000000  1.455435e+06      16.000000  99999.000000    4356.00000   \n",
              "\n",
              "       hours.per.week        target  \n",
              "count    17480.000000  17480.000000  \n",
              "mean        40.002460      0.234897  \n",
              "std         12.671265      0.423947  \n",
              "min          1.000000      0.000000  \n",
              "25%         38.000000      0.000000  \n",
              "50%         40.000000      0.000000  \n",
              "75%         45.000000      0.000000  \n",
              "max         99.000000      1.000000  "
            ],
            "text/html": [
              "\n",
              "  <div id=\"df-8812ea3c-d962-43e2-8f61-645c9b57405c\">\n",
              "    <div class=\"colab-df-container\">\n",
              "      <div>\n",
              "<style scoped>\n",
              "    .dataframe tbody tr th:only-of-type {\n",
              "        vertical-align: middle;\n",
              "    }\n",
              "\n",
              "    .dataframe tbody tr th {\n",
              "        vertical-align: top;\n",
              "    }\n",
              "\n",
              "    .dataframe thead th {\n",
              "        text-align: right;\n",
              "    }\n",
              "</style>\n",
              "<table border=\"1\" class=\"dataframe\">\n",
              "  <thead>\n",
              "    <tr style=\"text-align: right;\">\n",
              "      <th></th>\n",
              "      <th>age</th>\n",
              "      <th>fnlwgt</th>\n",
              "      <th>education.num</th>\n",
              "      <th>capital.gain</th>\n",
              "      <th>capital.loss</th>\n",
              "      <th>hours.per.week</th>\n",
              "      <th>target</th>\n",
              "    </tr>\n",
              "  </thead>\n",
              "  <tbody>\n",
              "    <tr>\n",
              "      <th>count</th>\n",
              "      <td>17480.000000</td>\n",
              "      <td>1.748000e+04</td>\n",
              "      <td>17480.000000</td>\n",
              "      <td>17480.000000</td>\n",
              "      <td>17480.00000</td>\n",
              "      <td>17480.000000</td>\n",
              "      <td>17480.000000</td>\n",
              "    </tr>\n",
              "    <tr>\n",
              "      <th>mean</th>\n",
              "      <td>38.720995</td>\n",
              "      <td>1.897610e+05</td>\n",
              "      <td>10.036556</td>\n",
              "      <td>1076.644508</td>\n",
              "      <td>83.87460</td>\n",
              "      <td>40.002460</td>\n",
              "      <td>0.234897</td>\n",
              "    </tr>\n",
              "    <tr>\n",
              "      <th>std</th>\n",
              "      <td>14.079617</td>\n",
              "      <td>1.049929e+05</td>\n",
              "      <td>2.604415</td>\n",
              "      <td>7439.498620</td>\n",
              "      <td>396.03288</td>\n",
              "      <td>12.671265</td>\n",
              "      <td>0.423947</td>\n",
              "    </tr>\n",
              "    <tr>\n",
              "      <th>min</th>\n",
              "      <td>17.000000</td>\n",
              "      <td>1.228500e+04</td>\n",
              "      <td>1.000000</td>\n",
              "      <td>0.000000</td>\n",
              "      <td>0.00000</td>\n",
              "      <td>1.000000</td>\n",
              "      <td>0.000000</td>\n",
              "    </tr>\n",
              "    <tr>\n",
              "      <th>25%</th>\n",
              "      <td>27.000000</td>\n",
              "      <td>1.181558e+05</td>\n",
              "      <td>9.000000</td>\n",
              "      <td>0.000000</td>\n",
              "      <td>0.00000</td>\n",
              "      <td>38.000000</td>\n",
              "      <td>0.000000</td>\n",
              "    </tr>\n",
              "    <tr>\n",
              "      <th>50%</th>\n",
              "      <td>37.000000</td>\n",
              "      <td>1.781340e+05</td>\n",
              "      <td>10.000000</td>\n",
              "      <td>0.000000</td>\n",
              "      <td>0.00000</td>\n",
              "      <td>40.000000</td>\n",
              "      <td>0.000000</td>\n",
              "    </tr>\n",
              "    <tr>\n",
              "      <th>75%</th>\n",
              "      <td>48.000000</td>\n",
              "      <td>2.373180e+05</td>\n",
              "      <td>12.000000</td>\n",
              "      <td>0.000000</td>\n",
              "      <td>0.00000</td>\n",
              "      <td>45.000000</td>\n",
              "      <td>0.000000</td>\n",
              "    </tr>\n",
              "    <tr>\n",
              "      <th>max</th>\n",
              "      <td>90.000000</td>\n",
              "      <td>1.455435e+06</td>\n",
              "      <td>16.000000</td>\n",
              "      <td>99999.000000</td>\n",
              "      <td>4356.00000</td>\n",
              "      <td>99.000000</td>\n",
              "      <td>1.000000</td>\n",
              "    </tr>\n",
              "  </tbody>\n",
              "</table>\n",
              "</div>\n",
              "      <button class=\"colab-df-convert\" onclick=\"convertToInteractive('df-8812ea3c-d962-43e2-8f61-645c9b57405c')\"\n",
              "              title=\"Convert this dataframe to an interactive table.\"\n",
              "              style=\"display:none;\">\n",
              "        \n",
              "  <svg xmlns=\"http://www.w3.org/2000/svg\" height=\"24px\"viewBox=\"0 0 24 24\"\n",
              "       width=\"24px\">\n",
              "    <path d=\"M0 0h24v24H0V0z\" fill=\"none\"/>\n",
              "    <path d=\"M18.56 5.44l.94 2.06.94-2.06 2.06-.94-2.06-.94-.94-2.06-.94 2.06-2.06.94zm-11 1L8.5 8.5l.94-2.06 2.06-.94-2.06-.94L8.5 2.5l-.94 2.06-2.06.94zm10 10l.94 2.06.94-2.06 2.06-.94-2.06-.94-.94-2.06-.94 2.06-2.06.94z\"/><path d=\"M17.41 7.96l-1.37-1.37c-.4-.4-.92-.59-1.43-.59-.52 0-1.04.2-1.43.59L10.3 9.45l-7.72 7.72c-.78.78-.78 2.05 0 2.83L4 21.41c.39.39.9.59 1.41.59.51 0 1.02-.2 1.41-.59l7.78-7.78 2.81-2.81c.8-.78.8-2.07 0-2.86zM5.41 20L4 18.59l7.72-7.72 1.47 1.35L5.41 20z\"/>\n",
              "  </svg>\n",
              "      </button>\n",
              "      \n",
              "  <style>\n",
              "    .colab-df-container {\n",
              "      display:flex;\n",
              "      flex-wrap:wrap;\n",
              "      gap: 12px;\n",
              "    }\n",
              "\n",
              "    .colab-df-convert {\n",
              "      background-color: #E8F0FE;\n",
              "      border: none;\n",
              "      border-radius: 50%;\n",
              "      cursor: pointer;\n",
              "      display: none;\n",
              "      fill: #1967D2;\n",
              "      height: 32px;\n",
              "      padding: 0 0 0 0;\n",
              "      width: 32px;\n",
              "    }\n",
              "\n",
              "    .colab-df-convert:hover {\n",
              "      background-color: #E2EBFA;\n",
              "      box-shadow: 0px 1px 2px rgba(60, 64, 67, 0.3), 0px 1px 3px 1px rgba(60, 64, 67, 0.15);\n",
              "      fill: #174EA6;\n",
              "    }\n",
              "\n",
              "    [theme=dark] .colab-df-convert {\n",
              "      background-color: #3B4455;\n",
              "      fill: #D2E3FC;\n",
              "    }\n",
              "\n",
              "    [theme=dark] .colab-df-convert:hover {\n",
              "      background-color: #434B5C;\n",
              "      box-shadow: 0px 1px 3px 1px rgba(0, 0, 0, 0.15);\n",
              "      filter: drop-shadow(0px 1px 2px rgba(0, 0, 0, 0.3));\n",
              "      fill: #FFFFFF;\n",
              "    }\n",
              "  </style>\n",
              "\n",
              "      <script>\n",
              "        const buttonEl =\n",
              "          document.querySelector('#df-8812ea3c-d962-43e2-8f61-645c9b57405c button.colab-df-convert');\n",
              "        buttonEl.style.display =\n",
              "          google.colab.kernel.accessAllowed ? 'block' : 'none';\n",
              "\n",
              "        async function convertToInteractive(key) {\n",
              "          const element = document.querySelector('#df-8812ea3c-d962-43e2-8f61-645c9b57405c');\n",
              "          const dataTable =\n",
              "            await google.colab.kernel.invokeFunction('convertToInteractive',\n",
              "                                                     [key], {});\n",
              "          if (!dataTable) return;\n",
              "\n",
              "          const docLinkHtml = 'Like what you see? Visit the ' +\n",
              "            '<a target=\"_blank\" href=https://colab.research.google.com/notebooks/data_table.ipynb>data table notebook</a>'\n",
              "            + ' to learn more about interactive tables.';\n",
              "          element.innerHTML = '';\n",
              "          dataTable['output_type'] = 'display_data';\n",
              "          await google.colab.output.renderOutput(dataTable, element);\n",
              "          const docLink = document.createElement('div');\n",
              "          docLink.innerHTML = docLinkHtml;\n",
              "          element.appendChild(docLink);\n",
              "        }\n",
              "      </script>\n",
              "    </div>\n",
              "  </div>\n",
              "  "
            ]
          },
          "metadata": {},
          "execution_count": 7
        }
      ]
    },
    {
      "cell_type": "code",
      "source": [
        "#describe를 통해 요약 값들을 확인해 보았을 때는 train과 test는 비슷한 분포를 지닌 것으로 보인다(적어도 수치형 변수에 대해서는)\n",
        "test.describe()"
      ],
      "metadata": {
        "colab": {
          "base_uri": "https://localhost:8080/"
        },
        "id": "Zu0ITIncfksl",
        "outputId": "6772e045-6347-4d5b-9057-c072f0b9bbc8"
      },
      "execution_count": null,
      "outputs": [
        {
          "output_type": "execute_result",
          "data": {
            "text/plain": [
              "                age        fnlwgt  education.num  capital.gain  capital.loss  \\\n",
              "count  15081.000000  1.508100e+04   15081.000000  15081.000000  15081.000000   \n",
              "mean      38.420131  1.897985e+05      10.131821   1078.812943     91.278562   \n",
              "std       13.111605  1.061955e+05       2.534614   7322.206791    410.820751   \n",
              "min       17.000000  1.376900e+04       1.000000      0.000000      0.000000   \n",
              "25%       28.000000  1.176050e+05       9.000000      0.000000      0.000000   \n",
              "50%       37.000000  1.786490e+05      10.000000      0.000000      0.000000   \n",
              "75%       47.000000  2.369070e+05      13.000000      0.000000      0.000000   \n",
              "max       90.000000  1.484705e+06      16.000000  99999.000000   3900.000000   \n",
              "\n",
              "       hours.per.week  \n",
              "count    15081.000000  \n",
              "mean        40.941648  \n",
              "std         11.941720  \n",
              "min          1.000000  \n",
              "25%         40.000000  \n",
              "50%         40.000000  \n",
              "75%         45.000000  \n",
              "max         99.000000  "
            ],
            "text/html": [
              "\n",
              "  <div id=\"df-1d70a341-fd46-4de9-984b-d1600e7c0295\">\n",
              "    <div class=\"colab-df-container\">\n",
              "      <div>\n",
              "<style scoped>\n",
              "    .dataframe tbody tr th:only-of-type {\n",
              "        vertical-align: middle;\n",
              "    }\n",
              "\n",
              "    .dataframe tbody tr th {\n",
              "        vertical-align: top;\n",
              "    }\n",
              "\n",
              "    .dataframe thead th {\n",
              "        text-align: right;\n",
              "    }\n",
              "</style>\n",
              "<table border=\"1\" class=\"dataframe\">\n",
              "  <thead>\n",
              "    <tr style=\"text-align: right;\">\n",
              "      <th></th>\n",
              "      <th>age</th>\n",
              "      <th>fnlwgt</th>\n",
              "      <th>education.num</th>\n",
              "      <th>capital.gain</th>\n",
              "      <th>capital.loss</th>\n",
              "      <th>hours.per.week</th>\n",
              "    </tr>\n",
              "  </thead>\n",
              "  <tbody>\n",
              "    <tr>\n",
              "      <th>count</th>\n",
              "      <td>15081.000000</td>\n",
              "      <td>1.508100e+04</td>\n",
              "      <td>15081.000000</td>\n",
              "      <td>15081.000000</td>\n",
              "      <td>15081.000000</td>\n",
              "      <td>15081.000000</td>\n",
              "    </tr>\n",
              "    <tr>\n",
              "      <th>mean</th>\n",
              "      <td>38.420131</td>\n",
              "      <td>1.897985e+05</td>\n",
              "      <td>10.131821</td>\n",
              "      <td>1078.812943</td>\n",
              "      <td>91.278562</td>\n",
              "      <td>40.941648</td>\n",
              "    </tr>\n",
              "    <tr>\n",
              "      <th>std</th>\n",
              "      <td>13.111605</td>\n",
              "      <td>1.061955e+05</td>\n",
              "      <td>2.534614</td>\n",
              "      <td>7322.206791</td>\n",
              "      <td>410.820751</td>\n",
              "      <td>11.941720</td>\n",
              "    </tr>\n",
              "    <tr>\n",
              "      <th>min</th>\n",
              "      <td>17.000000</td>\n",
              "      <td>1.376900e+04</td>\n",
              "      <td>1.000000</td>\n",
              "      <td>0.000000</td>\n",
              "      <td>0.000000</td>\n",
              "      <td>1.000000</td>\n",
              "    </tr>\n",
              "    <tr>\n",
              "      <th>25%</th>\n",
              "      <td>28.000000</td>\n",
              "      <td>1.176050e+05</td>\n",
              "      <td>9.000000</td>\n",
              "      <td>0.000000</td>\n",
              "      <td>0.000000</td>\n",
              "      <td>40.000000</td>\n",
              "    </tr>\n",
              "    <tr>\n",
              "      <th>50%</th>\n",
              "      <td>37.000000</td>\n",
              "      <td>1.786490e+05</td>\n",
              "      <td>10.000000</td>\n",
              "      <td>0.000000</td>\n",
              "      <td>0.000000</td>\n",
              "      <td>40.000000</td>\n",
              "    </tr>\n",
              "    <tr>\n",
              "      <th>75%</th>\n",
              "      <td>47.000000</td>\n",
              "      <td>2.369070e+05</td>\n",
              "      <td>13.000000</td>\n",
              "      <td>0.000000</td>\n",
              "      <td>0.000000</td>\n",
              "      <td>45.000000</td>\n",
              "    </tr>\n",
              "    <tr>\n",
              "      <th>max</th>\n",
              "      <td>90.000000</td>\n",
              "      <td>1.484705e+06</td>\n",
              "      <td>16.000000</td>\n",
              "      <td>99999.000000</td>\n",
              "      <td>3900.000000</td>\n",
              "      <td>99.000000</td>\n",
              "    </tr>\n",
              "  </tbody>\n",
              "</table>\n",
              "</div>\n",
              "      <button class=\"colab-df-convert\" onclick=\"convertToInteractive('df-1d70a341-fd46-4de9-984b-d1600e7c0295')\"\n",
              "              title=\"Convert this dataframe to an interactive table.\"\n",
              "              style=\"display:none;\">\n",
              "        \n",
              "  <svg xmlns=\"http://www.w3.org/2000/svg\" height=\"24px\"viewBox=\"0 0 24 24\"\n",
              "       width=\"24px\">\n",
              "    <path d=\"M0 0h24v24H0V0z\" fill=\"none\"/>\n",
              "    <path d=\"M18.56 5.44l.94 2.06.94-2.06 2.06-.94-2.06-.94-.94-2.06-.94 2.06-2.06.94zm-11 1L8.5 8.5l.94-2.06 2.06-.94-2.06-.94L8.5 2.5l-.94 2.06-2.06.94zm10 10l.94 2.06.94-2.06 2.06-.94-2.06-.94-.94-2.06-.94 2.06-2.06.94z\"/><path d=\"M17.41 7.96l-1.37-1.37c-.4-.4-.92-.59-1.43-.59-.52 0-1.04.2-1.43.59L10.3 9.45l-7.72 7.72c-.78.78-.78 2.05 0 2.83L4 21.41c.39.39.9.59 1.41.59.51 0 1.02-.2 1.41-.59l7.78-7.78 2.81-2.81c.8-.78.8-2.07 0-2.86zM5.41 20L4 18.59l7.72-7.72 1.47 1.35L5.41 20z\"/>\n",
              "  </svg>\n",
              "      </button>\n",
              "      \n",
              "  <style>\n",
              "    .colab-df-container {\n",
              "      display:flex;\n",
              "      flex-wrap:wrap;\n",
              "      gap: 12px;\n",
              "    }\n",
              "\n",
              "    .colab-df-convert {\n",
              "      background-color: #E8F0FE;\n",
              "      border: none;\n",
              "      border-radius: 50%;\n",
              "      cursor: pointer;\n",
              "      display: none;\n",
              "      fill: #1967D2;\n",
              "      height: 32px;\n",
              "      padding: 0 0 0 0;\n",
              "      width: 32px;\n",
              "    }\n",
              "\n",
              "    .colab-df-convert:hover {\n",
              "      background-color: #E2EBFA;\n",
              "      box-shadow: 0px 1px 2px rgba(60, 64, 67, 0.3), 0px 1px 3px 1px rgba(60, 64, 67, 0.15);\n",
              "      fill: #174EA6;\n",
              "    }\n",
              "\n",
              "    [theme=dark] .colab-df-convert {\n",
              "      background-color: #3B4455;\n",
              "      fill: #D2E3FC;\n",
              "    }\n",
              "\n",
              "    [theme=dark] .colab-df-convert:hover {\n",
              "      background-color: #434B5C;\n",
              "      box-shadow: 0px 1px 3px 1px rgba(0, 0, 0, 0.15);\n",
              "      filter: drop-shadow(0px 1px 2px rgba(0, 0, 0, 0.3));\n",
              "      fill: #FFFFFF;\n",
              "    }\n",
              "  </style>\n",
              "\n",
              "      <script>\n",
              "        const buttonEl =\n",
              "          document.querySelector('#df-1d70a341-fd46-4de9-984b-d1600e7c0295 button.colab-df-convert');\n",
              "        buttonEl.style.display =\n",
              "          google.colab.kernel.accessAllowed ? 'block' : 'none';\n",
              "\n",
              "        async function convertToInteractive(key) {\n",
              "          const element = document.querySelector('#df-1d70a341-fd46-4de9-984b-d1600e7c0295');\n",
              "          const dataTable =\n",
              "            await google.colab.kernel.invokeFunction('convertToInteractive',\n",
              "                                                     [key], {});\n",
              "          if (!dataTable) return;\n",
              "\n",
              "          const docLinkHtml = 'Like what you see? Visit the ' +\n",
              "            '<a target=\"_blank\" href=https://colab.research.google.com/notebooks/data_table.ipynb>data table notebook</a>'\n",
              "            + ' to learn more about interactive tables.';\n",
              "          element.innerHTML = '';\n",
              "          dataTable['output_type'] = 'display_data';\n",
              "          await google.colab.output.renderOutput(dataTable, element);\n",
              "          const docLink = document.createElement('div');\n",
              "          docLink.innerHTML = docLinkHtml;\n",
              "          element.appendChild(docLink);\n",
              "        }\n",
              "      </script>\n",
              "    </div>\n",
              "  </div>\n",
              "  "
            ]
          },
          "metadata": {},
          "execution_count": 8
        }
      ]
    },
    {
      "cell_type": "markdown",
      "source": [
        "### 범주형 변수 처리하기"
      ],
      "metadata": {
        "id": "VxLixTOdgGs3"
      }
    },
    {
      "cell_type": "markdown",
      "source": [
        "#### workclass"
      ],
      "metadata": {
        "id": "5xuGHLJ0kkgJ"
      }
    },
    {
      "cell_type": "code",
      "source": [
        "# train data에는 Never-worked가 존재하지만 test data에는 존재하지 않는다. 따라서 Never-worked를 가진 열은 제외해도 될 것 같다.\n",
        "train['workclass'].value_counts()"
      ],
      "metadata": {
        "colab": {
          "base_uri": "https://localhost:8080/"
        },
        "id": "ymG0T4I8f4bf",
        "outputId": "53c85224-1eb6-4884-d65a-2aa46c661845"
      },
      "execution_count": null,
      "outputs": [
        {
          "output_type": "execute_result",
          "data": {
            "text/plain": [
              "Private             11568\n",
              "Self-emp-not-inc     1272\n",
              "Local-gov            1053\n",
              "State-gov             659\n",
              "Self-emp-inc          594\n",
              "Federal-gov           485\n",
              "Never-worked            7\n",
              "Without-pay             6\n",
              "Name: workclass, dtype: int64"
            ]
          },
          "metadata": {},
          "execution_count": 9
        }
      ]
    },
    {
      "cell_type": "code",
      "source": [
        "test['workclass'].value_counts()"
      ],
      "metadata": {
        "colab": {
          "base_uri": "https://localhost:8080/"
        },
        "id": "3BczKpA9g7F1",
        "outputId": "1df8f74e-f99b-4284-e7cc-b80c2ccb6046"
      },
      "execution_count": null,
      "outputs": [
        {
          "output_type": "execute_result",
          "data": {
            "text/plain": [
              "Private             11128\n",
              "Self-emp-not-inc     1269\n",
              "Local-gov            1040\n",
              "State-gov             639\n",
              "Self-emp-inc          522\n",
              "Federal-gov           475\n",
              "Without-pay             8\n",
              "Name: workclass, dtype: int64"
            ]
          },
          "metadata": {},
          "execution_count": 10
        }
      ]
    },
    {
      "cell_type": "code",
      "source": [
        "# Never-worked 제외\n",
        "train = train[train['workclass'] != 'Never-worked'].reset_index(drop=True)\n",
        "train.head()"
      ],
      "metadata": {
        "colab": {
          "base_uri": "https://localhost:8080/"
        },
        "id": "dT0x1wMbhMmr",
        "outputId": "fbf9fd24-9581-41e5-dd6b-33bc889d9f95"
      },
      "execution_count": null,
      "outputs": [
        {
          "output_type": "execute_result",
          "data": {
            "text/plain": [
              "   age workclass  fnlwgt     education  education.num      marital.status  \\\n",
              "0   32   Private  309513    Assoc-acdm             12  Married-civ-spouse   \n",
              "1   33   Private  205469  Some-college             10  Married-civ-spouse   \n",
              "2   46   Private  149949  Some-college             10  Married-civ-spouse   \n",
              "3   23   Private  193090     Bachelors             13       Never-married   \n",
              "4   55   Private   60193       HS-grad              9            Divorced   \n",
              "\n",
              "        occupation   relationship   race     sex  capital.gain  capital.loss  \\\n",
              "0     Craft-repair        Husband  White    Male             0             0   \n",
              "1  Exec-managerial        Husband  White    Male             0             0   \n",
              "2     Craft-repair        Husband  White    Male             0             0   \n",
              "3     Adm-clerical      Own-child  White  Female             0             0   \n",
              "4     Adm-clerical  Not-in-family  White  Female             0             0   \n",
              "\n",
              "   hours.per.week native.country  target  \n",
              "0              40  United-States       0  \n",
              "1              40  United-States       1  \n",
              "2              40  United-States       0  \n",
              "3              30  United-States       0  \n",
              "4              40  United-States       0  "
            ],
            "text/html": [
              "\n",
              "  <div id=\"df-628375e8-0c86-4107-8eb1-9ad243e16597\">\n",
              "    <div class=\"colab-df-container\">\n",
              "      <div>\n",
              "<style scoped>\n",
              "    .dataframe tbody tr th:only-of-type {\n",
              "        vertical-align: middle;\n",
              "    }\n",
              "\n",
              "    .dataframe tbody tr th {\n",
              "        vertical-align: top;\n",
              "    }\n",
              "\n",
              "    .dataframe thead th {\n",
              "        text-align: right;\n",
              "    }\n",
              "</style>\n",
              "<table border=\"1\" class=\"dataframe\">\n",
              "  <thead>\n",
              "    <tr style=\"text-align: right;\">\n",
              "      <th></th>\n",
              "      <th>age</th>\n",
              "      <th>workclass</th>\n",
              "      <th>fnlwgt</th>\n",
              "      <th>education</th>\n",
              "      <th>education.num</th>\n",
              "      <th>marital.status</th>\n",
              "      <th>occupation</th>\n",
              "      <th>relationship</th>\n",
              "      <th>race</th>\n",
              "      <th>sex</th>\n",
              "      <th>capital.gain</th>\n",
              "      <th>capital.loss</th>\n",
              "      <th>hours.per.week</th>\n",
              "      <th>native.country</th>\n",
              "      <th>target</th>\n",
              "    </tr>\n",
              "  </thead>\n",
              "  <tbody>\n",
              "    <tr>\n",
              "      <th>0</th>\n",
              "      <td>32</td>\n",
              "      <td>Private</td>\n",
              "      <td>309513</td>\n",
              "      <td>Assoc-acdm</td>\n",
              "      <td>12</td>\n",
              "      <td>Married-civ-spouse</td>\n",
              "      <td>Craft-repair</td>\n",
              "      <td>Husband</td>\n",
              "      <td>White</td>\n",
              "      <td>Male</td>\n",
              "      <td>0</td>\n",
              "      <td>0</td>\n",
              "      <td>40</td>\n",
              "      <td>United-States</td>\n",
              "      <td>0</td>\n",
              "    </tr>\n",
              "    <tr>\n",
              "      <th>1</th>\n",
              "      <td>33</td>\n",
              "      <td>Private</td>\n",
              "      <td>205469</td>\n",
              "      <td>Some-college</td>\n",
              "      <td>10</td>\n",
              "      <td>Married-civ-spouse</td>\n",
              "      <td>Exec-managerial</td>\n",
              "      <td>Husband</td>\n",
              "      <td>White</td>\n",
              "      <td>Male</td>\n",
              "      <td>0</td>\n",
              "      <td>0</td>\n",
              "      <td>40</td>\n",
              "      <td>United-States</td>\n",
              "      <td>1</td>\n",
              "    </tr>\n",
              "    <tr>\n",
              "      <th>2</th>\n",
              "      <td>46</td>\n",
              "      <td>Private</td>\n",
              "      <td>149949</td>\n",
              "      <td>Some-college</td>\n",
              "      <td>10</td>\n",
              "      <td>Married-civ-spouse</td>\n",
              "      <td>Craft-repair</td>\n",
              "      <td>Husband</td>\n",
              "      <td>White</td>\n",
              "      <td>Male</td>\n",
              "      <td>0</td>\n",
              "      <td>0</td>\n",
              "      <td>40</td>\n",
              "      <td>United-States</td>\n",
              "      <td>0</td>\n",
              "    </tr>\n",
              "    <tr>\n",
              "      <th>3</th>\n",
              "      <td>23</td>\n",
              "      <td>Private</td>\n",
              "      <td>193090</td>\n",
              "      <td>Bachelors</td>\n",
              "      <td>13</td>\n",
              "      <td>Never-married</td>\n",
              "      <td>Adm-clerical</td>\n",
              "      <td>Own-child</td>\n",
              "      <td>White</td>\n",
              "      <td>Female</td>\n",
              "      <td>0</td>\n",
              "      <td>0</td>\n",
              "      <td>30</td>\n",
              "      <td>United-States</td>\n",
              "      <td>0</td>\n",
              "    </tr>\n",
              "    <tr>\n",
              "      <th>4</th>\n",
              "      <td>55</td>\n",
              "      <td>Private</td>\n",
              "      <td>60193</td>\n",
              "      <td>HS-grad</td>\n",
              "      <td>9</td>\n",
              "      <td>Divorced</td>\n",
              "      <td>Adm-clerical</td>\n",
              "      <td>Not-in-family</td>\n",
              "      <td>White</td>\n",
              "      <td>Female</td>\n",
              "      <td>0</td>\n",
              "      <td>0</td>\n",
              "      <td>40</td>\n",
              "      <td>United-States</td>\n",
              "      <td>0</td>\n",
              "    </tr>\n",
              "  </tbody>\n",
              "</table>\n",
              "</div>\n",
              "      <button class=\"colab-df-convert\" onclick=\"convertToInteractive('df-628375e8-0c86-4107-8eb1-9ad243e16597')\"\n",
              "              title=\"Convert this dataframe to an interactive table.\"\n",
              "              style=\"display:none;\">\n",
              "        \n",
              "  <svg xmlns=\"http://www.w3.org/2000/svg\" height=\"24px\"viewBox=\"0 0 24 24\"\n",
              "       width=\"24px\">\n",
              "    <path d=\"M0 0h24v24H0V0z\" fill=\"none\"/>\n",
              "    <path d=\"M18.56 5.44l.94 2.06.94-2.06 2.06-.94-2.06-.94-.94-2.06-.94 2.06-2.06.94zm-11 1L8.5 8.5l.94-2.06 2.06-.94-2.06-.94L8.5 2.5l-.94 2.06-2.06.94zm10 10l.94 2.06.94-2.06 2.06-.94-2.06-.94-.94-2.06-.94 2.06-2.06.94z\"/><path d=\"M17.41 7.96l-1.37-1.37c-.4-.4-.92-.59-1.43-.59-.52 0-1.04.2-1.43.59L10.3 9.45l-7.72 7.72c-.78.78-.78 2.05 0 2.83L4 21.41c.39.39.9.59 1.41.59.51 0 1.02-.2 1.41-.59l7.78-7.78 2.81-2.81c.8-.78.8-2.07 0-2.86zM5.41 20L4 18.59l7.72-7.72 1.47 1.35L5.41 20z\"/>\n",
              "  </svg>\n",
              "      </button>\n",
              "      \n",
              "  <style>\n",
              "    .colab-df-container {\n",
              "      display:flex;\n",
              "      flex-wrap:wrap;\n",
              "      gap: 12px;\n",
              "    }\n",
              "\n",
              "    .colab-df-convert {\n",
              "      background-color: #E8F0FE;\n",
              "      border: none;\n",
              "      border-radius: 50%;\n",
              "      cursor: pointer;\n",
              "      display: none;\n",
              "      fill: #1967D2;\n",
              "      height: 32px;\n",
              "      padding: 0 0 0 0;\n",
              "      width: 32px;\n",
              "    }\n",
              "\n",
              "    .colab-df-convert:hover {\n",
              "      background-color: #E2EBFA;\n",
              "      box-shadow: 0px 1px 2px rgba(60, 64, 67, 0.3), 0px 1px 3px 1px rgba(60, 64, 67, 0.15);\n",
              "      fill: #174EA6;\n",
              "    }\n",
              "\n",
              "    [theme=dark] .colab-df-convert {\n",
              "      background-color: #3B4455;\n",
              "      fill: #D2E3FC;\n",
              "    }\n",
              "\n",
              "    [theme=dark] .colab-df-convert:hover {\n",
              "      background-color: #434B5C;\n",
              "      box-shadow: 0px 1px 3px 1px rgba(0, 0, 0, 0.15);\n",
              "      filter: drop-shadow(0px 1px 2px rgba(0, 0, 0, 0.3));\n",
              "      fill: #FFFFFF;\n",
              "    }\n",
              "  </style>\n",
              "\n",
              "      <script>\n",
              "        const buttonEl =\n",
              "          document.querySelector('#df-628375e8-0c86-4107-8eb1-9ad243e16597 button.colab-df-convert');\n",
              "        buttonEl.style.display =\n",
              "          google.colab.kernel.accessAllowed ? 'block' : 'none';\n",
              "\n",
              "        async function convertToInteractive(key) {\n",
              "          const element = document.querySelector('#df-628375e8-0c86-4107-8eb1-9ad243e16597');\n",
              "          const dataTable =\n",
              "            await google.colab.kernel.invokeFunction('convertToInteractive',\n",
              "                                                     [key], {});\n",
              "          if (!dataTable) return;\n",
              "\n",
              "          const docLinkHtml = 'Like what you see? Visit the ' +\n",
              "            '<a target=\"_blank\" href=https://colab.research.google.com/notebooks/data_table.ipynb>data table notebook</a>'\n",
              "            + ' to learn more about interactive tables.';\n",
              "          element.innerHTML = '';\n",
              "          dataTable['output_type'] = 'display_data';\n",
              "          await google.colab.output.renderOutput(dataTable, element);\n",
              "          const docLink = document.createElement('div');\n",
              "          docLink.innerHTML = docLinkHtml;\n",
              "          element.appendChild(docLink);\n",
              "        }\n",
              "      </script>\n",
              "    </div>\n",
              "  </div>\n",
              "  "
            ]
          },
          "metadata": {},
          "execution_count": 11
        }
      ]
    },
    {
      "cell_type": "code",
      "source": [
        "# train에서 target이 1인 비율이 높은 순으로 label을 정하기로 한다\n",
        "# 따라서 Self-emp-inc, Federal-gov, Local-gov, Self-emp-not-inc, Private, Without-pay순으로 정하기로 한다.\n",
        "workclass = test['workclass'].unique()\n",
        "\n",
        "for kind in workclass:\n",
        "  data = train[train['workclass'] == kind]\n",
        "  proportion = round(np.sum(data['target']) / len(data),4)\n",
        "  print(f\"{kind}: {proportion}\")"
      ],
      "metadata": {
        "colab": {
          "base_uri": "https://localhost:8080/"
        },
        "id": "Wwe2eIaCh3Li",
        "outputId": "ba0c4c24-6b68-4b9f-caea-19b07f614985"
      },
      "execution_count": null,
      "outputs": [
        {
          "output_type": "stream",
          "name": "stdout",
          "text": [
            "Private: 0.2189\n",
            "Self-emp-inc: 0.5438\n",
            "Local-gov: 0.301\n",
            "State-gov: 0.2838\n",
            "Federal-gov: 0.3773\n",
            "Self-emp-not-inc: 0.2932\n",
            "Without-pay: 0.0\n"
          ]
        }
      ]
    },
    {
      "cell_type": "code",
      "source": [
        "# 한편, 결측치의 경우 제외시키기로 한다(최빈값 혹인 중위 값 등으로 채워넣기에는 무리가 있다.)\n",
        "train.dropna(subset=['workclass'], inplace=True)\n",
        "train.head()"
      ],
      "metadata": {
        "colab": {
          "base_uri": "https://localhost:8080/"
        },
        "id": "5pGooyyTkUbq",
        "outputId": "a010e558-1863-4517-ed46-60e79c6f941e"
      },
      "execution_count": null,
      "outputs": [
        {
          "output_type": "execute_result",
          "data": {
            "text/plain": [
              "   age workclass  fnlwgt     education  education.num      marital.status  \\\n",
              "0   32   Private  309513    Assoc-acdm             12  Married-civ-spouse   \n",
              "1   33   Private  205469  Some-college             10  Married-civ-spouse   \n",
              "2   46   Private  149949  Some-college             10  Married-civ-spouse   \n",
              "3   23   Private  193090     Bachelors             13       Never-married   \n",
              "4   55   Private   60193       HS-grad              9            Divorced   \n",
              "\n",
              "        occupation   relationship   race     sex  capital.gain  capital.loss  \\\n",
              "0     Craft-repair        Husband  White    Male             0             0   \n",
              "1  Exec-managerial        Husband  White    Male             0             0   \n",
              "2     Craft-repair        Husband  White    Male             0             0   \n",
              "3     Adm-clerical      Own-child  White  Female             0             0   \n",
              "4     Adm-clerical  Not-in-family  White  Female             0             0   \n",
              "\n",
              "   hours.per.week native.country  target  \n",
              "0              40  United-States       0  \n",
              "1              40  United-States       1  \n",
              "2              40  United-States       0  \n",
              "3              30  United-States       0  \n",
              "4              40  United-States       0  "
            ],
            "text/html": [
              "\n",
              "  <div id=\"df-44783dcb-96a9-4560-8634-25fc856914a2\">\n",
              "    <div class=\"colab-df-container\">\n",
              "      <div>\n",
              "<style scoped>\n",
              "    .dataframe tbody tr th:only-of-type {\n",
              "        vertical-align: middle;\n",
              "    }\n",
              "\n",
              "    .dataframe tbody tr th {\n",
              "        vertical-align: top;\n",
              "    }\n",
              "\n",
              "    .dataframe thead th {\n",
              "        text-align: right;\n",
              "    }\n",
              "</style>\n",
              "<table border=\"1\" class=\"dataframe\">\n",
              "  <thead>\n",
              "    <tr style=\"text-align: right;\">\n",
              "      <th></th>\n",
              "      <th>age</th>\n",
              "      <th>workclass</th>\n",
              "      <th>fnlwgt</th>\n",
              "      <th>education</th>\n",
              "      <th>education.num</th>\n",
              "      <th>marital.status</th>\n",
              "      <th>occupation</th>\n",
              "      <th>relationship</th>\n",
              "      <th>race</th>\n",
              "      <th>sex</th>\n",
              "      <th>capital.gain</th>\n",
              "      <th>capital.loss</th>\n",
              "      <th>hours.per.week</th>\n",
              "      <th>native.country</th>\n",
              "      <th>target</th>\n",
              "    </tr>\n",
              "  </thead>\n",
              "  <tbody>\n",
              "    <tr>\n",
              "      <th>0</th>\n",
              "      <td>32</td>\n",
              "      <td>Private</td>\n",
              "      <td>309513</td>\n",
              "      <td>Assoc-acdm</td>\n",
              "      <td>12</td>\n",
              "      <td>Married-civ-spouse</td>\n",
              "      <td>Craft-repair</td>\n",
              "      <td>Husband</td>\n",
              "      <td>White</td>\n",
              "      <td>Male</td>\n",
              "      <td>0</td>\n",
              "      <td>0</td>\n",
              "      <td>40</td>\n",
              "      <td>United-States</td>\n",
              "      <td>0</td>\n",
              "    </tr>\n",
              "    <tr>\n",
              "      <th>1</th>\n",
              "      <td>33</td>\n",
              "      <td>Private</td>\n",
              "      <td>205469</td>\n",
              "      <td>Some-college</td>\n",
              "      <td>10</td>\n",
              "      <td>Married-civ-spouse</td>\n",
              "      <td>Exec-managerial</td>\n",
              "      <td>Husband</td>\n",
              "      <td>White</td>\n",
              "      <td>Male</td>\n",
              "      <td>0</td>\n",
              "      <td>0</td>\n",
              "      <td>40</td>\n",
              "      <td>United-States</td>\n",
              "      <td>1</td>\n",
              "    </tr>\n",
              "    <tr>\n",
              "      <th>2</th>\n",
              "      <td>46</td>\n",
              "      <td>Private</td>\n",
              "      <td>149949</td>\n",
              "      <td>Some-college</td>\n",
              "      <td>10</td>\n",
              "      <td>Married-civ-spouse</td>\n",
              "      <td>Craft-repair</td>\n",
              "      <td>Husband</td>\n",
              "      <td>White</td>\n",
              "      <td>Male</td>\n",
              "      <td>0</td>\n",
              "      <td>0</td>\n",
              "      <td>40</td>\n",
              "      <td>United-States</td>\n",
              "      <td>0</td>\n",
              "    </tr>\n",
              "    <tr>\n",
              "      <th>3</th>\n",
              "      <td>23</td>\n",
              "      <td>Private</td>\n",
              "      <td>193090</td>\n",
              "      <td>Bachelors</td>\n",
              "      <td>13</td>\n",
              "      <td>Never-married</td>\n",
              "      <td>Adm-clerical</td>\n",
              "      <td>Own-child</td>\n",
              "      <td>White</td>\n",
              "      <td>Female</td>\n",
              "      <td>0</td>\n",
              "      <td>0</td>\n",
              "      <td>30</td>\n",
              "      <td>United-States</td>\n",
              "      <td>0</td>\n",
              "    </tr>\n",
              "    <tr>\n",
              "      <th>4</th>\n",
              "      <td>55</td>\n",
              "      <td>Private</td>\n",
              "      <td>60193</td>\n",
              "      <td>HS-grad</td>\n",
              "      <td>9</td>\n",
              "      <td>Divorced</td>\n",
              "      <td>Adm-clerical</td>\n",
              "      <td>Not-in-family</td>\n",
              "      <td>White</td>\n",
              "      <td>Female</td>\n",
              "      <td>0</td>\n",
              "      <td>0</td>\n",
              "      <td>40</td>\n",
              "      <td>United-States</td>\n",
              "      <td>0</td>\n",
              "    </tr>\n",
              "  </tbody>\n",
              "</table>\n",
              "</div>\n",
              "      <button class=\"colab-df-convert\" onclick=\"convertToInteractive('df-44783dcb-96a9-4560-8634-25fc856914a2')\"\n",
              "              title=\"Convert this dataframe to an interactive table.\"\n",
              "              style=\"display:none;\">\n",
              "        \n",
              "  <svg xmlns=\"http://www.w3.org/2000/svg\" height=\"24px\"viewBox=\"0 0 24 24\"\n",
              "       width=\"24px\">\n",
              "    <path d=\"M0 0h24v24H0V0z\" fill=\"none\"/>\n",
              "    <path d=\"M18.56 5.44l.94 2.06.94-2.06 2.06-.94-2.06-.94-.94-2.06-.94 2.06-2.06.94zm-11 1L8.5 8.5l.94-2.06 2.06-.94-2.06-.94L8.5 2.5l-.94 2.06-2.06.94zm10 10l.94 2.06.94-2.06 2.06-.94-2.06-.94-.94-2.06-.94 2.06-2.06.94z\"/><path d=\"M17.41 7.96l-1.37-1.37c-.4-.4-.92-.59-1.43-.59-.52 0-1.04.2-1.43.59L10.3 9.45l-7.72 7.72c-.78.78-.78 2.05 0 2.83L4 21.41c.39.39.9.59 1.41.59.51 0 1.02-.2 1.41-.59l7.78-7.78 2.81-2.81c.8-.78.8-2.07 0-2.86zM5.41 20L4 18.59l7.72-7.72 1.47 1.35L5.41 20z\"/>\n",
              "  </svg>\n",
              "      </button>\n",
              "      \n",
              "  <style>\n",
              "    .colab-df-container {\n",
              "      display:flex;\n",
              "      flex-wrap:wrap;\n",
              "      gap: 12px;\n",
              "    }\n",
              "\n",
              "    .colab-df-convert {\n",
              "      background-color: #E8F0FE;\n",
              "      border: none;\n",
              "      border-radius: 50%;\n",
              "      cursor: pointer;\n",
              "      display: none;\n",
              "      fill: #1967D2;\n",
              "      height: 32px;\n",
              "      padding: 0 0 0 0;\n",
              "      width: 32px;\n",
              "    }\n",
              "\n",
              "    .colab-df-convert:hover {\n",
              "      background-color: #E2EBFA;\n",
              "      box-shadow: 0px 1px 2px rgba(60, 64, 67, 0.3), 0px 1px 3px 1px rgba(60, 64, 67, 0.15);\n",
              "      fill: #174EA6;\n",
              "    }\n",
              "\n",
              "    [theme=dark] .colab-df-convert {\n",
              "      background-color: #3B4455;\n",
              "      fill: #D2E3FC;\n",
              "    }\n",
              "\n",
              "    [theme=dark] .colab-df-convert:hover {\n",
              "      background-color: #434B5C;\n",
              "      box-shadow: 0px 1px 3px 1px rgba(0, 0, 0, 0.15);\n",
              "      filter: drop-shadow(0px 1px 2px rgba(0, 0, 0, 0.3));\n",
              "      fill: #FFFFFF;\n",
              "    }\n",
              "  </style>\n",
              "\n",
              "      <script>\n",
              "        const buttonEl =\n",
              "          document.querySelector('#df-44783dcb-96a9-4560-8634-25fc856914a2 button.colab-df-convert');\n",
              "        buttonEl.style.display =\n",
              "          google.colab.kernel.accessAllowed ? 'block' : 'none';\n",
              "\n",
              "        async function convertToInteractive(key) {\n",
              "          const element = document.querySelector('#df-44783dcb-96a9-4560-8634-25fc856914a2');\n",
              "          const dataTable =\n",
              "            await google.colab.kernel.invokeFunction('convertToInteractive',\n",
              "                                                     [key], {});\n",
              "          if (!dataTable) return;\n",
              "\n",
              "          const docLinkHtml = 'Like what you see? Visit the ' +\n",
              "            '<a target=\"_blank\" href=https://colab.research.google.com/notebooks/data_table.ipynb>data table notebook</a>'\n",
              "            + ' to learn more about interactive tables.';\n",
              "          element.innerHTML = '';\n",
              "          dataTable['output_type'] = 'display_data';\n",
              "          await google.colab.output.renderOutput(dataTable, element);\n",
              "          const docLink = document.createElement('div');\n",
              "          docLink.innerHTML = docLinkHtml;\n",
              "          element.appendChild(docLink);\n",
              "        }\n",
              "      </script>\n",
              "    </div>\n",
              "  </div>\n",
              "  "
            ]
          },
          "metadata": {},
          "execution_count": 13
        }
      ]
    },
    {
      "cell_type": "code",
      "source": [
        "# 결측치 처리 결과, occupation에 있었던 결측치까지 함께 제거되었다\n",
        "train.isnull().sum()"
      ],
      "metadata": {
        "colab": {
          "base_uri": "https://localhost:8080/"
        },
        "id": "dDSDzI2ivAky",
        "outputId": "f8a8136b-a8f1-48e8-a6cf-59f74d064d14"
      },
      "execution_count": null,
      "outputs": [
        {
          "output_type": "execute_result",
          "data": {
            "text/plain": [
              "age                 0\n",
              "workclass           0\n",
              "fnlwgt              0\n",
              "education           0\n",
              "education.num       0\n",
              "marital.status      0\n",
              "occupation          0\n",
              "relationship        0\n",
              "race                0\n",
              "sex                 0\n",
              "capital.gain        0\n",
              "capital.loss        0\n",
              "hours.per.week      0\n",
              "native.country    556\n",
              "target              0\n",
              "dtype: int64"
            ]
          },
          "metadata": {},
          "execution_count": 14
        }
      ]
    },
    {
      "cell_type": "code",
      "source": [
        "map_class = {'Without-pay':0, 'Private':1, 'State-gov':2, 'Self-emp-not-inc':3, 'Local-gov':4, 'Federal-gov': 5, 'Self-emp-inc':6}\n",
        "train[['workclass']] = train[['workclass']].applymap(map_class.get)\n",
        "test[['workclass']] = test[['workclass']].applymap(map_class.get)"
      ],
      "metadata": {
        "id": "8t7eJT0ulC6W"
      },
      "execution_count": null,
      "outputs": []
    },
    {
      "cell_type": "markdown",
      "source": [
        "#### native country"
      ],
      "metadata": {
        "id": "Ngptt9Tev7Ib"
      }
    },
    {
      "cell_type": "code",
      "source": [
        "print(\"number of unique values: \", train['native.country'].nunique())\n",
        "train['native.country'].value_counts()"
      ],
      "metadata": {
        "colab": {
          "base_uri": "https://localhost:8080/"
        },
        "id": "UFBXcjBCv9K-",
        "outputId": "d6eebf45-b54e-483c-b512-09f32ecea482"
      },
      "execution_count": null,
      "outputs": [
        {
          "output_type": "stream",
          "name": "stdout",
          "text": [
            "number of unique values:  41\n"
          ]
        },
        {
          "output_type": "execute_result",
          "data": {
            "text/plain": [
              "United-States                 13727\n",
              "Mexico                          322\n",
              "Philippines                      98\n",
              "Germany                          66\n",
              "Puerto-Rico                      54\n",
              "El-Salvador                      52\n",
              "Canada                           49\n",
              "India                            47\n",
              "Cuba                             46\n",
              "England                          42\n",
              "Jamaica                          41\n",
              "Dominican-Republic               35\n",
              "Guatemala                        35\n",
              "Columbia                         34\n",
              "China                            33\n",
              "Italy                            33\n",
              "Poland                           31\n",
              "South                            30\n",
              "Japan                            30\n",
              "Vietnam                          29\n",
              "Haiti                            21\n",
              "Taiwan                           19\n",
              "Nicaragua                        19\n",
              "Ecuador                          18\n",
              "Ireland                          18\n",
              "Portugal                         17\n",
              "Iran                             16\n",
              "Peru                             16\n",
              "Greece                           14\n",
              "France                           12\n",
              "Cambodia                         10\n",
              "Laos                              9\n",
              "Yugoslavia                        9\n",
              "Trinadad&Tobago                   9\n",
              "Hong                              8\n",
              "Hungary                           7\n",
              "Outlying-US(Guam-USVI-etc)        7\n",
              "Honduras                          6\n",
              "Scotland                          6\n",
              "Thailand                          5\n",
              "Holand-Netherlands                1\n",
              "Name: native.country, dtype: int64"
            ]
          },
          "metadata": {},
          "execution_count": 16
        }
      ]
    },
    {
      "cell_type": "code",
      "source": [
        "#Holand-Netherlands가 없다는 것을 제외하고 같은 나라들이다.\n",
        "print(\"number of unique values: \", test['native.country'].nunique())\n",
        "test['native.country'].value_counts()"
      ],
      "metadata": {
        "colab": {
          "base_uri": "https://localhost:8080/"
        },
        "id": "pfrQVdNLwQG7",
        "outputId": "83fa4fce-1a03-418e-8115-2051853d1040"
      },
      "execution_count": null,
      "outputs": [
        {
          "output_type": "stream",
          "name": "stdout",
          "text": [
            "number of unique values:  40\n"
          ]
        },
        {
          "output_type": "execute_result",
          "data": {
            "text/plain": [
              "United-States                 13777\n",
              "Mexico                          288\n",
              "Philippines                      90\n",
              "Germany                          62\n",
              "Canada                           58\n",
              "Puerto-Rico                      55\n",
              "India                            53\n",
              "El-Salvador                      48\n",
              "Cuba                             46\n",
              "England                          44\n",
              "South                            41\n",
              "Jamaica                          39\n",
              "China                            35\n",
              "Vietnam                          35\n",
              "Italy                            35\n",
              "Dominican-Republic               32\n",
              "Japan                            29\n",
              "Guatemala                        28\n",
              "Iran                             26\n",
              "Poland                           25\n",
              "Taiwan                           23\n",
              "Columbia                         22\n",
              "Haiti                            21\n",
              "Portugal                         17\n",
              "Greece                           15\n",
              "France                           15\n",
              "Peru                             14\n",
              "Nicaragua                        14\n",
              "Thailand                         12\n",
              "Hong                             11\n",
              "Ecuador                           9\n",
              "Trinadad&Tobago                   9\n",
              "Cambodia                          8\n",
              "Laos                              8\n",
              "Yugoslavia                        7\n",
              "Outlying-US(Guam-USVI-etc)        7\n",
              "Honduras                          6\n",
              "Hungary                           6\n",
              "Ireland                           6\n",
              "Scotland                          5\n",
              "Name: native.country, dtype: int64"
            ]
          },
          "metadata": {},
          "execution_count": 17
        }
      ]
    },
    {
      "cell_type": "code",
      "source": [
        "# native.country가 NaN인 경우에 대해서는 일단 전체 관측치들 중 native.country가 United-states인 경우가 압도적으로 많으므로 United-states로 설정하자\n",
        "train['native.country'] = train['native.country'].fillna('United-States')"
      ],
      "metadata": {
        "id": "qKZjyMIJwT9R"
      },
      "execution_count": null,
      "outputs": []
    },
    {
      "cell_type": "code",
      "source": [
        "# train에서 Holand-Netherlands인 관측치를 삭제한다.\n",
        "train = train[train['native.country'] != 'Holand-Netherlands']"
      ],
      "metadata": {
        "id": "Q59GKP_6yTs_"
      },
      "execution_count": null,
      "outputs": []
    },
    {
      "cell_type": "code",
      "source": [
        "# train에서 target이 1인 비율이 높은 순으로 label을 정하기로 한다\n",
        "country = test['native.country'].unique()\n",
        "country_dict = {}\n",
        "for nation in country:\n",
        "  data = train[train['native.country'] == nation]\n",
        "  proportion = round(np.sum(data['target']) / len(data),4)\n",
        "  country_dict[nation] = proportion\n",
        "country_df = pd.DataFrame(index=country_dict.keys(), data=country_dict.values())\n",
        "country_df.rename(columns={0:'proportion'}, inplace=True)\n",
        "display(country_df.head())"
      ],
      "metadata": {
        "colab": {
          "base_uri": "https://localhost:8080/"
        },
        "id": "l7z_HyyB0smJ",
        "outputId": "7c4c033d-e013-48d2-c84d-d986a8e475ed"
      },
      "execution_count": null,
      "outputs": [
        {
          "output_type": "display_data",
          "data": {
            "text/plain": [
              "               proportion\n",
              "United-States      0.2569\n",
              "Mexico             0.0497\n",
              "Vietnam            0.0345\n",
              "Iran               0.6875\n",
              "China              0.2424"
            ],
            "text/html": [
              "\n",
              "  <div id=\"df-b4a25cf0-f815-4219-bf3e-48d4f02168e3\">\n",
              "    <div class=\"colab-df-container\">\n",
              "      <div>\n",
              "<style scoped>\n",
              "    .dataframe tbody tr th:only-of-type {\n",
              "        vertical-align: middle;\n",
              "    }\n",
              "\n",
              "    .dataframe tbody tr th {\n",
              "        vertical-align: top;\n",
              "    }\n",
              "\n",
              "    .dataframe thead th {\n",
              "        text-align: right;\n",
              "    }\n",
              "</style>\n",
              "<table border=\"1\" class=\"dataframe\">\n",
              "  <thead>\n",
              "    <tr style=\"text-align: right;\">\n",
              "      <th></th>\n",
              "      <th>proportion</th>\n",
              "    </tr>\n",
              "  </thead>\n",
              "  <tbody>\n",
              "    <tr>\n",
              "      <th>United-States</th>\n",
              "      <td>0.2569</td>\n",
              "    </tr>\n",
              "    <tr>\n",
              "      <th>Mexico</th>\n",
              "      <td>0.0497</td>\n",
              "    </tr>\n",
              "    <tr>\n",
              "      <th>Vietnam</th>\n",
              "      <td>0.0345</td>\n",
              "    </tr>\n",
              "    <tr>\n",
              "      <th>Iran</th>\n",
              "      <td>0.6875</td>\n",
              "    </tr>\n",
              "    <tr>\n",
              "      <th>China</th>\n",
              "      <td>0.2424</td>\n",
              "    </tr>\n",
              "  </tbody>\n",
              "</table>\n",
              "</div>\n",
              "      <button class=\"colab-df-convert\" onclick=\"convertToInteractive('df-b4a25cf0-f815-4219-bf3e-48d4f02168e3')\"\n",
              "              title=\"Convert this dataframe to an interactive table.\"\n",
              "              style=\"display:none;\">\n",
              "        \n",
              "  <svg xmlns=\"http://www.w3.org/2000/svg\" height=\"24px\"viewBox=\"0 0 24 24\"\n",
              "       width=\"24px\">\n",
              "    <path d=\"M0 0h24v24H0V0z\" fill=\"none\"/>\n",
              "    <path d=\"M18.56 5.44l.94 2.06.94-2.06 2.06-.94-2.06-.94-.94-2.06-.94 2.06-2.06.94zm-11 1L8.5 8.5l.94-2.06 2.06-.94-2.06-.94L8.5 2.5l-.94 2.06-2.06.94zm10 10l.94 2.06.94-2.06 2.06-.94-2.06-.94-.94-2.06-.94 2.06-2.06.94z\"/><path d=\"M17.41 7.96l-1.37-1.37c-.4-.4-.92-.59-1.43-.59-.52 0-1.04.2-1.43.59L10.3 9.45l-7.72 7.72c-.78.78-.78 2.05 0 2.83L4 21.41c.39.39.9.59 1.41.59.51 0 1.02-.2 1.41-.59l7.78-7.78 2.81-2.81c.8-.78.8-2.07 0-2.86zM5.41 20L4 18.59l7.72-7.72 1.47 1.35L5.41 20z\"/>\n",
              "  </svg>\n",
              "      </button>\n",
              "      \n",
              "  <style>\n",
              "    .colab-df-container {\n",
              "      display:flex;\n",
              "      flex-wrap:wrap;\n",
              "      gap: 12px;\n",
              "    }\n",
              "\n",
              "    .colab-df-convert {\n",
              "      background-color: #E8F0FE;\n",
              "      border: none;\n",
              "      border-radius: 50%;\n",
              "      cursor: pointer;\n",
              "      display: none;\n",
              "      fill: #1967D2;\n",
              "      height: 32px;\n",
              "      padding: 0 0 0 0;\n",
              "      width: 32px;\n",
              "    }\n",
              "\n",
              "    .colab-df-convert:hover {\n",
              "      background-color: #E2EBFA;\n",
              "      box-shadow: 0px 1px 2px rgba(60, 64, 67, 0.3), 0px 1px 3px 1px rgba(60, 64, 67, 0.15);\n",
              "      fill: #174EA6;\n",
              "    }\n",
              "\n",
              "    [theme=dark] .colab-df-convert {\n",
              "      background-color: #3B4455;\n",
              "      fill: #D2E3FC;\n",
              "    }\n",
              "\n",
              "    [theme=dark] .colab-df-convert:hover {\n",
              "      background-color: #434B5C;\n",
              "      box-shadow: 0px 1px 3px 1px rgba(0, 0, 0, 0.15);\n",
              "      filter: drop-shadow(0px 1px 2px rgba(0, 0, 0, 0.3));\n",
              "      fill: #FFFFFF;\n",
              "    }\n",
              "  </style>\n",
              "\n",
              "      <script>\n",
              "        const buttonEl =\n",
              "          document.querySelector('#df-b4a25cf0-f815-4219-bf3e-48d4f02168e3 button.colab-df-convert');\n",
              "        buttonEl.style.display =\n",
              "          google.colab.kernel.accessAllowed ? 'block' : 'none';\n",
              "\n",
              "        async function convertToInteractive(key) {\n",
              "          const element = document.querySelector('#df-b4a25cf0-f815-4219-bf3e-48d4f02168e3');\n",
              "          const dataTable =\n",
              "            await google.colab.kernel.invokeFunction('convertToInteractive',\n",
              "                                                     [key], {});\n",
              "          if (!dataTable) return;\n",
              "\n",
              "          const docLinkHtml = 'Like what you see? Visit the ' +\n",
              "            '<a target=\"_blank\" href=https://colab.research.google.com/notebooks/data_table.ipynb>data table notebook</a>'\n",
              "            + ' to learn more about interactive tables.';\n",
              "          element.innerHTML = '';\n",
              "          dataTable['output_type'] = 'display_data';\n",
              "          await google.colab.output.renderOutput(dataTable, element);\n",
              "          const docLink = document.createElement('div');\n",
              "          docLink.innerHTML = docLinkHtml;\n",
              "          element.appendChild(docLink);\n",
              "        }\n",
              "      </script>\n",
              "    </div>\n",
              "  </div>\n",
              "  "
            ]
          },
          "metadata": {}
        }
      ]
    },
    {
      "cell_type": "code",
      "source": [
        "country_df = country_df.sort_values(by='proportion', ascending=False)\n",
        "country_df.head()"
      ],
      "metadata": {
        "colab": {
          "base_uri": "https://localhost:8080/"
        },
        "id": "PWoyn8df4tzQ",
        "outputId": "24199e19-2059-4feb-e133-3e928f1b23ac"
      },
      "execution_count": null,
      "outputs": [
        {
          "output_type": "execute_result",
          "data": {
            "text/plain": [
              "            proportion\n",
              "Iran            0.6875\n",
              "Yugoslavia      0.4444\n",
              "India           0.4043\n",
              "Japan           0.4000\n",
              "Canada          0.3878"
            ],
            "text/html": [
              "\n",
              "  <div id=\"df-1ac0feb9-88eb-411a-b53e-d78f7a2e46e4\">\n",
              "    <div class=\"colab-df-container\">\n",
              "      <div>\n",
              "<style scoped>\n",
              "    .dataframe tbody tr th:only-of-type {\n",
              "        vertical-align: middle;\n",
              "    }\n",
              "\n",
              "    .dataframe tbody tr th {\n",
              "        vertical-align: top;\n",
              "    }\n",
              "\n",
              "    .dataframe thead th {\n",
              "        text-align: right;\n",
              "    }\n",
              "</style>\n",
              "<table border=\"1\" class=\"dataframe\">\n",
              "  <thead>\n",
              "    <tr style=\"text-align: right;\">\n",
              "      <th></th>\n",
              "      <th>proportion</th>\n",
              "    </tr>\n",
              "  </thead>\n",
              "  <tbody>\n",
              "    <tr>\n",
              "      <th>Iran</th>\n",
              "      <td>0.6875</td>\n",
              "    </tr>\n",
              "    <tr>\n",
              "      <th>Yugoslavia</th>\n",
              "      <td>0.4444</td>\n",
              "    </tr>\n",
              "    <tr>\n",
              "      <th>India</th>\n",
              "      <td>0.4043</td>\n",
              "    </tr>\n",
              "    <tr>\n",
              "      <th>Japan</th>\n",
              "      <td>0.4000</td>\n",
              "    </tr>\n",
              "    <tr>\n",
              "      <th>Canada</th>\n",
              "      <td>0.3878</td>\n",
              "    </tr>\n",
              "  </tbody>\n",
              "</table>\n",
              "</div>\n",
              "      <button class=\"colab-df-convert\" onclick=\"convertToInteractive('df-1ac0feb9-88eb-411a-b53e-d78f7a2e46e4')\"\n",
              "              title=\"Convert this dataframe to an interactive table.\"\n",
              "              style=\"display:none;\">\n",
              "        \n",
              "  <svg xmlns=\"http://www.w3.org/2000/svg\" height=\"24px\"viewBox=\"0 0 24 24\"\n",
              "       width=\"24px\">\n",
              "    <path d=\"M0 0h24v24H0V0z\" fill=\"none\"/>\n",
              "    <path d=\"M18.56 5.44l.94 2.06.94-2.06 2.06-.94-2.06-.94-.94-2.06-.94 2.06-2.06.94zm-11 1L8.5 8.5l.94-2.06 2.06-.94-2.06-.94L8.5 2.5l-.94 2.06-2.06.94zm10 10l.94 2.06.94-2.06 2.06-.94-2.06-.94-.94-2.06-.94 2.06-2.06.94z\"/><path d=\"M17.41 7.96l-1.37-1.37c-.4-.4-.92-.59-1.43-.59-.52 0-1.04.2-1.43.59L10.3 9.45l-7.72 7.72c-.78.78-.78 2.05 0 2.83L4 21.41c.39.39.9.59 1.41.59.51 0 1.02-.2 1.41-.59l7.78-7.78 2.81-2.81c.8-.78.8-2.07 0-2.86zM5.41 20L4 18.59l7.72-7.72 1.47 1.35L5.41 20z\"/>\n",
              "  </svg>\n",
              "      </button>\n",
              "      \n",
              "  <style>\n",
              "    .colab-df-container {\n",
              "      display:flex;\n",
              "      flex-wrap:wrap;\n",
              "      gap: 12px;\n",
              "    }\n",
              "\n",
              "    .colab-df-convert {\n",
              "      background-color: #E8F0FE;\n",
              "      border: none;\n",
              "      border-radius: 50%;\n",
              "      cursor: pointer;\n",
              "      display: none;\n",
              "      fill: #1967D2;\n",
              "      height: 32px;\n",
              "      padding: 0 0 0 0;\n",
              "      width: 32px;\n",
              "    }\n",
              "\n",
              "    .colab-df-convert:hover {\n",
              "      background-color: #E2EBFA;\n",
              "      box-shadow: 0px 1px 2px rgba(60, 64, 67, 0.3), 0px 1px 3px 1px rgba(60, 64, 67, 0.15);\n",
              "      fill: #174EA6;\n",
              "    }\n",
              "\n",
              "    [theme=dark] .colab-df-convert {\n",
              "      background-color: #3B4455;\n",
              "      fill: #D2E3FC;\n",
              "    }\n",
              "\n",
              "    [theme=dark] .colab-df-convert:hover {\n",
              "      background-color: #434B5C;\n",
              "      box-shadow: 0px 1px 3px 1px rgba(0, 0, 0, 0.15);\n",
              "      filter: drop-shadow(0px 1px 2px rgba(0, 0, 0, 0.3));\n",
              "      fill: #FFFFFF;\n",
              "    }\n",
              "  </style>\n",
              "\n",
              "      <script>\n",
              "        const buttonEl =\n",
              "          document.querySelector('#df-1ac0feb9-88eb-411a-b53e-d78f7a2e46e4 button.colab-df-convert');\n",
              "        buttonEl.style.display =\n",
              "          google.colab.kernel.accessAllowed ? 'block' : 'none';\n",
              "\n",
              "        async function convertToInteractive(key) {\n",
              "          const element = document.querySelector('#df-1ac0feb9-88eb-411a-b53e-d78f7a2e46e4');\n",
              "          const dataTable =\n",
              "            await google.colab.kernel.invokeFunction('convertToInteractive',\n",
              "                                                     [key], {});\n",
              "          if (!dataTable) return;\n",
              "\n",
              "          const docLinkHtml = 'Like what you see? Visit the ' +\n",
              "            '<a target=\"_blank\" href=https://colab.research.google.com/notebooks/data_table.ipynb>data table notebook</a>'\n",
              "            + ' to learn more about interactive tables.';\n",
              "          element.innerHTML = '';\n",
              "          dataTable['output_type'] = 'display_data';\n",
              "          await google.colab.output.renderOutput(dataTable, element);\n",
              "          const docLink = document.createElement('div');\n",
              "          docLink.innerHTML = docLinkHtml;\n",
              "          element.appendChild(docLink);\n",
              "        }\n",
              "      </script>\n",
              "    </div>\n",
              "  </div>\n",
              "  "
            ]
          },
          "metadata": {},
          "execution_count": 21
        }
      ]
    },
    {
      "cell_type": "code",
      "source": [
        "map_class2 ={}\n",
        "for i in range(40):\n",
        "  map_class2[country_df.index[i]] = i\n",
        "train[['native.country']] = train[['native.country']].applymap(map_class2.get)\n",
        "test[['native.country']] = test[['native.country']].applymap(map_class2.get)"
      ],
      "metadata": {
        "id": "Lpx7uHoU3lkU"
      },
      "execution_count": null,
      "outputs": []
    },
    {
      "cell_type": "markdown",
      "source": [
        "#### education"
      ],
      "metadata": {
        "id": "v2kjcwzVmurB"
      }
    },
    {
      "cell_type": "code",
      "source": [
        "print(\"number of unique values: \", train['education'].nunique())\n",
        "train['education'].value_counts()"
      ],
      "metadata": {
        "colab": {
          "base_uri": "https://localhost:8080/"
        },
        "id": "f8DVJ7TYmwDf",
        "outputId": "44d2999b-90dc-4d2d-bdbc-b355e0cb3c09"
      },
      "execution_count": null,
      "outputs": [
        {
          "output_type": "stream",
          "name": "stdout",
          "text": [
            "number of unique values:  16\n"
          ]
        },
        {
          "output_type": "execute_result",
          "data": {
            "text/plain": [
              "HS-grad         5033\n",
              "Some-college    3388\n",
              "Bachelors       2669\n",
              "Masters          873\n",
              "Assoc-voc        663\n",
              "11th             545\n",
              "Assoc-acdm       541\n",
              "10th             408\n",
              "7th-8th          305\n",
              "Prof-school      283\n",
              "9th              243\n",
              "12th             209\n",
              "Doctorate        199\n",
              "5th-6th          167\n",
              "1st-4th           84\n",
              "Preschool         26\n",
              "Name: education, dtype: int64"
            ]
          },
          "metadata": {},
          "execution_count": 23
        }
      ]
    },
    {
      "cell_type": "code",
      "source": [
        "print(\"number of unique values: \",test['education'].nunique())\n",
        "test['education'].value_counts()"
      ],
      "metadata": {
        "colab": {
          "base_uri": "https://localhost:8080/"
        },
        "id": "_Rj8y0aKm8Q1",
        "outputId": "f1d18f13-287c-48f3-8c14-1d8994f55d32"
      },
      "execution_count": null,
      "outputs": [
        {
          "output_type": "stream",
          "name": "stdout",
          "text": [
            "number of unique values:  16\n"
          ]
        },
        {
          "output_type": "execute_result",
          "data": {
            "text/plain": [
              "HS-grad         4935\n",
              "Some-college    3386\n",
              "Bachelors       2513\n",
              "Masters          802\n",
              "Assoc-voc        658\n",
              "11th             511\n",
              "Assoc-acdm       479\n",
              "10th             423\n",
              "Prof-school      275\n",
              "7th-8th          268\n",
              "9th              220\n",
              "Doctorate        199\n",
              "12th             184\n",
              "5th-6th          136\n",
              "1st-4th           72\n",
              "Preschool         20\n",
              "Name: education, dtype: int64"
            ]
          },
          "metadata": {},
          "execution_count": 24
        }
      ]
    },
    {
      "cell_type": "code",
      "source": [
        "# train과 test의 범주가 같고, 각각의 범주가 무엇을 의미하는 지 알고 있다. \n",
        "# 교육수준이 낮은 순서부터 높은 순서대로 label을 정하기로 하자.\n",
        "map_class3 = {'Preschool':0, '1st-4th':1, '5th-6th':2, '7th-8th':3, '9th':4, '10th': 5, '11th':6,\n",
        "              '12th':7, 'HS-grad':8, 'Prof-school':9, 'Assoc-acdm':10, 'Assoc-voc':11,\n",
        "              'Some-college':12, 'Bachelors':13, 'Masters':14, 'Doctorate':15}\n",
        "train[['education']] = train[['education']].applymap(map_class3.get)\n",
        "test[['education']] = test[['education']].applymap(map_class3.get)"
      ],
      "metadata": {
        "id": "NS3sqv1sndJM"
      },
      "execution_count": null,
      "outputs": []
    },
    {
      "cell_type": "markdown",
      "source": [
        "#### marital.status"
      ],
      "metadata": {
        "id": "iwnR75-KpShJ"
      }
    },
    {
      "cell_type": "code",
      "source": [
        "print(\"number of unique values: \", train['marital.status'].nunique())\n",
        "train['marital.status'].value_counts()"
      ],
      "metadata": {
        "colab": {
          "base_uri": "https://localhost:8080/"
        },
        "id": "3qgEl0CKpWol",
        "outputId": "e2eb3a03-040b-457c-a146-6d16c7571087"
      },
      "execution_count": null,
      "outputs": [
        {
          "output_type": "stream",
          "name": "stdout",
          "text": [
            "number of unique values:  7\n"
          ]
        },
        {
          "output_type": "execute_result",
          "data": {
            "text/plain": [
              "Married-civ-spouse       7366\n",
              "Never-married            4999\n",
              "Divorced                 2130\n",
              "Separated                 474\n",
              "Widowed                   437\n",
              "Married-spouse-absent     218\n",
              "Married-AF-spouse          12\n",
              "Name: marital.status, dtype: int64"
            ]
          },
          "metadata": {},
          "execution_count": 26
        }
      ]
    },
    {
      "cell_type": "code",
      "source": [
        "print(\"number of unique values: \", test['marital.status'].nunique())\n",
        "test['marital.status'].value_counts()"
      ],
      "metadata": {
        "colab": {
          "base_uri": "https://localhost:8080/"
        },
        "id": "dCK5FERgpnyC",
        "outputId": "8b261344-0b8a-4495-8169-c91b8e5d0792"
      },
      "execution_count": null,
      "outputs": [
        {
          "output_type": "stream",
          "name": "stdout",
          "text": [
            "number of unique values:  7\n"
          ]
        },
        {
          "output_type": "execute_result",
          "data": {
            "text/plain": [
              "Married-civ-spouse       6973\n",
              "Never-married            4912\n",
              "Divorced                 2128\n",
              "Separated                 485\n",
              "Widowed                   403\n",
              "Married-spouse-absent     171\n",
              "Married-AF-spouse           9\n",
              "Name: marital.status, dtype: int64"
            ]
          },
          "metadata": {},
          "execution_count": 27
        }
      ]
    },
    {
      "cell_type": "code",
      "source": [
        "# train에서 target이 1인 비율이 높은 순으로 label을 정하기로 한다\n",
        "# 따라서 Married-civ-spouse, Married-AF-spouse, Divorced, Widowed, Married-spouse-absent, Separated, Never-married 순으로 label을 정하기로 하자.\n",
        "marital_status = test['marital.status'].unique()\n",
        "\n",
        "for status in marital_status:\n",
        "  data = train[train['marital.status'] == status]\n",
        "  proportion = round(np.sum(data['target']) / len(data),4)\n",
        "  print(f\"{status}: {proportion}\")"
      ],
      "metadata": {
        "colab": {
          "base_uri": "https://localhost:8080/"
        },
        "id": "NgMn1OUtp3Zz",
        "outputId": "89ea63a7-eb21-400c-ebea-764df3ed9f76"
      },
      "execution_count": null,
      "outputs": [
        {
          "output_type": "stream",
          "name": "stdout",
          "text": [
            "Married-civ-spouse: 0.4519\n",
            "Never-married: 0.0488\n",
            "Widowed: 0.1007\n",
            "Divorced: 0.1131\n",
            "Married-spouse-absent: 0.0826\n",
            "Separated: 0.0717\n",
            "Married-AF-spouse: 0.4167\n"
          ]
        }
      ]
    },
    {
      "cell_type": "code",
      "source": [
        "map_class4 = {'Never-married':0, 'Separated':1, 'Married-spouse-absent':2, 'Widowed':3, 'Divorced':4, 'Married-AF-spouse': 5, 'Married-civ-spouse':6}\n",
        "train[['marital.status']] = train[['marital.status']].applymap(map_class4.get)\n",
        "test[['marital.status']] = test[['marital.status']].applymap(map_class4.get)"
      ],
      "metadata": {
        "id": "iyg-4YZWqyv2"
      },
      "execution_count": null,
      "outputs": []
    },
    {
      "cell_type": "markdown",
      "source": [
        "#### occupation"
      ],
      "metadata": {
        "id": "onRAEMrjsf0L"
      }
    },
    {
      "cell_type": "code",
      "source": [
        "print(\"number of unique values: \", train['occupation'].nunique())\n",
        "train['occupation'].value_counts()"
      ],
      "metadata": {
        "colab": {
          "base_uri": "https://localhost:8080/"
        },
        "id": "1AoilrbAsk-x",
        "outputId": "73216c28-6f46-4d9c-e7ec-f70c84c4107f"
      },
      "execution_count": null,
      "outputs": [
        {
          "output_type": "stream",
          "name": "stdout",
          "text": [
            "number of unique values:  14\n"
          ]
        },
        {
          "output_type": "execute_result",
          "data": {
            "text/plain": [
              "Exec-managerial      2113\n",
              "Craft-repair         2101\n",
              "Prof-specialty       2085\n",
              "Adm-clerical         1893\n",
              "Sales                1829\n",
              "Other-service        1677\n",
              "Machine-op-inspct    1039\n",
              "Transport-moving      785\n",
              "Handlers-cleaners     695\n",
              "Farming-fishing       508\n",
              "Tech-support          475\n",
              "Protective-serv       350\n",
              "Priv-house-serv        83\n",
              "Armed-Forces            3\n",
              "Name: occupation, dtype: int64"
            ]
          },
          "metadata": {},
          "execution_count": 30
        }
      ]
    },
    {
      "cell_type": "code",
      "source": [
        "print(\"number of unique values: \", train['occupation'].nunique())\n",
        "test['occupation'].value_counts()"
      ],
      "metadata": {
        "colab": {
          "base_uri": "https://localhost:8080/"
        },
        "id": "T_0b12icsqnA",
        "outputId": "8f54f361-2751-4da4-a4f0-82dc715fcd20"
      },
      "execution_count": null,
      "outputs": [
        {
          "output_type": "stream",
          "name": "stdout",
          "text": [
            "number of unique values:  14\n"
          ]
        },
        {
          "output_type": "execute_result",
          "data": {
            "text/plain": [
              "Prof-specialty       2055\n",
              "Craft-repair         1998\n",
              "Exec-managerial      1953\n",
              "Adm-clerical         1877\n",
              "Sales                1821\n",
              "Other-service        1618\n",
              "Machine-op-inspct     962\n",
              "Transport-moving      812\n",
              "Handlers-cleaners     675\n",
              "Farming-fishing       486\n",
              "Tech-support          453\n",
              "Protective-serv       299\n",
              "Priv-house-serv        66\n",
              "Armed-Forces            6\n",
              "Name: occupation, dtype: int64"
            ]
          },
          "metadata": {},
          "execution_count": 31
        }
      ]
    },
    {
      "cell_type": "code",
      "source": [
        "# train에서 target이 1인 비율이 높은 순으로 label을 정하기로 한다\n",
        "occupations = test['occupation'].unique()\n",
        "\n",
        "for job in occupations:\n",
        "  data = train[train['occupation'] == job]\n",
        "  proportion = round(np.sum(data['target']) / len(data),4)\n",
        "  print(f\"{job}: {proportion}\")"
      ],
      "metadata": {
        "colab": {
          "base_uri": "https://localhost:8080/"
        },
        "id": "iAzdUb24suLA",
        "outputId": "b012ac87-2885-42e0-daa6-97ce483ee236"
      },
      "execution_count": null,
      "outputs": [
        {
          "output_type": "stream",
          "name": "stdout",
          "text": [
            "Exec-managerial: 0.4841\n",
            "Sales: 0.2712\n",
            "Craft-repair: 0.227\n",
            "Prof-specialty: 0.4523\n",
            "Adm-clerical: 0.1384\n",
            "Other-service: 0.0429\n",
            "Protective-serv: 0.3229\n",
            "Handlers-cleaners: 0.0561\n",
            "Transport-moving: 0.1911\n",
            "Tech-support: 0.2989\n",
            "Machine-op-inspct: 0.128\n",
            "Farming-fishing: 0.128\n",
            "Priv-house-serv: 0.0\n",
            "Armed-Forces: 0.0\n"
          ]
        }
      ]
    },
    {
      "cell_type": "code",
      "source": [
        "map_class5 = {'Armed-Forces':0, 'Priv-house-serv':1, 'Other-service':2, 'Handlers-cleaners':3, 'Machine-op-inspct':4, \n",
        "              'Farming-fishing': 5, 'Adm-clerical':6, 'Transport-moving':7, 'Craft-repair':8, 'Sales':9,\n",
        "              'Tech-support':10, 'Protective-serv':11, 'Prof-specialty':12, 'Exec-managerial':13}\n",
        "train[['occupation']] = train[['occupation']].applymap(map_class5.get)\n",
        "test[['occupation']] = test[['occupation']].applymap(map_class5.get)"
      ],
      "metadata": {
        "id": "MpD5DqRctIWL"
      },
      "execution_count": null,
      "outputs": []
    },
    {
      "cell_type": "markdown",
      "source": [
        "#### relationship"
      ],
      "metadata": {
        "id": "tHk0wz1I6ety"
      }
    },
    {
      "cell_type": "code",
      "source": [
        "print(\"number of unique values: \", train['relationship'].nunique())\n",
        "train['relationship'].value_counts()"
      ],
      "metadata": {
        "colab": {
          "base_uri": "https://localhost:8080/"
        },
        "id": "PQAp9H046gt7",
        "outputId": "64d50542-0a1f-41ce-bb46-42124612f200"
      },
      "execution_count": null,
      "outputs": [
        {
          "output_type": "stream",
          "name": "stdout",
          "text": [
            "number of unique values:  6\n"
          ]
        },
        {
          "output_type": "execute_result",
          "data": {
            "text/plain": [
              "Husband           6483\n",
              "Not-in-family     3975\n",
              "Own-child         2291\n",
              "Unmarried         1647\n",
              "Wife               771\n",
              "Other-relative     469\n",
              "Name: relationship, dtype: int64"
            ]
          },
          "metadata": {},
          "execution_count": 34
        }
      ]
    },
    {
      "cell_type": "code",
      "source": [
        "print(\"number of unique values: \", test['relationship'].nunique())\n",
        "test['relationship'].value_counts()"
      ],
      "metadata": {
        "colab": {
          "base_uri": "https://localhost:8080/"
        },
        "id": "DRlsAWeS61aN",
        "outputId": "65c49fe6-397e-490f-87bc-221eff1b8a6a"
      },
      "execution_count": null,
      "outputs": [
        {
          "output_type": "stream",
          "name": "stdout",
          "text": [
            "number of unique values:  6\n"
          ]
        },
        {
          "output_type": "execute_result",
          "data": {
            "text/plain": [
              "Husband           6221\n",
              "Not-in-family     3890\n",
              "Own-child         2234\n",
              "Unmarried         1624\n",
              "Wife               664\n",
              "Other-relative     448\n",
              "Name: relationship, dtype: int64"
            ]
          },
          "metadata": {},
          "execution_count": 35
        }
      ]
    },
    {
      "cell_type": "code",
      "source": [
        "# train에서 target이 1인 비율이 높은 순으로 label을 정하기로 한다\n",
        "relationship = test['relationship'].unique()\n",
        "\n",
        "for relation in relationship:\n",
        "  data = train[train['relationship'] == relation]\n",
        "  proportion = round(np.sum(data['target']) / len(data),4)\n",
        "  print(f\"{relation}: {proportion}\")"
      ],
      "metadata": {
        "colab": {
          "base_uri": "https://localhost:8080/"
        },
        "id": "YGy1crMJ65cT",
        "outputId": "7b8464f8-cff7-4646-adc3-e15c036cd43f"
      },
      "execution_count": null,
      "outputs": [
        {
          "output_type": "stream",
          "name": "stdout",
          "text": [
            "Husband: 0.454\n",
            "Not-in-family: 0.1117\n",
            "Unmarried: 0.0638\n",
            "Own-child: 0.0162\n",
            "Other-relative: 0.0426\n",
            "Wife: 0.4747\n"
          ]
        }
      ]
    },
    {
      "cell_type": "code",
      "source": [
        "map_class6 = {'Own-child':0, 'Other-relative':1, 'Unmarried':2, 'Not-in-family':3, 'Husband':4, 'Wife': 5}\n",
        "train[['relationship']] = train[['relationship']].applymap(map_class6.get)\n",
        "test[['relationship']] = test[['relationship']].applymap(map_class6.get)"
      ],
      "metadata": {
        "id": "sjyjB0U67TX-"
      },
      "execution_count": null,
      "outputs": []
    },
    {
      "cell_type": "markdown",
      "source": [
        "#### race"
      ],
      "metadata": {
        "id": "Kb0jtvmK778g"
      }
    },
    {
      "cell_type": "code",
      "source": [
        "print(\"number of unique values: \", train['race'].nunique())\n",
        "train['race'].value_counts()"
      ],
      "metadata": {
        "colab": {
          "base_uri": "https://localhost:8080/"
        },
        "id": "a680JbX779Rh",
        "outputId": "4f5383dd-53c5-4358-9eff-b2f43637ae74"
      },
      "execution_count": null,
      "outputs": [
        {
          "output_type": "stream",
          "name": "stdout",
          "text": [
            "number of unique values:  5\n"
          ]
        },
        {
          "output_type": "execute_result",
          "data": {
            "text/plain": [
              "White                 13348\n",
              "Black                  1487\n",
              "Asian-Pac-Islander      521\n",
              "Amer-Indian-Eskimo      140\n",
              "Other                   140\n",
              "Name: race, dtype: int64"
            ]
          },
          "metadata": {},
          "execution_count": 38
        }
      ]
    },
    {
      "cell_type": "code",
      "source": [
        "print(\"number of unique values: \", test['race'].nunique())\n",
        "test['race'].value_counts()"
      ],
      "metadata": {
        "colab": {
          "base_uri": "https://localhost:8080/"
        },
        "id": "yngKMuDB8BEi",
        "outputId": "95fb9a64-2ac0-4303-bbed-daa6c6c9f308"
      },
      "execution_count": null,
      "outputs": [
        {
          "output_type": "stream",
          "name": "stdout",
          "text": [
            "number of unique values:  5\n"
          ]
        },
        {
          "output_type": "execute_result",
          "data": {
            "text/plain": [
              "White                 12952\n",
              "Black                  1422\n",
              "Asian-Pac-Islander      453\n",
              "Amer-Indian-Eskimo      146\n",
              "Other                   108\n",
              "Name: race, dtype: int64"
            ]
          },
          "metadata": {},
          "execution_count": 39
        }
      ]
    },
    {
      "cell_type": "code",
      "source": [
        "# train에서 target이 1인 비율이 높은 순으로 label을 정하기로 한다\n",
        "races = test['race'].unique()\n",
        "\n",
        "for race in races:\n",
        "  data = train[train['race'] == race]\n",
        "  proportion = round(np.sum(data['target']) / len(data),4)\n",
        "  print(f\"{race}: {proportion}\")"
      ],
      "metadata": {
        "colab": {
          "base_uri": "https://localhost:8080/"
        },
        "id": "8mgB-sO28GLX",
        "outputId": "f4366c88-b56c-40f0-ab13-738bd8d168b6"
      },
      "execution_count": null,
      "outputs": [
        {
          "output_type": "stream",
          "name": "stdout",
          "text": [
            "White: 0.2671\n",
            "Asian-Pac-Islander: 0.2514\n",
            "Black: 0.1237\n",
            "Amer-Indian-Eskimo: 0.1571\n",
            "Other: 0.0929\n"
          ]
        }
      ]
    },
    {
      "cell_type": "code",
      "source": [
        "map_class7 = {'Other':0, 'Black':1, 'Amer-Indian-Eskimo':2, 'Asian-Pac-Islander':3, 'White':4}\n",
        "train[['race']] = train[['race']].applymap(map_class7.get)\n",
        "test[['race']] = test[['race']].applymap(map_class7.get)"
      ],
      "metadata": {
        "id": "P7xfLBmG8ao-"
      },
      "execution_count": null,
      "outputs": []
    },
    {
      "cell_type": "markdown",
      "source": [
        "#### sex"
      ],
      "metadata": {
        "id": "D16_wTjU86E-"
      }
    },
    {
      "cell_type": "code",
      "source": [
        "print(\"number of unique values: \", train['sex'].nunique())\n",
        "train['sex'].value_counts()"
      ],
      "metadata": {
        "colab": {
          "base_uri": "https://localhost:8080/"
        },
        "id": "uYSeTGfU806D",
        "outputId": "5d8f9dd7-9778-4fe2-d7d0-37ee1c660271"
      },
      "execution_count": null,
      "outputs": [
        {
          "output_type": "stream",
          "name": "stdout",
          "text": [
            "number of unique values:  2\n"
          ]
        },
        {
          "output_type": "execute_result",
          "data": {
            "text/plain": [
              "Male      10588\n",
              "Female     5048\n",
              "Name: sex, dtype: int64"
            ]
          },
          "metadata": {},
          "execution_count": 42
        }
      ]
    },
    {
      "cell_type": "code",
      "source": [
        "print(\"number of unique values: \", test['sex'].nunique())\n",
        "test['sex'].value_counts()"
      ],
      "metadata": {
        "colab": {
          "base_uri": "https://localhost:8080/"
        },
        "id": "RZaAGm6y8_NI",
        "outputId": "2103c467-06f5-4b16-a9b3-29c197558233"
      },
      "execution_count": null,
      "outputs": [
        {
          "output_type": "stream",
          "name": "stdout",
          "text": [
            "number of unique values:  2\n"
          ]
        },
        {
          "output_type": "execute_result",
          "data": {
            "text/plain": [
              "Male      10200\n",
              "Female     4881\n",
              "Name: sex, dtype: int64"
            ]
          },
          "metadata": {},
          "execution_count": 43
        }
      ]
    },
    {
      "cell_type": "code",
      "source": [
        "map_class8 = {'Female':0, 'Male':1}\n",
        "train[['sex']] = train[['sex']].applymap(map_class8.get)\n",
        "test[['sex']] = test[['sex']].applymap(map_class8.get)"
      ],
      "metadata": {
        "id": "pJeha3Bc9CEe"
      },
      "execution_count": null,
      "outputs": []
    },
    {
      "cell_type": "markdown",
      "source": [
        "#### 확인"
      ],
      "metadata": {
        "id": "IT3QYv6Y9fOt"
      }
    },
    {
      "cell_type": "code",
      "source": [
        "display(train.head())\n",
        "display(test.head())"
      ],
      "metadata": {
        "colab": {
          "base_uri": "https://localhost:8080/"
        },
        "id": "uMz-Dw4J9j1a",
        "outputId": "65b08572-5306-457e-ec8e-9392f011783e"
      },
      "execution_count": null,
      "outputs": [
        {
          "output_type": "display_data",
          "data": {
            "text/plain": [
              "   age  workclass  fnlwgt  education  education.num  marital.status  \\\n",
              "0   32          1  309513         10             12               6   \n",
              "1   33          1  205469         12             10               6   \n",
              "2   46          1  149949         12             10               6   \n",
              "3   23          1  193090         13             13               0   \n",
              "4   55          1   60193          8              9               4   \n",
              "\n",
              "   occupation  relationship  race  sex  capital.gain  capital.loss  \\\n",
              "0           8             4     4    1             0             0   \n",
              "1          13             4     4    1             0             0   \n",
              "2           8             4     4    1             0             0   \n",
              "3           6             0     4    0             0             0   \n",
              "4           6             3     4    0             0             0   \n",
              "\n",
              "   hours.per.week  native.country  target  \n",
              "0              40              15       0  \n",
              "1              40              15       1  \n",
              "2              40              15       0  \n",
              "3              30              15       0  \n",
              "4              40              15       0  "
            ],
            "text/html": [
              "\n",
              "  <div id=\"df-7a510126-91ce-40fa-8bfc-54949ae69799\">\n",
              "    <div class=\"colab-df-container\">\n",
              "      <div>\n",
              "<style scoped>\n",
              "    .dataframe tbody tr th:only-of-type {\n",
              "        vertical-align: middle;\n",
              "    }\n",
              "\n",
              "    .dataframe tbody tr th {\n",
              "        vertical-align: top;\n",
              "    }\n",
              "\n",
              "    .dataframe thead th {\n",
              "        text-align: right;\n",
              "    }\n",
              "</style>\n",
              "<table border=\"1\" class=\"dataframe\">\n",
              "  <thead>\n",
              "    <tr style=\"text-align: right;\">\n",
              "      <th></th>\n",
              "      <th>age</th>\n",
              "      <th>workclass</th>\n",
              "      <th>fnlwgt</th>\n",
              "      <th>education</th>\n",
              "      <th>education.num</th>\n",
              "      <th>marital.status</th>\n",
              "      <th>occupation</th>\n",
              "      <th>relationship</th>\n",
              "      <th>race</th>\n",
              "      <th>sex</th>\n",
              "      <th>capital.gain</th>\n",
              "      <th>capital.loss</th>\n",
              "      <th>hours.per.week</th>\n",
              "      <th>native.country</th>\n",
              "      <th>target</th>\n",
              "    </tr>\n",
              "  </thead>\n",
              "  <tbody>\n",
              "    <tr>\n",
              "      <th>0</th>\n",
              "      <td>32</td>\n",
              "      <td>1</td>\n",
              "      <td>309513</td>\n",
              "      <td>10</td>\n",
              "      <td>12</td>\n",
              "      <td>6</td>\n",
              "      <td>8</td>\n",
              "      <td>4</td>\n",
              "      <td>4</td>\n",
              "      <td>1</td>\n",
              "      <td>0</td>\n",
              "      <td>0</td>\n",
              "      <td>40</td>\n",
              "      <td>15</td>\n",
              "      <td>0</td>\n",
              "    </tr>\n",
              "    <tr>\n",
              "      <th>1</th>\n",
              "      <td>33</td>\n",
              "      <td>1</td>\n",
              "      <td>205469</td>\n",
              "      <td>12</td>\n",
              "      <td>10</td>\n",
              "      <td>6</td>\n",
              "      <td>13</td>\n",
              "      <td>4</td>\n",
              "      <td>4</td>\n",
              "      <td>1</td>\n",
              "      <td>0</td>\n",
              "      <td>0</td>\n",
              "      <td>40</td>\n",
              "      <td>15</td>\n",
              "      <td>1</td>\n",
              "    </tr>\n",
              "    <tr>\n",
              "      <th>2</th>\n",
              "      <td>46</td>\n",
              "      <td>1</td>\n",
              "      <td>149949</td>\n",
              "      <td>12</td>\n",
              "      <td>10</td>\n",
              "      <td>6</td>\n",
              "      <td>8</td>\n",
              "      <td>4</td>\n",
              "      <td>4</td>\n",
              "      <td>1</td>\n",
              "      <td>0</td>\n",
              "      <td>0</td>\n",
              "      <td>40</td>\n",
              "      <td>15</td>\n",
              "      <td>0</td>\n",
              "    </tr>\n",
              "    <tr>\n",
              "      <th>3</th>\n",
              "      <td>23</td>\n",
              "      <td>1</td>\n",
              "      <td>193090</td>\n",
              "      <td>13</td>\n",
              "      <td>13</td>\n",
              "      <td>0</td>\n",
              "      <td>6</td>\n",
              "      <td>0</td>\n",
              "      <td>4</td>\n",
              "      <td>0</td>\n",
              "      <td>0</td>\n",
              "      <td>0</td>\n",
              "      <td>30</td>\n",
              "      <td>15</td>\n",
              "      <td>0</td>\n",
              "    </tr>\n",
              "    <tr>\n",
              "      <th>4</th>\n",
              "      <td>55</td>\n",
              "      <td>1</td>\n",
              "      <td>60193</td>\n",
              "      <td>8</td>\n",
              "      <td>9</td>\n",
              "      <td>4</td>\n",
              "      <td>6</td>\n",
              "      <td>3</td>\n",
              "      <td>4</td>\n",
              "      <td>0</td>\n",
              "      <td>0</td>\n",
              "      <td>0</td>\n",
              "      <td>40</td>\n",
              "      <td>15</td>\n",
              "      <td>0</td>\n",
              "    </tr>\n",
              "  </tbody>\n",
              "</table>\n",
              "</div>\n",
              "      <button class=\"colab-df-convert\" onclick=\"convertToInteractive('df-7a510126-91ce-40fa-8bfc-54949ae69799')\"\n",
              "              title=\"Convert this dataframe to an interactive table.\"\n",
              "              style=\"display:none;\">\n",
              "        \n",
              "  <svg xmlns=\"http://www.w3.org/2000/svg\" height=\"24px\"viewBox=\"0 0 24 24\"\n",
              "       width=\"24px\">\n",
              "    <path d=\"M0 0h24v24H0V0z\" fill=\"none\"/>\n",
              "    <path d=\"M18.56 5.44l.94 2.06.94-2.06 2.06-.94-2.06-.94-.94-2.06-.94 2.06-2.06.94zm-11 1L8.5 8.5l.94-2.06 2.06-.94-2.06-.94L8.5 2.5l-.94 2.06-2.06.94zm10 10l.94 2.06.94-2.06 2.06-.94-2.06-.94-.94-2.06-.94 2.06-2.06.94z\"/><path d=\"M17.41 7.96l-1.37-1.37c-.4-.4-.92-.59-1.43-.59-.52 0-1.04.2-1.43.59L10.3 9.45l-7.72 7.72c-.78.78-.78 2.05 0 2.83L4 21.41c.39.39.9.59 1.41.59.51 0 1.02-.2 1.41-.59l7.78-7.78 2.81-2.81c.8-.78.8-2.07 0-2.86zM5.41 20L4 18.59l7.72-7.72 1.47 1.35L5.41 20z\"/>\n",
              "  </svg>\n",
              "      </button>\n",
              "      \n",
              "  <style>\n",
              "    .colab-df-container {\n",
              "      display:flex;\n",
              "      flex-wrap:wrap;\n",
              "      gap: 12px;\n",
              "    }\n",
              "\n",
              "    .colab-df-convert {\n",
              "      background-color: #E8F0FE;\n",
              "      border: none;\n",
              "      border-radius: 50%;\n",
              "      cursor: pointer;\n",
              "      display: none;\n",
              "      fill: #1967D2;\n",
              "      height: 32px;\n",
              "      padding: 0 0 0 0;\n",
              "      width: 32px;\n",
              "    }\n",
              "\n",
              "    .colab-df-convert:hover {\n",
              "      background-color: #E2EBFA;\n",
              "      box-shadow: 0px 1px 2px rgba(60, 64, 67, 0.3), 0px 1px 3px 1px rgba(60, 64, 67, 0.15);\n",
              "      fill: #174EA6;\n",
              "    }\n",
              "\n",
              "    [theme=dark] .colab-df-convert {\n",
              "      background-color: #3B4455;\n",
              "      fill: #D2E3FC;\n",
              "    }\n",
              "\n",
              "    [theme=dark] .colab-df-convert:hover {\n",
              "      background-color: #434B5C;\n",
              "      box-shadow: 0px 1px 3px 1px rgba(0, 0, 0, 0.15);\n",
              "      filter: drop-shadow(0px 1px 2px rgba(0, 0, 0, 0.3));\n",
              "      fill: #FFFFFF;\n",
              "    }\n",
              "  </style>\n",
              "\n",
              "      <script>\n",
              "        const buttonEl =\n",
              "          document.querySelector('#df-7a510126-91ce-40fa-8bfc-54949ae69799 button.colab-df-convert');\n",
              "        buttonEl.style.display =\n",
              "          google.colab.kernel.accessAllowed ? 'block' : 'none';\n",
              "\n",
              "        async function convertToInteractive(key) {\n",
              "          const element = document.querySelector('#df-7a510126-91ce-40fa-8bfc-54949ae69799');\n",
              "          const dataTable =\n",
              "            await google.colab.kernel.invokeFunction('convertToInteractive',\n",
              "                                                     [key], {});\n",
              "          if (!dataTable) return;\n",
              "\n",
              "          const docLinkHtml = 'Like what you see? Visit the ' +\n",
              "            '<a target=\"_blank\" href=https://colab.research.google.com/notebooks/data_table.ipynb>data table notebook</a>'\n",
              "            + ' to learn more about interactive tables.';\n",
              "          element.innerHTML = '';\n",
              "          dataTable['output_type'] = 'display_data';\n",
              "          await google.colab.output.renderOutput(dataTable, element);\n",
              "          const docLink = document.createElement('div');\n",
              "          docLink.innerHTML = docLinkHtml;\n",
              "          element.appendChild(docLink);\n",
              "        }\n",
              "      </script>\n",
              "    </div>\n",
              "  </div>\n",
              "  "
            ]
          },
          "metadata": {}
        },
        {
          "output_type": "display_data",
          "data": {
            "text/plain": [
              "    age  workclass  fnlwgt  education  education.num  marital.status  \\\n",
              "id                                                                     \n",
              "0    47          1  304133         12             10               6   \n",
              "1    34          6  154227         12             10               0   \n",
              "2    31          4  158291         13             13               0   \n",
              "3    28          1  183155         13             13               6   \n",
              "4    54          4  182543         12             10               3   \n",
              "\n",
              "    occupation  relationship  race  sex  capital.gain  capital.loss  \\\n",
              "id                                                                    \n",
              "0           13             4     4    1             0             0   \n",
              "1            9             3     4    1             0             0   \n",
              "2            8             3     4    1          8614             0   \n",
              "3           12             4     4    1             0             0   \n",
              "4            6             2     4    0             0             0   \n",
              "\n",
              "    hours.per.week  native.country  \n",
              "id                                  \n",
              "0               45              15  \n",
              "1               75              15  \n",
              "2               40              15  \n",
              "3               55              15  \n",
              "4               40              29  "
            ],
            "text/html": [
              "\n",
              "  <div id=\"df-12e433f6-5a2f-4c56-a306-e7d0e1b11357\">\n",
              "    <div class=\"colab-df-container\">\n",
              "      <div>\n",
              "<style scoped>\n",
              "    .dataframe tbody tr th:only-of-type {\n",
              "        vertical-align: middle;\n",
              "    }\n",
              "\n",
              "    .dataframe tbody tr th {\n",
              "        vertical-align: top;\n",
              "    }\n",
              "\n",
              "    .dataframe thead th {\n",
              "        text-align: right;\n",
              "    }\n",
              "</style>\n",
              "<table border=\"1\" class=\"dataframe\">\n",
              "  <thead>\n",
              "    <tr style=\"text-align: right;\">\n",
              "      <th></th>\n",
              "      <th>age</th>\n",
              "      <th>workclass</th>\n",
              "      <th>fnlwgt</th>\n",
              "      <th>education</th>\n",
              "      <th>education.num</th>\n",
              "      <th>marital.status</th>\n",
              "      <th>occupation</th>\n",
              "      <th>relationship</th>\n",
              "      <th>race</th>\n",
              "      <th>sex</th>\n",
              "      <th>capital.gain</th>\n",
              "      <th>capital.loss</th>\n",
              "      <th>hours.per.week</th>\n",
              "      <th>native.country</th>\n",
              "    </tr>\n",
              "    <tr>\n",
              "      <th>id</th>\n",
              "      <th></th>\n",
              "      <th></th>\n",
              "      <th></th>\n",
              "      <th></th>\n",
              "      <th></th>\n",
              "      <th></th>\n",
              "      <th></th>\n",
              "      <th></th>\n",
              "      <th></th>\n",
              "      <th></th>\n",
              "      <th></th>\n",
              "      <th></th>\n",
              "      <th></th>\n",
              "      <th></th>\n",
              "    </tr>\n",
              "  </thead>\n",
              "  <tbody>\n",
              "    <tr>\n",
              "      <th>0</th>\n",
              "      <td>47</td>\n",
              "      <td>1</td>\n",
              "      <td>304133</td>\n",
              "      <td>12</td>\n",
              "      <td>10</td>\n",
              "      <td>6</td>\n",
              "      <td>13</td>\n",
              "      <td>4</td>\n",
              "      <td>4</td>\n",
              "      <td>1</td>\n",
              "      <td>0</td>\n",
              "      <td>0</td>\n",
              "      <td>45</td>\n",
              "      <td>15</td>\n",
              "    </tr>\n",
              "    <tr>\n",
              "      <th>1</th>\n",
              "      <td>34</td>\n",
              "      <td>6</td>\n",
              "      <td>154227</td>\n",
              "      <td>12</td>\n",
              "      <td>10</td>\n",
              "      <td>0</td>\n",
              "      <td>9</td>\n",
              "      <td>3</td>\n",
              "      <td>4</td>\n",
              "      <td>1</td>\n",
              "      <td>0</td>\n",
              "      <td>0</td>\n",
              "      <td>75</td>\n",
              "      <td>15</td>\n",
              "    </tr>\n",
              "    <tr>\n",
              "      <th>2</th>\n",
              "      <td>31</td>\n",
              "      <td>4</td>\n",
              "      <td>158291</td>\n",
              "      <td>13</td>\n",
              "      <td>13</td>\n",
              "      <td>0</td>\n",
              "      <td>8</td>\n",
              "      <td>3</td>\n",
              "      <td>4</td>\n",
              "      <td>1</td>\n",
              "      <td>8614</td>\n",
              "      <td>0</td>\n",
              "      <td>40</td>\n",
              "      <td>15</td>\n",
              "    </tr>\n",
              "    <tr>\n",
              "      <th>3</th>\n",
              "      <td>28</td>\n",
              "      <td>1</td>\n",
              "      <td>183155</td>\n",
              "      <td>13</td>\n",
              "      <td>13</td>\n",
              "      <td>6</td>\n",
              "      <td>12</td>\n",
              "      <td>4</td>\n",
              "      <td>4</td>\n",
              "      <td>1</td>\n",
              "      <td>0</td>\n",
              "      <td>0</td>\n",
              "      <td>55</td>\n",
              "      <td>15</td>\n",
              "    </tr>\n",
              "    <tr>\n",
              "      <th>4</th>\n",
              "      <td>54</td>\n",
              "      <td>4</td>\n",
              "      <td>182543</td>\n",
              "      <td>12</td>\n",
              "      <td>10</td>\n",
              "      <td>3</td>\n",
              "      <td>6</td>\n",
              "      <td>2</td>\n",
              "      <td>4</td>\n",
              "      <td>0</td>\n",
              "      <td>0</td>\n",
              "      <td>0</td>\n",
              "      <td>40</td>\n",
              "      <td>29</td>\n",
              "    </tr>\n",
              "  </tbody>\n",
              "</table>\n",
              "</div>\n",
              "      <button class=\"colab-df-convert\" onclick=\"convertToInteractive('df-12e433f6-5a2f-4c56-a306-e7d0e1b11357')\"\n",
              "              title=\"Convert this dataframe to an interactive table.\"\n",
              "              style=\"display:none;\">\n",
              "        \n",
              "  <svg xmlns=\"http://www.w3.org/2000/svg\" height=\"24px\"viewBox=\"0 0 24 24\"\n",
              "       width=\"24px\">\n",
              "    <path d=\"M0 0h24v24H0V0z\" fill=\"none\"/>\n",
              "    <path d=\"M18.56 5.44l.94 2.06.94-2.06 2.06-.94-2.06-.94-.94-2.06-.94 2.06-2.06.94zm-11 1L8.5 8.5l.94-2.06 2.06-.94-2.06-.94L8.5 2.5l-.94 2.06-2.06.94zm10 10l.94 2.06.94-2.06 2.06-.94-2.06-.94-.94-2.06-.94 2.06-2.06.94z\"/><path d=\"M17.41 7.96l-1.37-1.37c-.4-.4-.92-.59-1.43-.59-.52 0-1.04.2-1.43.59L10.3 9.45l-7.72 7.72c-.78.78-.78 2.05 0 2.83L4 21.41c.39.39.9.59 1.41.59.51 0 1.02-.2 1.41-.59l7.78-7.78 2.81-2.81c.8-.78.8-2.07 0-2.86zM5.41 20L4 18.59l7.72-7.72 1.47 1.35L5.41 20z\"/>\n",
              "  </svg>\n",
              "      </button>\n",
              "      \n",
              "  <style>\n",
              "    .colab-df-container {\n",
              "      display:flex;\n",
              "      flex-wrap:wrap;\n",
              "      gap: 12px;\n",
              "    }\n",
              "\n",
              "    .colab-df-convert {\n",
              "      background-color: #E8F0FE;\n",
              "      border: none;\n",
              "      border-radius: 50%;\n",
              "      cursor: pointer;\n",
              "      display: none;\n",
              "      fill: #1967D2;\n",
              "      height: 32px;\n",
              "      padding: 0 0 0 0;\n",
              "      width: 32px;\n",
              "    }\n",
              "\n",
              "    .colab-df-convert:hover {\n",
              "      background-color: #E2EBFA;\n",
              "      box-shadow: 0px 1px 2px rgba(60, 64, 67, 0.3), 0px 1px 3px 1px rgba(60, 64, 67, 0.15);\n",
              "      fill: #174EA6;\n",
              "    }\n",
              "\n",
              "    [theme=dark] .colab-df-convert {\n",
              "      background-color: #3B4455;\n",
              "      fill: #D2E3FC;\n",
              "    }\n",
              "\n",
              "    [theme=dark] .colab-df-convert:hover {\n",
              "      background-color: #434B5C;\n",
              "      box-shadow: 0px 1px 3px 1px rgba(0, 0, 0, 0.15);\n",
              "      filter: drop-shadow(0px 1px 2px rgba(0, 0, 0, 0.3));\n",
              "      fill: #FFFFFF;\n",
              "    }\n",
              "  </style>\n",
              "\n",
              "      <script>\n",
              "        const buttonEl =\n",
              "          document.querySelector('#df-12e433f6-5a2f-4c56-a306-e7d0e1b11357 button.colab-df-convert');\n",
              "        buttonEl.style.display =\n",
              "          google.colab.kernel.accessAllowed ? 'block' : 'none';\n",
              "\n",
              "        async function convertToInteractive(key) {\n",
              "          const element = document.querySelector('#df-12e433f6-5a2f-4c56-a306-e7d0e1b11357');\n",
              "          const dataTable =\n",
              "            await google.colab.kernel.invokeFunction('convertToInteractive',\n",
              "                                                     [key], {});\n",
              "          if (!dataTable) return;\n",
              "\n",
              "          const docLinkHtml = 'Like what you see? Visit the ' +\n",
              "            '<a target=\"_blank\" href=https://colab.research.google.com/notebooks/data_table.ipynb>data table notebook</a>'\n",
              "            + ' to learn more about interactive tables.';\n",
              "          element.innerHTML = '';\n",
              "          dataTable['output_type'] = 'display_data';\n",
              "          await google.colab.output.renderOutput(dataTable, element);\n",
              "          const docLink = document.createElement('div');\n",
              "          docLink.innerHTML = docLinkHtml;\n",
              "          element.appendChild(docLink);\n",
              "        }\n",
              "      </script>\n",
              "    </div>\n",
              "  </div>\n",
              "  "
            ]
          },
          "metadata": {}
        }
      ]
    },
    {
      "cell_type": "code",
      "source": [
        "train.isnull().sum()"
      ],
      "metadata": {
        "colab": {
          "base_uri": "https://localhost:8080/"
        },
        "id": "KrCYGrT_9pfI",
        "outputId": "ea0b182d-ceac-4fb8-b230-f10170785ab1"
      },
      "execution_count": null,
      "outputs": [
        {
          "output_type": "execute_result",
          "data": {
            "text/plain": [
              "age               0\n",
              "workclass         0\n",
              "fnlwgt            0\n",
              "education         0\n",
              "education.num     0\n",
              "marital.status    0\n",
              "occupation        0\n",
              "relationship      0\n",
              "race              0\n",
              "sex               0\n",
              "capital.gain      0\n",
              "capital.loss      0\n",
              "hours.per.week    0\n",
              "native.country    0\n",
              "target            0\n",
              "dtype: int64"
            ]
          },
          "metadata": {},
          "execution_count": 46
        }
      ]
    },
    {
      "cell_type": "code",
      "source": [
        "test.isnull().sum()"
      ],
      "metadata": {
        "colab": {
          "base_uri": "https://localhost:8080/"
        },
        "id": "-9rdbWSw9rlw",
        "outputId": "39442124-9b84-48dd-dad2-55778cff1a47"
      },
      "execution_count": null,
      "outputs": [
        {
          "output_type": "execute_result",
          "data": {
            "text/plain": [
              "age               0\n",
              "workclass         0\n",
              "fnlwgt            0\n",
              "education         0\n",
              "education.num     0\n",
              "marital.status    0\n",
              "occupation        0\n",
              "relationship      0\n",
              "race              0\n",
              "sex               0\n",
              "capital.gain      0\n",
              "capital.loss      0\n",
              "hours.per.week    0\n",
              "native.country    0\n",
              "dtype: int64"
            ]
          },
          "metadata": {},
          "execution_count": 47
        }
      ]
    },
    {
      "cell_type": "markdown",
      "source": [
        "### 스케일링 및 데이터의 분포 확인"
      ],
      "metadata": {
        "id": "RnK4bkuh-NgY"
      }
    },
    {
      "cell_type": "markdown",
      "source": [
        "#### 데이터의 분포 확인"
      ],
      "metadata": {
        "id": "3PIX7Aiy_dxu"
      }
    },
    {
      "cell_type": "code",
      "source": [
        "# percent = sum은 막대들의 높이의 합이 100이 되도록 하는 것\n",
        "# 범주형 데이터들은 비슷한 분포를 가진다는 것을 확인할 수 있다.\n",
        "# age, fnlwgt, capital.gain, capital.loss 모두 양의 왜도를 지닌다. 그리고 capital과 관련된 변수 2개는 대부분의 값이 거의 0임을 알 수 있다.\n",
        "# 한편, train, test의 분포는 상당히 유사하다고 할 수 있다.\n",
        "fig, axes = plt.subplots(nrows = 4, ncols = 4, figsize = (15, 15))\n",
        "\n",
        "column_list = test.columns\n",
        "\n",
        "for index, column in enumerate(column_list):\n",
        "    \n",
        "    row = index // 4\n",
        "    col = index % 4\n",
        "    \n",
        "    # Train data visualization\n",
        "    sns.histplot(x = column, data = train, stat = \"percent\", color = \"blue\", alpha = 0.3, label = \"Train\", ax = axes[row][col])\n",
        "    \n",
        "    # Test data visualization\n",
        "    sns.histplot(x = column, data = test, stat = \"percent\", color = \"yellow\", alpha = 0.3, label = \"Test\", ax = axes[row][col])\n",
        "    \n",
        "    axes[row][col].set_title(\"Histplot of {}\".format(column))\n",
        "    axes[row][col].set_xlabel(\"\")\n",
        "    axes[row][col].set_ylabel(\"\")\n",
        "    axes[row][col].legend()\n",
        "    \n",
        "fig.tight_layout(pad = 1.5)"
      ],
      "metadata": {
        "colab": {
          "base_uri": "https://localhost:8080/"
        },
        "id": "0T9BtYhX_W67",
        "outputId": "e5646492-3553-4fc3-e32c-b663fbee461b"
      },
      "execution_count": null,
      "outputs": [
        {
          "output_type": "display_data",
          "data": {
            "text/plain": [
              "<Figure size 1080x1080 with 16 Axes>"
            ],
            "image/png": "[encoded data removed]"
          },
          "metadata": {
            "needs_background": "light"
          }
        }
      ]
    },
    {
      "cell_type": "markdown",
      "source": [
        "#### 로그변환"
      ],
      "metadata": {
        "id": "b8e-WO_qB8U7"
      }
    },
    {
      "cell_type": "code",
      "source": [
        "# 왜도와 첨도를 관측하고, 왜도와 첨도가 큰 데이터에 로그를 취한다.\n",
        "numeric_columns = ['age', 'fnlwgt', 'education.num', 'capital.gain', 'capital.loss', 'hours.per.week']\n",
        "for column in numeric_columns:\n",
        "  print(\"{:15}\".format(column),\n",
        "        'Skewness:{}'.format(train[column].skew()),\n",
        "        'Kurtosis:{}'.format(train[column].kurt()))"
      ],
      "metadata": {
        "colab": {
          "base_uri": "https://localhost:8080/"
        },
        "id": "ydvsn3fkB-vi",
        "outputId": "cf2490e6-1e83-442e-838a-cc545c528a71"
      },
      "execution_count": null,
      "outputs": [
        {
          "output_type": "stream",
          "name": "stdout",
          "text": [
            "age             Skewness:0.5347514796971361 Kurtosis:-0.1394013821130593\n",
            "fnlwgt          Skewness:1.4170239926716877 Kurtosis:6.231188254166485\n",
            "education.num   Skewness:-0.34014523794894624 Kurtosis:0.6163769181677043\n",
            "capital.gain    Skewness:11.585169593969049 Kurtosis:144.5462131916584\n",
            "capital.loss    Skewness:4.583033052806039 Kurtosis:20.085963911239503\n",
            "hours.per.week  Skewness:0.3535615391484752 Kurtosis:3.2267895362092025\n"
          ]
        }
      ]
    },
    {
      "cell_type": "code",
      "source": [
        "# fnlwgt, capital.gain, capital.loss에 대해서 log변환을 사용해 주기로 함.\n",
        "train[\"fnlwgt\"] = train[\"fnlwgt\"].apply(lambda x: np.log1p(x))\n",
        "train[\"capital.gain\"] = train[\"capital.gain\"].apply(lambda x: np.log1p(x))\n",
        "train[\"capital.loss\"] = train[\"capital.loss\"].apply(lambda x: np.log1p(x))"
      ],
      "metadata": {
        "id": "7OUiHgt1Dlm-"
      },
      "execution_count": null,
      "outputs": []
    },
    {
      "cell_type": "code",
      "source": [
        "# 여전히 정규분포에서는 많이 벗어난 모습을 보이지만 이전에 비해서는 훨씬 낫다\n",
        "numeric_columns = ['age', 'fnlwgt', 'education.num', 'capital.gain', 'capital.loss', 'hours.per.week']\n",
        "for column in numeric_columns:\n",
        "  print(\"{:15}\".format(column),\n",
        "        'Skewness:{}'.format(train[column].skew()),\n",
        "        'Kurtosis:{}'.format(train[column].kurt()))"
      ],
      "metadata": {
        "colab": {
          "base_uri": "https://localhost:8080/"
        },
        "id": "V-PqLa-gEUAC",
        "outputId": "edad593e-c613-4559-a4b2-ccd17b47c3c0"
      },
      "execution_count": null,
      "outputs": [
        {
          "output_type": "stream",
          "name": "stdout",
          "text": [
            "age             Skewness:0.5347514796971361 Kurtosis:-0.1394013821130593\n",
            "fnlwgt          Skewness:-0.8616098997379611 Kurtosis:0.8897593266708816\n",
            "education.num   Skewness:-0.34014523794894624 Kurtosis:0.6163769181677043\n",
            "capital.gain    Skewness:3.0687133282593284 Kurtosis:7.6234161812546954\n",
            "capital.loss    Skewness:4.332038680942931 Kurtosis:16.78697586510876\n",
            "hours.per.week  Skewness:0.3535615391484752 Kurtosis:3.2267895362092025\n"
          ]
        }
      ]
    },
    {
      "cell_type": "code",
      "source": [
        "# test에 대해서도 log변환을 적용\n",
        "test[\"fnlwgt\"] = test[\"fnlwgt\"].apply(lambda x: np.log1p(x))\n",
        "test[\"capital.gain\"] = test[\"capital.gain\"].apply(lambda x: np.log1p(x))\n",
        "test[\"capital.loss\"] = test[\"capital.loss\"].apply(lambda x: np.log1p(x))"
      ],
      "metadata": {
        "id": "iaZxpQ_WEV7A"
      },
      "execution_count": null,
      "outputs": []
    },
    {
      "cell_type": "markdown",
      "source": [
        "#### 스케일링"
      ],
      "metadata": {
        "id": "f9LKd4SGCwKR"
      }
    },
    {
      "cell_type": "code",
      "source": [
        "from sklearn.preprocessing import MinMaxScaler, StandardScaler\n",
        "scaler = StandardScaler()\n",
        "train.iloc[:,:-1] = scaler.fit_transform(train.iloc[:,:-1])\n",
        "test = scaler.transform(test)"
      ],
      "metadata": {
        "id": "IGvwG-Gy-PoE"
      },
      "execution_count": null,
      "outputs": []
    },
    {
      "cell_type": "code",
      "source": [
        "test = pd.DataFrame(test, columns=train.columns[:-1])"
      ],
      "metadata": {
        "id": "GjLu4aJBFCna"
      },
      "execution_count": null,
      "outputs": []
    },
    {
      "cell_type": "markdown",
      "source": [
        "#### 로그변환과 스케일링을 모두 적용 후 분포 확인"
      ],
      "metadata": {
        "id": "yF05gFF2Fm6f"
      }
    },
    {
      "cell_type": "code",
      "source": [
        "fig, axes = plt.subplots(nrows = 4, ncols = 4, figsize = (15, 15))\n",
        "\n",
        "column_list = test.columns\n",
        "\n",
        "for index, column in enumerate(column_list):\n",
        "    \n",
        "    row = index // 4\n",
        "    col = index % 4\n",
        "    \n",
        "    # Train data visualization\n",
        "    sns.histplot(x = column, data = train, stat = \"percent\", color = \"blue\", alpha = 0.3, label = \"Train\", ax = axes[row][col])\n",
        "    \n",
        "    # Test data visualization\n",
        "    sns.histplot(x = column, data = test, stat = \"percent\", color = \"yellow\", alpha = 0.3, label = \"Test\", ax = axes[row][col])\n",
        "    \n",
        "    axes[row][col].set_title(\"Histplot of {}\".format(column))\n",
        "    axes[row][col].set_xlabel(\"\")\n",
        "    axes[row][col].set_ylabel(\"\")\n",
        "    axes[row][col].legend()\n",
        "    \n",
        "fig.tight_layout(pad = 1.5)"
      ],
      "metadata": {
        "colab": {
          "base_uri": "https://localhost:8080/"
        },
        "id": "mfkrZiw4FrxP",
        "outputId": "8f814b33-fefd-4972-8224-d2bb9bfe8742"
      },
      "execution_count": null,
      "outputs": [
        {
          "output_type": "display_data",
          "data": {
            "text/plain": [
              "<Figure size 1080x1080 with 16 Axes>"
            ],
            "image/png": "[encoded data removed]"
          },
          "metadata": {
            "needs_background": "light"
          }
        }
      ]
    },
    {
      "cell_type": "markdown",
      "source": [
        "#### X와 y 나누기"
      ],
      "metadata": {
        "id": "Yl_lS2XXHBY3"
      }
    },
    {
      "cell_type": "code",
      "source": [
        "X_train = train.drop('target', axis=1)\n",
        "y_train = train[['target']]\n",
        "X_test = test"
      ],
      "metadata": {
        "id": "yEntWh_GG_z6"
      },
      "execution_count": null,
      "outputs": []
    },
    {
      "cell_type": "code",
      "source": [
        "X_train.shape"
      ],
      "metadata": {
        "colab": {
          "base_uri": "https://localhost:8080/"
        },
        "id": "sBWpnwyo2e5k",
        "outputId": "5f85aa7a-7c1c-4355-8ed7-4e9ff8ded064"
      },
      "execution_count": null,
      "outputs": [
        {
          "output_type": "execute_result",
          "data": {
            "text/plain": [
              "(15636, 14)"
            ]
          },
          "metadata": {},
          "execution_count": 57
        }
      ]
    },
    {
      "cell_type": "markdown",
      "source": [
        "## 모델 사용하기"
      ],
      "metadata": {
        "id": "r64AqAt4IsL9"
      }
    },
    {
      "cell_type": "code",
      "source": [
        "import tensorflow as tf\n",
        "from keras import activations\n",
        "from keras.layers import Dense, Dropout, LSTM, BatchNormalization, Conv2D, MaxPooling2D, GlobalAveragePooling2D\n",
        "from keras.models import Sequential\n",
        "from keras.layers import Dense\n",
        "from keras.callbacks import EarlyStopping, ModelCheckpoint\n",
        "from tensorflow.keras.optimizers import Adam\n",
        "import keras.metrics"
      ],
      "metadata": {
        "id": "Kmbl4HGkIub2"
      },
      "execution_count": null,
      "outputs": []
    },
    {
      "cell_type": "code",
      "source": [
        "np.random.seed(42)\n",
        "tf.random.set_seed(42)"
      ],
      "metadata": {
        "id": "zl_FuKYxTV25"
      },
      "execution_count": null,
      "outputs": []
    },
    {
      "cell_type": "markdown",
      "source": [
        "#### mlp"
      ],
      "metadata": {
        "id": "b1WIcx9L3XJh"
      }
    },
    {
      "cell_type": "code",
      "source": [
        "mlp1 = Sequential(name='mlp1')\n",
        "mlp1.add(Dense(units=4000, input_dim=14, activation='relu', name='hidden1'))\n",
        "mlp1.add(Dropout(0.2, name='dropout1'))\n",
        "mlp1.add(Dense(units=800, activation='relu', name='hiddne2'))\n",
        "mlp1.add(Dropout(0.2, name='dropout2'))\n",
        "mlp1.add(Dense(150, activation='relu', name='hidden3'))\n",
        "mlp1.add(Dropout(0.2, name='dropout3'))\n",
        "mlp1.add(Dense(30, activation='relu', name='hiddne4'))\n",
        "mlp1.add(Dropout(0.2, name='dropout4'))\n",
        "mlp1.add(Dense(units=1, activation='sigmoid', name='output'))\n",
        "\n",
        "mlp1.summary()"
      ],
      "metadata": {
        "colab": {
          "base_uri": "https://localhost:8080/"
        },
        "id": "a9QJFq_Q1zWd",
        "outputId": "e6bf551f-78ba-4caa-ac82-9d0e1be12496"
      },
      "execution_count": null,
      "outputs": [
        {
          "output_type": "stream",
          "name": "stdout",
          "text": [
            "Model: \"mlp1\"\n",
            "_________________________________________________________________\n",
            " Layer (type)                Output Shape              Param #   \n",
            "=================================================================\n",
            " hidden1 (Dense)             (None, 4000)              60000     \n",
            "                                                                 \n",
            " dropout1 (Dropout)          (None, 4000)              0         \n",
            "                                                                 \n",
            " hiddne2 (Dense)             (None, 800)               3200800   \n",
            "                                                                 \n",
            " dropout2 (Dropout)          (None, 800)               0         \n",
            "                                                                 \n",
            " hidden3 (Dense)             (None, 150)               120150    \n",
            "                                                                 \n",
            " dropout3 (Dropout)          (None, 150)               0         \n",
            "                                                                 \n",
            " hiddne4 (Dense)             (None, 30)                4530      \n",
            "                                                                 \n",
            " dropout4 (Dropout)          (None, 30)                0         \n",
            "                                                                 \n",
            " output (Dense)              (None, 1)                 31        \n",
            "                                                                 \n",
            "=================================================================\n",
            "Total params: 3,385,511\n",
            "Trainable params: 3,385,511\n",
            "Non-trainable params: 0\n",
            "_________________________________________________________________\n"
          ]
        }
      ]
    },
    {
      "cell_type": "code",
      "source": [
        "mlp1.compile(optimizer=Adam(1e-4), loss='BinaryCrossentropy', metrics=['accuracy'])\n",
        "mc = ModelCheckpoint(filepath='mlp_best.h5', monitor='accuracy', save_best_only=True)"
      ],
      "metadata": {
        "id": "fRessB-r3cfW"
      },
      "execution_count": null,
      "outputs": []
    },
    {
      "cell_type": "code",
      "source": [
        "# callback을 사용하는 것이 큰 의미가 없어 사용하지 않았습니다\n",
        "history = mlp1.fit(X_train, y_train, epochs=300, batch_size=500, callbacks=[mc])"
      ],
      "metadata": {
        "colab": {
          "base_uri": "https://localhost:8080/"
        },
        "id": "WOr23icY3f2l",
        "outputId": "62161bb0-b908-4201-96f0-96978deba00b"
      },
      "execution_count": null,
      "outputs": [
        {
          "output_type": "stream",
          "name": "stdout",
          "text": [
            "Epoch 1/300\n",
            "32/32 [==============================] - 2s 20ms/step - loss: 0.4732 - accuracy: 0.7889\n",
            "Epoch 2/300\n",
            "32/32 [==============================] - 1s 18ms/step - loss: 0.3600 - accuracy: 0.8329\n",
            "Epoch 3/300\n",
            "32/32 [==============================] - 1s 19ms/step - loss: 0.3519 - accuracy: 0.8395\n",
            "Epoch 4/300\n",
            "32/32 [==============================] - 0s 15ms/step - loss: 0.3494 - accuracy: 0.8381\n",
            "Epoch 5/300\n",
            "32/32 [==============================] - 0s 15ms/step - loss: 0.3447 - accuracy: 0.8393\n",
            "Epoch 6/300\n",
            "32/32 [==============================] - 1s 21ms/step - loss: 0.3415 - accuracy: 0.8404\n",
            "Epoch 7/300\n",
            "32/32 [==============================] - 1s 20ms/step - loss: 0.3406 - accuracy: 0.8429\n",
            "Epoch 8/300\n",
            "32/32 [==============================] - 0s 15ms/step - loss: 0.3386 - accuracy: 0.8426\n",
            "Epoch 9/300\n",
            "32/32 [==============================] - 0s 15ms/step - loss: 0.3359 - accuracy: 0.8418\n",
            "Epoch 10/300\n",
            "32/32 [==============================] - 1s 18ms/step - loss: 0.3360 - accuracy: 0.8434\n",
            "Epoch 11/300\n",
            "32/32 [==============================] - 1s 18ms/step - loss: 0.3347 - accuracy: 0.8463\n",
            "Epoch 12/300\n",
            "32/32 [==============================] - 0s 15ms/step - loss: 0.3314 - accuracy: 0.8454\n",
            "Epoch 13/300\n",
            "32/32 [==============================] - 1s 19ms/step - loss: 0.3302 - accuracy: 0.8464\n",
            "Epoch 14/300\n",
            "32/32 [==============================] - 1s 18ms/step - loss: 0.3317 - accuracy: 0.8482\n",
            "Epoch 15/300\n",
            "32/32 [==============================] - 0s 15ms/step - loss: 0.3274 - accuracy: 0.8477\n",
            "Epoch 16/300\n",
            "32/32 [==============================] - 0s 15ms/step - loss: 0.3267 - accuracy: 0.8478\n",
            "Epoch 17/300\n",
            "32/32 [==============================] - 1s 19ms/step - loss: 0.3285 - accuracy: 0.8494\n",
            "Epoch 18/300\n",
            "32/32 [==============================] - 0s 15ms/step - loss: 0.3270 - accuracy: 0.8482\n",
            "Epoch 19/300\n",
            "32/32 [==============================] - 1s 19ms/step - loss: 0.3248 - accuracy: 0.8500\n",
            "Epoch 20/300\n",
            "32/32 [==============================] - 0s 15ms/step - loss: 0.3262 - accuracy: 0.8494\n",
            "Epoch 21/300\n",
            "32/32 [==============================] - 0s 15ms/step - loss: 0.3223 - accuracy: 0.8489\n",
            "Epoch 22/300\n",
            "32/32 [==============================] - 0s 15ms/step - loss: 0.3231 - accuracy: 0.8496\n",
            "Epoch 23/300\n",
            "32/32 [==============================] - 0s 15ms/step - loss: 0.3218 - accuracy: 0.8482\n",
            "Epoch 24/300\n",
            "32/32 [==============================] - 1s 19ms/step - loss: 0.3215 - accuracy: 0.8502\n",
            "Epoch 25/300\n",
            "32/32 [==============================] - 1s 20ms/step - loss: 0.3189 - accuracy: 0.8529\n",
            "Epoch 26/300\n",
            "32/32 [==============================] - 0s 15ms/step - loss: 0.3199 - accuracy: 0.8521\n",
            "Epoch 27/300\n",
            "32/32 [==============================] - 0s 15ms/step - loss: 0.3181 - accuracy: 0.8527\n",
            "Epoch 28/300\n",
            "32/32 [==============================] - 1s 19ms/step - loss: 0.3172 - accuracy: 0.8537\n",
            "Epoch 29/300\n",
            "32/32 [==============================] - 0s 15ms/step - loss: 0.3162 - accuracy: 0.8520\n",
            "Epoch 30/300\n",
            "32/32 [==============================] - 0s 15ms/step - loss: 0.3163 - accuracy: 0.8518\n",
            "Epoch 31/300\n",
            "32/32 [==============================] - 0s 15ms/step - loss: 0.3151 - accuracy: 0.8536\n",
            "Epoch 32/300\n",
            "32/32 [==============================] - 0s 15ms/step - loss: 0.3145 - accuracy: 0.8519\n",
            "Epoch 33/300\n",
            "32/32 [==============================] - 1s 19ms/step - loss: 0.3153 - accuracy: 0.8542\n",
            "Epoch 34/300\n",
            "32/32 [==============================] - 1s 19ms/step - loss: 0.3115 - accuracy: 0.8559\n",
            "Epoch 35/300\n",
            "32/32 [==============================] - 0s 15ms/step - loss: 0.3126 - accuracy: 0.8530\n",
            "Epoch 36/300\n",
            "32/32 [==============================] - 0s 15ms/step - loss: 0.3124 - accuracy: 0.8543\n",
            "Epoch 37/300\n",
            "32/32 [==============================] - 0s 15ms/step - loss: 0.3107 - accuracy: 0.8553\n",
            "Epoch 38/300\n",
            "32/32 [==============================] - 1s 19ms/step - loss: 0.3080 - accuracy: 0.8560\n",
            "Epoch 39/300\n",
            "32/32 [==============================] - 1s 19ms/step - loss: 0.3080 - accuracy: 0.8562\n",
            "Epoch 40/300\n",
            "32/32 [==============================] - 1s 18ms/step - loss: 0.3069 - accuracy: 0.8563\n",
            "Epoch 41/300\n",
            "32/32 [==============================] - 1s 19ms/step - loss: 0.3052 - accuracy: 0.8582\n",
            "Epoch 42/300\n",
            "32/32 [==============================] - 0s 15ms/step - loss: 0.3041 - accuracy: 0.8570\n",
            "Epoch 43/300\n",
            "32/32 [==============================] - 0s 15ms/step - loss: 0.3069 - accuracy: 0.8570\n",
            "Epoch 44/300\n",
            "32/32 [==============================] - 1s 19ms/step - loss: 0.3032 - accuracy: 0.8586\n",
            "Epoch 45/300\n",
            "32/32 [==============================] - 0s 15ms/step - loss: 0.3016 - accuracy: 0.8571\n",
            "Epoch 46/300\n",
            "32/32 [==============================] - 1s 19ms/step - loss: 0.3038 - accuracy: 0.8597\n",
            "Epoch 47/300\n",
            "32/32 [==============================] - 1s 19ms/step - loss: 0.3008 - accuracy: 0.8606\n",
            "Epoch 48/300\n",
            "32/32 [==============================] - 0s 15ms/step - loss: 0.2981 - accuracy: 0.8596\n",
            "Epoch 49/300\n",
            "32/32 [==============================] - 0s 15ms/step - loss: 0.2980 - accuracy: 0.8606\n",
            "Epoch 50/300\n",
            "32/32 [==============================] - 0s 15ms/step - loss: 0.2989 - accuracy: 0.8586\n",
            "Epoch 51/300\n",
            "32/32 [==============================] - 1s 19ms/step - loss: 0.2955 - accuracy: 0.8626\n",
            "Epoch 52/300\n",
            "32/32 [==============================] - 0s 15ms/step - loss: 0.2945 - accuracy: 0.8604\n",
            "Epoch 53/300\n",
            "32/32 [==============================] - 0s 15ms/step - loss: 0.2964 - accuracy: 0.8619\n",
            "Epoch 54/300\n",
            "32/32 [==============================] - 1s 19ms/step - loss: 0.2950 - accuracy: 0.8644\n",
            "Epoch 55/300\n",
            "32/32 [==============================] - 0s 15ms/step - loss: 0.2941 - accuracy: 0.8640\n",
            "Epoch 56/300\n",
            "32/32 [==============================] - 1s 19ms/step - loss: 0.2947 - accuracy: 0.8610\n",
            "Epoch 57/300\n",
            "32/32 [==============================] - 1s 20ms/step - loss: 0.2926 - accuracy: 0.8643\n",
            "Epoch 58/300\n",
            "32/32 [==============================] - 1s 27ms/step - loss: 0.2913 - accuracy: 0.8651\n",
            "Epoch 59/300\n",
            "32/32 [==============================] - 1s 24ms/step - loss: 0.2894 - accuracy: 0.8645\n",
            "Epoch 60/300\n",
            "32/32 [==============================] - 1s 18ms/step - loss: 0.2931 - accuracy: 0.8649\n",
            "Epoch 61/300\n",
            "32/32 [==============================] - 0s 15ms/step - loss: 0.2901 - accuracy: 0.8646\n",
            "Epoch 62/300\n",
            "32/32 [==============================] - 1s 19ms/step - loss: 0.2872 - accuracy: 0.8659\n",
            "Epoch 63/300\n",
            "32/32 [==============================] - 0s 15ms/step - loss: 0.2869 - accuracy: 0.8659\n",
            "Epoch 64/300\n",
            "32/32 [==============================] - 1s 19ms/step - loss: 0.2855 - accuracy: 0.8663\n",
            "Epoch 65/300\n",
            "32/32 [==============================] - 0s 15ms/step - loss: 0.2866 - accuracy: 0.8656\n",
            "Epoch 66/300\n",
            "32/32 [==============================] - 1s 18ms/step - loss: 0.2845 - accuracy: 0.8652\n",
            "Epoch 67/300\n",
            "32/32 [==============================] - 1s 21ms/step - loss: 0.2847 - accuracy: 0.8636\n",
            "Epoch 68/300\n",
            "32/32 [==============================] - 1s 23ms/step - loss: 0.2854 - accuracy: 0.8654\n",
            "Epoch 69/300\n",
            "32/32 [==============================] - 1s 25ms/step - loss: 0.2806 - accuracy: 0.8693\n",
            "Epoch 70/300\n",
            "32/32 [==============================] - 1s 31ms/step - loss: 0.2816 - accuracy: 0.8697\n",
            "Epoch 71/300\n",
            "32/32 [==============================] - 1s 22ms/step - loss: 0.2783 - accuracy: 0.8683\n",
            "Epoch 72/300\n",
            "32/32 [==============================] - 1s 21ms/step - loss: 0.2829 - accuracy: 0.8672\n",
            "Epoch 73/300\n",
            "32/32 [==============================] - 1s 27ms/step - loss: 0.2766 - accuracy: 0.8703\n",
            "Epoch 74/300\n",
            "32/32 [==============================] - 1s 29ms/step - loss: 0.2782 - accuracy: 0.8709\n",
            "Epoch 75/300\n",
            "32/32 [==============================] - 1s 18ms/step - loss: 0.2768 - accuracy: 0.8684\n",
            "Epoch 76/300\n",
            "32/32 [==============================] - 1s 19ms/step - loss: 0.2798 - accuracy: 0.8681\n",
            "Epoch 77/300\n",
            "32/32 [==============================] - 1s 26ms/step - loss: 0.2745 - accuracy: 0.8718\n",
            "Epoch 78/300\n",
            "32/32 [==============================] - 1s 19ms/step - loss: 0.2740 - accuracy: 0.8715\n",
            "Epoch 79/300\n",
            "32/32 [==============================] - 1s 23ms/step - loss: 0.2733 - accuracy: 0.8702\n",
            "Epoch 80/300\n",
            "32/32 [==============================] - 1s 18ms/step - loss: 0.2720 - accuracy: 0.8713\n",
            "Epoch 81/300\n",
            "32/32 [==============================] - 1s 19ms/step - loss: 0.2736 - accuracy: 0.8693\n",
            "Epoch 82/300\n",
            "32/32 [==============================] - 1s 26ms/step - loss: 0.2693 - accuracy: 0.8732\n",
            "Epoch 83/300\n",
            "32/32 [==============================] - 1s 18ms/step - loss: 0.2724 - accuracy: 0.8711\n",
            "Epoch 84/300\n",
            "32/32 [==============================] - 1s 19ms/step - loss: 0.2712 - accuracy: 0.8722\n",
            "Epoch 85/300\n",
            "32/32 [==============================] - 1s 17ms/step - loss: 0.2698 - accuracy: 0.8721\n",
            "Epoch 86/300\n",
            "32/32 [==============================] - 1s 25ms/step - loss: 0.2699 - accuracy: 0.8734\n",
            "Epoch 87/300\n",
            "32/32 [==============================] - 1s 20ms/step - loss: 0.2698 - accuracy: 0.8732\n",
            "Epoch 88/300\n",
            "32/32 [==============================] - 1s 27ms/step - loss: 0.2676 - accuracy: 0.8738\n",
            "Epoch 89/300\n",
            "32/32 [==============================] - 1s 36ms/step - loss: 0.2647 - accuracy: 0.8747\n",
            "Epoch 90/300\n",
            "32/32 [==============================] - 1s 16ms/step - loss: 0.2654 - accuracy: 0.8745\n",
            "Epoch 91/300\n",
            "32/32 [==============================] - 0s 15ms/step - loss: 0.2629 - accuracy: 0.8746\n",
            "Epoch 92/300\n",
            "32/32 [==============================] - 0s 15ms/step - loss: 0.2674 - accuracy: 0.8738\n",
            "Epoch 93/300\n",
            "32/32 [==============================] - 1s 20ms/step - loss: 0.2617 - accuracy: 0.8766\n",
            "Epoch 94/300\n",
            "32/32 [==============================] - 1s 16ms/step - loss: 0.2620 - accuracy: 0.8765\n",
            "Epoch 95/300\n",
            "32/32 [==============================] - 0s 15ms/step - loss: 0.2627 - accuracy: 0.8766\n",
            "Epoch 96/300\n",
            "32/32 [==============================] - 1s 19ms/step - loss: 0.2605 - accuracy: 0.8773\n",
            "Epoch 97/300\n",
            "32/32 [==============================] - 1s 19ms/step - loss: 0.2612 - accuracy: 0.8778\n",
            "Epoch 98/300\n",
            "32/32 [==============================] - 0s 15ms/step - loss: 0.2599 - accuracy: 0.8762\n",
            "Epoch 99/300\n",
            "32/32 [==============================] - 1s 18ms/step - loss: 0.2571 - accuracy: 0.8796\n",
            "Epoch 100/300\n",
            "32/32 [==============================] - 0s 15ms/step - loss: 0.2571 - accuracy: 0.8794\n",
            "Epoch 101/300\n",
            "32/32 [==============================] - 0s 15ms/step - loss: 0.2559 - accuracy: 0.8751\n",
            "Epoch 102/300\n",
            "32/32 [==============================] - 1s 16ms/step - loss: 0.2597 - accuracy: 0.8769\n",
            "Epoch 103/300\n",
            "32/32 [==============================] - 1s 20ms/step - loss: 0.2548 - accuracy: 0.8784\n",
            "Epoch 104/300\n",
            "32/32 [==============================] - 1s 26ms/step - loss: 0.2537 - accuracy: 0.8835\n",
            "Epoch 105/300\n",
            "32/32 [==============================] - 1s 20ms/step - loss: 0.2540 - accuracy: 0.8785\n",
            "Epoch 106/300\n",
            "32/32 [==============================] - 1s 20ms/step - loss: 0.2502 - accuracy: 0.8833\n",
            "Epoch 107/300\n",
            "32/32 [==============================] - 1s 18ms/step - loss: 0.2499 - accuracy: 0.8806\n",
            "Epoch 108/300\n",
            "32/32 [==============================] - 1s 20ms/step - loss: 0.2563 - accuracy: 0.8798\n",
            "Epoch 109/300\n",
            "32/32 [==============================] - 1s 17ms/step - loss: 0.2523 - accuracy: 0.8800\n",
            "Epoch 110/300\n",
            "32/32 [==============================] - 1s 26ms/step - loss: 0.2533 - accuracy: 0.8828\n",
            "Epoch 111/300\n",
            "32/32 [==============================] - 1s 24ms/step - loss: 0.2495 - accuracy: 0.8803\n",
            "Epoch 112/300\n",
            "32/32 [==============================] - 1s 24ms/step - loss: 0.2481 - accuracy: 0.8820\n",
            "Epoch 113/300\n",
            "32/32 [==============================] - 1s 26ms/step - loss: 0.2481 - accuracy: 0.8846\n",
            "Epoch 114/300\n",
            "32/32 [==============================] - 1s 20ms/step - loss: 0.2490 - accuracy: 0.8797\n",
            "Epoch 115/300\n",
            "32/32 [==============================] - 1s 21ms/step - loss: 0.2506 - accuracy: 0.8812\n",
            "Epoch 116/300\n",
            "32/32 [==============================] - 1s 23ms/step - loss: 0.2487 - accuracy: 0.8836\n",
            "Epoch 117/300\n",
            "32/32 [==============================] - 1s 25ms/step - loss: 0.2466 - accuracy: 0.8810\n",
            "Epoch 118/300\n",
            "32/32 [==============================] - 1s 23ms/step - loss: 0.2448 - accuracy: 0.8842\n",
            "Epoch 119/300\n",
            "32/32 [==============================] - 1s 23ms/step - loss: 0.2486 - accuracy: 0.8817\n",
            "Epoch 120/300\n",
            "32/32 [==============================] - 1s 36ms/step - loss: 0.2438 - accuracy: 0.8869\n",
            "Epoch 121/300\n",
            "32/32 [==============================] - 1s 25ms/step - loss: 0.2409 - accuracy: 0.8860\n",
            "Epoch 122/300\n",
            "32/32 [==============================] - 1s 25ms/step - loss: 0.2402 - accuracy: 0.8862\n",
            "Epoch 123/300\n",
            "32/32 [==============================] - 1s 24ms/step - loss: 0.2453 - accuracy: 0.8849\n",
            "Epoch 124/300\n",
            "32/32 [==============================] - 1s 26ms/step - loss: 0.2408 - accuracy: 0.8859\n",
            "Epoch 125/300\n",
            "32/32 [==============================] - 1s 30ms/step - loss: 0.2426 - accuracy: 0.8828\n",
            "Epoch 126/300\n",
            "32/32 [==============================] - 1s 28ms/step - loss: 0.2393 - accuracy: 0.8869\n",
            "Epoch 127/300\n",
            "32/32 [==============================] - 1s 36ms/step - loss: 0.2386 - accuracy: 0.8876\n",
            "Epoch 128/300\n",
            "32/32 [==============================] - 1s 29ms/step - loss: 0.2360 - accuracy: 0.8891\n",
            "Epoch 129/300\n",
            "32/32 [==============================] - 1s 31ms/step - loss: 0.2363 - accuracy: 0.8892\n",
            "Epoch 130/300\n",
            "32/32 [==============================] - 1s 28ms/step - loss: 0.2360 - accuracy: 0.8895\n",
            "Epoch 131/300\n",
            "32/32 [==============================] - 1s 18ms/step - loss: 0.2388 - accuracy: 0.8875\n",
            "Epoch 132/300\n",
            "32/32 [==============================] - 1s 19ms/step - loss: 0.2377 - accuracy: 0.8869\n",
            "Epoch 133/300\n",
            "32/32 [==============================] - 1s 21ms/step - loss: 0.2354 - accuracy: 0.8892\n",
            "Epoch 134/300\n",
            "32/32 [==============================] - 1s 21ms/step - loss: 0.2355 - accuracy: 0.8862\n",
            "Epoch 135/300\n",
            "32/32 [==============================] - 1s 20ms/step - loss: 0.2345 - accuracy: 0.8887\n",
            "Epoch 136/300\n",
            "32/32 [==============================] - 1s 28ms/step - loss: 0.2331 - accuracy: 0.8910\n",
            "Epoch 137/300\n",
            "32/32 [==============================] - 1s 24ms/step - loss: 0.2319 - accuracy: 0.8876\n",
            "Epoch 138/300\n",
            "32/32 [==============================] - 1s 26ms/step - loss: 0.2327 - accuracy: 0.8906\n",
            "Epoch 139/300\n",
            "32/32 [==============================] - 1s 32ms/step - loss: 0.2285 - accuracy: 0.8926\n",
            "Epoch 140/300\n",
            "32/32 [==============================] - 1s 23ms/step - loss: 0.2312 - accuracy: 0.8902\n",
            "Epoch 141/300\n",
            "32/32 [==============================] - 1s 23ms/step - loss: 0.2287 - accuracy: 0.8909\n",
            "Epoch 142/300\n",
            "32/32 [==============================] - 1s 24ms/step - loss: 0.2295 - accuracy: 0.8905\n",
            "Epoch 143/300\n",
            "32/32 [==============================] - 1s 27ms/step - loss: 0.2272 - accuracy: 0.8931\n",
            "Epoch 144/300\n",
            "32/32 [==============================] - 1s 24ms/step - loss: 0.2290 - accuracy: 0.8917\n",
            "Epoch 145/300\n",
            "32/32 [==============================] - 1s 29ms/step - loss: 0.2261 - accuracy: 0.8936\n",
            "Epoch 146/300\n",
            "32/32 [==============================] - 1s 21ms/step - loss: 0.2243 - accuracy: 0.8929\n",
            "Epoch 147/300\n",
            "32/32 [==============================] - 1s 20ms/step - loss: 0.2267 - accuracy: 0.8907\n",
            "Epoch 148/300\n",
            "32/32 [==============================] - 1s 19ms/step - loss: 0.2289 - accuracy: 0.8928\n",
            "Epoch 149/300\n",
            "32/32 [==============================] - 1s 18ms/step - loss: 0.2244 - accuracy: 0.8929\n",
            "Epoch 150/300\n",
            "32/32 [==============================] - 1s 24ms/step - loss: 0.2241 - accuracy: 0.8938\n",
            "Epoch 151/300\n",
            "32/32 [==============================] - 1s 22ms/step - loss: 0.2226 - accuracy: 0.8949\n",
            "Epoch 152/300\n",
            "32/32 [==============================] - 1s 23ms/step - loss: 0.2218 - accuracy: 0.8950\n",
            "Epoch 153/300\n",
            "32/32 [==============================] - 1s 24ms/step - loss: 0.2210 - accuracy: 0.8954\n",
            "Epoch 154/300\n",
            "32/32 [==============================] - 1s 17ms/step - loss: 0.2230 - accuracy: 0.8922\n",
            "Epoch 155/300\n",
            "32/32 [==============================] - 1s 18ms/step - loss: 0.2263 - accuracy: 0.8926\n",
            "Epoch 156/300\n",
            "32/32 [==============================] - 1s 19ms/step - loss: 0.2234 - accuracy: 0.8925\n",
            "Epoch 157/300\n",
            "32/32 [==============================] - 1s 22ms/step - loss: 0.2161 - accuracy: 0.8983\n",
            "Epoch 158/300\n",
            "32/32 [==============================] - 1s 16ms/step - loss: 0.2173 - accuracy: 0.8962\n",
            "Epoch 159/300\n",
            "32/32 [==============================] - 1s 17ms/step - loss: 0.2193 - accuracy: 0.8943\n",
            "Epoch 160/300\n",
            "32/32 [==============================] - 1s 16ms/step - loss: 0.2190 - accuracy: 0.8972\n",
            "Epoch 161/300\n",
            "32/32 [==============================] - 1s 17ms/step - loss: 0.2182 - accuracy: 0.8959\n",
            "Epoch 162/300\n",
            "32/32 [==============================] - 1s 19ms/step - loss: 0.2193 - accuracy: 0.8958\n",
            "Epoch 163/300\n",
            "32/32 [==============================] - 1s 17ms/step - loss: 0.2194 - accuracy: 0.8972\n",
            "Epoch 164/300\n",
            "32/32 [==============================] - 1s 18ms/step - loss: 0.2170 - accuracy: 0.8962\n",
            "Epoch 165/300\n",
            "32/32 [==============================] - 1s 17ms/step - loss: 0.2136 - accuracy: 0.8981\n",
            "Epoch 166/300\n",
            "32/32 [==============================] - 1s 23ms/step - loss: 0.2120 - accuracy: 0.9002\n",
            "Epoch 167/300\n",
            "32/32 [==============================] - 1s 17ms/step - loss: 0.2142 - accuracy: 0.8992\n",
            "Epoch 168/300\n",
            "32/32 [==============================] - 1s 24ms/step - loss: 0.2170 - accuracy: 0.8984\n",
            "Epoch 169/300\n",
            "32/32 [==============================] - 1s 31ms/step - loss: 0.2115 - accuracy: 0.9022\n",
            "Epoch 170/300\n",
            "32/32 [==============================] - 1s 18ms/step - loss: 0.2110 - accuracy: 0.9003\n",
            "Epoch 171/300\n",
            "32/32 [==============================] - 1s 17ms/step - loss: 0.2130 - accuracy: 0.8984\n",
            "Epoch 172/300\n",
            "32/32 [==============================] - 1s 17ms/step - loss: 0.2090 - accuracy: 0.9010\n",
            "Epoch 173/300\n",
            "32/32 [==============================] - 1s 16ms/step - loss: 0.2112 - accuracy: 0.8993\n",
            "Epoch 174/300\n",
            "32/32 [==============================] - 1s 18ms/step - loss: 0.2111 - accuracy: 0.9002\n",
            "Epoch 175/300\n",
            "32/32 [==============================] - 1s 18ms/step - loss: 0.2079 - accuracy: 0.8999\n",
            "Epoch 176/300\n",
            "32/32 [==============================] - 1s 21ms/step - loss: 0.2094 - accuracy: 0.9046\n",
            "Epoch 177/300\n",
            "32/32 [==============================] - 1s 19ms/step - loss: 0.2053 - accuracy: 0.9008\n",
            "Epoch 178/300\n",
            "32/32 [==============================] - 1s 18ms/step - loss: 0.2090 - accuracy: 0.9018\n",
            "Epoch 179/300\n",
            "32/32 [==============================] - 1s 17ms/step - loss: 0.2046 - accuracy: 0.9030\n",
            "Epoch 180/300\n",
            "32/32 [==============================] - 1s 17ms/step - loss: 0.2039 - accuracy: 0.9028\n",
            "Epoch 181/300\n",
            "32/32 [==============================] - 1s 17ms/step - loss: 0.2054 - accuracy: 0.9010\n",
            "Epoch 182/300\n",
            "32/32 [==============================] - 1s 16ms/step - loss: 0.2073 - accuracy: 0.9014\n",
            "Epoch 183/300\n",
            "32/32 [==============================] - 1s 17ms/step - loss: 0.2054 - accuracy: 0.9034\n",
            "Epoch 184/300\n",
            "32/32 [==============================] - 1s 24ms/step - loss: 0.2057 - accuracy: 0.9053\n",
            "Epoch 185/300\n",
            "32/32 [==============================] - 1s 18ms/step - loss: 0.2032 - accuracy: 0.9046\n",
            "Epoch 186/300\n",
            "32/32 [==============================] - 1s 19ms/step - loss: 0.2030 - accuracy: 0.9044\n",
            "Epoch 187/300\n",
            "32/32 [==============================] - 1s 17ms/step - loss: 0.2036 - accuracy: 0.9037\n",
            "Epoch 188/300\n",
            "32/32 [==============================] - 1s 24ms/step - loss: 0.2022 - accuracy: 0.9055\n",
            "Epoch 189/300\n",
            "32/32 [==============================] - 1s 19ms/step - loss: 0.2027 - accuracy: 0.9035\n",
            "Epoch 190/300\n",
            "32/32 [==============================] - 1s 18ms/step - loss: 0.2032 - accuracy: 0.9036\n",
            "Epoch 191/300\n",
            "32/32 [==============================] - 1s 18ms/step - loss: 0.2028 - accuracy: 0.9043\n",
            "Epoch 192/300\n",
            "32/32 [==============================] - 1s 25ms/step - loss: 0.2007 - accuracy: 0.9068\n",
            "Epoch 193/300\n",
            "32/32 [==============================] - 1s 18ms/step - loss: 0.1983 - accuracy: 0.9047\n",
            "Epoch 194/300\n",
            "32/32 [==============================] - 1s 18ms/step - loss: 0.1979 - accuracy: 0.9059\n",
            "Epoch 195/300\n",
            "32/32 [==============================] - 0s 15ms/step - loss: 0.1993 - accuracy: 0.9038\n",
            "Epoch 196/300\n",
            "32/32 [==============================] - 0s 15ms/step - loss: 0.2000 - accuracy: 0.9059\n",
            "Epoch 197/300\n",
            "32/32 [==============================] - 0s 15ms/step - loss: 0.1981 - accuracy: 0.9043\n",
            "Epoch 198/300\n",
            "32/32 [==============================] - 0s 15ms/step - loss: 0.1970 - accuracy: 0.9059\n",
            "Epoch 199/300\n",
            "32/32 [==============================] - 1s 19ms/step - loss: 0.1976 - accuracy: 0.9073\n",
            "Epoch 200/300\n",
            "32/32 [==============================] - 0s 15ms/step - loss: 0.1965 - accuracy: 0.9071\n",
            "Epoch 201/300\n",
            "32/32 [==============================] - 1s 19ms/step - loss: 0.1945 - accuracy: 0.9078\n",
            "Epoch 202/300\n",
            "32/32 [==============================] - 0s 15ms/step - loss: 0.1933 - accuracy: 0.9078\n",
            "Epoch 203/300\n",
            "32/32 [==============================] - 1s 19ms/step - loss: 0.1939 - accuracy: 0.9100\n",
            "Epoch 204/300\n",
            "32/32 [==============================] - 0s 15ms/step - loss: 0.1929 - accuracy: 0.9082\n",
            "Epoch 205/300\n",
            "32/32 [==============================] - 0s 15ms/step - loss: 0.1938 - accuracy: 0.9086\n",
            "Epoch 206/300\n",
            "32/32 [==============================] - 0s 15ms/step - loss: 0.1989 - accuracy: 0.9061\n",
            "Epoch 207/300\n",
            "32/32 [==============================] - 0s 15ms/step - loss: 0.1934 - accuracy: 0.9096\n",
            "Epoch 208/300\n",
            "32/32 [==============================] - 1s 19ms/step - loss: 0.1923 - accuracy: 0.9103\n",
            "Epoch 209/300\n",
            "32/32 [==============================] - 1s 16ms/step - loss: 0.1937 - accuracy: 0.9074\n",
            "Epoch 210/300\n",
            "32/32 [==============================] - 1s 16ms/step - loss: 0.1908 - accuracy: 0.9083\n",
            "Epoch 211/300\n",
            "32/32 [==============================] - 1s 19ms/step - loss: 0.1869 - accuracy: 0.9138\n",
            "Epoch 212/300\n",
            "32/32 [==============================] - 0s 15ms/step - loss: 0.1893 - accuracy: 0.9098\n",
            "Epoch 213/300\n",
            "32/32 [==============================] - 0s 15ms/step - loss: 0.1894 - accuracy: 0.9092\n",
            "Epoch 214/300\n",
            "32/32 [==============================] - 1s 16ms/step - loss: 0.1906 - accuracy: 0.9103\n",
            "Epoch 215/300\n",
            "32/32 [==============================] - 0s 15ms/step - loss: 0.1875 - accuracy: 0.9118\n",
            "Epoch 216/300\n",
            "32/32 [==============================] - 0s 15ms/step - loss: 0.1914 - accuracy: 0.9112\n",
            "Epoch 217/300\n",
            "32/32 [==============================] - 0s 15ms/step - loss: 0.1874 - accuracy: 0.9137\n",
            "Epoch 218/300\n",
            "32/32 [==============================] - 1s 16ms/step - loss: 0.1880 - accuracy: 0.9114\n",
            "Epoch 219/300\n",
            "32/32 [==============================] - 0s 15ms/step - loss: 0.1884 - accuracy: 0.9110\n",
            "Epoch 220/300\n",
            "32/32 [==============================] - 0s 16ms/step - loss: 0.1893 - accuracy: 0.9107\n",
            "Epoch 221/300\n",
            "32/32 [==============================] - 1s 16ms/step - loss: 0.1855 - accuracy: 0.9136\n",
            "Epoch 222/300\n",
            "32/32 [==============================] - 1s 19ms/step - loss: 0.1833 - accuracy: 0.9158\n",
            "Epoch 223/300\n",
            "32/32 [==============================] - 0s 15ms/step - loss: 0.1834 - accuracy: 0.9135\n",
            "Epoch 224/300\n",
            "32/32 [==============================] - 0s 15ms/step - loss: 0.1847 - accuracy: 0.9135\n",
            "Epoch 225/300\n",
            "32/32 [==============================] - 0s 15ms/step - loss: 0.1829 - accuracy: 0.9124\n",
            "Epoch 226/300\n",
            "32/32 [==============================] - 1s 19ms/step - loss: 0.1812 - accuracy: 0.9172\n",
            "Epoch 227/300\n",
            "32/32 [==============================] - 1s 16ms/step - loss: 0.1838 - accuracy: 0.9128\n",
            "Epoch 228/300\n",
            "32/32 [==============================] - 1s 17ms/step - loss: 0.1847 - accuracy: 0.9119\n",
            "Epoch 229/300\n",
            "32/32 [==============================] - 1s 19ms/step - loss: 0.1869 - accuracy: 0.9114\n",
            "Epoch 230/300\n",
            "32/32 [==============================] - 1s 19ms/step - loss: 0.1817 - accuracy: 0.9155\n",
            "Epoch 231/300\n",
            "32/32 [==============================] - 1s 19ms/step - loss: 0.1854 - accuracy: 0.9144\n",
            "Epoch 232/300\n",
            "32/32 [==============================] - 1s 18ms/step - loss: 0.1849 - accuracy: 0.9155\n",
            "Epoch 233/300\n",
            "32/32 [==============================] - 1s 18ms/step - loss: 0.1863 - accuracy: 0.9121\n",
            "Epoch 234/300\n",
            "32/32 [==============================] - 1s 23ms/step - loss: 0.1775 - accuracy: 0.9174\n",
            "Epoch 235/300\n",
            "32/32 [==============================] - 1s 17ms/step - loss: 0.1789 - accuracy: 0.9165\n",
            "Epoch 236/300\n",
            "32/32 [==============================] - 1s 17ms/step - loss: 0.1827 - accuracy: 0.9134\n",
            "Epoch 237/300\n",
            "32/32 [==============================] - 1s 18ms/step - loss: 0.1788 - accuracy: 0.9167\n",
            "Epoch 238/300\n",
            "32/32 [==============================] - 1s 17ms/step - loss: 0.1818 - accuracy: 0.9132\n",
            "Epoch 239/300\n",
            "32/32 [==============================] - 1s 17ms/step - loss: 0.1807 - accuracy: 0.9163\n",
            "Epoch 240/300\n",
            "32/32 [==============================] - 1s 23ms/step - loss: 0.1789 - accuracy: 0.9190\n",
            "Epoch 241/300\n",
            "32/32 [==============================] - 1s 19ms/step - loss: 0.1773 - accuracy: 0.9158\n",
            "Epoch 242/300\n",
            "32/32 [==============================] - 1s 18ms/step - loss: 0.1784 - accuracy: 0.9174\n",
            "Epoch 243/300\n",
            "32/32 [==============================] - 1s 18ms/step - loss: 0.1767 - accuracy: 0.9178\n",
            "Epoch 244/300\n",
            "32/32 [==============================] - 1s 18ms/step - loss: 0.1753 - accuracy: 0.9183\n",
            "Epoch 245/300\n",
            "32/32 [==============================] - 1s 18ms/step - loss: 0.1744 - accuracy: 0.9189\n",
            "Epoch 246/300\n",
            "32/32 [==============================] - 1s 17ms/step - loss: 0.1772 - accuracy: 0.9172\n",
            "Epoch 247/300\n",
            "32/32 [==============================] - 0s 15ms/step - loss: 0.1780 - accuracy: 0.9179\n",
            "Epoch 248/300\n",
            "32/32 [==============================] - 0s 15ms/step - loss: 0.1734 - accuracy: 0.9177\n",
            "Epoch 249/300\n",
            "32/32 [==============================] - 1s 23ms/step - loss: 0.1721 - accuracy: 0.9197\n",
            "Epoch 250/300\n",
            "32/32 [==============================] - 1s 16ms/step - loss: 0.1754 - accuracy: 0.9158\n",
            "Epoch 251/300\n",
            "32/32 [==============================] - 1s 21ms/step - loss: 0.1748 - accuracy: 0.9208\n",
            "Epoch 252/300\n",
            "32/32 [==============================] - 1s 16ms/step - loss: 0.1706 - accuracy: 0.9201\n",
            "Epoch 253/300\n",
            "32/32 [==============================] - 1s 16ms/step - loss: 0.1770 - accuracy: 0.9185\n",
            "Epoch 254/300\n",
            "32/32 [==============================] - 1s 16ms/step - loss: 0.1707 - accuracy: 0.9188\n",
            "Epoch 255/300\n",
            "32/32 [==============================] - 1s 16ms/step - loss: 0.1740 - accuracy: 0.9178\n",
            "Epoch 256/300\n",
            "32/32 [==============================] - 1s 21ms/step - loss: 0.1683 - accuracy: 0.9210\n",
            "Epoch 257/300\n",
            "32/32 [==============================] - 1s 22ms/step - loss: 0.1703 - accuracy: 0.9220\n",
            "Epoch 258/300\n",
            "32/32 [==============================] - 1s 19ms/step - loss: 0.1693 - accuracy: 0.9204\n",
            "Epoch 259/300\n",
            "32/32 [==============================] - 1s 19ms/step - loss: 0.1677 - accuracy: 0.9204\n",
            "Epoch 260/300\n",
            "32/32 [==============================] - 1s 19ms/step - loss: 0.1672 - accuracy: 0.9206\n",
            "Epoch 261/300\n",
            "32/32 [==============================] - 1s 18ms/step - loss: 0.1703 - accuracy: 0.9204\n",
            "Epoch 262/300\n",
            "32/32 [==============================] - 1s 18ms/step - loss: 0.1716 - accuracy: 0.9210\n",
            "Epoch 263/300\n",
            "32/32 [==============================] - 1s 24ms/step - loss: 0.1677 - accuracy: 0.9224\n",
            "Epoch 264/300\n",
            "32/32 [==============================] - 1s 25ms/step - loss: 0.1663 - accuracy: 0.9226\n",
            "Epoch 265/300\n",
            "32/32 [==============================] - 1s 23ms/step - loss: 0.1667 - accuracy: 0.9240\n",
            "Epoch 266/300\n",
            "32/32 [==============================] - 1s 18ms/step - loss: 0.1672 - accuracy: 0.9235\n",
            "Epoch 267/300\n",
            "32/32 [==============================] - 1s 19ms/step - loss: 0.1628 - accuracy: 0.9243\n",
            "Epoch 268/300\n",
            "32/32 [==============================] - 1s 16ms/step - loss: 0.1674 - accuracy: 0.9214\n",
            "Epoch 269/300\n",
            "32/32 [==============================] - 1s 16ms/step - loss: 0.1668 - accuracy: 0.9229\n",
            "Epoch 270/300\n",
            "32/32 [==============================] - 1s 16ms/step - loss: 0.1684 - accuracy: 0.9218\n",
            "Epoch 271/300\n",
            "32/32 [==============================] - 1s 23ms/step - loss: 0.1633 - accuracy: 0.9245\n",
            "Epoch 272/300\n",
            "32/32 [==============================] - 1s 19ms/step - loss: 0.1661 - accuracy: 0.9221\n",
            "Epoch 273/300\n",
            "32/32 [==============================] - 1s 26ms/step - loss: 0.1641 - accuracy: 0.9213\n",
            "Epoch 274/300\n",
            "32/32 [==============================] - 1s 36ms/step - loss: 0.1609 - accuracy: 0.9261\n",
            "Epoch 275/300\n",
            "32/32 [==============================] - 1s 27ms/step - loss: 0.1631 - accuracy: 0.9215\n",
            "Epoch 276/300\n",
            "32/32 [==============================] - 1s 24ms/step - loss: 0.1645 - accuracy: 0.9220\n",
            "Epoch 277/300\n",
            "32/32 [==============================] - 1s 26ms/step - loss: 0.1618 - accuracy: 0.9231\n",
            "Epoch 278/300\n",
            "32/32 [==============================] - 1s 25ms/step - loss: 0.1641 - accuracy: 0.9229\n",
            "Epoch 279/300\n",
            "32/32 [==============================] - 1s 25ms/step - loss: 0.1596 - accuracy: 0.9243\n",
            "Epoch 280/300\n",
            "32/32 [==============================] - 1s 25ms/step - loss: 0.1631 - accuracy: 0.9240\n",
            "Epoch 281/300\n",
            "32/32 [==============================] - 1s 27ms/step - loss: 0.1663 - accuracy: 0.9245\n",
            "Epoch 282/300\n",
            "32/32 [==============================] - 1s 25ms/step - loss: 0.1618 - accuracy: 0.9258\n",
            "Epoch 283/300\n",
            "32/32 [==============================] - 1s 31ms/step - loss: 0.1605 - accuracy: 0.9268\n",
            "Epoch 284/300\n",
            "32/32 [==============================] - 1s 35ms/step - loss: 0.1591 - accuracy: 0.9270\n",
            "Epoch 285/300\n",
            "32/32 [==============================] - 1s 29ms/step - loss: 0.1620 - accuracy: 0.9231\n",
            "Epoch 286/300\n",
            "32/32 [==============================] - 1s 26ms/step - loss: 0.1592 - accuracy: 0.9289\n",
            "Epoch 287/300\n",
            "32/32 [==============================] - 1s 17ms/step - loss: 0.1637 - accuracy: 0.9244\n",
            "Epoch 288/300\n",
            "32/32 [==============================] - 1s 23ms/step - loss: 0.1573 - accuracy: 0.9291\n",
            "Epoch 289/300\n",
            "32/32 [==============================] - 1s 18ms/step - loss: 0.1595 - accuracy: 0.9267\n",
            "Epoch 290/300\n",
            "32/32 [==============================] - 1s 18ms/step - loss: 0.1547 - accuracy: 0.9274\n",
            "Epoch 291/300\n",
            "32/32 [==============================] - 1s 18ms/step - loss: 0.1573 - accuracy: 0.9262\n",
            "Epoch 292/300\n",
            "32/32 [==============================] - 1s 18ms/step - loss: 0.1578 - accuracy: 0.9287\n",
            "Epoch 293/300\n",
            "32/32 [==============================] - 1s 25ms/step - loss: 0.1582 - accuracy: 0.9292\n",
            "Epoch 294/300\n",
            "32/32 [==============================] - 1s 23ms/step - loss: 0.1556 - accuracy: 0.9295\n",
            "Epoch 295/300\n",
            "32/32 [==============================] - 1s 16ms/step - loss: 0.1576 - accuracy: 0.9279\n",
            "Epoch 296/300\n",
            "32/32 [==============================] - 1s 18ms/step - loss: 0.1609 - accuracy: 0.9252\n",
            "Epoch 297/300\n",
            "32/32 [==============================] - 1s 17ms/step - loss: 0.1603 - accuracy: 0.9270\n",
            "Epoch 298/300\n",
            "32/32 [==============================] - 1s 24ms/step - loss: 0.1516 - accuracy: 0.9302\n",
            "Epoch 299/300\n",
            "32/32 [==============================] - 1s 18ms/step - loss: 0.1534 - accuracy: 0.9282\n",
            "Epoch 300/300\n",
            "32/32 [==============================] - 1s 18ms/step - loss: 0.1541 - accuracy: 0.9294\n"
          ]
        }
      ]
    },
    {
      "cell_type": "code",
      "source": [
        "def plt_show_loss(history):\n",
        "  plt.plot(history.history['loss'])\n",
        "  plt.title('Model Loss')\n",
        "  plt.ylabel('Loss')\n",
        "  plt.xlabel('Epoch')\n",
        "  plt.legend(['train', 'test'], loc=0)\n",
        "\n",
        "plt_show_loss(history)\n",
        "plt.show()"
      ],
      "metadata": {
        "colab": {
          "base_uri": "https://localhost:8080/",
          "height": 295
        },
        "id": "XnVpz2Y-44GH",
        "outputId": "f22e6005-2593-43f3-8f13-16f25512525d"
      },
      "execution_count": null,
      "outputs": [
        {
          "output_type": "display_data",
          "data": {
            "text/plain": [
              "<Figure size 432x288 with 1 Axes>"
            ],
            "image/png": "[encoded data removed]"
          },
          "metadata": {
            "needs_background": "light"
          }
        }
      ]
    },
    {
      "cell_type": "code",
      "source": [
        "def plt_show_acc(history):\n",
        "  plt.plot(history.history['accuracy'])\n",
        "  plt.title(\"Model accuracy\")\n",
        "  plt.ylabel(\"Accuracy\")\n",
        "  plt.xlabel(\"Epoch\")\n",
        "  plt.legend(['train', 'test'], loc=0)\n",
        "\n",
        "plt_show_acc(history)\n",
        "plt.show()"
      ],
      "metadata": {
        "colab": {
          "base_uri": "https://localhost:8080/",
          "height": 295
        },
        "id": "AiTOEPMK5-Ui",
        "outputId": "2b437446-5893-432f-fbb5-78138c6b372f"
      },
      "execution_count": null,
      "outputs": [
        {
          "output_type": "display_data",
          "data": {
            "text/plain": [
              "<Figure size 432x288 with 1 Axes>"
            ],
            "image/png": "[encoded data removed]"
          },
          "metadata": {
            "needs_background": "light"
          }
        }
      ]
    },
    {
      "cell_type": "markdown",
      "source": [
        "#### LSTM"
      ],
      "metadata": {
        "id": "9ePxhlzsKgkf"
      }
    },
    {
      "cell_type": "code",
      "source": [
        "LSTM_X_train = np.array(X_train).reshape(X_train.shape[0], 1, X_train.shape[1])\n",
        "LSTM_X_test = np.array(X_test).reshape(X_test.shape[0], 1, X_test.shape[1])"
      ],
      "metadata": {
        "id": "YUdwkeLa62GH"
      },
      "execution_count": null,
      "outputs": []
    },
    {
      "cell_type": "code",
      "source": [
        "time_step=1\n",
        "lstm1 = Sequential(name='lstm1')\n",
        "lstm1.add(LSTM(2000, activation='relu', input_shape=(time_step, 14), name='LSTM1'))\n",
        "lstm1.add(Dropout(0.25,name='dropout1'))\n",
        "lstm1.add(Dense(units=400, activation='relu', name='hiddne1'))\n",
        "lstm1.add(Dropout(0.25, name='dropout2'))\n",
        "lstm1.add(Dense(100, activation='relu', name='hidden2'))\n",
        "lstm1.add(Dropout(0.25, name='dropout3'))\n",
        "lstm1.add(Dense(25, activation='relu', name='hiddne3'))\n",
        "lstm1.add(Dropout(0.25, name='dropout4'))\n",
        "lstm1.add(Dense(units=1, activation='sigmoid', name='output'))\n",
        "\n",
        "lstm1.summary()"
      ],
      "metadata": {
        "colab": {
          "base_uri": "https://localhost:8080/"
        },
        "id": "s96J9lJ16a3l",
        "outputId": "656a21f5-a30e-4380-adef-8c99a11ec711"
      },
      "execution_count": null,
      "outputs": [
        {
          "output_type": "stream",
          "name": "stdout",
          "text": [
            "WARNING:tensorflow:Layer LSTM1 will not use cuDNN kernels since it doesn't meet the criteria. It will use a generic GPU kernel as fallback when running on GPU.\n",
            "Model: \"lstm1\"\n",
            "_________________________________________________________________\n",
            " Layer (type)                Output Shape              Param #   \n",
            "=================================================================\n",
            " LSTM1 (LSTM)                (None, 2000)              16120000  \n",
            "                                                                 \n",
            " dropout1 (Dropout)          (None, 2000)              0         \n",
            "                                                                 \n",
            " hiddne1 (Dense)             (None, 400)               800400    \n",
            "                                                                 \n",
            " dropout2 (Dropout)          (None, 400)               0         \n",
            "                                                                 \n",
            " hidden2 (Dense)             (None, 100)               40100     \n",
            "                                                                 \n",
            " dropout3 (Dropout)          (None, 100)               0         \n",
            "                                                                 \n",
            " hiddne3 (Dense)             (None, 25)                2525      \n",
            "                                                                 \n",
            " dropout4 (Dropout)          (None, 25)                0         \n",
            "                                                                 \n",
            " output (Dense)              (None, 1)                 26        \n",
            "                                                                 \n",
            "=================================================================\n",
            "Total params: 16,963,051\n",
            "Trainable params: 16,963,051\n",
            "Non-trainable params: 0\n",
            "_________________________________________________________________\n"
          ]
        }
      ]
    },
    {
      "cell_type": "code",
      "source": [
        "lstm1.compile(optimizer=Adam(1e-5), loss='BinaryCrossentropy', metrics=['accuracy'])\n",
        "mc = ModelCheckpoint(filepath='lstm_best.h5', monitor='accuracy', save_best_only=True)"
      ],
      "metadata": {
        "id": "xoYgA5TK8Det"
      },
      "execution_count": null,
      "outputs": []
    },
    {
      "cell_type": "code",
      "source": [
        "history2 = lstm1.fit(LSTM_X_train, y_train, epochs=300, batch_size=500, callbacks=[mc])"
      ],
      "metadata": {
        "colab": {
          "base_uri": "https://localhost:8080/"
        },
        "id": "PCQfxcSX8Q2h",
        "outputId": "4d5fa055-b0cb-498b-e73a-7f4780f82db9"
      },
      "execution_count": null,
      "outputs": [
        {
          "output_type": "stream",
          "name": "stdout",
          "text": [
            "Epoch 1/300\n",
            "32/32 [==============================] - 4s 66ms/step - loss: 0.6919 - accuracy: 0.5656\n",
            "Epoch 2/300\n",
            "32/32 [==============================] - 2s 67ms/step - loss: 0.6851 - accuracy: 0.7567\n",
            "Epoch 3/300\n",
            "32/32 [==============================] - 2s 67ms/step - loss: 0.6761 - accuracy: 0.7769\n",
            "Epoch 4/300\n",
            "32/32 [==============================] - 2s 67ms/step - loss: 0.6638 - accuracy: 0.7813\n",
            "Epoch 5/300\n",
            "32/32 [==============================] - 2s 67ms/step - loss: 0.6485 - accuracy: 0.7857\n",
            "Epoch 6/300\n",
            "32/32 [==============================] - 2s 67ms/step - loss: 0.6320 - accuracy: 0.7894\n",
            "Epoch 7/300\n",
            "32/32 [==============================] - 2s 67ms/step - loss: 0.6131 - accuracy: 0.8005\n",
            "Epoch 8/300\n",
            "32/32 [==============================] - 2s 66ms/step - loss: 0.5923 - accuracy: 0.8071\n",
            "Epoch 9/300\n",
            "32/32 [==============================] - 2s 68ms/step - loss: 0.5692 - accuracy: 0.8145\n",
            "Epoch 10/300\n",
            "32/32 [==============================] - 2s 67ms/step - loss: 0.5464 - accuracy: 0.8175\n",
            "Epoch 11/300\n",
            "32/32 [==============================] - 2s 67ms/step - loss: 0.5234 - accuracy: 0.8228\n",
            "Epoch 12/300\n",
            "32/32 [==============================] - 2s 67ms/step - loss: 0.5011 - accuracy: 0.8271\n",
            "Epoch 13/300\n",
            "32/32 [==============================] - 2s 68ms/step - loss: 0.4805 - accuracy: 0.8277\n",
            "Epoch 14/300\n",
            "32/32 [==============================] - 2s 69ms/step - loss: 0.4622 - accuracy: 0.8281\n",
            "Epoch 15/300\n",
            "32/32 [==============================] - 2s 68ms/step - loss: 0.4451 - accuracy: 0.8315\n",
            "Epoch 16/300\n",
            "32/32 [==============================] - 2s 68ms/step - loss: 0.4293 - accuracy: 0.8331\n",
            "Epoch 17/300\n",
            "32/32 [==============================] - 2s 51ms/step - loss: 0.4185 - accuracy: 0.8322\n",
            "Epoch 18/300\n",
            "32/32 [==============================] - 2s 67ms/step - loss: 0.4087 - accuracy: 0.8335\n",
            "Epoch 19/300\n",
            "32/32 [==============================] - 2s 52ms/step - loss: 0.3989 - accuracy: 0.8326\n",
            "Epoch 20/300\n",
            "32/32 [==============================] - 3s 81ms/step - loss: 0.3909 - accuracy: 0.8349\n",
            "Epoch 21/300\n",
            "32/32 [==============================] - 3s 82ms/step - loss: 0.3865 - accuracy: 0.8351\n",
            "Epoch 22/300\n",
            "32/32 [==============================] - 2s 77ms/step - loss: 0.3810 - accuracy: 0.8357\n",
            "Epoch 23/300\n",
            "32/32 [==============================] - 2s 56ms/step - loss: 0.3772 - accuracy: 0.8341\n",
            "Epoch 24/300\n",
            "32/32 [==============================] - 2s 78ms/step - loss: 0.3739 - accuracy: 0.8364\n",
            "Epoch 25/300\n",
            "32/32 [==============================] - 3s 79ms/step - loss: 0.3706 - accuracy: 0.8373\n",
            "Epoch 26/300\n",
            "32/32 [==============================] - 2s 52ms/step - loss: 0.3681 - accuracy: 0.8356\n",
            "Epoch 27/300\n",
            "32/32 [==============================] - 2s 51ms/step - loss: 0.3687 - accuracy: 0.8354\n",
            "Epoch 28/300\n",
            "32/32 [==============================] - 2s 51ms/step - loss: 0.3656 - accuracy: 0.8360\n",
            "Epoch 29/300\n",
            "32/32 [==============================] - 2s 53ms/step - loss: 0.3660 - accuracy: 0.8347\n",
            "Epoch 30/300\n",
            "32/32 [==============================] - 2s 52ms/step - loss: 0.3624 - accuracy: 0.8353\n",
            "Epoch 31/300\n",
            "32/32 [==============================] - 2s 67ms/step - loss: 0.3638 - accuracy: 0.8377\n",
            "Epoch 32/300\n",
            "32/32 [==============================] - 2s 68ms/step - loss: 0.3611 - accuracy: 0.8387\n",
            "Epoch 33/300\n",
            "32/32 [==============================] - 2s 51ms/step - loss: 0.3592 - accuracy: 0.8356\n",
            "Epoch 34/300\n",
            "32/32 [==============================] - 2s 52ms/step - loss: 0.3590 - accuracy: 0.8373\n",
            "Epoch 35/300\n",
            "32/32 [==============================] - 2s 51ms/step - loss: 0.3615 - accuracy: 0.8359\n",
            "Epoch 36/300\n",
            "32/32 [==============================] - 2s 53ms/step - loss: 0.3597 - accuracy: 0.8378\n",
            "Epoch 37/300\n",
            "32/32 [==============================] - 2s 54ms/step - loss: 0.3570 - accuracy: 0.8376\n",
            "Epoch 38/300\n",
            "32/32 [==============================] - 2s 55ms/step - loss: 0.3574 - accuracy: 0.8361\n",
            "Epoch 39/300\n",
            "32/32 [==============================] - 2s 51ms/step - loss: 0.3574 - accuracy: 0.8376\n",
            "Epoch 40/300\n",
            "32/32 [==============================] - 2s 52ms/step - loss: 0.3561 - accuracy: 0.8375\n",
            "Epoch 41/300\n",
            "32/32 [==============================] - 2s 51ms/step - loss: 0.3565 - accuracy: 0.8373\n",
            "Epoch 42/300\n",
            "32/32 [==============================] - 2s 52ms/step - loss: 0.3548 - accuracy: 0.8363\n",
            "Epoch 43/300\n",
            "32/32 [==============================] - 2s 56ms/step - loss: 0.3529 - accuracy: 0.8370\n",
            "Epoch 44/300\n",
            "32/32 [==============================] - 2s 67ms/step - loss: 0.3529 - accuracy: 0.8390\n",
            "Epoch 45/300\n",
            "32/32 [==============================] - 2s 52ms/step - loss: 0.3549 - accuracy: 0.8369\n",
            "Epoch 46/300\n",
            "32/32 [==============================] - 2s 52ms/step - loss: 0.3556 - accuracy: 0.8367\n",
            "Epoch 47/300\n",
            "32/32 [==============================] - 2s 70ms/step - loss: 0.3539 - accuracy: 0.8393\n",
            "Epoch 48/300\n",
            "32/32 [==============================] - 2s 52ms/step - loss: 0.3553 - accuracy: 0.8366\n",
            "Epoch 49/300\n",
            "32/32 [==============================] - 2s 51ms/step - loss: 0.3560 - accuracy: 0.8377\n",
            "Epoch 50/300\n",
            "32/32 [==============================] - 2s 51ms/step - loss: 0.3546 - accuracy: 0.8388\n",
            "Epoch 51/300\n",
            "32/32 [==============================] - 2s 52ms/step - loss: 0.3531 - accuracy: 0.8365\n",
            "Epoch 52/300\n",
            "32/32 [==============================] - 2s 52ms/step - loss: 0.3519 - accuracy: 0.8386\n",
            "Epoch 53/300\n",
            "32/32 [==============================] - 2s 52ms/step - loss: 0.3536 - accuracy: 0.8380\n",
            "Epoch 54/300\n",
            "32/32 [==============================] - 2s 52ms/step - loss: 0.3530 - accuracy: 0.8385\n",
            "Epoch 55/300\n",
            "32/32 [==============================] - 2s 52ms/step - loss: 0.3536 - accuracy: 0.8383\n",
            "Epoch 56/300\n",
            "32/32 [==============================] - 2s 52ms/step - loss: 0.3519 - accuracy: 0.8372\n",
            "Epoch 57/300\n",
            "32/32 [==============================] - 2s 68ms/step - loss: 0.3504 - accuracy: 0.8413\n",
            "Epoch 58/300\n",
            "32/32 [==============================] - 2s 52ms/step - loss: 0.3530 - accuracy: 0.8389\n",
            "Epoch 59/300\n",
            "32/32 [==============================] - 2s 52ms/step - loss: 0.3500 - accuracy: 0.8392\n",
            "Epoch 60/300\n",
            "32/32 [==============================] - 2s 52ms/step - loss: 0.3499 - accuracy: 0.8392\n",
            "Epoch 61/300\n",
            "32/32 [==============================] - 2s 52ms/step - loss: 0.3504 - accuracy: 0.8390\n",
            "Epoch 62/300\n",
            "32/32 [==============================] - 2s 52ms/step - loss: 0.3491 - accuracy: 0.8398\n",
            "Epoch 63/300\n",
            "32/32 [==============================] - 2s 52ms/step - loss: 0.3511 - accuracy: 0.8400\n",
            "Epoch 64/300\n",
            "32/32 [==============================] - 2s 52ms/step - loss: 0.3477 - accuracy: 0.8390\n",
            "Epoch 65/300\n",
            "32/32 [==============================] - 2s 52ms/step - loss: 0.3496 - accuracy: 0.8384\n",
            "Epoch 66/300\n",
            "32/32 [==============================] - 2s 53ms/step - loss: 0.3478 - accuracy: 0.8390\n",
            "Epoch 67/300\n",
            "32/32 [==============================] - 2s 53ms/step - loss: 0.3485 - accuracy: 0.8400\n",
            "Epoch 68/300\n",
            "32/32 [==============================] - 2s 53ms/step - loss: 0.3508 - accuracy: 0.8404\n",
            "Epoch 69/300\n",
            "32/32 [==============================] - 2s 52ms/step - loss: 0.3496 - accuracy: 0.8393\n",
            "Epoch 70/300\n",
            "32/32 [==============================] - 2s 52ms/step - loss: 0.3488 - accuracy: 0.8390\n",
            "Epoch 71/300\n",
            "32/32 [==============================] - 2s 52ms/step - loss: 0.3496 - accuracy: 0.8400\n",
            "Epoch 72/300\n",
            "32/32 [==============================] - 2s 53ms/step - loss: 0.3487 - accuracy: 0.8399\n",
            "Epoch 73/300\n",
            "32/32 [==============================] - 2s 52ms/step - loss: 0.3490 - accuracy: 0.8375\n",
            "Epoch 74/300\n",
            "32/32 [==============================] - 2s 52ms/step - loss: 0.3487 - accuracy: 0.8388\n",
            "Epoch 75/300\n",
            "32/32 [==============================] - 2s 53ms/step - loss: 0.3488 - accuracy: 0.8398\n",
            "Epoch 76/300\n",
            "32/32 [==============================] - 2s 52ms/step - loss: 0.3492 - accuracy: 0.8395\n",
            "Epoch 77/300\n",
            "32/32 [==============================] - 2s 52ms/step - loss: 0.3483 - accuracy: 0.8377\n",
            "Epoch 78/300\n",
            "32/32 [==============================] - 2s 51ms/step - loss: 0.3482 - accuracy: 0.8404\n",
            "Epoch 79/300\n",
            "32/32 [==============================] - 2s 52ms/step - loss: 0.3488 - accuracy: 0.8393\n",
            "Epoch 80/300\n",
            "32/32 [==============================] - 2s 68ms/step - loss: 0.3456 - accuracy: 0.8415\n",
            "Epoch 81/300\n",
            "32/32 [==============================] - 2s 52ms/step - loss: 0.3469 - accuracy: 0.8392\n",
            "Epoch 82/300\n",
            "32/32 [==============================] - 2s 51ms/step - loss: 0.3463 - accuracy: 0.8397\n",
            "Epoch 83/300\n",
            "32/32 [==============================] - 2s 52ms/step - loss: 0.3464 - accuracy: 0.8414\n",
            "Epoch 84/300\n",
            "32/32 [==============================] - 2s 51ms/step - loss: 0.3477 - accuracy: 0.8386\n",
            "Epoch 85/300\n",
            "32/32 [==============================] - 2s 53ms/step - loss: 0.3467 - accuracy: 0.8400\n",
            "Epoch 86/300\n",
            "32/32 [==============================] - 2s 57ms/step - loss: 0.3463 - accuracy: 0.8406\n",
            "Epoch 87/300\n",
            "32/32 [==============================] - 2s 52ms/step - loss: 0.3441 - accuracy: 0.8407\n",
            "Epoch 88/300\n",
            "32/32 [==============================] - 2s 67ms/step - loss: 0.3462 - accuracy: 0.8420\n",
            "Epoch 89/300\n",
            "32/32 [==============================] - 2s 52ms/step - loss: 0.3450 - accuracy: 0.8408\n",
            "Epoch 90/300\n",
            "32/32 [==============================] - 2s 52ms/step - loss: 0.3455 - accuracy: 0.8397\n",
            "Epoch 91/300\n",
            "32/32 [==============================] - 2s 52ms/step - loss: 0.3462 - accuracy: 0.8406\n",
            "Epoch 92/300\n",
            "32/32 [==============================] - 2s 67ms/step - loss: 0.3446 - accuracy: 0.8422\n",
            "Epoch 93/300\n",
            "32/32 [==============================] - 2s 53ms/step - loss: 0.3419 - accuracy: 0.8409\n",
            "Epoch 94/300\n",
            "32/32 [==============================] - 2s 68ms/step - loss: 0.3436 - accuracy: 0.8425\n",
            "Epoch 95/300\n",
            "32/32 [==============================] - 2s 52ms/step - loss: 0.3434 - accuracy: 0.8422\n",
            "Epoch 96/300\n",
            "32/32 [==============================] - 2s 52ms/step - loss: 0.3433 - accuracy: 0.8413\n",
            "Epoch 97/300\n",
            "32/32 [==============================] - 2s 52ms/step - loss: 0.3429 - accuracy: 0.8418\n",
            "Epoch 98/300\n",
            "32/32 [==============================] - 2s 52ms/step - loss: 0.3418 - accuracy: 0.8417\n",
            "Epoch 99/300\n",
            "32/32 [==============================] - 2s 52ms/step - loss: 0.3457 - accuracy: 0.8403\n",
            "Epoch 100/300\n",
            "32/32 [==============================] - 2s 52ms/step - loss: 0.3433 - accuracy: 0.8420\n",
            "Epoch 101/300\n",
            "32/32 [==============================] - 2s 52ms/step - loss: 0.3440 - accuracy: 0.8412\n",
            "Epoch 102/300\n",
            "32/32 [==============================] - 2s 52ms/step - loss: 0.3426 - accuracy: 0.8408\n",
            "Epoch 103/300\n",
            "32/32 [==============================] - 2s 53ms/step - loss: 0.3449 - accuracy: 0.8416\n",
            "Epoch 104/300\n",
            "32/32 [==============================] - 2s 53ms/step - loss: 0.3431 - accuracy: 0.8406\n",
            "Epoch 105/300\n",
            "32/32 [==============================] - 2s 79ms/step - loss: 0.3417 - accuracy: 0.8428\n",
            "Epoch 106/300\n",
            "32/32 [==============================] - 2s 52ms/step - loss: 0.3429 - accuracy: 0.8399\n",
            "Epoch 107/300\n",
            "32/32 [==============================] - 2s 73ms/step - loss: 0.3437 - accuracy: 0.8429\n",
            "Epoch 108/300\n",
            "32/32 [==============================] - 2s 52ms/step - loss: 0.3439 - accuracy: 0.8412\n",
            "Epoch 109/300\n",
            "32/32 [==============================] - 2s 52ms/step - loss: 0.3435 - accuracy: 0.8420\n",
            "Epoch 110/300\n",
            "32/32 [==============================] - 2s 52ms/step - loss: 0.3440 - accuracy: 0.8405\n",
            "Epoch 111/300\n",
            "32/32 [==============================] - 2s 52ms/step - loss: 0.3422 - accuracy: 0.8425\n",
            "Epoch 112/300\n",
            "32/32 [==============================] - 2s 68ms/step - loss: 0.3411 - accuracy: 0.8436\n",
            "Epoch 113/300\n",
            "32/32 [==============================] - 2s 52ms/step - loss: 0.3418 - accuracy: 0.8431\n",
            "Epoch 114/300\n",
            "32/32 [==============================] - 2s 52ms/step - loss: 0.3419 - accuracy: 0.8435\n",
            "Epoch 115/300\n",
            "32/32 [==============================] - 2s 52ms/step - loss: 0.3411 - accuracy: 0.8417\n",
            "Epoch 116/300\n",
            "32/32 [==============================] - 2s 52ms/step - loss: 0.3403 - accuracy: 0.8436\n",
            "Epoch 117/300\n",
            "32/32 [==============================] - 2s 52ms/step - loss: 0.3416 - accuracy: 0.8423\n",
            "Epoch 118/300\n",
            "32/32 [==============================] - 2s 52ms/step - loss: 0.3415 - accuracy: 0.8425\n",
            "Epoch 119/300\n",
            "32/32 [==============================] - 2s 67ms/step - loss: 0.3413 - accuracy: 0.8448\n",
            "Epoch 120/300\n",
            "32/32 [==============================] - 2s 52ms/step - loss: 0.3401 - accuracy: 0.8427\n",
            "Epoch 121/300\n",
            "32/32 [==============================] - 2s 54ms/step - loss: 0.3411 - accuracy: 0.8431\n",
            "Epoch 122/300\n",
            "32/32 [==============================] - 2s 52ms/step - loss: 0.3415 - accuracy: 0.8434\n",
            "Epoch 123/300\n",
            "32/32 [==============================] - 2s 51ms/step - loss: 0.3416 - accuracy: 0.8432\n",
            "Epoch 124/300\n",
            "32/32 [==============================] - 2s 52ms/step - loss: 0.3406 - accuracy: 0.8445\n",
            "Epoch 125/300\n",
            "32/32 [==============================] - 2s 52ms/step - loss: 0.3410 - accuracy: 0.8429\n",
            "Epoch 126/300\n",
            "32/32 [==============================] - 2s 52ms/step - loss: 0.3401 - accuracy: 0.8415\n",
            "Epoch 127/300\n",
            "32/32 [==============================] - 2s 52ms/step - loss: 0.3419 - accuracy: 0.8412\n",
            "Epoch 128/300\n",
            "32/32 [==============================] - 2s 51ms/step - loss: 0.3397 - accuracy: 0.8434\n",
            "Epoch 129/300\n",
            "32/32 [==============================] - 2s 52ms/step - loss: 0.3416 - accuracy: 0.8423\n",
            "Epoch 130/300\n",
            "32/32 [==============================] - 2s 52ms/step - loss: 0.3393 - accuracy: 0.8425\n",
            "Epoch 131/300\n",
            "32/32 [==============================] - 2s 52ms/step - loss: 0.3385 - accuracy: 0.8438\n",
            "Epoch 132/300\n",
            "32/32 [==============================] - 2s 52ms/step - loss: 0.3401 - accuracy: 0.8445\n",
            "Epoch 133/300\n",
            "32/32 [==============================] - 2s 52ms/step - loss: 0.3391 - accuracy: 0.8445\n",
            "Epoch 134/300\n",
            "32/32 [==============================] - 2s 52ms/step - loss: 0.3385 - accuracy: 0.8442\n",
            "Epoch 135/300\n",
            "32/32 [==============================] - 2s 52ms/step - loss: 0.3402 - accuracy: 0.8442\n",
            "Epoch 136/300\n",
            "32/32 [==============================] - 2s 52ms/step - loss: 0.3409 - accuracy: 0.8433\n",
            "Epoch 137/300\n",
            "32/32 [==============================] - 2s 52ms/step - loss: 0.3395 - accuracy: 0.8431\n",
            "Epoch 138/300\n",
            "32/32 [==============================] - 2s 52ms/step - loss: 0.3399 - accuracy: 0.8423\n",
            "Epoch 139/300\n",
            "32/32 [==============================] - 2s 53ms/step - loss: 0.3394 - accuracy: 0.8437\n",
            "Epoch 140/300\n",
            "32/32 [==============================] - 2s 69ms/step - loss: 0.3373 - accuracy: 0.8448\n",
            "Epoch 141/300\n",
            "32/32 [==============================] - 2s 53ms/step - loss: 0.3388 - accuracy: 0.8439\n",
            "Epoch 142/300\n",
            "32/32 [==============================] - 2s 52ms/step - loss: 0.3392 - accuracy: 0.8446\n",
            "Epoch 143/300\n",
            "32/32 [==============================] - 2s 52ms/step - loss: 0.3389 - accuracy: 0.8431\n",
            "Epoch 144/300\n",
            "32/32 [==============================] - 2s 52ms/step - loss: 0.3405 - accuracy: 0.8428\n",
            "Epoch 145/300\n",
            "32/32 [==============================] - 2s 52ms/step - loss: 0.3382 - accuracy: 0.8434\n",
            "Epoch 146/300\n",
            "32/32 [==============================] - 2s 52ms/step - loss: 0.3395 - accuracy: 0.8424\n",
            "Epoch 147/300\n",
            "32/32 [==============================] - 2s 52ms/step - loss: 0.3390 - accuracy: 0.8448\n",
            "Epoch 148/300\n",
            "32/32 [==============================] - 2s 52ms/step - loss: 0.3380 - accuracy: 0.8445\n",
            "Epoch 149/300\n",
            "32/32 [==============================] - 2s 68ms/step - loss: 0.3368 - accuracy: 0.8460\n",
            "Epoch 150/300\n",
            "32/32 [==============================] - 2s 51ms/step - loss: 0.3382 - accuracy: 0.8450\n",
            "Epoch 151/300\n",
            "32/32 [==============================] - 2s 52ms/step - loss: 0.3395 - accuracy: 0.8450\n",
            "Epoch 152/300\n",
            "32/32 [==============================] - 2s 53ms/step - loss: 0.3360 - accuracy: 0.8441\n",
            "Epoch 153/300\n",
            "32/32 [==============================] - 2s 53ms/step - loss: 0.3372 - accuracy: 0.8454\n",
            "Epoch 154/300\n",
            "32/32 [==============================] - 2s 52ms/step - loss: 0.3372 - accuracy: 0.8451\n",
            "Epoch 155/300\n",
            "32/32 [==============================] - 2s 52ms/step - loss: 0.3384 - accuracy: 0.8441\n",
            "Epoch 156/300\n",
            "32/32 [==============================] - 2s 69ms/step - loss: 0.3359 - accuracy: 0.8464\n",
            "Epoch 157/300\n",
            "32/32 [==============================] - 2s 53ms/step - loss: 0.3391 - accuracy: 0.8458\n",
            "Epoch 158/300\n",
            "32/32 [==============================] - 2s 52ms/step - loss: 0.3381 - accuracy: 0.8455\n",
            "Epoch 159/300\n",
            "32/32 [==============================] - 2s 52ms/step - loss: 0.3392 - accuracy: 0.8448\n",
            "Epoch 160/300\n",
            "32/32 [==============================] - 2s 53ms/step - loss: 0.3351 - accuracy: 0.8458\n",
            "Epoch 161/300\n",
            "32/32 [==============================] - 2s 52ms/step - loss: 0.3362 - accuracy: 0.8447\n",
            "Epoch 162/300\n",
            "32/32 [==============================] - 2s 53ms/step - loss: 0.3378 - accuracy: 0.8441\n",
            "Epoch 163/300\n",
            "32/32 [==============================] - 2s 52ms/step - loss: 0.3363 - accuracy: 0.8455\n",
            "Epoch 164/300\n",
            "32/32 [==============================] - 2s 52ms/step - loss: 0.3380 - accuracy: 0.8426\n",
            "Epoch 165/300\n",
            "32/32 [==============================] - 2s 53ms/step - loss: 0.3379 - accuracy: 0.8443\n",
            "Epoch 166/300\n",
            "32/32 [==============================] - 2s 69ms/step - loss: 0.3372 - accuracy: 0.8466\n",
            "Epoch 167/300\n",
            "32/32 [==============================] - 2s 53ms/step - loss: 0.3376 - accuracy: 0.8465\n",
            "Epoch 168/300\n",
            "32/32 [==============================] - 2s 53ms/step - loss: 0.3363 - accuracy: 0.8445\n",
            "Epoch 169/300\n",
            "32/32 [==============================] - 2s 52ms/step - loss: 0.3370 - accuracy: 0.8451\n",
            "Epoch 170/300\n",
            "32/32 [==============================] - 2s 52ms/step - loss: 0.3366 - accuracy: 0.8463\n",
            "Epoch 171/300\n",
            "32/32 [==============================] - 2s 53ms/step - loss: 0.3355 - accuracy: 0.8457\n",
            "Epoch 172/300\n",
            "32/32 [==============================] - 2s 52ms/step - loss: 0.3359 - accuracy: 0.8454\n",
            "Epoch 173/300\n",
            "32/32 [==============================] - 2s 53ms/step - loss: 0.3365 - accuracy: 0.8455\n",
            "Epoch 174/300\n",
            "32/32 [==============================] - 2s 52ms/step - loss: 0.3353 - accuracy: 0.8459\n",
            "Epoch 175/300\n",
            "32/32 [==============================] - 2s 52ms/step - loss: 0.3368 - accuracy: 0.8446\n",
            "Epoch 176/300\n",
            "32/32 [==============================] - 2s 52ms/step - loss: 0.3354 - accuracy: 0.8450\n",
            "Epoch 177/300\n",
            "32/32 [==============================] - 2s 52ms/step - loss: 0.3356 - accuracy: 0.8464\n",
            "Epoch 178/300\n",
            "32/32 [==============================] - 2s 52ms/step - loss: 0.3341 - accuracy: 0.8451\n",
            "Epoch 179/300\n",
            "32/32 [==============================] - 2s 53ms/step - loss: 0.3369 - accuracy: 0.8441\n",
            "Epoch 180/300\n",
            "32/32 [==============================] - 2s 52ms/step - loss: 0.3353 - accuracy: 0.8460\n",
            "Epoch 181/300\n",
            "32/32 [==============================] - 2s 53ms/step - loss: 0.3349 - accuracy: 0.8461\n",
            "Epoch 182/300\n",
            "32/32 [==============================] - 2s 68ms/step - loss: 0.3377 - accuracy: 0.8471\n",
            "Epoch 183/300\n",
            "32/32 [==============================] - 2s 53ms/step - loss: 0.3360 - accuracy: 0.8455\n",
            "Epoch 184/300\n",
            "32/32 [==============================] - 2s 52ms/step - loss: 0.3338 - accuracy: 0.8466\n",
            "Epoch 185/300\n",
            "32/32 [==============================] - 2s 53ms/step - loss: 0.3342 - accuracy: 0.8462\n",
            "Epoch 186/300\n",
            "32/32 [==============================] - 2s 53ms/step - loss: 0.3353 - accuracy: 0.8461\n",
            "Epoch 187/300\n",
            "32/32 [==============================] - 2s 52ms/step - loss: 0.3339 - accuracy: 0.8465\n",
            "Epoch 188/300\n",
            "32/32 [==============================] - 2s 53ms/step - loss: 0.3347 - accuracy: 0.8463\n",
            "Epoch 189/300\n",
            "32/32 [==============================] - 2s 53ms/step - loss: 0.3334 - accuracy: 0.8463\n",
            "Epoch 190/300\n",
            "32/32 [==============================] - 2s 68ms/step - loss: 0.3342 - accuracy: 0.8477\n",
            "Epoch 191/300\n",
            "32/32 [==============================] - 2s 53ms/step - loss: 0.3359 - accuracy: 0.8473\n",
            "Epoch 192/300\n",
            "32/32 [==============================] - 2s 69ms/step - loss: 0.3338 - accuracy: 0.8480\n",
            "Epoch 193/300\n",
            "32/32 [==============================] - 2s 52ms/step - loss: 0.3329 - accuracy: 0.8474\n",
            "Epoch 194/300\n",
            "32/32 [==============================] - 2s 52ms/step - loss: 0.3334 - accuracy: 0.8477\n",
            "Epoch 195/300\n",
            "32/32 [==============================] - 2s 53ms/step - loss: 0.3363 - accuracy: 0.8466\n",
            "Epoch 196/300\n",
            "32/32 [==============================] - 2s 52ms/step - loss: 0.3343 - accuracy: 0.8463\n",
            "Epoch 197/300\n",
            "32/32 [==============================] - 2s 53ms/step - loss: 0.3358 - accuracy: 0.8470\n",
            "Epoch 198/300\n",
            "32/32 [==============================] - 2s 52ms/step - loss: 0.3344 - accuracy: 0.8470\n",
            "Epoch 199/300\n",
            "32/32 [==============================] - 2s 52ms/step - loss: 0.3347 - accuracy: 0.8470\n",
            "Epoch 200/300\n",
            "32/32 [==============================] - 2s 52ms/step - loss: 0.3354 - accuracy: 0.8461\n",
            "Epoch 201/300\n",
            "32/32 [==============================] - 2s 52ms/step - loss: 0.3324 - accuracy: 0.8480\n",
            "Epoch 202/300\n",
            "32/32 [==============================] - 2s 52ms/step - loss: 0.3334 - accuracy: 0.8466\n",
            "Epoch 203/300\n",
            "32/32 [==============================] - 2s 52ms/step - loss: 0.3352 - accuracy: 0.8464\n",
            "Epoch 204/300\n",
            "32/32 [==============================] - 2s 53ms/step - loss: 0.3345 - accuracy: 0.8462\n",
            "Epoch 205/300\n",
            "32/32 [==============================] - 2s 52ms/step - loss: 0.3343 - accuracy: 0.8467\n",
            "Epoch 206/300\n",
            "32/32 [==============================] - 2s 53ms/step - loss: 0.3331 - accuracy: 0.8464\n",
            "Epoch 207/300\n",
            "32/32 [==============================] - 2s 52ms/step - loss: 0.3329 - accuracy: 0.8457\n",
            "Epoch 208/300\n",
            "32/32 [==============================] - 2s 53ms/step - loss: 0.3339 - accuracy: 0.8462\n",
            "Epoch 209/300\n",
            "32/32 [==============================] - 2s 67ms/step - loss: 0.3320 - accuracy: 0.8481\n",
            "Epoch 210/300\n",
            "32/32 [==============================] - 2s 53ms/step - loss: 0.3338 - accuracy: 0.8470\n",
            "Epoch 211/300\n",
            "32/32 [==============================] - 2s 52ms/step - loss: 0.3335 - accuracy: 0.8476\n",
            "Epoch 212/300\n",
            "32/32 [==============================] - 2s 52ms/step - loss: 0.3337 - accuracy: 0.8479\n",
            "Epoch 213/300\n",
            "32/32 [==============================] - 2s 53ms/step - loss: 0.3332 - accuracy: 0.8461\n",
            "Epoch 214/300\n",
            "32/32 [==============================] - 2s 69ms/step - loss: 0.3313 - accuracy: 0.8484\n",
            "Epoch 215/300\n",
            "32/32 [==============================] - 2s 53ms/step - loss: 0.3326 - accuracy: 0.8479\n",
            "Epoch 216/300\n",
            "32/32 [==============================] - 2s 53ms/step - loss: 0.3318 - accuracy: 0.8480\n",
            "Epoch 217/300\n",
            "32/32 [==============================] - 2s 52ms/step - loss: 0.3334 - accuracy: 0.8478\n",
            "Epoch 218/300\n",
            "32/32 [==============================] - 2s 53ms/step - loss: 0.3328 - accuracy: 0.8472\n",
            "Epoch 219/300\n",
            "32/32 [==============================] - 2s 52ms/step - loss: 0.3338 - accuracy: 0.8473\n",
            "Epoch 220/300\n",
            "32/32 [==============================] - 2s 53ms/step - loss: 0.3329 - accuracy: 0.8480\n",
            "Epoch 221/300\n",
            "32/32 [==============================] - 2s 53ms/step - loss: 0.3325 - accuracy: 0.8473\n",
            "Epoch 222/300\n",
            "32/32 [==============================] - 2s 68ms/step - loss: 0.3334 - accuracy: 0.8487\n",
            "Epoch 223/300\n",
            "32/32 [==============================] - 2s 53ms/step - loss: 0.3337 - accuracy: 0.8469\n",
            "Epoch 224/300\n",
            "32/32 [==============================] - 2s 52ms/step - loss: 0.3325 - accuracy: 0.8475\n",
            "Epoch 225/300\n",
            "32/32 [==============================] - 2s 53ms/step - loss: 0.3325 - accuracy: 0.8478\n",
            "Epoch 226/300\n",
            "32/32 [==============================] - 2s 53ms/step - loss: 0.3324 - accuracy: 0.8469\n",
            "Epoch 227/300\n",
            "32/32 [==============================] - 2s 52ms/step - loss: 0.3316 - accuracy: 0.8475\n",
            "Epoch 228/300\n",
            "32/32 [==============================] - 2s 53ms/step - loss: 0.3325 - accuracy: 0.8482\n",
            "Epoch 229/300\n",
            "32/32 [==============================] - 2s 52ms/step - loss: 0.3323 - accuracy: 0.8475\n",
            "Epoch 230/300\n",
            "32/32 [==============================] - 2s 53ms/step - loss: 0.3331 - accuracy: 0.8477\n",
            "Epoch 231/300\n",
            "32/32 [==============================] - 2s 69ms/step - loss: 0.3313 - accuracy: 0.8491\n",
            "Epoch 232/300\n",
            "32/32 [==============================] - 2s 52ms/step - loss: 0.3329 - accuracy: 0.8475\n",
            "Epoch 233/300\n",
            "32/32 [==============================] - 2s 53ms/step - loss: 0.3314 - accuracy: 0.8470\n",
            "Epoch 234/300\n",
            "32/32 [==============================] - 2s 53ms/step - loss: 0.3322 - accuracy: 0.8489\n",
            "Epoch 235/300\n",
            "32/32 [==============================] - 2s 69ms/step - loss: 0.3316 - accuracy: 0.8495\n",
            "Epoch 236/300\n",
            "32/32 [==============================] - 2s 53ms/step - loss: 0.3331 - accuracy: 0.8477\n",
            "Epoch 237/300\n",
            "32/32 [==============================] - 2s 52ms/step - loss: 0.3309 - accuracy: 0.8480\n",
            "Epoch 238/300\n",
            "32/32 [==============================] - 2s 52ms/step - loss: 0.3324 - accuracy: 0.8471\n",
            "Epoch 239/300\n",
            "32/32 [==============================] - 2s 52ms/step - loss: 0.3319 - accuracy: 0.8475\n",
            "Epoch 240/300\n",
            "32/32 [==============================] - 2s 52ms/step - loss: 0.3310 - accuracy: 0.8490\n",
            "Epoch 241/300\n",
            "32/32 [==============================] - 2s 53ms/step - loss: 0.3303 - accuracy: 0.8478\n",
            "Epoch 242/300\n",
            "32/32 [==============================] - 2s 53ms/step - loss: 0.3330 - accuracy: 0.8461\n",
            "Epoch 243/300\n",
            "32/32 [==============================] - 2s 53ms/step - loss: 0.3318 - accuracy: 0.8472\n",
            "Epoch 244/300\n",
            "32/32 [==============================] - 2s 53ms/step - loss: 0.3311 - accuracy: 0.8478\n",
            "Epoch 245/300\n",
            "32/32 [==============================] - 2s 53ms/step - loss: 0.3312 - accuracy: 0.8480\n",
            "Epoch 246/300\n",
            "32/32 [==============================] - 2s 53ms/step - loss: 0.3301 - accuracy: 0.8480\n",
            "Epoch 247/300\n",
            "32/32 [==============================] - 2s 53ms/step - loss: 0.3305 - accuracy: 0.8481\n",
            "Epoch 248/300\n",
            "32/32 [==============================] - 2s 52ms/step - loss: 0.3318 - accuracy: 0.8479\n",
            "Epoch 249/300\n",
            "32/32 [==============================] - 2s 53ms/step - loss: 0.3315 - accuracy: 0.8482\n",
            "Epoch 250/300\n",
            "32/32 [==============================] - 2s 69ms/step - loss: 0.3306 - accuracy: 0.8500\n",
            "Epoch 251/300\n",
            "32/32 [==============================] - 2s 53ms/step - loss: 0.3318 - accuracy: 0.8488\n",
            "Epoch 252/300\n",
            "32/32 [==============================] - 2s 69ms/step - loss: 0.3299 - accuracy: 0.8519\n",
            "Epoch 253/300\n",
            "32/32 [==============================] - 2s 53ms/step - loss: 0.3302 - accuracy: 0.8494\n",
            "Epoch 254/300\n",
            "32/32 [==============================] - 2s 53ms/step - loss: 0.3300 - accuracy: 0.8488\n",
            "Epoch 255/300\n",
            "32/32 [==============================] - 2s 53ms/step - loss: 0.3293 - accuracy: 0.8470\n",
            "Epoch 256/300\n",
            "32/32 [==============================] - 2s 52ms/step - loss: 0.3293 - accuracy: 0.8492\n",
            "Epoch 257/300\n",
            "32/32 [==============================] - 2s 53ms/step - loss: 0.3315 - accuracy: 0.8497\n",
            "Epoch 258/300\n",
            "32/32 [==============================] - 2s 53ms/step - loss: 0.3305 - accuracy: 0.8485\n",
            "Epoch 259/300\n",
            "32/32 [==============================] - 2s 53ms/step - loss: 0.3292 - accuracy: 0.8497\n",
            "Epoch 260/300\n",
            "32/32 [==============================] - 2s 53ms/step - loss: 0.3308 - accuracy: 0.8491\n",
            "Epoch 261/300\n",
            "32/32 [==============================] - 2s 53ms/step - loss: 0.3301 - accuracy: 0.8493\n",
            "Epoch 262/300\n",
            "32/32 [==============================] - 2s 52ms/step - loss: 0.3312 - accuracy: 0.8478\n",
            "Epoch 263/300\n",
            "32/32 [==============================] - 2s 54ms/step - loss: 0.3287 - accuracy: 0.8503\n",
            "Epoch 264/300\n",
            "32/32 [==============================] - 2s 53ms/step - loss: 0.3314 - accuracy: 0.8480\n",
            "Epoch 265/300\n",
            "32/32 [==============================] - 2s 52ms/step - loss: 0.3304 - accuracy: 0.8480\n",
            "Epoch 266/300\n",
            "32/32 [==============================] - 2s 53ms/step - loss: 0.3307 - accuracy: 0.8486\n",
            "Epoch 267/300\n",
            "32/32 [==============================] - 2s 53ms/step - loss: 0.3294 - accuracy: 0.8488\n",
            "Epoch 268/300\n",
            "32/32 [==============================] - 2s 53ms/step - loss: 0.3309 - accuracy: 0.8491\n",
            "Epoch 269/300\n",
            "32/32 [==============================] - 2s 53ms/step - loss: 0.3297 - accuracy: 0.8504\n",
            "Epoch 270/300\n",
            "32/32 [==============================] - 2s 53ms/step - loss: 0.3309 - accuracy: 0.8496\n",
            "Epoch 271/300\n",
            "32/32 [==============================] - 2s 53ms/step - loss: 0.3302 - accuracy: 0.8484\n",
            "Epoch 272/300\n",
            "32/32 [==============================] - 2s 53ms/step - loss: 0.3291 - accuracy: 0.8491\n",
            "Epoch 273/300\n",
            "32/32 [==============================] - 2s 53ms/step - loss: 0.3292 - accuracy: 0.8493\n",
            "Epoch 274/300\n",
            "32/32 [==============================] - 2s 54ms/step - loss: 0.3304 - accuracy: 0.8491\n",
            "Epoch 275/300\n",
            "32/32 [==============================] - 2s 53ms/step - loss: 0.3279 - accuracy: 0.8498\n",
            "Epoch 276/300\n",
            "32/32 [==============================] - 2s 53ms/step - loss: 0.3297 - accuracy: 0.8491\n",
            "Epoch 277/300\n",
            "32/32 [==============================] - 2s 53ms/step - loss: 0.3306 - accuracy: 0.8516\n",
            "Epoch 278/300\n",
            "32/32 [==============================] - 2s 53ms/step - loss: 0.3298 - accuracy: 0.8495\n",
            "Epoch 279/300\n",
            "32/32 [==============================] - 2s 53ms/step - loss: 0.3295 - accuracy: 0.8497\n",
            "Epoch 280/300\n",
            "32/32 [==============================] - 2s 53ms/step - loss: 0.3281 - accuracy: 0.8502\n",
            "Epoch 281/300\n",
            "32/32 [==============================] - 2s 53ms/step - loss: 0.3298 - accuracy: 0.8498\n",
            "Epoch 282/300\n",
            "32/32 [==============================] - 2s 52ms/step - loss: 0.3285 - accuracy: 0.8479\n",
            "Epoch 283/300\n",
            "32/32 [==============================] - 2s 52ms/step - loss: 0.3296 - accuracy: 0.8503\n",
            "Epoch 284/300\n",
            "32/32 [==============================] - 2s 53ms/step - loss: 0.3285 - accuracy: 0.8510\n",
            "Epoch 285/300\n",
            "32/32 [==============================] - 2s 52ms/step - loss: 0.3292 - accuracy: 0.8501\n",
            "Epoch 286/300\n",
            "32/32 [==============================] - 2s 52ms/step - loss: 0.3304 - accuracy: 0.8497\n",
            "Epoch 287/300\n",
            "32/32 [==============================] - 2s 52ms/step - loss: 0.3299 - accuracy: 0.8505\n",
            "Epoch 288/300\n",
            "32/32 [==============================] - 2s 52ms/step - loss: 0.3280 - accuracy: 0.8500\n",
            "Epoch 289/300\n",
            "32/32 [==============================] - 2s 53ms/step - loss: 0.3281 - accuracy: 0.8495\n",
            "Epoch 290/300\n",
            "32/32 [==============================] - 2s 54ms/step - loss: 0.3282 - accuracy: 0.8482\n",
            "Epoch 291/300\n",
            "32/32 [==============================] - 2s 54ms/step - loss: 0.3281 - accuracy: 0.8498\n",
            "Epoch 292/300\n",
            "32/32 [==============================] - 2s 53ms/step - loss: 0.3286 - accuracy: 0.8510\n",
            "Epoch 293/300\n",
            "32/32 [==============================] - 2s 53ms/step - loss: 0.3287 - accuracy: 0.8496\n",
            "Epoch 294/300\n",
            "32/32 [==============================] - 2s 54ms/step - loss: 0.3279 - accuracy: 0.8507\n",
            "Epoch 295/300\n",
            "32/32 [==============================] - 2s 53ms/step - loss: 0.3280 - accuracy: 0.8508\n",
            "Epoch 296/300\n",
            "32/32 [==============================] - 2s 53ms/step - loss: 0.3291 - accuracy: 0.8513\n",
            "Epoch 297/300\n",
            "32/32 [==============================] - 2s 53ms/step - loss: 0.3272 - accuracy: 0.8503\n",
            "Epoch 298/300\n",
            "32/32 [==============================] - 2s 53ms/step - loss: 0.3274 - accuracy: 0.8501\n",
            "Epoch 299/300\n",
            "32/32 [==============================] - 2s 54ms/step - loss: 0.3291 - accuracy: 0.8490\n",
            "Epoch 300/300\n",
            "32/32 [==============================] - 2s 53ms/step - loss: 0.3274 - accuracy: 0.8507\n"
          ]
        }
      ]
    },
    {
      "cell_type": "code",
      "source": [
        "plt_show_loss(history2)\n",
        "plt.show()"
      ],
      "metadata": {
        "id": "gR25O1YF8F5D",
        "colab": {
          "base_uri": "https://localhost:8080/",
          "height": 295
        },
        "outputId": "23ea22d4-9502-4d98-b17e-1ea1ae1e13ba"
      },
      "execution_count": null,
      "outputs": [
        {
          "output_type": "display_data",
          "data": {
            "text/plain": [
              "<Figure size 432x288 with 1 Axes>"
            ],
            "image/png": "[encoded data removed]"
          },
          "metadata": {
            "needs_background": "light"
          }
        }
      ]
    },
    {
      "cell_type": "code",
      "source": [
        "plt_show_acc(history2)\n",
        "plt.show()"
      ],
      "metadata": {
        "id": "7nr-PMsi8Ikz",
        "colab": {
          "base_uri": "https://localhost:8080/",
          "height": 295
        },
        "outputId": "00a67c73-c2c6-4844-dde1-aa5382b9d9a6"
      },
      "execution_count": null,
      "outputs": [
        {
          "output_type": "display_data",
          "data": {
            "text/plain": [
              "<Figure size 432x288 with 1 Axes>"
            ],
            "image/png": "[encoded data removed]"
          },
          "metadata": {
            "needs_background": "light"
          }
        }
      ]
    },
    {
      "cell_type": "markdown",
      "source": [
        "#### 머신러닝 모델들"
      ],
      "metadata": {
        "id": "jNl86bGPTfgH"
      }
    },
    {
      "cell_type": "code",
      "source": [
        "!pip install catboost"
      ],
      "metadata": {
        "colab": {
          "base_uri": "https://localhost:8080/"
        },
        "id": "SVcpBW9pDZwl",
        "outputId": "96bb8314-8ef5-41c4-87ea-0546ca850019"
      },
      "execution_count": null,
      "outputs": [
        {
          "output_type": "stream",
          "name": "stdout",
          "text": [
            "Collecting catboost\n",
            "  Downloading catboost-1.0.5-cp37-none-manylinux1_x86_64.whl (76.6 MB)\n",
            "\u001b[K     |████████████████████████████████| 76.6 MB 61 kB/s \n",
            "\u001b[?25hRequirement already satisfied: scipy in /usr/local/lib/python3.7/dist-packages (from catboost) (1.4.1)\n",
            "Requirement already satisfied: plotly in /usr/local/lib/python3.7/dist-packages (from catboost) (5.5.0)\n",
            "Requirement already satisfied: six in /usr/local/lib/python3.7/dist-packages (from catboost) (1.15.0)\n",
            "Requirement already satisfied: graphviz in /usr/local/lib/python3.7/dist-packages (from catboost) (0.10.1)\n",
            "Requirement already satisfied: pandas>=0.24.0 in /usr/local/lib/python3.7/dist-packages (from catboost) (1.3.5)\n",
            "Requirement already satisfied: numpy>=1.16.0 in /usr/local/lib/python3.7/dist-packages (from catboost) (1.21.6)\n",
            "Requirement already satisfied: matplotlib in /usr/local/lib/python3.7/dist-packages (from catboost) (3.2.2)\n",
            "Requirement already satisfied: python-dateutil>=2.7.3 in /usr/local/lib/python3.7/dist-packages (from pandas>=0.24.0->catboost) (2.8.2)\n",
            "Requirement already satisfied: pytz>=2017.3 in /usr/local/lib/python3.7/dist-packages (from pandas>=0.24.0->catboost) (2022.1)\n",
            "Requirement already satisfied: cycler>=0.10 in /usr/local/lib/python3.7/dist-packages (from matplotlib->catboost) (0.11.0)\n",
            "Requirement already satisfied: pyparsing!=2.0.4,!=2.1.2,!=2.1.6,>=2.0.1 in /usr/local/lib/python3.7/dist-packages (from matplotlib->catboost) (3.0.8)\n",
            "Requirement already satisfied: kiwisolver>=1.0.1 in /usr/local/lib/python3.7/dist-packages (from matplotlib->catboost) (1.4.2)\n",
            "Requirement already satisfied: typing-extensions in /usr/local/lib/python3.7/dist-packages (from kiwisolver>=1.0.1->matplotlib->catboost) (4.2.0)\n",
            "Requirement already satisfied: tenacity>=6.2.0 in /usr/local/lib/python3.7/dist-packages (from plotly->catboost) (8.0.1)\n",
            "Installing collected packages: catboost\n",
            "Successfully installed catboost-1.0.5\n"
          ]
        }
      ]
    },
    {
      "cell_type": "code",
      "source": [
        "from sklearn.neighbors import KNeighborsClassifier #KNN\n",
        "from sklearn.svm import SVC    #SVC\n",
        "from sklearn.linear_model import LogisticRegression  #LogisticRegression\n",
        "from sklearn.tree import DecisionTreeClassifier  #DecisionTree\n",
        "from sklearn.naive_bayes import GaussianNB   #가우시안\n",
        "from sklearn.naive_bayes import ComplementNB #complement 가우지안\n",
        "from sklearn.ensemble import RandomForestClassifier #RandomForest\n",
        "from sklearn.ensemble import AdaBoostClassifier   #Adaboost   \n",
        "from xgboost import XGBClassifier   #XGBoost\n",
        "from lightgbm import LGBMClassifier  #Light GBM\n",
        "from catboost import CatBoostClassifier #Catboost\n",
        "from sklearn.ensemble import ExtraTreesClassifier #extratreesclassifier\n",
        "\n",
        "from sklearn.ensemble import VotingClassifier #voting \n",
        "from sklearn.ensemble import StackingClassifier #stacking\n",
        "import warnings\n",
        "warnings.filterwarnings('ignore')\n",
        "from sklearn.metrics import accuracy_score, precision_score, recall_score, f1_score"
      ],
      "metadata": {
        "id": "Q2F1kS2gTefw"
      },
      "execution_count": null,
      "outputs": []
    },
    {
      "cell_type": "code",
      "source": [
        "# 이전의 작업(소득예측 2)을 통해 찾은 하이퍼파라미터를 사용하였습니다\n",
        "knn = KNeighborsClassifier(n_neighbors=26, weights='uniform')\n",
        "svc = SVC(kernel='rbf',C=10)\n",
        "dt = DecisionTreeClassifier(max_depth=10, min_samples_leaf=20, min_samples_split=16, random_state=42)\n",
        "rf = RandomForestClassifier(max_depth = 18, min_samples_leaf = 2, min_samples_split = 14, n_estimators = 170, random_state=42)\n",
        "ada = AdaBoostClassifier(n_estimators = 540, learning_rate = 0.7, random_state=42)\n",
        "xgb = XGBClassifier(max_depth = 10, n_estimators= 350, learning_rate = 0.01081053261365495, subsample = 0.783876773469082, colsample_bytree = 0.9540872774964744, random_state=42)\n",
        "lgb = LGBMClassifier(max_depth = 10, n_estimators = 450, learning_rate = 0.017176619845728085, subsample = 0.9057955079535207, colsample_bytree = 0.8159300849840903, random_state=42)\n",
        "etc = ExtraTreesClassifier(max_depth = 26, min_samples_leaf = 2, min_samples_split = 8, n_estimators = 280, random_state=42)\n",
        "cat = CatBoostClassifier(silent=True)\n",
        "\n",
        "tuned_model_list = [knn,svc, dt, rf, ada, xgb,lgb,etc,cat]"
      ],
      "metadata": {
        "id": "gU1WbVWsTtSf"
      },
      "execution_count": null,
      "outputs": []
    },
    {
      "cell_type": "markdown",
      "source": [
        "#### 머신러닝 모델과 딥러닝 모델의 결과 종합하기"
      ],
      "metadata": {
        "id": "dSB6meYKYvBZ"
      }
    },
    {
      "cell_type": "code",
      "source": [
        "model_list = [dt, rf, ada, xgb, lgb, etc, cat]\n",
        "for model in model_list:\n",
        "  model.fit(X_train, y_train)"
      ],
      "metadata": {
        "id": "ZjYjttcwZUSn"
      },
      "execution_count": null,
      "outputs": []
    },
    {
      "cell_type": "code",
      "source": [
        "# predict proba를 사용해 target 값이 0과 1이 될 확률을 얻음\n",
        "dt_pred = dt.predict_proba(X_test)[:,1]\n",
        "rf_pred = rf.predict_proba(X_test)[:,1]\n",
        "ada_pred = ada.predict_proba(X_test)[:,1]\n",
        "xgb_pred = xgb.predict_proba(X_test)[:,1]\n",
        "lgb_pred = lgb.predict_proba(X_test)[:,1]\n",
        "etc_pred = etc.predict_proba(X_test)[:,1]\n",
        "cat_pred = cat.predict_proba(X_test)[:,1]\n",
        "\n",
        "mlp_pred = mlp1.predict(X_test).reshape(15081,)\n",
        "lstm_pred = lstm1.predict(LSTM_X_test).reshape(15081,)"
      ],
      "metadata": {
        "id": "Bqunw8l3ZfAW"
      },
      "execution_count": null,
      "outputs": []
    },
    {
      "cell_type": "code",
      "source": [
        "blended_pred = dt_pred + rf_pred + ada_pred  + lgb_pred + etc_pred  + cat_pred * 2 + mlp_pred * 2 + lstm_pred"
      ],
      "metadata": {
        "id": "utMK_RWTbfnx"
      },
      "execution_count": null,
      "outputs": []
    },
    {
      "cell_type": "code",
      "source": [
        "predictions = (blended_pred > 5) * 1"
      ],
      "metadata": {
        "id": "VsmtAXDCdC40"
      },
      "execution_count": null,
      "outputs": []
    },
    {
      "cell_type": "markdown",
      "source": [
        "#### 딥러닝 모델만 사용한 결과"
      ],
      "metadata": {
        "id": "gpXhS_cjD3am"
      }
    },
    {
      "cell_type": "code",
      "source": [
        "mlp_pred = (mlp_pred > 0.5 ) * 1\n",
        "lstm_pred = (lstm_pred> 0.5) * 1"
      ],
      "metadata": {
        "id": "UL83crJLD7OD"
      },
      "execution_count": null,
      "outputs": []
    },
    {
      "cell_type": "markdown",
      "source": [
        "## 제출할 파일 생성"
      ],
      "metadata": {
        "id": "FpVZmcsBWh_p"
      }
    },
    {
      "cell_type": "code",
      "source": [
        "submission = pd.read_csv('sample_submission.csv')"
      ],
      "metadata": {
        "id": "io11WkGqWlO7"
      },
      "execution_count": null,
      "outputs": []
    },
    {
      "cell_type": "code",
      "source": [
        "submission['target'] = predictions\n",
        "submission.to_csv('blending.csv', index=False)\n",
        "submission['target'].value_counts()"
      ],
      "metadata": {
        "id": "WN7YqZ2-XblS",
        "colab": {
          "base_uri": "https://localhost:8080/"
        },
        "outputId": "e1803fac-c2f4-4f32-8dd0-bf0327199fac"
      },
      "execution_count": null,
      "outputs": [
        {
          "output_type": "execute_result",
          "data": {
            "text/plain": [
              "0    12027\n",
              "1     3054\n",
              "Name: target, dtype: int64"
            ]
          },
          "metadata": {},
          "execution_count": 82
        }
      ]
    },
    {
      "cell_type": "code",
      "source": [
        "submission['target'] = mlp_pred\n",
        "submission.to_csv('mlp1.csv', index=False)\n",
        "submission['target'].value_counts()"
      ],
      "metadata": {
        "colab": {
          "base_uri": "https://localhost:8080/"
        },
        "id": "j-UDLahEXgd9",
        "outputId": "cfc3722e-9793-4b6f-bac5-841b0a3fdd9f"
      },
      "execution_count": null,
      "outputs": [
        {
          "output_type": "execute_result",
          "data": {
            "text/plain": [
              "0    11655\n",
              "1     3426\n",
              "Name: target, dtype: int64"
            ]
          },
          "metadata": {},
          "execution_count": 83
        }
      ]
    },
    {
      "cell_type": "code",
      "source": [
        "submission['target'] = lstm_pred\n",
        "submission.to_csv('lstm1.csv', index=False)\n",
        "submission['target'].value_counts()"
      ],
      "metadata": {
        "colab": {
          "base_uri": "https://localhost:8080/"
        },
        "id": "7sQTL8lPEac5",
        "outputId": "e2b3cee6-1884-4d44-adbd-1b26fe189ce8"
      },
      "execution_count": null,
      "outputs": [
        {
          "output_type": "execute_result",
          "data": {
            "text/plain": [
              "0    11874\n",
              "1     3207\n",
              "Name: target, dtype: int64"
            ]
          },
          "metadata": {},
          "execution_count": 84
        }
      ]
    }
  ]
}