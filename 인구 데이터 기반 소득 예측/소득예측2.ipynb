{
  "nbformat": 4,
  "nbformat_minor": 0,
  "metadata": {
    "colab": {
      "name": "소득예측1.ipynb",
      "provenance": [],
      "collapsed_sections": [
        "ONxiUYzNeNWN",
        "VxLixTOdgGs3",
        "5xuGHLJ0kkgJ",
        "Ngptt9Tev7Ib",
        "v2kjcwzVmurB",
        "iwnR75-KpShJ",
        "onRAEMrjsf0L",
        "RnK4bkuh-NgY",
        "CgqORZ_SGJxy",
        "9ePxhlzsKgkf",
        "DTqJc4tvMhiD",
        "T8-YZ7-ZMjfA",
        "G95HBgP7MzFO",
        "s1Drq2hmIfrT"
      ]
    },
    "kernelspec": {
      "name": "python3",
      "display_name": "Python 3"
    },
    "language_info": {
      "name": "python"
    }
  },
  "cells": [
    {
      "cell_type": "markdown",
      "source": [
        "## EDA 및 전처리"
      ],
      "metadata": {
        "id": "ONxiUYzNeNWN"
      }
    },
    {
      "cell_type": "markdown",
      "source": [
        "### 데이터 불러오기 및 간단하게 데이터 살펴보기"
      ],
      "metadata": {
        "id": "6gbyz5dQgC9A"
      }
    },
    {
      "cell_type": "code",
      "execution_count": null,
      "metadata": {
        "id": "Ge6-QgI8d9uM"
      },
      "outputs": [],
      "source": [
        "import numpy as np\n",
        "import pandas as pd\n",
        "import matplotlib.pyplot as plt\n",
        "import seaborn as sns"
      ]
    },
    {
      "cell_type": "code",
      "source": [
        "train = pd.read_csv('train.csv', index_col=0)\n",
        "test = pd.read_csv('test.csv', index_col=0)\n",
        "\n",
        "print('train df')\n",
        "display(train.head())\n",
        "print('test df')\n",
        "display(test.head())"
      ],
      "metadata": {
        "colab": {
          "base_uri": "https://localhost:8080/",
          "height": 495
        },
        "id": "88YbtI-CeMtz",
        "outputId": "7ba2dc1c-55f0-4498-a09b-8d6164ff1449"
      },
      "execution_count": null,
      "outputs": [
        {
          "output_type": "stream",
          "name": "stdout",
          "text": [
            "train df\n"
          ]
        },
        {
          "output_type": "display_data",
          "data": {
            "text/plain": [
              "    age workclass  fnlwgt     education  education.num      marital.status  \\\n",
              "id                                                                           \n",
              "0    32   Private  309513    Assoc-acdm             12  Married-civ-spouse   \n",
              "1    33   Private  205469  Some-college             10  Married-civ-spouse   \n",
              "2    46   Private  149949  Some-college             10  Married-civ-spouse   \n",
              "3    23   Private  193090     Bachelors             13       Never-married   \n",
              "4    55   Private   60193       HS-grad              9            Divorced   \n",
              "\n",
              "         occupation   relationship   race     sex  capital.gain  capital.loss  \\\n",
              "id                                                                              \n",
              "0      Craft-repair        Husband  White    Male             0             0   \n",
              "1   Exec-managerial        Husband  White    Male             0             0   \n",
              "2      Craft-repair        Husband  White    Male             0             0   \n",
              "3      Adm-clerical      Own-child  White  Female             0             0   \n",
              "4      Adm-clerical  Not-in-family  White  Female             0             0   \n",
              "\n",
              "    hours.per.week native.country  target  \n",
              "id                                         \n",
              "0               40  United-States       0  \n",
              "1               40  United-States       1  \n",
              "2               40  United-States       0  \n",
              "3               30  United-States       0  \n",
              "4               40  United-States       0  "
            ],
            "text/html": [
              "\n",
              "  <div id=\"df-0929ef7a-8081-4de9-b04b-397791cae51b\">\n",
              "    <div class=\"colab-df-container\">\n",
              "      <div>\n",
              "<style scoped>\n",
              "    .dataframe tbody tr th:only-of-type {\n",
              "        vertical-align: middle;\n",
              "    }\n",
              "\n",
              "    .dataframe tbody tr th {\n",
              "        vertical-align: top;\n",
              "    }\n",
              "\n",
              "    .dataframe thead th {\n",
              "        text-align: right;\n",
              "    }\n",
              "</style>\n",
              "<table border=\"1\" class=\"dataframe\">\n",
              "  <thead>\n",
              "    <tr style=\"text-align: right;\">\n",
              "      <th></th>\n",
              "      <th>age</th>\n",
              "      <th>workclass</th>\n",
              "      <th>fnlwgt</th>\n",
              "      <th>education</th>\n",
              "      <th>education.num</th>\n",
              "      <th>marital.status</th>\n",
              "      <th>occupation</th>\n",
              "      <th>relationship</th>\n",
              "      <th>race</th>\n",
              "      <th>sex</th>\n",
              "      <th>capital.gain</th>\n",
              "      <th>capital.loss</th>\n",
              "      <th>hours.per.week</th>\n",
              "      <th>native.country</th>\n",
              "      <th>target</th>\n",
              "    </tr>\n",
              "    <tr>\n",
              "      <th>id</th>\n",
              "      <th></th>\n",
              "      <th></th>\n",
              "      <th></th>\n",
              "      <th></th>\n",
              "      <th></th>\n",
              "      <th></th>\n",
              "      <th></th>\n",
              "      <th></th>\n",
              "      <th></th>\n",
              "      <th></th>\n",
              "      <th></th>\n",
              "      <th></th>\n",
              "      <th></th>\n",
              "      <th></th>\n",
              "      <th></th>\n",
              "    </tr>\n",
              "  </thead>\n",
              "  <tbody>\n",
              "    <tr>\n",
              "      <th>0</th>\n",
              "      <td>32</td>\n",
              "      <td>Private</td>\n",
              "      <td>309513</td>\n",
              "      <td>Assoc-acdm</td>\n",
              "      <td>12</td>\n",
              "      <td>Married-civ-spouse</td>\n",
              "      <td>Craft-repair</td>\n",
              "      <td>Husband</td>\n",
              "      <td>White</td>\n",
              "      <td>Male</td>\n",
              "      <td>0</td>\n",
              "      <td>0</td>\n",
              "      <td>40</td>\n",
              "      <td>United-States</td>\n",
              "      <td>0</td>\n",
              "    </tr>\n",
              "    <tr>\n",
              "      <th>1</th>\n",
              "      <td>33</td>\n",
              "      <td>Private</td>\n",
              "      <td>205469</td>\n",
              "      <td>Some-college</td>\n",
              "      <td>10</td>\n",
              "      <td>Married-civ-spouse</td>\n",
              "      <td>Exec-managerial</td>\n",
              "      <td>Husband</td>\n",
              "      <td>White</td>\n",
              "      <td>Male</td>\n",
              "      <td>0</td>\n",
              "      <td>0</td>\n",
              "      <td>40</td>\n",
              "      <td>United-States</td>\n",
              "      <td>1</td>\n",
              "    </tr>\n",
              "    <tr>\n",
              "      <th>2</th>\n",
              "      <td>46</td>\n",
              "      <td>Private</td>\n",
              "      <td>149949</td>\n",
              "      <td>Some-college</td>\n",
              "      <td>10</td>\n",
              "      <td>Married-civ-spouse</td>\n",
              "      <td>Craft-repair</td>\n",
              "      <td>Husband</td>\n",
              "      <td>White</td>\n",
              "      <td>Male</td>\n",
              "      <td>0</td>\n",
              "      <td>0</td>\n",
              "      <td>40</td>\n",
              "      <td>United-States</td>\n",
              "      <td>0</td>\n",
              "    </tr>\n",
              "    <tr>\n",
              "      <th>3</th>\n",
              "      <td>23</td>\n",
              "      <td>Private</td>\n",
              "      <td>193090</td>\n",
              "      <td>Bachelors</td>\n",
              "      <td>13</td>\n",
              "      <td>Never-married</td>\n",
              "      <td>Adm-clerical</td>\n",
              "      <td>Own-child</td>\n",
              "      <td>White</td>\n",
              "      <td>Female</td>\n",
              "      <td>0</td>\n",
              "      <td>0</td>\n",
              "      <td>30</td>\n",
              "      <td>United-States</td>\n",
              "      <td>0</td>\n",
              "    </tr>\n",
              "    <tr>\n",
              "      <th>4</th>\n",
              "      <td>55</td>\n",
              "      <td>Private</td>\n",
              "      <td>60193</td>\n",
              "      <td>HS-grad</td>\n",
              "      <td>9</td>\n",
              "      <td>Divorced</td>\n",
              "      <td>Adm-clerical</td>\n",
              "      <td>Not-in-family</td>\n",
              "      <td>White</td>\n",
              "      <td>Female</td>\n",
              "      <td>0</td>\n",
              "      <td>0</td>\n",
              "      <td>40</td>\n",
              "      <td>United-States</td>\n",
              "      <td>0</td>\n",
              "    </tr>\n",
              "  </tbody>\n",
              "</table>\n",
              "</div>\n",
              "      <button class=\"colab-df-convert\" onclick=\"convertToInteractive('df-0929ef7a-8081-4de9-b04b-397791cae51b')\"\n",
              "              title=\"Convert this dataframe to an interactive table.\"\n",
              "              style=\"display:none;\">\n",
              "        \n",
              "  <svg xmlns=\"http://www.w3.org/2000/svg\" height=\"24px\"viewBox=\"0 0 24 24\"\n",
              "       width=\"24px\">\n",
              "    <path d=\"M0 0h24v24H0V0z\" fill=\"none\"/>\n",
              "    <path d=\"M18.56 5.44l.94 2.06.94-2.06 2.06-.94-2.06-.94-.94-2.06-.94 2.06-2.06.94zm-11 1L8.5 8.5l.94-2.06 2.06-.94-2.06-.94L8.5 2.5l-.94 2.06-2.06.94zm10 10l.94 2.06.94-2.06 2.06-.94-2.06-.94-.94-2.06-.94 2.06-2.06.94z\"/><path d=\"M17.41 7.96l-1.37-1.37c-.4-.4-.92-.59-1.43-.59-.52 0-1.04.2-1.43.59L10.3 9.45l-7.72 7.72c-.78.78-.78 2.05 0 2.83L4 21.41c.39.39.9.59 1.41.59.51 0 1.02-.2 1.41-.59l7.78-7.78 2.81-2.81c.8-.78.8-2.07 0-2.86zM5.41 20L4 18.59l7.72-7.72 1.47 1.35L5.41 20z\"/>\n",
              "  </svg>\n",
              "      </button>\n",
              "      \n",
              "  <style>\n",
              "    .colab-df-container {\n",
              "      display:flex;\n",
              "      flex-wrap:wrap;\n",
              "      gap: 12px;\n",
              "    }\n",
              "\n",
              "    .colab-df-convert {\n",
              "      background-color: #E8F0FE;\n",
              "      border: none;\n",
              "      border-radius: 50%;\n",
              "      cursor: pointer;\n",
              "      display: none;\n",
              "      fill: #1967D2;\n",
              "      height: 32px;\n",
              "      padding: 0 0 0 0;\n",
              "      width: 32px;\n",
              "    }\n",
              "\n",
              "    .colab-df-convert:hover {\n",
              "      background-color: #E2EBFA;\n",
              "      box-shadow: 0px 1px 2px rgba(60, 64, 67, 0.3), 0px 1px 3px 1px rgba(60, 64, 67, 0.15);\n",
              "      fill: #174EA6;\n",
              "    }\n",
              "\n",
              "    [theme=dark] .colab-df-convert {\n",
              "      background-color: #3B4455;\n",
              "      fill: #D2E3FC;\n",
              "    }\n",
              "\n",
              "    [theme=dark] .colab-df-convert:hover {\n",
              "      background-color: #434B5C;\n",
              "      box-shadow: 0px 1px 3px 1px rgba(0, 0, 0, 0.15);\n",
              "      filter: drop-shadow(0px 1px 2px rgba(0, 0, 0, 0.3));\n",
              "      fill: #FFFFFF;\n",
              "    }\n",
              "  </style>\n",
              "\n",
              "      <script>\n",
              "        const buttonEl =\n",
              "          document.querySelector('#df-0929ef7a-8081-4de9-b04b-397791cae51b button.colab-df-convert');\n",
              "        buttonEl.style.display =\n",
              "          google.colab.kernel.accessAllowed ? 'block' : 'none';\n",
              "\n",
              "        async function convertToInteractive(key) {\n",
              "          const element = document.querySelector('#df-0929ef7a-8081-4de9-b04b-397791cae51b');\n",
              "          const dataTable =\n",
              "            await google.colab.kernel.invokeFunction('convertToInteractive',\n",
              "                                                     [key], {});\n",
              "          if (!dataTable) return;\n",
              "\n",
              "          const docLinkHtml = 'Like what you see? Visit the ' +\n",
              "            '<a target=\"_blank\" href=https://colab.research.google.com/notebooks/data_table.ipynb>data table notebook</a>'\n",
              "            + ' to learn more about interactive tables.';\n",
              "          element.innerHTML = '';\n",
              "          dataTable['output_type'] = 'display_data';\n",
              "          await google.colab.output.renderOutput(dataTable, element);\n",
              "          const docLink = document.createElement('div');\n",
              "          docLink.innerHTML = docLinkHtml;\n",
              "          element.appendChild(docLink);\n",
              "        }\n",
              "      </script>\n",
              "    </div>\n",
              "  </div>\n",
              "  "
            ]
          },
          "metadata": {}
        },
        {
          "output_type": "stream",
          "name": "stdout",
          "text": [
            "test df\n"
          ]
        },
        {
          "output_type": "display_data",
          "data": {
            "text/plain": [
              "    age     workclass  fnlwgt     education  education.num  \\\n",
              "id                                                           \n",
              "0    47       Private  304133  Some-college             10   \n",
              "1    34  Self-emp-inc  154227  Some-college             10   \n",
              "2    31     Local-gov  158291     Bachelors             13   \n",
              "3    28       Private  183155     Bachelors             13   \n",
              "4    54     Local-gov  182543  Some-college             10   \n",
              "\n",
              "        marital.status       occupation   relationship   race     sex  \\\n",
              "id                                                                      \n",
              "0   Married-civ-spouse  Exec-managerial        Husband  White    Male   \n",
              "1        Never-married            Sales  Not-in-family  White    Male   \n",
              "2        Never-married     Craft-repair  Not-in-family  White    Male   \n",
              "3   Married-civ-spouse   Prof-specialty        Husband  White    Male   \n",
              "4              Widowed     Adm-clerical      Unmarried  White  Female   \n",
              "\n",
              "    capital.gain  capital.loss  hours.per.week native.country  \n",
              "id                                                             \n",
              "0              0             0              45  United-States  \n",
              "1              0             0              75  United-States  \n",
              "2           8614             0              40  United-States  \n",
              "3              0             0              55  United-States  \n",
              "4              0             0              40         Mexico  "
            ],
            "text/html": [
              "\n",
              "  <div id=\"df-86340f8b-e192-46fc-99a6-eab5a53798d8\">\n",
              "    <div class=\"colab-df-container\">\n",
              "      <div>\n",
              "<style scoped>\n",
              "    .dataframe tbody tr th:only-of-type {\n",
              "        vertical-align: middle;\n",
              "    }\n",
              "\n",
              "    .dataframe tbody tr th {\n",
              "        vertical-align: top;\n",
              "    }\n",
              "\n",
              "    .dataframe thead th {\n",
              "        text-align: right;\n",
              "    }\n",
              "</style>\n",
              "<table border=\"1\" class=\"dataframe\">\n",
              "  <thead>\n",
              "    <tr style=\"text-align: right;\">\n",
              "      <th></th>\n",
              "      <th>age</th>\n",
              "      <th>workclass</th>\n",
              "      <th>fnlwgt</th>\n",
              "      <th>education</th>\n",
              "      <th>education.num</th>\n",
              "      <th>marital.status</th>\n",
              "      <th>occupation</th>\n",
              "      <th>relationship</th>\n",
              "      <th>race</th>\n",
              "      <th>sex</th>\n",
              "      <th>capital.gain</th>\n",
              "      <th>capital.loss</th>\n",
              "      <th>hours.per.week</th>\n",
              "      <th>native.country</th>\n",
              "    </tr>\n",
              "    <tr>\n",
              "      <th>id</th>\n",
              "      <th></th>\n",
              "      <th></th>\n",
              "      <th></th>\n",
              "      <th></th>\n",
              "      <th></th>\n",
              "      <th></th>\n",
              "      <th></th>\n",
              "      <th></th>\n",
              "      <th></th>\n",
              "      <th></th>\n",
              "      <th></th>\n",
              "      <th></th>\n",
              "      <th></th>\n",
              "      <th></th>\n",
              "    </tr>\n",
              "  </thead>\n",
              "  <tbody>\n",
              "    <tr>\n",
              "      <th>0</th>\n",
              "      <td>47</td>\n",
              "      <td>Private</td>\n",
              "      <td>304133</td>\n",
              "      <td>Some-college</td>\n",
              "      <td>10</td>\n",
              "      <td>Married-civ-spouse</td>\n",
              "      <td>Exec-managerial</td>\n",
              "      <td>Husband</td>\n",
              "      <td>White</td>\n",
              "      <td>Male</td>\n",
              "      <td>0</td>\n",
              "      <td>0</td>\n",
              "      <td>45</td>\n",
              "      <td>United-States</td>\n",
              "    </tr>\n",
              "    <tr>\n",
              "      <th>1</th>\n",
              "      <td>34</td>\n",
              "      <td>Self-emp-inc</td>\n",
              "      <td>154227</td>\n",
              "      <td>Some-college</td>\n",
              "      <td>10</td>\n",
              "      <td>Never-married</td>\n",
              "      <td>Sales</td>\n",
              "      <td>Not-in-family</td>\n",
              "      <td>White</td>\n",
              "      <td>Male</td>\n",
              "      <td>0</td>\n",
              "      <td>0</td>\n",
              "      <td>75</td>\n",
              "      <td>United-States</td>\n",
              "    </tr>\n",
              "    <tr>\n",
              "      <th>2</th>\n",
              "      <td>31</td>\n",
              "      <td>Local-gov</td>\n",
              "      <td>158291</td>\n",
              "      <td>Bachelors</td>\n",
              "      <td>13</td>\n",
              "      <td>Never-married</td>\n",
              "      <td>Craft-repair</td>\n",
              "      <td>Not-in-family</td>\n",
              "      <td>White</td>\n",
              "      <td>Male</td>\n",
              "      <td>8614</td>\n",
              "      <td>0</td>\n",
              "      <td>40</td>\n",
              "      <td>United-States</td>\n",
              "    </tr>\n",
              "    <tr>\n",
              "      <th>3</th>\n",
              "      <td>28</td>\n",
              "      <td>Private</td>\n",
              "      <td>183155</td>\n",
              "      <td>Bachelors</td>\n",
              "      <td>13</td>\n",
              "      <td>Married-civ-spouse</td>\n",
              "      <td>Prof-specialty</td>\n",
              "      <td>Husband</td>\n",
              "      <td>White</td>\n",
              "      <td>Male</td>\n",
              "      <td>0</td>\n",
              "      <td>0</td>\n",
              "      <td>55</td>\n",
              "      <td>United-States</td>\n",
              "    </tr>\n",
              "    <tr>\n",
              "      <th>4</th>\n",
              "      <td>54</td>\n",
              "      <td>Local-gov</td>\n",
              "      <td>182543</td>\n",
              "      <td>Some-college</td>\n",
              "      <td>10</td>\n",
              "      <td>Widowed</td>\n",
              "      <td>Adm-clerical</td>\n",
              "      <td>Unmarried</td>\n",
              "      <td>White</td>\n",
              "      <td>Female</td>\n",
              "      <td>0</td>\n",
              "      <td>0</td>\n",
              "      <td>40</td>\n",
              "      <td>Mexico</td>\n",
              "    </tr>\n",
              "  </tbody>\n",
              "</table>\n",
              "</div>\n",
              "      <button class=\"colab-df-convert\" onclick=\"convertToInteractive('df-86340f8b-e192-46fc-99a6-eab5a53798d8')\"\n",
              "              title=\"Convert this dataframe to an interactive table.\"\n",
              "              style=\"display:none;\">\n",
              "        \n",
              "  <svg xmlns=\"http://www.w3.org/2000/svg\" height=\"24px\"viewBox=\"0 0 24 24\"\n",
              "       width=\"24px\">\n",
              "    <path d=\"M0 0h24v24H0V0z\" fill=\"none\"/>\n",
              "    <path d=\"M18.56 5.44l.94 2.06.94-2.06 2.06-.94-2.06-.94-.94-2.06-.94 2.06-2.06.94zm-11 1L8.5 8.5l.94-2.06 2.06-.94-2.06-.94L8.5 2.5l-.94 2.06-2.06.94zm10 10l.94 2.06.94-2.06 2.06-.94-2.06-.94-.94-2.06-.94 2.06-2.06.94z\"/><path d=\"M17.41 7.96l-1.37-1.37c-.4-.4-.92-.59-1.43-.59-.52 0-1.04.2-1.43.59L10.3 9.45l-7.72 7.72c-.78.78-.78 2.05 0 2.83L4 21.41c.39.39.9.59 1.41.59.51 0 1.02-.2 1.41-.59l7.78-7.78 2.81-2.81c.8-.78.8-2.07 0-2.86zM5.41 20L4 18.59l7.72-7.72 1.47 1.35L5.41 20z\"/>\n",
              "  </svg>\n",
              "      </button>\n",
              "      \n",
              "  <style>\n",
              "    .colab-df-container {\n",
              "      display:flex;\n",
              "      flex-wrap:wrap;\n",
              "      gap: 12px;\n",
              "    }\n",
              "\n",
              "    .colab-df-convert {\n",
              "      background-color: #E8F0FE;\n",
              "      border: none;\n",
              "      border-radius: 50%;\n",
              "      cursor: pointer;\n",
              "      display: none;\n",
              "      fill: #1967D2;\n",
              "      height: 32px;\n",
              "      padding: 0 0 0 0;\n",
              "      width: 32px;\n",
              "    }\n",
              "\n",
              "    .colab-df-convert:hover {\n",
              "      background-color: #E2EBFA;\n",
              "      box-shadow: 0px 1px 2px rgba(60, 64, 67, 0.3), 0px 1px 3px 1px rgba(60, 64, 67, 0.15);\n",
              "      fill: #174EA6;\n",
              "    }\n",
              "\n",
              "    [theme=dark] .colab-df-convert {\n",
              "      background-color: #3B4455;\n",
              "      fill: #D2E3FC;\n",
              "    }\n",
              "\n",
              "    [theme=dark] .colab-df-convert:hover {\n",
              "      background-color: #434B5C;\n",
              "      box-shadow: 0px 1px 3px 1px rgba(0, 0, 0, 0.15);\n",
              "      filter: drop-shadow(0px 1px 2px rgba(0, 0, 0, 0.3));\n",
              "      fill: #FFFFFF;\n",
              "    }\n",
              "  </style>\n",
              "\n",
              "      <script>\n",
              "        const buttonEl =\n",
              "          document.querySelector('#df-86340f8b-e192-46fc-99a6-eab5a53798d8 button.colab-df-convert');\n",
              "        buttonEl.style.display =\n",
              "          google.colab.kernel.accessAllowed ? 'block' : 'none';\n",
              "\n",
              "        async function convertToInteractive(key) {\n",
              "          const element = document.querySelector('#df-86340f8b-e192-46fc-99a6-eab5a53798d8');\n",
              "          const dataTable =\n",
              "            await google.colab.kernel.invokeFunction('convertToInteractive',\n",
              "                                                     [key], {});\n",
              "          if (!dataTable) return;\n",
              "\n",
              "          const docLinkHtml = 'Like what you see? Visit the ' +\n",
              "            '<a target=\"_blank\" href=https://colab.research.google.com/notebooks/data_table.ipynb>data table notebook</a>'\n",
              "            + ' to learn more about interactive tables.';\n",
              "          element.innerHTML = '';\n",
              "          dataTable['output_type'] = 'display_data';\n",
              "          await google.colab.output.renderOutput(dataTable, element);\n",
              "          const docLink = document.createElement('div');\n",
              "          docLink.innerHTML = docLinkHtml;\n",
              "          element.appendChild(docLink);\n",
              "        }\n",
              "      </script>\n",
              "    </div>\n",
              "  </div>\n",
              "  "
            ]
          },
          "metadata": {}
        }
      ]
    },
    {
      "cell_type": "code",
      "source": [
        "print(\"shape of train: \" , train.shape)\n",
        "print(\"shape of test: \", test.shape)"
      ],
      "metadata": {
        "colab": {
          "base_uri": "https://localhost:8080/"
        },
        "id": "mdI2Q2Y10hoX",
        "outputId": "b3fd228a-45e9-41c3-f956-21370091e303"
      },
      "execution_count": null,
      "outputs": [
        {
          "output_type": "stream",
          "name": "stdout",
          "text": [
            "shape of train:  (17480, 15)\n",
            "shape of test:  (15081, 14)\n"
          ]
        }
      ]
    },
    {
      "cell_type": "code",
      "source": [
        "# train 값은 결측치가 존재함을 확인할 수 있다.\n",
        "# column은 13개이고, row는 17480개이다.\n",
        "# 범주형 변수는 workclass, eudcation, matrial.status, occupation, relationship, race, sex 이다.\n",
        "train.info()"
      ],
      "metadata": {
        "colab": {
          "base_uri": "https://localhost:8080/"
        },
        "id": "CO9nqy2We6kz",
        "outputId": "c78ac0e1-b4a5-44b5-96f3-97b671044e39"
      },
      "execution_count": null,
      "outputs": [
        {
          "output_type": "stream",
          "name": "stdout",
          "text": [
            "<class 'pandas.core.frame.DataFrame'>\n",
            "Int64Index: 17480 entries, 0 to 17479\n",
            "Data columns (total 15 columns):\n",
            " #   Column          Non-Null Count  Dtype \n",
            "---  ------          --------------  ----- \n",
            " 0   age             17480 non-null  int64 \n",
            " 1   workclass       15644 non-null  object\n",
            " 2   fnlwgt          17480 non-null  int64 \n",
            " 3   education       17480 non-null  object\n",
            " 4   education.num   17480 non-null  int64 \n",
            " 5   marital.status  17480 non-null  object\n",
            " 6   occupation      15637 non-null  object\n",
            " 7   relationship    17480 non-null  object\n",
            " 8   race            17480 non-null  object\n",
            " 9   sex             17480 non-null  object\n",
            " 10  capital.gain    17480 non-null  int64 \n",
            " 11  capital.loss    17480 non-null  int64 \n",
            " 12  hours.per.week  17480 non-null  int64 \n",
            " 13  native.country  16897 non-null  object\n",
            " 14  target          17480 non-null  int64 \n",
            "dtypes: int64(7), object(8)\n",
            "memory usage: 2.1+ MB\n"
          ]
        }
      ]
    },
    {
      "cell_type": "code",
      "source": [
        "# train의 경우, workclass, occupation, native country에서 결측치가 확인됨.\n",
        "train.isnull().sum()"
      ],
      "metadata": {
        "colab": {
          "base_uri": "https://localhost:8080/"
        },
        "id": "_6GLUO0yvUYL",
        "outputId": "22eddabe-3658-4464-9ad0-c095ff71004f"
      },
      "execution_count": null,
      "outputs": [
        {
          "output_type": "execute_result",
          "data": {
            "text/plain": [
              "age                  0\n",
              "workclass         1836\n",
              "fnlwgt               0\n",
              "education            0\n",
              "education.num        0\n",
              "marital.status       0\n",
              "occupation        1843\n",
              "relationship         0\n",
              "race                 0\n",
              "sex                  0\n",
              "capital.gain         0\n",
              "capital.loss         0\n",
              "hours.per.week       0\n",
              "native.country     583\n",
              "target               0\n",
              "dtype: int64"
            ]
          },
          "metadata": {},
          "execution_count": 5
        }
      ]
    },
    {
      "cell_type": "code",
      "source": [
        "# 결측치 없음\n",
        "test.info()"
      ],
      "metadata": {
        "colab": {
          "base_uri": "https://localhost:8080/"
        },
        "id": "GRr5Mhg4fChb",
        "outputId": "ebf75b2d-36a7-488d-8400-2fbff2d9ce45"
      },
      "execution_count": null,
      "outputs": [
        {
          "output_type": "stream",
          "name": "stdout",
          "text": [
            "<class 'pandas.core.frame.DataFrame'>\n",
            "Int64Index: 15081 entries, 0 to 15080\n",
            "Data columns (total 14 columns):\n",
            " #   Column          Non-Null Count  Dtype \n",
            "---  ------          --------------  ----- \n",
            " 0   age             15081 non-null  int64 \n",
            " 1   workclass       15081 non-null  object\n",
            " 2   fnlwgt          15081 non-null  int64 \n",
            " 3   education       15081 non-null  object\n",
            " 4   education.num   15081 non-null  int64 \n",
            " 5   marital.status  15081 non-null  object\n",
            " 6   occupation      15081 non-null  object\n",
            " 7   relationship    15081 non-null  object\n",
            " 8   race            15081 non-null  object\n",
            " 9   sex             15081 non-null  object\n",
            " 10  capital.gain    15081 non-null  int64 \n",
            " 11  capital.loss    15081 non-null  int64 \n",
            " 12  hours.per.week  15081 non-null  int64 \n",
            " 13  native.country  15081 non-null  object\n",
            "dtypes: int64(6), object(8)\n",
            "memory usage: 1.7+ MB\n"
          ]
        }
      ]
    },
    {
      "cell_type": "code",
      "source": [
        "train.describe()"
      ],
      "metadata": {
        "colab": {
          "base_uri": "https://localhost:8080/",
          "height": 300
        },
        "id": "6zFN-glifO-v",
        "outputId": "c2f9fc73-0141-4149-bce9-ce211db15319"
      },
      "execution_count": null,
      "outputs": [
        {
          "output_type": "execute_result",
          "data": {
            "text/plain": [
              "                age        fnlwgt  education.num  capital.gain  capital.loss  \\\n",
              "count  17480.000000  1.748000e+04   17480.000000  17480.000000   17480.00000   \n",
              "mean      38.720995  1.897610e+05      10.036556   1076.644508      83.87460   \n",
              "std       14.079617  1.049929e+05       2.604415   7439.498620     396.03288   \n",
              "min       17.000000  1.228500e+04       1.000000      0.000000       0.00000   \n",
              "25%       27.000000  1.181558e+05       9.000000      0.000000       0.00000   \n",
              "50%       37.000000  1.781340e+05      10.000000      0.000000       0.00000   \n",
              "75%       48.000000  2.373180e+05      12.000000      0.000000       0.00000   \n",
              "max       90.000000  1.455435e+06      16.000000  99999.000000    4356.00000   \n",
              "\n",
              "       hours.per.week        target  \n",
              "count    17480.000000  17480.000000  \n",
              "mean        40.002460      0.234897  \n",
              "std         12.671265      0.423947  \n",
              "min          1.000000      0.000000  \n",
              "25%         38.000000      0.000000  \n",
              "50%         40.000000      0.000000  \n",
              "75%         45.000000      0.000000  \n",
              "max         99.000000      1.000000  "
            ],
            "text/html": [
              "\n",
              "  <div id=\"df-196922bf-4f8f-43e5-a767-e5d7624abe6a\">\n",
              "    <div class=\"colab-df-container\">\n",
              "      <div>\n",
              "<style scoped>\n",
              "    .dataframe tbody tr th:only-of-type {\n",
              "        vertical-align: middle;\n",
              "    }\n",
              "\n",
              "    .dataframe tbody tr th {\n",
              "        vertical-align: top;\n",
              "    }\n",
              "\n",
              "    .dataframe thead th {\n",
              "        text-align: right;\n",
              "    }\n",
              "</style>\n",
              "<table border=\"1\" class=\"dataframe\">\n",
              "  <thead>\n",
              "    <tr style=\"text-align: right;\">\n",
              "      <th></th>\n",
              "      <th>age</th>\n",
              "      <th>fnlwgt</th>\n",
              "      <th>education.num</th>\n",
              "      <th>capital.gain</th>\n",
              "      <th>capital.loss</th>\n",
              "      <th>hours.per.week</th>\n",
              "      <th>target</th>\n",
              "    </tr>\n",
              "  </thead>\n",
              "  <tbody>\n",
              "    <tr>\n",
              "      <th>count</th>\n",
              "      <td>17480.000000</td>\n",
              "      <td>1.748000e+04</td>\n",
              "      <td>17480.000000</td>\n",
              "      <td>17480.000000</td>\n",
              "      <td>17480.00000</td>\n",
              "      <td>17480.000000</td>\n",
              "      <td>17480.000000</td>\n",
              "    </tr>\n",
              "    <tr>\n",
              "      <th>mean</th>\n",
              "      <td>38.720995</td>\n",
              "      <td>1.897610e+05</td>\n",
              "      <td>10.036556</td>\n",
              "      <td>1076.644508</td>\n",
              "      <td>83.87460</td>\n",
              "      <td>40.002460</td>\n",
              "      <td>0.234897</td>\n",
              "    </tr>\n",
              "    <tr>\n",
              "      <th>std</th>\n",
              "      <td>14.079617</td>\n",
              "      <td>1.049929e+05</td>\n",
              "      <td>2.604415</td>\n",
              "      <td>7439.498620</td>\n",
              "      <td>396.03288</td>\n",
              "      <td>12.671265</td>\n",
              "      <td>0.423947</td>\n",
              "    </tr>\n",
              "    <tr>\n",
              "      <th>min</th>\n",
              "      <td>17.000000</td>\n",
              "      <td>1.228500e+04</td>\n",
              "      <td>1.000000</td>\n",
              "      <td>0.000000</td>\n",
              "      <td>0.00000</td>\n",
              "      <td>1.000000</td>\n",
              "      <td>0.000000</td>\n",
              "    </tr>\n",
              "    <tr>\n",
              "      <th>25%</th>\n",
              "      <td>27.000000</td>\n",
              "      <td>1.181558e+05</td>\n",
              "      <td>9.000000</td>\n",
              "      <td>0.000000</td>\n",
              "      <td>0.00000</td>\n",
              "      <td>38.000000</td>\n",
              "      <td>0.000000</td>\n",
              "    </tr>\n",
              "    <tr>\n",
              "      <th>50%</th>\n",
              "      <td>37.000000</td>\n",
              "      <td>1.781340e+05</td>\n",
              "      <td>10.000000</td>\n",
              "      <td>0.000000</td>\n",
              "      <td>0.00000</td>\n",
              "      <td>40.000000</td>\n",
              "      <td>0.000000</td>\n",
              "    </tr>\n",
              "    <tr>\n",
              "      <th>75%</th>\n",
              "      <td>48.000000</td>\n",
              "      <td>2.373180e+05</td>\n",
              "      <td>12.000000</td>\n",
              "      <td>0.000000</td>\n",
              "      <td>0.00000</td>\n",
              "      <td>45.000000</td>\n",
              "      <td>0.000000</td>\n",
              "    </tr>\n",
              "    <tr>\n",
              "      <th>max</th>\n",
              "      <td>90.000000</td>\n",
              "      <td>1.455435e+06</td>\n",
              "      <td>16.000000</td>\n",
              "      <td>99999.000000</td>\n",
              "      <td>4356.00000</td>\n",
              "      <td>99.000000</td>\n",
              "      <td>1.000000</td>\n",
              "    </tr>\n",
              "  </tbody>\n",
              "</table>\n",
              "</div>\n",
              "      <button class=\"colab-df-convert\" onclick=\"convertToInteractive('df-196922bf-4f8f-43e5-a767-e5d7624abe6a')\"\n",
              "              title=\"Convert this dataframe to an interactive table.\"\n",
              "              style=\"display:none;\">\n",
              "        \n",
              "  <svg xmlns=\"http://www.w3.org/2000/svg\" height=\"24px\"viewBox=\"0 0 24 24\"\n",
              "       width=\"24px\">\n",
              "    <path d=\"M0 0h24v24H0V0z\" fill=\"none\"/>\n",
              "    <path d=\"M18.56 5.44l.94 2.06.94-2.06 2.06-.94-2.06-.94-.94-2.06-.94 2.06-2.06.94zm-11 1L8.5 8.5l.94-2.06 2.06-.94-2.06-.94L8.5 2.5l-.94 2.06-2.06.94zm10 10l.94 2.06.94-2.06 2.06-.94-2.06-.94-.94-2.06-.94 2.06-2.06.94z\"/><path d=\"M17.41 7.96l-1.37-1.37c-.4-.4-.92-.59-1.43-.59-.52 0-1.04.2-1.43.59L10.3 9.45l-7.72 7.72c-.78.78-.78 2.05 0 2.83L4 21.41c.39.39.9.59 1.41.59.51 0 1.02-.2 1.41-.59l7.78-7.78 2.81-2.81c.8-.78.8-2.07 0-2.86zM5.41 20L4 18.59l7.72-7.72 1.47 1.35L5.41 20z\"/>\n",
              "  </svg>\n",
              "      </button>\n",
              "      \n",
              "  <style>\n",
              "    .colab-df-container {\n",
              "      display:flex;\n",
              "      flex-wrap:wrap;\n",
              "      gap: 12px;\n",
              "    }\n",
              "\n",
              "    .colab-df-convert {\n",
              "      background-color: #E8F0FE;\n",
              "      border: none;\n",
              "      border-radius: 50%;\n",
              "      cursor: pointer;\n",
              "      display: none;\n",
              "      fill: #1967D2;\n",
              "      height: 32px;\n",
              "      padding: 0 0 0 0;\n",
              "      width: 32px;\n",
              "    }\n",
              "\n",
              "    .colab-df-convert:hover {\n",
              "      background-color: #E2EBFA;\n",
              "      box-shadow: 0px 1px 2px rgba(60, 64, 67, 0.3), 0px 1px 3px 1px rgba(60, 64, 67, 0.15);\n",
              "      fill: #174EA6;\n",
              "    }\n",
              "\n",
              "    [theme=dark] .colab-df-convert {\n",
              "      background-color: #3B4455;\n",
              "      fill: #D2E3FC;\n",
              "    }\n",
              "\n",
              "    [theme=dark] .colab-df-convert:hover {\n",
              "      background-color: #434B5C;\n",
              "      box-shadow: 0px 1px 3px 1px rgba(0, 0, 0, 0.15);\n",
              "      filter: drop-shadow(0px 1px 2px rgba(0, 0, 0, 0.3));\n",
              "      fill: #FFFFFF;\n",
              "    }\n",
              "  </style>\n",
              "\n",
              "      <script>\n",
              "        const buttonEl =\n",
              "          document.querySelector('#df-196922bf-4f8f-43e5-a767-e5d7624abe6a button.colab-df-convert');\n",
              "        buttonEl.style.display =\n",
              "          google.colab.kernel.accessAllowed ? 'block' : 'none';\n",
              "\n",
              "        async function convertToInteractive(key) {\n",
              "          const element = document.querySelector('#df-196922bf-4f8f-43e5-a767-e5d7624abe6a');\n",
              "          const dataTable =\n",
              "            await google.colab.kernel.invokeFunction('convertToInteractive',\n",
              "                                                     [key], {});\n",
              "          if (!dataTable) return;\n",
              "\n",
              "          const docLinkHtml = 'Like what you see? Visit the ' +\n",
              "            '<a target=\"_blank\" href=https://colab.research.google.com/notebooks/data_table.ipynb>data table notebook</a>'\n",
              "            + ' to learn more about interactive tables.';\n",
              "          element.innerHTML = '';\n",
              "          dataTable['output_type'] = 'display_data';\n",
              "          await google.colab.output.renderOutput(dataTable, element);\n",
              "          const docLink = document.createElement('div');\n",
              "          docLink.innerHTML = docLinkHtml;\n",
              "          element.appendChild(docLink);\n",
              "        }\n",
              "      </script>\n",
              "    </div>\n",
              "  </div>\n",
              "  "
            ]
          },
          "metadata": {},
          "execution_count": 7
        }
      ]
    },
    {
      "cell_type": "code",
      "source": [
        "#describe를 통해 요약 값들을 확인해 보았을 때는 train과 test는 비슷한 분포를 지닌 것으로 보인다(적어도 수치형 변수에 대해서는)\n",
        "test.describe()"
      ],
      "metadata": {
        "colab": {
          "base_uri": "https://localhost:8080/",
          "height": 300
        },
        "id": "Zu0ITIncfksl",
        "outputId": "7b1be89c-8520-4ef6-a654-a182559bfa67"
      },
      "execution_count": null,
      "outputs": [
        {
          "output_type": "execute_result",
          "data": {
            "text/plain": [
              "                age        fnlwgt  education.num  capital.gain  capital.loss  \\\n",
              "count  15081.000000  1.508100e+04   15081.000000  15081.000000  15081.000000   \n",
              "mean      38.420131  1.897985e+05      10.131821   1078.812943     91.278562   \n",
              "std       13.111605  1.061955e+05       2.534614   7322.206791    410.820751   \n",
              "min       17.000000  1.376900e+04       1.000000      0.000000      0.000000   \n",
              "25%       28.000000  1.176050e+05       9.000000      0.000000      0.000000   \n",
              "50%       37.000000  1.786490e+05      10.000000      0.000000      0.000000   \n",
              "75%       47.000000  2.369070e+05      13.000000      0.000000      0.000000   \n",
              "max       90.000000  1.484705e+06      16.000000  99999.000000   3900.000000   \n",
              "\n",
              "       hours.per.week  \n",
              "count    15081.000000  \n",
              "mean        40.941648  \n",
              "std         11.941720  \n",
              "min          1.000000  \n",
              "25%         40.000000  \n",
              "50%         40.000000  \n",
              "75%         45.000000  \n",
              "max         99.000000  "
            ],
            "text/html": [
              "\n",
              "  <div id=\"df-4a1b9b31-0dbb-4e4b-9b2d-5bd4f3ae7fcb\">\n",
              "    <div class=\"colab-df-container\">\n",
              "      <div>\n",
              "<style scoped>\n",
              "    .dataframe tbody tr th:only-of-type {\n",
              "        vertical-align: middle;\n",
              "    }\n",
              "\n",
              "    .dataframe tbody tr th {\n",
              "        vertical-align: top;\n",
              "    }\n",
              "\n",
              "    .dataframe thead th {\n",
              "        text-align: right;\n",
              "    }\n",
              "</style>\n",
              "<table border=\"1\" class=\"dataframe\">\n",
              "  <thead>\n",
              "    <tr style=\"text-align: right;\">\n",
              "      <th></th>\n",
              "      <th>age</th>\n",
              "      <th>fnlwgt</th>\n",
              "      <th>education.num</th>\n",
              "      <th>capital.gain</th>\n",
              "      <th>capital.loss</th>\n",
              "      <th>hours.per.week</th>\n",
              "    </tr>\n",
              "  </thead>\n",
              "  <tbody>\n",
              "    <tr>\n",
              "      <th>count</th>\n",
              "      <td>15081.000000</td>\n",
              "      <td>1.508100e+04</td>\n",
              "      <td>15081.000000</td>\n",
              "      <td>15081.000000</td>\n",
              "      <td>15081.000000</td>\n",
              "      <td>15081.000000</td>\n",
              "    </tr>\n",
              "    <tr>\n",
              "      <th>mean</th>\n",
              "      <td>38.420131</td>\n",
              "      <td>1.897985e+05</td>\n",
              "      <td>10.131821</td>\n",
              "      <td>1078.812943</td>\n",
              "      <td>91.278562</td>\n",
              "      <td>40.941648</td>\n",
              "    </tr>\n",
              "    <tr>\n",
              "      <th>std</th>\n",
              "      <td>13.111605</td>\n",
              "      <td>1.061955e+05</td>\n",
              "      <td>2.534614</td>\n",
              "      <td>7322.206791</td>\n",
              "      <td>410.820751</td>\n",
              "      <td>11.941720</td>\n",
              "    </tr>\n",
              "    <tr>\n",
              "      <th>min</th>\n",
              "      <td>17.000000</td>\n",
              "      <td>1.376900e+04</td>\n",
              "      <td>1.000000</td>\n",
              "      <td>0.000000</td>\n",
              "      <td>0.000000</td>\n",
              "      <td>1.000000</td>\n",
              "    </tr>\n",
              "    <tr>\n",
              "      <th>25%</th>\n",
              "      <td>28.000000</td>\n",
              "      <td>1.176050e+05</td>\n",
              "      <td>9.000000</td>\n",
              "      <td>0.000000</td>\n",
              "      <td>0.000000</td>\n",
              "      <td>40.000000</td>\n",
              "    </tr>\n",
              "    <tr>\n",
              "      <th>50%</th>\n",
              "      <td>37.000000</td>\n",
              "      <td>1.786490e+05</td>\n",
              "      <td>10.000000</td>\n",
              "      <td>0.000000</td>\n",
              "      <td>0.000000</td>\n",
              "      <td>40.000000</td>\n",
              "    </tr>\n",
              "    <tr>\n",
              "      <th>75%</th>\n",
              "      <td>47.000000</td>\n",
              "      <td>2.369070e+05</td>\n",
              "      <td>13.000000</td>\n",
              "      <td>0.000000</td>\n",
              "      <td>0.000000</td>\n",
              "      <td>45.000000</td>\n",
              "    </tr>\n",
              "    <tr>\n",
              "      <th>max</th>\n",
              "      <td>90.000000</td>\n",
              "      <td>1.484705e+06</td>\n",
              "      <td>16.000000</td>\n",
              "      <td>99999.000000</td>\n",
              "      <td>3900.000000</td>\n",
              "      <td>99.000000</td>\n",
              "    </tr>\n",
              "  </tbody>\n",
              "</table>\n",
              "</div>\n",
              "      <button class=\"colab-df-convert\" onclick=\"convertToInteractive('df-4a1b9b31-0dbb-4e4b-9b2d-5bd4f3ae7fcb')\"\n",
              "              title=\"Convert this dataframe to an interactive table.\"\n",
              "              style=\"display:none;\">\n",
              "        \n",
              "  <svg xmlns=\"http://www.w3.org/2000/svg\" height=\"24px\"viewBox=\"0 0 24 24\"\n",
              "       width=\"24px\">\n",
              "    <path d=\"M0 0h24v24H0V0z\" fill=\"none\"/>\n",
              "    <path d=\"M18.56 5.44l.94 2.06.94-2.06 2.06-.94-2.06-.94-.94-2.06-.94 2.06-2.06.94zm-11 1L8.5 8.5l.94-2.06 2.06-.94-2.06-.94L8.5 2.5l-.94 2.06-2.06.94zm10 10l.94 2.06.94-2.06 2.06-.94-2.06-.94-.94-2.06-.94 2.06-2.06.94z\"/><path d=\"M17.41 7.96l-1.37-1.37c-.4-.4-.92-.59-1.43-.59-.52 0-1.04.2-1.43.59L10.3 9.45l-7.72 7.72c-.78.78-.78 2.05 0 2.83L4 21.41c.39.39.9.59 1.41.59.51 0 1.02-.2 1.41-.59l7.78-7.78 2.81-2.81c.8-.78.8-2.07 0-2.86zM5.41 20L4 18.59l7.72-7.72 1.47 1.35L5.41 20z\"/>\n",
              "  </svg>\n",
              "      </button>\n",
              "      \n",
              "  <style>\n",
              "    .colab-df-container {\n",
              "      display:flex;\n",
              "      flex-wrap:wrap;\n",
              "      gap: 12px;\n",
              "    }\n",
              "\n",
              "    .colab-df-convert {\n",
              "      background-color: #E8F0FE;\n",
              "      border: none;\n",
              "      border-radius: 50%;\n",
              "      cursor: pointer;\n",
              "      display: none;\n",
              "      fill: #1967D2;\n",
              "      height: 32px;\n",
              "      padding: 0 0 0 0;\n",
              "      width: 32px;\n",
              "    }\n",
              "\n",
              "    .colab-df-convert:hover {\n",
              "      background-color: #E2EBFA;\n",
              "      box-shadow: 0px 1px 2px rgba(60, 64, 67, 0.3), 0px 1px 3px 1px rgba(60, 64, 67, 0.15);\n",
              "      fill: #174EA6;\n",
              "    }\n",
              "\n",
              "    [theme=dark] .colab-df-convert {\n",
              "      background-color: #3B4455;\n",
              "      fill: #D2E3FC;\n",
              "    }\n",
              "\n",
              "    [theme=dark] .colab-df-convert:hover {\n",
              "      background-color: #434B5C;\n",
              "      box-shadow: 0px 1px 3px 1px rgba(0, 0, 0, 0.15);\n",
              "      filter: drop-shadow(0px 1px 2px rgba(0, 0, 0, 0.3));\n",
              "      fill: #FFFFFF;\n",
              "    }\n",
              "  </style>\n",
              "\n",
              "      <script>\n",
              "        const buttonEl =\n",
              "          document.querySelector('#df-4a1b9b31-0dbb-4e4b-9b2d-5bd4f3ae7fcb button.colab-df-convert');\n",
              "        buttonEl.style.display =\n",
              "          google.colab.kernel.accessAllowed ? 'block' : 'none';\n",
              "\n",
              "        async function convertToInteractive(key) {\n",
              "          const element = document.querySelector('#df-4a1b9b31-0dbb-4e4b-9b2d-5bd4f3ae7fcb');\n",
              "          const dataTable =\n",
              "            await google.colab.kernel.invokeFunction('convertToInteractive',\n",
              "                                                     [key], {});\n",
              "          if (!dataTable) return;\n",
              "\n",
              "          const docLinkHtml = 'Like what you see? Visit the ' +\n",
              "            '<a target=\"_blank\" href=https://colab.research.google.com/notebooks/data_table.ipynb>data table notebook</a>'\n",
              "            + ' to learn more about interactive tables.';\n",
              "          element.innerHTML = '';\n",
              "          dataTable['output_type'] = 'display_data';\n",
              "          await google.colab.output.renderOutput(dataTable, element);\n",
              "          const docLink = document.createElement('div');\n",
              "          docLink.innerHTML = docLinkHtml;\n",
              "          element.appendChild(docLink);\n",
              "        }\n",
              "      </script>\n",
              "    </div>\n",
              "  </div>\n",
              "  "
            ]
          },
          "metadata": {},
          "execution_count": 8
        }
      ]
    },
    {
      "cell_type": "markdown",
      "source": [
        "### 범주형 변수 처리하기"
      ],
      "metadata": {
        "id": "VxLixTOdgGs3"
      }
    },
    {
      "cell_type": "markdown",
      "source": [
        "#### workclass"
      ],
      "metadata": {
        "id": "5xuGHLJ0kkgJ"
      }
    },
    {
      "cell_type": "code",
      "source": [
        "# train data에는 Never-worked가 존재하지만 test data에는 존재하지 않는다. 따라서 Never-worked를 가진 열은 제외해도 될 것 같다.\n",
        "train['workclass'].value_counts()"
      ],
      "metadata": {
        "colab": {
          "base_uri": "https://localhost:8080/"
        },
        "id": "ymG0T4I8f4bf",
        "outputId": "3d6d75c0-36b4-43f2-9eab-ec386d4bbc1f"
      },
      "execution_count": null,
      "outputs": [
        {
          "output_type": "execute_result",
          "data": {
            "text/plain": [
              "Private             11568\n",
              "Self-emp-not-inc     1272\n",
              "Local-gov            1053\n",
              "State-gov             659\n",
              "Self-emp-inc          594\n",
              "Federal-gov           485\n",
              "Never-worked            7\n",
              "Without-pay             6\n",
              "Name: workclass, dtype: int64"
            ]
          },
          "metadata": {},
          "execution_count": 9
        }
      ]
    },
    {
      "cell_type": "code",
      "source": [
        "test['workclass'].value_counts()"
      ],
      "metadata": {
        "colab": {
          "base_uri": "https://localhost:8080/"
        },
        "id": "3BczKpA9g7F1",
        "outputId": "75b77a56-e9e4-4d1b-d80b-cadcd293408c"
      },
      "execution_count": null,
      "outputs": [
        {
          "output_type": "execute_result",
          "data": {
            "text/plain": [
              "Private             11128\n",
              "Self-emp-not-inc     1269\n",
              "Local-gov            1040\n",
              "State-gov             639\n",
              "Self-emp-inc          522\n",
              "Federal-gov           475\n",
              "Without-pay             8\n",
              "Name: workclass, dtype: int64"
            ]
          },
          "metadata": {},
          "execution_count": 10
        }
      ]
    },
    {
      "cell_type": "code",
      "source": [
        "# Never-worked 제외\n",
        "train = train[train['workclass'] != 'Never-worked'].reset_index(drop=True)\n",
        "train.head()"
      ],
      "metadata": {
        "colab": {
          "base_uri": "https://localhost:8080/"
        },
        "id": "dT0x1wMbhMmr",
        "outputId": "a4dedd11-62b3-4e88-b72b-54db234c6299"
      },
      "execution_count": null,
      "outputs": [
        {
          "output_type": "execute_result",
          "data": {
            "text/plain": [
              "   age workclass  fnlwgt     education  education.num      marital.status  \\\n",
              "0   32   Private  309513    Assoc-acdm             12  Married-civ-spouse   \n",
              "1   33   Private  205469  Some-college             10  Married-civ-spouse   \n",
              "2   46   Private  149949  Some-college             10  Married-civ-spouse   \n",
              "3   23   Private  193090     Bachelors             13       Never-married   \n",
              "4   55   Private   60193       HS-grad              9            Divorced   \n",
              "\n",
              "        occupation   relationship   race     sex  capital.gain  capital.loss  \\\n",
              "0     Craft-repair        Husband  White    Male             0             0   \n",
              "1  Exec-managerial        Husband  White    Male             0             0   \n",
              "2     Craft-repair        Husband  White    Male             0             0   \n",
              "3     Adm-clerical      Own-child  White  Female             0             0   \n",
              "4     Adm-clerical  Not-in-family  White  Female             0             0   \n",
              "\n",
              "   hours.per.week native.country  target  \n",
              "0              40  United-States       0  \n",
              "1              40  United-States       1  \n",
              "2              40  United-States       0  \n",
              "3              30  United-States       0  \n",
              "4              40  United-States       0  "
            ],
            "text/html": [
              "\n",
              "  <div id=\"df-72cbaac9-793a-48a2-b922-637de21b8c69\">\n",
              "    <div class=\"colab-df-container\">\n",
              "      <div>\n",
              "<style scoped>\n",
              "    .dataframe tbody tr th:only-of-type {\n",
              "        vertical-align: middle;\n",
              "    }\n",
              "\n",
              "    .dataframe tbody tr th {\n",
              "        vertical-align: top;\n",
              "    }\n",
              "\n",
              "    .dataframe thead th {\n",
              "        text-align: right;\n",
              "    }\n",
              "</style>\n",
              "<table border=\"1\" class=\"dataframe\">\n",
              "  <thead>\n",
              "    <tr style=\"text-align: right;\">\n",
              "      <th></th>\n",
              "      <th>age</th>\n",
              "      <th>workclass</th>\n",
              "      <th>fnlwgt</th>\n",
              "      <th>education</th>\n",
              "      <th>education.num</th>\n",
              "      <th>marital.status</th>\n",
              "      <th>occupation</th>\n",
              "      <th>relationship</th>\n",
              "      <th>race</th>\n",
              "      <th>sex</th>\n",
              "      <th>capital.gain</th>\n",
              "      <th>capital.loss</th>\n",
              "      <th>hours.per.week</th>\n",
              "      <th>native.country</th>\n",
              "      <th>target</th>\n",
              "    </tr>\n",
              "  </thead>\n",
              "  <tbody>\n",
              "    <tr>\n",
              "      <th>0</th>\n",
              "      <td>32</td>\n",
              "      <td>Private</td>\n",
              "      <td>309513</td>\n",
              "      <td>Assoc-acdm</td>\n",
              "      <td>12</td>\n",
              "      <td>Married-civ-spouse</td>\n",
              "      <td>Craft-repair</td>\n",
              "      <td>Husband</td>\n",
              "      <td>White</td>\n",
              "      <td>Male</td>\n",
              "      <td>0</td>\n",
              "      <td>0</td>\n",
              "      <td>40</td>\n",
              "      <td>United-States</td>\n",
              "      <td>0</td>\n",
              "    </tr>\n",
              "    <tr>\n",
              "      <th>1</th>\n",
              "      <td>33</td>\n",
              "      <td>Private</td>\n",
              "      <td>205469</td>\n",
              "      <td>Some-college</td>\n",
              "      <td>10</td>\n",
              "      <td>Married-civ-spouse</td>\n",
              "      <td>Exec-managerial</td>\n",
              "      <td>Husband</td>\n",
              "      <td>White</td>\n",
              "      <td>Male</td>\n",
              "      <td>0</td>\n",
              "      <td>0</td>\n",
              "      <td>40</td>\n",
              "      <td>United-States</td>\n",
              "      <td>1</td>\n",
              "    </tr>\n",
              "    <tr>\n",
              "      <th>2</th>\n",
              "      <td>46</td>\n",
              "      <td>Private</td>\n",
              "      <td>149949</td>\n",
              "      <td>Some-college</td>\n",
              "      <td>10</td>\n",
              "      <td>Married-civ-spouse</td>\n",
              "      <td>Craft-repair</td>\n",
              "      <td>Husband</td>\n",
              "      <td>White</td>\n",
              "      <td>Male</td>\n",
              "      <td>0</td>\n",
              "      <td>0</td>\n",
              "      <td>40</td>\n",
              "      <td>United-States</td>\n",
              "      <td>0</td>\n",
              "    </tr>\n",
              "    <tr>\n",
              "      <th>3</th>\n",
              "      <td>23</td>\n",
              "      <td>Private</td>\n",
              "      <td>193090</td>\n",
              "      <td>Bachelors</td>\n",
              "      <td>13</td>\n",
              "      <td>Never-married</td>\n",
              "      <td>Adm-clerical</td>\n",
              "      <td>Own-child</td>\n",
              "      <td>White</td>\n",
              "      <td>Female</td>\n",
              "      <td>0</td>\n",
              "      <td>0</td>\n",
              "      <td>30</td>\n",
              "      <td>United-States</td>\n",
              "      <td>0</td>\n",
              "    </tr>\n",
              "    <tr>\n",
              "      <th>4</th>\n",
              "      <td>55</td>\n",
              "      <td>Private</td>\n",
              "      <td>60193</td>\n",
              "      <td>HS-grad</td>\n",
              "      <td>9</td>\n",
              "      <td>Divorced</td>\n",
              "      <td>Adm-clerical</td>\n",
              "      <td>Not-in-family</td>\n",
              "      <td>White</td>\n",
              "      <td>Female</td>\n",
              "      <td>0</td>\n",
              "      <td>0</td>\n",
              "      <td>40</td>\n",
              "      <td>United-States</td>\n",
              "      <td>0</td>\n",
              "    </tr>\n",
              "  </tbody>\n",
              "</table>\n",
              "</div>\n",
              "      <button class=\"colab-df-convert\" onclick=\"convertToInteractive('df-72cbaac9-793a-48a2-b922-637de21b8c69')\"\n",
              "              title=\"Convert this dataframe to an interactive table.\"\n",
              "              style=\"display:none;\">\n",
              "        \n",
              "  <svg xmlns=\"http://www.w3.org/2000/svg\" height=\"24px\"viewBox=\"0 0 24 24\"\n",
              "       width=\"24px\">\n",
              "    <path d=\"M0 0h24v24H0V0z\" fill=\"none\"/>\n",
              "    <path d=\"M18.56 5.44l.94 2.06.94-2.06 2.06-.94-2.06-.94-.94-2.06-.94 2.06-2.06.94zm-11 1L8.5 8.5l.94-2.06 2.06-.94-2.06-.94L8.5 2.5l-.94 2.06-2.06.94zm10 10l.94 2.06.94-2.06 2.06-.94-2.06-.94-.94-2.06-.94 2.06-2.06.94z\"/><path d=\"M17.41 7.96l-1.37-1.37c-.4-.4-.92-.59-1.43-.59-.52 0-1.04.2-1.43.59L10.3 9.45l-7.72 7.72c-.78.78-.78 2.05 0 2.83L4 21.41c.39.39.9.59 1.41.59.51 0 1.02-.2 1.41-.59l7.78-7.78 2.81-2.81c.8-.78.8-2.07 0-2.86zM5.41 20L4 18.59l7.72-7.72 1.47 1.35L5.41 20z\"/>\n",
              "  </svg>\n",
              "      </button>\n",
              "      \n",
              "  <style>\n",
              "    .colab-df-container {\n",
              "      display:flex;\n",
              "      flex-wrap:wrap;\n",
              "      gap: 12px;\n",
              "    }\n",
              "\n",
              "    .colab-df-convert {\n",
              "      background-color: #E8F0FE;\n",
              "      border: none;\n",
              "      border-radius: 50%;\n",
              "      cursor: pointer;\n",
              "      display: none;\n",
              "      fill: #1967D2;\n",
              "      height: 32px;\n",
              "      padding: 0 0 0 0;\n",
              "      width: 32px;\n",
              "    }\n",
              "\n",
              "    .colab-df-convert:hover {\n",
              "      background-color: #E2EBFA;\n",
              "      box-shadow: 0px 1px 2px rgba(60, 64, 67, 0.3), 0px 1px 3px 1px rgba(60, 64, 67, 0.15);\n",
              "      fill: #174EA6;\n",
              "    }\n",
              "\n",
              "    [theme=dark] .colab-df-convert {\n",
              "      background-color: #3B4455;\n",
              "      fill: #D2E3FC;\n",
              "    }\n",
              "\n",
              "    [theme=dark] .colab-df-convert:hover {\n",
              "      background-color: #434B5C;\n",
              "      box-shadow: 0px 1px 3px 1px rgba(0, 0, 0, 0.15);\n",
              "      filter: drop-shadow(0px 1px 2px rgba(0, 0, 0, 0.3));\n",
              "      fill: #FFFFFF;\n",
              "    }\n",
              "  </style>\n",
              "\n",
              "      <script>\n",
              "        const buttonEl =\n",
              "          document.querySelector('#df-72cbaac9-793a-48a2-b922-637de21b8c69 button.colab-df-convert');\n",
              "        buttonEl.style.display =\n",
              "          google.colab.kernel.accessAllowed ? 'block' : 'none';\n",
              "\n",
              "        async function convertToInteractive(key) {\n",
              "          const element = document.querySelector('#df-72cbaac9-793a-48a2-b922-637de21b8c69');\n",
              "          const dataTable =\n",
              "            await google.colab.kernel.invokeFunction('convertToInteractive',\n",
              "                                                     [key], {});\n",
              "          if (!dataTable) return;\n",
              "\n",
              "          const docLinkHtml = 'Like what you see? Visit the ' +\n",
              "            '<a target=\"_blank\" href=https://colab.research.google.com/notebooks/data_table.ipynb>data table notebook</a>'\n",
              "            + ' to learn more about interactive tables.';\n",
              "          element.innerHTML = '';\n",
              "          dataTable['output_type'] = 'display_data';\n",
              "          await google.colab.output.renderOutput(dataTable, element);\n",
              "          const docLink = document.createElement('div');\n",
              "          docLink.innerHTML = docLinkHtml;\n",
              "          element.appendChild(docLink);\n",
              "        }\n",
              "      </script>\n",
              "    </div>\n",
              "  </div>\n",
              "  "
            ]
          },
          "metadata": {},
          "execution_count": 11
        }
      ]
    },
    {
      "cell_type": "code",
      "source": [
        "# train에서 target이 1인 비율이 높은 순으로 label을 정하기로 한다\n",
        "# 따라서 Self-emp-inc, Federal-gov, Local-gov, Self-emp-not-inc, Private, Without-pay순으로 정하기로 한다.\n",
        "workclass = test['workclass'].unique()\n",
        "\n",
        "for kind in workclass:\n",
        "  data = train[train['workclass'] == kind]\n",
        "  proportion = round(np.sum(data['target']) / len(data),4)\n",
        "  print(f\"{kind}: {proportion}\")"
      ],
      "metadata": {
        "colab": {
          "base_uri": "https://localhost:8080/"
        },
        "id": "Wwe2eIaCh3Li",
        "outputId": "c9d90d98-4f17-4ad2-c1c6-ff4146403dd1"
      },
      "execution_count": null,
      "outputs": [
        {
          "output_type": "stream",
          "name": "stdout",
          "text": [
            "Private: 0.2189\n",
            "Self-emp-inc: 0.5438\n",
            "Local-gov: 0.301\n",
            "State-gov: 0.2838\n",
            "Federal-gov: 0.3773\n",
            "Self-emp-not-inc: 0.2932\n",
            "Without-pay: 0.0\n"
          ]
        }
      ]
    },
    {
      "cell_type": "code",
      "source": [
        "# 한편, 결측치의 경우 제외시키기로 한다(최빈값 혹인 중위 값 등으로 채워넣기에는 무리가 있다.)\n",
        "train.dropna(subset=['workclass'], inplace=True)\n",
        "train.head()"
      ],
      "metadata": {
        "colab": {
          "base_uri": "https://localhost:8080/"
        },
        "id": "5pGooyyTkUbq",
        "outputId": "98749fef-89eb-4286-8742-56287e18aa1d"
      },
      "execution_count": null,
      "outputs": [
        {
          "output_type": "execute_result",
          "data": {
            "text/plain": [
              "   age workclass  fnlwgt     education  education.num      marital.status  \\\n",
              "0   32   Private  309513    Assoc-acdm             12  Married-civ-spouse   \n",
              "1   33   Private  205469  Some-college             10  Married-civ-spouse   \n",
              "2   46   Private  149949  Some-college             10  Married-civ-spouse   \n",
              "3   23   Private  193090     Bachelors             13       Never-married   \n",
              "4   55   Private   60193       HS-grad              9            Divorced   \n",
              "\n",
              "        occupation   relationship   race     sex  capital.gain  capital.loss  \\\n",
              "0     Craft-repair        Husband  White    Male             0             0   \n",
              "1  Exec-managerial        Husband  White    Male             0             0   \n",
              "2     Craft-repair        Husband  White    Male             0             0   \n",
              "3     Adm-clerical      Own-child  White  Female             0             0   \n",
              "4     Adm-clerical  Not-in-family  White  Female             0             0   \n",
              "\n",
              "   hours.per.week native.country  target  \n",
              "0              40  United-States       0  \n",
              "1              40  United-States       1  \n",
              "2              40  United-States       0  \n",
              "3              30  United-States       0  \n",
              "4              40  United-States       0  "
            ],
            "text/html": [
              "\n",
              "  <div id=\"df-86539cfe-f3ae-4edf-83ca-6fdb7349b8a9\">\n",
              "    <div class=\"colab-df-container\">\n",
              "      <div>\n",
              "<style scoped>\n",
              "    .dataframe tbody tr th:only-of-type {\n",
              "        vertical-align: middle;\n",
              "    }\n",
              "\n",
              "    .dataframe tbody tr th {\n",
              "        vertical-align: top;\n",
              "    }\n",
              "\n",
              "    .dataframe thead th {\n",
              "        text-align: right;\n",
              "    }\n",
              "</style>\n",
              "<table border=\"1\" class=\"dataframe\">\n",
              "  <thead>\n",
              "    <tr style=\"text-align: right;\">\n",
              "      <th></th>\n",
              "      <th>age</th>\n",
              "      <th>workclass</th>\n",
              "      <th>fnlwgt</th>\n",
              "      <th>education</th>\n",
              "      <th>education.num</th>\n",
              "      <th>marital.status</th>\n",
              "      <th>occupation</th>\n",
              "      <th>relationship</th>\n",
              "      <th>race</th>\n",
              "      <th>sex</th>\n",
              "      <th>capital.gain</th>\n",
              "      <th>capital.loss</th>\n",
              "      <th>hours.per.week</th>\n",
              "      <th>native.country</th>\n",
              "      <th>target</th>\n",
              "    </tr>\n",
              "  </thead>\n",
              "  <tbody>\n",
              "    <tr>\n",
              "      <th>0</th>\n",
              "      <td>32</td>\n",
              "      <td>Private</td>\n",
              "      <td>309513</td>\n",
              "      <td>Assoc-acdm</td>\n",
              "      <td>12</td>\n",
              "      <td>Married-civ-spouse</td>\n",
              "      <td>Craft-repair</td>\n",
              "      <td>Husband</td>\n",
              "      <td>White</td>\n",
              "      <td>Male</td>\n",
              "      <td>0</td>\n",
              "      <td>0</td>\n",
              "      <td>40</td>\n",
              "      <td>United-States</td>\n",
              "      <td>0</td>\n",
              "    </tr>\n",
              "    <tr>\n",
              "      <th>1</th>\n",
              "      <td>33</td>\n",
              "      <td>Private</td>\n",
              "      <td>205469</td>\n",
              "      <td>Some-college</td>\n",
              "      <td>10</td>\n",
              "      <td>Married-civ-spouse</td>\n",
              "      <td>Exec-managerial</td>\n",
              "      <td>Husband</td>\n",
              "      <td>White</td>\n",
              "      <td>Male</td>\n",
              "      <td>0</td>\n",
              "      <td>0</td>\n",
              "      <td>40</td>\n",
              "      <td>United-States</td>\n",
              "      <td>1</td>\n",
              "    </tr>\n",
              "    <tr>\n",
              "      <th>2</th>\n",
              "      <td>46</td>\n",
              "      <td>Private</td>\n",
              "      <td>149949</td>\n",
              "      <td>Some-college</td>\n",
              "      <td>10</td>\n",
              "      <td>Married-civ-spouse</td>\n",
              "      <td>Craft-repair</td>\n",
              "      <td>Husband</td>\n",
              "      <td>White</td>\n",
              "      <td>Male</td>\n",
              "      <td>0</td>\n",
              "      <td>0</td>\n",
              "      <td>40</td>\n",
              "      <td>United-States</td>\n",
              "      <td>0</td>\n",
              "    </tr>\n",
              "    <tr>\n",
              "      <th>3</th>\n",
              "      <td>23</td>\n",
              "      <td>Private</td>\n",
              "      <td>193090</td>\n",
              "      <td>Bachelors</td>\n",
              "      <td>13</td>\n",
              "      <td>Never-married</td>\n",
              "      <td>Adm-clerical</td>\n",
              "      <td>Own-child</td>\n",
              "      <td>White</td>\n",
              "      <td>Female</td>\n",
              "      <td>0</td>\n",
              "      <td>0</td>\n",
              "      <td>30</td>\n",
              "      <td>United-States</td>\n",
              "      <td>0</td>\n",
              "    </tr>\n",
              "    <tr>\n",
              "      <th>4</th>\n",
              "      <td>55</td>\n",
              "      <td>Private</td>\n",
              "      <td>60193</td>\n",
              "      <td>HS-grad</td>\n",
              "      <td>9</td>\n",
              "      <td>Divorced</td>\n",
              "      <td>Adm-clerical</td>\n",
              "      <td>Not-in-family</td>\n",
              "      <td>White</td>\n",
              "      <td>Female</td>\n",
              "      <td>0</td>\n",
              "      <td>0</td>\n",
              "      <td>40</td>\n",
              "      <td>United-States</td>\n",
              "      <td>0</td>\n",
              "    </tr>\n",
              "  </tbody>\n",
              "</table>\n",
              "</div>\n",
              "      <button class=\"colab-df-convert\" onclick=\"convertToInteractive('df-86539cfe-f3ae-4edf-83ca-6fdb7349b8a9')\"\n",
              "              title=\"Convert this dataframe to an interactive table.\"\n",
              "              style=\"display:none;\">\n",
              "        \n",
              "  <svg xmlns=\"http://www.w3.org/2000/svg\" height=\"24px\"viewBox=\"0 0 24 24\"\n",
              "       width=\"24px\">\n",
              "    <path d=\"M0 0h24v24H0V0z\" fill=\"none\"/>\n",
              "    <path d=\"M18.56 5.44l.94 2.06.94-2.06 2.06-.94-2.06-.94-.94-2.06-.94 2.06-2.06.94zm-11 1L8.5 8.5l.94-2.06 2.06-.94-2.06-.94L8.5 2.5l-.94 2.06-2.06.94zm10 10l.94 2.06.94-2.06 2.06-.94-2.06-.94-.94-2.06-.94 2.06-2.06.94z\"/><path d=\"M17.41 7.96l-1.37-1.37c-.4-.4-.92-.59-1.43-.59-.52 0-1.04.2-1.43.59L10.3 9.45l-7.72 7.72c-.78.78-.78 2.05 0 2.83L4 21.41c.39.39.9.59 1.41.59.51 0 1.02-.2 1.41-.59l7.78-7.78 2.81-2.81c.8-.78.8-2.07 0-2.86zM5.41 20L4 18.59l7.72-7.72 1.47 1.35L5.41 20z\"/>\n",
              "  </svg>\n",
              "      </button>\n",
              "      \n",
              "  <style>\n",
              "    .colab-df-container {\n",
              "      display:flex;\n",
              "      flex-wrap:wrap;\n",
              "      gap: 12px;\n",
              "    }\n",
              "\n",
              "    .colab-df-convert {\n",
              "      background-color: #E8F0FE;\n",
              "      border: none;\n",
              "      border-radius: 50%;\n",
              "      cursor: pointer;\n",
              "      display: none;\n",
              "      fill: #1967D2;\n",
              "      height: 32px;\n",
              "      padding: 0 0 0 0;\n",
              "      width: 32px;\n",
              "    }\n",
              "\n",
              "    .colab-df-convert:hover {\n",
              "      background-color: #E2EBFA;\n",
              "      box-shadow: 0px 1px 2px rgba(60, 64, 67, 0.3), 0px 1px 3px 1px rgba(60, 64, 67, 0.15);\n",
              "      fill: #174EA6;\n",
              "    }\n",
              "\n",
              "    [theme=dark] .colab-df-convert {\n",
              "      background-color: #3B4455;\n",
              "      fill: #D2E3FC;\n",
              "    }\n",
              "\n",
              "    [theme=dark] .colab-df-convert:hover {\n",
              "      background-color: #434B5C;\n",
              "      box-shadow: 0px 1px 3px 1px rgba(0, 0, 0, 0.15);\n",
              "      filter: drop-shadow(0px 1px 2px rgba(0, 0, 0, 0.3));\n",
              "      fill: #FFFFFF;\n",
              "    }\n",
              "  </style>\n",
              "\n",
              "      <script>\n",
              "        const buttonEl =\n",
              "          document.querySelector('#df-86539cfe-f3ae-4edf-83ca-6fdb7349b8a9 button.colab-df-convert');\n",
              "        buttonEl.style.display =\n",
              "          google.colab.kernel.accessAllowed ? 'block' : 'none';\n",
              "\n",
              "        async function convertToInteractive(key) {\n",
              "          const element = document.querySelector('#df-86539cfe-f3ae-4edf-83ca-6fdb7349b8a9');\n",
              "          const dataTable =\n",
              "            await google.colab.kernel.invokeFunction('convertToInteractive',\n",
              "                                                     [key], {});\n",
              "          if (!dataTable) return;\n",
              "\n",
              "          const docLinkHtml = 'Like what you see? Visit the ' +\n",
              "            '<a target=\"_blank\" href=https://colab.research.google.com/notebooks/data_table.ipynb>data table notebook</a>'\n",
              "            + ' to learn more about interactive tables.';\n",
              "          element.innerHTML = '';\n",
              "          dataTable['output_type'] = 'display_data';\n",
              "          await google.colab.output.renderOutput(dataTable, element);\n",
              "          const docLink = document.createElement('div');\n",
              "          docLink.innerHTML = docLinkHtml;\n",
              "          element.appendChild(docLink);\n",
              "        }\n",
              "      </script>\n",
              "    </div>\n",
              "  </div>\n",
              "  "
            ]
          },
          "metadata": {},
          "execution_count": 13
        }
      ]
    },
    {
      "cell_type": "code",
      "source": [
        "# 결측치 처리 결과, occupation에 있었던 결측치까지 함께 제거되었다\n",
        "train.isnull().sum()"
      ],
      "metadata": {
        "colab": {
          "base_uri": "https://localhost:8080/"
        },
        "id": "dDSDzI2ivAky",
        "outputId": "192553b9-c500-4e30-8695-55cf31eea946"
      },
      "execution_count": null,
      "outputs": [
        {
          "output_type": "execute_result",
          "data": {
            "text/plain": [
              "age                 0\n",
              "workclass           0\n",
              "fnlwgt              0\n",
              "education           0\n",
              "education.num       0\n",
              "marital.status      0\n",
              "occupation          0\n",
              "relationship        0\n",
              "race                0\n",
              "sex                 0\n",
              "capital.gain        0\n",
              "capital.loss        0\n",
              "hours.per.week      0\n",
              "native.country    556\n",
              "target              0\n",
              "dtype: int64"
            ]
          },
          "metadata": {},
          "execution_count": 14
        }
      ]
    },
    {
      "cell_type": "code",
      "source": [
        "map_class = {'Without-pay':0, 'Private':1, 'State-gov':2, 'Self-emp-not-inc':3, 'Local-gov':4, 'Federal-gov': 5, 'Self-emp-inc':6}\n",
        "train[['workclass']] = train[['workclass']].applymap(map_class.get)\n",
        "test[['workclass']] = test[['workclass']].applymap(map_class.get)"
      ],
      "metadata": {
        "id": "8t7eJT0ulC6W"
      },
      "execution_count": null,
      "outputs": []
    },
    {
      "cell_type": "markdown",
      "source": [
        "#### native country"
      ],
      "metadata": {
        "id": "Ngptt9Tev7Ib"
      }
    },
    {
      "cell_type": "code",
      "source": [
        "print(\"number of unique values: \", train['native.country'].nunique())\n",
        "train['native.country'].value_counts()"
      ],
      "metadata": {
        "colab": {
          "base_uri": "https://localhost:8080/"
        },
        "id": "UFBXcjBCv9K-",
        "outputId": "44fb0ca5-b83e-4531-ae78-5a332f791b4f"
      },
      "execution_count": null,
      "outputs": [
        {
          "output_type": "stream",
          "name": "stdout",
          "text": [
            "number of unique values:  41\n"
          ]
        },
        {
          "output_type": "execute_result",
          "data": {
            "text/plain": [
              "United-States                 13727\n",
              "Mexico                          322\n",
              "Philippines                      98\n",
              "Germany                          66\n",
              "Puerto-Rico                      54\n",
              "El-Salvador                      52\n",
              "Canada                           49\n",
              "India                            47\n",
              "Cuba                             46\n",
              "England                          42\n",
              "Jamaica                          41\n",
              "Dominican-Republic               35\n",
              "Guatemala                        35\n",
              "Columbia                         34\n",
              "China                            33\n",
              "Italy                            33\n",
              "Poland                           31\n",
              "South                            30\n",
              "Japan                            30\n",
              "Vietnam                          29\n",
              "Haiti                            21\n",
              "Taiwan                           19\n",
              "Nicaragua                        19\n",
              "Ecuador                          18\n",
              "Ireland                          18\n",
              "Portugal                         17\n",
              "Iran                             16\n",
              "Peru                             16\n",
              "Greece                           14\n",
              "France                           12\n",
              "Cambodia                         10\n",
              "Laos                              9\n",
              "Yugoslavia                        9\n",
              "Trinadad&Tobago                   9\n",
              "Hong                              8\n",
              "Hungary                           7\n",
              "Outlying-US(Guam-USVI-etc)        7\n",
              "Honduras                          6\n",
              "Scotland                          6\n",
              "Thailand                          5\n",
              "Holand-Netherlands                1\n",
              "Name: native.country, dtype: int64"
            ]
          },
          "metadata": {},
          "execution_count": 16
        }
      ]
    },
    {
      "cell_type": "code",
      "source": [
        "#Holand-Netherlands가 없다는 것을 제외하고 같은 나라들이다.\n",
        "print(\"number of unique values: \", test['native.country'].nunique())\n",
        "test['native.country'].value_counts()"
      ],
      "metadata": {
        "colab": {
          "base_uri": "https://localhost:8080/"
        },
        "id": "pfrQVdNLwQG7",
        "outputId": "99c91747-a7dc-46d7-b656-6dc3b8a448d2"
      },
      "execution_count": null,
      "outputs": [
        {
          "output_type": "stream",
          "name": "stdout",
          "text": [
            "number of unique values:  40\n"
          ]
        },
        {
          "output_type": "execute_result",
          "data": {
            "text/plain": [
              "United-States                 13777\n",
              "Mexico                          288\n",
              "Philippines                      90\n",
              "Germany                          62\n",
              "Canada                           58\n",
              "Puerto-Rico                      55\n",
              "India                            53\n",
              "El-Salvador                      48\n",
              "Cuba                             46\n",
              "England                          44\n",
              "South                            41\n",
              "Jamaica                          39\n",
              "China                            35\n",
              "Vietnam                          35\n",
              "Italy                            35\n",
              "Dominican-Republic               32\n",
              "Japan                            29\n",
              "Guatemala                        28\n",
              "Iran                             26\n",
              "Poland                           25\n",
              "Taiwan                           23\n",
              "Columbia                         22\n",
              "Haiti                            21\n",
              "Portugal                         17\n",
              "Greece                           15\n",
              "France                           15\n",
              "Peru                             14\n",
              "Nicaragua                        14\n",
              "Thailand                         12\n",
              "Hong                             11\n",
              "Ecuador                           9\n",
              "Trinadad&Tobago                   9\n",
              "Cambodia                          8\n",
              "Laos                              8\n",
              "Yugoslavia                        7\n",
              "Outlying-US(Guam-USVI-etc)        7\n",
              "Honduras                          6\n",
              "Hungary                           6\n",
              "Ireland                           6\n",
              "Scotland                          5\n",
              "Name: native.country, dtype: int64"
            ]
          },
          "metadata": {},
          "execution_count": 17
        }
      ]
    },
    {
      "cell_type": "code",
      "source": [
        "# native.country가 NaN인 경우에 대해서는 일단 전체 관측치들 중 native.country가 United-states인 경우가 압도적으로 많으므로 United-states로 설정하자\n",
        "train['native.country'] = train['native.country'].fillna('United-States')"
      ],
      "metadata": {
        "id": "qKZjyMIJwT9R"
      },
      "execution_count": null,
      "outputs": []
    },
    {
      "cell_type": "code",
      "source": [
        "# train에서 Holand-Netherlands인 관측치를 삭제한다.\n",
        "train = train[train['native.country'] != 'Holand-Netherlands']"
      ],
      "metadata": {
        "id": "Q59GKP_6yTs_"
      },
      "execution_count": null,
      "outputs": []
    },
    {
      "cell_type": "code",
      "source": [
        "# train에서 target이 1인 비율이 높은 순으로 label을 정하기로 한다\n",
        "country = test['native.country'].unique()\n",
        "country_dict = {}\n",
        "for nation in country:\n",
        "  data = train[train['native.country'] == nation]\n",
        "  proportion = round(np.sum(data['target']) / len(data),4)\n",
        "  country_dict[nation] = proportion\n",
        "country_df = pd.DataFrame(index=country_dict.keys(), data=country_dict.values())\n",
        "country_df.rename(columns={0:'proportion'}, inplace=True)\n",
        "display(country_df.head())"
      ],
      "metadata": {
        "colab": {
          "base_uri": "https://localhost:8080/"
        },
        "id": "l7z_HyyB0smJ",
        "outputId": "68f91201-ff80-41a8-a60c-c75cb0aeda33"
      },
      "execution_count": null,
      "outputs": [
        {
          "output_type": "display_data",
          "data": {
            "text/plain": [
              "               proportion\n",
              "United-States      0.2569\n",
              "Mexico             0.0497\n",
              "Vietnam            0.0345\n",
              "Iran               0.6875\n",
              "China              0.2424"
            ],
            "text/html": [
              "\n",
              "  <div id=\"df-b41552d2-c16a-4c27-807a-9e978294bce4\">\n",
              "    <div class=\"colab-df-container\">\n",
              "      <div>\n",
              "<style scoped>\n",
              "    .dataframe tbody tr th:only-of-type {\n",
              "        vertical-align: middle;\n",
              "    }\n",
              "\n",
              "    .dataframe tbody tr th {\n",
              "        vertical-align: top;\n",
              "    }\n",
              "\n",
              "    .dataframe thead th {\n",
              "        text-align: right;\n",
              "    }\n",
              "</style>\n",
              "<table border=\"1\" class=\"dataframe\">\n",
              "  <thead>\n",
              "    <tr style=\"text-align: right;\">\n",
              "      <th></th>\n",
              "      <th>proportion</th>\n",
              "    </tr>\n",
              "  </thead>\n",
              "  <tbody>\n",
              "    <tr>\n",
              "      <th>United-States</th>\n",
              "      <td>0.2569</td>\n",
              "    </tr>\n",
              "    <tr>\n",
              "      <th>Mexico</th>\n",
              "      <td>0.0497</td>\n",
              "    </tr>\n",
              "    <tr>\n",
              "      <th>Vietnam</th>\n",
              "      <td>0.0345</td>\n",
              "    </tr>\n",
              "    <tr>\n",
              "      <th>Iran</th>\n",
              "      <td>0.6875</td>\n",
              "    </tr>\n",
              "    <tr>\n",
              "      <th>China</th>\n",
              "      <td>0.2424</td>\n",
              "    </tr>\n",
              "  </tbody>\n",
              "</table>\n",
              "</div>\n",
              "      <button class=\"colab-df-convert\" onclick=\"convertToInteractive('df-b41552d2-c16a-4c27-807a-9e978294bce4')\"\n",
              "              title=\"Convert this dataframe to an interactive table.\"\n",
              "              style=\"display:none;\">\n",
              "        \n",
              "  <svg xmlns=\"http://www.w3.org/2000/svg\" height=\"24px\"viewBox=\"0 0 24 24\"\n",
              "       width=\"24px\">\n",
              "    <path d=\"M0 0h24v24H0V0z\" fill=\"none\"/>\n",
              "    <path d=\"M18.56 5.44l.94 2.06.94-2.06 2.06-.94-2.06-.94-.94-2.06-.94 2.06-2.06.94zm-11 1L8.5 8.5l.94-2.06 2.06-.94-2.06-.94L8.5 2.5l-.94 2.06-2.06.94zm10 10l.94 2.06.94-2.06 2.06-.94-2.06-.94-.94-2.06-.94 2.06-2.06.94z\"/><path d=\"M17.41 7.96l-1.37-1.37c-.4-.4-.92-.59-1.43-.59-.52 0-1.04.2-1.43.59L10.3 9.45l-7.72 7.72c-.78.78-.78 2.05 0 2.83L4 21.41c.39.39.9.59 1.41.59.51 0 1.02-.2 1.41-.59l7.78-7.78 2.81-2.81c.8-.78.8-2.07 0-2.86zM5.41 20L4 18.59l7.72-7.72 1.47 1.35L5.41 20z\"/>\n",
              "  </svg>\n",
              "      </button>\n",
              "      \n",
              "  <style>\n",
              "    .colab-df-container {\n",
              "      display:flex;\n",
              "      flex-wrap:wrap;\n",
              "      gap: 12px;\n",
              "    }\n",
              "\n",
              "    .colab-df-convert {\n",
              "      background-color: #E8F0FE;\n",
              "      border: none;\n",
              "      border-radius: 50%;\n",
              "      cursor: pointer;\n",
              "      display: none;\n",
              "      fill: #1967D2;\n",
              "      height: 32px;\n",
              "      padding: 0 0 0 0;\n",
              "      width: 32px;\n",
              "    }\n",
              "\n",
              "    .colab-df-convert:hover {\n",
              "      background-color: #E2EBFA;\n",
              "      box-shadow: 0px 1px 2px rgba(60, 64, 67, 0.3), 0px 1px 3px 1px rgba(60, 64, 67, 0.15);\n",
              "      fill: #174EA6;\n",
              "    }\n",
              "\n",
              "    [theme=dark] .colab-df-convert {\n",
              "      background-color: #3B4455;\n",
              "      fill: #D2E3FC;\n",
              "    }\n",
              "\n",
              "    [theme=dark] .colab-df-convert:hover {\n",
              "      background-color: #434B5C;\n",
              "      box-shadow: 0px 1px 3px 1px rgba(0, 0, 0, 0.15);\n",
              "      filter: drop-shadow(0px 1px 2px rgba(0, 0, 0, 0.3));\n",
              "      fill: #FFFFFF;\n",
              "    }\n",
              "  </style>\n",
              "\n",
              "      <script>\n",
              "        const buttonEl =\n",
              "          document.querySelector('#df-b41552d2-c16a-4c27-807a-9e978294bce4 button.colab-df-convert');\n",
              "        buttonEl.style.display =\n",
              "          google.colab.kernel.accessAllowed ? 'block' : 'none';\n",
              "\n",
              "        async function convertToInteractive(key) {\n",
              "          const element = document.querySelector('#df-b41552d2-c16a-4c27-807a-9e978294bce4');\n",
              "          const dataTable =\n",
              "            await google.colab.kernel.invokeFunction('convertToInteractive',\n",
              "                                                     [key], {});\n",
              "          if (!dataTable) return;\n",
              "\n",
              "          const docLinkHtml = 'Like what you see? Visit the ' +\n",
              "            '<a target=\"_blank\" href=https://colab.research.google.com/notebooks/data_table.ipynb>data table notebook</a>'\n",
              "            + ' to learn more about interactive tables.';\n",
              "          element.innerHTML = '';\n",
              "          dataTable['output_type'] = 'display_data';\n",
              "          await google.colab.output.renderOutput(dataTable, element);\n",
              "          const docLink = document.createElement('div');\n",
              "          docLink.innerHTML = docLinkHtml;\n",
              "          element.appendChild(docLink);\n",
              "        }\n",
              "      </script>\n",
              "    </div>\n",
              "  </div>\n",
              "  "
            ]
          },
          "metadata": {}
        }
      ]
    },
    {
      "cell_type": "code",
      "source": [
        "country_df = country_df.sort_values(by='proportion', ascending=False)\n",
        "country_df.head()"
      ],
      "metadata": {
        "colab": {
          "base_uri": "https://localhost:8080/"
        },
        "id": "PWoyn8df4tzQ",
        "outputId": "da4a4172-22c2-489c-86b2-5e3f8987cf8e"
      },
      "execution_count": null,
      "outputs": [
        {
          "output_type": "execute_result",
          "data": {
            "text/plain": [
              "            proportion\n",
              "Iran            0.6875\n",
              "Yugoslavia      0.4444\n",
              "India           0.4043\n",
              "Japan           0.4000\n",
              "Canada          0.3878"
            ],
            "text/html": [
              "\n",
              "  <div id=\"df-97c0d7c4-16b1-4ce7-9850-28ec9c53e69a\">\n",
              "    <div class=\"colab-df-container\">\n",
              "      <div>\n",
              "<style scoped>\n",
              "    .dataframe tbody tr th:only-of-type {\n",
              "        vertical-align: middle;\n",
              "    }\n",
              "\n",
              "    .dataframe tbody tr th {\n",
              "        vertical-align: top;\n",
              "    }\n",
              "\n",
              "    .dataframe thead th {\n",
              "        text-align: right;\n",
              "    }\n",
              "</style>\n",
              "<table border=\"1\" class=\"dataframe\">\n",
              "  <thead>\n",
              "    <tr style=\"text-align: right;\">\n",
              "      <th></th>\n",
              "      <th>proportion</th>\n",
              "    </tr>\n",
              "  </thead>\n",
              "  <tbody>\n",
              "    <tr>\n",
              "      <th>Iran</th>\n",
              "      <td>0.6875</td>\n",
              "    </tr>\n",
              "    <tr>\n",
              "      <th>Yugoslavia</th>\n",
              "      <td>0.4444</td>\n",
              "    </tr>\n",
              "    <tr>\n",
              "      <th>India</th>\n",
              "      <td>0.4043</td>\n",
              "    </tr>\n",
              "    <tr>\n",
              "      <th>Japan</th>\n",
              "      <td>0.4000</td>\n",
              "    </tr>\n",
              "    <tr>\n",
              "      <th>Canada</th>\n",
              "      <td>0.3878</td>\n",
              "    </tr>\n",
              "  </tbody>\n",
              "</table>\n",
              "</div>\n",
              "      <button class=\"colab-df-convert\" onclick=\"convertToInteractive('df-97c0d7c4-16b1-4ce7-9850-28ec9c53e69a')\"\n",
              "              title=\"Convert this dataframe to an interactive table.\"\n",
              "              style=\"display:none;\">\n",
              "        \n",
              "  <svg xmlns=\"http://www.w3.org/2000/svg\" height=\"24px\"viewBox=\"0 0 24 24\"\n",
              "       width=\"24px\">\n",
              "    <path d=\"M0 0h24v24H0V0z\" fill=\"none\"/>\n",
              "    <path d=\"M18.56 5.44l.94 2.06.94-2.06 2.06-.94-2.06-.94-.94-2.06-.94 2.06-2.06.94zm-11 1L8.5 8.5l.94-2.06 2.06-.94-2.06-.94L8.5 2.5l-.94 2.06-2.06.94zm10 10l.94 2.06.94-2.06 2.06-.94-2.06-.94-.94-2.06-.94 2.06-2.06.94z\"/><path d=\"M17.41 7.96l-1.37-1.37c-.4-.4-.92-.59-1.43-.59-.52 0-1.04.2-1.43.59L10.3 9.45l-7.72 7.72c-.78.78-.78 2.05 0 2.83L4 21.41c.39.39.9.59 1.41.59.51 0 1.02-.2 1.41-.59l7.78-7.78 2.81-2.81c.8-.78.8-2.07 0-2.86zM5.41 20L4 18.59l7.72-7.72 1.47 1.35L5.41 20z\"/>\n",
              "  </svg>\n",
              "      </button>\n",
              "      \n",
              "  <style>\n",
              "    .colab-df-container {\n",
              "      display:flex;\n",
              "      flex-wrap:wrap;\n",
              "      gap: 12px;\n",
              "    }\n",
              "\n",
              "    .colab-df-convert {\n",
              "      background-color: #E8F0FE;\n",
              "      border: none;\n",
              "      border-radius: 50%;\n",
              "      cursor: pointer;\n",
              "      display: none;\n",
              "      fill: #1967D2;\n",
              "      height: 32px;\n",
              "      padding: 0 0 0 0;\n",
              "      width: 32px;\n",
              "    }\n",
              "\n",
              "    .colab-df-convert:hover {\n",
              "      background-color: #E2EBFA;\n",
              "      box-shadow: 0px 1px 2px rgba(60, 64, 67, 0.3), 0px 1px 3px 1px rgba(60, 64, 67, 0.15);\n",
              "      fill: #174EA6;\n",
              "    }\n",
              "\n",
              "    [theme=dark] .colab-df-convert {\n",
              "      background-color: #3B4455;\n",
              "      fill: #D2E3FC;\n",
              "    }\n",
              "\n",
              "    [theme=dark] .colab-df-convert:hover {\n",
              "      background-color: #434B5C;\n",
              "      box-shadow: 0px 1px 3px 1px rgba(0, 0, 0, 0.15);\n",
              "      filter: drop-shadow(0px 1px 2px rgba(0, 0, 0, 0.3));\n",
              "      fill: #FFFFFF;\n",
              "    }\n",
              "  </style>\n",
              "\n",
              "      <script>\n",
              "        const buttonEl =\n",
              "          document.querySelector('#df-97c0d7c4-16b1-4ce7-9850-28ec9c53e69a button.colab-df-convert');\n",
              "        buttonEl.style.display =\n",
              "          google.colab.kernel.accessAllowed ? 'block' : 'none';\n",
              "\n",
              "        async function convertToInteractive(key) {\n",
              "          const element = document.querySelector('#df-97c0d7c4-16b1-4ce7-9850-28ec9c53e69a');\n",
              "          const dataTable =\n",
              "            await google.colab.kernel.invokeFunction('convertToInteractive',\n",
              "                                                     [key], {});\n",
              "          if (!dataTable) return;\n",
              "\n",
              "          const docLinkHtml = 'Like what you see? Visit the ' +\n",
              "            '<a target=\"_blank\" href=https://colab.research.google.com/notebooks/data_table.ipynb>data table notebook</a>'\n",
              "            + ' to learn more about interactive tables.';\n",
              "          element.innerHTML = '';\n",
              "          dataTable['output_type'] = 'display_data';\n",
              "          await google.colab.output.renderOutput(dataTable, element);\n",
              "          const docLink = document.createElement('div');\n",
              "          docLink.innerHTML = docLinkHtml;\n",
              "          element.appendChild(docLink);\n",
              "        }\n",
              "      </script>\n",
              "    </div>\n",
              "  </div>\n",
              "  "
            ]
          },
          "metadata": {},
          "execution_count": 21
        }
      ]
    },
    {
      "cell_type": "code",
      "source": [
        "map_class2 ={}\n",
        "for i in range(40):\n",
        "  map_class2[country_df.index[i]] = i\n",
        "train[['native.country']] = train[['native.country']].applymap(map_class2.get)\n",
        "test[['native.country']] = test[['native.country']].applymap(map_class2.get)"
      ],
      "metadata": {
        "id": "Lpx7uHoU3lkU",
        "colab": {
          "base_uri": "https://localhost:8080/"
        },
        "outputId": "0224fac6-1257-4c8e-9931-1a319b03d490"
      },
      "execution_count": null,
      "outputs": [
        {
          "output_type": "stream",
          "name": "stderr",
          "text": [
            "/usr/local/lib/python3.7/dist-packages/pandas/core/frame.py:3641: SettingWithCopyWarning: \n",
            "A value is trying to be set on a copy of a slice from a DataFrame.\n",
            "Try using .loc[row_indexer,col_indexer] = value instead\n",
            "\n",
            "See the caveats in the documentation: https://pandas.pydata.org/pandas-docs/stable/user_guide/indexing.html#returning-a-view-versus-a-copy\n",
            "  self[k1] = value[k2]\n"
          ]
        }
      ]
    },
    {
      "cell_type": "markdown",
      "source": [
        "#### education"
      ],
      "metadata": {
        "id": "v2kjcwzVmurB"
      }
    },
    {
      "cell_type": "code",
      "source": [
        "print(\"number of unique values: \", train['education'].nunique())\n",
        "train['education'].value_counts()"
      ],
      "metadata": {
        "colab": {
          "base_uri": "https://localhost:8080/"
        },
        "id": "f8DVJ7TYmwDf",
        "outputId": "075ad7ec-8108-4cb3-cf82-6f956a81cc27"
      },
      "execution_count": null,
      "outputs": [
        {
          "output_type": "stream",
          "name": "stdout",
          "text": [
            "number of unique values:  16\n"
          ]
        },
        {
          "output_type": "execute_result",
          "data": {
            "text/plain": [
              "HS-grad         5033\n",
              "Some-college    3388\n",
              "Bachelors       2669\n",
              "Masters          873\n",
              "Assoc-voc        663\n",
              "11th             545\n",
              "Assoc-acdm       541\n",
              "10th             408\n",
              "7th-8th          305\n",
              "Prof-school      283\n",
              "9th              243\n",
              "12th             209\n",
              "Doctorate        199\n",
              "5th-6th          167\n",
              "1st-4th           84\n",
              "Preschool         26\n",
              "Name: education, dtype: int64"
            ]
          },
          "metadata": {},
          "execution_count": 23
        }
      ]
    },
    {
      "cell_type": "code",
      "source": [
        "print(\"number of unique values: \",test['education'].nunique())\n",
        "test['education'].value_counts()"
      ],
      "metadata": {
        "colab": {
          "base_uri": "https://localhost:8080/"
        },
        "id": "_Rj8y0aKm8Q1",
        "outputId": "0529e2a8-d720-4a76-dad7-dbf2f14d83fb"
      },
      "execution_count": null,
      "outputs": [
        {
          "output_type": "stream",
          "name": "stdout",
          "text": [
            "number of unique values:  16\n"
          ]
        },
        {
          "output_type": "execute_result",
          "data": {
            "text/plain": [
              "HS-grad         4935\n",
              "Some-college    3386\n",
              "Bachelors       2513\n",
              "Masters          802\n",
              "Assoc-voc        658\n",
              "11th             511\n",
              "Assoc-acdm       479\n",
              "10th             423\n",
              "Prof-school      275\n",
              "7th-8th          268\n",
              "9th              220\n",
              "Doctorate        199\n",
              "12th             184\n",
              "5th-6th          136\n",
              "1st-4th           72\n",
              "Preschool         20\n",
              "Name: education, dtype: int64"
            ]
          },
          "metadata": {},
          "execution_count": 24
        }
      ]
    },
    {
      "cell_type": "code",
      "source": [
        "# train과 test의 범주가 같고, 각각의 범주가 무엇을 의미하는 지 알고 있다. \n",
        "# 교육수준이 낮은 순서부터 높은 순서대로 label을 정하기로 하자.\n",
        "map_class3 = {'Preschool':0, '1st-4th':1, '5th-6th':2, '7th-8th':3, '9th':4, '10th': 5, '11th':6,\n",
        "              '12th':7, 'HS-grad':8, 'Prof-school':9, 'Assoc-acdm':10, 'Assoc-voc':11,\n",
        "              'Some-college':12, 'Bachelors':13, 'Masters':14, 'Doctorate':15}\n",
        "train[['education']] = train[['education']].applymap(map_class3.get)\n",
        "test[['education']] = test[['education']].applymap(map_class3.get)"
      ],
      "metadata": {
        "id": "NS3sqv1sndJM"
      },
      "execution_count": null,
      "outputs": []
    },
    {
      "cell_type": "markdown",
      "source": [
        "#### marital.status"
      ],
      "metadata": {
        "id": "iwnR75-KpShJ"
      }
    },
    {
      "cell_type": "code",
      "source": [
        "print(\"number of unique values: \", train['marital.status'].nunique())\n",
        "train['marital.status'].value_counts()"
      ],
      "metadata": {
        "colab": {
          "base_uri": "https://localhost:8080/"
        },
        "id": "3qgEl0CKpWol",
        "outputId": "a87e2018-ce93-4909-d647-a72c02c84ce8"
      },
      "execution_count": null,
      "outputs": [
        {
          "output_type": "stream",
          "name": "stdout",
          "text": [
            "number of unique values:  7\n"
          ]
        },
        {
          "output_type": "execute_result",
          "data": {
            "text/plain": [
              "Married-civ-spouse       7366\n",
              "Never-married            4999\n",
              "Divorced                 2130\n",
              "Separated                 474\n",
              "Widowed                   437\n",
              "Married-spouse-absent     218\n",
              "Married-AF-spouse          12\n",
              "Name: marital.status, dtype: int64"
            ]
          },
          "metadata": {},
          "execution_count": 26
        }
      ]
    },
    {
      "cell_type": "code",
      "source": [
        "print(\"number of unique values: \", test['marital.status'].nunique())\n",
        "test['marital.status'].value_counts()"
      ],
      "metadata": {
        "colab": {
          "base_uri": "https://localhost:8080/"
        },
        "id": "dCK5FERgpnyC",
        "outputId": "0bc63334-ce7b-4baa-bb1e-8bb159587841"
      },
      "execution_count": null,
      "outputs": [
        {
          "output_type": "stream",
          "name": "stdout",
          "text": [
            "number of unique values:  7\n"
          ]
        },
        {
          "output_type": "execute_result",
          "data": {
            "text/plain": [
              "Married-civ-spouse       6973\n",
              "Never-married            4912\n",
              "Divorced                 2128\n",
              "Separated                 485\n",
              "Widowed                   403\n",
              "Married-spouse-absent     171\n",
              "Married-AF-spouse           9\n",
              "Name: marital.status, dtype: int64"
            ]
          },
          "metadata": {},
          "execution_count": 27
        }
      ]
    },
    {
      "cell_type": "code",
      "source": [
        "# train에서 target이 1인 비율이 높은 순으로 label을 정하기로 한다\n",
        "# 따라서 Married-civ-spouse, Married-AF-spouse, Divorced, Widowed, Married-spouse-absent, Separated, Never-married 순으로 label을 정하기로 하자.\n",
        "marital_status = test['marital.status'].unique()\n",
        "\n",
        "for status in marital_status:\n",
        "  data = train[train['marital.status'] == status]\n",
        "  proportion = round(np.sum(data['target']) / len(data),4)\n",
        "  print(f\"{status}: {proportion}\")"
      ],
      "metadata": {
        "colab": {
          "base_uri": "https://localhost:8080/"
        },
        "id": "NgMn1OUtp3Zz",
        "outputId": "4c760152-2fc2-41a2-c34f-c2d0cc72be33"
      },
      "execution_count": null,
      "outputs": [
        {
          "output_type": "stream",
          "name": "stdout",
          "text": [
            "Married-civ-spouse: 0.4519\n",
            "Never-married: 0.0488\n",
            "Widowed: 0.1007\n",
            "Divorced: 0.1131\n",
            "Married-spouse-absent: 0.0826\n",
            "Separated: 0.0717\n",
            "Married-AF-spouse: 0.4167\n"
          ]
        }
      ]
    },
    {
      "cell_type": "code",
      "source": [
        "map_class4 = {'Never-married':0, 'Separated':1, 'Married-spouse-absent':2, 'Widowed':3, 'Divorced':4, 'Married-AF-spouse': 5, 'Married-civ-spouse':6}\n",
        "train[['marital.status']] = train[['marital.status']].applymap(map_class4.get)\n",
        "test[['marital.status']] = test[['marital.status']].applymap(map_class4.get)"
      ],
      "metadata": {
        "id": "iyg-4YZWqyv2"
      },
      "execution_count": null,
      "outputs": []
    },
    {
      "cell_type": "markdown",
      "source": [
        "#### occupation"
      ],
      "metadata": {
        "id": "onRAEMrjsf0L"
      }
    },
    {
      "cell_type": "code",
      "source": [
        "print(\"number of unique values: \", train['occupation'].nunique())\n",
        "train['occupation'].value_counts()"
      ],
      "metadata": {
        "colab": {
          "base_uri": "https://localhost:8080/"
        },
        "id": "1AoilrbAsk-x",
        "outputId": "49fc0180-1aa2-4a68-d900-915019a68920"
      },
      "execution_count": null,
      "outputs": [
        {
          "output_type": "stream",
          "name": "stdout",
          "text": [
            "number of unique values:  14\n"
          ]
        },
        {
          "output_type": "execute_result",
          "data": {
            "text/plain": [
              "Exec-managerial      2113\n",
              "Craft-repair         2101\n",
              "Prof-specialty       2085\n",
              "Adm-clerical         1893\n",
              "Sales                1829\n",
              "Other-service        1677\n",
              "Machine-op-inspct    1039\n",
              "Transport-moving      785\n",
              "Handlers-cleaners     695\n",
              "Farming-fishing       508\n",
              "Tech-support          475\n",
              "Protective-serv       350\n",
              "Priv-house-serv        83\n",
              "Armed-Forces            3\n",
              "Name: occupation, dtype: int64"
            ]
          },
          "metadata": {},
          "execution_count": 30
        }
      ]
    },
    {
      "cell_type": "code",
      "source": [
        "print(\"number of unique values: \", train['occupation'].nunique())\n",
        "test['occupation'].value_counts()"
      ],
      "metadata": {
        "colab": {
          "base_uri": "https://localhost:8080/"
        },
        "id": "T_0b12icsqnA",
        "outputId": "b62f0248-7cca-4822-a694-f20c1965410e"
      },
      "execution_count": null,
      "outputs": [
        {
          "output_type": "stream",
          "name": "stdout",
          "text": [
            "number of unique values:  14\n"
          ]
        },
        {
          "output_type": "execute_result",
          "data": {
            "text/plain": [
              "Prof-specialty       2055\n",
              "Craft-repair         1998\n",
              "Exec-managerial      1953\n",
              "Adm-clerical         1877\n",
              "Sales                1821\n",
              "Other-service        1618\n",
              "Machine-op-inspct     962\n",
              "Transport-moving      812\n",
              "Handlers-cleaners     675\n",
              "Farming-fishing       486\n",
              "Tech-support          453\n",
              "Protective-serv       299\n",
              "Priv-house-serv        66\n",
              "Armed-Forces            6\n",
              "Name: occupation, dtype: int64"
            ]
          },
          "metadata": {},
          "execution_count": 31
        }
      ]
    },
    {
      "cell_type": "code",
      "source": [
        "# train에서 target이 1인 비율이 높은 순으로 label을 정하기로 한다\n",
        "occupations = test['occupation'].unique()\n",
        "\n",
        "for job in occupations:\n",
        "  data = train[train['occupation'] == job]\n",
        "  proportion = round(np.sum(data['target']) / len(data),4)\n",
        "  print(f\"{job}: {proportion}\")"
      ],
      "metadata": {
        "colab": {
          "base_uri": "https://localhost:8080/"
        },
        "id": "iAzdUb24suLA",
        "outputId": "2d6a5a8a-df8d-458b-fec2-b199f354be64"
      },
      "execution_count": null,
      "outputs": [
        {
          "output_type": "stream",
          "name": "stdout",
          "text": [
            "Exec-managerial: 0.4841\n",
            "Sales: 0.2712\n",
            "Craft-repair: 0.227\n",
            "Prof-specialty: 0.4523\n",
            "Adm-clerical: 0.1384\n",
            "Other-service: 0.0429\n",
            "Protective-serv: 0.3229\n",
            "Handlers-cleaners: 0.0561\n",
            "Transport-moving: 0.1911\n",
            "Tech-support: 0.2989\n",
            "Machine-op-inspct: 0.128\n",
            "Farming-fishing: 0.128\n",
            "Priv-house-serv: 0.0\n",
            "Armed-Forces: 0.0\n"
          ]
        }
      ]
    },
    {
      "cell_type": "code",
      "source": [
        "map_class5 = {'Armed-Forces':0, 'Priv-house-serv':1, 'Other-service':2, 'Handlers-cleaners':3, 'Machine-op-inspct':4, \n",
        "              'Farming-fishing': 5, 'Adm-clerical':6, 'Transport-moving':7, 'Craft-repair':8, 'Sales':9,\n",
        "              'Tech-support':10, 'Protective-serv':11, 'Prof-specialty':12, 'Exec-managerial':13}\n",
        "train[['occupation']] = train[['occupation']].applymap(map_class5.get)\n",
        "test[['occupation']] = test[['occupation']].applymap(map_class5.get)"
      ],
      "metadata": {
        "id": "MpD5DqRctIWL"
      },
      "execution_count": null,
      "outputs": []
    },
    {
      "cell_type": "markdown",
      "source": [
        "#### relationship"
      ],
      "metadata": {
        "id": "tHk0wz1I6ety"
      }
    },
    {
      "cell_type": "code",
      "source": [
        "print(\"number of unique values: \", train['relationship'].nunique())\n",
        "train['relationship'].value_counts()"
      ],
      "metadata": {
        "colab": {
          "base_uri": "https://localhost:8080/"
        },
        "id": "PQAp9H046gt7",
        "outputId": "e07b374b-43dc-4eca-fdca-682a38597b6a"
      },
      "execution_count": null,
      "outputs": [
        {
          "output_type": "stream",
          "name": "stdout",
          "text": [
            "number of unique values:  6\n"
          ]
        },
        {
          "output_type": "execute_result",
          "data": {
            "text/plain": [
              "Husband           6483\n",
              "Not-in-family     3975\n",
              "Own-child         2291\n",
              "Unmarried         1647\n",
              "Wife               771\n",
              "Other-relative     469\n",
              "Name: relationship, dtype: int64"
            ]
          },
          "metadata": {},
          "execution_count": 34
        }
      ]
    },
    {
      "cell_type": "code",
      "source": [
        "print(\"number of unique values: \", test['relationship'].nunique())\n",
        "test['relationship'].value_counts()"
      ],
      "metadata": {
        "colab": {
          "base_uri": "https://localhost:8080/"
        },
        "id": "DRlsAWeS61aN",
        "outputId": "d7359126-811b-442e-ff89-1b5083c6c24b"
      },
      "execution_count": null,
      "outputs": [
        {
          "output_type": "stream",
          "name": "stdout",
          "text": [
            "number of unique values:  6\n"
          ]
        },
        {
          "output_type": "execute_result",
          "data": {
            "text/plain": [
              "Husband           6221\n",
              "Not-in-family     3890\n",
              "Own-child         2234\n",
              "Unmarried         1624\n",
              "Wife               664\n",
              "Other-relative     448\n",
              "Name: relationship, dtype: int64"
            ]
          },
          "metadata": {},
          "execution_count": 35
        }
      ]
    },
    {
      "cell_type": "code",
      "source": [
        "# train에서 target이 1인 비율이 높은 순으로 label을 정하기로 한다\n",
        "relationship = test['relationship'].unique()\n",
        "\n",
        "for relation in relationship:\n",
        "  data = train[train['relationship'] == relation]\n",
        "  proportion = round(np.sum(data['target']) / len(data),4)\n",
        "  print(f\"{relation}: {proportion}\")"
      ],
      "metadata": {
        "colab": {
          "base_uri": "https://localhost:8080/"
        },
        "id": "YGy1crMJ65cT",
        "outputId": "0d3ae7e6-4462-462c-deca-5a3d57ba765d"
      },
      "execution_count": null,
      "outputs": [
        {
          "output_type": "stream",
          "name": "stdout",
          "text": [
            "Husband: 0.454\n",
            "Not-in-family: 0.1117\n",
            "Unmarried: 0.0638\n",
            "Own-child: 0.0162\n",
            "Other-relative: 0.0426\n",
            "Wife: 0.4747\n"
          ]
        }
      ]
    },
    {
      "cell_type": "code",
      "source": [
        "map_class6 = {'Own-child':0, 'Other-relative':1, 'Unmarried':2, 'Not-in-family':3, 'Husband':4, 'Wife': 5}\n",
        "train[['relationship']] = train[['relationship']].applymap(map_class6.get)\n",
        "test[['relationship']] = test[['relationship']].applymap(map_class6.get)"
      ],
      "metadata": {
        "id": "sjyjB0U67TX-"
      },
      "execution_count": null,
      "outputs": []
    },
    {
      "cell_type": "markdown",
      "source": [
        "#### race"
      ],
      "metadata": {
        "id": "Kb0jtvmK778g"
      }
    },
    {
      "cell_type": "code",
      "source": [
        "print(\"number of unique values: \", train['race'].nunique())\n",
        "train['race'].value_counts()"
      ],
      "metadata": {
        "colab": {
          "base_uri": "https://localhost:8080/"
        },
        "id": "a680JbX779Rh",
        "outputId": "6bf582bd-9237-409c-8411-855620aa64f9"
      },
      "execution_count": null,
      "outputs": [
        {
          "output_type": "stream",
          "name": "stdout",
          "text": [
            "number of unique values:  5\n"
          ]
        },
        {
          "output_type": "execute_result",
          "data": {
            "text/plain": [
              "White                 13348\n",
              "Black                  1487\n",
              "Asian-Pac-Islander      521\n",
              "Amer-Indian-Eskimo      140\n",
              "Other                   140\n",
              "Name: race, dtype: int64"
            ]
          },
          "metadata": {},
          "execution_count": 38
        }
      ]
    },
    {
      "cell_type": "code",
      "source": [
        "print(\"number of unique values: \", test['race'].nunique())\n",
        "test['race'].value_counts()"
      ],
      "metadata": {
        "colab": {
          "base_uri": "https://localhost:8080/"
        },
        "id": "yngKMuDB8BEi",
        "outputId": "eed5be22-ed9e-4157-f851-ce3ed8b59df9"
      },
      "execution_count": null,
      "outputs": [
        {
          "output_type": "stream",
          "name": "stdout",
          "text": [
            "number of unique values:  5\n"
          ]
        },
        {
          "output_type": "execute_result",
          "data": {
            "text/plain": [
              "White                 12952\n",
              "Black                  1422\n",
              "Asian-Pac-Islander      453\n",
              "Amer-Indian-Eskimo      146\n",
              "Other                   108\n",
              "Name: race, dtype: int64"
            ]
          },
          "metadata": {},
          "execution_count": 39
        }
      ]
    },
    {
      "cell_type": "code",
      "source": [
        "# train에서 target이 1인 비율이 높은 순으로 label을 정하기로 한다\n",
        "races = test['race'].unique()\n",
        "\n",
        "for race in races:\n",
        "  data = train[train['race'] == race]\n",
        "  proportion = round(np.sum(data['target']) / len(data),4)\n",
        "  print(f\"{race}: {proportion}\")"
      ],
      "metadata": {
        "colab": {
          "base_uri": "https://localhost:8080/"
        },
        "id": "8mgB-sO28GLX",
        "outputId": "934246e6-a5d2-462b-8e35-0500b8849a36"
      },
      "execution_count": null,
      "outputs": [
        {
          "output_type": "stream",
          "name": "stdout",
          "text": [
            "White: 0.2671\n",
            "Asian-Pac-Islander: 0.2514\n",
            "Black: 0.1237\n",
            "Amer-Indian-Eskimo: 0.1571\n",
            "Other: 0.0929\n"
          ]
        }
      ]
    },
    {
      "cell_type": "code",
      "source": [
        "map_class7 = {'Other':0, 'Black':1, 'Amer-Indian-Eskimo':2, 'Asian-Pac-Islander':3, 'White':4}\n",
        "train[['race']] = train[['race']].applymap(map_class7.get)\n",
        "test[['race']] = test[['race']].applymap(map_class7.get)"
      ],
      "metadata": {
        "id": "P7xfLBmG8ao-"
      },
      "execution_count": null,
      "outputs": []
    },
    {
      "cell_type": "markdown",
      "source": [
        "#### sex"
      ],
      "metadata": {
        "id": "D16_wTjU86E-"
      }
    },
    {
      "cell_type": "code",
      "source": [
        "print(\"number of unique values: \", train['sex'].nunique())\n",
        "train['sex'].value_counts()"
      ],
      "metadata": {
        "colab": {
          "base_uri": "https://localhost:8080/"
        },
        "id": "uYSeTGfU806D",
        "outputId": "242bd9e9-b3fa-462c-9367-c9044a46c262"
      },
      "execution_count": null,
      "outputs": [
        {
          "output_type": "stream",
          "name": "stdout",
          "text": [
            "number of unique values:  2\n"
          ]
        },
        {
          "output_type": "execute_result",
          "data": {
            "text/plain": [
              "Male      10588\n",
              "Female     5048\n",
              "Name: sex, dtype: int64"
            ]
          },
          "metadata": {},
          "execution_count": 42
        }
      ]
    },
    {
      "cell_type": "code",
      "source": [
        "print(\"number of unique values: \", test['sex'].nunique())\n",
        "test['sex'].value_counts()"
      ],
      "metadata": {
        "colab": {
          "base_uri": "https://localhost:8080/"
        },
        "id": "RZaAGm6y8_NI",
        "outputId": "178796a2-817c-4aca-80a9-f39e18cff98d"
      },
      "execution_count": null,
      "outputs": [
        {
          "output_type": "stream",
          "name": "stdout",
          "text": [
            "number of unique values:  2\n"
          ]
        },
        {
          "output_type": "execute_result",
          "data": {
            "text/plain": [
              "Male      10200\n",
              "Female     4881\n",
              "Name: sex, dtype: int64"
            ]
          },
          "metadata": {},
          "execution_count": 43
        }
      ]
    },
    {
      "cell_type": "code",
      "source": [
        "map_class8 = {'Female':0, 'Male':1}\n",
        "train[['sex']] = train[['sex']].applymap(map_class8.get)\n",
        "test[['sex']] = test[['sex']].applymap(map_class8.get)"
      ],
      "metadata": {
        "id": "pJeha3Bc9CEe"
      },
      "execution_count": null,
      "outputs": []
    },
    {
      "cell_type": "markdown",
      "source": [
        "#### 확인"
      ],
      "metadata": {
        "id": "IT3QYv6Y9fOt"
      }
    },
    {
      "cell_type": "code",
      "source": [
        "display(train.head())\n",
        "display(test.head())"
      ],
      "metadata": {
        "colab": {
          "base_uri": "https://localhost:8080/",
          "height": 427
        },
        "id": "uMz-Dw4J9j1a",
        "outputId": "dd74dda8-0961-4875-8502-9f96b4789ce8"
      },
      "execution_count": null,
      "outputs": [
        {
          "output_type": "display_data",
          "data": {
            "text/plain": [
              "   age  workclass  fnlwgt  education  education.num  marital.status  \\\n",
              "0   32          1  309513         10             12               6   \n",
              "1   33          1  205469         12             10               6   \n",
              "2   46          1  149949         12             10               6   \n",
              "3   23          1  193090         13             13               0   \n",
              "4   55          1   60193          8              9               4   \n",
              "\n",
              "   occupation  relationship  race  sex  capital.gain  capital.loss  \\\n",
              "0           8             4     4    1             0             0   \n",
              "1          13             4     4    1             0             0   \n",
              "2           8             4     4    1             0             0   \n",
              "3           6             0     4    0             0             0   \n",
              "4           6             3     4    0             0             0   \n",
              "\n",
              "   hours.per.week  native.country  target  \n",
              "0              40              15       0  \n",
              "1              40              15       1  \n",
              "2              40              15       0  \n",
              "3              30              15       0  \n",
              "4              40              15       0  "
            ],
            "text/html": [
              "\n",
              "  <div id=\"df-8f1bc2f3-0825-4f8c-a91d-ef7243f868ed\">\n",
              "    <div class=\"colab-df-container\">\n",
              "      <div>\n",
              "<style scoped>\n",
              "    .dataframe tbody tr th:only-of-type {\n",
              "        vertical-align: middle;\n",
              "    }\n",
              "\n",
              "    .dataframe tbody tr th {\n",
              "        vertical-align: top;\n",
              "    }\n",
              "\n",
              "    .dataframe thead th {\n",
              "        text-align: right;\n",
              "    }\n",
              "</style>\n",
              "<table border=\"1\" class=\"dataframe\">\n",
              "  <thead>\n",
              "    <tr style=\"text-align: right;\">\n",
              "      <th></th>\n",
              "      <th>age</th>\n",
              "      <th>workclass</th>\n",
              "      <th>fnlwgt</th>\n",
              "      <th>education</th>\n",
              "      <th>education.num</th>\n",
              "      <th>marital.status</th>\n",
              "      <th>occupation</th>\n",
              "      <th>relationship</th>\n",
              "      <th>race</th>\n",
              "      <th>sex</th>\n",
              "      <th>capital.gain</th>\n",
              "      <th>capital.loss</th>\n",
              "      <th>hours.per.week</th>\n",
              "      <th>native.country</th>\n",
              "      <th>target</th>\n",
              "    </tr>\n",
              "  </thead>\n",
              "  <tbody>\n",
              "    <tr>\n",
              "      <th>0</th>\n",
              "      <td>32</td>\n",
              "      <td>1</td>\n",
              "      <td>309513</td>\n",
              "      <td>10</td>\n",
              "      <td>12</td>\n",
              "      <td>6</td>\n",
              "      <td>8</td>\n",
              "      <td>4</td>\n",
              "      <td>4</td>\n",
              "      <td>1</td>\n",
              "      <td>0</td>\n",
              "      <td>0</td>\n",
              "      <td>40</td>\n",
              "      <td>15</td>\n",
              "      <td>0</td>\n",
              "    </tr>\n",
              "    <tr>\n",
              "      <th>1</th>\n",
              "      <td>33</td>\n",
              "      <td>1</td>\n",
              "      <td>205469</td>\n",
              "      <td>12</td>\n",
              "      <td>10</td>\n",
              "      <td>6</td>\n",
              "      <td>13</td>\n",
              "      <td>4</td>\n",
              "      <td>4</td>\n",
              "      <td>1</td>\n",
              "      <td>0</td>\n",
              "      <td>0</td>\n",
              "      <td>40</td>\n",
              "      <td>15</td>\n",
              "      <td>1</td>\n",
              "    </tr>\n",
              "    <tr>\n",
              "      <th>2</th>\n",
              "      <td>46</td>\n",
              "      <td>1</td>\n",
              "      <td>149949</td>\n",
              "      <td>12</td>\n",
              "      <td>10</td>\n",
              "      <td>6</td>\n",
              "      <td>8</td>\n",
              "      <td>4</td>\n",
              "      <td>4</td>\n",
              "      <td>1</td>\n",
              "      <td>0</td>\n",
              "      <td>0</td>\n",
              "      <td>40</td>\n",
              "      <td>15</td>\n",
              "      <td>0</td>\n",
              "    </tr>\n",
              "    <tr>\n",
              "      <th>3</th>\n",
              "      <td>23</td>\n",
              "      <td>1</td>\n",
              "      <td>193090</td>\n",
              "      <td>13</td>\n",
              "      <td>13</td>\n",
              "      <td>0</td>\n",
              "      <td>6</td>\n",
              "      <td>0</td>\n",
              "      <td>4</td>\n",
              "      <td>0</td>\n",
              "      <td>0</td>\n",
              "      <td>0</td>\n",
              "      <td>30</td>\n",
              "      <td>15</td>\n",
              "      <td>0</td>\n",
              "    </tr>\n",
              "    <tr>\n",
              "      <th>4</th>\n",
              "      <td>55</td>\n",
              "      <td>1</td>\n",
              "      <td>60193</td>\n",
              "      <td>8</td>\n",
              "      <td>9</td>\n",
              "      <td>4</td>\n",
              "      <td>6</td>\n",
              "      <td>3</td>\n",
              "      <td>4</td>\n",
              "      <td>0</td>\n",
              "      <td>0</td>\n",
              "      <td>0</td>\n",
              "      <td>40</td>\n",
              "      <td>15</td>\n",
              "      <td>0</td>\n",
              "    </tr>\n",
              "  </tbody>\n",
              "</table>\n",
              "</div>\n",
              "      <button class=\"colab-df-convert\" onclick=\"convertToInteractive('df-8f1bc2f3-0825-4f8c-a91d-ef7243f868ed')\"\n",
              "              title=\"Convert this dataframe to an interactive table.\"\n",
              "              style=\"display:none;\">\n",
              "        \n",
              "  <svg xmlns=\"http://www.w3.org/2000/svg\" height=\"24px\"viewBox=\"0 0 24 24\"\n",
              "       width=\"24px\">\n",
              "    <path d=\"M0 0h24v24H0V0z\" fill=\"none\"/>\n",
              "    <path d=\"M18.56 5.44l.94 2.06.94-2.06 2.06-.94-2.06-.94-.94-2.06-.94 2.06-2.06.94zm-11 1L8.5 8.5l.94-2.06 2.06-.94-2.06-.94L8.5 2.5l-.94 2.06-2.06.94zm10 10l.94 2.06.94-2.06 2.06-.94-2.06-.94-.94-2.06-.94 2.06-2.06.94z\"/><path d=\"M17.41 7.96l-1.37-1.37c-.4-.4-.92-.59-1.43-.59-.52 0-1.04.2-1.43.59L10.3 9.45l-7.72 7.72c-.78.78-.78 2.05 0 2.83L4 21.41c.39.39.9.59 1.41.59.51 0 1.02-.2 1.41-.59l7.78-7.78 2.81-2.81c.8-.78.8-2.07 0-2.86zM5.41 20L4 18.59l7.72-7.72 1.47 1.35L5.41 20z\"/>\n",
              "  </svg>\n",
              "      </button>\n",
              "      \n",
              "  <style>\n",
              "    .colab-df-container {\n",
              "      display:flex;\n",
              "      flex-wrap:wrap;\n",
              "      gap: 12px;\n",
              "    }\n",
              "\n",
              "    .colab-df-convert {\n",
              "      background-color: #E8F0FE;\n",
              "      border: none;\n",
              "      border-radius: 50%;\n",
              "      cursor: pointer;\n",
              "      display: none;\n",
              "      fill: #1967D2;\n",
              "      height: 32px;\n",
              "      padding: 0 0 0 0;\n",
              "      width: 32px;\n",
              "    }\n",
              "\n",
              "    .colab-df-convert:hover {\n",
              "      background-color: #E2EBFA;\n",
              "      box-shadow: 0px 1px 2px rgba(60, 64, 67, 0.3), 0px 1px 3px 1px rgba(60, 64, 67, 0.15);\n",
              "      fill: #174EA6;\n",
              "    }\n",
              "\n",
              "    [theme=dark] .colab-df-convert {\n",
              "      background-color: #3B4455;\n",
              "      fill: #D2E3FC;\n",
              "    }\n",
              "\n",
              "    [theme=dark] .colab-df-convert:hover {\n",
              "      background-color: #434B5C;\n",
              "      box-shadow: 0px 1px 3px 1px rgba(0, 0, 0, 0.15);\n",
              "      filter: drop-shadow(0px 1px 2px rgba(0, 0, 0, 0.3));\n",
              "      fill: #FFFFFF;\n",
              "    }\n",
              "  </style>\n",
              "\n",
              "      <script>\n",
              "        const buttonEl =\n",
              "          document.querySelector('#df-8f1bc2f3-0825-4f8c-a91d-ef7243f868ed button.colab-df-convert');\n",
              "        buttonEl.style.display =\n",
              "          google.colab.kernel.accessAllowed ? 'block' : 'none';\n",
              "\n",
              "        async function convertToInteractive(key) {\n",
              "          const element = document.querySelector('#df-8f1bc2f3-0825-4f8c-a91d-ef7243f868ed');\n",
              "          const dataTable =\n",
              "            await google.colab.kernel.invokeFunction('convertToInteractive',\n",
              "                                                     [key], {});\n",
              "          if (!dataTable) return;\n",
              "\n",
              "          const docLinkHtml = 'Like what you see? Visit the ' +\n",
              "            '<a target=\"_blank\" href=https://colab.research.google.com/notebooks/data_table.ipynb>data table notebook</a>'\n",
              "            + ' to learn more about interactive tables.';\n",
              "          element.innerHTML = '';\n",
              "          dataTable['output_type'] = 'display_data';\n",
              "          await google.colab.output.renderOutput(dataTable, element);\n",
              "          const docLink = document.createElement('div');\n",
              "          docLink.innerHTML = docLinkHtml;\n",
              "          element.appendChild(docLink);\n",
              "        }\n",
              "      </script>\n",
              "    </div>\n",
              "  </div>\n",
              "  "
            ]
          },
          "metadata": {}
        },
        {
          "output_type": "display_data",
          "data": {
            "text/plain": [
              "    age  workclass  fnlwgt  education  education.num  marital.status  \\\n",
              "id                                                                     \n",
              "0    47          1  304133         12             10               6   \n",
              "1    34          6  154227         12             10               0   \n",
              "2    31          4  158291         13             13               0   \n",
              "3    28          1  183155         13             13               6   \n",
              "4    54          4  182543         12             10               3   \n",
              "\n",
              "    occupation  relationship  race  sex  capital.gain  capital.loss  \\\n",
              "id                                                                    \n",
              "0           13             4     4    1             0             0   \n",
              "1            9             3     4    1             0             0   \n",
              "2            8             3     4    1          8614             0   \n",
              "3           12             4     4    1             0             0   \n",
              "4            6             2     4    0             0             0   \n",
              "\n",
              "    hours.per.week  native.country  \n",
              "id                                  \n",
              "0               45              15  \n",
              "1               75              15  \n",
              "2               40              15  \n",
              "3               55              15  \n",
              "4               40              29  "
            ],
            "text/html": [
              "\n",
              "  <div id=\"df-21bb6366-6d36-4da8-9f7a-b98780366566\">\n",
              "    <div class=\"colab-df-container\">\n",
              "      <div>\n",
              "<style scoped>\n",
              "    .dataframe tbody tr th:only-of-type {\n",
              "        vertical-align: middle;\n",
              "    }\n",
              "\n",
              "    .dataframe tbody tr th {\n",
              "        vertical-align: top;\n",
              "    }\n",
              "\n",
              "    .dataframe thead th {\n",
              "        text-align: right;\n",
              "    }\n",
              "</style>\n",
              "<table border=\"1\" class=\"dataframe\">\n",
              "  <thead>\n",
              "    <tr style=\"text-align: right;\">\n",
              "      <th></th>\n",
              "      <th>age</th>\n",
              "      <th>workclass</th>\n",
              "      <th>fnlwgt</th>\n",
              "      <th>education</th>\n",
              "      <th>education.num</th>\n",
              "      <th>marital.status</th>\n",
              "      <th>occupation</th>\n",
              "      <th>relationship</th>\n",
              "      <th>race</th>\n",
              "      <th>sex</th>\n",
              "      <th>capital.gain</th>\n",
              "      <th>capital.loss</th>\n",
              "      <th>hours.per.week</th>\n",
              "      <th>native.country</th>\n",
              "    </tr>\n",
              "    <tr>\n",
              "      <th>id</th>\n",
              "      <th></th>\n",
              "      <th></th>\n",
              "      <th></th>\n",
              "      <th></th>\n",
              "      <th></th>\n",
              "      <th></th>\n",
              "      <th></th>\n",
              "      <th></th>\n",
              "      <th></th>\n",
              "      <th></th>\n",
              "      <th></th>\n",
              "      <th></th>\n",
              "      <th></th>\n",
              "      <th></th>\n",
              "    </tr>\n",
              "  </thead>\n",
              "  <tbody>\n",
              "    <tr>\n",
              "      <th>0</th>\n",
              "      <td>47</td>\n",
              "      <td>1</td>\n",
              "      <td>304133</td>\n",
              "      <td>12</td>\n",
              "      <td>10</td>\n",
              "      <td>6</td>\n",
              "      <td>13</td>\n",
              "      <td>4</td>\n",
              "      <td>4</td>\n",
              "      <td>1</td>\n",
              "      <td>0</td>\n",
              "      <td>0</td>\n",
              "      <td>45</td>\n",
              "      <td>15</td>\n",
              "    </tr>\n",
              "    <tr>\n",
              "      <th>1</th>\n",
              "      <td>34</td>\n",
              "      <td>6</td>\n",
              "      <td>154227</td>\n",
              "      <td>12</td>\n",
              "      <td>10</td>\n",
              "      <td>0</td>\n",
              "      <td>9</td>\n",
              "      <td>3</td>\n",
              "      <td>4</td>\n",
              "      <td>1</td>\n",
              "      <td>0</td>\n",
              "      <td>0</td>\n",
              "      <td>75</td>\n",
              "      <td>15</td>\n",
              "    </tr>\n",
              "    <tr>\n",
              "      <th>2</th>\n",
              "      <td>31</td>\n",
              "      <td>4</td>\n",
              "      <td>158291</td>\n",
              "      <td>13</td>\n",
              "      <td>13</td>\n",
              "      <td>0</td>\n",
              "      <td>8</td>\n",
              "      <td>3</td>\n",
              "      <td>4</td>\n",
              "      <td>1</td>\n",
              "      <td>8614</td>\n",
              "      <td>0</td>\n",
              "      <td>40</td>\n",
              "      <td>15</td>\n",
              "    </tr>\n",
              "    <tr>\n",
              "      <th>3</th>\n",
              "      <td>28</td>\n",
              "      <td>1</td>\n",
              "      <td>183155</td>\n",
              "      <td>13</td>\n",
              "      <td>13</td>\n",
              "      <td>6</td>\n",
              "      <td>12</td>\n",
              "      <td>4</td>\n",
              "      <td>4</td>\n",
              "      <td>1</td>\n",
              "      <td>0</td>\n",
              "      <td>0</td>\n",
              "      <td>55</td>\n",
              "      <td>15</td>\n",
              "    </tr>\n",
              "    <tr>\n",
              "      <th>4</th>\n",
              "      <td>54</td>\n",
              "      <td>4</td>\n",
              "      <td>182543</td>\n",
              "      <td>12</td>\n",
              "      <td>10</td>\n",
              "      <td>3</td>\n",
              "      <td>6</td>\n",
              "      <td>2</td>\n",
              "      <td>4</td>\n",
              "      <td>0</td>\n",
              "      <td>0</td>\n",
              "      <td>0</td>\n",
              "      <td>40</td>\n",
              "      <td>29</td>\n",
              "    </tr>\n",
              "  </tbody>\n",
              "</table>\n",
              "</div>\n",
              "      <button class=\"colab-df-convert\" onclick=\"convertToInteractive('df-21bb6366-6d36-4da8-9f7a-b98780366566')\"\n",
              "              title=\"Convert this dataframe to an interactive table.\"\n",
              "              style=\"display:none;\">\n",
              "        \n",
              "  <svg xmlns=\"http://www.w3.org/2000/svg\" height=\"24px\"viewBox=\"0 0 24 24\"\n",
              "       width=\"24px\">\n",
              "    <path d=\"M0 0h24v24H0V0z\" fill=\"none\"/>\n",
              "    <path d=\"M18.56 5.44l.94 2.06.94-2.06 2.06-.94-2.06-.94-.94-2.06-.94 2.06-2.06.94zm-11 1L8.5 8.5l.94-2.06 2.06-.94-2.06-.94L8.5 2.5l-.94 2.06-2.06.94zm10 10l.94 2.06.94-2.06 2.06-.94-2.06-.94-.94-2.06-.94 2.06-2.06.94z\"/><path d=\"M17.41 7.96l-1.37-1.37c-.4-.4-.92-.59-1.43-.59-.52 0-1.04.2-1.43.59L10.3 9.45l-7.72 7.72c-.78.78-.78 2.05 0 2.83L4 21.41c.39.39.9.59 1.41.59.51 0 1.02-.2 1.41-.59l7.78-7.78 2.81-2.81c.8-.78.8-2.07 0-2.86zM5.41 20L4 18.59l7.72-7.72 1.47 1.35L5.41 20z\"/>\n",
              "  </svg>\n",
              "      </button>\n",
              "      \n",
              "  <style>\n",
              "    .colab-df-container {\n",
              "      display:flex;\n",
              "      flex-wrap:wrap;\n",
              "      gap: 12px;\n",
              "    }\n",
              "\n",
              "    .colab-df-convert {\n",
              "      background-color: #E8F0FE;\n",
              "      border: none;\n",
              "      border-radius: 50%;\n",
              "      cursor: pointer;\n",
              "      display: none;\n",
              "      fill: #1967D2;\n",
              "      height: 32px;\n",
              "      padding: 0 0 0 0;\n",
              "      width: 32px;\n",
              "    }\n",
              "\n",
              "    .colab-df-convert:hover {\n",
              "      background-color: #E2EBFA;\n",
              "      box-shadow: 0px 1px 2px rgba(60, 64, 67, 0.3), 0px 1px 3px 1px rgba(60, 64, 67, 0.15);\n",
              "      fill: #174EA6;\n",
              "    }\n",
              "\n",
              "    [theme=dark] .colab-df-convert {\n",
              "      background-color: #3B4455;\n",
              "      fill: #D2E3FC;\n",
              "    }\n",
              "\n",
              "    [theme=dark] .colab-df-convert:hover {\n",
              "      background-color: #434B5C;\n",
              "      box-shadow: 0px 1px 3px 1px rgba(0, 0, 0, 0.15);\n",
              "      filter: drop-shadow(0px 1px 2px rgba(0, 0, 0, 0.3));\n",
              "      fill: #FFFFFF;\n",
              "    }\n",
              "  </style>\n",
              "\n",
              "      <script>\n",
              "        const buttonEl =\n",
              "          document.querySelector('#df-21bb6366-6d36-4da8-9f7a-b98780366566 button.colab-df-convert');\n",
              "        buttonEl.style.display =\n",
              "          google.colab.kernel.accessAllowed ? 'block' : 'none';\n",
              "\n",
              "        async function convertToInteractive(key) {\n",
              "          const element = document.querySelector('#df-21bb6366-6d36-4da8-9f7a-b98780366566');\n",
              "          const dataTable =\n",
              "            await google.colab.kernel.invokeFunction('convertToInteractive',\n",
              "                                                     [key], {});\n",
              "          if (!dataTable) return;\n",
              "\n",
              "          const docLinkHtml = 'Like what you see? Visit the ' +\n",
              "            '<a target=\"_blank\" href=https://colab.research.google.com/notebooks/data_table.ipynb>data table notebook</a>'\n",
              "            + ' to learn more about interactive tables.';\n",
              "          element.innerHTML = '';\n",
              "          dataTable['output_type'] = 'display_data';\n",
              "          await google.colab.output.renderOutput(dataTable, element);\n",
              "          const docLink = document.createElement('div');\n",
              "          docLink.innerHTML = docLinkHtml;\n",
              "          element.appendChild(docLink);\n",
              "        }\n",
              "      </script>\n",
              "    </div>\n",
              "  </div>\n",
              "  "
            ]
          },
          "metadata": {}
        }
      ]
    },
    {
      "cell_type": "code",
      "source": [
        "train.isnull().sum()"
      ],
      "metadata": {
        "colab": {
          "base_uri": "https://localhost:8080/"
        },
        "id": "KrCYGrT_9pfI",
        "outputId": "f2315981-7311-4d93-d56d-366a6042d4c8"
      },
      "execution_count": null,
      "outputs": [
        {
          "output_type": "execute_result",
          "data": {
            "text/plain": [
              "age               0\n",
              "workclass         0\n",
              "fnlwgt            0\n",
              "education         0\n",
              "education.num     0\n",
              "marital.status    0\n",
              "occupation        0\n",
              "relationship      0\n",
              "race              0\n",
              "sex               0\n",
              "capital.gain      0\n",
              "capital.loss      0\n",
              "hours.per.week    0\n",
              "native.country    0\n",
              "target            0\n",
              "dtype: int64"
            ]
          },
          "metadata": {},
          "execution_count": 46
        }
      ]
    },
    {
      "cell_type": "code",
      "source": [
        "test.isnull().sum()"
      ],
      "metadata": {
        "colab": {
          "base_uri": "https://localhost:8080/"
        },
        "id": "-9rdbWSw9rlw",
        "outputId": "0900ab42-cb48-4a1c-a85b-17b6b50e706b"
      },
      "execution_count": null,
      "outputs": [
        {
          "output_type": "execute_result",
          "data": {
            "text/plain": [
              "age               0\n",
              "workclass         0\n",
              "fnlwgt            0\n",
              "education         0\n",
              "education.num     0\n",
              "marital.status    0\n",
              "occupation        0\n",
              "relationship      0\n",
              "race              0\n",
              "sex               0\n",
              "capital.gain      0\n",
              "capital.loss      0\n",
              "hours.per.week    0\n",
              "native.country    0\n",
              "dtype: int64"
            ]
          },
          "metadata": {},
          "execution_count": 47
        }
      ]
    },
    {
      "cell_type": "markdown",
      "source": [
        "### 스케일링 및 데이터의 분포 확인"
      ],
      "metadata": {
        "id": "RnK4bkuh-NgY"
      }
    },
    {
      "cell_type": "markdown",
      "source": [
        "#### 데이터의 분포 확인"
      ],
      "metadata": {
        "id": "3PIX7Aiy_dxu"
      }
    },
    {
      "cell_type": "code",
      "source": [
        "# percent = sum은 막대들의 높이의 합이 100이 되도록 하는 것\n",
        "# 범주형 데이터들은 비슷한 분포를 가진다는 것을 확인할 수 있다.\n",
        "# age, fnlwgt, capital.gain, capital.loss 모두 양의 왜도를 지닌다. 그리고 capital과 관련된 변수 2개는 대부분의 값이 거의 0임을 알 수 있다.\n",
        "# 한편, train, test의 분포는 상당히 유사하다고 할 수 있다.\n",
        "fig, axes = plt.subplots(nrows = 4, ncols = 4, figsize = (15, 15))\n",
        "\n",
        "column_list = test.columns\n",
        "\n",
        "for index, column in enumerate(column_list):\n",
        "    \n",
        "    row = index // 4\n",
        "    col = index % 4\n",
        "    \n",
        "    # Train data visualization\n",
        "    sns.histplot(x = column, data = train, stat = \"percent\", color = \"blue\", alpha = 0.3, label = \"Train\", ax = axes[row][col])\n",
        "    \n",
        "    # Test data visualization\n",
        "    sns.histplot(x = column, data = test, stat = \"percent\", color = \"yellow\", alpha = 0.3, label = \"Test\", ax = axes[row][col])\n",
        "    \n",
        "    axes[row][col].set_title(\"Histplot of {}\".format(column))\n",
        "    axes[row][col].set_xlabel(\"\")\n",
        "    axes[row][col].set_ylabel(\"\")\n",
        "    axes[row][col].legend()\n",
        "    \n",
        "fig.tight_layout(pad = 1.5)"
      ],
      "metadata": {
        "colab": {
          "base_uri": "https://localhost:8080/"
        },
        "id": "0T9BtYhX_W67",
        "outputId": "a9c46898-f721-4602-d676-f0b890bf6ce4"
      },
      "execution_count": null,
      "outputs": [
        {
          "output_type": "display_data",
          "data": {
            "text/plain": [
              "<Figure size 1080x1080 with 16 Axes>"
            ],
            "image/png": "[encoded data removed]"
          },
          "metadata": {
            "needs_background": "light"
          }
        }
      ]
    },
    {
      "cell_type": "markdown",
      "source": [
        "#### 로그변환"
      ],
      "metadata": {
        "id": "b8e-WO_qB8U7"
      }
    },
    {
      "cell_type": "code",
      "source": [
        "# 왜도와 첨도를 관측하고, 왜도와 첨도가 큰 데이터에 로그를 취한다.\n",
        "numeric_columns = ['age', 'fnlwgt', 'education.num', 'capital.gain', 'capital.loss', 'hours.per.week']\n",
        "for column in numeric_columns:\n",
        "  print(\"{:15}\".format(column),\n",
        "        'Skewness:{}'.format(train[column].skew()),\n",
        "        'Kurtosis:{}'.format(train[column].kurt()))"
      ],
      "metadata": {
        "colab": {
          "base_uri": "https://localhost:8080/"
        },
        "id": "ydvsn3fkB-vi",
        "outputId": "5d24deb9-0dad-4f2b-e22b-5615aef3e154"
      },
      "execution_count": null,
      "outputs": [
        {
          "output_type": "stream",
          "name": "stdout",
          "text": [
            "age             Skewness:0.5347514796971361 Kurtosis:-0.1394013821130593\n",
            "fnlwgt          Skewness:1.4170239926716877 Kurtosis:6.231188254166485\n",
            "education.num   Skewness:-0.34014523794894624 Kurtosis:0.6163769181677043\n",
            "capital.gain    Skewness:11.585169593969049 Kurtosis:144.5462131916584\n",
            "capital.loss    Skewness:4.583033052806039 Kurtosis:20.085963911239503\n",
            "hours.per.week  Skewness:0.3535615391484752 Kurtosis:3.2267895362092025\n"
          ]
        }
      ]
    },
    {
      "cell_type": "code",
      "source": [
        "# fnlwgt, capital.gain, capital.loss에 대해서 log변환을 사용해 주기로 함.\n",
        "train[\"fnlwgt\"] = train[\"fnlwgt\"].apply(lambda x: np.log1p(x))\n",
        "train[\"capital.gain\"] = train[\"capital.gain\"].apply(lambda x: np.log1p(x))\n",
        "train[\"capital.loss\"] = train[\"capital.loss\"].apply(lambda x: np.log1p(x))"
      ],
      "metadata": {
        "id": "7OUiHgt1Dlm-"
      },
      "execution_count": null,
      "outputs": []
    },
    {
      "cell_type": "code",
      "source": [
        "# 여전히 정규분포에서는 많이 벗어난 모습을 보이지만 이전에 비해서는 훨씬 낫다\n",
        "numeric_columns = ['age', 'fnlwgt', 'education.num', 'capital.gain', 'capital.loss', 'hours.per.week']\n",
        "for column in numeric_columns:\n",
        "  print(\"{:15}\".format(column),\n",
        "        'Skewness:{}'.format(train[column].skew()),\n",
        "        'Kurtosis:{}'.format(train[column].kurt()))"
      ],
      "metadata": {
        "colab": {
          "base_uri": "https://localhost:8080/"
        },
        "id": "V-PqLa-gEUAC",
        "outputId": "8b44bad5-ab27-4c5f-d56c-5f7d40152964"
      },
      "execution_count": null,
      "outputs": [
        {
          "output_type": "stream",
          "name": "stdout",
          "text": [
            "age             Skewness:0.5347514796971361 Kurtosis:-0.1394013821130593\n",
            "fnlwgt          Skewness:-0.8616098997379611 Kurtosis:0.8897593266708816\n",
            "education.num   Skewness:-0.34014523794894624 Kurtosis:0.6163769181677043\n",
            "capital.gain    Skewness:3.0687133282593284 Kurtosis:7.6234161812546954\n",
            "capital.loss    Skewness:4.332038680942931 Kurtosis:16.78697586510876\n",
            "hours.per.week  Skewness:0.3535615391484752 Kurtosis:3.2267895362092025\n"
          ]
        }
      ]
    },
    {
      "cell_type": "code",
      "source": [
        "# test에 대해서도 log변환을 적용\n",
        "test[\"fnlwgt\"] = test[\"fnlwgt\"].apply(lambda x: np.log1p(x))\n",
        "test[\"capital.gain\"] = test[\"capital.gain\"].apply(lambda x: np.log1p(x))\n",
        "test[\"capital.loss\"] = test[\"capital.loss\"].apply(lambda x: np.log1p(x))"
      ],
      "metadata": {
        "id": "iaZxpQ_WEV7A"
      },
      "execution_count": null,
      "outputs": []
    },
    {
      "cell_type": "markdown",
      "source": [
        "#### 스케일링"
      ],
      "metadata": {
        "id": "f9LKd4SGCwKR"
      }
    },
    {
      "cell_type": "code",
      "source": [
        "from sklearn.preprocessing import MinMaxScaler, StandardScaler\n",
        "scaler = MinMaxScaler()\n",
        "train.iloc[:,:-1] = scaler.fit_transform(train.iloc[:,:-1])\n",
        "test = scaler.transform(test)"
      ],
      "metadata": {
        "id": "IGvwG-Gy-PoE"
      },
      "execution_count": null,
      "outputs": []
    },
    {
      "cell_type": "code",
      "source": [
        "test = pd.DataFrame(test, columns=train.columns[:-1])"
      ],
      "metadata": {
        "id": "GjLu4aJBFCna"
      },
      "execution_count": null,
      "outputs": []
    },
    {
      "cell_type": "markdown",
      "source": [
        "#### 로그변환과 스케일링을 모두 적용 후 분포 확인"
      ],
      "metadata": {
        "id": "yF05gFF2Fm6f"
      }
    },
    {
      "cell_type": "code",
      "source": [
        "fig, axes = plt.subplots(nrows = 4, ncols = 4, figsize = (15, 15))\n",
        "\n",
        "column_list = test.columns\n",
        "\n",
        "for index, column in enumerate(column_list):\n",
        "    \n",
        "    row = index // 4\n",
        "    col = index % 4\n",
        "    \n",
        "    # Train data visualization\n",
        "    sns.histplot(x = column, data = train, stat = \"percent\", color = \"blue\", alpha = 0.3, label = \"Train\", ax = axes[row][col])\n",
        "    \n",
        "    # Test data visualization\n",
        "    sns.histplot(x = column, data = test, stat = \"percent\", color = \"yellow\", alpha = 0.3, label = \"Test\", ax = axes[row][col])\n",
        "    \n",
        "    axes[row][col].set_title(\"Histplot of {}\".format(column))\n",
        "    axes[row][col].set_xlabel(\"\")\n",
        "    axes[row][col].set_ylabel(\"\")\n",
        "    axes[row][col].legend()\n",
        "    \n",
        "fig.tight_layout(pad = 1.5)"
      ],
      "metadata": {
        "colab": {
          "base_uri": "https://localhost:8080/"
        },
        "id": "mfkrZiw4FrxP",
        "outputId": "34c14a48-c636-499a-a193-5e0d2012f256"
      },
      "execution_count": null,
      "outputs": [
        {
          "output_type": "display_data",
          "data": {
            "text/plain": [
              "<Figure size 1080x1080 with 16 Axes>"
            ],
            "image/png": "[encoded data removed]"
          },
          "metadata": {
            "needs_background": "light"
          }
        }
      ]
    },
    {
      "cell_type": "markdown",
      "source": [
        "#### X와 y 나누기"
      ],
      "metadata": {
        "id": "Yl_lS2XXHBY3"
      }
    },
    {
      "cell_type": "code",
      "source": [
        "X_train = train.drop('target', axis=1)\n",
        "y_train = train[['target']]\n",
        "X_test = test"
      ],
      "metadata": {
        "id": "yEntWh_GG_z6"
      },
      "execution_count": null,
      "outputs": []
    },
    {
      "cell_type": "markdown",
      "source": [
        "### 불균형 데이터 처리"
      ],
      "metadata": {
        "id": "CgqORZ_SGJxy"
      }
    },
    {
      "cell_type": "code",
      "source": [
        "# 불균형데이터 처리가 필요해 보인다.\n",
        "display(train.target.value_counts())\n",
        "sns.countplot(x=train.target)\n",
        "plt.show()"
      ],
      "metadata": {
        "colab": {
          "base_uri": "https://localhost:8080/"
        },
        "id": "6tKfy2pJFvmi",
        "outputId": "666cdc7c-bf32-4750-eba2-eec7f65606e4"
      },
      "execution_count": null,
      "outputs": [
        {
          "output_type": "display_data",
          "data": {
            "text/plain": [
              "0    11721\n",
              "1     3915\n",
              "Name: target, dtype: int64"
            ]
          },
          "metadata": {}
        },
        {
          "output_type": "display_data",
          "data": {
            "text/plain": [
              "<Figure size 432x288 with 1 Axes>"
            ],
            "image/png": "[encoded data removed]"
          },
          "metadata": {
            "needs_background": "light"
          }
        }
      ]
    },
    {
      "cell_type": "code",
      "source": [
        "# SMOTE를 사용한 oversampling\n",
        "from imblearn.under_sampling import *\n",
        "from imblearn.over_sampling import *\n",
        "from imblearn.combine import *\n",
        "\n",
        "X_train, y_train = SMOTE(random_state=42).fit_resample(X_train, y_train)"
      ],
      "metadata": {
        "id": "0XpEp4gtGkr_"
      },
      "execution_count": null,
      "outputs": []
    },
    {
      "cell_type": "code",
      "source": [
        "# 확인!\n",
        "y_train.value_counts()"
      ],
      "metadata": {
        "colab": {
          "base_uri": "https://localhost:8080/"
        },
        "id": "oHRT5O7SIJDO",
        "outputId": "44f7c3a3-015b-408b-8bb8-3a30134f908c"
      },
      "execution_count": null,
      "outputs": [
        {
          "output_type": "execute_result",
          "data": {
            "text/plain": [
              "target\n",
              "0         11721\n",
              "1         11721\n",
              "dtype: int64"
            ]
          },
          "metadata": {},
          "execution_count": 59
        }
      ]
    },
    {
      "cell_type": "markdown",
      "source": [
        "## 모델 사용하기"
      ],
      "metadata": {
        "id": "r64AqAt4IsL9"
      }
    },
    {
      "cell_type": "code",
      "source": [
        "np.random.seed(42)"
      ],
      "metadata": {
        "id": "Kmbl4HGkIub2"
      },
      "execution_count": null,
      "outputs": []
    },
    {
      "cell_type": "code",
      "source": [
        "!pip install catboost\n",
        "!pip install Bayesian-Optimization\n",
        "!pip install Optuna"
      ],
      "metadata": {
        "colab": {
          "base_uri": "https://localhost:8080/"
        },
        "id": "v22QLoxFI4S7",
        "outputId": "faeae5b5-6676-4a96-cd3d-b59d3b7261c9"
      },
      "execution_count": null,
      "outputs": [
        {
          "output_type": "stream",
          "name": "stdout",
          "text": [
            "Collecting catboost\n",
            "  Downloading catboost-1.0.5-cp37-none-manylinux1_x86_64.whl (76.6 MB)\n",
            "\u001b[K     |████████████████████████████████| 76.6 MB 1.1 MB/s \n",
            "\u001b[?25hRequirement already satisfied: six in /usr/local/lib/python3.7/dist-packages (from catboost) (1.15.0)\n",
            "Requirement already satisfied: scipy in /usr/local/lib/python3.7/dist-packages (from catboost) (1.4.1)\n",
            "Requirement already satisfied: matplotlib in /usr/local/lib/python3.7/dist-packages (from catboost) (3.2.2)\n",
            "Requirement already satisfied: numpy>=1.16.0 in /usr/local/lib/python3.7/dist-packages (from catboost) (1.21.6)\n",
            "Requirement already satisfied: plotly in /usr/local/lib/python3.7/dist-packages (from catboost) (5.5.0)\n",
            "Requirement already satisfied: graphviz in /usr/local/lib/python3.7/dist-packages (from catboost) (0.10.1)\n",
            "Requirement already satisfied: pandas>=0.24.0 in /usr/local/lib/python3.7/dist-packages (from catboost) (1.3.5)\n",
            "Requirement already satisfied: python-dateutil>=2.7.3 in /usr/local/lib/python3.7/dist-packages (from pandas>=0.24.0->catboost) (2.8.2)\n",
            "Requirement already satisfied: pytz>=2017.3 in /usr/local/lib/python3.7/dist-packages (from pandas>=0.24.0->catboost) (2022.1)\n",
            "Requirement already satisfied: pyparsing!=2.0.4,!=2.1.2,!=2.1.6,>=2.0.1 in /usr/local/lib/python3.7/dist-packages (from matplotlib->catboost) (3.0.8)\n",
            "Requirement already satisfied: cycler>=0.10 in /usr/local/lib/python3.7/dist-packages (from matplotlib->catboost) (0.11.0)\n",
            "Requirement already satisfied: kiwisolver>=1.0.1 in /usr/local/lib/python3.7/dist-packages (from matplotlib->catboost) (1.4.2)\n",
            "Requirement already satisfied: typing-extensions in /usr/local/lib/python3.7/dist-packages (from kiwisolver>=1.0.1->matplotlib->catboost) (4.2.0)\n",
            "Requirement already satisfied: tenacity>=6.2.0 in /usr/local/lib/python3.7/dist-packages (from plotly->catboost) (8.0.1)\n",
            "Installing collected packages: catboost\n",
            "Successfully installed catboost-1.0.5\n",
            "Collecting Bayesian-Optimization\n",
            "  Downloading bayesian-optimization-1.2.0.tar.gz (14 kB)\n",
            "Requirement already satisfied: numpy>=1.9.0 in /usr/local/lib/python3.7/dist-packages (from Bayesian-Optimization) (1.21.6)\n",
            "Requirement already satisfied: scipy>=0.14.0 in /usr/local/lib/python3.7/dist-packages (from Bayesian-Optimization) (1.4.1)\n",
            "Requirement already satisfied: scikit-learn>=0.18.0 in /usr/local/lib/python3.7/dist-packages (from Bayesian-Optimization) (1.0.2)\n",
            "Requirement already satisfied: threadpoolctl>=2.0.0 in /usr/local/lib/python3.7/dist-packages (from scikit-learn>=0.18.0->Bayesian-Optimization) (3.1.0)\n",
            "Requirement already satisfied: joblib>=0.11 in /usr/local/lib/python3.7/dist-packages (from scikit-learn>=0.18.0->Bayesian-Optimization) (1.1.0)\n",
            "Building wheels for collected packages: Bayesian-Optimization\n",
            "  Building wheel for Bayesian-Optimization (setup.py) ... \u001b[?25l\u001b[?25hdone\n",
            "  Created wheel for Bayesian-Optimization: filename=bayesian_optimization-1.2.0-py3-none-any.whl size=11685 sha256=0b6b99e6fcb90f16c6a80b822aaaf538a65ebe8948b94ee75c33e7c7946908b8\n",
            "  Stored in directory: /root/.cache/pip/wheels/fd/9b/71/f127d694e02eb40bcf18c7ae9613b88a6be4470f57a8528c5b\n",
            "Successfully built Bayesian-Optimization\n",
            "Installing collected packages: Bayesian-Optimization\n",
            "Successfully installed Bayesian-Optimization-1.2.0\n",
            "Collecting Optuna\n",
            "  Downloading optuna-2.10.0-py3-none-any.whl (308 kB)\n",
            "\u001b[K     |████████████████████████████████| 308 kB 4.3 MB/s \n",
            "\u001b[?25hRequirement already satisfied: scipy!=1.4.0 in /usr/local/lib/python3.7/dist-packages (from Optuna) (1.4.1)\n",
            "Collecting cliff\n",
            "  Downloading cliff-3.10.1-py3-none-any.whl (81 kB)\n",
            "\u001b[K     |████████████████████████████████| 81 kB 7.1 MB/s \n",
            "\u001b[?25hRequirement already satisfied: numpy in /usr/local/lib/python3.7/dist-packages (from Optuna) (1.21.6)\n",
            "Collecting alembic\n",
            "  Downloading alembic-1.7.7-py3-none-any.whl (210 kB)\n",
            "\u001b[K     |████████████████████████████████| 210 kB 59.9 MB/s \n",
            "\u001b[?25hRequirement already satisfied: packaging>=20.0 in /usr/local/lib/python3.7/dist-packages (from Optuna) (21.3)\n",
            "Requirement already satisfied: tqdm in /usr/local/lib/python3.7/dist-packages (from Optuna) (4.64.0)\n",
            "Requirement already satisfied: sqlalchemy>=1.1.0 in /usr/local/lib/python3.7/dist-packages (from Optuna) (1.4.36)\n",
            "Collecting colorlog\n",
            "  Downloading colorlog-6.6.0-py2.py3-none-any.whl (11 kB)\n",
            "Requirement already satisfied: PyYAML in /usr/local/lib/python3.7/dist-packages (from Optuna) (3.13)\n",
            "Collecting cmaes>=0.8.2\n",
            "  Downloading cmaes-0.8.2-py3-none-any.whl (15 kB)\n",
            "Requirement already satisfied: pyparsing!=3.0.5,>=2.0.2 in /usr/local/lib/python3.7/dist-packages (from packaging>=20.0->Optuna) (3.0.8)\n",
            "Requirement already satisfied: importlib-metadata in /usr/local/lib/python3.7/dist-packages (from sqlalchemy>=1.1.0->Optuna) (4.11.3)\n",
            "Requirement already satisfied: greenlet!=0.4.17 in /usr/local/lib/python3.7/dist-packages (from sqlalchemy>=1.1.0->Optuna) (1.1.2)\n",
            "Requirement already satisfied: importlib-resources in /usr/local/lib/python3.7/dist-packages (from alembic->Optuna) (5.7.1)\n",
            "Collecting Mako\n",
            "  Downloading Mako-1.2.0-py3-none-any.whl (78 kB)\n",
            "\u001b[K     |████████████████████████████████| 78 kB 6.5 MB/s \n",
            "\u001b[?25hCollecting cmd2>=1.0.0\n",
            "  Downloading cmd2-2.4.1-py3-none-any.whl (146 kB)\n",
            "\u001b[K     |████████████████████████████████| 146 kB 67.3 MB/s \n",
            "\u001b[?25hCollecting stevedore>=2.0.1\n",
            "  Downloading stevedore-3.5.0-py3-none-any.whl (49 kB)\n",
            "\u001b[K     |████████████████████████████████| 49 kB 5.3 MB/s \n",
            "\u001b[?25hCollecting autopage>=0.4.0\n",
            "  Downloading autopage-0.5.0-py3-none-any.whl (29 kB)\n",
            "Requirement already satisfied: PrettyTable>=0.7.2 in /usr/local/lib/python3.7/dist-packages (from cliff->Optuna) (3.2.0)\n",
            "Collecting pbr!=2.1.0,>=2.0.0\n",
            "  Downloading pbr-5.8.1-py2.py3-none-any.whl (113 kB)\n",
            "\u001b[K     |████████████████████████████████| 113 kB 66.8 MB/s \n",
            "\u001b[?25hRequirement already satisfied: wcwidth>=0.1.7 in /usr/local/lib/python3.7/dist-packages (from cmd2>=1.0.0->cliff->Optuna) (0.2.5)\n",
            "Collecting pyperclip>=1.6\n",
            "  Downloading pyperclip-1.8.2.tar.gz (20 kB)\n",
            "Requirement already satisfied: typing-extensions in /usr/local/lib/python3.7/dist-packages (from cmd2>=1.0.0->cliff->Optuna) (4.2.0)\n",
            "Requirement already satisfied: attrs>=16.3.0 in /usr/local/lib/python3.7/dist-packages (from cmd2>=1.0.0->cliff->Optuna) (21.4.0)\n",
            "Requirement already satisfied: zipp>=0.5 in /usr/local/lib/python3.7/dist-packages (from importlib-metadata->sqlalchemy>=1.1.0->Optuna) (3.8.0)\n",
            "Requirement already satisfied: MarkupSafe>=0.9.2 in /usr/local/lib/python3.7/dist-packages (from Mako->alembic->Optuna) (2.0.1)\n",
            "Building wheels for collected packages: pyperclip\n",
            "  Building wheel for pyperclip (setup.py) ... \u001b[?25l\u001b[?25hdone\n",
            "  Created wheel for pyperclip: filename=pyperclip-1.8.2-py3-none-any.whl size=11137 sha256=96cec4b2b0e277360a662311c167d4dacab373e04b652712eb391bb3077007be\n",
            "  Stored in directory: /root/.cache/pip/wheels/9f/18/84/8f69f8b08169c7bae2dde6bd7daf0c19fca8c8e500ee620a28\n",
            "Successfully built pyperclip\n",
            "Installing collected packages: pyperclip, pbr, stevedore, Mako, cmd2, autopage, colorlog, cmaes, cliff, alembic, Optuna\n",
            "Successfully installed Mako-1.2.0 Optuna-2.10.0 alembic-1.7.7 autopage-0.5.0 cliff-3.10.1 cmaes-0.8.2 cmd2-2.4.1 colorlog-6.6.0 pbr-5.8.1 pyperclip-1.8.2 stevedore-3.5.0\n"
          ]
        }
      ]
    },
    {
      "cell_type": "markdown",
      "source": [
        "### 다양한 모델 사용해보기"
      ],
      "metadata": {
        "id": "9ePxhlzsKgkf"
      }
    },
    {
      "cell_type": "code",
      "source": [
        "from sklearn.neighbors import KNeighborsClassifier #KNN\n",
        "from sklearn.svm import SVC    #SVC\n",
        "from sklearn.linear_model import LogisticRegression  #LogisticRegression\n",
        "from sklearn.tree import DecisionTreeClassifier  #DecisionTree\n",
        "from sklearn.naive_bayes import GaussianNB   #가우시안\n",
        "from sklearn.naive_bayes import ComplementNB #complement 가우지안\n",
        "from sklearn.ensemble import RandomForestClassifier #RandomForest\n",
        "from sklearn.ensemble import AdaBoostClassifier   #Adaboost   \n",
        "from xgboost import XGBClassifier   #XGBoost\n",
        "from lightgbm import LGBMClassifier  #Light GBM\n",
        "from catboost import CatBoostClassifier #Catboost\n",
        "from sklearn.ensemble import ExtraTreesClassifier #extra\n",
        "\n",
        "from sklearn.ensemble import VotingClassifier #voting \n",
        "from sklearn.ensemble import StackingClassifier\n",
        "\n",
        "from sklearn.model_selection import GridSearchCV, RandomizedSearchCV\n",
        "from sklearn.model_selection import train_test_split, cross_validate\n",
        "from sklearn.model_selection import KFold, StratifiedKFold\n",
        "from bayes_opt import BayesianOptimization\n",
        "import warnings\n",
        "warnings.filterwarnings('ignore')\n",
        "from sklearn.metrics import accuracy_score, precision_score, recall_score, f1_score"
      ],
      "metadata": {
        "id": "_Pi-fqBzI5v_"
      },
      "execution_count": null,
      "outputs": []
    },
    {
      "cell_type": "code",
      "source": [
        "def return_score(model):\n",
        "  average_accuracy = cross_validate(model,X_train,y_train, scoring=\"accuracy\", cv=10)['test_score'].mean()\n",
        "  print(model)\n",
        "  print(\"average_accuracy: \", average_accuracy)"
      ],
      "metadata": {
        "id": "5KrdvDbBJ3Y3"
      },
      "execution_count": null,
      "outputs": []
    },
    {
      "cell_type": "code",
      "source": [
        "knn = KNeighborsClassifier()\n",
        "svm = SVC()\n",
        "lr = LogisticRegression()\n",
        "dt = DecisionTreeClassifier()\n",
        "gnb = GaussianNB()\n",
        "cnb = ComplementNB()\n",
        "rf = RandomForestClassifier()\n",
        "ada = AdaBoostClassifier()\n",
        "xgb = XGBClassifier()\n",
        "lgbm = LGBMClassifier()\n",
        "etc= ExtraTreesClassifier()\n",
        "cat = CatBoostClassifier(silent=True)\n",
        "\n",
        "model_list = [knn,svm,lr, dt,gnb, cnb, rf,ada,xgb,lgbm,etc,cat]"
      ],
      "metadata": {
        "id": "dwRbQSiMJ6on"
      },
      "execution_count": null,
      "outputs": []
    },
    {
      "cell_type": "code",
      "source": [
        "\"\"\"다양한 모델들을 사용해 본 결과, knn, dt, rf, \n",
        "lgb, etc, catboost등이 좋은 성능을 보여주었다.\"\"\"\n",
        "for model in model_list:\n",
        "  return_score(model)"
      ],
      "metadata": {
        "colab": {
          "base_uri": "https://localhost:8080/"
        },
        "id": "iXZNBQadKRR3",
        "outputId": "a365adce-7ea4-4b81-e4d4-27da978029a0"
      },
      "execution_count": null,
      "outputs": [
        {
          "output_type": "stream",
          "name": "stdout",
          "text": [
            "KNeighborsClassifier()\n",
            "average_accuracy:  0.8573942634462985\n",
            "SVC()\n",
            "average_accuracy:  0.8247164470189278\n",
            "LogisticRegression()\n",
            "average_accuracy:  0.8117053748808372\n",
            "DecisionTreeClassifier()\n",
            "average_accuracy:  0.850061255157659\n",
            "GaussianNB()\n",
            "average_accuracy:  0.795880131279245\n",
            "ComplementNB()\n",
            "average_accuracy:  0.6495185639331378\n",
            "RandomForestClassifier()\n",
            "average_accuracy:  0.9015492624638872\n",
            "AdaBoostClassifier()\n",
            "average_accuracy:  0.8499726562215736\n",
            "XGBClassifier()\n",
            "average_accuracy:  0.8600406791008389\n",
            "LGBMClassifier()\n",
            "average_accuracy:  0.889009347460649\n",
            "ExtraTreesClassifier()\n",
            "average_accuracy:  0.9102076526193992\n",
            "<catboost.core.CatBoostClassifier object at 0x7f5584beaf50>\n",
            "average_accuracy:  0.8969023483266263\n"
          ]
        }
      ]
    },
    {
      "cell_type": "markdown",
      "source": [
        "### 하이퍼파라미터 튜닝(Optuna)"
      ],
      "metadata": {
        "id": "rt2LQM70Lf30"
      }
    },
    {
      "cell_type": "code",
      "source": [
        "import optuna\n",
        "from optuna import Trial,visualization\n",
        "from optuna.samplers import TPESampler"
      ],
      "metadata": {
        "id": "8uOqTbYzNZAB"
      },
      "execution_count": null,
      "outputs": []
    },
    {
      "cell_type": "code",
      "source": [
        "skf = StratifiedKFold(n_splits=10, shuffle=True, random_state=42)"
      ],
      "metadata": {
        "id": "fgoediE5NmRK"
      },
      "execution_count": null,
      "outputs": []
    },
    {
      "cell_type": "markdown",
      "source": [
        "####knn"
      ],
      "metadata": {
        "id": "DTqJc4tvMhiD"
      }
    },
    {
      "cell_type": "code",
      "source": [
        "def objectiveKNN(trial:Trial) -> float:\n",
        "  score_list = []\n",
        "  params = {\n",
        "    'n_neighbors' : trial.suggest_int('n_neighbors', 5, 200),\n",
        "    'weights': trial.suggest_categorical('weights', ['distance', 'uniform'])}\n",
        "  for tr_idx, val_idx in skf.split(X_train, y_train):\n",
        "    X_tr, X_val = np.array(X_train)[tr_idx], np.array(X_train)[val_idx]\n",
        "    y_tr, y_val = np.array(y_train)[tr_idx], np.array(y_train)[val_idx]\n",
        "    knn = KNeighborsClassifier(**params)\n",
        "    knn = knn.fit(X_tr, y_tr)\n",
        "    predictions = knn.predict(X_val)\n",
        "    score = accuracy_score(y_val, predictions)\n",
        "    score_list.append(score)\n",
        "  return np.mean(score_list)"
      ],
      "metadata": {
        "id": "s9k3mxvPKTLf"
      },
      "execution_count": null,
      "outputs": []
    },
    {
      "cell_type": "code",
      "source": [
        "knn_study = optuna.create_study(\n",
        "    study_name = 'knn_test',\n",
        "    direction='maximize',\n",
        "    sampler = TPESampler(seed=42)\n",
        ")"
      ],
      "metadata": {
        "colab": {
          "base_uri": "https://localhost:8080/"
        },
        "id": "rNMic5z3RM68",
        "outputId": "4137b656-d3d8-4d2d-b29a-fa4db9dd7abf"
      },
      "execution_count": null,
      "outputs": [
        {
          "output_type": "stream",
          "name": "stderr",
          "text": [
            "\u001b[32m[I 2022-04-30 05:51:30,882]\u001b[0m A new study created in memory with name: knn_test\u001b[0m\n"
          ]
        }
      ]
    },
    {
      "cell_type": "code",
      "source": [
        "# 'n_neighbors': 6, 'weights': 'distance'\n",
        "knn_study.optimize(objectiveKNN, n_trials=50)\n",
        "print(\"Best Score:\", knn_study.best_value)\n",
        "print(\"Best trial:\", knn_study.best_trial.params)"
      ],
      "metadata": {
        "colab": {
          "base_uri": "https://localhost:8080/"
        },
        "id": "l6iGgoTkRTU9",
        "outputId": "ed662c89-9efc-4706-88e5-6c3331fdf1f6"
      },
      "execution_count": null,
      "outputs": [
        {
          "output_type": "stream",
          "name": "stderr",
          "text": [
            "\u001b[32m[I 2022-04-30 05:51:39,105]\u001b[0m Trial 0 finished with value: 0.8336743270483273 and parameters: {'n_neighbors': 78, 'weights': 'distance'}. Best is trial 0 with value: 0.8336743270483273.\u001b[0m\n",
            "\u001b[32m[I 2022-04-30 05:51:57,030]\u001b[0m Trial 1 finished with value: 0.8280859537029626 and parameters: {'n_neighbors': 122, 'weights': 'distance'}. Best is trial 0 with value: 0.8336743270483273.\u001b[0m\n",
            "\u001b[32m[I 2022-04-30 05:52:06,862]\u001b[0m Trial 2 finished with value: 0.8585865831738431 and parameters: {'n_neighbors': 16, 'weights': 'distance'}. Best is trial 2 with value: 0.8585865831738431.\u001b[0m\n",
            "\u001b[32m[I 2022-04-30 05:52:15,195]\u001b[0m Trial 3 finished with value: 0.8085484146794066 and parameters: {'n_neighbors': 143, 'weights': 'uniform'}. Best is trial 2 with value: 0.8585865831738431.\u001b[0m\n",
            "\u001b[32m[I 2022-04-30 05:52:23,489]\u001b[0m Trial 4 finished with value: 0.8242040286136361 and parameters: {'n_neighbors': 168, 'weights': 'distance'}. Best is trial 2 with value: 0.8585865831738431.\u001b[0m\n",
            "\u001b[32m[I 2022-04-30 05:52:29,408]\u001b[0m Trial 5 finished with value: 0.8192557689368855 and parameters: {'n_neighbors': 40, 'weights': 'uniform'}. Best is trial 2 with value: 0.8585865831738431.\u001b[0m\n",
            "\u001b[32m[I 2022-04-30 05:52:36,677]\u001b[0m Trial 6 finished with value: 0.8109375841417 and parameters: {'n_neighbors': 89, 'weights': 'uniform'}. Best is trial 2 with value: 0.8585865831738431.\u001b[0m\n",
            "\u001b[32m[I 2022-04-30 05:52:42,231]\u001b[0m Trial 7 finished with value: 0.8205351775981138 and parameters: {'n_neighbors': 32, 'weights': 'uniform'}. Best is trial 2 with value: 0.8585865831738431.\u001b[0m\n",
            "\u001b[32m[I 2022-04-30 05:52:49,122]\u001b[0m Trial 8 finished with value: 0.8310721926690293 and parameters: {'n_neighbors': 94, 'weights': 'distance'}. Best is trial 2 with value: 0.8585865831738431.\u001b[0m\n",
            "\u001b[32m[I 2022-04-30 05:52:56,238]\u001b[0m Trial 9 finished with value: 0.8292805111449091 and parameters: {'n_neighbors': 105, 'weights': 'distance'}. Best is trial 2 with value: 0.8585865831738431.\u001b[0m\n",
            "\u001b[32m[I 2022-04-30 05:52:59,846]\u001b[0m Trial 10 finished with value: 0.8649000305639041 and parameters: {'n_neighbors': 9, 'weights': 'distance'}. Best is trial 10 with value: 0.8649000305639041.\u001b[0m\n",
            "\u001b[32m[I 2022-04-30 05:53:03,151]\u001b[0m Trial 11 finished with value: 0.872706251773798 and parameters: {'n_neighbors': 6, 'weights': 'distance'}. Best is trial 11 with value: 0.872706251773798.\u001b[0m\n",
            "\u001b[32m[I 2022-04-30 05:53:06,552]\u001b[0m Trial 12 finished with value: 0.8671182240916335 and parameters: {'n_neighbors': 7, 'weights': 'distance'}. Best is trial 11 with value: 0.872706251773798.\u001b[0m\n",
            "\u001b[32m[I 2022-04-30 05:53:12,353]\u001b[0m Trial 13 finished with value: 0.8376415035985358 and parameters: {'n_neighbors': 56, 'weights': 'distance'}. Best is trial 11 with value: 0.872706251773798.\u001b[0m\n",
            "\u001b[32m[I 2022-04-30 05:53:18,290]\u001b[0m Trial 14 finished with value: 0.8369589279346806 and parameters: {'n_neighbors': 59, 'weights': 'distance'}. Best is trial 11 with value: 0.872706251773798.\u001b[0m\n",
            "\u001b[32m[I 2022-04-30 05:53:27,092]\u001b[0m Trial 15 finished with value: 0.8232654438679349 and parameters: {'n_neighbors': 194, 'weights': 'distance'}. Best is trial 11 with value: 0.872706251773798.\u001b[0m\n",
            "\u001b[32m[I 2022-04-30 05:53:30,534]\u001b[0m Trial 16 finished with value: 0.8671182240916335 and parameters: {'n_neighbors': 7, 'weights': 'distance'}. Best is trial 11 with value: 0.872706251773798.\u001b[0m\n",
            "\u001b[32m[I 2022-04-30 05:53:35,580]\u001b[0m Trial 17 finished with value: 0.845319793038707 and parameters: {'n_neighbors': 32, 'weights': 'distance'}. Best is trial 11 with value: 0.872706251773798.\u001b[0m\n",
            "\u001b[32m[I 2022-04-30 05:53:41,984]\u001b[0m Trial 18 finished with value: 0.8131130427821885 and parameters: {'n_neighbors': 57, 'weights': 'uniform'}. Best is trial 11 with value: 0.872706251773798.\u001b[0m\n",
            "\u001b[32m[I 2022-04-30 05:53:47,430]\u001b[0m Trial 19 finished with value: 0.8494149377442384 and parameters: {'n_neighbors': 27, 'weights': 'distance'}. Best is trial 11 with value: 0.872706251773798.\u001b[0m\n",
            "\u001b[32m[I 2022-04-30 05:53:53,554]\u001b[0m Trial 20 finished with value: 0.8356366024582111 and parameters: {'n_neighbors': 66, 'weights': 'distance'}. Best is trial 11 with value: 0.872706251773798.\u001b[0m\n",
            "\u001b[32m[I 2022-04-30 05:53:56,977]\u001b[0m Trial 21 finished with value: 0.8671182240916335 and parameters: {'n_neighbors': 7, 'weights': 'distance'}. Best is trial 11 with value: 0.872706251773798.\u001b[0m\n",
            "\u001b[32m[I 2022-04-30 05:54:02,524]\u001b[0m Trial 22 finished with value: 0.840926068099289 and parameters: {'n_neighbors': 45, 'weights': 'distance'}. Best is trial 11 with value: 0.872706251773798.\u001b[0m\n",
            "\u001b[32m[I 2022-04-30 05:54:05,880]\u001b[0m Trial 23 finished with value: 0.872706251773798 and parameters: {'n_neighbors': 6, 'weights': 'distance'}. Best is trial 11 with value: 0.872706251773798.\u001b[0m\n",
            "\u001b[32m[I 2022-04-30 05:54:10,373]\u001b[0m Trial 24 finished with value: 0.8526570402497506 and parameters: {'n_neighbors': 21, 'weights': 'distance'}. Best is trial 11 with value: 0.872706251773798.\u001b[0m\n",
            "\u001b[32m[I 2022-04-30 05:54:15,779]\u001b[0m Trial 25 finished with value: 0.841054090833012 and parameters: {'n_neighbors': 43, 'weights': 'distance'}. Best is trial 11 with value: 0.872706251773798.\u001b[0m\n",
            "\u001b[32m[I 2022-04-30 05:54:20,907]\u001b[0m Trial 26 finished with value: 0.825824934323992 and parameters: {'n_neighbors': 23, 'weights': 'uniform'}. Best is trial 11 with value: 0.872706251773798.\u001b[0m\n",
            "\u001b[32m[I 2022-04-30 05:54:27,375]\u001b[0m Trial 27 finished with value: 0.8337596694732093 and parameters: {'n_neighbors': 77, 'weights': 'distance'}. Best is trial 11 with value: 0.872706251773798.\u001b[0m\n",
            "\u001b[32m[I 2022-04-30 05:54:34,731]\u001b[0m Trial 28 finished with value: 0.8287258126723769 and parameters: {'n_neighbors': 116, 'weights': 'distance'}. Best is trial 11 with value: 0.872706251773798.\u001b[0m\n",
            "\u001b[32m[I 2022-04-30 05:54:39,084]\u001b[0m Trial 29 finished with value: 0.8546194430092348 and parameters: {'n_neighbors': 19, 'weights': 'distance'}. Best is trial 11 with value: 0.872706251773798.\u001b[0m\n",
            "\u001b[32m[I 2022-04-30 05:54:45,514]\u001b[0m Trial 30 finished with value: 0.8337596694732093 and parameters: {'n_neighbors': 77, 'weights': 'distance'}. Best is trial 11 with value: 0.872706251773798.\u001b[0m\n",
            "\u001b[32m[I 2022-04-30 05:54:48,966]\u001b[0m Trial 31 finished with value: 0.8671182240916335 and parameters: {'n_neighbors': 7, 'weights': 'distance'}. Best is trial 11 with value: 0.872706251773798.\u001b[0m\n",
            "\u001b[32m[I 2022-04-30 05:54:52,486]\u001b[0m Trial 32 finished with value: 0.8686112162250668 and parameters: {'n_neighbors': 8, 'weights': 'distance'}. Best is trial 11 with value: 0.872706251773798.\u001b[0m\n",
            "\u001b[32m[I 2022-04-30 05:54:57,660]\u001b[0m Trial 33 finished with value: 0.8428457177787319 and parameters: {'n_neighbors': 37, 'weights': 'distance'}. Best is trial 11 with value: 0.872706251773798.\u001b[0m\n",
            "\u001b[32m[I 2022-04-30 05:55:01,849]\u001b[0m Trial 34 finished with value: 0.8585865831738431 and parameters: {'n_neighbors': 16, 'weights': 'distance'}. Best is trial 11 with value: 0.872706251773798.\u001b[0m\n",
            "\u001b[32m[I 2022-04-30 05:55:09,814]\u001b[0m Trial 35 finished with value: 0.8255691799413464 and parameters: {'n_neighbors': 143, 'weights': 'distance'}. Best is trial 11 with value: 0.872706251773798.\u001b[0m\n",
            "\u001b[32m[I 2022-04-30 05:55:16,844]\u001b[0m Trial 36 finished with value: 0.8386651942627186 and parameters: {'n_neighbors': 50, 'weights': 'distance'}. Best is trial 11 with value: 0.872706251773798.\u001b[0m\n",
            "\u001b[32m[I 2022-04-30 05:55:21,648]\u001b[0m Trial 37 finished with value: 0.8344416265818639 and parameters: {'n_neighbors': 16, 'weights': 'uniform'}. Best is trial 11 with value: 0.872706251773798.\u001b[0m\n",
            "\u001b[32m[I 2022-04-30 05:55:26,345]\u001b[0m Trial 38 finished with value: 0.8494577454026795 and parameters: {'n_neighbors': 26, 'weights': 'distance'}. Best is trial 11 with value: 0.872706251773798.\u001b[0m\n",
            "\u001b[32m[I 2022-04-30 05:55:30,177]\u001b[0m Trial 39 finished with value: 0.8556002532437761 and parameters: {'n_neighbors': 5, 'weights': 'uniform'}. Best is trial 11 with value: 0.872706251773798.\u001b[0m\n",
            "\u001b[32m[I 2022-04-30 05:55:38,185]\u001b[0m Trial 40 finished with value: 0.8248866588558913 and parameters: {'n_neighbors': 146, 'weights': 'distance'}. Best is trial 11 with value: 0.872706251773798.\u001b[0m\n",
            "\u001b[32m[I 2022-04-30 05:55:42,282]\u001b[0m Trial 41 finished with value: 0.858757340794807 and parameters: {'n_neighbors': 15, 'weights': 'distance'}. Best is trial 11 with value: 0.872706251773798.\u001b[0m\n",
            "\u001b[32m[I 2022-04-30 05:55:47,411]\u001b[0m Trial 42 finished with value: 0.8438695721781148 and parameters: {'n_neighbors': 35, 'weights': 'distance'}. Best is trial 11 with value: 0.872706251773798.\u001b[0m\n",
            "\u001b[32m[I 2022-04-30 05:55:51,380]\u001b[0m Trial 43 finished with value: 0.8609328903992954 and parameters: {'n_neighbors': 13, 'weights': 'distance'}. Best is trial 11 with value: 0.872706251773798.\u001b[0m\n",
            "\u001b[32m[I 2022-04-30 05:55:56,143]\u001b[0m Trial 44 finished with value: 0.8494149377442384 and parameters: {'n_neighbors': 27, 'weights': 'distance'}. Best is trial 11 with value: 0.872706251773798.\u001b[0m\n",
            "\u001b[32m[I 2022-04-30 05:55:59,678]\u001b[0m Trial 45 finished with value: 0.8686112162250668 and parameters: {'n_neighbors': 8, 'weights': 'distance'}. Best is trial 11 with value: 0.872706251773798.\u001b[0m\n",
            "\u001b[32m[I 2022-04-30 05:56:04,734]\u001b[0m Trial 46 finished with value: 0.845319793038707 and parameters: {'n_neighbors': 32, 'weights': 'distance'}. Best is trial 11 with value: 0.872706251773798.\u001b[0m\n",
            "\u001b[32m[I 2022-04-30 05:56:10,986]\u001b[0m Trial 47 finished with value: 0.8163551270949009 and parameters: {'n_neighbors': 47, 'weights': 'uniform'}. Best is trial 11 with value: 0.872706251773798.\u001b[0m\n",
            "\u001b[32m[I 2022-04-30 05:56:14,135]\u001b[0m Trial 48 finished with value: 0.870146925052941 and parameters: {'n_neighbors': 5, 'weights': 'distance'}. Best is trial 11 with value: 0.872706251773798.\u001b[0m\n",
            "\u001b[32m[I 2022-04-30 05:56:22,815]\u001b[0m Trial 49 finished with value: 0.8236493301411034 and parameters: {'n_neighbors': 186, 'weights': 'distance'}. Best is trial 11 with value: 0.872706251773798.\u001b[0m\n"
          ]
        },
        {
          "output_type": "stream",
          "name": "stdout",
          "text": [
            "Best Score: 0.872706251773798\n",
            "Best trial: {'n_neighbors': 6, 'weights': 'distance'}\n"
          ]
        }
      ]
    },
    {
      "cell_type": "markdown",
      "source": [
        "#### 의사결정나무"
      ],
      "metadata": {
        "id": "T8-YZ7-ZMjfA"
      }
    },
    {
      "cell_type": "code",
      "source": [
        "def objectiveDT(trial:Trial) -> float:\n",
        "  score_list = []\n",
        "  params = {\n",
        "    'random_state':42,\n",
        "    'max_depth' : int(trial.suggest_discrete_uniform('max_depth',2, 30,2)),\n",
        "    'min_samples_leaf': int(trial.suggest_discrete_uniform('min_samples_leaf',2,20,2)),\n",
        "    'min_samples_split': int(trial.suggest_discrete_uniform('min_samples_split',2,20,2))}\n",
        "  for tr_idx, val_idx in skf.split(X_train, y_train):\n",
        "    X_tr, X_val = np.array(X_train)[tr_idx], np.array(X_train)[val_idx]\n",
        "    y_tr, y_val = np.array(y_train)[tr_idx], np.array(y_train)[val_idx]\n",
        "    dt = DecisionTreeClassifier(**params)\n",
        "    dt.fit(X_tr, y_tr)\n",
        "    predictions = dt.predict(X_val)\n",
        "    score = accuracy_score(y_val, predictions)\n",
        "    score_list.append(score)\n",
        "  return np.mean(score_list)"
      ],
      "metadata": {
        "id": "gpuye1EgM0W5"
      },
      "execution_count": null,
      "outputs": []
    },
    {
      "cell_type": "code",
      "source": [
        "dt_study = optuna.create_study(\n",
        "    study_name = 'DT_test',\n",
        "    direction='maximize',\n",
        "    sampler = TPESampler(seed=42)\n",
        ")"
      ],
      "metadata": {
        "colab": {
          "base_uri": "https://localhost:8080/"
        },
        "id": "Eb7-OcVKR_2G",
        "outputId": "848b792d-b751-4576-c845-9294c68c66f5"
      },
      "execution_count": null,
      "outputs": [
        {
          "output_type": "stream",
          "name": "stderr",
          "text": [
            "\u001b[32m[I 2022-04-30 05:56:22,851]\u001b[0m A new study created in memory with name: DT_test\u001b[0m\n"
          ]
        }
      ]
    },
    {
      "cell_type": "code",
      "source": [
        "# 'max_depth': 18.0, 'min_samples_leaf': 8.0, 'min_samples_split': 6.0\n",
        "dt_study.optimize(objectiveDT, n_trials=50)\n",
        "print(\"Best Score:\", dt_study.best_value)\n",
        "print(\"Best trial:\", dt_study.best_trial.params)"
      ],
      "metadata": {
        "colab": {
          "base_uri": "https://localhost:8080/"
        },
        "id": "XD3LUxj2SHMZ",
        "outputId": "1fde5d51-d089-47d3-b3cd-9f8027a3a7ff"
      },
      "execution_count": null,
      "outputs": [
        {
          "output_type": "stream",
          "name": "stderr",
          "text": [
            "\u001b[32m[I 2022-04-30 05:56:23,878]\u001b[0m Trial 0 finished with value: 0.848477044324938 and parameters: {'max_depth': 12.0, 'min_samples_leaf': 20.0, 'min_samples_split': 16.0}. Best is trial 0 with value: 0.848477044324938.\u001b[0m\n",
            "\u001b[32m[I 2022-04-30 05:56:25,135]\u001b[0m Trial 1 finished with value: 0.8491596199887933 and parameters: {'max_depth': 18.0, 'min_samples_leaf': 4.0, 'min_samples_split': 4.0}. Best is trial 1 with value: 0.8491596199887933.\u001b[0m\n",
            "\u001b[32m[I 2022-04-30 05:56:25,430]\u001b[0m Trial 2 finished with value: 0.7763839444901286 and parameters: {'max_depth': 2.0, 'min_samples_leaf': 18.0, 'min_samples_split': 14.0}. Best is trial 1 with value: 0.8491596199887933.\u001b[0m\n",
            "\u001b[32m[I 2022-04-30 05:56:26,741]\u001b[0m Trial 3 finished with value: 0.8506947648398671 and parameters: {'max_depth': 22.0, 'min_samples_leaf': 2.0, 'min_samples_split': 20.0}. Best is trial 3 with value: 0.8506947648398671.\u001b[0m\n",
            "\u001b[32m[I 2022-04-30 05:56:28,002]\u001b[0m Trial 4 finished with value: 0.8500125712248121 and parameters: {'max_depth': 26.0, 'min_samples_leaf': 6.0, 'min_samples_split': 4.0}. Best is trial 3 with value: 0.8506947648398671.\u001b[0m\n",
            "\u001b[32m[I 2022-04-30 05:56:28,670]\u001b[0m Trial 5 finished with value: 0.8283424539904087 and parameters: {'max_depth': 6.0, 'min_samples_leaf': 8.0, 'min_samples_split': 12.0}. Best is trial 3 with value: 0.8506947648398671.\u001b[0m\n",
            "\u001b[32m[I 2022-04-30 05:56:29,802]\u001b[0m Trial 6 finished with value: 0.8497137180989253 and parameters: {'max_depth': 14.0, 'min_samples_leaf': 6.0, 'min_samples_split': 14.0}. Best is trial 3 with value: 0.8506947648398671.\u001b[0m\n",
            "\u001b[32m[I 2022-04-30 05:56:30,467]\u001b[0m Trial 7 finished with value: 0.8282997918743679 and parameters: {'max_depth': 6.0, 'min_samples_leaf': 6.0, 'min_samples_split': 8.0}. Best is trial 3 with value: 0.8506947648398671.\u001b[0m\n",
            "\u001b[32m[I 2022-04-30 05:56:31,543]\u001b[0m Trial 8 finished with value: 0.849670855862084 and parameters: {'max_depth': 14.0, 'min_samples_leaf': 16.0, 'min_samples_split': 4.0}. Best is trial 3 with value: 0.8506947648398671.\u001b[0m\n",
            "\u001b[32m[I 2022-04-30 05:56:32,673]\u001b[0m Trial 9 finished with value: 0.851036389238595 and parameters: {'max_depth': 16.0, 'min_samples_leaf': 12.0, 'min_samples_split': 2.0}. Best is trial 9 with value: 0.851036389238595.\u001b[0m\n",
            "\u001b[32m[I 2022-04-30 05:56:33,872]\u001b[0m Trial 10 finished with value: 0.8498846030694892 and parameters: {'max_depth': 30.0, 'min_samples_leaf': 12.0, 'min_samples_split': 8.0}. Best is trial 9 with value: 0.851036389238595.\u001b[0m\n",
            "\u001b[32m[I 2022-04-30 05:56:35,061]\u001b[0m Trial 11 finished with value: 0.8506951650814674 and parameters: {'max_depth': 22.0, 'min_samples_leaf': 12.0, 'min_samples_split': 20.0}. Best is trial 9 with value: 0.851036389238595.\u001b[0m\n",
            "\u001b[32m[I 2022-04-30 05:56:36,241]\u001b[0m Trial 12 finished with value: 0.8506951286958675 and parameters: {'max_depth': 20.0, 'min_samples_leaf': 12.0, 'min_samples_split': 20.0}. Best is trial 9 with value: 0.851036389238595.\u001b[0m\n",
            "\u001b[32m[I 2022-04-30 05:56:37,423]\u001b[0m Trial 13 finished with value: 0.850652139109426 and parameters: {'max_depth': 24.0, 'min_samples_leaf': 14.0, 'min_samples_split': 8.0}. Best is trial 9 with value: 0.851036389238595.\u001b[0m\n",
            "\u001b[32m[I 2022-04-30 05:56:38,633]\u001b[0m Trial 14 finished with value: 0.8516338589839684 and parameters: {'max_depth': 28.0, 'min_samples_leaf': 10.0, 'min_samples_split': 2.0}. Best is trial 14 with value: 0.8516338589839684.\u001b[0m\n",
            "\u001b[32m[I 2022-04-30 05:56:39,853]\u001b[0m Trial 15 finished with value: 0.8513778862877228 and parameters: {'max_depth': 30.0, 'min_samples_leaf': 10.0, 'min_samples_split': 2.0}. Best is trial 14 with value: 0.8516338589839684.\u001b[0m\n",
            "\u001b[32m[I 2022-04-30 05:56:41,086]\u001b[0m Trial 16 finished with value: 0.8519749739842959 and parameters: {'max_depth': 30.0, 'min_samples_leaf': 8.0, 'min_samples_split': 2.0}. Best is trial 16 with value: 0.8519749739842959.\u001b[0m\n",
            "\u001b[32m[I 2022-04-30 05:56:42,323]\u001b[0m Trial 17 finished with value: 0.8517616815968913 and parameters: {'max_depth': 28.0, 'min_samples_leaf': 8.0, 'min_samples_split': 6.0}. Best is trial 16 with value: 0.8519749739842959.\u001b[0m\n",
            "\u001b[32m[I 2022-04-30 05:56:43,556]\u001b[0m Trial 18 finished with value: 0.8525721890304693 and parameters: {'max_depth': 26.0, 'min_samples_leaf': 8.0, 'min_samples_split': 6.0}. Best is trial 18 with value: 0.8525721890304693.\u001b[0m\n",
            "\u001b[32m[I 2022-04-30 05:56:44,906]\u001b[0m Trial 19 finished with value: 0.8462158612107672 and parameters: {'max_depth': 30.0, 'min_samples_leaf': 2.0, 'min_samples_split': 6.0}. Best is trial 18 with value: 0.8525721890304693.\u001b[0m\n",
            "\u001b[32m[I 2022-04-30 05:56:46,140]\u001b[0m Trial 20 finished with value: 0.8525721890304693 and parameters: {'max_depth': 26.0, 'min_samples_leaf': 8.0, 'min_samples_split': 10.0}. Best is trial 18 with value: 0.8525721890304693.\u001b[0m\n",
            "\u001b[32m[I 2022-04-30 05:56:47,376]\u001b[0m Trial 21 finished with value: 0.8525721890304693 and parameters: {'max_depth': 26.0, 'min_samples_leaf': 8.0, 'min_samples_split': 10.0}. Best is trial 18 with value: 0.8525721890304693.\u001b[0m\n",
            "\u001b[32m[I 2022-04-30 05:56:48,661]\u001b[0m Trial 22 finished with value: 0.8460453400962035 and parameters: {'max_depth': 24.0, 'min_samples_leaf': 4.0, 'min_samples_split': 10.0}. Best is trial 18 with value: 0.8525721890304693.\u001b[0m\n",
            "\u001b[32m[I 2022-04-30 05:56:49,902]\u001b[0m Trial 23 finished with value: 0.8525721890304693 and parameters: {'max_depth': 26.0, 'min_samples_leaf': 8.0, 'min_samples_split': 10.0}. Best is trial 18 with value: 0.8525721890304693.\u001b[0m\n",
            "\u001b[32m[I 2022-04-30 05:56:51,177]\u001b[0m Trial 24 finished with value: 0.8479648078476462 and parameters: {'max_depth': 20.0, 'min_samples_leaf': 4.0, 'min_samples_split': 10.0}. Best is trial 18 with value: 0.8525721890304693.\u001b[0m\n",
            "\u001b[32m[I 2022-04-30 05:56:52,392]\u001b[0m Trial 25 finished with value: 0.8513778862877228 and parameters: {'max_depth': 26.0, 'min_samples_leaf': 10.0, 'min_samples_split': 12.0}. Best is trial 18 with value: 0.8525721890304693.\u001b[0m\n",
            "\u001b[32m[I 2022-04-30 05:56:53,561]\u001b[0m Trial 26 finished with value: 0.850652139109426 and parameters: {'max_depth': 24.0, 'min_samples_leaf': 14.0, 'min_samples_split': 14.0}. Best is trial 18 with value: 0.8525721890304693.\u001b[0m\n",
            "\u001b[32m[I 2022-04-30 05:56:54,810]\u001b[0m Trial 27 finished with value: 0.8495859318716024 and parameters: {'max_depth': 20.0, 'min_samples_leaf': 6.0, 'min_samples_split': 10.0}. Best is trial 18 with value: 0.8525721890304693.\u001b[0m\n",
            "\u001b[32m[I 2022-04-30 05:56:56,031]\u001b[0m Trial 28 finished with value: 0.8519750103698961 and parameters: {'max_depth': 22.0, 'min_samples_leaf': 10.0, 'min_samples_split': 6.0}. Best is trial 18 with value: 0.8525721890304693.\u001b[0m\n",
            "\u001b[32m[I 2022-04-30 05:56:57,283]\u001b[0m Trial 29 finished with value: 0.8517616815968913 and parameters: {'max_depth': 28.0, 'min_samples_leaf': 8.0, 'min_samples_split': 16.0}. Best is trial 18 with value: 0.8525721890304693.\u001b[0m\n",
            "\u001b[32m[I 2022-04-30 05:56:58,219]\u001b[0m Trial 30 finished with value: 0.844722869077334 and parameters: {'max_depth': 10.0, 'min_samples_leaf': 20.0, 'min_samples_split': 12.0}. Best is trial 18 with value: 0.8525721890304693.\u001b[0m\n",
            "\u001b[32m[I 2022-04-30 05:56:59,456]\u001b[0m Trial 31 finished with value: 0.8525721890304693 and parameters: {'max_depth': 26.0, 'min_samples_leaf': 8.0, 'min_samples_split': 8.0}. Best is trial 18 with value: 0.8525721890304693.\u001b[0m\n",
            "\u001b[32m[I 2022-04-30 05:57:00,716]\u001b[0m Trial 32 finished with value: 0.8500125712248121 and parameters: {'max_depth': 26.0, 'min_samples_leaf': 6.0, 'min_samples_split': 8.0}. Best is trial 18 with value: 0.8525721890304693.\u001b[0m\n",
            "\u001b[32m[I 2022-04-30 05:57:01,923]\u001b[0m Trial 33 finished with value: 0.8538092448532568 and parameters: {'max_depth': 18.0, 'min_samples_leaf': 8.0, 'min_samples_split': 6.0}. Best is trial 33 with value: 0.8538092448532568.\u001b[0m\n",
            "\u001b[32m[I 2022-04-30 05:57:03,173]\u001b[0m Trial 34 finished with value: 0.8491596199887933 and parameters: {'max_depth': 18.0, 'min_samples_leaf': 4.0, 'min_samples_split': 8.0}. Best is trial 33 with value: 0.8538092448532568.\u001b[0m\n",
            "\u001b[32m[I 2022-04-30 05:57:04,363]\u001b[0m Trial 35 finished with value: 0.852060443758778 and parameters: {'max_depth': 18.0, 'min_samples_leaf': 10.0, 'min_samples_split': 10.0}. Best is trial 33 with value: 0.8538092448532568.\u001b[0m\n",
            "\u001b[32m[I 2022-04-30 05:57:05,659]\u001b[0m Trial 36 finished with value: 0.8445523479627702 and parameters: {'max_depth': 24.0, 'min_samples_leaf': 4.0, 'min_samples_split': 4.0}. Best is trial 33 with value: 0.8538092448532568.\u001b[0m\n",
            "\u001b[32m[I 2022-04-30 05:57:06,612]\u001b[0m Trial 37 finished with value: 0.8462158248251672 and parameters: {'max_depth': 10.0, 'min_samples_leaf': 6.0, 'min_samples_split': 6.0}. Best is trial 33 with value: 0.8538092448532568.\u001b[0m\n",
            "\u001b[32m[I 2022-04-30 05:57:06,928]\u001b[0m Trial 38 finished with value: 0.7763839444901286 and parameters: {'max_depth': 2.0, 'min_samples_leaf': 8.0, 'min_samples_split': 6.0}. Best is trial 33 with value: 0.8538092448532568.\u001b[0m\n",
            "\u001b[32m[I 2022-04-30 05:57:08,119]\u001b[0m Trial 39 finished with value: 0.8526999388721919 and parameters: {'max_depth': 16.0, 'min_samples_leaf': 6.0, 'min_samples_split': 14.0}. Best is trial 33 with value: 0.8538092448532568.\u001b[0m\n",
            "\u001b[32m[I 2022-04-30 05:57:09,247]\u001b[0m Trial 40 finished with value: 0.8503963483411805 and parameters: {'max_depth': 14.0, 'min_samples_leaf': 6.0, 'min_samples_split': 16.0}. Best is trial 33 with value: 0.8538092448532568.\u001b[0m\n",
            "\u001b[32m[I 2022-04-30 05:57:10,433]\u001b[0m Trial 41 finished with value: 0.8526999388721919 and parameters: {'max_depth': 16.0, 'min_samples_leaf': 6.0, 'min_samples_split': 14.0}. Best is trial 33 with value: 0.8538092448532568.\u001b[0m\n",
            "\u001b[32m[I 2022-04-30 05:57:11,652]\u001b[0m Trial 42 finished with value: 0.8528276341355145 and parameters: {'max_depth': 16.0, 'min_samples_leaf': 2.0, 'min_samples_split': 14.0}. Best is trial 33 with value: 0.8538092448532568.\u001b[0m\n",
            "\u001b[32m[I 2022-04-30 05:57:12,875]\u001b[0m Trial 43 finished with value: 0.8528276341355145 and parameters: {'max_depth': 16.0, 'min_samples_leaf': 2.0, 'min_samples_split': 14.0}. Best is trial 33 with value: 0.8538092448532568.\u001b[0m\n",
            "\u001b[32m[I 2022-04-30 05:57:14,102]\u001b[0m Trial 44 finished with value: 0.8528276341355145 and parameters: {'max_depth': 16.0, 'min_samples_leaf': 2.0, 'min_samples_split': 14.0}. Best is trial 33 with value: 0.8538092448532568.\u001b[0m\n",
            "\u001b[32m[I 2022-04-30 05:57:15,316]\u001b[0m Trial 45 finished with value: 0.8530408719445193 and parameters: {'max_depth': 16.0, 'min_samples_leaf': 2.0, 'min_samples_split': 18.0}. Best is trial 33 with value: 0.8538092448532568.\u001b[0m\n",
            "\u001b[32m[I 2022-04-30 05:57:16,389]\u001b[0m Trial 46 finished with value: 0.8489458727813879 and parameters: {'max_depth': 12.0, 'min_samples_leaf': 2.0, 'min_samples_split': 18.0}. Best is trial 33 with value: 0.8538092448532568.\u001b[0m\n",
            "\u001b[32m[I 2022-04-30 05:57:17,548]\u001b[0m Trial 47 finished with value: 0.8515904873487269 and parameters: {'max_depth': 14.0, 'min_samples_leaf': 2.0, 'min_samples_split': 18.0}. Best is trial 33 with value: 0.8538092448532568.\u001b[0m\n",
            "\u001b[32m[I 2022-04-30 05:57:18,632]\u001b[0m Trial 48 finished with value: 0.8489458727813879 and parameters: {'max_depth': 12.0, 'min_samples_leaf': 2.0, 'min_samples_split': 18.0}. Best is trial 33 with value: 0.8538092448532568.\u001b[0m\n",
            "\u001b[32m[I 2022-04-30 05:57:19,846]\u001b[0m Trial 49 finished with value: 0.8526996114017915 and parameters: {'max_depth': 16.0, 'min_samples_leaf': 2.0, 'min_samples_split': 16.0}. Best is trial 33 with value: 0.8538092448532568.\u001b[0m\n"
          ]
        },
        {
          "output_type": "stream",
          "name": "stdout",
          "text": [
            "Best Score: 0.8538092448532568\n",
            "Best trial: {'max_depth': 18.0, 'min_samples_leaf': 8.0, 'min_samples_split': 6.0}\n"
          ]
        }
      ]
    },
    {
      "cell_type": "markdown",
      "source": [
        "#### 랜덤포레스트"
      ],
      "metadata": {
        "id": "G95HBgP7MzFO"
      }
    },
    {
      "cell_type": "code",
      "source": [
        "def objectiveRF(trial:Trial) -> float:\n",
        "  score_list = []\n",
        "  params = {\n",
        "    'random_state':42,\n",
        "    'max_depth' : int(trial.suggest_discrete_uniform('max_depth',2, 30,2)),\n",
        "    'min_samples_leaf': int(trial.suggest_discrete_uniform('min_samples_leaf',2,20,2)),\n",
        "    'min_samples_split': int(trial.suggest_discrete_uniform('min_samples_split',2,20,2)),\n",
        "    'n_estimators': int(trial.suggest_discrete_uniform('n_estimators',100,550,10))}\n",
        "  for tr_idx, val_idx in skf.split(X_train, y_train):\n",
        "    X_tr, X_val = np.array(X_train)[tr_idx], np.array(X_train)[val_idx]\n",
        "    y_tr, y_val = np.array(y_train)[tr_idx], np.array(y_train)[val_idx]\n",
        "    rf = RandomForestClassifier(**params)\n",
        "    rf = rf.fit(X_tr, y_tr)\n",
        "    predictions = rf.predict(X_val)\n",
        "    score = accuracy_score(y_val, predictions)\n",
        "    score_list.append(score)\n",
        "  return np.mean(score_list)"
      ],
      "metadata": {
        "id": "9ekLrcbIM3ck"
      },
      "execution_count": null,
      "outputs": []
    },
    {
      "cell_type": "code",
      "source": [
        "rf_study = optuna.create_study(\n",
        "    study_name = 'RF_test',\n",
        "    direction='maximize',\n",
        "    sampler = TPESampler(seed=42)\n",
        ")"
      ],
      "metadata": {
        "colab": {
          "base_uri": "https://localhost:8080/"
        },
        "id": "3xRR_0VESqq3",
        "outputId": "50dd6457-7158-4aac-9526-0f5ef7f0f2b4"
      },
      "execution_count": null,
      "outputs": [
        {
          "output_type": "stream",
          "name": "stderr",
          "text": [
            "\u001b[32m[I 2022-04-30 05:57:19,889]\u001b[0m A new study created in memory with name: RF_test\u001b[0m\n"
          ]
        }
      ]
    },
    {
      "cell_type": "code",
      "source": [
        "# 'max_depth': 28.0, 'min_samples_leaf': 2.0, 'min_samples_split': 2.0, 'n_estimators': 340.0\n",
        "rf_study.optimize(objectiveRF, n_trials=30)\n",
        "print(\"Best Score:\", rf_study.best_value)\n",
        "print(\"Best trial:\", rf_study.best_trial.params)"
      ],
      "metadata": {
        "colab": {
          "base_uri": "https://localhost:8080/"
        },
        "id": "_pETP6FQSrc-",
        "outputId": "bdb6412b-6f94-4632-d33a-d6e7d470091d"
      },
      "execution_count": null,
      "outputs": [
        {
          "output_type": "stream",
          "name": "stderr",
          "text": [
            "\u001b[32m[I 2022-04-30 05:58:26,748]\u001b[0m Trial 0 finished with value: 0.855643861385418 and parameters: {'max_depth': 12.0, 'min_samples_leaf': 20.0, 'min_samples_split': 16.0, 'n_estimators': 370.0}. Best is trial 0 with value: 0.855643861385418.\u001b[0m\n",
            "\u001b[32m[I 2022-04-30 05:59:30,663]\u001b[0m Trial 1 finished with value: 0.8413105001564581 and parameters: {'max_depth': 6.0, 'min_samples_leaf': 4.0, 'min_samples_split': 2.0, 'n_estimators': 490.0}. Best is trial 0 with value: 0.855643861385418.\u001b[0m\n",
            "\u001b[32m[I 2022-04-30 06:01:16,033]\u001b[0m Trial 2 finished with value: 0.8625544146648523 and parameters: {'max_depth': 20.0, 'min_samples_leaf': 16.0, 'min_samples_split': 2.0, 'n_estimators': 540.0}. Best is trial 2 with value: 0.8625544146648523.\u001b[0m\n",
            "\u001b[32m[I 2022-04-30 06:01:55,193]\u001b[0m Trial 3 finished with value: 0.8748398487814463 and parameters: {'max_depth': 26.0, 'min_samples_leaf': 6.0, 'min_samples_split': 4.0, 'n_estimators': 180.0}. Best is trial 3 with value: 0.8748398487814463.\u001b[0m\n",
            "\u001b[32m[I 2022-04-30 06:02:34,864]\u001b[0m Trial 4 finished with value: 0.8555584279965363 and parameters: {'max_depth': 10.0, 'min_samples_leaf': 12.0, 'min_samples_split': 10.0, 'n_estimators': 230.0}. Best is trial 3 with value: 0.8748398487814463.\u001b[0m\n",
            "\u001b[32m[I 2022-04-30 06:03:32,986]\u001b[0m Trial 5 finished with value: 0.8793616510329872 and parameters: {'max_depth': 20.0, 'min_samples_leaf': 4.0, 'min_samples_split': 6.0, 'n_estimators': 260.0}. Best is trial 5 with value: 0.8793616510329872.\u001b[0m\n",
            "\u001b[32m[I 2022-04-30 06:04:35,610]\u001b[0m Trial 6 finished with value: 0.8606774998726504 and parameters: {'max_depth': 14.0, 'min_samples_leaf': 16.0, 'min_samples_split': 4.0, 'n_estimators': 330.0}. Best is trial 5 with value: 0.8793616510329872.\u001b[0m\n",
            "\u001b[32m[I 2022-04-30 06:05:13,382]\u001b[0m Trial 7 finished with value: 0.8802148569682062 and parameters: {'max_depth': 18.0, 'min_samples_leaf': 2.0, 'min_samples_split': 14.0, 'n_estimators': 170.0}. Best is trial 7 with value: 0.8802148569682062.\u001b[0m\n",
            "\u001b[32m[I 2022-04-30 06:05:47,892]\u001b[0m Trial 8 finished with value: 0.7885416651506 and parameters: {'max_depth': 2.0, 'min_samples_leaf': 20.0, 'min_samples_split': 20.0, 'n_estimators': 470.0}. Best is trial 7 with value: 0.8802148569682062.\u001b[0m\n",
            "\u001b[32m[I 2022-04-30 06:06:40,457]\u001b[0m Trial 9 finished with value: 0.85931238493054 and parameters: {'max_depth': 10.0, 'min_samples_leaf': 2.0, 'min_samples_split': 14.0, 'n_estimators': 300.0}. Best is trial 7 with value: 0.8802148569682062.\u001b[0m\n",
            "\u001b[32m[I 2022-04-30 06:07:01,711]\u001b[0m Trial 10 finished with value: 0.8711713798147246 and parameters: {'max_depth': 30.0, 'min_samples_leaf': 8.0, 'min_samples_split': 10.0, 'n_estimators': 100.0}. Best is trial 7 with value: 0.8802148569682062.\u001b[0m\n",
            "\u001b[32m[I 2022-04-30 06:07:48,151]\u001b[0m Trial 11 finished with value: 0.8868268845921538 and parameters: {'max_depth': 20.0, 'min_samples_leaf': 2.0, 'min_samples_split': 6.0, 'n_estimators': 200.0}. Best is trial 11 with value: 0.8868268845921538.\u001b[0m\n",
            "\u001b[32m[I 2022-04-30 06:08:20,414]\u001b[0m Trial 12 finished with value: 0.885973824199335 and parameters: {'max_depth': 20.0, 'min_samples_leaf': 2.0, 'min_samples_split': 8.0, 'n_estimators': 140.0}. Best is trial 11 with value: 0.8868268845921538.\u001b[0m\n",
            "\u001b[32m[I 2022-04-30 06:08:40,951]\u001b[0m Trial 13 finished with value: 0.8680145469628939 and parameters: {'max_depth': 24.0, 'min_samples_leaf': 10.0, 'min_samples_split': 8.0, 'n_estimators': 100.0}. Best is trial 11 with value: 0.8868268845921538.\u001b[0m\n",
            "\u001b[32m[I 2022-04-30 06:09:17,717]\u001b[0m Trial 14 finished with value: 0.8736452731466995 and parameters: {'max_depth': 24.0, 'min_samples_leaf': 6.0, 'min_samples_split': 8.0, 'n_estimators': 170.0}. Best is trial 11 with value: 0.8868268845921538.\u001b[0m\n",
            "\u001b[32m[I 2022-04-30 06:10:05,388]\u001b[0m Trial 15 finished with value: 0.8788071344884548 and parameters: {'max_depth': 16.0, 'min_samples_leaf': 2.0, 'min_samples_split': 6.0, 'n_estimators': 220.0}. Best is trial 11 with value: 0.8868268845921538.\u001b[0m\n",
            "\u001b[32m[I 2022-04-30 06:11:23,433]\u001b[0m Trial 16 finished with value: 0.866393677638138 and parameters: {'max_depth': 30.0, 'min_samples_leaf': 12.0, 'min_samples_split': 12.0, 'n_estimators': 390.0}. Best is trial 11 with value: 0.8868268845921538.\u001b[0m\n",
            "\u001b[32m[I 2022-04-30 06:11:53,420]\u001b[0m Trial 17 finished with value: 0.8739866792318273 and parameters: {'max_depth': 20.0, 'min_samples_leaf': 6.0, 'min_samples_split': 8.0, 'n_estimators': 140.0}. Best is trial 11 with value: 0.8868268845921538.\u001b[0m\n",
            "\u001b[32m[I 2022-04-30 06:12:48,063]\u001b[0m Trial 18 finished with value: 0.8702329042258237 and parameters: {'max_depth': 26.0, 'min_samples_leaf': 8.0, 'min_samples_split': 6.0, 'n_estimators': 260.0}. Best is trial 11 with value: 0.8868268845921538.\u001b[0m\n",
            "\u001b[32m[I 2022-04-30 06:13:34,443]\u001b[0m Trial 19 finished with value: 0.8732615324159312 and parameters: {'max_depth': 16.0, 'min_samples_leaf': 4.0, 'min_samples_split': 12.0, 'n_estimators': 220.0}. Best is trial 11 with value: 0.8868268845921538.\u001b[0m\n",
            "\u001b[32m[I 2022-04-30 06:14:02,463]\u001b[0m Trial 20 finished with value: 0.8650712611976685 and parameters: {'max_depth': 22.0, 'min_samples_leaf': 14.0, 'min_samples_split': 18.0, 'n_estimators': 140.0}. Best is trial 11 with value: 0.8868268845921538.\u001b[0m\n",
            "\u001b[32m[I 2022-04-30 06:14:40,087]\u001b[0m Trial 21 finished with value: 0.8802148569682062 and parameters: {'max_depth': 18.0, 'min_samples_leaf': 2.0, 'min_samples_split': 14.0, 'n_estimators': 170.0}. Best is trial 11 with value: 0.8868268845921538.\u001b[0m\n",
            "\u001b[32m[I 2022-04-30 06:15:11,209]\u001b[0m Trial 22 finished with value: 0.8803428069307291 and parameters: {'max_depth': 18.0, 'min_samples_leaf': 2.0, 'min_samples_split': 14.0, 'n_estimators': 140.0}. Best is trial 11 with value: 0.8868268845921538.\u001b[0m\n",
            "\u001b[32m[I 2022-04-30 06:15:37,720]\u001b[0m Trial 23 finished with value: 0.8695504377187684 and parameters: {'max_depth': 14.0, 'min_samples_leaf': 4.0, 'min_samples_split': 10.0, 'n_estimators': 130.0}. Best is trial 11 with value: 0.8868268845921538.\u001b[0m\n",
            "\u001b[32m[I 2022-04-30 06:16:17,688]\u001b[0m Trial 24 finished with value: 0.8709580146561196 and parameters: {'max_depth': 22.0, 'min_samples_leaf': 8.0, 'min_samples_split': 16.0, 'n_estimators': 190.0}. Best is trial 11 with value: 0.8868268845921538.\u001b[0m\n",
            "\u001b[32m[I 2022-04-30 06:17:19,005]\u001b[0m Trial 25 finished with value: 0.8855472758101254 and parameters: {'max_depth': 18.0, 'min_samples_leaf': 2.0, 'min_samples_split': 4.0, 'n_estimators': 270.0}. Best is trial 11 with value: 0.8868268845921538.\u001b[0m\n",
            "\u001b[32m[I 2022-04-30 06:18:22,098]\u001b[0m Trial 26 finished with value: 0.8805560265469337 and parameters: {'max_depth': 24.0, 'min_samples_leaf': 4.0, 'min_samples_split': 4.0, 'n_estimators': 280.0}. Best is trial 11 with value: 0.8868268845921538.\u001b[0m\n",
            "\u001b[32m[I 2022-04-30 06:19:24,216]\u001b[0m Trial 27 finished with value: 0.8684412227017037 and parameters: {'max_depth': 14.0, 'min_samples_leaf': 6.0, 'min_samples_split': 6.0, 'n_estimators': 310.0}. Best is trial 11 with value: 0.8868268845921538.\u001b[0m\n",
            "\u001b[32m[I 2022-04-30 06:20:45,770]\u001b[0m Trial 28 finished with value: 0.8925430077792413 and parameters: {'max_depth': 28.0, 'min_samples_leaf': 2.0, 'min_samples_split': 2.0, 'n_estimators': 340.0}. Best is trial 28 with value: 0.8925430077792413.\u001b[0m\n",
            "\u001b[32m[I 2022-04-30 06:22:03,701]\u001b[0m Trial 29 finished with value: 0.868995739246236 and parameters: {'max_depth': 28.0, 'min_samples_leaf': 10.0, 'min_samples_split': 2.0, 'n_estimators': 380.0}. Best is trial 28 with value: 0.8925430077792413.\u001b[0m\n"
          ]
        },
        {
          "output_type": "stream",
          "name": "stdout",
          "text": [
            "Best Score: 0.8925430077792413\n",
            "Best trial: {'max_depth': 28.0, 'min_samples_leaf': 2.0, 'min_samples_split': 2.0, 'n_estimators': 340.0}\n"
          ]
        }
      ]
    },
    {
      "cell_type": "markdown",
      "source": [
        "#### XGBoost"
      ],
      "metadata": {
        "id": "s1Drq2hmIfrT"
      }
    },
    {
      "cell_type": "code",
      "source": [
        "def objectiveXGB(trial:Trial) -> float:\n",
        "  score_list = []\n",
        "  params = {\n",
        "    'random_state':42,\n",
        "    'max_depth' : int(trial.suggest_discrete_uniform('max_depth',2, 30,2)),\n",
        "    'n_estimators': int(trial.suggest_discrete_uniform('n_estimators',100,550,10)),\n",
        "     'learning_rate': trial.suggest_loguniform('learning_rate', 1e-3, 0.05),\n",
        "     'subsample': trial.suggest_loguniform('subsample',0.7,1),\n",
        "     'colsample_bytree':trial.suggest_loguniform('colsample_bytree',0.7,1)\n",
        "     }\n",
        "  for tr_idx, val_idx in skf.split(X_train, y_train):\n",
        "    X_tr, X_val = np.array(X_train)[tr_idx], np.array(X_train)[val_idx]\n",
        "    y_tr, y_val = np.array(y_train)[tr_idx], np.array(y_train)[val_idx]\n",
        "    xgb = XGBClassifier(**params)\n",
        "    xgb = xgb.fit(X_tr, y_tr)\n",
        "    predictions = xgb.predict(X_val)\n",
        "    score = accuracy_score(y_val, predictions)\n",
        "    score_list.append(score)\n",
        "  return np.mean(score_list)"
      ],
      "metadata": {
        "id": "etf_PiwEIh0N"
      },
      "execution_count": null,
      "outputs": []
    },
    {
      "cell_type": "code",
      "source": [
        "xgb_study = optuna.create_study(\n",
        "    study_name = 'XGB_test',\n",
        "    direction='maximize',\n",
        "    sampler = TPESampler(seed=42)\n",
        ")"
      ],
      "metadata": {
        "colab": {
          "base_uri": "https://localhost:8080/"
        },
        "id": "0FWheR4OJJ-0",
        "outputId": "10238040-a9ca-4f1b-ca64-980d8cfa0273"
      },
      "execution_count": null,
      "outputs": [
        {
          "output_type": "stream",
          "name": "stderr",
          "text": [
            "\u001b[32m[I 2022-04-30 06:22:03,733]\u001b[0m A new study created in memory with name: XGB_test\u001b[0m\n"
          ]
        }
      ]
    },
    {
      "cell_type": "code",
      "source": [
        "# 'max_depth': 16.0, 'n_estimators': 370.0, 'learning_rate': 0.03383346450252323, 'subsample': 0.9006737249928406, 'colsample_bytree': 0.856878714034877\n",
        "xgb_study.optimize(objectiveXGB, n_trials=30)\n",
        "print(\"Best Score:\", xgb_study.best_value)\n",
        "print(\"Best trial:\", xgb_study.best_trial.params)"
      ],
      "metadata": {
        "colab": {
          "base_uri": "https://localhost:8080/"
        },
        "id": "1C-ULbvyJNhI",
        "outputId": "254cc1c5-c72b-4c2c-a741-74f973a64bf3"
      },
      "execution_count": null,
      "outputs": [
        {
          "output_type": "stream",
          "name": "stderr",
          "text": [
            "\u001b[32m[I 2022-04-30 06:26:15,367]\u001b[0m Trial 0 finished with value: 0.902524978714424 and parameters: {'max_depth': 12.0, 'n_estimators': 530.0, 'learning_rate': 0.01752410111812814, 'subsample': 0.8666253978417815, 'colsample_bytree': 0.7400577878782706}. Best is trial 0 with value: 0.902524978714424.\u001b[0m\n",
            "\u001b[32m[I 2022-04-30 06:26:47,267]\u001b[0m Trial 1 finished with value: 0.8639621007590035 and parameters: {'max_depth': 6.0, 'n_estimators': 120.0, 'learning_rate': 0.029621516588303493, 'subsample': 0.867385052013284, 'colsample_bytree': 0.9011142760532918}. Best is trial 0 with value: 0.902524978714424.\u001b[0m\n",
            "\u001b[32m[I 2022-04-30 06:27:38,270]\u001b[0m Trial 2 finished with value: 0.8561985416651506 and parameters: {'max_depth': 2.0, 'n_estimators': 540.0, 'learning_rate': 0.025959425503112647, 'subsample': 0.7550744664467341, 'colsample_bytree': 0.746901073793237}. Best is trial 0 with value: 0.902524978714424.\u001b[0m\n",
            "\u001b[32m[I 2022-04-30 06:28:35,191]\u001b[0m Trial 3 finished with value: 0.8563264552420733 and parameters: {'max_depth': 6.0, 'n_estimators': 230.0, 'learning_rate': 0.0077901431262762414, 'subsample': 0.8165958528802547, 'colsample_bytree': 0.7766225644402593}. Best is trial 0 with value: 0.902524978714424.\u001b[0m\n",
            "\u001b[32m[I 2022-04-30 06:30:51,555]\u001b[0m Trial 4 finished with value: 0.8870401769795585 and parameters: {'max_depth': 20.0, 'n_estimators': 160.0, 'learning_rate': 0.0031357757322577457, 'subsample': 0.7977158249649767, 'colsample_bytree': 0.8236527911100895}. Best is trial 0 with value: 0.902524978714424.\u001b[0m\n",
            "\u001b[32m[I 2022-04-30 06:33:25,098]\u001b[0m Trial 5 finished with value: 0.8965532284942912 and parameters: {'max_depth': 24.0, 'n_estimators': 190.0, 'learning_rate': 0.007475992999956505, 'subsample': 0.8646975288763031, 'colsample_bytree': 0.7116939926304295}. Best is trial 0 with value: 0.902524978714424.\u001b[0m\n",
            "\u001b[32m[I 2022-04-30 06:36:12,577]\u001b[0m Trial 6 finished with value: 0.8790627797143002 and parameters: {'max_depth': 20.0, 'n_estimators': 170.0, 'learning_rate': 0.0012897950480855534, 'subsample': 0.9819339357105158, 'colsample_bytree': 0.9878166329131964}. Best is trial 0 with value: 0.902524978714424.\u001b[0m\n",
            "\u001b[32m[I 2022-04-30 06:39:57,887]\u001b[0m Trial 7 finished with value: 0.8878505024851364 and parameters: {'max_depth': 26.0, 'n_estimators': 240.0, 'learning_rate': 0.0014653521030672135, 'subsample': 0.8934846112177743, 'colsample_bytree': 0.8189898585654789}. Best is trial 0 with value: 0.902524978714424.\u001b[0m\n",
            "\u001b[32m[I 2022-04-30 06:40:45,963]\u001b[0m Trial 8 finished with value: 0.8272757009685847 and parameters: {'max_depth': 4.0, 'n_estimators': 320.0, 'learning_rate': 0.0011439974749291274, 'subsample': 0.9681743052536671, 'colsample_bytree': 0.7676859041127272}. Best is trial 0 with value: 0.902524978714424.\u001b[0m\n",
            "\u001b[32m[I 2022-04-30 06:44:02,404]\u001b[0m Trial 9 finished with value: 0.8953159907435033 and parameters: {'max_depth': 20.0, 'n_estimators': 240.0, 'learning_rate': 0.00764856511236995, 'subsample': 0.8507158685078077, 'colsample_bytree': 0.7477085683912128}. Best is trial 0 with value: 0.902524978714424.\u001b[0m\n",
            "\u001b[32m[I 2022-04-30 06:48:08,845]\u001b[0m Trial 10 finished with value: 0.9023116863270191 and parameters: {'max_depth': 12.0, 'n_estimators': 520.0, 'learning_rate': 0.015229416615648682, 'subsample': 0.7044989817746417, 'colsample_bytree': 0.7038474356112341}. Best is trial 0 with value: 0.902524978714424.\u001b[0m\n",
            "\u001b[32m[I 2022-04-30 06:52:26,928]\u001b[0m Trial 11 finished with value: 0.9026956817569879 and parameters: {'max_depth': 12.0, 'n_estimators': 550.0, 'learning_rate': 0.01624018209440578, 'subsample': 0.721697722637088, 'colsample_bytree': 0.700933642527879}. Best is trial 11 with value: 0.9026956817569879.\u001b[0m\n",
            "\u001b[32m[I 2022-04-30 06:56:04,782]\u001b[0m Trial 12 finished with value: 0.9013734654373184 and parameters: {'max_depth': 12.0, 'n_estimators': 450.0, 'learning_rate': 0.014264681201116, 'subsample': 0.713069765416469, 'colsample_bytree': 0.7041156562893638}. Best is trial 11 with value: 0.9026956817569879.\u001b[0m\n",
            "\u001b[32m[I 2022-04-30 06:59:58,558]\u001b[0m Trial 13 finished with value: 0.9041033496583392 and parameters: {'max_depth': 14.0, 'n_estimators': 410.0, 'learning_rate': 0.04936136705399827, 'subsample': 0.9269156675702644, 'colsample_bytree': 0.8813379449398991}. Best is trial 13 with value: 0.9041033496583392.\u001b[0m\n",
            "\u001b[32m[I 2022-04-30 07:04:30,275]\u001b[0m Trial 14 finished with value: 0.9049140208271174 and parameters: {'max_depth': 16.0, 'n_estimators': 410.0, 'learning_rate': 0.0493831934415054, 'subsample': 0.9276616114129212, 'colsample_bytree': 0.8889922745422918}. Best is trial 14 with value: 0.9049140208271174.\u001b[0m\n",
            "\u001b[32m[I 2022-04-30 07:11:52,911]\u001b[0m Trial 15 finished with value: 0.9032075725710792 and parameters: {'max_depth': 30.0, 'n_estimators': 400.0, 'learning_rate': 0.04922686868821576, 'subsample': 0.946889715661252, 'colsample_bytree': 0.888087368190407}. Best is trial 14 with value: 0.9049140208271174.\u001b[0m\n",
            "\u001b[32m[I 2022-04-30 07:15:55,051]\u001b[0m Trial 16 finished with value: 0.9032927694535611 and parameters: {'max_depth': 16.0, 'n_estimators': 360.0, 'learning_rate': 0.0421598423053908, 'subsample': 0.929549370662671, 'colsample_bytree': 0.8981833240593637}. Best is trial 14 with value: 0.9049140208271174.\u001b[0m\n",
            "\u001b[32m[I 2022-04-30 07:21:09,816]\u001b[0m Trial 17 finished with value: 0.9043166420457439 and parameters: {'max_depth': 16.0, 'n_estimators': 430.0, 'learning_rate': 0.029332580258570117, 'subsample': 0.9082720476107681, 'colsample_bytree': 0.952667573814376}. Best is trial 14 with value: 0.9049140208271174.\u001b[0m\n",
            "\u001b[32m[I 2022-04-30 07:23:46,924]\u001b[0m Trial 18 finished with value: 0.8983444733912108 and parameters: {'max_depth': 8.0, 'n_estimators': 460.0, 'learning_rate': 0.028118872210255018, 'subsample': 0.8999842978933823, 'colsample_bytree': 0.9708093522982052}. Best is trial 14 with value: 0.9049140208271174.\u001b[0m\n",
            "\u001b[32m[I 2022-04-30 07:28:43,734]\u001b[0m Trial 19 finished with value: 0.8855469301469251 and parameters: {'max_depth': 18.0, 'n_estimators': 320.0, 'learning_rate': 0.0032930161742679713, 'subsample': 0.7862341845548182, 'colsample_bytree': 0.9375335335719095}. Best is trial 14 with value: 0.9049140208271174.\u001b[0m\n",
            "\u001b[32m[I 2022-04-30 07:37:36,291]\u001b[0m Trial 20 finished with value: 0.8991977884832298 and parameters: {'max_depth': 24.0, 'n_estimators': 470.0, 'learning_rate': 0.010842124511799046, 'subsample': 0.9919243029594296, 'colsample_bytree': 0.9354166667954786}. Best is trial 14 with value: 0.9049140208271174.\u001b[0m\n",
            "\u001b[32m[I 2022-04-30 07:42:06,323]\u001b[0m Trial 21 finished with value: 0.9044872723171077 and parameters: {'max_depth': 16.0, 'n_estimators': 400.0, 'learning_rate': 0.04063097295315241, 'subsample': 0.9191872855053058, 'colsample_bytree': 0.8599408856734483}. Best is trial 14 with value: 0.9049140208271174.\u001b[0m\n",
            "\u001b[32m[I 2022-04-30 07:46:07,718]\u001b[0m Trial 22 finished with value: 0.9056390948718134 and parameters: {'max_depth': 16.0, 'n_estimators': 370.0, 'learning_rate': 0.03383346450252323, 'subsample': 0.9006737249928406, 'colsample_bytree': 0.856878714034877}. Best is trial 22 with value: 0.9056390948718134.\u001b[0m\n",
            "\u001b[32m[I 2022-04-30 07:50:20,281]\u001b[0m Trial 23 finished with value: 0.9049567375215586 and parameters: {'max_depth': 18.0, 'n_estimators': 350.0, 'learning_rate': 0.03656217899693199, 'subsample': 0.9424438894529371, 'colsample_bytree': 0.8519740306691178}. Best is trial 22 with value: 0.9056390948718134.\u001b[0m\n",
            "\u001b[32m[I 2022-04-30 07:55:46,033]\u001b[0m Trial 24 finished with value: 0.904444719357867 and parameters: {'max_depth': 22.0, 'n_estimators': 360.0, 'learning_rate': 0.02303722764221452, 'subsample': 0.9457225017505636, 'colsample_bytree': 0.8496678836052137}. Best is trial 22 with value: 0.9056390948718134.\u001b[0m\n",
            "\u001b[32m[I 2022-04-30 07:57:43,059]\u001b[0m Trial 25 finished with value: 0.901799868284128 and parameters: {'max_depth': 10.0, 'n_estimators': 300.0, 'learning_rate': 0.036018038787293004, 'subsample': 0.9598700017337456, 'colsample_bytree': 0.8085147307532746}. Best is trial 22 with value: 0.9056390948718134.\u001b[0m\n",
            "\u001b[32m[I 2022-04-30 08:01:43,058]\u001b[0m Trial 26 finished with value: 0.901714580437646 and parameters: {'max_depth': 18.0, 'n_estimators': 280.0, 'learning_rate': 0.021018331229318708, 'subsample': 0.8900220459745845, 'colsample_bytree': 0.8641324517880652}. Best is trial 22 with value: 0.9056390948718134.\u001b[0m\n",
            "\u001b[32m[I 2022-04-30 08:05:45,969]\u001b[0m Trial 27 finished with value: 0.8866560178143897 and parameters: {'max_depth': 14.0, 'n_estimators': 360.0, 'learning_rate': 0.003982204073502177, 'subsample': 0.9989618580988733, 'colsample_bytree': 0.796076805916575}. Best is trial 22 with value: 0.9056390948718134.\u001b[0m\n",
            "\u001b[32m[I 2022-04-30 08:12:23,303]\u001b[0m Trial 28 finished with value: 0.9033357408472023 and parameters: {'max_depth': 18.0, 'n_estimators': 490.0, 'learning_rate': 0.011675125648556394, 'subsample': 0.8268630025080616, 'colsample_bytree': 0.837978653622793}. Best is trial 22 with value: 0.9056390948718134.\u001b[0m\n",
            "\u001b[32m[I 2022-04-30 08:19:38,421]\u001b[0m Trial 29 finished with value: 0.9039327193869754 and parameters: {'max_depth': 28.0, 'n_estimators': 380.0, 'learning_rate': 0.020196474150791725, 'subsample': 0.8835261417116937, 'colsample_bytree': 0.9229590229884682}. Best is trial 22 with value: 0.9056390948718134.\u001b[0m\n"
          ]
        },
        {
          "output_type": "stream",
          "name": "stdout",
          "text": [
            "Best Score: 0.9056390948718134\n",
            "Best trial: {'max_depth': 16.0, 'n_estimators': 370.0, 'learning_rate': 0.03383346450252323, 'subsample': 0.9006737249928406, 'colsample_bytree': 0.856878714034877}\n"
          ]
        }
      ]
    },
    {
      "cell_type": "markdown",
      "source": [
        "#### LightGBM"
      ],
      "metadata": {
        "id": "rG5BKmDJM4Ja"
      }
    },
    {
      "cell_type": "code",
      "source": [
        "def objectiveLGB(trial:Trial) -> float:\n",
        "  score_list = []\n",
        "  params = {\n",
        "    'random_state':42,\n",
        "    'max_depth' : int(trial.suggest_discrete_uniform('max_depth',2, 30,2)),\n",
        "    'n_estimators': int(trial.suggest_discrete_uniform('n_estimators',100,550,10)),\n",
        "     'learning_rate': trial.suggest_loguniform('learning_rate', 1e-3, 0.05),\n",
        "     'subsample': trial.suggest_loguniform('subsample',0.7,1),\n",
        "     'colsample_bytree':trial.suggest_loguniform('colsample_bytree',0.7,1)\n",
        "     }\n",
        "  for tr_idx, val_idx in skf.split(X_train, y_train):\n",
        "    X_tr, X_val = np.array(X_train)[tr_idx], np.array(X_train)[val_idx]\n",
        "    y_tr, y_val = np.array(y_train)[tr_idx], np.array(y_train)[val_idx]\n",
        "    lgb = LGBMClassifier(**params)\n",
        "    lgb = lgb.fit(X_tr, y_tr)\n",
        "    predictions = lgb.predict(X_val)\n",
        "    score = accuracy_score(y_val, predictions)\n",
        "    score_list.append(score)\n",
        "  return np.mean(score_list)"
      ],
      "metadata": {
        "id": "sK7nxTIgM7qt"
      },
      "execution_count": null,
      "outputs": []
    },
    {
      "cell_type": "code",
      "source": [
        "lgb_study = optuna.create_study(\n",
        "    study_name = 'LGB_test',\n",
        "    direction='maximize',\n",
        "    sampler = TPESampler(seed=42)\n",
        ")"
      ],
      "metadata": {
        "colab": {
          "base_uri": "https://localhost:8080/"
        },
        "id": "o6eVsnWTTjn3",
        "outputId": "34d6204c-1d09-46a8-ec4f-1be601a3da56"
      },
      "execution_count": null,
      "outputs": [
        {
          "output_type": "stream",
          "name": "stderr",
          "text": [
            "\u001b[32m[I 2022-04-30 08:19:38,467]\u001b[0m A new study created in memory with name: LGB_test\u001b[0m\n"
          ]
        }
      ]
    },
    {
      "cell_type": "code",
      "source": [
        "# 'max_depth': 16.0, 'n_estimators': 510.0, 'learning_rate': 0.04351434959285246, 'subsample': 0.7972020953273637, 'colsample_bytree': 0.9008817382408082\n",
        "lgb_study.optimize(objectiveLGB, n_trials=50)\n",
        "print(\"Best Score:\", lgb_study.best_value)\n",
        "print(\"Best trial:\", lgb_study.best_trial.params)"
      ],
      "metadata": {
        "colab": {
          "base_uri": "https://localhost:8080/"
        },
        "id": "RoV1vAHyTqct",
        "outputId": "aa0e0019-2dda-45b0-e42d-c8a30b165332"
      },
      "execution_count": null,
      "outputs": [
        {
          "output_type": "stream",
          "name": "stderr",
          "text": [
            "\u001b[32m[I 2022-04-30 08:20:04,557]\u001b[0m Trial 0 finished with value: 0.8958277905935945 and parameters: {'max_depth': 12.0, 'n_estimators': 530.0, 'learning_rate': 0.01752410111812814, 'subsample': 0.8666253978417815, 'colsample_bytree': 0.7400577878782706}. Best is trial 0 with value: 0.8958277905935945.\u001b[0m\n",
            "\u001b[32m[I 2022-04-30 08:20:10,674]\u001b[0m Trial 1 finished with value: 0.8624266284375295 and parameters: {'max_depth': 6.0, 'n_estimators': 120.0, 'learning_rate': 0.029621516588303493, 'subsample': 0.867385052013284, 'colsample_bytree': 0.9011142760532918}. Best is trial 0 with value: 0.8958277905935945.\u001b[0m\n",
            "\u001b[32m[I 2022-04-30 08:20:19,983]\u001b[0m Trial 2 finished with value: 0.8570945006804107 and parameters: {'max_depth': 2.0, 'n_estimators': 540.0, 'learning_rate': 0.025959425503112647, 'subsample': 0.7550744664467341, 'colsample_bytree': 0.746901073793237}. Best is trial 0 with value: 0.8958277905935945.\u001b[0m\n",
            "\u001b[32m[I 2022-04-30 08:20:30,717]\u001b[0m Trial 3 finished with value: 0.8557290946534998 and parameters: {'max_depth': 6.0, 'n_estimators': 230.0, 'learning_rate': 0.0077901431262762414, 'subsample': 0.8165958528802547, 'colsample_bytree': 0.7766225644402593}. Best is trial 0 with value: 0.8958277905935945.\u001b[0m\n",
            "\u001b[32m[I 2022-04-30 08:20:39,870]\u001b[0m Trial 4 finished with value: 0.8492023912616343 and parameters: {'max_depth': 20.0, 'n_estimators': 160.0, 'learning_rate': 0.0031357757322577457, 'subsample': 0.7977158249649767, 'colsample_bytree': 0.8236527911100895}. Best is trial 0 with value: 0.8958277905935945.\u001b[0m\n",
            "\u001b[32m[I 2022-04-30 08:20:49,476]\u001b[0m Trial 5 finished with value: 0.8616585466135923 and parameters: {'max_depth': 24.0, 'n_estimators': 190.0, 'learning_rate': 0.007475992999956505, 'subsample': 0.8646975288763031, 'colsample_bytree': 0.7116939926304295}. Best is trial 0 with value: 0.8958277905935945.\u001b[0m\n",
            "\u001b[32m[I 2022-04-30 08:21:00,184]\u001b[0m Trial 6 finished with value: 0.8419077697810314 and parameters: {'max_depth': 20.0, 'n_estimators': 170.0, 'learning_rate': 0.0012897950480855534, 'subsample': 0.9819339357105158, 'colsample_bytree': 0.9878166329131964}. Best is trial 0 with value: 0.8958277905935945.\u001b[0m\n",
            "\u001b[32m[I 2022-04-30 08:21:13,667]\u001b[0m Trial 7 finished with value: 0.8475386597000372 and parameters: {'max_depth': 26.0, 'n_estimators': 240.0, 'learning_rate': 0.0014653521030672135, 'subsample': 0.8934846112177743, 'colsample_bytree': 0.8189898585654789}. Best is trial 0 with value: 0.8958277905935945.\u001b[0m\n",
            "\u001b[32m[I 2022-04-30 08:21:23,934]\u001b[0m Trial 8 finished with value: 0.8273184176630256 and parameters: {'max_depth': 4.0, 'n_estimators': 320.0, 'learning_rate': 0.0011439974749291274, 'subsample': 0.9681743052536671, 'colsample_bytree': 0.7676859041127272}. Best is trial 0 with value: 0.8958277905935945.\u001b[0m\n",
            "\u001b[32m[I 2022-04-30 08:21:36,778]\u001b[0m Trial 9 finished with value: 0.8634928538681532 and parameters: {'max_depth': 20.0, 'n_estimators': 240.0, 'learning_rate': 0.00764856511236995, 'subsample': 0.8507158685078077, 'colsample_bytree': 0.7477085683912128}. Best is trial 0 with value: 0.8958277905935945.\u001b[0m\n",
            "\u001b[32m[I 2022-04-30 08:22:01,400]\u001b[0m Trial 10 finished with value: 0.8942921363441204 and parameters: {'max_depth': 12.0, 'n_estimators': 520.0, 'learning_rate': 0.015229416615648682, 'subsample': 0.7044989817746417, 'colsample_bytree': 0.7038474356112341}. Best is trial 0 with value: 0.8958277905935945.\u001b[0m\n",
            "\u001b[32m[I 2022-04-30 08:22:27,002]\u001b[0m Trial 11 finished with value: 0.8962970556772453 and parameters: {'max_depth': 12.0, 'n_estimators': 550.0, 'learning_rate': 0.01624018209440578, 'subsample': 0.721697722637088, 'colsample_bytree': 0.700933642527879}. Best is trial 11 with value: 0.8962970556772453.\u001b[0m\n",
            "\u001b[32m[I 2022-04-30 08:22:48,609]\u001b[0m Trial 12 finished with value: 0.8913058427996535 and parameters: {'max_depth': 12.0, 'n_estimators': 450.0, 'learning_rate': 0.014264681201116, 'subsample': 0.713069765416469, 'colsample_bytree': 0.7041156562893638}. Best is trial 11 with value: 0.8962970556772453.\u001b[0m\n",
            "\u001b[32m[I 2022-04-30 08:23:07,937]\u001b[0m Trial 13 finished with value: 0.9006481003078222 and parameters: {'max_depth': 14.0, 'n_estimators': 410.0, 'learning_rate': 0.04936136705399827, 'subsample': 0.9269156675702644, 'colsample_bytree': 0.8813379449398991}. Best is trial 13 with value: 0.9006481003078222.\u001b[0m\n",
            "\u001b[32m[I 2022-04-30 08:23:27,529]\u001b[0m Trial 14 finished with value: 0.9010321867017907 and parameters: {'max_depth': 16.0, 'n_estimators': 410.0, 'learning_rate': 0.0493831934415054, 'subsample': 0.9276616114129212, 'colsample_bytree': 0.8889922745422918}. Best is trial 14 with value: 0.9010321867017907.\u001b[0m\n",
            "\u001b[32m[I 2022-04-30 08:23:46,781]\u001b[0m Trial 15 finished with value: 0.9002642504202537 and parameters: {'max_depth': 30.0, 'n_estimators': 400.0, 'learning_rate': 0.04922686868821576, 'subsample': 0.946889715661252, 'colsample_bytree': 0.888087368190407}. Best is trial 14 with value: 0.9010321867017907.\u001b[0m\n",
            "\u001b[32m[I 2022-04-30 08:24:04,850]\u001b[0m Trial 16 finished with value: 0.8994964414883165 and parameters: {'max_depth': 16.0, 'n_estimators': 360.0, 'learning_rate': 0.0421598423053908, 'subsample': 0.929549370662671, 'colsample_bytree': 0.8981833240593637}. Best is trial 14 with value: 0.9010321867017907.\u001b[0m\n",
            "\u001b[32m[I 2022-04-30 08:24:28,692]\u001b[0m Trial 17 finished with value: 0.8973634084574689 and parameters: {'max_depth': 16.0, 'n_estimators': 430.0, 'learning_rate': 0.029332580258570117, 'subsample': 0.9082720476107681, 'colsample_bytree': 0.952667573814376}. Best is trial 14 with value: 0.9010321867017907.\u001b[0m\n",
            "\u001b[32m[I 2022-04-30 08:24:46,152]\u001b[0m Trial 18 finished with value: 0.855814600813582 and parameters: {'max_depth': 8.0, 'n_estimators': 320.0, 'learning_rate': 0.004182794334538382, 'subsample': 0.9958911025797775, 'colsample_bytree': 0.8541019038584802}. Best is trial 14 with value: 0.9010321867017907.\u001b[0m\n",
            "\u001b[32m[I 2022-04-30 08:25:10,478]\u001b[0m Trial 19 finished with value: 0.9009894154289497 and parameters: {'max_depth': 16.0, 'n_estimators': 480.0, 'learning_rate': 0.044336397764952545, 'subsample': 0.9189661224196322, 'colsample_bytree': 0.9360081872707204}. Best is trial 14 with value: 0.9010321867017907.\u001b[0m\n",
            "\u001b[32m[I 2022-04-30 08:25:37,425]\u001b[0m Trial 20 finished with value: 0.8954864572796671 and parameters: {'max_depth': 24.0, 'n_estimators': 470.0, 'learning_rate': 0.022554481443399995, 'subsample': 0.8907898333255831, 'colsample_bytree': 0.9354166667954786}. Best is trial 14 with value: 0.9010321867017907.\u001b[0m\n",
            "\u001b[32m[I 2022-04-30 08:25:56,007]\u001b[0m Trial 21 finished with value: 0.8993685097185937 and parameters: {'max_depth': 16.0, 'n_estimators': 370.0, 'learning_rate': 0.04063097295315241, 'subsample': 0.9350227960522479, 'colsample_bytree': 0.8599408856734483}. Best is trial 14 with value: 0.9010321867017907.\u001b[0m\n",
            "\u001b[32m[I 2022-04-30 08:26:21,124]\u001b[0m Trial 22 finished with value: 0.9000509216472489 and parameters: {'max_depth': 18.0, 'n_estimators': 480.0, 'learning_rate': 0.0363035018455396, 'subsample': 0.9210572269517391, 'colsample_bytree': 0.9335270627613467}. Best is trial 14 with value: 0.9010321867017907.\u001b[0m\n",
            "\u001b[32m[I 2022-04-30 08:26:45,490]\u001b[0m Trial 23 finished with value: 0.8790630526063005 and parameters: {'max_depth': 10.0, 'n_estimators': 410.0, 'learning_rate': 0.01155033526162105, 'subsample': 0.9634938797863624, 'colsample_bytree': 0.981599612129746}. Best is trial 14 with value: 0.9010321867017907.\u001b[0m\n",
            "\u001b[32m[I 2022-04-30 08:27:08,353]\u001b[0m Trial 24 finished with value: 0.9011602640139138 and parameters: {'max_depth': 14.0, 'n_estimators': 490.0, 'learning_rate': 0.049863034496553466, 'subsample': 0.8916747197821748, 'colsample_bytree': 0.8723370351944909}. Best is trial 24 with value: 0.9011602640139138.\u001b[0m\n",
            "\u001b[32m[I 2022-04-30 08:27:34,359]\u001b[0m Trial 25 finished with value: 0.8971928873429051 and parameters: {'max_depth': 18.0, 'n_estimators': 490.0, 'learning_rate': 0.024855134095399103, 'subsample': 0.8221754023314799, 'colsample_bytree': 0.9265171964270958}. Best is trial 24 with value: 0.9011602640139138.\u001b[0m\n",
            "\u001b[32m[I 2022-04-30 08:27:57,998]\u001b[0m Trial 26 finished with value: 0.900179017152172 and parameters: {'max_depth': 14.0, 'n_estimators': 500.0, 'learning_rate': 0.03358781947205594, 'subsample': 0.8933045389678529, 'colsample_bytree': 0.8485970458425165}. Best is trial 24 with value: 0.9011602640139138.\u001b[0m\n",
            "\u001b[32m[I 2022-04-30 08:28:19,746]\u001b[0m Trial 27 finished with value: 0.8920311715435499 and parameters: {'max_depth': 18.0, 'n_estimators': 360.0, 'learning_rate': 0.02028650617137709, 'subsample': 0.9569412793628747, 'colsample_bytree': 0.9619627184367461}. Best is trial 24 with value: 0.9011602640139138.\u001b[0m\n",
            "\u001b[32m[I 2022-04-30 08:28:43,946]\u001b[0m Trial 28 finished with value: 0.8817079036800397 and parameters: {'max_depth': 10.0, 'n_estimators': 460.0, 'learning_rate': 0.01097676455880185, 'subsample': 0.7733626833749566, 'colsample_bytree': 0.8085457007719233}. Best is trial 24 with value: 0.9011602640139138.\u001b[0m\n",
            "\u001b[32m[I 2022-04-30 08:29:14,530]\u001b[0m Trial 29 finished with value: 0.8644314386138541 and parameters: {'max_depth': 22.0, 'n_estimators': 510.0, 'learning_rate': 0.004129203265650815, 'subsample': 0.8682997180703513, 'colsample_bytree': 0.9094963282873152}. Best is trial 24 with value: 0.9011602640139138.\u001b[0m\n",
            "\u001b[32m[I 2022-04-30 08:29:30,527]\u001b[0m Trial 30 finished with value: 0.8949747302007758 and parameters: {'max_depth': 14.0, 'n_estimators': 290.0, 'learning_rate': 0.03294773884856981, 'subsample': 0.8416367132992498, 'colsample_bytree': 0.9213182121122752}. Best is trial 24 with value: 0.9011602640139138.\u001b[0m\n",
            "\u001b[32m[I 2022-04-30 08:29:50,958]\u001b[0m Trial 31 finished with value: 0.9005626123405401 and parameters: {'max_depth': 14.0, 'n_estimators': 430.0, 'learning_rate': 0.04936714324688285, 'subsample': 0.9097385471992675, 'colsample_bytree': 0.8837503087288398}. Best is trial 24 with value: 0.9011602640139138.\u001b[0m\n",
            "\u001b[32m[I 2022-04-30 08:30:09,548]\u001b[0m Trial 32 finished with value: 0.9002215883042128 and parameters: {'max_depth': 14.0, 'n_estimators': 390.0, 'learning_rate': 0.048969769877028786, 'subsample': 0.8808385139641758, 'colsample_bytree': 0.8669985080550471}. Best is trial 24 with value: 0.9011602640139138.\u001b[0m\n",
            "\u001b[32m[I 2022-04-30 08:30:30,326]\u001b[0m Trial 33 finished with value: 0.9005202595020994 and parameters: {'max_depth': 10.0, 'n_estimators': 430.0, 'learning_rate': 0.03792297287684157, 'subsample': 0.9395880894436561, 'colsample_bytree': 0.8721347636080118}. Best is trial 24 with value: 0.9011602640139138.\u001b[0m\n",
            "\u001b[32m[I 2022-04-30 08:30:50,867]\u001b[0m Trial 34 finished with value: 0.8952306483186214 and parameters: {'max_depth': 8.0, 'n_estimators': 450.0, 'learning_rate': 0.027324245509638925, 'subsample': 0.915433101537508, 'colsample_bytree': 0.837582974325278}. Best is trial 24 with value: 0.9011602640139138.\u001b[0m\n",
            "\u001b[32m[I 2022-04-30 08:31:19,110]\u001b[0m Trial 35 finished with value: 0.8974062343087101 and parameters: {'max_depth': 18.0, 'n_estimators': 550.0, 'learning_rate': 0.01947054641200468, 'subsample': 0.872321616288327, 'colsample_bytree': 0.7991952922341383}. Best is trial 24 with value: 0.9011602640139138.\u001b[0m\n",
            "\u001b[32m[I 2022-04-30 08:31:25,873]\u001b[0m Trial 36 finished with value: 0.8730057052620854 and parameters: {'max_depth': 16.0, 'n_estimators': 110.0, 'learning_rate': 0.030582706392069257, 'subsample': 0.9040910110854875, 'colsample_bytree': 0.907451732667955}. Best is trial 24 with value: 0.9011602640139138.\u001b[0m\n",
            "\u001b[32m[I 2022-04-30 08:31:51,358]\u001b[0m Trial 37 finished with value: 0.9003070035002946 and parameters: {'max_depth': 12.0, 'n_estimators': 520.0, 'learning_rate': 0.041007196214087306, 'subsample': 0.8528441118981289, 'colsample_bytree': 0.9523649541675094}. Best is trial 24 with value: 0.9011602640139138.\u001b[0m\n",
            "\u001b[32m[I 2022-04-30 08:32:13,907]\u001b[0m Trial 38 finished with value: 0.8492453626552756 and parameters: {'max_depth': 22.0, 'n_estimators': 380.0, 'learning_rate': 0.001980453930119666, 'subsample': 0.9793615237664423, 'colsample_bytree': 0.8871484441542834}. Best is trial 24 with value: 0.9011602640139138.\u001b[0m\n",
            "\u001b[32m[I 2022-04-30 08:32:20,276]\u001b[0m Trial 39 finished with value: 0.8483494764112155 and parameters: {'max_depth': 2.0, 'n_estimators': 340.0, 'learning_rate': 0.025627503469420904, 'subsample': 0.9479888934316404, 'colsample_bytree': 0.837073016229383}. Best is trial 24 with value: 0.9011602640139138.\u001b[0m\n",
            "\u001b[32m[I 2022-04-30 08:32:37,677]\u001b[0m Trial 40 finished with value: 0.8596964895173086 and parameters: {'max_depth': 20.0, 'n_estimators': 290.0, 'learning_rate': 0.006002755219194943, 'subsample': 0.8205791085149167, 'colsample_bytree': 0.8762654193222943}. Best is trial 24 with value: 0.9011602640139138.\u001b[0m\n",
            "\u001b[32m[I 2022-04-30 08:32:57,928]\u001b[0m Trial 41 finished with value: 0.9015012516646411 and parameters: {'max_depth': 14.0, 'n_estimators': 420.0, 'learning_rate': 0.047256779920739525, 'subsample': 0.9222464723926298, 'colsample_bytree': 0.8868408658824201}. Best is trial 41 with value: 0.9015012516646411.\u001b[0m\n",
            "\u001b[32m[I 2022-04-30 08:33:18,278]\u001b[0m Trial 42 finished with value: 0.8986005370514565 and parameters: {'max_depth': 14.0, 'n_estimators': 410.0, 'learning_rate': 0.04103806065597971, 'subsample': 0.9230231572966399, 'colsample_bytree': 0.8982326374186774}. Best is trial 41 with value: 0.9015012516646411.\u001b[0m\n",
            "\u001b[32m[I 2022-04-30 08:33:40,914]\u001b[0m Trial 43 finished with value: 0.9010747578538318 and parameters: {'max_depth': 16.0, 'n_estimators': 480.0, 'learning_rate': 0.0486219423794676, 'subsample': 0.8861708885478061, 'colsample_bytree': 0.9164122027754672}. Best is trial 41 with value: 0.9015012516646411.\u001b[0m\n",
            "\u001b[32m[I 2022-04-30 08:34:05,198]\u001b[0m Trial 44 finished with value: 0.898899080899743 and parameters: {'max_depth': 16.0, 'n_estimators': 490.0, 'learning_rate': 0.03445261072229887, 'subsample': 0.8867778040770427, 'colsample_bytree': 0.9141678041210737}. Best is trial 41 with value: 0.9015012516646411.\u001b[0m\n",
            "\u001b[32m[I 2022-04-30 08:34:33,021]\u001b[0m Trial 45 finished with value: 0.8991978976400301 and parameters: {'max_depth': 18.0, 'n_estimators': 530.0, 'learning_rate': 0.030370693709495626, 'subsample': 0.8587678895155356, 'colsample_bytree': 0.9417272299360192}. Best is trial 41 with value: 0.9015012516646411.\u001b[0m\n",
            "\u001b[32m[I 2022-04-30 08:34:54,647]\u001b[0m Trial 46 finished with value: 0.8987712946724203 and parameters: {'max_depth': 8.0, 'n_estimators': 450.0, 'learning_rate': 0.04312574835215456, 'subsample': 0.899724524060438, 'colsample_bytree': 0.9717290288818058}. Best is trial 41 with value: 0.9015012516646411.\u001b[0m\n",
            "\u001b[32m[I 2022-04-30 08:35:21,478]\u001b[0m Trial 47 finished with value: 0.893609578873065 and parameters: {'max_depth': 12.0, 'n_estimators': 470.0, 'learning_rate': 0.020109260119932512, 'subsample': 0.8743152048512844, 'colsample_bytree': 0.9933761008839317}. Best is trial 41 with value: 0.9015012516646411.\u001b[0m\n",
            "\u001b[32m[I 2022-04-30 08:35:45,258]\u001b[0m Trial 48 finished with value: 0.8957850920919539 and parameters: {'max_depth': 20.0, 'n_estimators': 430.0, 'learning_rate': 0.02314794705150396, 'subsample': 0.8346459725396177, 'colsample_bytree': 0.9198864365934513}. Best is trial 41 with value: 0.9015012516646411.\u001b[0m\n",
            "\u001b[32m[I 2022-04-30 08:36:09,511]\u001b[0m Trial 49 finished with value: 0.902610521260106 and parameters: {'max_depth': 16.0, 'n_estimators': 510.0, 'learning_rate': 0.04351434959285246, 'subsample': 0.7972020953273637, 'colsample_bytree': 0.9008817382408082}. Best is trial 49 with value: 0.902610521260106.\u001b[0m\n"
          ]
        },
        {
          "output_type": "stream",
          "name": "stdout",
          "text": [
            "Best Score: 0.902610521260106\n",
            "Best trial: {'max_depth': 16.0, 'n_estimators': 510.0, 'learning_rate': 0.04351434959285246, 'subsample': 0.7972020953273637, 'colsample_bytree': 0.9008817382408082}\n"
          ]
        }
      ]
    },
    {
      "cell_type": "markdown",
      "source": [
        "#### etc"
      ],
      "metadata": {
        "id": "LVCW4DiDM8K_"
      }
    },
    {
      "cell_type": "code",
      "source": [
        "def objectiveETC(trial:Trial) -> float:\n",
        "  score_list = []\n",
        "  params = {\n",
        "    'random_state':42,\n",
        "    'max_depth' : int(trial.suggest_discrete_uniform('max_depth',2, 30,2)),\n",
        "    'min_samples_leaf': int(trial.suggest_discrete_uniform('min_samples_leaf',2,20,2)),\n",
        "    'min_samples_split': int(trial.suggest_discrete_uniform('min_samples_split',2,20,2)),\n",
        "    'n_estimators': int(trial.suggest_discrete_uniform('n_estimators',100,550,10))}\n",
        "  for tr_idx, val_idx in skf.split(X_train, y_train):\n",
        "    X_tr, X_val = np.array(X_train)[tr_idx], np.array(X_train)[val_idx]\n",
        "    y_tr, y_val = np.array(y_train)[tr_idx], np.array(y_train)[val_idx]\n",
        "    etc = ExtraTreesClassifier(**params)\n",
        "    etc = etc.fit(X_tr, y_tr)\n",
        "    predictions = etc.predict(X_val)\n",
        "    score = accuracy_score(y_val, predictions)\n",
        "    score_list.append(score)\n",
        "  return np.mean(score_list)"
      ],
      "metadata": {
        "id": "EwO6-vXLTE1g"
      },
      "execution_count": null,
      "outputs": []
    },
    {
      "cell_type": "code",
      "source": [
        "etc_study = optuna.create_study(\n",
        "    study_name = 'ETC_test',\n",
        "    direction='maximize',\n",
        "    sampler = TPESampler(seed=42)\n",
        ")"
      ],
      "metadata": {
        "id": "lKrsMt7KUNiO",
        "colab": {
          "base_uri": "https://localhost:8080/"
        },
        "outputId": "249767bb-6434-4971-cf89-9eb900c8b479"
      },
      "execution_count": null,
      "outputs": [
        {
          "output_type": "stream",
          "name": "stderr",
          "text": [
            "\u001b[32m[I 2022-04-30 09:02:10,333]\u001b[0m A new study created in memory with name: ETC_test\u001b[0m\n"
          ]
        }
      ]
    },
    {
      "cell_type": "code",
      "source": [
        "# 'max_depth': 28.0, 'min_samples_leaf': 2.0, 'min_samples_split': 2.0, 'n_estimators': 290.0\n",
        "etc_study.optimize(objectiveETC, n_trials=50)\n",
        "print(\"Best Score:\", etc_study.best_value)\n",
        "print(\"Best trial:\", etc_study.best_trial.params)"
      ],
      "metadata": {
        "id": "_meyRdHCUThX",
        "colab": {
          "base_uri": "https://localhost:8080/"
        },
        "outputId": "31e2e963-cd1f-46c7-d027-f6a348cbed60"
      },
      "execution_count": null,
      "outputs": [
        {
          "output_type": "stream",
          "name": "stderr",
          "text": [
            "\u001b[32m[I 2022-04-30 09:02:46,146]\u001b[0m Trial 0 finished with value: 0.8224550637839568 and parameters: {'max_depth': 12.0, 'min_samples_leaf': 20.0, 'min_samples_split': 16.0, 'n_estimators': 370.0}. Best is trial 0 with value: 0.8224550637839568.\u001b[0m\n",
            "\u001b[32m[I 2022-04-30 09:03:18,975]\u001b[0m Trial 1 finished with value: 0.8108094704439772 and parameters: {'max_depth': 6.0, 'min_samples_leaf': 4.0, 'min_samples_split': 2.0, 'n_estimators': 490.0}. Best is trial 0 with value: 0.8224550637839568.\u001b[0m\n",
            "\u001b[32m[I 2022-04-30 09:04:11,624]\u001b[0m Trial 2 finished with value: 0.8276168341617123 and parameters: {'max_depth': 20.0, 'min_samples_leaf': 16.0, 'min_samples_split': 2.0, 'n_estimators': 540.0}. Best is trial 2 with value: 0.8276168341617123.\u001b[0m\n",
            "\u001b[32m[I 2022-04-30 09:04:31,860]\u001b[0m Trial 3 finished with value: 0.8413526710668986 and parameters: {'max_depth': 26.0, 'min_samples_leaf': 6.0, 'min_samples_split': 4.0, 'n_estimators': 180.0}. Best is trial 3 with value: 0.8413526710668986.\u001b[0m\n",
            "\u001b[32m[I 2022-04-30 09:04:51,498]\u001b[0m Trial 4 finished with value: 0.8210474504610055 and parameters: {'max_depth': 10.0, 'min_samples_leaf': 12.0, 'min_samples_split': 10.0, 'n_estimators': 230.0}. Best is trial 3 with value: 0.8413526710668986.\u001b[0m\n",
            "\u001b[32m[I 2022-04-30 09:05:21,870]\u001b[0m Trial 5 finished with value: 0.8473675018374728 and parameters: {'max_depth': 20.0, 'min_samples_leaf': 4.0, 'min_samples_split': 6.0, 'n_estimators': 260.0}. Best is trial 5 with value: 0.8473675018374728.\u001b[0m\n",
            "\u001b[32m[I 2022-04-30 09:05:53,028]\u001b[0m Trial 6 finished with value: 0.8261663767947198 and parameters: {'max_depth': 14.0, 'min_samples_leaf': 16.0, 'min_samples_split': 4.0, 'n_estimators': 330.0}. Best is trial 5 with value: 0.8473675018374728.\u001b[0m\n",
            "\u001b[32m[I 2022-04-30 09:06:13,513]\u001b[0m Trial 7 finished with value: 0.8526998479081918 and parameters: {'max_depth': 18.0, 'min_samples_leaf': 2.0, 'min_samples_split': 14.0, 'n_estimators': 170.0}. Best is trial 7 with value: 0.8526998479081918.\u001b[0m\n",
            "\u001b[32m[I 2022-04-30 09:06:33,947]\u001b[0m Trial 8 finished with value: 0.786152968701107 and parameters: {'max_depth': 2.0, 'min_samples_leaf': 20.0, 'min_samples_split': 20.0, 'n_estimators': 470.0}. Best is trial 7 with value: 0.8526998479081918.\u001b[0m\n",
            "\u001b[32m[I 2022-04-30 09:07:00,271]\u001b[0m Trial 9 finished with value: 0.8266782312232112 and parameters: {'max_depth': 10.0, 'min_samples_leaf': 2.0, 'min_samples_split': 14.0, 'n_estimators': 300.0}. Best is trial 7 with value: 0.8526998479081918.\u001b[0m\n",
            "\u001b[32m[I 2022-04-30 09:07:10,967]\u001b[0m Trial 10 finished with value: 0.8367884432057169 and parameters: {'max_depth': 30.0, 'min_samples_leaf': 8.0, 'min_samples_split': 10.0, 'n_estimators': 100.0}. Best is trial 7 with value: 0.8526998479081918.\u001b[0m\n",
            "\u001b[32m[I 2022-04-30 09:07:36,313]\u001b[0m Trial 11 finished with value: 0.8615727857543097 and parameters: {'max_depth': 20.0, 'min_samples_leaf': 2.0, 'min_samples_split': 6.0, 'n_estimators': 200.0}. Best is trial 11 with value: 0.8615727857543097.\u001b[0m\n",
            "\u001b[32m[I 2022-04-30 09:07:54,060]\u001b[0m Trial 12 finished with value: 0.8595252406907443 and parameters: {'max_depth': 20.0, 'min_samples_leaf': 2.0, 'min_samples_split': 8.0, 'n_estimators': 140.0}. Best is trial 11 with value: 0.8615727857543097.\u001b[0m\n",
            "\u001b[32m[I 2022-04-30 09:08:04,422]\u001b[0m Trial 13 finished with value: 0.8329063361883902 and parameters: {'max_depth': 24.0, 'min_samples_leaf': 10.0, 'min_samples_split': 8.0, 'n_estimators': 100.0}. Best is trial 11 with value: 0.8615727857543097.\u001b[0m\n",
            "\u001b[32m[I 2022-04-30 09:08:23,448]\u001b[0m Trial 14 finished with value: 0.8407128484830844 and parameters: {'max_depth': 24.0, 'min_samples_leaf': 6.0, 'min_samples_split': 8.0, 'n_estimators': 170.0}. Best is trial 11 with value: 0.8615727857543097.\u001b[0m\n",
            "\u001b[32m[I 2022-04-30 09:08:49,056]\u001b[0m Trial 15 finished with value: 0.8514199844269632 and parameters: {'max_depth': 16.0, 'min_samples_leaf': 2.0, 'min_samples_split': 6.0, 'n_estimators': 220.0}. Best is trial 11 with value: 0.8615727857543097.\u001b[0m\n",
            "\u001b[32m[I 2022-04-30 09:09:28,892]\u001b[0m Trial 16 finished with value: 0.8306456806654199 and parameters: {'max_depth': 30.0, 'min_samples_leaf': 12.0, 'min_samples_split': 12.0, 'n_estimators': 390.0}. Best is trial 11 with value: 0.8615727857543097.\u001b[0m\n",
            "\u001b[32m[I 2022-04-30 09:09:44,419]\u001b[0m Trial 17 finished with value: 0.8393049804609328 and parameters: {'max_depth': 20.0, 'min_samples_leaf': 6.0, 'min_samples_split': 8.0, 'n_estimators': 140.0}. Best is trial 11 with value: 0.8615727857543097.\u001b[0m\n",
            "\u001b[32m[I 2022-04-30 09:10:12,367]\u001b[0m Trial 18 finished with value: 0.8356366206510112 and parameters: {'max_depth': 26.0, 'min_samples_leaf': 8.0, 'min_samples_split': 6.0, 'n_estimators': 260.0}. Best is trial 11 with value: 0.8615727857543097.\u001b[0m\n",
            "\u001b[32m[I 2022-04-30 09:10:36,296]\u001b[0m Trial 19 finished with value: 0.8404995560956795 and parameters: {'max_depth': 16.0, 'min_samples_leaf': 4.0, 'min_samples_split': 12.0, 'n_estimators': 220.0}. Best is trial 11 with value: 0.8615727857543097.\u001b[0m\n",
            "\u001b[32m[I 2022-04-30 09:10:50,156]\u001b[0m Trial 20 finished with value: 0.8297070595341187 and parameters: {'max_depth': 22.0, 'min_samples_leaf': 14.0, 'min_samples_split': 18.0, 'n_estimators': 140.0}. Best is trial 11 with value: 0.8615727857543097.\u001b[0m\n",
            "\u001b[32m[I 2022-04-30 09:11:10,449]\u001b[0m Trial 21 finished with value: 0.8526998479081918 and parameters: {'max_depth': 18.0, 'min_samples_leaf': 2.0, 'min_samples_split': 14.0, 'n_estimators': 170.0}. Best is trial 11 with value: 0.8615727857543097.\u001b[0m\n",
            "\u001b[32m[I 2022-04-30 09:11:27,210]\u001b[0m Trial 22 finished with value: 0.8524438752119462 and parameters: {'max_depth': 18.0, 'min_samples_leaf': 2.0, 'min_samples_split': 14.0, 'n_estimators': 140.0}. Best is trial 11 with value: 0.8615727857543097.\u001b[0m\n",
            "\u001b[32m[I 2022-04-30 09:11:48,102]\u001b[0m Trial 23 finished with value: 0.837342759629449 and parameters: {'max_depth': 14.0, 'min_samples_leaf': 4.0, 'min_samples_split': 10.0, 'n_estimators': 200.0}. Best is trial 11 with value: 0.8615727857543097.\u001b[0m\n",
            "\u001b[32m[I 2022-04-30 09:12:16,002]\u001b[0m Trial 24 finished with value: 0.8358925933472567 and parameters: {'max_depth': 22.0, 'min_samples_leaf': 8.0, 'min_samples_split': 16.0, 'n_estimators': 260.0}. Best is trial 11 with value: 0.8615727857543097.\u001b[0m\n",
            "\u001b[32m[I 2022-04-30 09:12:54,405]\u001b[0m Trial 25 finished with value: 0.8585441575642024 and parameters: {'max_depth': 18.0, 'min_samples_leaf': 2.0, 'min_samples_split': 4.0, 'n_estimators': 310.0}. Best is trial 11 with value: 0.8615727857543097.\u001b[0m\n",
            "\u001b[32m[I 2022-04-30 09:13:32,495]\u001b[0m Trial 26 finished with value: 0.8491592561327929 and parameters: {'max_depth': 24.0, 'min_samples_leaf': 4.0, 'min_samples_split': 4.0, 'n_estimators': 320.0}. Best is trial 11 with value: 0.8615727857543097.\u001b[0m\n",
            "\u001b[32m[I 2022-04-30 09:14:13,476]\u001b[0m Trial 27 finished with value: 0.8335889482378454 and parameters: {'max_depth': 14.0, 'min_samples_leaf': 6.0, 'min_samples_split': 6.0, 'n_estimators': 400.0}. Best is trial 11 with value: 0.8615727857543097.\u001b[0m\n",
            "\u001b[32m[I 2022-04-30 09:14:53,140]\u001b[0m Trial 28 finished with value: 0.8730052504420851 and parameters: {'max_depth': 28.0, 'min_samples_leaf': 2.0, 'min_samples_split': 2.0, 'n_estimators': 290.0}. Best is trial 28 with value: 0.8730052504420851.\u001b[0m\n",
            "\u001b[32m[I 2022-04-30 09:15:22,623]\u001b[0m Trial 29 finished with value: 0.8337596148948092 and parameters: {'max_depth': 28.0, 'min_samples_leaf': 10.0, 'min_samples_split': 2.0, 'n_estimators': 280.0}. Best is trial 28 with value: 0.8730052504420851.\u001b[0m\n",
            "\u001b[32m[I 2022-04-30 09:15:45,430]\u001b[0m Trial 30 finished with value: 0.8257397738271102 and parameters: {'max_depth': 28.0, 'min_samples_leaf': 20.0, 'min_samples_split': 8.0, 'n_estimators': 240.0}. Best is trial 28 with value: 0.8730052504420851.\u001b[0m\n",
            "\u001b[32m[I 2022-04-30 09:16:30,031]\u001b[0m Trial 31 finished with value: 0.8666919122088241 and parameters: {'max_depth': 22.0, 'min_samples_leaf': 2.0, 'min_samples_split': 4.0, 'n_estimators': 340.0}. Best is trial 28 with value: 0.8730052504420851.\u001b[0m\n",
            "\u001b[32m[I 2022-04-30 09:17:21,945]\u001b[0m Trial 32 finished with value: 0.8491592743255929 and parameters: {'max_depth': 22.0, 'min_samples_leaf': 4.0, 'min_samples_split': 2.0, 'n_estimators': 440.0}. Best is trial 28 with value: 0.8730052504420851.\u001b[0m\n",
            "\u001b[32m[I 2022-04-30 09:18:06,320]\u001b[0m Trial 33 finished with value: 0.8495004075187204 and parameters: {'max_depth': 26.0, 'min_samples_leaf': 4.0, 'min_samples_split': 2.0, 'n_estimators': 370.0}. Best is trial 28 with value: 0.8730052504420851.\u001b[0m\n",
            "\u001b[32m[I 2022-04-30 09:18:53,594]\u001b[0m Trial 34 finished with value: 0.8667346107104652 and parameters: {'max_depth': 22.0, 'min_samples_leaf': 2.0, 'min_samples_split': 4.0, 'n_estimators': 360.0}. Best is trial 28 with value: 0.8730052504420851.\u001b[0m\n",
            "\u001b[32m[I 2022-04-30 09:19:33,193]\u001b[0m Trial 35 finished with value: 0.8416086437631443 and parameters: {'max_depth': 28.0, 'min_samples_leaf': 6.0, 'min_samples_split': 4.0, 'n_estimators': 350.0}. Best is trial 28 with value: 0.8730052504420851.\u001b[0m\n",
            "\u001b[32m[I 2022-04-30 09:20:30,010]\u001b[0m Trial 36 finished with value: 0.8666919304016242 and parameters: {'max_depth': 22.0, 'min_samples_leaf': 2.0, 'min_samples_split': 2.0, 'n_estimators': 430.0}. Best is trial 28 with value: 0.8730052504420851.\u001b[0m\n",
            "\u001b[32m[I 2022-04-30 09:21:35,710]\u001b[0m Trial 37 finished with value: 0.8502256816842166 and parameters: {'max_depth': 26.0, 'min_samples_leaf': 4.0, 'min_samples_split': 2.0, 'n_estimators': 550.0}. Best is trial 28 with value: 0.8730052504420851.\u001b[0m\n",
            "\u001b[32m[I 2022-04-30 09:22:23,529]\u001b[0m Trial 38 finished with value: 0.8411820771811348 and parameters: {'max_depth': 24.0, 'min_samples_leaf': 6.0, 'min_samples_split': 2.0, 'n_estimators': 430.0}. Best is trial 28 with value: 0.8730052504420851.\u001b[0m\n",
            "\u001b[32m[I 2022-04-30 09:23:23,747]\u001b[0m Trial 39 finished with value: 0.84992711964313 and parameters: {'max_depth': 22.0, 'min_samples_leaf': 4.0, 'min_samples_split': 4.0, 'n_estimators': 510.0}. Best is trial 28 with value: 0.8730052504420851.\u001b[0m\n",
            "\u001b[32m[I 2022-04-30 09:23:57,118]\u001b[0m Trial 40 finished with value: 0.8265076191446473 and parameters: {'max_depth': 30.0, 'min_samples_leaf': 18.0, 'min_samples_split': 4.0, 'n_estimators': 350.0}. Best is trial 28 with value: 0.8730052504420851.\u001b[0m\n",
            "\u001b[32m[I 2022-04-30 09:24:47,810]\u001b[0m Trial 41 finished with value: 0.8607623692847317 and parameters: {'max_depth': 20.0, 'min_samples_leaf': 2.0, 'min_samples_split': 6.0, 'n_estimators': 400.0}. Best is trial 28 with value: 0.8730052504420851.\u001b[0m\n",
            "\u001b[32m[I 2022-04-30 09:25:44,310]\u001b[0m Trial 42 finished with value: 0.8666919304016242 and parameters: {'max_depth': 22.0, 'min_samples_leaf': 2.0, 'min_samples_split': 4.0, 'n_estimators': 430.0}. Best is trial 28 with value: 0.8730052504420851.\u001b[0m\n",
            "\u001b[32m[I 2022-04-30 09:26:41,775]\u001b[0m Trial 43 finished with value: 0.8693367450897632 and parameters: {'max_depth': 24.0, 'min_samples_leaf': 2.0, 'min_samples_split': 2.0, 'n_estimators': 430.0}. Best is trial 28 with value: 0.8730052504420851.\u001b[0m\n",
            "\u001b[32m[I 2022-04-30 09:27:44,573]\u001b[0m Trial 44 finished with value: 0.8726638625497574 and parameters: {'max_depth': 28.0, 'min_samples_leaf': 2.0, 'min_samples_split': 2.0, 'n_estimators': 460.0}. Best is trial 28 with value: 0.8730052504420851.\u001b[0m\n",
            "\u001b[32m[I 2022-04-30 09:28:41,466]\u001b[0m Trial 45 finished with value: 0.8500551241840529 and parameters: {'max_depth': 28.0, 'min_samples_leaf': 4.0, 'min_samples_split': 2.0, 'n_estimators': 480.0}. Best is trial 28 with value: 0.8730052504420851.\u001b[0m\n",
            "\u001b[32m[I 2022-04-30 09:29:42,917]\u001b[0m Trial 46 finished with value: 0.8501829286041757 and parameters: {'max_depth': 26.0, 'min_samples_leaf': 4.0, 'min_samples_split': 2.0, 'n_estimators': 520.0}. Best is trial 28 with value: 0.8730052504420851.\u001b[0m\n",
            "\u001b[32m[I 2022-04-30 09:30:08,187]\u001b[0m Trial 47 finished with value: 0.8002299751850208 and parameters: {'max_depth': 4.0, 'min_samples_leaf': 2.0, 'min_samples_split': 4.0, 'n_estimators': 460.0}. Best is trial 28 with value: 0.8730052504420851.\u001b[0m\n",
            "\u001b[32m[I 2022-04-30 09:31:08,789]\u001b[0m Trial 48 finished with value: 0.8724932322783936 and parameters: {'max_depth': 28.0, 'min_samples_leaf': 2.0, 'min_samples_split': 4.0, 'n_estimators': 450.0}. Best is trial 28 with value: 0.8730052504420851.\u001b[0m\n",
            "\u001b[32m[I 2022-04-30 09:32:07,762]\u001b[0m Trial 49 finished with value: 0.8503537408035395 and parameters: {'max_depth': 28.0, 'min_samples_leaf': 4.0, 'min_samples_split': 6.0, 'n_estimators': 500.0}. Best is trial 28 with value: 0.8730052504420851.\u001b[0m\n"
          ]
        },
        {
          "output_type": "stream",
          "name": "stdout",
          "text": [
            "Best Score: 0.8730052504420851\n",
            "Best trial: {'max_depth': 28.0, 'min_samples_leaf': 2.0, 'min_samples_split': 2.0, 'n_estimators': 290.0}\n"
          ]
        }
      ]
    },
    {
      "cell_type": "markdown",
      "source": [
        "#### 튜닝 후 적합한 하이퍼파라미터를 찾아 모델 돌리기"
      ],
      "metadata": {
        "id": "3Uw36gxQUlY5"
      }
    },
    {
      "cell_type": "code",
      "source": [
        "knn = KNeighborsClassifier(n_neighbors=6, weights='distance')\n",
        "svc = SVC(kernel='rbf',C=10)\n",
        "dt = DecisionTreeClassifier(max_depth=18, min_samples_leaf=8, min_samples_split=6, random_state=42)\n",
        "rf = RandomForestClassifier(max_depth=int(rf_study.best_params['max_depth']),min_samples_leaf=int(rf_study.best_params['min_samples_leaf']),\n",
        "                           min_samples_split=int(rf_study.best_params['min_samples_split']),\n",
        "                           n_estimators=int(rf_study.best_params['n_estimators']), random_state=42)\n",
        "xgb = XGBClassifier(max_depth=int(xgb_study.best_params['max_depth']), colsample_bytree=xgb_study.best_params['colsample_bytree'],\n",
        "                   learning_rate=xgb_study.best_params['learning_rate'], n_estimators=int(xgb_study.best_params['n_estimators']), \n",
        "                    subsample=xgb_study.best_params['subsample'], random_state=42)\n",
        "lgb = LGBMClassifier(max_depth=int(lgb_study.best_params['max_depth']), colsample_bytree=lgb_study.best_params['colsample_bytree'],\n",
        "                    learning_rate=lgb_study.best_params['learning_rate'], n_estimators=int(lgb_study.best_params['n_estimators']),\n",
        "                    subsample=lgb_study.best_params['subsample'], random_state=42)\n",
        "etc = ExtraTreesClassifier(max_depth=int(etc_study.best_params['max_depth']), min_samples_leaf=int(etc_study.best_params['min_samples_leaf']),\n",
        "                          min_samples_split=int(etc_study.best_params['min_samples_split']), n_estimators=int(etc_study.best_params['n_estimators']), random_state=42)\n",
        "cat = CatBoostClassifier(silent=True)\n",
        "\n",
        "tuned_model_list = [knn,svc, dt, rf, xgb,lgb,etc,cat]"
      ],
      "metadata": {
        "id": "s6mcRGEVU2IK"
      },
      "execution_count": null,
      "outputs": []
    },
    {
      "cell_type": "code",
      "source": [
        "for model in tuned_model_list:\n",
        "  return_score(model)"
      ],
      "metadata": {
        "id": "xdBgBvCgWFwq",
        "colab": {
          "base_uri": "https://localhost:8080/"
        },
        "outputId": "64c7eeaa-1475-4631-b462-e3e87362a5df"
      },
      "execution_count": null,
      "outputs": [
        {
          "output_type": "stream",
          "name": "stdout",
          "text": [
            "KNeighborsClassifier(n_neighbors=6, weights='distance')\n",
            "average_accuracy:  0.8753959117139802\n",
            "SVC(C=10)\n",
            "average_accuracy:  0.8342294985336605\n",
            "DecisionTreeClassifier(max_depth=18, min_samples_leaf=8, min_samples_split=6,\n",
            "                       random_state=42)\n",
            "average_accuracy:  0.8476715035257646\n",
            "RandomForestClassifier(max_depth=28, min_samples_leaf=2, n_estimators=340,\n",
            "                       random_state=42)\n",
            "average_accuracy:  0.8923773987206822\n",
            "XGBClassifier(colsample_bytree=0.856878714034877,\n",
            "              learning_rate=0.03383346450252323, max_depth=16, n_estimators=370,\n",
            "              random_state=42, subsample=0.9006737249928406)\n",
            "average_accuracy:  0.9012957821812441\n",
            "LGBMClassifier(colsample_bytree=0.9008817382408082,\n",
            "               learning_rate=0.04351434959285246, max_depth=16,\n",
            "               n_estimators=510, random_state=42, subsample=0.7972020953273637)\n",
            "average_accuracy:  0.8963478135892938\n",
            "ExtraTreesClassifier(max_depth=28, min_samples_leaf=2, n_estimators=290,\n",
            "                     random_state=42)\n",
            "average_accuracy:  0.873434400401697\n",
            "<catboost.core.CatBoostClassifier object at 0x7f556a2fe890>\n",
            "average_accuracy:  0.8969023483266263\n"
          ]
        }
      ]
    },
    {
      "cell_type": "markdown",
      "source": [
        "### 여러 모델들을 종합해서 사용"
      ],
      "metadata": {
        "id": "cTHRoBNnWN24"
      }
    },
    {
      "cell_type": "code",
      "source": [
        "knn = KNeighborsClassifier(n_neighbors=6, weights='distance')\n",
        "svc = SVC()\n",
        "dt = DecisionTreeClassifier(max_depth=18, min_samples_leaf=8, min_samples_split=6, random_state=42)\n",
        "rf = RandomForestClassifier(max_depth=int(rf_study.best_params['max_depth']),min_samples_leaf=int(rf_study.best_params['min_samples_leaf']),\n",
        "                           min_samples_split=int(rf_study.best_params['min_samples_split']),\n",
        "                           n_estimators=int(rf_study.best_params['n_estimators']), random_state=42)\n",
        "xgb = XGBClassifier(max_depth=int(xgb_study.best_params['max_depth']), colsample_bytree=xgb_study.best_params['colsample_bytree'],\n",
        "                   learning_rate=xgb_study.best_params['learning_rate'], n_estimators=int(xgb_study.best_params['n_estimators']), \n",
        "                    subsample=xgb_study.best_params['subsample'], random_state=42)\n",
        "lgb = LGBMClassifier(max_depth=int(lgb_study.best_params['max_depth']), colsample_bytree=lgb_study.best_params['colsample_bytree'],\n",
        "                    learning_rate=lgb_study.best_params['learning_rate'], n_estimators=int(lgb_study.best_params['n_estimators']),\n",
        "                    subsample=lgb_study.best_params['subsample'], random_state=42)\n",
        "etc = ExtraTreesClassifier(max_depth=int(etc_study.best_params['max_depth']), min_samples_leaf=int(etc_study.best_params['min_samples_leaf']),\n",
        "                          min_samples_split=int(etc_study.best_params['min_samples_split']), n_estimators=int(etc_study.best_params['n_estimators']), random_state=42)\n",
        "cat = CatBoostClassifier(silent=True)\n",
        "\n",
        "final_model_list = [knn,svc, dt, rf, xgb,lgb,etc,cat]"
      ],
      "metadata": {
        "id": "N5_Y3pWpWMOF"
      },
      "execution_count": null,
      "outputs": []
    },
    {
      "cell_type": "code",
      "source": [
        "cat._estimator_type = 'classifier'"
      ],
      "metadata": {
        "id": "0uVGWFTHWX7H"
      },
      "execution_count": null,
      "outputs": []
    },
    {
      "cell_type": "code",
      "source": [
        "soft_voting = VotingClassifier(estimators=[('dt',dt),('rf',rf),('xgb',xgb),('lgb',lgb),('etc',etc),('cat',cat)],voting='soft')\n",
        "hard_voting = VotingClassifier(estimators=[('knn',knn),('dt',dt),('rf',rf), ('xgb',xgb),('lgb',lgb),('etc',etc),('cat',cat)],voting='hard')\n",
        "stacking = StackingClassifier(estimators = [('knn',knn), ('rf',rf), ('xgb',xgb),('lgb',lgb),('etc',etc),('cat',cat)], final_estimator=lgb)"
      ],
      "metadata": {
        "id": "dXXAxEuhWcwv"
      },
      "execution_count": null,
      "outputs": []
    },
    {
      "cell_type": "markdown",
      "source": [
        "## 제출할 파일 생성"
      ],
      "metadata": {
        "id": "FpVZmcsBWh_p"
      }
    },
    {
      "cell_type": "code",
      "source": [
        "submission = pd.read_csv('sample_submission.csv')"
      ],
      "metadata": {
        "id": "io11WkGqWlO7"
      },
      "execution_count": null,
      "outputs": []
    },
    {
      "cell_type": "code",
      "source": [
        "X_train = np.array(X_train)\n",
        "y_train = np.array(y_train)\n",
        "X_test = np.array(X_test)"
      ],
      "metadata": {
        "id": "rwhPfWREXW-t"
      },
      "execution_count": null,
      "outputs": []
    },
    {
      "cell_type": "code",
      "source": [
        "stacking.fit(X_train, y_train)\n",
        "hard_voting.fit(X_train, y_train)\n",
        "soft_voting.fit(X_train, y_train)"
      ],
      "metadata": {
        "id": "Xr-ir77fXX1f",
        "colab": {
          "base_uri": "https://localhost:8080/"
        },
        "outputId": "25e55e6f-44c8-4720-f836-4c7a9ceb4a69"
      },
      "execution_count": null,
      "outputs": [
        {
          "output_type": "execute_result",
          "data": {
            "text/plain": [
              "VotingClassifier(estimators=[('dt',\n",
              "                              DecisionTreeClassifier(max_depth=18,\n",
              "                                                     min_samples_leaf=8,\n",
              "                                                     min_samples_split=6,\n",
              "                                                     random_state=42)),\n",
              "                             ('rf',\n",
              "                              RandomForestClassifier(max_depth=28,\n",
              "                                                     min_samples_leaf=2,\n",
              "                                                     n_estimators=340,\n",
              "                                                     random_state=42)),\n",
              "                             ('xgb',\n",
              "                              XGBClassifier(colsample_bytree=0.856878714034877,\n",
              "                                            learning_rate=0.03383346450252323,\n",
              "                                            max_depth=16, n_estimators=370,\n",
              "                                            random...\n",
              "                                            subsample=0.9006737249928406)),\n",
              "                             ('lgb',\n",
              "                              LGBMClassifier(colsample_bytree=0.9008817382408082,\n",
              "                                             learning_rate=0.04351434959285246,\n",
              "                                             max_depth=16, n_estimators=510,\n",
              "                                             random_state=42,\n",
              "                                             subsample=0.7972020953273637)),\n",
              "                             ('etc',\n",
              "                              ExtraTreesClassifier(max_depth=28,\n",
              "                                                   min_samples_leaf=2,\n",
              "                                                   n_estimators=290,\n",
              "                                                   random_state=42)),\n",
              "                             ('cat',\n",
              "                              <catboost.core.CatBoostClassifier object at 0x7f556a31dfd0>)],\n",
              "                 voting='soft')"
            ]
          },
          "metadata": {},
          "execution_count": 97
        }
      ]
    },
    {
      "cell_type": "code",
      "source": [
        "prediction1 = stacking.predict(X_test)\n",
        "prediction2 = hard_voting.predict(X_test)\n",
        "prediction3 = soft_voting.predict(X_test)"
      ],
      "metadata": {
        "id": "WRd5fJNIXaoh"
      },
      "execution_count": null,
      "outputs": []
    },
    {
      "cell_type": "code",
      "source": [
        "submission['target'] = prediction1\n",
        "submission.to_csv('stacking_1.csv', index=False)\n",
        "submission['target'].value_counts()"
      ],
      "metadata": {
        "id": "WN7YqZ2-XblS",
        "colab": {
          "base_uri": "https://localhost:8080/"
        },
        "outputId": "0dc590b2-636d-407b-a4e5-78c989c69f45"
      },
      "execution_count": null,
      "outputs": [
        {
          "output_type": "execute_result",
          "data": {
            "text/plain": [
              "0    12177\n",
              "1     2904\n",
              "Name: target, dtype: int64"
            ]
          },
          "metadata": {},
          "execution_count": 99
        }
      ]
    },
    {
      "cell_type": "code",
      "source": [
        "submission['target'] = prediction2\n",
        "submission.to_csv('hard_voting_1.csv', index=False)\n",
        "submission['target'].value_counts()"
      ],
      "metadata": {
        "id": "tPYm1q0u_SpX",
        "colab": {
          "base_uri": "https://localhost:8080/"
        },
        "outputId": "feb5575e-8ae3-4169-f5da-815f30b2526a"
      },
      "execution_count": null,
      "outputs": [
        {
          "output_type": "execute_result",
          "data": {
            "text/plain": [
              "0    10970\n",
              "1     4111\n",
              "Name: target, dtype: int64"
            ]
          },
          "metadata": {},
          "execution_count": 100
        }
      ]
    },
    {
      "cell_type": "code",
      "source": [
        "submission['target'] = prediction3\n",
        "submission.to_csv('soft_voting_1.csv', index=False)\n",
        "submission['target'].value_counts()"
      ],
      "metadata": {
        "id": "FOtHBJEP_ZNN",
        "colab": {
          "base_uri": "https://localhost:8080/"
        },
        "outputId": "c1ab2381-102b-49d7-84f5-9678dbdf307e"
      },
      "execution_count": null,
      "outputs": [
        {
          "output_type": "execute_result",
          "data": {
            "text/plain": [
              "0    11077\n",
              "1     4004\n",
              "Name: target, dtype: int64"
            ]
          },
          "metadata": {},
          "execution_count": 101
        }
      ]
    }
  ]
}