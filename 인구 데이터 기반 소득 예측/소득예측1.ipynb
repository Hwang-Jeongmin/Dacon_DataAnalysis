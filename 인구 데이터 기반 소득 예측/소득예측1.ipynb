{
  "cells": [
    {
      "cell_type": "markdown",
      "metadata": {
        "id": "ONxiUYzNeNWN"
      },
      "source": [
        "## EDA 및 전처리"
      ]
    },
    {
      "cell_type": "markdown",
      "metadata": {
        "id": "6gbyz5dQgC9A"
      },
      "source": [
        "### 데이터 불러오기 및 간단하게 데이터 살펴보기"
      ]
    },
    {
      "cell_type": "code",
      "execution_count": 1,
      "metadata": {
        "id": "Ge6-QgI8d9uM"
      },
      "outputs": [],
      "source": [
        "import numpy as np\n",
        "import pandas as pd\n",
        "import matplotlib.pyplot as plt\n",
        "import seaborn as sns"
      ]
    },
    {
      "cell_type": "code",
      "execution_count": 2,
      "metadata": {
        "colab": {
          "base_uri": "https://localhost:8080/",
          "height": 0
        },
        "id": "88YbtI-CeMtz",
        "outputId": "15ec979d-5e15-4b86-d0d8-e81b4d0d82a2"
      },
      "outputs": [
        {
          "output_type": "stream",
          "name": "stdout",
          "text": [
            "train df\n"
          ]
        },
        {
          "output_type": "display_data",
          "data": {
            "text/plain": [
              "    age workclass  fnlwgt     education  education.num      marital.status  \\\n",
              "id                                                                           \n",
              "0    32   Private  309513    Assoc-acdm             12  Married-civ-spouse   \n",
              "1    33   Private  205469  Some-college             10  Married-civ-spouse   \n",
              "2    46   Private  149949  Some-college             10  Married-civ-spouse   \n",
              "3    23   Private  193090     Bachelors             13       Never-married   \n",
              "4    55   Private   60193       HS-grad              9            Divorced   \n",
              "\n",
              "         occupation   relationship   race     sex  capital.gain  capital.loss  \\\n",
              "id                                                                              \n",
              "0      Craft-repair        Husband  White    Male             0             0   \n",
              "1   Exec-managerial        Husband  White    Male             0             0   \n",
              "2      Craft-repair        Husband  White    Male             0             0   \n",
              "3      Adm-clerical      Own-child  White  Female             0             0   \n",
              "4      Adm-clerical  Not-in-family  White  Female             0             0   \n",
              "\n",
              "    hours.per.week native.country  target  \n",
              "id                                         \n",
              "0               40  United-States       0  \n",
              "1               40  United-States       1  \n",
              "2               40  United-States       0  \n",
              "3               30  United-States       0  \n",
              "4               40  United-States       0  "
            ],
            "text/html": [
              "\n",
              "  <div id=\"df-88fb1bfe-28d6-4f33-a6b3-f1c38c443ace\">\n",
              "    <div class=\"colab-df-container\">\n",
              "      <div>\n",
              "<style scoped>\n",
              "    .dataframe tbody tr th:only-of-type {\n",
              "        vertical-align: middle;\n",
              "    }\n",
              "\n",
              "    .dataframe tbody tr th {\n",
              "        vertical-align: top;\n",
              "    }\n",
              "\n",
              "    .dataframe thead th {\n",
              "        text-align: right;\n",
              "    }\n",
              "</style>\n",
              "<table border=\"1\" class=\"dataframe\">\n",
              "  <thead>\n",
              "    <tr style=\"text-align: right;\">\n",
              "      <th></th>\n",
              "      <th>age</th>\n",
              "      <th>workclass</th>\n",
              "      <th>fnlwgt</th>\n",
              "      <th>education</th>\n",
              "      <th>education.num</th>\n",
              "      <th>marital.status</th>\n",
              "      <th>occupation</th>\n",
              "      <th>relationship</th>\n",
              "      <th>race</th>\n",
              "      <th>sex</th>\n",
              "      <th>capital.gain</th>\n",
              "      <th>capital.loss</th>\n",
              "      <th>hours.per.week</th>\n",
              "      <th>native.country</th>\n",
              "      <th>target</th>\n",
              "    </tr>\n",
              "    <tr>\n",
              "      <th>id</th>\n",
              "      <th></th>\n",
              "      <th></th>\n",
              "      <th></th>\n",
              "      <th></th>\n",
              "      <th></th>\n",
              "      <th></th>\n",
              "      <th></th>\n",
              "      <th></th>\n",
              "      <th></th>\n",
              "      <th></th>\n",
              "      <th></th>\n",
              "      <th></th>\n",
              "      <th></th>\n",
              "      <th></th>\n",
              "      <th></th>\n",
              "    </tr>\n",
              "  </thead>\n",
              "  <tbody>\n",
              "    <tr>\n",
              "      <th>0</th>\n",
              "      <td>32</td>\n",
              "      <td>Private</td>\n",
              "      <td>309513</td>\n",
              "      <td>Assoc-acdm</td>\n",
              "      <td>12</td>\n",
              "      <td>Married-civ-spouse</td>\n",
              "      <td>Craft-repair</td>\n",
              "      <td>Husband</td>\n",
              "      <td>White</td>\n",
              "      <td>Male</td>\n",
              "      <td>0</td>\n",
              "      <td>0</td>\n",
              "      <td>40</td>\n",
              "      <td>United-States</td>\n",
              "      <td>0</td>\n",
              "    </tr>\n",
              "    <tr>\n",
              "      <th>1</th>\n",
              "      <td>33</td>\n",
              "      <td>Private</td>\n",
              "      <td>205469</td>\n",
              "      <td>Some-college</td>\n",
              "      <td>10</td>\n",
              "      <td>Married-civ-spouse</td>\n",
              "      <td>Exec-managerial</td>\n",
              "      <td>Husband</td>\n",
              "      <td>White</td>\n",
              "      <td>Male</td>\n",
              "      <td>0</td>\n",
              "      <td>0</td>\n",
              "      <td>40</td>\n",
              "      <td>United-States</td>\n",
              "      <td>1</td>\n",
              "    </tr>\n",
              "    <tr>\n",
              "      <th>2</th>\n",
              "      <td>46</td>\n",
              "      <td>Private</td>\n",
              "      <td>149949</td>\n",
              "      <td>Some-college</td>\n",
              "      <td>10</td>\n",
              "      <td>Married-civ-spouse</td>\n",
              "      <td>Craft-repair</td>\n",
              "      <td>Husband</td>\n",
              "      <td>White</td>\n",
              "      <td>Male</td>\n",
              "      <td>0</td>\n",
              "      <td>0</td>\n",
              "      <td>40</td>\n",
              "      <td>United-States</td>\n",
              "      <td>0</td>\n",
              "    </tr>\n",
              "    <tr>\n",
              "      <th>3</th>\n",
              "      <td>23</td>\n",
              "      <td>Private</td>\n",
              "      <td>193090</td>\n",
              "      <td>Bachelors</td>\n",
              "      <td>13</td>\n",
              "      <td>Never-married</td>\n",
              "      <td>Adm-clerical</td>\n",
              "      <td>Own-child</td>\n",
              "      <td>White</td>\n",
              "      <td>Female</td>\n",
              "      <td>0</td>\n",
              "      <td>0</td>\n",
              "      <td>30</td>\n",
              "      <td>United-States</td>\n",
              "      <td>0</td>\n",
              "    </tr>\n",
              "    <tr>\n",
              "      <th>4</th>\n",
              "      <td>55</td>\n",
              "      <td>Private</td>\n",
              "      <td>60193</td>\n",
              "      <td>HS-grad</td>\n",
              "      <td>9</td>\n",
              "      <td>Divorced</td>\n",
              "      <td>Adm-clerical</td>\n",
              "      <td>Not-in-family</td>\n",
              "      <td>White</td>\n",
              "      <td>Female</td>\n",
              "      <td>0</td>\n",
              "      <td>0</td>\n",
              "      <td>40</td>\n",
              "      <td>United-States</td>\n",
              "      <td>0</td>\n",
              "    </tr>\n",
              "  </tbody>\n",
              "</table>\n",
              "</div>\n",
              "      <button class=\"colab-df-convert\" onclick=\"convertToInteractive('df-88fb1bfe-28d6-4f33-a6b3-f1c38c443ace')\"\n",
              "              title=\"Convert this dataframe to an interactive table.\"\n",
              "              style=\"display:none;\">\n",
              "        \n",
              "  <svg xmlns=\"http://www.w3.org/2000/svg\" height=\"24px\"viewBox=\"0 0 24 24\"\n",
              "       width=\"24px\">\n",
              "    <path d=\"M0 0h24v24H0V0z\" fill=\"none\"/>\n",
              "    <path d=\"M18.56 5.44l.94 2.06.94-2.06 2.06-.94-2.06-.94-.94-2.06-.94 2.06-2.06.94zm-11 1L8.5 8.5l.94-2.06 2.06-.94-2.06-.94L8.5 2.5l-.94 2.06-2.06.94zm10 10l.94 2.06.94-2.06 2.06-.94-2.06-.94-.94-2.06-.94 2.06-2.06.94z\"/><path d=\"M17.41 7.96l-1.37-1.37c-.4-.4-.92-.59-1.43-.59-.52 0-1.04.2-1.43.59L10.3 9.45l-7.72 7.72c-.78.78-.78 2.05 0 2.83L4 21.41c.39.39.9.59 1.41.59.51 0 1.02-.2 1.41-.59l7.78-7.78 2.81-2.81c.8-.78.8-2.07 0-2.86zM5.41 20L4 18.59l7.72-7.72 1.47 1.35L5.41 20z\"/>\n",
              "  </svg>\n",
              "      </button>\n",
              "      \n",
              "  <style>\n",
              "    .colab-df-container {\n",
              "      display:flex;\n",
              "      flex-wrap:wrap;\n",
              "      gap: 12px;\n",
              "    }\n",
              "\n",
              "    .colab-df-convert {\n",
              "      background-color: #E8F0FE;\n",
              "      border: none;\n",
              "      border-radius: 50%;\n",
              "      cursor: pointer;\n",
              "      display: none;\n",
              "      fill: #1967D2;\n",
              "      height: 32px;\n",
              "      padding: 0 0 0 0;\n",
              "      width: 32px;\n",
              "    }\n",
              "\n",
              "    .colab-df-convert:hover {\n",
              "      background-color: #E2EBFA;\n",
              "      box-shadow: 0px 1px 2px rgba(60, 64, 67, 0.3), 0px 1px 3px 1px rgba(60, 64, 67, 0.15);\n",
              "      fill: #174EA6;\n",
              "    }\n",
              "\n",
              "    [theme=dark] .colab-df-convert {\n",
              "      background-color: #3B4455;\n",
              "      fill: #D2E3FC;\n",
              "    }\n",
              "\n",
              "    [theme=dark] .colab-df-convert:hover {\n",
              "      background-color: #434B5C;\n",
              "      box-shadow: 0px 1px 3px 1px rgba(0, 0, 0, 0.15);\n",
              "      filter: drop-shadow(0px 1px 2px rgba(0, 0, 0, 0.3));\n",
              "      fill: #FFFFFF;\n",
              "    }\n",
              "  </style>\n",
              "\n",
              "      <script>\n",
              "        const buttonEl =\n",
              "          document.querySelector('#df-88fb1bfe-28d6-4f33-a6b3-f1c38c443ace button.colab-df-convert');\n",
              "        buttonEl.style.display =\n",
              "          google.colab.kernel.accessAllowed ? 'block' : 'none';\n",
              "\n",
              "        async function convertToInteractive(key) {\n",
              "          const element = document.querySelector('#df-88fb1bfe-28d6-4f33-a6b3-f1c38c443ace');\n",
              "          const dataTable =\n",
              "            await google.colab.kernel.invokeFunction('convertToInteractive',\n",
              "                                                     [key], {});\n",
              "          if (!dataTable) return;\n",
              "\n",
              "          const docLinkHtml = 'Like what you see? Visit the ' +\n",
              "            '<a target=\"_blank\" href=https://colab.research.google.com/notebooks/data_table.ipynb>data table notebook</a>'\n",
              "            + ' to learn more about interactive tables.';\n",
              "          element.innerHTML = '';\n",
              "          dataTable['output_type'] = 'display_data';\n",
              "          await google.colab.output.renderOutput(dataTable, element);\n",
              "          const docLink = document.createElement('div');\n",
              "          docLink.innerHTML = docLinkHtml;\n",
              "          element.appendChild(docLink);\n",
              "        }\n",
              "      </script>\n",
              "    </div>\n",
              "  </div>\n",
              "  "
            ]
          },
          "metadata": {}
        },
        {
          "output_type": "stream",
          "name": "stdout",
          "text": [
            "test df\n"
          ]
        },
        {
          "output_type": "display_data",
          "data": {
            "text/plain": [
              "    age     workclass  fnlwgt     education  education.num  \\\n",
              "id                                                           \n",
              "0    47       Private  304133  Some-college             10   \n",
              "1    34  Self-emp-inc  154227  Some-college             10   \n",
              "2    31     Local-gov  158291     Bachelors             13   \n",
              "3    28       Private  183155     Bachelors             13   \n",
              "4    54     Local-gov  182543  Some-college             10   \n",
              "\n",
              "        marital.status       occupation   relationship   race     sex  \\\n",
              "id                                                                      \n",
              "0   Married-civ-spouse  Exec-managerial        Husband  White    Male   \n",
              "1        Never-married            Sales  Not-in-family  White    Male   \n",
              "2        Never-married     Craft-repair  Not-in-family  White    Male   \n",
              "3   Married-civ-spouse   Prof-specialty        Husband  White    Male   \n",
              "4              Widowed     Adm-clerical      Unmarried  White  Female   \n",
              "\n",
              "    capital.gain  capital.loss  hours.per.week native.country  \n",
              "id                                                             \n",
              "0              0             0              45  United-States  \n",
              "1              0             0              75  United-States  \n",
              "2           8614             0              40  United-States  \n",
              "3              0             0              55  United-States  \n",
              "4              0             0              40         Mexico  "
            ],
            "text/html": [
              "\n",
              "  <div id=\"df-2355d6d1-adcb-4baa-b1b7-773d85e57e88\">\n",
              "    <div class=\"colab-df-container\">\n",
              "      <div>\n",
              "<style scoped>\n",
              "    .dataframe tbody tr th:only-of-type {\n",
              "        vertical-align: middle;\n",
              "    }\n",
              "\n",
              "    .dataframe tbody tr th {\n",
              "        vertical-align: top;\n",
              "    }\n",
              "\n",
              "    .dataframe thead th {\n",
              "        text-align: right;\n",
              "    }\n",
              "</style>\n",
              "<table border=\"1\" class=\"dataframe\">\n",
              "  <thead>\n",
              "    <tr style=\"text-align: right;\">\n",
              "      <th></th>\n",
              "      <th>age</th>\n",
              "      <th>workclass</th>\n",
              "      <th>fnlwgt</th>\n",
              "      <th>education</th>\n",
              "      <th>education.num</th>\n",
              "      <th>marital.status</th>\n",
              "      <th>occupation</th>\n",
              "      <th>relationship</th>\n",
              "      <th>race</th>\n",
              "      <th>sex</th>\n",
              "      <th>capital.gain</th>\n",
              "      <th>capital.loss</th>\n",
              "      <th>hours.per.week</th>\n",
              "      <th>native.country</th>\n",
              "    </tr>\n",
              "    <tr>\n",
              "      <th>id</th>\n",
              "      <th></th>\n",
              "      <th></th>\n",
              "      <th></th>\n",
              "      <th></th>\n",
              "      <th></th>\n",
              "      <th></th>\n",
              "      <th></th>\n",
              "      <th></th>\n",
              "      <th></th>\n",
              "      <th></th>\n",
              "      <th></th>\n",
              "      <th></th>\n",
              "      <th></th>\n",
              "      <th></th>\n",
              "    </tr>\n",
              "  </thead>\n",
              "  <tbody>\n",
              "    <tr>\n",
              "      <th>0</th>\n",
              "      <td>47</td>\n",
              "      <td>Private</td>\n",
              "      <td>304133</td>\n",
              "      <td>Some-college</td>\n",
              "      <td>10</td>\n",
              "      <td>Married-civ-spouse</td>\n",
              "      <td>Exec-managerial</td>\n",
              "      <td>Husband</td>\n",
              "      <td>White</td>\n",
              "      <td>Male</td>\n",
              "      <td>0</td>\n",
              "      <td>0</td>\n",
              "      <td>45</td>\n",
              "      <td>United-States</td>\n",
              "    </tr>\n",
              "    <tr>\n",
              "      <th>1</th>\n",
              "      <td>34</td>\n",
              "      <td>Self-emp-inc</td>\n",
              "      <td>154227</td>\n",
              "      <td>Some-college</td>\n",
              "      <td>10</td>\n",
              "      <td>Never-married</td>\n",
              "      <td>Sales</td>\n",
              "      <td>Not-in-family</td>\n",
              "      <td>White</td>\n",
              "      <td>Male</td>\n",
              "      <td>0</td>\n",
              "      <td>0</td>\n",
              "      <td>75</td>\n",
              "      <td>United-States</td>\n",
              "    </tr>\n",
              "    <tr>\n",
              "      <th>2</th>\n",
              "      <td>31</td>\n",
              "      <td>Local-gov</td>\n",
              "      <td>158291</td>\n",
              "      <td>Bachelors</td>\n",
              "      <td>13</td>\n",
              "      <td>Never-married</td>\n",
              "      <td>Craft-repair</td>\n",
              "      <td>Not-in-family</td>\n",
              "      <td>White</td>\n",
              "      <td>Male</td>\n",
              "      <td>8614</td>\n",
              "      <td>0</td>\n",
              "      <td>40</td>\n",
              "      <td>United-States</td>\n",
              "    </tr>\n",
              "    <tr>\n",
              "      <th>3</th>\n",
              "      <td>28</td>\n",
              "      <td>Private</td>\n",
              "      <td>183155</td>\n",
              "      <td>Bachelors</td>\n",
              "      <td>13</td>\n",
              "      <td>Married-civ-spouse</td>\n",
              "      <td>Prof-specialty</td>\n",
              "      <td>Husband</td>\n",
              "      <td>White</td>\n",
              "      <td>Male</td>\n",
              "      <td>0</td>\n",
              "      <td>0</td>\n",
              "      <td>55</td>\n",
              "      <td>United-States</td>\n",
              "    </tr>\n",
              "    <tr>\n",
              "      <th>4</th>\n",
              "      <td>54</td>\n",
              "      <td>Local-gov</td>\n",
              "      <td>182543</td>\n",
              "      <td>Some-college</td>\n",
              "      <td>10</td>\n",
              "      <td>Widowed</td>\n",
              "      <td>Adm-clerical</td>\n",
              "      <td>Unmarried</td>\n",
              "      <td>White</td>\n",
              "      <td>Female</td>\n",
              "      <td>0</td>\n",
              "      <td>0</td>\n",
              "      <td>40</td>\n",
              "      <td>Mexico</td>\n",
              "    </tr>\n",
              "  </tbody>\n",
              "</table>\n",
              "</div>\n",
              "      <button class=\"colab-df-convert\" onclick=\"convertToInteractive('df-2355d6d1-adcb-4baa-b1b7-773d85e57e88')\"\n",
              "              title=\"Convert this dataframe to an interactive table.\"\n",
              "              style=\"display:none;\">\n",
              "        \n",
              "  <svg xmlns=\"http://www.w3.org/2000/svg\" height=\"24px\"viewBox=\"0 0 24 24\"\n",
              "       width=\"24px\">\n",
              "    <path d=\"M0 0h24v24H0V0z\" fill=\"none\"/>\n",
              "    <path d=\"M18.56 5.44l.94 2.06.94-2.06 2.06-.94-2.06-.94-.94-2.06-.94 2.06-2.06.94zm-11 1L8.5 8.5l.94-2.06 2.06-.94-2.06-.94L8.5 2.5l-.94 2.06-2.06.94zm10 10l.94 2.06.94-2.06 2.06-.94-2.06-.94-.94-2.06-.94 2.06-2.06.94z\"/><path d=\"M17.41 7.96l-1.37-1.37c-.4-.4-.92-.59-1.43-.59-.52 0-1.04.2-1.43.59L10.3 9.45l-7.72 7.72c-.78.78-.78 2.05 0 2.83L4 21.41c.39.39.9.59 1.41.59.51 0 1.02-.2 1.41-.59l7.78-7.78 2.81-2.81c.8-.78.8-2.07 0-2.86zM5.41 20L4 18.59l7.72-7.72 1.47 1.35L5.41 20z\"/>\n",
              "  </svg>\n",
              "      </button>\n",
              "      \n",
              "  <style>\n",
              "    .colab-df-container {\n",
              "      display:flex;\n",
              "      flex-wrap:wrap;\n",
              "      gap: 12px;\n",
              "    }\n",
              "\n",
              "    .colab-df-convert {\n",
              "      background-color: #E8F0FE;\n",
              "      border: none;\n",
              "      border-radius: 50%;\n",
              "      cursor: pointer;\n",
              "      display: none;\n",
              "      fill: #1967D2;\n",
              "      height: 32px;\n",
              "      padding: 0 0 0 0;\n",
              "      width: 32px;\n",
              "    }\n",
              "\n",
              "    .colab-df-convert:hover {\n",
              "      background-color: #E2EBFA;\n",
              "      box-shadow: 0px 1px 2px rgba(60, 64, 67, 0.3), 0px 1px 3px 1px rgba(60, 64, 67, 0.15);\n",
              "      fill: #174EA6;\n",
              "    }\n",
              "\n",
              "    [theme=dark] .colab-df-convert {\n",
              "      background-color: #3B4455;\n",
              "      fill: #D2E3FC;\n",
              "    }\n",
              "\n",
              "    [theme=dark] .colab-df-convert:hover {\n",
              "      background-color: #434B5C;\n",
              "      box-shadow: 0px 1px 3px 1px rgba(0, 0, 0, 0.15);\n",
              "      filter: drop-shadow(0px 1px 2px rgba(0, 0, 0, 0.3));\n",
              "      fill: #FFFFFF;\n",
              "    }\n",
              "  </style>\n",
              "\n",
              "      <script>\n",
              "        const buttonEl =\n",
              "          document.querySelector('#df-2355d6d1-adcb-4baa-b1b7-773d85e57e88 button.colab-df-convert');\n",
              "        buttonEl.style.display =\n",
              "          google.colab.kernel.accessAllowed ? 'block' : 'none';\n",
              "\n",
              "        async function convertToInteractive(key) {\n",
              "          const element = document.querySelector('#df-2355d6d1-adcb-4baa-b1b7-773d85e57e88');\n",
              "          const dataTable =\n",
              "            await google.colab.kernel.invokeFunction('convertToInteractive',\n",
              "                                                     [key], {});\n",
              "          if (!dataTable) return;\n",
              "\n",
              "          const docLinkHtml = 'Like what you see? Visit the ' +\n",
              "            '<a target=\"_blank\" href=https://colab.research.google.com/notebooks/data_table.ipynb>data table notebook</a>'\n",
              "            + ' to learn more about interactive tables.';\n",
              "          element.innerHTML = '';\n",
              "          dataTable['output_type'] = 'display_data';\n",
              "          await google.colab.output.renderOutput(dataTable, element);\n",
              "          const docLink = document.createElement('div');\n",
              "          docLink.innerHTML = docLinkHtml;\n",
              "          element.appendChild(docLink);\n",
              "        }\n",
              "      </script>\n",
              "    </div>\n",
              "  </div>\n",
              "  "
            ]
          },
          "metadata": {}
        }
      ],
      "source": [
        "train = pd.read_csv('train.csv', index_col=0)\n",
        "test = pd.read_csv('test.csv', index_col=0)\n",
        "\n",
        "print('train df')\n",
        "display(train.head())\n",
        "print('test df')\n",
        "display(test.head())"
      ]
    },
    {
      "cell_type": "code",
      "execution_count": 3,
      "metadata": {
        "colab": {
          "base_uri": "https://localhost:8080/"
        },
        "id": "mdI2Q2Y10hoX",
        "outputId": "267b8f19-cd52-49d2-ed2c-1e13935ca890"
      },
      "outputs": [
        {
          "output_type": "stream",
          "name": "stdout",
          "text": [
            "shape of train:  (17480, 15)\n",
            "shape of test:  (15081, 14)\n"
          ]
        }
      ],
      "source": [
        "print(\"shape of train: \" , train.shape)\n",
        "print(\"shape of test: \", test.shape)"
      ]
    },
    {
      "cell_type": "code",
      "execution_count": 4,
      "metadata": {
        "colab": {
          "base_uri": "https://localhost:8080/"
        },
        "id": "CO9nqy2We6kz",
        "outputId": "6dda978e-b39f-4470-cda5-7a93cd62e13b"
      },
      "outputs": [
        {
          "output_type": "stream",
          "name": "stdout",
          "text": [
            "<class 'pandas.core.frame.DataFrame'>\n",
            "Int64Index: 17480 entries, 0 to 17479\n",
            "Data columns (total 15 columns):\n",
            " #   Column          Non-Null Count  Dtype \n",
            "---  ------          --------------  ----- \n",
            " 0   age             17480 non-null  int64 \n",
            " 1   workclass       15644 non-null  object\n",
            " 2   fnlwgt          17480 non-null  int64 \n",
            " 3   education       17480 non-null  object\n",
            " 4   education.num   17480 non-null  int64 \n",
            " 5   marital.status  17480 non-null  object\n",
            " 6   occupation      15637 non-null  object\n",
            " 7   relationship    17480 non-null  object\n",
            " 8   race            17480 non-null  object\n",
            " 9   sex             17480 non-null  object\n",
            " 10  capital.gain    17480 non-null  int64 \n",
            " 11  capital.loss    17480 non-null  int64 \n",
            " 12  hours.per.week  17480 non-null  int64 \n",
            " 13  native.country  16897 non-null  object\n",
            " 14  target          17480 non-null  int64 \n",
            "dtypes: int64(7), object(8)\n",
            "memory usage: 2.1+ MB\n"
          ]
        }
      ],
      "source": [
        "# train 값은 결측치가 존재함을 확인할 수 있다.\n",
        "# column은 13개이고, row는 17480개이다.\n",
        "# 범주형 변수는 workclass, eudcation, matrial.status, occupation, relationship, race, sex 이다.\n",
        "train.info()"
      ]
    },
    {
      "cell_type": "code",
      "execution_count": 5,
      "metadata": {
        "colab": {
          "base_uri": "https://localhost:8080/"
        },
        "id": "_6GLUO0yvUYL",
        "outputId": "05c51d0f-75af-4752-e936-77cb7f25d24c"
      },
      "outputs": [
        {
          "output_type": "execute_result",
          "data": {
            "text/plain": [
              "age                  0\n",
              "workclass         1836\n",
              "fnlwgt               0\n",
              "education            0\n",
              "education.num        0\n",
              "marital.status       0\n",
              "occupation        1843\n",
              "relationship         0\n",
              "race                 0\n",
              "sex                  0\n",
              "capital.gain         0\n",
              "capital.loss         0\n",
              "hours.per.week       0\n",
              "native.country     583\n",
              "target               0\n",
              "dtype: int64"
            ]
          },
          "metadata": {},
          "execution_count": 5
        }
      ],
      "source": [
        "# train의 경우, workclass, occupation, native country에서 결측치가 확인됨.\n",
        "train.isnull().sum()"
      ]
    },
    {
      "cell_type": "code",
      "execution_count": 6,
      "metadata": {
        "colab": {
          "base_uri": "https://localhost:8080/"
        },
        "id": "GRr5Mhg4fChb",
        "outputId": "8b074343-42de-4c83-c9df-410254a051c6"
      },
      "outputs": [
        {
          "output_type": "stream",
          "name": "stdout",
          "text": [
            "<class 'pandas.core.frame.DataFrame'>\n",
            "Int64Index: 15081 entries, 0 to 15080\n",
            "Data columns (total 14 columns):\n",
            " #   Column          Non-Null Count  Dtype \n",
            "---  ------          --------------  ----- \n",
            " 0   age             15081 non-null  int64 \n",
            " 1   workclass       15081 non-null  object\n",
            " 2   fnlwgt          15081 non-null  int64 \n",
            " 3   education       15081 non-null  object\n",
            " 4   education.num   15081 non-null  int64 \n",
            " 5   marital.status  15081 non-null  object\n",
            " 6   occupation      15081 non-null  object\n",
            " 7   relationship    15081 non-null  object\n",
            " 8   race            15081 non-null  object\n",
            " 9   sex             15081 non-null  object\n",
            " 10  capital.gain    15081 non-null  int64 \n",
            " 11  capital.loss    15081 non-null  int64 \n",
            " 12  hours.per.week  15081 non-null  int64 \n",
            " 13  native.country  15081 non-null  object\n",
            "dtypes: int64(6), object(8)\n",
            "memory usage: 1.7+ MB\n"
          ]
        }
      ],
      "source": [
        "# 결측치 없음\n",
        "test.info()"
      ]
    },
    {
      "cell_type": "code",
      "execution_count": 7,
      "metadata": {
        "colab": {
          "base_uri": "https://localhost:8080/",
          "height": 0
        },
        "id": "6zFN-glifO-v",
        "outputId": "28fe287b-b1e5-4918-9b4e-9ed92cb09434"
      },
      "outputs": [
        {
          "output_type": "execute_result",
          "data": {
            "text/plain": [
              "                age        fnlwgt  education.num  capital.gain  capital.loss  \\\n",
              "count  17480.000000  1.748000e+04   17480.000000  17480.000000   17480.00000   \n",
              "mean      38.720995  1.897610e+05      10.036556   1076.644508      83.87460   \n",
              "std       14.079617  1.049929e+05       2.604415   7439.498620     396.03288   \n",
              "min       17.000000  1.228500e+04       1.000000      0.000000       0.00000   \n",
              "25%       27.000000  1.181558e+05       9.000000      0.000000       0.00000   \n",
              "50%       37.000000  1.781340e+05      10.000000      0.000000       0.00000   \n",
              "75%       48.000000  2.373180e+05      12.000000      0.000000       0.00000   \n",
              "max       90.000000  1.455435e+06      16.000000  99999.000000    4356.00000   \n",
              "\n",
              "       hours.per.week        target  \n",
              "count    17480.000000  17480.000000  \n",
              "mean        40.002460      0.234897  \n",
              "std         12.671265      0.423947  \n",
              "min          1.000000      0.000000  \n",
              "25%         38.000000      0.000000  \n",
              "50%         40.000000      0.000000  \n",
              "75%         45.000000      0.000000  \n",
              "max         99.000000      1.000000  "
            ],
            "text/html": [
              "\n",
              "  <div id=\"df-11f5f08b-7f0b-4cf1-8544-6e2d561fa64b\">\n",
              "    <div class=\"colab-df-container\">\n",
              "      <div>\n",
              "<style scoped>\n",
              "    .dataframe tbody tr th:only-of-type {\n",
              "        vertical-align: middle;\n",
              "    }\n",
              "\n",
              "    .dataframe tbody tr th {\n",
              "        vertical-align: top;\n",
              "    }\n",
              "\n",
              "    .dataframe thead th {\n",
              "        text-align: right;\n",
              "    }\n",
              "</style>\n",
              "<table border=\"1\" class=\"dataframe\">\n",
              "  <thead>\n",
              "    <tr style=\"text-align: right;\">\n",
              "      <th></th>\n",
              "      <th>age</th>\n",
              "      <th>fnlwgt</th>\n",
              "      <th>education.num</th>\n",
              "      <th>capital.gain</th>\n",
              "      <th>capital.loss</th>\n",
              "      <th>hours.per.week</th>\n",
              "      <th>target</th>\n",
              "    </tr>\n",
              "  </thead>\n",
              "  <tbody>\n",
              "    <tr>\n",
              "      <th>count</th>\n",
              "      <td>17480.000000</td>\n",
              "      <td>1.748000e+04</td>\n",
              "      <td>17480.000000</td>\n",
              "      <td>17480.000000</td>\n",
              "      <td>17480.00000</td>\n",
              "      <td>17480.000000</td>\n",
              "      <td>17480.000000</td>\n",
              "    </tr>\n",
              "    <tr>\n",
              "      <th>mean</th>\n",
              "      <td>38.720995</td>\n",
              "      <td>1.897610e+05</td>\n",
              "      <td>10.036556</td>\n",
              "      <td>1076.644508</td>\n",
              "      <td>83.87460</td>\n",
              "      <td>40.002460</td>\n",
              "      <td>0.234897</td>\n",
              "    </tr>\n",
              "    <tr>\n",
              "      <th>std</th>\n",
              "      <td>14.079617</td>\n",
              "      <td>1.049929e+05</td>\n",
              "      <td>2.604415</td>\n",
              "      <td>7439.498620</td>\n",
              "      <td>396.03288</td>\n",
              "      <td>12.671265</td>\n",
              "      <td>0.423947</td>\n",
              "    </tr>\n",
              "    <tr>\n",
              "      <th>min</th>\n",
              "      <td>17.000000</td>\n",
              "      <td>1.228500e+04</td>\n",
              "      <td>1.000000</td>\n",
              "      <td>0.000000</td>\n",
              "      <td>0.00000</td>\n",
              "      <td>1.000000</td>\n",
              "      <td>0.000000</td>\n",
              "    </tr>\n",
              "    <tr>\n",
              "      <th>25%</th>\n",
              "      <td>27.000000</td>\n",
              "      <td>1.181558e+05</td>\n",
              "      <td>9.000000</td>\n",
              "      <td>0.000000</td>\n",
              "      <td>0.00000</td>\n",
              "      <td>38.000000</td>\n",
              "      <td>0.000000</td>\n",
              "    </tr>\n",
              "    <tr>\n",
              "      <th>50%</th>\n",
              "      <td>37.000000</td>\n",
              "      <td>1.781340e+05</td>\n",
              "      <td>10.000000</td>\n",
              "      <td>0.000000</td>\n",
              "      <td>0.00000</td>\n",
              "      <td>40.000000</td>\n",
              "      <td>0.000000</td>\n",
              "    </tr>\n",
              "    <tr>\n",
              "      <th>75%</th>\n",
              "      <td>48.000000</td>\n",
              "      <td>2.373180e+05</td>\n",
              "      <td>12.000000</td>\n",
              "      <td>0.000000</td>\n",
              "      <td>0.00000</td>\n",
              "      <td>45.000000</td>\n",
              "      <td>0.000000</td>\n",
              "    </tr>\n",
              "    <tr>\n",
              "      <th>max</th>\n",
              "      <td>90.000000</td>\n",
              "      <td>1.455435e+06</td>\n",
              "      <td>16.000000</td>\n",
              "      <td>99999.000000</td>\n",
              "      <td>4356.00000</td>\n",
              "      <td>99.000000</td>\n",
              "      <td>1.000000</td>\n",
              "    </tr>\n",
              "  </tbody>\n",
              "</table>\n",
              "</div>\n",
              "      <button class=\"colab-df-convert\" onclick=\"convertToInteractive('df-11f5f08b-7f0b-4cf1-8544-6e2d561fa64b')\"\n",
              "              title=\"Convert this dataframe to an interactive table.\"\n",
              "              style=\"display:none;\">\n",
              "        \n",
              "  <svg xmlns=\"http://www.w3.org/2000/svg\" height=\"24px\"viewBox=\"0 0 24 24\"\n",
              "       width=\"24px\">\n",
              "    <path d=\"M0 0h24v24H0V0z\" fill=\"none\"/>\n",
              "    <path d=\"M18.56 5.44l.94 2.06.94-2.06 2.06-.94-2.06-.94-.94-2.06-.94 2.06-2.06.94zm-11 1L8.5 8.5l.94-2.06 2.06-.94-2.06-.94L8.5 2.5l-.94 2.06-2.06.94zm10 10l.94 2.06.94-2.06 2.06-.94-2.06-.94-.94-2.06-.94 2.06-2.06.94z\"/><path d=\"M17.41 7.96l-1.37-1.37c-.4-.4-.92-.59-1.43-.59-.52 0-1.04.2-1.43.59L10.3 9.45l-7.72 7.72c-.78.78-.78 2.05 0 2.83L4 21.41c.39.39.9.59 1.41.59.51 0 1.02-.2 1.41-.59l7.78-7.78 2.81-2.81c.8-.78.8-2.07 0-2.86zM5.41 20L4 18.59l7.72-7.72 1.47 1.35L5.41 20z\"/>\n",
              "  </svg>\n",
              "      </button>\n",
              "      \n",
              "  <style>\n",
              "    .colab-df-container {\n",
              "      display:flex;\n",
              "      flex-wrap:wrap;\n",
              "      gap: 12px;\n",
              "    }\n",
              "\n",
              "    .colab-df-convert {\n",
              "      background-color: #E8F0FE;\n",
              "      border: none;\n",
              "      border-radius: 50%;\n",
              "      cursor: pointer;\n",
              "      display: none;\n",
              "      fill: #1967D2;\n",
              "      height: 32px;\n",
              "      padding: 0 0 0 0;\n",
              "      width: 32px;\n",
              "    }\n",
              "\n",
              "    .colab-df-convert:hover {\n",
              "      background-color: #E2EBFA;\n",
              "      box-shadow: 0px 1px 2px rgba(60, 64, 67, 0.3), 0px 1px 3px 1px rgba(60, 64, 67, 0.15);\n",
              "      fill: #174EA6;\n",
              "    }\n",
              "\n",
              "    [theme=dark] .colab-df-convert {\n",
              "      background-color: #3B4455;\n",
              "      fill: #D2E3FC;\n",
              "    }\n",
              "\n",
              "    [theme=dark] .colab-df-convert:hover {\n",
              "      background-color: #434B5C;\n",
              "      box-shadow: 0px 1px 3px 1px rgba(0, 0, 0, 0.15);\n",
              "      filter: drop-shadow(0px 1px 2px rgba(0, 0, 0, 0.3));\n",
              "      fill: #FFFFFF;\n",
              "    }\n",
              "  </style>\n",
              "\n",
              "      <script>\n",
              "        const buttonEl =\n",
              "          document.querySelector('#df-11f5f08b-7f0b-4cf1-8544-6e2d561fa64b button.colab-df-convert');\n",
              "        buttonEl.style.display =\n",
              "          google.colab.kernel.accessAllowed ? 'block' : 'none';\n",
              "\n",
              "        async function convertToInteractive(key) {\n",
              "          const element = document.querySelector('#df-11f5f08b-7f0b-4cf1-8544-6e2d561fa64b');\n",
              "          const dataTable =\n",
              "            await google.colab.kernel.invokeFunction('convertToInteractive',\n",
              "                                                     [key], {});\n",
              "          if (!dataTable) return;\n",
              "\n",
              "          const docLinkHtml = 'Like what you see? Visit the ' +\n",
              "            '<a target=\"_blank\" href=https://colab.research.google.com/notebooks/data_table.ipynb>data table notebook</a>'\n",
              "            + ' to learn more about interactive tables.';\n",
              "          element.innerHTML = '';\n",
              "          dataTable['output_type'] = 'display_data';\n",
              "          await google.colab.output.renderOutput(dataTable, element);\n",
              "          const docLink = document.createElement('div');\n",
              "          docLink.innerHTML = docLinkHtml;\n",
              "          element.appendChild(docLink);\n",
              "        }\n",
              "      </script>\n",
              "    </div>\n",
              "  </div>\n",
              "  "
            ]
          },
          "metadata": {},
          "execution_count": 7
        }
      ],
      "source": [
        "train.describe()"
      ]
    },
    {
      "cell_type": "code",
      "execution_count": 8,
      "metadata": {
        "colab": {
          "base_uri": "https://localhost:8080/",
          "height": 0
        },
        "id": "Zu0ITIncfksl",
        "outputId": "e52e18bf-a75c-4afe-b21b-b83f8f00b509"
      },
      "outputs": [
        {
          "output_type": "execute_result",
          "data": {
            "text/plain": [
              "                age        fnlwgt  education.num  capital.gain  capital.loss  \\\n",
              "count  15081.000000  1.508100e+04   15081.000000  15081.000000  15081.000000   \n",
              "mean      38.420131  1.897985e+05      10.131821   1078.812943     91.278562   \n",
              "std       13.111605  1.061955e+05       2.534614   7322.206791    410.820751   \n",
              "min       17.000000  1.376900e+04       1.000000      0.000000      0.000000   \n",
              "25%       28.000000  1.176050e+05       9.000000      0.000000      0.000000   \n",
              "50%       37.000000  1.786490e+05      10.000000      0.000000      0.000000   \n",
              "75%       47.000000  2.369070e+05      13.000000      0.000000      0.000000   \n",
              "max       90.000000  1.484705e+06      16.000000  99999.000000   3900.000000   \n",
              "\n",
              "       hours.per.week  \n",
              "count    15081.000000  \n",
              "mean        40.941648  \n",
              "std         11.941720  \n",
              "min          1.000000  \n",
              "25%         40.000000  \n",
              "50%         40.000000  \n",
              "75%         45.000000  \n",
              "max         99.000000  "
            ],
            "text/html": [
              "\n",
              "  <div id=\"df-8b3934da-0dba-4c7c-a10e-a23b9ebaf651\">\n",
              "    <div class=\"colab-df-container\">\n",
              "      <div>\n",
              "<style scoped>\n",
              "    .dataframe tbody tr th:only-of-type {\n",
              "        vertical-align: middle;\n",
              "    }\n",
              "\n",
              "    .dataframe tbody tr th {\n",
              "        vertical-align: top;\n",
              "    }\n",
              "\n",
              "    .dataframe thead th {\n",
              "        text-align: right;\n",
              "    }\n",
              "</style>\n",
              "<table border=\"1\" class=\"dataframe\">\n",
              "  <thead>\n",
              "    <tr style=\"text-align: right;\">\n",
              "      <th></th>\n",
              "      <th>age</th>\n",
              "      <th>fnlwgt</th>\n",
              "      <th>education.num</th>\n",
              "      <th>capital.gain</th>\n",
              "      <th>capital.loss</th>\n",
              "      <th>hours.per.week</th>\n",
              "    </tr>\n",
              "  </thead>\n",
              "  <tbody>\n",
              "    <tr>\n",
              "      <th>count</th>\n",
              "      <td>15081.000000</td>\n",
              "      <td>1.508100e+04</td>\n",
              "      <td>15081.000000</td>\n",
              "      <td>15081.000000</td>\n",
              "      <td>15081.000000</td>\n",
              "      <td>15081.000000</td>\n",
              "    </tr>\n",
              "    <tr>\n",
              "      <th>mean</th>\n",
              "      <td>38.420131</td>\n",
              "      <td>1.897985e+05</td>\n",
              "      <td>10.131821</td>\n",
              "      <td>1078.812943</td>\n",
              "      <td>91.278562</td>\n",
              "      <td>40.941648</td>\n",
              "    </tr>\n",
              "    <tr>\n",
              "      <th>std</th>\n",
              "      <td>13.111605</td>\n",
              "      <td>1.061955e+05</td>\n",
              "      <td>2.534614</td>\n",
              "      <td>7322.206791</td>\n",
              "      <td>410.820751</td>\n",
              "      <td>11.941720</td>\n",
              "    </tr>\n",
              "    <tr>\n",
              "      <th>min</th>\n",
              "      <td>17.000000</td>\n",
              "      <td>1.376900e+04</td>\n",
              "      <td>1.000000</td>\n",
              "      <td>0.000000</td>\n",
              "      <td>0.000000</td>\n",
              "      <td>1.000000</td>\n",
              "    </tr>\n",
              "    <tr>\n",
              "      <th>25%</th>\n",
              "      <td>28.000000</td>\n",
              "      <td>1.176050e+05</td>\n",
              "      <td>9.000000</td>\n",
              "      <td>0.000000</td>\n",
              "      <td>0.000000</td>\n",
              "      <td>40.000000</td>\n",
              "    </tr>\n",
              "    <tr>\n",
              "      <th>50%</th>\n",
              "      <td>37.000000</td>\n",
              "      <td>1.786490e+05</td>\n",
              "      <td>10.000000</td>\n",
              "      <td>0.000000</td>\n",
              "      <td>0.000000</td>\n",
              "      <td>40.000000</td>\n",
              "    </tr>\n",
              "    <tr>\n",
              "      <th>75%</th>\n",
              "      <td>47.000000</td>\n",
              "      <td>2.369070e+05</td>\n",
              "      <td>13.000000</td>\n",
              "      <td>0.000000</td>\n",
              "      <td>0.000000</td>\n",
              "      <td>45.000000</td>\n",
              "    </tr>\n",
              "    <tr>\n",
              "      <th>max</th>\n",
              "      <td>90.000000</td>\n",
              "      <td>1.484705e+06</td>\n",
              "      <td>16.000000</td>\n",
              "      <td>99999.000000</td>\n",
              "      <td>3900.000000</td>\n",
              "      <td>99.000000</td>\n",
              "    </tr>\n",
              "  </tbody>\n",
              "</table>\n",
              "</div>\n",
              "      <button class=\"colab-df-convert\" onclick=\"convertToInteractive('df-8b3934da-0dba-4c7c-a10e-a23b9ebaf651')\"\n",
              "              title=\"Convert this dataframe to an interactive table.\"\n",
              "              style=\"display:none;\">\n",
              "        \n",
              "  <svg xmlns=\"http://www.w3.org/2000/svg\" height=\"24px\"viewBox=\"0 0 24 24\"\n",
              "       width=\"24px\">\n",
              "    <path d=\"M0 0h24v24H0V0z\" fill=\"none\"/>\n",
              "    <path d=\"M18.56 5.44l.94 2.06.94-2.06 2.06-.94-2.06-.94-.94-2.06-.94 2.06-2.06.94zm-11 1L8.5 8.5l.94-2.06 2.06-.94-2.06-.94L8.5 2.5l-.94 2.06-2.06.94zm10 10l.94 2.06.94-2.06 2.06-.94-2.06-.94-.94-2.06-.94 2.06-2.06.94z\"/><path d=\"M17.41 7.96l-1.37-1.37c-.4-.4-.92-.59-1.43-.59-.52 0-1.04.2-1.43.59L10.3 9.45l-7.72 7.72c-.78.78-.78 2.05 0 2.83L4 21.41c.39.39.9.59 1.41.59.51 0 1.02-.2 1.41-.59l7.78-7.78 2.81-2.81c.8-.78.8-2.07 0-2.86zM5.41 20L4 18.59l7.72-7.72 1.47 1.35L5.41 20z\"/>\n",
              "  </svg>\n",
              "      </button>\n",
              "      \n",
              "  <style>\n",
              "    .colab-df-container {\n",
              "      display:flex;\n",
              "      flex-wrap:wrap;\n",
              "      gap: 12px;\n",
              "    }\n",
              "\n",
              "    .colab-df-convert {\n",
              "      background-color: #E8F0FE;\n",
              "      border: none;\n",
              "      border-radius: 50%;\n",
              "      cursor: pointer;\n",
              "      display: none;\n",
              "      fill: #1967D2;\n",
              "      height: 32px;\n",
              "      padding: 0 0 0 0;\n",
              "      width: 32px;\n",
              "    }\n",
              "\n",
              "    .colab-df-convert:hover {\n",
              "      background-color: #E2EBFA;\n",
              "      box-shadow: 0px 1px 2px rgba(60, 64, 67, 0.3), 0px 1px 3px 1px rgba(60, 64, 67, 0.15);\n",
              "      fill: #174EA6;\n",
              "    }\n",
              "\n",
              "    [theme=dark] .colab-df-convert {\n",
              "      background-color: #3B4455;\n",
              "      fill: #D2E3FC;\n",
              "    }\n",
              "\n",
              "    [theme=dark] .colab-df-convert:hover {\n",
              "      background-color: #434B5C;\n",
              "      box-shadow: 0px 1px 3px 1px rgba(0, 0, 0, 0.15);\n",
              "      filter: drop-shadow(0px 1px 2px rgba(0, 0, 0, 0.3));\n",
              "      fill: #FFFFFF;\n",
              "    }\n",
              "  </style>\n",
              "\n",
              "      <script>\n",
              "        const buttonEl =\n",
              "          document.querySelector('#df-8b3934da-0dba-4c7c-a10e-a23b9ebaf651 button.colab-df-convert');\n",
              "        buttonEl.style.display =\n",
              "          google.colab.kernel.accessAllowed ? 'block' : 'none';\n",
              "\n",
              "        async function convertToInteractive(key) {\n",
              "          const element = document.querySelector('#df-8b3934da-0dba-4c7c-a10e-a23b9ebaf651');\n",
              "          const dataTable =\n",
              "            await google.colab.kernel.invokeFunction('convertToInteractive',\n",
              "                                                     [key], {});\n",
              "          if (!dataTable) return;\n",
              "\n",
              "          const docLinkHtml = 'Like what you see? Visit the ' +\n",
              "            '<a target=\"_blank\" href=https://colab.research.google.com/notebooks/data_table.ipynb>data table notebook</a>'\n",
              "            + ' to learn more about interactive tables.';\n",
              "          element.innerHTML = '';\n",
              "          dataTable['output_type'] = 'display_data';\n",
              "          await google.colab.output.renderOutput(dataTable, element);\n",
              "          const docLink = document.createElement('div');\n",
              "          docLink.innerHTML = docLinkHtml;\n",
              "          element.appendChild(docLink);\n",
              "        }\n",
              "      </script>\n",
              "    </div>\n",
              "  </div>\n",
              "  "
            ]
          },
          "metadata": {},
          "execution_count": 8
        }
      ],
      "source": [
        "#describe를 통해 요약 값들을 확인해 보았을 때는 train과 test는 비슷한 분포를 지닌 것으로 보인다(적어도 수치형 변수에 대해서는)\n",
        "test.describe()"
      ]
    },
    {
      "cell_type": "markdown",
      "metadata": {
        "id": "VxLixTOdgGs3"
      },
      "source": [
        "### 범주형 변수 처리하기"
      ]
    },
    {
      "cell_type": "markdown",
      "metadata": {
        "id": "5xuGHLJ0kkgJ"
      },
      "source": [
        "#### workclass"
      ]
    },
    {
      "cell_type": "code",
      "execution_count": 9,
      "metadata": {
        "colab": {
          "base_uri": "https://localhost:8080/"
        },
        "id": "ymG0T4I8f4bf",
        "outputId": "af6f0e90-e9cf-4f3d-a6e5-b2fb082259ed"
      },
      "outputs": [
        {
          "output_type": "execute_result",
          "data": {
            "text/plain": [
              "Private             11568\n",
              "Self-emp-not-inc     1272\n",
              "Local-gov            1053\n",
              "State-gov             659\n",
              "Self-emp-inc          594\n",
              "Federal-gov           485\n",
              "Never-worked            7\n",
              "Without-pay             6\n",
              "Name: workclass, dtype: int64"
            ]
          },
          "metadata": {},
          "execution_count": 9
        }
      ],
      "source": [
        "# train data에는 Never-worked가 존재하지만 test data에는 존재하지 않는다. 따라서 Never-worked를 가진 열은 제외해도 될 것 같다.\n",
        "train['workclass'].value_counts()"
      ]
    },
    {
      "cell_type": "code",
      "execution_count": 10,
      "metadata": {
        "colab": {
          "base_uri": "https://localhost:8080/"
        },
        "id": "3BczKpA9g7F1",
        "outputId": "fb59157b-8417-4b79-9f19-e4c982ef5505"
      },
      "outputs": [
        {
          "output_type": "execute_result",
          "data": {
            "text/plain": [
              "Private             11128\n",
              "Self-emp-not-inc     1269\n",
              "Local-gov            1040\n",
              "State-gov             639\n",
              "Self-emp-inc          522\n",
              "Federal-gov           475\n",
              "Without-pay             8\n",
              "Name: workclass, dtype: int64"
            ]
          },
          "metadata": {},
          "execution_count": 10
        }
      ],
      "source": [
        "test['workclass'].value_counts()"
      ]
    },
    {
      "cell_type": "code",
      "execution_count": 11,
      "metadata": {
        "colab": {
          "base_uri": "https://localhost:8080/",
          "height": 0
        },
        "id": "dT0x1wMbhMmr",
        "outputId": "836325db-0166-4a88-f85b-07c5594b74ce"
      },
      "outputs": [
        {
          "output_type": "execute_result",
          "data": {
            "text/plain": [
              "   age workclass  fnlwgt     education  education.num      marital.status  \\\n",
              "0   32   Private  309513    Assoc-acdm             12  Married-civ-spouse   \n",
              "1   33   Private  205469  Some-college             10  Married-civ-spouse   \n",
              "2   46   Private  149949  Some-college             10  Married-civ-spouse   \n",
              "3   23   Private  193090     Bachelors             13       Never-married   \n",
              "4   55   Private   60193       HS-grad              9            Divorced   \n",
              "\n",
              "        occupation   relationship   race     sex  capital.gain  capital.loss  \\\n",
              "0     Craft-repair        Husband  White    Male             0             0   \n",
              "1  Exec-managerial        Husband  White    Male             0             0   \n",
              "2     Craft-repair        Husband  White    Male             0             0   \n",
              "3     Adm-clerical      Own-child  White  Female             0             0   \n",
              "4     Adm-clerical  Not-in-family  White  Female             0             0   \n",
              "\n",
              "   hours.per.week native.country  target  \n",
              "0              40  United-States       0  \n",
              "1              40  United-States       1  \n",
              "2              40  United-States       0  \n",
              "3              30  United-States       0  \n",
              "4              40  United-States       0  "
            ],
            "text/html": [
              "\n",
              "  <div id=\"df-a759a8fa-2a50-4427-983e-29805bbbaa1b\">\n",
              "    <div class=\"colab-df-container\">\n",
              "      <div>\n",
              "<style scoped>\n",
              "    .dataframe tbody tr th:only-of-type {\n",
              "        vertical-align: middle;\n",
              "    }\n",
              "\n",
              "    .dataframe tbody tr th {\n",
              "        vertical-align: top;\n",
              "    }\n",
              "\n",
              "    .dataframe thead th {\n",
              "        text-align: right;\n",
              "    }\n",
              "</style>\n",
              "<table border=\"1\" class=\"dataframe\">\n",
              "  <thead>\n",
              "    <tr style=\"text-align: right;\">\n",
              "      <th></th>\n",
              "      <th>age</th>\n",
              "      <th>workclass</th>\n",
              "      <th>fnlwgt</th>\n",
              "      <th>education</th>\n",
              "      <th>education.num</th>\n",
              "      <th>marital.status</th>\n",
              "      <th>occupation</th>\n",
              "      <th>relationship</th>\n",
              "      <th>race</th>\n",
              "      <th>sex</th>\n",
              "      <th>capital.gain</th>\n",
              "      <th>capital.loss</th>\n",
              "      <th>hours.per.week</th>\n",
              "      <th>native.country</th>\n",
              "      <th>target</th>\n",
              "    </tr>\n",
              "  </thead>\n",
              "  <tbody>\n",
              "    <tr>\n",
              "      <th>0</th>\n",
              "      <td>32</td>\n",
              "      <td>Private</td>\n",
              "      <td>309513</td>\n",
              "      <td>Assoc-acdm</td>\n",
              "      <td>12</td>\n",
              "      <td>Married-civ-spouse</td>\n",
              "      <td>Craft-repair</td>\n",
              "      <td>Husband</td>\n",
              "      <td>White</td>\n",
              "      <td>Male</td>\n",
              "      <td>0</td>\n",
              "      <td>0</td>\n",
              "      <td>40</td>\n",
              "      <td>United-States</td>\n",
              "      <td>0</td>\n",
              "    </tr>\n",
              "    <tr>\n",
              "      <th>1</th>\n",
              "      <td>33</td>\n",
              "      <td>Private</td>\n",
              "      <td>205469</td>\n",
              "      <td>Some-college</td>\n",
              "      <td>10</td>\n",
              "      <td>Married-civ-spouse</td>\n",
              "      <td>Exec-managerial</td>\n",
              "      <td>Husband</td>\n",
              "      <td>White</td>\n",
              "      <td>Male</td>\n",
              "      <td>0</td>\n",
              "      <td>0</td>\n",
              "      <td>40</td>\n",
              "      <td>United-States</td>\n",
              "      <td>1</td>\n",
              "    </tr>\n",
              "    <tr>\n",
              "      <th>2</th>\n",
              "      <td>46</td>\n",
              "      <td>Private</td>\n",
              "      <td>149949</td>\n",
              "      <td>Some-college</td>\n",
              "      <td>10</td>\n",
              "      <td>Married-civ-spouse</td>\n",
              "      <td>Craft-repair</td>\n",
              "      <td>Husband</td>\n",
              "      <td>White</td>\n",
              "      <td>Male</td>\n",
              "      <td>0</td>\n",
              "      <td>0</td>\n",
              "      <td>40</td>\n",
              "      <td>United-States</td>\n",
              "      <td>0</td>\n",
              "    </tr>\n",
              "    <tr>\n",
              "      <th>3</th>\n",
              "      <td>23</td>\n",
              "      <td>Private</td>\n",
              "      <td>193090</td>\n",
              "      <td>Bachelors</td>\n",
              "      <td>13</td>\n",
              "      <td>Never-married</td>\n",
              "      <td>Adm-clerical</td>\n",
              "      <td>Own-child</td>\n",
              "      <td>White</td>\n",
              "      <td>Female</td>\n",
              "      <td>0</td>\n",
              "      <td>0</td>\n",
              "      <td>30</td>\n",
              "      <td>United-States</td>\n",
              "      <td>0</td>\n",
              "    </tr>\n",
              "    <tr>\n",
              "      <th>4</th>\n",
              "      <td>55</td>\n",
              "      <td>Private</td>\n",
              "      <td>60193</td>\n",
              "      <td>HS-grad</td>\n",
              "      <td>9</td>\n",
              "      <td>Divorced</td>\n",
              "      <td>Adm-clerical</td>\n",
              "      <td>Not-in-family</td>\n",
              "      <td>White</td>\n",
              "      <td>Female</td>\n",
              "      <td>0</td>\n",
              "      <td>0</td>\n",
              "      <td>40</td>\n",
              "      <td>United-States</td>\n",
              "      <td>0</td>\n",
              "    </tr>\n",
              "  </tbody>\n",
              "</table>\n",
              "</div>\n",
              "      <button class=\"colab-df-convert\" onclick=\"convertToInteractive('df-a759a8fa-2a50-4427-983e-29805bbbaa1b')\"\n",
              "              title=\"Convert this dataframe to an interactive table.\"\n",
              "              style=\"display:none;\">\n",
              "        \n",
              "  <svg xmlns=\"http://www.w3.org/2000/svg\" height=\"24px\"viewBox=\"0 0 24 24\"\n",
              "       width=\"24px\">\n",
              "    <path d=\"M0 0h24v24H0V0z\" fill=\"none\"/>\n",
              "    <path d=\"M18.56 5.44l.94 2.06.94-2.06 2.06-.94-2.06-.94-.94-2.06-.94 2.06-2.06.94zm-11 1L8.5 8.5l.94-2.06 2.06-.94-2.06-.94L8.5 2.5l-.94 2.06-2.06.94zm10 10l.94 2.06.94-2.06 2.06-.94-2.06-.94-.94-2.06-.94 2.06-2.06.94z\"/><path d=\"M17.41 7.96l-1.37-1.37c-.4-.4-.92-.59-1.43-.59-.52 0-1.04.2-1.43.59L10.3 9.45l-7.72 7.72c-.78.78-.78 2.05 0 2.83L4 21.41c.39.39.9.59 1.41.59.51 0 1.02-.2 1.41-.59l7.78-7.78 2.81-2.81c.8-.78.8-2.07 0-2.86zM5.41 20L4 18.59l7.72-7.72 1.47 1.35L5.41 20z\"/>\n",
              "  </svg>\n",
              "      </button>\n",
              "      \n",
              "  <style>\n",
              "    .colab-df-container {\n",
              "      display:flex;\n",
              "      flex-wrap:wrap;\n",
              "      gap: 12px;\n",
              "    }\n",
              "\n",
              "    .colab-df-convert {\n",
              "      background-color: #E8F0FE;\n",
              "      border: none;\n",
              "      border-radius: 50%;\n",
              "      cursor: pointer;\n",
              "      display: none;\n",
              "      fill: #1967D2;\n",
              "      height: 32px;\n",
              "      padding: 0 0 0 0;\n",
              "      width: 32px;\n",
              "    }\n",
              "\n",
              "    .colab-df-convert:hover {\n",
              "      background-color: #E2EBFA;\n",
              "      box-shadow: 0px 1px 2px rgba(60, 64, 67, 0.3), 0px 1px 3px 1px rgba(60, 64, 67, 0.15);\n",
              "      fill: #174EA6;\n",
              "    }\n",
              "\n",
              "    [theme=dark] .colab-df-convert {\n",
              "      background-color: #3B4455;\n",
              "      fill: #D2E3FC;\n",
              "    }\n",
              "\n",
              "    [theme=dark] .colab-df-convert:hover {\n",
              "      background-color: #434B5C;\n",
              "      box-shadow: 0px 1px 3px 1px rgba(0, 0, 0, 0.15);\n",
              "      filter: drop-shadow(0px 1px 2px rgba(0, 0, 0, 0.3));\n",
              "      fill: #FFFFFF;\n",
              "    }\n",
              "  </style>\n",
              "\n",
              "      <script>\n",
              "        const buttonEl =\n",
              "          document.querySelector('#df-a759a8fa-2a50-4427-983e-29805bbbaa1b button.colab-df-convert');\n",
              "        buttonEl.style.display =\n",
              "          google.colab.kernel.accessAllowed ? 'block' : 'none';\n",
              "\n",
              "        async function convertToInteractive(key) {\n",
              "          const element = document.querySelector('#df-a759a8fa-2a50-4427-983e-29805bbbaa1b');\n",
              "          const dataTable =\n",
              "            await google.colab.kernel.invokeFunction('convertToInteractive',\n",
              "                                                     [key], {});\n",
              "          if (!dataTable) return;\n",
              "\n",
              "          const docLinkHtml = 'Like what you see? Visit the ' +\n",
              "            '<a target=\"_blank\" href=https://colab.research.google.com/notebooks/data_table.ipynb>data table notebook</a>'\n",
              "            + ' to learn more about interactive tables.';\n",
              "          element.innerHTML = '';\n",
              "          dataTable['output_type'] = 'display_data';\n",
              "          await google.colab.output.renderOutput(dataTable, element);\n",
              "          const docLink = document.createElement('div');\n",
              "          docLink.innerHTML = docLinkHtml;\n",
              "          element.appendChild(docLink);\n",
              "        }\n",
              "      </script>\n",
              "    </div>\n",
              "  </div>\n",
              "  "
            ]
          },
          "metadata": {},
          "execution_count": 11
        }
      ],
      "source": [
        "# Never-worked 제외\n",
        "train = train[train['workclass'] != 'Never-worked'].reset_index(drop=True)\n",
        "train.head()"
      ]
    },
    {
      "cell_type": "code",
      "execution_count": 12,
      "metadata": {
        "colab": {
          "base_uri": "https://localhost:8080/"
        },
        "id": "Wwe2eIaCh3Li",
        "outputId": "019bc222-89f3-4eec-8df7-37060e7dc4ee"
      },
      "outputs": [
        {
          "output_type": "stream",
          "name": "stdout",
          "text": [
            "Private: 0.2189\n",
            "Self-emp-inc: 0.5438\n",
            "Local-gov: 0.301\n",
            "State-gov: 0.2838\n",
            "Federal-gov: 0.3773\n",
            "Self-emp-not-inc: 0.2932\n",
            "Without-pay: 0.0\n"
          ]
        }
      ],
      "source": [
        "# train에서 target이 1인 비율이 높은 순으로 label을 정하기로 한다\n",
        "# 따라서 Self-emp-inc, Federal-gov, Local-gov, Self-emp-not-inc, Private, Without-pay순으로 정하기로 한다.\n",
        "workclass = test['workclass'].unique()\n",
        "\n",
        "for kind in workclass:\n",
        "  data = train[train['workclass'] == kind]\n",
        "  proportion = round(np.sum(data['target']) / len(data),4)\n",
        "  print(f\"{kind}: {proportion}\")"
      ]
    },
    {
      "cell_type": "code",
      "execution_count": 13,
      "metadata": {
        "colab": {
          "base_uri": "https://localhost:8080/",
          "height": 0
        },
        "id": "5pGooyyTkUbq",
        "outputId": "9df06ddc-5f27-4609-99c9-78436094b143"
      },
      "outputs": [
        {
          "output_type": "execute_result",
          "data": {
            "text/plain": [
              "   age workclass  fnlwgt     education  education.num      marital.status  \\\n",
              "0   32   Private  309513    Assoc-acdm             12  Married-civ-spouse   \n",
              "1   33   Private  205469  Some-college             10  Married-civ-spouse   \n",
              "2   46   Private  149949  Some-college             10  Married-civ-spouse   \n",
              "3   23   Private  193090     Bachelors             13       Never-married   \n",
              "4   55   Private   60193       HS-grad              9            Divorced   \n",
              "\n",
              "        occupation   relationship   race     sex  capital.gain  capital.loss  \\\n",
              "0     Craft-repair        Husband  White    Male             0             0   \n",
              "1  Exec-managerial        Husband  White    Male             0             0   \n",
              "2     Craft-repair        Husband  White    Male             0             0   \n",
              "3     Adm-clerical      Own-child  White  Female             0             0   \n",
              "4     Adm-clerical  Not-in-family  White  Female             0             0   \n",
              "\n",
              "   hours.per.week native.country  target  \n",
              "0              40  United-States       0  \n",
              "1              40  United-States       1  \n",
              "2              40  United-States       0  \n",
              "3              30  United-States       0  \n",
              "4              40  United-States       0  "
            ],
            "text/html": [
              "\n",
              "  <div id=\"df-6cd23907-76bb-4e4b-84dc-eff0383b43cf\">\n",
              "    <div class=\"colab-df-container\">\n",
              "      <div>\n",
              "<style scoped>\n",
              "    .dataframe tbody tr th:only-of-type {\n",
              "        vertical-align: middle;\n",
              "    }\n",
              "\n",
              "    .dataframe tbody tr th {\n",
              "        vertical-align: top;\n",
              "    }\n",
              "\n",
              "    .dataframe thead th {\n",
              "        text-align: right;\n",
              "    }\n",
              "</style>\n",
              "<table border=\"1\" class=\"dataframe\">\n",
              "  <thead>\n",
              "    <tr style=\"text-align: right;\">\n",
              "      <th></th>\n",
              "      <th>age</th>\n",
              "      <th>workclass</th>\n",
              "      <th>fnlwgt</th>\n",
              "      <th>education</th>\n",
              "      <th>education.num</th>\n",
              "      <th>marital.status</th>\n",
              "      <th>occupation</th>\n",
              "      <th>relationship</th>\n",
              "      <th>race</th>\n",
              "      <th>sex</th>\n",
              "      <th>capital.gain</th>\n",
              "      <th>capital.loss</th>\n",
              "      <th>hours.per.week</th>\n",
              "      <th>native.country</th>\n",
              "      <th>target</th>\n",
              "    </tr>\n",
              "  </thead>\n",
              "  <tbody>\n",
              "    <tr>\n",
              "      <th>0</th>\n",
              "      <td>32</td>\n",
              "      <td>Private</td>\n",
              "      <td>309513</td>\n",
              "      <td>Assoc-acdm</td>\n",
              "      <td>12</td>\n",
              "      <td>Married-civ-spouse</td>\n",
              "      <td>Craft-repair</td>\n",
              "      <td>Husband</td>\n",
              "      <td>White</td>\n",
              "      <td>Male</td>\n",
              "      <td>0</td>\n",
              "      <td>0</td>\n",
              "      <td>40</td>\n",
              "      <td>United-States</td>\n",
              "      <td>0</td>\n",
              "    </tr>\n",
              "    <tr>\n",
              "      <th>1</th>\n",
              "      <td>33</td>\n",
              "      <td>Private</td>\n",
              "      <td>205469</td>\n",
              "      <td>Some-college</td>\n",
              "      <td>10</td>\n",
              "      <td>Married-civ-spouse</td>\n",
              "      <td>Exec-managerial</td>\n",
              "      <td>Husband</td>\n",
              "      <td>White</td>\n",
              "      <td>Male</td>\n",
              "      <td>0</td>\n",
              "      <td>0</td>\n",
              "      <td>40</td>\n",
              "      <td>United-States</td>\n",
              "      <td>1</td>\n",
              "    </tr>\n",
              "    <tr>\n",
              "      <th>2</th>\n",
              "      <td>46</td>\n",
              "      <td>Private</td>\n",
              "      <td>149949</td>\n",
              "      <td>Some-college</td>\n",
              "      <td>10</td>\n",
              "      <td>Married-civ-spouse</td>\n",
              "      <td>Craft-repair</td>\n",
              "      <td>Husband</td>\n",
              "      <td>White</td>\n",
              "      <td>Male</td>\n",
              "      <td>0</td>\n",
              "      <td>0</td>\n",
              "      <td>40</td>\n",
              "      <td>United-States</td>\n",
              "      <td>0</td>\n",
              "    </tr>\n",
              "    <tr>\n",
              "      <th>3</th>\n",
              "      <td>23</td>\n",
              "      <td>Private</td>\n",
              "      <td>193090</td>\n",
              "      <td>Bachelors</td>\n",
              "      <td>13</td>\n",
              "      <td>Never-married</td>\n",
              "      <td>Adm-clerical</td>\n",
              "      <td>Own-child</td>\n",
              "      <td>White</td>\n",
              "      <td>Female</td>\n",
              "      <td>0</td>\n",
              "      <td>0</td>\n",
              "      <td>30</td>\n",
              "      <td>United-States</td>\n",
              "      <td>0</td>\n",
              "    </tr>\n",
              "    <tr>\n",
              "      <th>4</th>\n",
              "      <td>55</td>\n",
              "      <td>Private</td>\n",
              "      <td>60193</td>\n",
              "      <td>HS-grad</td>\n",
              "      <td>9</td>\n",
              "      <td>Divorced</td>\n",
              "      <td>Adm-clerical</td>\n",
              "      <td>Not-in-family</td>\n",
              "      <td>White</td>\n",
              "      <td>Female</td>\n",
              "      <td>0</td>\n",
              "      <td>0</td>\n",
              "      <td>40</td>\n",
              "      <td>United-States</td>\n",
              "      <td>0</td>\n",
              "    </tr>\n",
              "  </tbody>\n",
              "</table>\n",
              "</div>\n",
              "      <button class=\"colab-df-convert\" onclick=\"convertToInteractive('df-6cd23907-76bb-4e4b-84dc-eff0383b43cf')\"\n",
              "              title=\"Convert this dataframe to an interactive table.\"\n",
              "              style=\"display:none;\">\n",
              "        \n",
              "  <svg xmlns=\"http://www.w3.org/2000/svg\" height=\"24px\"viewBox=\"0 0 24 24\"\n",
              "       width=\"24px\">\n",
              "    <path d=\"M0 0h24v24H0V0z\" fill=\"none\"/>\n",
              "    <path d=\"M18.56 5.44l.94 2.06.94-2.06 2.06-.94-2.06-.94-.94-2.06-.94 2.06-2.06.94zm-11 1L8.5 8.5l.94-2.06 2.06-.94-2.06-.94L8.5 2.5l-.94 2.06-2.06.94zm10 10l.94 2.06.94-2.06 2.06-.94-2.06-.94-.94-2.06-.94 2.06-2.06.94z\"/><path d=\"M17.41 7.96l-1.37-1.37c-.4-.4-.92-.59-1.43-.59-.52 0-1.04.2-1.43.59L10.3 9.45l-7.72 7.72c-.78.78-.78 2.05 0 2.83L4 21.41c.39.39.9.59 1.41.59.51 0 1.02-.2 1.41-.59l7.78-7.78 2.81-2.81c.8-.78.8-2.07 0-2.86zM5.41 20L4 18.59l7.72-7.72 1.47 1.35L5.41 20z\"/>\n",
              "  </svg>\n",
              "      </button>\n",
              "      \n",
              "  <style>\n",
              "    .colab-df-container {\n",
              "      display:flex;\n",
              "      flex-wrap:wrap;\n",
              "      gap: 12px;\n",
              "    }\n",
              "\n",
              "    .colab-df-convert {\n",
              "      background-color: #E8F0FE;\n",
              "      border: none;\n",
              "      border-radius: 50%;\n",
              "      cursor: pointer;\n",
              "      display: none;\n",
              "      fill: #1967D2;\n",
              "      height: 32px;\n",
              "      padding: 0 0 0 0;\n",
              "      width: 32px;\n",
              "    }\n",
              "\n",
              "    .colab-df-convert:hover {\n",
              "      background-color: #E2EBFA;\n",
              "      box-shadow: 0px 1px 2px rgba(60, 64, 67, 0.3), 0px 1px 3px 1px rgba(60, 64, 67, 0.15);\n",
              "      fill: #174EA6;\n",
              "    }\n",
              "\n",
              "    [theme=dark] .colab-df-convert {\n",
              "      background-color: #3B4455;\n",
              "      fill: #D2E3FC;\n",
              "    }\n",
              "\n",
              "    [theme=dark] .colab-df-convert:hover {\n",
              "      background-color: #434B5C;\n",
              "      box-shadow: 0px 1px 3px 1px rgba(0, 0, 0, 0.15);\n",
              "      filter: drop-shadow(0px 1px 2px rgba(0, 0, 0, 0.3));\n",
              "      fill: #FFFFFF;\n",
              "    }\n",
              "  </style>\n",
              "\n",
              "      <script>\n",
              "        const buttonEl =\n",
              "          document.querySelector('#df-6cd23907-76bb-4e4b-84dc-eff0383b43cf button.colab-df-convert');\n",
              "        buttonEl.style.display =\n",
              "          google.colab.kernel.accessAllowed ? 'block' : 'none';\n",
              "\n",
              "        async function convertToInteractive(key) {\n",
              "          const element = document.querySelector('#df-6cd23907-76bb-4e4b-84dc-eff0383b43cf');\n",
              "          const dataTable =\n",
              "            await google.colab.kernel.invokeFunction('convertToInteractive',\n",
              "                                                     [key], {});\n",
              "          if (!dataTable) return;\n",
              "\n",
              "          const docLinkHtml = 'Like what you see? Visit the ' +\n",
              "            '<a target=\"_blank\" href=https://colab.research.google.com/notebooks/data_table.ipynb>data table notebook</a>'\n",
              "            + ' to learn more about interactive tables.';\n",
              "          element.innerHTML = '';\n",
              "          dataTable['output_type'] = 'display_data';\n",
              "          await google.colab.output.renderOutput(dataTable, element);\n",
              "          const docLink = document.createElement('div');\n",
              "          docLink.innerHTML = docLinkHtml;\n",
              "          element.appendChild(docLink);\n",
              "        }\n",
              "      </script>\n",
              "    </div>\n",
              "  </div>\n",
              "  "
            ]
          },
          "metadata": {},
          "execution_count": 13
        }
      ],
      "source": [
        "# 한편, 결측치의 경우 제외시키기로 한다(최빈값 혹인 중위 값 등으로 채워넣기에는 무리가 있다.)\n",
        "train.dropna(subset=['workclass'], inplace=True)\n",
        "train.head()"
      ]
    },
    {
      "cell_type": "code",
      "execution_count": 14,
      "metadata": {
        "colab": {
          "base_uri": "https://localhost:8080/"
        },
        "id": "dDSDzI2ivAky",
        "outputId": "d07aeec5-c226-4985-9cff-13a135d29ab3"
      },
      "outputs": [
        {
          "output_type": "execute_result",
          "data": {
            "text/plain": [
              "age                 0\n",
              "workclass           0\n",
              "fnlwgt              0\n",
              "education           0\n",
              "education.num       0\n",
              "marital.status      0\n",
              "occupation          0\n",
              "relationship        0\n",
              "race                0\n",
              "sex                 0\n",
              "capital.gain        0\n",
              "capital.loss        0\n",
              "hours.per.week      0\n",
              "native.country    556\n",
              "target              0\n",
              "dtype: int64"
            ]
          },
          "metadata": {},
          "execution_count": 14
        }
      ],
      "source": [
        "# 결측치 처리 결과, occupation에 있었던 결측치까지 함께 제거되었다\n",
        "train.isnull().sum()"
      ]
    },
    {
      "cell_type": "code",
      "execution_count": 15,
      "metadata": {
        "id": "8t7eJT0ulC6W"
      },
      "outputs": [],
      "source": [
        "map_class = {'Without-pay':0, 'Private':1, 'State-gov':2, 'Self-emp-not-inc':3, 'Local-gov':4, 'Federal-gov': 5, 'Self-emp-inc':6}\n",
        "train[['workclass']] = train[['workclass']].applymap(map_class.get)\n",
        "test[['workclass']] = test[['workclass']].applymap(map_class.get)"
      ]
    },
    {
      "cell_type": "markdown",
      "metadata": {
        "id": "Ngptt9Tev7Ib"
      },
      "source": [
        "#### native country"
      ]
    },
    {
      "cell_type": "code",
      "execution_count": 16,
      "metadata": {
        "colab": {
          "base_uri": "https://localhost:8080/"
        },
        "id": "UFBXcjBCv9K-",
        "outputId": "9f188732-4a34-41de-bdde-3c0dc057f0b7"
      },
      "outputs": [
        {
          "output_type": "stream",
          "name": "stdout",
          "text": [
            "number of unique values:  41\n"
          ]
        },
        {
          "output_type": "execute_result",
          "data": {
            "text/plain": [
              "United-States                 13727\n",
              "Mexico                          322\n",
              "Philippines                      98\n",
              "Germany                          66\n",
              "Puerto-Rico                      54\n",
              "El-Salvador                      52\n",
              "Canada                           49\n",
              "India                            47\n",
              "Cuba                             46\n",
              "England                          42\n",
              "Jamaica                          41\n",
              "Dominican-Republic               35\n",
              "Guatemala                        35\n",
              "Columbia                         34\n",
              "China                            33\n",
              "Italy                            33\n",
              "Poland                           31\n",
              "South                            30\n",
              "Japan                            30\n",
              "Vietnam                          29\n",
              "Haiti                            21\n",
              "Taiwan                           19\n",
              "Nicaragua                        19\n",
              "Ecuador                          18\n",
              "Ireland                          18\n",
              "Portugal                         17\n",
              "Iran                             16\n",
              "Peru                             16\n",
              "Greece                           14\n",
              "France                           12\n",
              "Cambodia                         10\n",
              "Laos                              9\n",
              "Yugoslavia                        9\n",
              "Trinadad&Tobago                   9\n",
              "Hong                              8\n",
              "Hungary                           7\n",
              "Outlying-US(Guam-USVI-etc)        7\n",
              "Honduras                          6\n",
              "Scotland                          6\n",
              "Thailand                          5\n",
              "Holand-Netherlands                1\n",
              "Name: native.country, dtype: int64"
            ]
          },
          "metadata": {},
          "execution_count": 16
        }
      ],
      "source": [
        "print(\"number of unique values: \", train['native.country'].nunique())\n",
        "train['native.country'].value_counts()"
      ]
    },
    {
      "cell_type": "code",
      "execution_count": 17,
      "metadata": {
        "colab": {
          "base_uri": "https://localhost:8080/"
        },
        "id": "pfrQVdNLwQG7",
        "outputId": "38ab7cfb-11f8-4989-dc37-49cca7c830d2"
      },
      "outputs": [
        {
          "output_type": "stream",
          "name": "stdout",
          "text": [
            "number of unique values:  40\n"
          ]
        },
        {
          "output_type": "execute_result",
          "data": {
            "text/plain": [
              "United-States                 13777\n",
              "Mexico                          288\n",
              "Philippines                      90\n",
              "Germany                          62\n",
              "Canada                           58\n",
              "Puerto-Rico                      55\n",
              "India                            53\n",
              "El-Salvador                      48\n",
              "Cuba                             46\n",
              "England                          44\n",
              "South                            41\n",
              "Jamaica                          39\n",
              "China                            35\n",
              "Vietnam                          35\n",
              "Italy                            35\n",
              "Dominican-Republic               32\n",
              "Japan                            29\n",
              "Guatemala                        28\n",
              "Iran                             26\n",
              "Poland                           25\n",
              "Taiwan                           23\n",
              "Columbia                         22\n",
              "Haiti                            21\n",
              "Portugal                         17\n",
              "Greece                           15\n",
              "France                           15\n",
              "Peru                             14\n",
              "Nicaragua                        14\n",
              "Thailand                         12\n",
              "Hong                             11\n",
              "Ecuador                           9\n",
              "Trinadad&Tobago                   9\n",
              "Cambodia                          8\n",
              "Laos                              8\n",
              "Yugoslavia                        7\n",
              "Outlying-US(Guam-USVI-etc)        7\n",
              "Honduras                          6\n",
              "Hungary                           6\n",
              "Ireland                           6\n",
              "Scotland                          5\n",
              "Name: native.country, dtype: int64"
            ]
          },
          "metadata": {},
          "execution_count": 17
        }
      ],
      "source": [
        "#Holand-Netherlands가 없다는 것을 제외하고 같은 나라들이다.\n",
        "print(\"number of unique values: \", test['native.country'].nunique())\n",
        "test['native.country'].value_counts()"
      ]
    },
    {
      "cell_type": "code",
      "execution_count": 18,
      "metadata": {
        "id": "qKZjyMIJwT9R"
      },
      "outputs": [],
      "source": [
        "# native.country가 NaN인 경우에 대해서는 일단 전체 관측치들 중 native.country가 United-states인 경우가 압도적으로 많으므로 United-states로 설정하자\n",
        "train['native.country'] = train['native.country'].fillna('United-States')"
      ]
    },
    {
      "cell_type": "code",
      "execution_count": 19,
      "metadata": {
        "id": "Q59GKP_6yTs_"
      },
      "outputs": [],
      "source": [
        "# train에서 Holand-Netherlands인 관측치를 삭제한다.\n",
        "train = train[train['native.country'] != 'Holand-Netherlands']"
      ]
    },
    {
      "cell_type": "code",
      "execution_count": 20,
      "metadata": {
        "colab": {
          "base_uri": "https://localhost:8080/",
          "height": 0
        },
        "id": "l7z_HyyB0smJ",
        "outputId": "e6fee41d-f92c-439c-f753-a4aaa06d5642"
      },
      "outputs": [
        {
          "output_type": "display_data",
          "data": {
            "text/plain": [
              "               proportion\n",
              "United-States      0.2569\n",
              "Mexico             0.0497\n",
              "Vietnam            0.0345\n",
              "Iran               0.6875\n",
              "China              0.2424"
            ],
            "text/html": [
              "\n",
              "  <div id=\"df-8f8ab866-6e23-4ae7-9026-0f043d7b6877\">\n",
              "    <div class=\"colab-df-container\">\n",
              "      <div>\n",
              "<style scoped>\n",
              "    .dataframe tbody tr th:only-of-type {\n",
              "        vertical-align: middle;\n",
              "    }\n",
              "\n",
              "    .dataframe tbody tr th {\n",
              "        vertical-align: top;\n",
              "    }\n",
              "\n",
              "    .dataframe thead th {\n",
              "        text-align: right;\n",
              "    }\n",
              "</style>\n",
              "<table border=\"1\" class=\"dataframe\">\n",
              "  <thead>\n",
              "    <tr style=\"text-align: right;\">\n",
              "      <th></th>\n",
              "      <th>proportion</th>\n",
              "    </tr>\n",
              "  </thead>\n",
              "  <tbody>\n",
              "    <tr>\n",
              "      <th>United-States</th>\n",
              "      <td>0.2569</td>\n",
              "    </tr>\n",
              "    <tr>\n",
              "      <th>Mexico</th>\n",
              "      <td>0.0497</td>\n",
              "    </tr>\n",
              "    <tr>\n",
              "      <th>Vietnam</th>\n",
              "      <td>0.0345</td>\n",
              "    </tr>\n",
              "    <tr>\n",
              "      <th>Iran</th>\n",
              "      <td>0.6875</td>\n",
              "    </tr>\n",
              "    <tr>\n",
              "      <th>China</th>\n",
              "      <td>0.2424</td>\n",
              "    </tr>\n",
              "  </tbody>\n",
              "</table>\n",
              "</div>\n",
              "      <button class=\"colab-df-convert\" onclick=\"convertToInteractive('df-8f8ab866-6e23-4ae7-9026-0f043d7b6877')\"\n",
              "              title=\"Convert this dataframe to an interactive table.\"\n",
              "              style=\"display:none;\">\n",
              "        \n",
              "  <svg xmlns=\"http://www.w3.org/2000/svg\" height=\"24px\"viewBox=\"0 0 24 24\"\n",
              "       width=\"24px\">\n",
              "    <path d=\"M0 0h24v24H0V0z\" fill=\"none\"/>\n",
              "    <path d=\"M18.56 5.44l.94 2.06.94-2.06 2.06-.94-2.06-.94-.94-2.06-.94 2.06-2.06.94zm-11 1L8.5 8.5l.94-2.06 2.06-.94-2.06-.94L8.5 2.5l-.94 2.06-2.06.94zm10 10l.94 2.06.94-2.06 2.06-.94-2.06-.94-.94-2.06-.94 2.06-2.06.94z\"/><path d=\"M17.41 7.96l-1.37-1.37c-.4-.4-.92-.59-1.43-.59-.52 0-1.04.2-1.43.59L10.3 9.45l-7.72 7.72c-.78.78-.78 2.05 0 2.83L4 21.41c.39.39.9.59 1.41.59.51 0 1.02-.2 1.41-.59l7.78-7.78 2.81-2.81c.8-.78.8-2.07 0-2.86zM5.41 20L4 18.59l7.72-7.72 1.47 1.35L5.41 20z\"/>\n",
              "  </svg>\n",
              "      </button>\n",
              "      \n",
              "  <style>\n",
              "    .colab-df-container {\n",
              "      display:flex;\n",
              "      flex-wrap:wrap;\n",
              "      gap: 12px;\n",
              "    }\n",
              "\n",
              "    .colab-df-convert {\n",
              "      background-color: #E8F0FE;\n",
              "      border: none;\n",
              "      border-radius: 50%;\n",
              "      cursor: pointer;\n",
              "      display: none;\n",
              "      fill: #1967D2;\n",
              "      height: 32px;\n",
              "      padding: 0 0 0 0;\n",
              "      width: 32px;\n",
              "    }\n",
              "\n",
              "    .colab-df-convert:hover {\n",
              "      background-color: #E2EBFA;\n",
              "      box-shadow: 0px 1px 2px rgba(60, 64, 67, 0.3), 0px 1px 3px 1px rgba(60, 64, 67, 0.15);\n",
              "      fill: #174EA6;\n",
              "    }\n",
              "\n",
              "    [theme=dark] .colab-df-convert {\n",
              "      background-color: #3B4455;\n",
              "      fill: #D2E3FC;\n",
              "    }\n",
              "\n",
              "    [theme=dark] .colab-df-convert:hover {\n",
              "      background-color: #434B5C;\n",
              "      box-shadow: 0px 1px 3px 1px rgba(0, 0, 0, 0.15);\n",
              "      filter: drop-shadow(0px 1px 2px rgba(0, 0, 0, 0.3));\n",
              "      fill: #FFFFFF;\n",
              "    }\n",
              "  </style>\n",
              "\n",
              "      <script>\n",
              "        const buttonEl =\n",
              "          document.querySelector('#df-8f8ab866-6e23-4ae7-9026-0f043d7b6877 button.colab-df-convert');\n",
              "        buttonEl.style.display =\n",
              "          google.colab.kernel.accessAllowed ? 'block' : 'none';\n",
              "\n",
              "        async function convertToInteractive(key) {\n",
              "          const element = document.querySelector('#df-8f8ab866-6e23-4ae7-9026-0f043d7b6877');\n",
              "          const dataTable =\n",
              "            await google.colab.kernel.invokeFunction('convertToInteractive',\n",
              "                                                     [key], {});\n",
              "          if (!dataTable) return;\n",
              "\n",
              "          const docLinkHtml = 'Like what you see? Visit the ' +\n",
              "            '<a target=\"_blank\" href=https://colab.research.google.com/notebooks/data_table.ipynb>data table notebook</a>'\n",
              "            + ' to learn more about interactive tables.';\n",
              "          element.innerHTML = '';\n",
              "          dataTable['output_type'] = 'display_data';\n",
              "          await google.colab.output.renderOutput(dataTable, element);\n",
              "          const docLink = document.createElement('div');\n",
              "          docLink.innerHTML = docLinkHtml;\n",
              "          element.appendChild(docLink);\n",
              "        }\n",
              "      </script>\n",
              "    </div>\n",
              "  </div>\n",
              "  "
            ]
          },
          "metadata": {}
        }
      ],
      "source": [
        "# train에서 target이 1인 비율이 높은 순으로 label을 정하기로 한다\n",
        "country = test['native.country'].unique()\n",
        "country_dict = {}\n",
        "for nation in country:\n",
        "  data = train[train['native.country'] == nation]\n",
        "  proportion = round(np.sum(data['target']) / len(data),4)\n",
        "  country_dict[nation] = proportion\n",
        "country_df = pd.DataFrame(index=country_dict.keys(), data=country_dict.values())\n",
        "country_df.rename(columns={0:'proportion'}, inplace=True)\n",
        "display(country_df.head())"
      ]
    },
    {
      "cell_type": "code",
      "execution_count": 21,
      "metadata": {
        "colab": {
          "base_uri": "https://localhost:8080/",
          "height": 0
        },
        "id": "PWoyn8df4tzQ",
        "outputId": "d2e3996d-816a-4557-8761-c87f3c87b32d"
      },
      "outputs": [
        {
          "output_type": "execute_result",
          "data": {
            "text/plain": [
              "            proportion\n",
              "Iran            0.6875\n",
              "Yugoslavia      0.4444\n",
              "India           0.4043\n",
              "Japan           0.4000\n",
              "Canada          0.3878"
            ],
            "text/html": [
              "\n",
              "  <div id=\"df-d9eea956-6261-468b-9534-cf9c30961090\">\n",
              "    <div class=\"colab-df-container\">\n",
              "      <div>\n",
              "<style scoped>\n",
              "    .dataframe tbody tr th:only-of-type {\n",
              "        vertical-align: middle;\n",
              "    }\n",
              "\n",
              "    .dataframe tbody tr th {\n",
              "        vertical-align: top;\n",
              "    }\n",
              "\n",
              "    .dataframe thead th {\n",
              "        text-align: right;\n",
              "    }\n",
              "</style>\n",
              "<table border=\"1\" class=\"dataframe\">\n",
              "  <thead>\n",
              "    <tr style=\"text-align: right;\">\n",
              "      <th></th>\n",
              "      <th>proportion</th>\n",
              "    </tr>\n",
              "  </thead>\n",
              "  <tbody>\n",
              "    <tr>\n",
              "      <th>Iran</th>\n",
              "      <td>0.6875</td>\n",
              "    </tr>\n",
              "    <tr>\n",
              "      <th>Yugoslavia</th>\n",
              "      <td>0.4444</td>\n",
              "    </tr>\n",
              "    <tr>\n",
              "      <th>India</th>\n",
              "      <td>0.4043</td>\n",
              "    </tr>\n",
              "    <tr>\n",
              "      <th>Japan</th>\n",
              "      <td>0.4000</td>\n",
              "    </tr>\n",
              "    <tr>\n",
              "      <th>Canada</th>\n",
              "      <td>0.3878</td>\n",
              "    </tr>\n",
              "  </tbody>\n",
              "</table>\n",
              "</div>\n",
              "      <button class=\"colab-df-convert\" onclick=\"convertToInteractive('df-d9eea956-6261-468b-9534-cf9c30961090')\"\n",
              "              title=\"Convert this dataframe to an interactive table.\"\n",
              "              style=\"display:none;\">\n",
              "        \n",
              "  <svg xmlns=\"http://www.w3.org/2000/svg\" height=\"24px\"viewBox=\"0 0 24 24\"\n",
              "       width=\"24px\">\n",
              "    <path d=\"M0 0h24v24H0V0z\" fill=\"none\"/>\n",
              "    <path d=\"M18.56 5.44l.94 2.06.94-2.06 2.06-.94-2.06-.94-.94-2.06-.94 2.06-2.06.94zm-11 1L8.5 8.5l.94-2.06 2.06-.94-2.06-.94L8.5 2.5l-.94 2.06-2.06.94zm10 10l.94 2.06.94-2.06 2.06-.94-2.06-.94-.94-2.06-.94 2.06-2.06.94z\"/><path d=\"M17.41 7.96l-1.37-1.37c-.4-.4-.92-.59-1.43-.59-.52 0-1.04.2-1.43.59L10.3 9.45l-7.72 7.72c-.78.78-.78 2.05 0 2.83L4 21.41c.39.39.9.59 1.41.59.51 0 1.02-.2 1.41-.59l7.78-7.78 2.81-2.81c.8-.78.8-2.07 0-2.86zM5.41 20L4 18.59l7.72-7.72 1.47 1.35L5.41 20z\"/>\n",
              "  </svg>\n",
              "      </button>\n",
              "      \n",
              "  <style>\n",
              "    .colab-df-container {\n",
              "      display:flex;\n",
              "      flex-wrap:wrap;\n",
              "      gap: 12px;\n",
              "    }\n",
              "\n",
              "    .colab-df-convert {\n",
              "      background-color: #E8F0FE;\n",
              "      border: none;\n",
              "      border-radius: 50%;\n",
              "      cursor: pointer;\n",
              "      display: none;\n",
              "      fill: #1967D2;\n",
              "      height: 32px;\n",
              "      padding: 0 0 0 0;\n",
              "      width: 32px;\n",
              "    }\n",
              "\n",
              "    .colab-df-convert:hover {\n",
              "      background-color: #E2EBFA;\n",
              "      box-shadow: 0px 1px 2px rgba(60, 64, 67, 0.3), 0px 1px 3px 1px rgba(60, 64, 67, 0.15);\n",
              "      fill: #174EA6;\n",
              "    }\n",
              "\n",
              "    [theme=dark] .colab-df-convert {\n",
              "      background-color: #3B4455;\n",
              "      fill: #D2E3FC;\n",
              "    }\n",
              "\n",
              "    [theme=dark] .colab-df-convert:hover {\n",
              "      background-color: #434B5C;\n",
              "      box-shadow: 0px 1px 3px 1px rgba(0, 0, 0, 0.15);\n",
              "      filter: drop-shadow(0px 1px 2px rgba(0, 0, 0, 0.3));\n",
              "      fill: #FFFFFF;\n",
              "    }\n",
              "  </style>\n",
              "\n",
              "      <script>\n",
              "        const buttonEl =\n",
              "          document.querySelector('#df-d9eea956-6261-468b-9534-cf9c30961090 button.colab-df-convert');\n",
              "        buttonEl.style.display =\n",
              "          google.colab.kernel.accessAllowed ? 'block' : 'none';\n",
              "\n",
              "        async function convertToInteractive(key) {\n",
              "          const element = document.querySelector('#df-d9eea956-6261-468b-9534-cf9c30961090');\n",
              "          const dataTable =\n",
              "            await google.colab.kernel.invokeFunction('convertToInteractive',\n",
              "                                                     [key], {});\n",
              "          if (!dataTable) return;\n",
              "\n",
              "          const docLinkHtml = 'Like what you see? Visit the ' +\n",
              "            '<a target=\"_blank\" href=https://colab.research.google.com/notebooks/data_table.ipynb>data table notebook</a>'\n",
              "            + ' to learn more about interactive tables.';\n",
              "          element.innerHTML = '';\n",
              "          dataTable['output_type'] = 'display_data';\n",
              "          await google.colab.output.renderOutput(dataTable, element);\n",
              "          const docLink = document.createElement('div');\n",
              "          docLink.innerHTML = docLinkHtml;\n",
              "          element.appendChild(docLink);\n",
              "        }\n",
              "      </script>\n",
              "    </div>\n",
              "  </div>\n",
              "  "
            ]
          },
          "metadata": {},
          "execution_count": 21
        }
      ],
      "source": [
        "country_df = country_df.sort_values(by='proportion', ascending=False)\n",
        "country_df.head()"
      ]
    },
    {
      "cell_type": "code",
      "execution_count": 22,
      "metadata": {
        "id": "Lpx7uHoU3lkU"
      },
      "outputs": [],
      "source": [
        "map_class2 ={}\n",
        "for i in range(40):\n",
        "  map_class2[country_df.index[i]] = i\n",
        "train[['native.country']] = train[['native.country']].applymap(map_class2.get)\n",
        "test[['native.country']] = test[['native.country']].applymap(map_class2.get)"
      ]
    },
    {
      "cell_type": "markdown",
      "metadata": {
        "id": "v2kjcwzVmurB"
      },
      "source": [
        "#### education"
      ]
    },
    {
      "cell_type": "code",
      "execution_count": 23,
      "metadata": {
        "colab": {
          "base_uri": "https://localhost:8080/"
        },
        "id": "f8DVJ7TYmwDf",
        "outputId": "7377fcf2-5b17-452b-94b5-58b827b4e827"
      },
      "outputs": [
        {
          "output_type": "stream",
          "name": "stdout",
          "text": [
            "number of unique values:  16\n"
          ]
        },
        {
          "output_type": "execute_result",
          "data": {
            "text/plain": [
              "HS-grad         5033\n",
              "Some-college    3388\n",
              "Bachelors       2669\n",
              "Masters          873\n",
              "Assoc-voc        663\n",
              "11th             545\n",
              "Assoc-acdm       541\n",
              "10th             408\n",
              "7th-8th          305\n",
              "Prof-school      283\n",
              "9th              243\n",
              "12th             209\n",
              "Doctorate        199\n",
              "5th-6th          167\n",
              "1st-4th           84\n",
              "Preschool         26\n",
              "Name: education, dtype: int64"
            ]
          },
          "metadata": {},
          "execution_count": 23
        }
      ],
      "source": [
        "print(\"number of unique values: \", train['education'].nunique())\n",
        "train['education'].value_counts()"
      ]
    },
    {
      "cell_type": "code",
      "execution_count": 24,
      "metadata": {
        "colab": {
          "base_uri": "https://localhost:8080/"
        },
        "id": "_Rj8y0aKm8Q1",
        "outputId": "97262d6b-ac93-4be6-d819-ba18e01bccb0"
      },
      "outputs": [
        {
          "output_type": "stream",
          "name": "stdout",
          "text": [
            "number of unique values:  16\n"
          ]
        },
        {
          "output_type": "execute_result",
          "data": {
            "text/plain": [
              "HS-grad         4935\n",
              "Some-college    3386\n",
              "Bachelors       2513\n",
              "Masters          802\n",
              "Assoc-voc        658\n",
              "11th             511\n",
              "Assoc-acdm       479\n",
              "10th             423\n",
              "Prof-school      275\n",
              "7th-8th          268\n",
              "9th              220\n",
              "Doctorate        199\n",
              "12th             184\n",
              "5th-6th          136\n",
              "1st-4th           72\n",
              "Preschool         20\n",
              "Name: education, dtype: int64"
            ]
          },
          "metadata": {},
          "execution_count": 24
        }
      ],
      "source": [
        "print(\"number of unique values: \",test['education'].nunique())\n",
        "test['education'].value_counts()"
      ]
    },
    {
      "cell_type": "code",
      "execution_count": 25,
      "metadata": {
        "id": "NS3sqv1sndJM"
      },
      "outputs": [],
      "source": [
        "# train과 test의 범주가 같고, 각각의 범주가 무엇을 의미하는 지 알고 있다. \n",
        "# 교육수준이 낮은 순서부터 높은 순서대로 label을 정하기로 하자.\n",
        "map_class3 = {'Preschool':0, '1st-4th':1, '5th-6th':2, '7th-8th':3, '9th':4, '10th': 5, '11th':6,\n",
        "              '12th':7, 'HS-grad':8, 'Prof-school':9, 'Assoc-acdm':10, 'Assoc-voc':11,\n",
        "              'Some-college':12, 'Bachelors':13, 'Masters':14, 'Doctorate':15}\n",
        "train[['education']] = train[['education']].applymap(map_class3.get)\n",
        "test[['education']] = test[['education']].applymap(map_class3.get)"
      ]
    },
    {
      "cell_type": "markdown",
      "metadata": {
        "id": "iwnR75-KpShJ"
      },
      "source": [
        "#### marital.status"
      ]
    },
    {
      "cell_type": "code",
      "execution_count": 26,
      "metadata": {
        "colab": {
          "base_uri": "https://localhost:8080/"
        },
        "id": "3qgEl0CKpWol",
        "outputId": "c464f725-c78e-4970-eb5b-bc5c43928b88"
      },
      "outputs": [
        {
          "output_type": "stream",
          "name": "stdout",
          "text": [
            "number of unique values:  7\n"
          ]
        },
        {
          "output_type": "execute_result",
          "data": {
            "text/plain": [
              "Married-civ-spouse       7366\n",
              "Never-married            4999\n",
              "Divorced                 2130\n",
              "Separated                 474\n",
              "Widowed                   437\n",
              "Married-spouse-absent     218\n",
              "Married-AF-spouse          12\n",
              "Name: marital.status, dtype: int64"
            ]
          },
          "metadata": {},
          "execution_count": 26
        }
      ],
      "source": [
        "print(\"number of unique values: \", train['marital.status'].nunique())\n",
        "train['marital.status'].value_counts()"
      ]
    },
    {
      "cell_type": "code",
      "execution_count": 27,
      "metadata": {
        "colab": {
          "base_uri": "https://localhost:8080/"
        },
        "id": "dCK5FERgpnyC",
        "outputId": "97159b34-d9c2-4464-e9a3-80a28ec29586"
      },
      "outputs": [
        {
          "output_type": "stream",
          "name": "stdout",
          "text": [
            "number of unique values:  7\n"
          ]
        },
        {
          "output_type": "execute_result",
          "data": {
            "text/plain": [
              "Married-civ-spouse       6973\n",
              "Never-married            4912\n",
              "Divorced                 2128\n",
              "Separated                 485\n",
              "Widowed                   403\n",
              "Married-spouse-absent     171\n",
              "Married-AF-spouse           9\n",
              "Name: marital.status, dtype: int64"
            ]
          },
          "metadata": {},
          "execution_count": 27
        }
      ],
      "source": [
        "print(\"number of unique values: \", test['marital.status'].nunique())\n",
        "test['marital.status'].value_counts()"
      ]
    },
    {
      "cell_type": "code",
      "execution_count": 28,
      "metadata": {
        "colab": {
          "base_uri": "https://localhost:8080/"
        },
        "id": "NgMn1OUtp3Zz",
        "outputId": "22071f24-d150-4abd-8939-cc79d6befceb"
      },
      "outputs": [
        {
          "output_type": "stream",
          "name": "stdout",
          "text": [
            "Married-civ-spouse: 0.4519\n",
            "Never-married: 0.0488\n",
            "Widowed: 0.1007\n",
            "Divorced: 0.1131\n",
            "Married-spouse-absent: 0.0826\n",
            "Separated: 0.0717\n",
            "Married-AF-spouse: 0.4167\n"
          ]
        }
      ],
      "source": [
        "# train에서 target이 1인 비율이 높은 순으로 label을 정하기로 한다\n",
        "# 따라서 Married-civ-spouse, Married-AF-spouse, Divorced, Widowed, Married-spouse-absent, Separated, Never-married 순으로 label을 정하기로 하자.\n",
        "marital_status = test['marital.status'].unique()\n",
        "\n",
        "for status in marital_status:\n",
        "  data = train[train['marital.status'] == status]\n",
        "  proportion = round(np.sum(data['target']) / len(data),4)\n",
        "  print(f\"{status}: {proportion}\")"
      ]
    },
    {
      "cell_type": "code",
      "execution_count": 29,
      "metadata": {
        "id": "iyg-4YZWqyv2"
      },
      "outputs": [],
      "source": [
        "map_class4 = {'Never-married':0, 'Separated':1, 'Married-spouse-absent':2, 'Widowed':3, 'Divorced':4, 'Married-AF-spouse': 5, 'Married-civ-spouse':6}\n",
        "train[['marital.status']] = train[['marital.status']].applymap(map_class4.get)\n",
        "test[['marital.status']] = test[['marital.status']].applymap(map_class4.get)"
      ]
    },
    {
      "cell_type": "markdown",
      "metadata": {
        "id": "onRAEMrjsf0L"
      },
      "source": [
        "#### occupation"
      ]
    },
    {
      "cell_type": "code",
      "execution_count": 30,
      "metadata": {
        "colab": {
          "base_uri": "https://localhost:8080/"
        },
        "id": "1AoilrbAsk-x",
        "outputId": "4cb28b3d-2e7e-4399-af0d-272d3553b606"
      },
      "outputs": [
        {
          "output_type": "stream",
          "name": "stdout",
          "text": [
            "number of unique values:  14\n"
          ]
        },
        {
          "output_type": "execute_result",
          "data": {
            "text/plain": [
              "Exec-managerial      2113\n",
              "Craft-repair         2101\n",
              "Prof-specialty       2085\n",
              "Adm-clerical         1893\n",
              "Sales                1829\n",
              "Other-service        1677\n",
              "Machine-op-inspct    1039\n",
              "Transport-moving      785\n",
              "Handlers-cleaners     695\n",
              "Farming-fishing       508\n",
              "Tech-support          475\n",
              "Protective-serv       350\n",
              "Priv-house-serv        83\n",
              "Armed-Forces            3\n",
              "Name: occupation, dtype: int64"
            ]
          },
          "metadata": {},
          "execution_count": 30
        }
      ],
      "source": [
        "print(\"number of unique values: \", train['occupation'].nunique())\n",
        "train['occupation'].value_counts()"
      ]
    },
    {
      "cell_type": "code",
      "execution_count": 31,
      "metadata": {
        "colab": {
          "base_uri": "https://localhost:8080/"
        },
        "id": "T_0b12icsqnA",
        "outputId": "4922ecd5-9978-4154-876e-c2ad161b0255"
      },
      "outputs": [
        {
          "output_type": "stream",
          "name": "stdout",
          "text": [
            "number of unique values:  14\n"
          ]
        },
        {
          "output_type": "execute_result",
          "data": {
            "text/plain": [
              "Prof-specialty       2055\n",
              "Craft-repair         1998\n",
              "Exec-managerial      1953\n",
              "Adm-clerical         1877\n",
              "Sales                1821\n",
              "Other-service        1618\n",
              "Machine-op-inspct     962\n",
              "Transport-moving      812\n",
              "Handlers-cleaners     675\n",
              "Farming-fishing       486\n",
              "Tech-support          453\n",
              "Protective-serv       299\n",
              "Priv-house-serv        66\n",
              "Armed-Forces            6\n",
              "Name: occupation, dtype: int64"
            ]
          },
          "metadata": {},
          "execution_count": 31
        }
      ],
      "source": [
        "print(\"number of unique values: \", train['occupation'].nunique())\n",
        "test['occupation'].value_counts()"
      ]
    },
    {
      "cell_type": "code",
      "execution_count": 32,
      "metadata": {
        "colab": {
          "base_uri": "https://localhost:8080/"
        },
        "id": "iAzdUb24suLA",
        "outputId": "cd3ce1ad-5b67-4b8b-b78b-b1f92ee2bd1f"
      },
      "outputs": [
        {
          "output_type": "stream",
          "name": "stdout",
          "text": [
            "Exec-managerial: 0.4841\n",
            "Sales: 0.2712\n",
            "Craft-repair: 0.227\n",
            "Prof-specialty: 0.4523\n",
            "Adm-clerical: 0.1384\n",
            "Other-service: 0.0429\n",
            "Protective-serv: 0.3229\n",
            "Handlers-cleaners: 0.0561\n",
            "Transport-moving: 0.1911\n",
            "Tech-support: 0.2989\n",
            "Machine-op-inspct: 0.128\n",
            "Farming-fishing: 0.128\n",
            "Priv-house-serv: 0.0\n",
            "Armed-Forces: 0.0\n"
          ]
        }
      ],
      "source": [
        "# train에서 target이 1인 비율이 높은 순으로 label을 정하기로 한다\n",
        "occupations = test['occupation'].unique()\n",
        "\n",
        "for job in occupations:\n",
        "  data = train[train['occupation'] == job]\n",
        "  proportion = round(np.sum(data['target']) / len(data),4)\n",
        "  print(f\"{job}: {proportion}\")"
      ]
    },
    {
      "cell_type": "code",
      "execution_count": 33,
      "metadata": {
        "id": "MpD5DqRctIWL"
      },
      "outputs": [],
      "source": [
        "map_class5 = {'Armed-Forces':0, 'Priv-house-serv':1, 'Other-service':2, 'Handlers-cleaners':3, 'Machine-op-inspct':4, \n",
        "              'Farming-fishing': 5, 'Adm-clerical':6, 'Transport-moving':7, 'Craft-repair':8, 'Sales':9,\n",
        "              'Tech-support':10, 'Protective-serv':11, 'Prof-specialty':12, 'Exec-managerial':13}\n",
        "train[['occupation']] = train[['occupation']].applymap(map_class5.get)\n",
        "test[['occupation']] = test[['occupation']].applymap(map_class5.get)"
      ]
    },
    {
      "cell_type": "markdown",
      "metadata": {
        "id": "tHk0wz1I6ety"
      },
      "source": [
        "#### relationship"
      ]
    },
    {
      "cell_type": "code",
      "execution_count": 34,
      "metadata": {
        "colab": {
          "base_uri": "https://localhost:8080/"
        },
        "id": "PQAp9H046gt7",
        "outputId": "c3e69740-f830-4704-f113-f3f194986bec"
      },
      "outputs": [
        {
          "output_type": "stream",
          "name": "stdout",
          "text": [
            "number of unique values:  6\n"
          ]
        },
        {
          "output_type": "execute_result",
          "data": {
            "text/plain": [
              "Husband           6483\n",
              "Not-in-family     3975\n",
              "Own-child         2291\n",
              "Unmarried         1647\n",
              "Wife               771\n",
              "Other-relative     469\n",
              "Name: relationship, dtype: int64"
            ]
          },
          "metadata": {},
          "execution_count": 34
        }
      ],
      "source": [
        "print(\"number of unique values: \", train['relationship'].nunique())\n",
        "train['relationship'].value_counts()"
      ]
    },
    {
      "cell_type": "code",
      "execution_count": 35,
      "metadata": {
        "colab": {
          "base_uri": "https://localhost:8080/"
        },
        "id": "DRlsAWeS61aN",
        "outputId": "35dfc8ab-6481-40f9-e289-86170a4cb669"
      },
      "outputs": [
        {
          "output_type": "stream",
          "name": "stdout",
          "text": [
            "number of unique values:  6\n"
          ]
        },
        {
          "output_type": "execute_result",
          "data": {
            "text/plain": [
              "Husband           6221\n",
              "Not-in-family     3890\n",
              "Own-child         2234\n",
              "Unmarried         1624\n",
              "Wife               664\n",
              "Other-relative     448\n",
              "Name: relationship, dtype: int64"
            ]
          },
          "metadata": {},
          "execution_count": 35
        }
      ],
      "source": [
        "print(\"number of unique values: \", test['relationship'].nunique())\n",
        "test['relationship'].value_counts()"
      ]
    },
    {
      "cell_type": "code",
      "execution_count": 36,
      "metadata": {
        "colab": {
          "base_uri": "https://localhost:8080/"
        },
        "id": "YGy1crMJ65cT",
        "outputId": "497ce26a-93bf-463e-bfd4-b5fefac45e84"
      },
      "outputs": [
        {
          "output_type": "stream",
          "name": "stdout",
          "text": [
            "Husband: 0.454\n",
            "Not-in-family: 0.1117\n",
            "Unmarried: 0.0638\n",
            "Own-child: 0.0162\n",
            "Other-relative: 0.0426\n",
            "Wife: 0.4747\n"
          ]
        }
      ],
      "source": [
        "# train에서 target이 1인 비율이 높은 순으로 label을 정하기로 한다\n",
        "relationship = test['relationship'].unique()\n",
        "\n",
        "for relation in relationship:\n",
        "  data = train[train['relationship'] == relation]\n",
        "  proportion = round(np.sum(data['target']) / len(data),4)\n",
        "  print(f\"{relation}: {proportion}\")"
      ]
    },
    {
      "cell_type": "code",
      "execution_count": 37,
      "metadata": {
        "id": "sjyjB0U67TX-"
      },
      "outputs": [],
      "source": [
        "map_class6 = {'Own-child':0, 'Other-relative':1, 'Unmarried':2, 'Not-in-family':3, 'Husband':4, 'Wife': 5}\n",
        "train[['relationship']] = train[['relationship']].applymap(map_class6.get)\n",
        "test[['relationship']] = test[['relationship']].applymap(map_class6.get)"
      ]
    },
    {
      "cell_type": "markdown",
      "metadata": {
        "id": "Kb0jtvmK778g"
      },
      "source": [
        "#### race"
      ]
    },
    {
      "cell_type": "code",
      "execution_count": 38,
      "metadata": {
        "colab": {
          "base_uri": "https://localhost:8080/"
        },
        "id": "a680JbX779Rh",
        "outputId": "9c5cf6a0-49bb-46b4-b7e8-3ffbedacb716"
      },
      "outputs": [
        {
          "output_type": "stream",
          "name": "stdout",
          "text": [
            "number of unique values:  5\n"
          ]
        },
        {
          "output_type": "execute_result",
          "data": {
            "text/plain": [
              "White                 13348\n",
              "Black                  1487\n",
              "Asian-Pac-Islander      521\n",
              "Amer-Indian-Eskimo      140\n",
              "Other                   140\n",
              "Name: race, dtype: int64"
            ]
          },
          "metadata": {},
          "execution_count": 38
        }
      ],
      "source": [
        "print(\"number of unique values: \", train['race'].nunique())\n",
        "train['race'].value_counts()"
      ]
    },
    {
      "cell_type": "code",
      "execution_count": 39,
      "metadata": {
        "colab": {
          "base_uri": "https://localhost:8080/"
        },
        "id": "yngKMuDB8BEi",
        "outputId": "ab863675-c3d9-4b8d-f908-a615c25463df"
      },
      "outputs": [
        {
          "output_type": "stream",
          "name": "stdout",
          "text": [
            "number of unique values:  5\n"
          ]
        },
        {
          "output_type": "execute_result",
          "data": {
            "text/plain": [
              "White                 12952\n",
              "Black                  1422\n",
              "Asian-Pac-Islander      453\n",
              "Amer-Indian-Eskimo      146\n",
              "Other                   108\n",
              "Name: race, dtype: int64"
            ]
          },
          "metadata": {},
          "execution_count": 39
        }
      ],
      "source": [
        "print(\"number of unique values: \", test['race'].nunique())\n",
        "test['race'].value_counts()"
      ]
    },
    {
      "cell_type": "code",
      "execution_count": 40,
      "metadata": {
        "colab": {
          "base_uri": "https://localhost:8080/"
        },
        "id": "8mgB-sO28GLX",
        "outputId": "ab27a051-2c75-454b-9bfe-66e6bdf1626d"
      },
      "outputs": [
        {
          "output_type": "stream",
          "name": "stdout",
          "text": [
            "White: 0.2671\n",
            "Asian-Pac-Islander: 0.2514\n",
            "Black: 0.1237\n",
            "Amer-Indian-Eskimo: 0.1571\n",
            "Other: 0.0929\n"
          ]
        }
      ],
      "source": [
        "# train에서 target이 1인 비율이 높은 순으로 label을 정하기로 한다\n",
        "races = test['race'].unique()\n",
        "\n",
        "for race in races:\n",
        "  data = train[train['race'] == race]\n",
        "  proportion = round(np.sum(data['target']) / len(data),4)\n",
        "  print(f\"{race}: {proportion}\")"
      ]
    },
    {
      "cell_type": "code",
      "execution_count": 41,
      "metadata": {
        "id": "P7xfLBmG8ao-"
      },
      "outputs": [],
      "source": [
        "map_class7 = {'Other':0, 'Black':1, 'Amer-Indian-Eskimo':2, 'Asian-Pac-Islander':3, 'White':4}\n",
        "train[['race']] = train[['race']].applymap(map_class7.get)\n",
        "test[['race']] = test[['race']].applymap(map_class7.get)"
      ]
    },
    {
      "cell_type": "markdown",
      "metadata": {
        "id": "D16_wTjU86E-"
      },
      "source": [
        "#### sex"
      ]
    },
    {
      "cell_type": "code",
      "execution_count": 42,
      "metadata": {
        "colab": {
          "base_uri": "https://localhost:8080/"
        },
        "id": "uYSeTGfU806D",
        "outputId": "cfe280a1-6621-47e5-cccd-e3139ecaaafd"
      },
      "outputs": [
        {
          "output_type": "stream",
          "name": "stdout",
          "text": [
            "number of unique values:  2\n"
          ]
        },
        {
          "output_type": "execute_result",
          "data": {
            "text/plain": [
              "Male      10588\n",
              "Female     5048\n",
              "Name: sex, dtype: int64"
            ]
          },
          "metadata": {},
          "execution_count": 42
        }
      ],
      "source": [
        "print(\"number of unique values: \", train['sex'].nunique())\n",
        "train['sex'].value_counts()"
      ]
    },
    {
      "cell_type": "code",
      "execution_count": 43,
      "metadata": {
        "colab": {
          "base_uri": "https://localhost:8080/"
        },
        "id": "RZaAGm6y8_NI",
        "outputId": "9c239e45-7a90-41a2-c60c-74f5579d3222"
      },
      "outputs": [
        {
          "output_type": "stream",
          "name": "stdout",
          "text": [
            "number of unique values:  2\n"
          ]
        },
        {
          "output_type": "execute_result",
          "data": {
            "text/plain": [
              "Male      10200\n",
              "Female     4881\n",
              "Name: sex, dtype: int64"
            ]
          },
          "metadata": {},
          "execution_count": 43
        }
      ],
      "source": [
        "print(\"number of unique values: \", test['sex'].nunique())\n",
        "test['sex'].value_counts()"
      ]
    },
    {
      "cell_type": "code",
      "execution_count": 44,
      "metadata": {
        "id": "pJeha3Bc9CEe"
      },
      "outputs": [],
      "source": [
        "map_class8 = {'Female':0, 'Male':1}\n",
        "train[['sex']] = train[['sex']].applymap(map_class8.get)\n",
        "test[['sex']] = test[['sex']].applymap(map_class8.get)"
      ]
    },
    {
      "cell_type": "markdown",
      "metadata": {
        "id": "IT3QYv6Y9fOt"
      },
      "source": [
        "#### 확인"
      ]
    },
    {
      "cell_type": "code",
      "execution_count": 45,
      "metadata": {
        "colab": {
          "base_uri": "https://localhost:8080/",
          "height": 0
        },
        "id": "uMz-Dw4J9j1a",
        "outputId": "dff0ea4b-5736-44bc-adc5-bf0a08067b8b"
      },
      "outputs": [
        {
          "output_type": "display_data",
          "data": {
            "text/plain": [
              "   age  workclass  fnlwgt  education  education.num  marital.status  \\\n",
              "0   32          1  309513         10             12               6   \n",
              "1   33          1  205469         12             10               6   \n",
              "2   46          1  149949         12             10               6   \n",
              "3   23          1  193090         13             13               0   \n",
              "4   55          1   60193          8              9               4   \n",
              "\n",
              "   occupation  relationship  race  sex  capital.gain  capital.loss  \\\n",
              "0           8             4     4    1             0             0   \n",
              "1          13             4     4    1             0             0   \n",
              "2           8             4     4    1             0             0   \n",
              "3           6             0     4    0             0             0   \n",
              "4           6             3     4    0             0             0   \n",
              "\n",
              "   hours.per.week  native.country  target  \n",
              "0              40              15       0  \n",
              "1              40              15       1  \n",
              "2              40              15       0  \n",
              "3              30              15       0  \n",
              "4              40              15       0  "
            ],
            "text/html": [
              "\n",
              "  <div id=\"df-6140733a-2354-4f5f-916a-d295888ccec4\">\n",
              "    <div class=\"colab-df-container\">\n",
              "      <div>\n",
              "<style scoped>\n",
              "    .dataframe tbody tr th:only-of-type {\n",
              "        vertical-align: middle;\n",
              "    }\n",
              "\n",
              "    .dataframe tbody tr th {\n",
              "        vertical-align: top;\n",
              "    }\n",
              "\n",
              "    .dataframe thead th {\n",
              "        text-align: right;\n",
              "    }\n",
              "</style>\n",
              "<table border=\"1\" class=\"dataframe\">\n",
              "  <thead>\n",
              "    <tr style=\"text-align: right;\">\n",
              "      <th></th>\n",
              "      <th>age</th>\n",
              "      <th>workclass</th>\n",
              "      <th>fnlwgt</th>\n",
              "      <th>education</th>\n",
              "      <th>education.num</th>\n",
              "      <th>marital.status</th>\n",
              "      <th>occupation</th>\n",
              "      <th>relationship</th>\n",
              "      <th>race</th>\n",
              "      <th>sex</th>\n",
              "      <th>capital.gain</th>\n",
              "      <th>capital.loss</th>\n",
              "      <th>hours.per.week</th>\n",
              "      <th>native.country</th>\n",
              "      <th>target</th>\n",
              "    </tr>\n",
              "  </thead>\n",
              "  <tbody>\n",
              "    <tr>\n",
              "      <th>0</th>\n",
              "      <td>32</td>\n",
              "      <td>1</td>\n",
              "      <td>309513</td>\n",
              "      <td>10</td>\n",
              "      <td>12</td>\n",
              "      <td>6</td>\n",
              "      <td>8</td>\n",
              "      <td>4</td>\n",
              "      <td>4</td>\n",
              "      <td>1</td>\n",
              "      <td>0</td>\n",
              "      <td>0</td>\n",
              "      <td>40</td>\n",
              "      <td>15</td>\n",
              "      <td>0</td>\n",
              "    </tr>\n",
              "    <tr>\n",
              "      <th>1</th>\n",
              "      <td>33</td>\n",
              "      <td>1</td>\n",
              "      <td>205469</td>\n",
              "      <td>12</td>\n",
              "      <td>10</td>\n",
              "      <td>6</td>\n",
              "      <td>13</td>\n",
              "      <td>4</td>\n",
              "      <td>4</td>\n",
              "      <td>1</td>\n",
              "      <td>0</td>\n",
              "      <td>0</td>\n",
              "      <td>40</td>\n",
              "      <td>15</td>\n",
              "      <td>1</td>\n",
              "    </tr>\n",
              "    <tr>\n",
              "      <th>2</th>\n",
              "      <td>46</td>\n",
              "      <td>1</td>\n",
              "      <td>149949</td>\n",
              "      <td>12</td>\n",
              "      <td>10</td>\n",
              "      <td>6</td>\n",
              "      <td>8</td>\n",
              "      <td>4</td>\n",
              "      <td>4</td>\n",
              "      <td>1</td>\n",
              "      <td>0</td>\n",
              "      <td>0</td>\n",
              "      <td>40</td>\n",
              "      <td>15</td>\n",
              "      <td>0</td>\n",
              "    </tr>\n",
              "    <tr>\n",
              "      <th>3</th>\n",
              "      <td>23</td>\n",
              "      <td>1</td>\n",
              "      <td>193090</td>\n",
              "      <td>13</td>\n",
              "      <td>13</td>\n",
              "      <td>0</td>\n",
              "      <td>6</td>\n",
              "      <td>0</td>\n",
              "      <td>4</td>\n",
              "      <td>0</td>\n",
              "      <td>0</td>\n",
              "      <td>0</td>\n",
              "      <td>30</td>\n",
              "      <td>15</td>\n",
              "      <td>0</td>\n",
              "    </tr>\n",
              "    <tr>\n",
              "      <th>4</th>\n",
              "      <td>55</td>\n",
              "      <td>1</td>\n",
              "      <td>60193</td>\n",
              "      <td>8</td>\n",
              "      <td>9</td>\n",
              "      <td>4</td>\n",
              "      <td>6</td>\n",
              "      <td>3</td>\n",
              "      <td>4</td>\n",
              "      <td>0</td>\n",
              "      <td>0</td>\n",
              "      <td>0</td>\n",
              "      <td>40</td>\n",
              "      <td>15</td>\n",
              "      <td>0</td>\n",
              "    </tr>\n",
              "  </tbody>\n",
              "</table>\n",
              "</div>\n",
              "      <button class=\"colab-df-convert\" onclick=\"convertToInteractive('df-6140733a-2354-4f5f-916a-d295888ccec4')\"\n",
              "              title=\"Convert this dataframe to an interactive table.\"\n",
              "              style=\"display:none;\">\n",
              "        \n",
              "  <svg xmlns=\"http://www.w3.org/2000/svg\" height=\"24px\"viewBox=\"0 0 24 24\"\n",
              "       width=\"24px\">\n",
              "    <path d=\"M0 0h24v24H0V0z\" fill=\"none\"/>\n",
              "    <path d=\"M18.56 5.44l.94 2.06.94-2.06 2.06-.94-2.06-.94-.94-2.06-.94 2.06-2.06.94zm-11 1L8.5 8.5l.94-2.06 2.06-.94-2.06-.94L8.5 2.5l-.94 2.06-2.06.94zm10 10l.94 2.06.94-2.06 2.06-.94-2.06-.94-.94-2.06-.94 2.06-2.06.94z\"/><path d=\"M17.41 7.96l-1.37-1.37c-.4-.4-.92-.59-1.43-.59-.52 0-1.04.2-1.43.59L10.3 9.45l-7.72 7.72c-.78.78-.78 2.05 0 2.83L4 21.41c.39.39.9.59 1.41.59.51 0 1.02-.2 1.41-.59l7.78-7.78 2.81-2.81c.8-.78.8-2.07 0-2.86zM5.41 20L4 18.59l7.72-7.72 1.47 1.35L5.41 20z\"/>\n",
              "  </svg>\n",
              "      </button>\n",
              "      \n",
              "  <style>\n",
              "    .colab-df-container {\n",
              "      display:flex;\n",
              "      flex-wrap:wrap;\n",
              "      gap: 12px;\n",
              "    }\n",
              "\n",
              "    .colab-df-convert {\n",
              "      background-color: #E8F0FE;\n",
              "      border: none;\n",
              "      border-radius: 50%;\n",
              "      cursor: pointer;\n",
              "      display: none;\n",
              "      fill: #1967D2;\n",
              "      height: 32px;\n",
              "      padding: 0 0 0 0;\n",
              "      width: 32px;\n",
              "    }\n",
              "\n",
              "    .colab-df-convert:hover {\n",
              "      background-color: #E2EBFA;\n",
              "      box-shadow: 0px 1px 2px rgba(60, 64, 67, 0.3), 0px 1px 3px 1px rgba(60, 64, 67, 0.15);\n",
              "      fill: #174EA6;\n",
              "    }\n",
              "\n",
              "    [theme=dark] .colab-df-convert {\n",
              "      background-color: #3B4455;\n",
              "      fill: #D2E3FC;\n",
              "    }\n",
              "\n",
              "    [theme=dark] .colab-df-convert:hover {\n",
              "      background-color: #434B5C;\n",
              "      box-shadow: 0px 1px 3px 1px rgba(0, 0, 0, 0.15);\n",
              "      filter: drop-shadow(0px 1px 2px rgba(0, 0, 0, 0.3));\n",
              "      fill: #FFFFFF;\n",
              "    }\n",
              "  </style>\n",
              "\n",
              "      <script>\n",
              "        const buttonEl =\n",
              "          document.querySelector('#df-6140733a-2354-4f5f-916a-d295888ccec4 button.colab-df-convert');\n",
              "        buttonEl.style.display =\n",
              "          google.colab.kernel.accessAllowed ? 'block' : 'none';\n",
              "\n",
              "        async function convertToInteractive(key) {\n",
              "          const element = document.querySelector('#df-6140733a-2354-4f5f-916a-d295888ccec4');\n",
              "          const dataTable =\n",
              "            await google.colab.kernel.invokeFunction('convertToInteractive',\n",
              "                                                     [key], {});\n",
              "          if (!dataTable) return;\n",
              "\n",
              "          const docLinkHtml = 'Like what you see? Visit the ' +\n",
              "            '<a target=\"_blank\" href=https://colab.research.google.com/notebooks/data_table.ipynb>data table notebook</a>'\n",
              "            + ' to learn more about interactive tables.';\n",
              "          element.innerHTML = '';\n",
              "          dataTable['output_type'] = 'display_data';\n",
              "          await google.colab.output.renderOutput(dataTable, element);\n",
              "          const docLink = document.createElement('div');\n",
              "          docLink.innerHTML = docLinkHtml;\n",
              "          element.appendChild(docLink);\n",
              "        }\n",
              "      </script>\n",
              "    </div>\n",
              "  </div>\n",
              "  "
            ]
          },
          "metadata": {}
        },
        {
          "output_type": "display_data",
          "data": {
            "text/plain": [
              "    age  workclass  fnlwgt  education  education.num  marital.status  \\\n",
              "id                                                                     \n",
              "0    47          1  304133         12             10               6   \n",
              "1    34          6  154227         12             10               0   \n",
              "2    31          4  158291         13             13               0   \n",
              "3    28          1  183155         13             13               6   \n",
              "4    54          4  182543         12             10               3   \n",
              "\n",
              "    occupation  relationship  race  sex  capital.gain  capital.loss  \\\n",
              "id                                                                    \n",
              "0           13             4     4    1             0             0   \n",
              "1            9             3     4    1             0             0   \n",
              "2            8             3     4    1          8614             0   \n",
              "3           12             4     4    1             0             0   \n",
              "4            6             2     4    0             0             0   \n",
              "\n",
              "    hours.per.week  native.country  \n",
              "id                                  \n",
              "0               45              15  \n",
              "1               75              15  \n",
              "2               40              15  \n",
              "3               55              15  \n",
              "4               40              29  "
            ],
            "text/html": [
              "\n",
              "  <div id=\"df-95056741-9a73-4e78-a27e-0c97ea4acfa8\">\n",
              "    <div class=\"colab-df-container\">\n",
              "      <div>\n",
              "<style scoped>\n",
              "    .dataframe tbody tr th:only-of-type {\n",
              "        vertical-align: middle;\n",
              "    }\n",
              "\n",
              "    .dataframe tbody tr th {\n",
              "        vertical-align: top;\n",
              "    }\n",
              "\n",
              "    .dataframe thead th {\n",
              "        text-align: right;\n",
              "    }\n",
              "</style>\n",
              "<table border=\"1\" class=\"dataframe\">\n",
              "  <thead>\n",
              "    <tr style=\"text-align: right;\">\n",
              "      <th></th>\n",
              "      <th>age</th>\n",
              "      <th>workclass</th>\n",
              "      <th>fnlwgt</th>\n",
              "      <th>education</th>\n",
              "      <th>education.num</th>\n",
              "      <th>marital.status</th>\n",
              "      <th>occupation</th>\n",
              "      <th>relationship</th>\n",
              "      <th>race</th>\n",
              "      <th>sex</th>\n",
              "      <th>capital.gain</th>\n",
              "      <th>capital.loss</th>\n",
              "      <th>hours.per.week</th>\n",
              "      <th>native.country</th>\n",
              "    </tr>\n",
              "    <tr>\n",
              "      <th>id</th>\n",
              "      <th></th>\n",
              "      <th></th>\n",
              "      <th></th>\n",
              "      <th></th>\n",
              "      <th></th>\n",
              "      <th></th>\n",
              "      <th></th>\n",
              "      <th></th>\n",
              "      <th></th>\n",
              "      <th></th>\n",
              "      <th></th>\n",
              "      <th></th>\n",
              "      <th></th>\n",
              "      <th></th>\n",
              "    </tr>\n",
              "  </thead>\n",
              "  <tbody>\n",
              "    <tr>\n",
              "      <th>0</th>\n",
              "      <td>47</td>\n",
              "      <td>1</td>\n",
              "      <td>304133</td>\n",
              "      <td>12</td>\n",
              "      <td>10</td>\n",
              "      <td>6</td>\n",
              "      <td>13</td>\n",
              "      <td>4</td>\n",
              "      <td>4</td>\n",
              "      <td>1</td>\n",
              "      <td>0</td>\n",
              "      <td>0</td>\n",
              "      <td>45</td>\n",
              "      <td>15</td>\n",
              "    </tr>\n",
              "    <tr>\n",
              "      <th>1</th>\n",
              "      <td>34</td>\n",
              "      <td>6</td>\n",
              "      <td>154227</td>\n",
              "      <td>12</td>\n",
              "      <td>10</td>\n",
              "      <td>0</td>\n",
              "      <td>9</td>\n",
              "      <td>3</td>\n",
              "      <td>4</td>\n",
              "      <td>1</td>\n",
              "      <td>0</td>\n",
              "      <td>0</td>\n",
              "      <td>75</td>\n",
              "      <td>15</td>\n",
              "    </tr>\n",
              "    <tr>\n",
              "      <th>2</th>\n",
              "      <td>31</td>\n",
              "      <td>4</td>\n",
              "      <td>158291</td>\n",
              "      <td>13</td>\n",
              "      <td>13</td>\n",
              "      <td>0</td>\n",
              "      <td>8</td>\n",
              "      <td>3</td>\n",
              "      <td>4</td>\n",
              "      <td>1</td>\n",
              "      <td>8614</td>\n",
              "      <td>0</td>\n",
              "      <td>40</td>\n",
              "      <td>15</td>\n",
              "    </tr>\n",
              "    <tr>\n",
              "      <th>3</th>\n",
              "      <td>28</td>\n",
              "      <td>1</td>\n",
              "      <td>183155</td>\n",
              "      <td>13</td>\n",
              "      <td>13</td>\n",
              "      <td>6</td>\n",
              "      <td>12</td>\n",
              "      <td>4</td>\n",
              "      <td>4</td>\n",
              "      <td>1</td>\n",
              "      <td>0</td>\n",
              "      <td>0</td>\n",
              "      <td>55</td>\n",
              "      <td>15</td>\n",
              "    </tr>\n",
              "    <tr>\n",
              "      <th>4</th>\n",
              "      <td>54</td>\n",
              "      <td>4</td>\n",
              "      <td>182543</td>\n",
              "      <td>12</td>\n",
              "      <td>10</td>\n",
              "      <td>3</td>\n",
              "      <td>6</td>\n",
              "      <td>2</td>\n",
              "      <td>4</td>\n",
              "      <td>0</td>\n",
              "      <td>0</td>\n",
              "      <td>0</td>\n",
              "      <td>40</td>\n",
              "      <td>29</td>\n",
              "    </tr>\n",
              "  </tbody>\n",
              "</table>\n",
              "</div>\n",
              "      <button class=\"colab-df-convert\" onclick=\"convertToInteractive('df-95056741-9a73-4e78-a27e-0c97ea4acfa8')\"\n",
              "              title=\"Convert this dataframe to an interactive table.\"\n",
              "              style=\"display:none;\">\n",
              "        \n",
              "  <svg xmlns=\"http://www.w3.org/2000/svg\" height=\"24px\"viewBox=\"0 0 24 24\"\n",
              "       width=\"24px\">\n",
              "    <path d=\"M0 0h24v24H0V0z\" fill=\"none\"/>\n",
              "    <path d=\"M18.56 5.44l.94 2.06.94-2.06 2.06-.94-2.06-.94-.94-2.06-.94 2.06-2.06.94zm-11 1L8.5 8.5l.94-2.06 2.06-.94-2.06-.94L8.5 2.5l-.94 2.06-2.06.94zm10 10l.94 2.06.94-2.06 2.06-.94-2.06-.94-.94-2.06-.94 2.06-2.06.94z\"/><path d=\"M17.41 7.96l-1.37-1.37c-.4-.4-.92-.59-1.43-.59-.52 0-1.04.2-1.43.59L10.3 9.45l-7.72 7.72c-.78.78-.78 2.05 0 2.83L4 21.41c.39.39.9.59 1.41.59.51 0 1.02-.2 1.41-.59l7.78-7.78 2.81-2.81c.8-.78.8-2.07 0-2.86zM5.41 20L4 18.59l7.72-7.72 1.47 1.35L5.41 20z\"/>\n",
              "  </svg>\n",
              "      </button>\n",
              "      \n",
              "  <style>\n",
              "    .colab-df-container {\n",
              "      display:flex;\n",
              "      flex-wrap:wrap;\n",
              "      gap: 12px;\n",
              "    }\n",
              "\n",
              "    .colab-df-convert {\n",
              "      background-color: #E8F0FE;\n",
              "      border: none;\n",
              "      border-radius: 50%;\n",
              "      cursor: pointer;\n",
              "      display: none;\n",
              "      fill: #1967D2;\n",
              "      height: 32px;\n",
              "      padding: 0 0 0 0;\n",
              "      width: 32px;\n",
              "    }\n",
              "\n",
              "    .colab-df-convert:hover {\n",
              "      background-color: #E2EBFA;\n",
              "      box-shadow: 0px 1px 2px rgba(60, 64, 67, 0.3), 0px 1px 3px 1px rgba(60, 64, 67, 0.15);\n",
              "      fill: #174EA6;\n",
              "    }\n",
              "\n",
              "    [theme=dark] .colab-df-convert {\n",
              "      background-color: #3B4455;\n",
              "      fill: #D2E3FC;\n",
              "    }\n",
              "\n",
              "    [theme=dark] .colab-df-convert:hover {\n",
              "      background-color: #434B5C;\n",
              "      box-shadow: 0px 1px 3px 1px rgba(0, 0, 0, 0.15);\n",
              "      filter: drop-shadow(0px 1px 2px rgba(0, 0, 0, 0.3));\n",
              "      fill: #FFFFFF;\n",
              "    }\n",
              "  </style>\n",
              "\n",
              "      <script>\n",
              "        const buttonEl =\n",
              "          document.querySelector('#df-95056741-9a73-4e78-a27e-0c97ea4acfa8 button.colab-df-convert');\n",
              "        buttonEl.style.display =\n",
              "          google.colab.kernel.accessAllowed ? 'block' : 'none';\n",
              "\n",
              "        async function convertToInteractive(key) {\n",
              "          const element = document.querySelector('#df-95056741-9a73-4e78-a27e-0c97ea4acfa8');\n",
              "          const dataTable =\n",
              "            await google.colab.kernel.invokeFunction('convertToInteractive',\n",
              "                                                     [key], {});\n",
              "          if (!dataTable) return;\n",
              "\n",
              "          const docLinkHtml = 'Like what you see? Visit the ' +\n",
              "            '<a target=\"_blank\" href=https://colab.research.google.com/notebooks/data_table.ipynb>data table notebook</a>'\n",
              "            + ' to learn more about interactive tables.';\n",
              "          element.innerHTML = '';\n",
              "          dataTable['output_type'] = 'display_data';\n",
              "          await google.colab.output.renderOutput(dataTable, element);\n",
              "          const docLink = document.createElement('div');\n",
              "          docLink.innerHTML = docLinkHtml;\n",
              "          element.appendChild(docLink);\n",
              "        }\n",
              "      </script>\n",
              "    </div>\n",
              "  </div>\n",
              "  "
            ]
          },
          "metadata": {}
        }
      ],
      "source": [
        "display(train.head())\n",
        "display(test.head())"
      ]
    },
    {
      "cell_type": "code",
      "execution_count": 46,
      "metadata": {
        "colab": {
          "base_uri": "https://localhost:8080/"
        },
        "id": "KrCYGrT_9pfI",
        "outputId": "0bfdd7a6-c2ef-4c3f-eb14-67ad24d04e12"
      },
      "outputs": [
        {
          "output_type": "execute_result",
          "data": {
            "text/plain": [
              "age               0\n",
              "workclass         0\n",
              "fnlwgt            0\n",
              "education         0\n",
              "education.num     0\n",
              "marital.status    0\n",
              "occupation        0\n",
              "relationship      0\n",
              "race              0\n",
              "sex               0\n",
              "capital.gain      0\n",
              "capital.loss      0\n",
              "hours.per.week    0\n",
              "native.country    0\n",
              "target            0\n",
              "dtype: int64"
            ]
          },
          "metadata": {},
          "execution_count": 46
        }
      ],
      "source": [
        "train.isnull().sum()"
      ]
    },
    {
      "cell_type": "code",
      "execution_count": 47,
      "metadata": {
        "colab": {
          "base_uri": "https://localhost:8080/"
        },
        "id": "-9rdbWSw9rlw",
        "outputId": "e0155a91-6b97-476e-be66-2e613d5cc9da"
      },
      "outputs": [
        {
          "output_type": "execute_result",
          "data": {
            "text/plain": [
              "age               0\n",
              "workclass         0\n",
              "fnlwgt            0\n",
              "education         0\n",
              "education.num     0\n",
              "marital.status    0\n",
              "occupation        0\n",
              "relationship      0\n",
              "race              0\n",
              "sex               0\n",
              "capital.gain      0\n",
              "capital.loss      0\n",
              "hours.per.week    0\n",
              "native.country    0\n",
              "dtype: int64"
            ]
          },
          "metadata": {},
          "execution_count": 47
        }
      ],
      "source": [
        "test.isnull().sum()"
      ]
    },
    {
      "cell_type": "markdown",
      "metadata": {
        "id": "RnK4bkuh-NgY"
      },
      "source": [
        "### 스케일링 및 데이터의 분포 확인"
      ]
    },
    {
      "cell_type": "markdown",
      "metadata": {
        "id": "3PIX7Aiy_dxu"
      },
      "source": [
        "#### 데이터의 분포 확인"
      ]
    },
    {
      "cell_type": "code",
      "execution_count": 48,
      "metadata": {
        "colab": {
          "base_uri": "https://localhost:8080/",
          "height": 0
        },
        "id": "0T9BtYhX_W67",
        "outputId": "e4d53c91-a450-4cbb-c4e1-21871ea78e54"
      },
      "outputs": [
        {
          "output_type": "display_data",
          "data": {
            "text/plain": [
              "<Figure size 1080x1080 with 16 Axes>"
            ],
            "image/png": "[encoded data removed]"
          },
          "metadata": {
            "needs_background": "light"
          }
        }
      ],
      "source": [
        "# percent = sum은 막대들의 높이의 합이 100이 되도록 하는 것\n",
        "# 범주형 데이터들은 비슷한 분포를 가진다는 것을 확인할 수 있다.\n",
        "# age, fnlwgt, capital.gain, capital.loss 모두 양의 왜도를 지닌다. 그리고 capital과 관련된 변수 2개는 대부분의 값이 거의 0임을 알 수 있다.\n",
        "# 한편, train, test의 분포는 상당히 유사하다고 할 수 있다.\n",
        "fig, axes = plt.subplots(nrows = 4, ncols = 4, figsize = (15, 15))\n",
        "\n",
        "column_list = test.columns\n",
        "\n",
        "for index, column in enumerate(column_list):\n",
        "    \n",
        "    row = index // 4\n",
        "    col = index % 4\n",
        "    \n",
        "    # Train data visualization\n",
        "    sns.histplot(x = column, data = train, stat = \"percent\", color = \"blue\", alpha = 0.3, label = \"Train\", ax = axes[row][col])\n",
        "    \n",
        "    # Test data visualization\n",
        "    sns.histplot(x = column, data = test, stat = \"percent\", color = \"yellow\", alpha = 0.3, label = \"Test\", ax = axes[row][col])\n",
        "    \n",
        "    axes[row][col].set_title(\"Histplot of {}\".format(column))\n",
        "    axes[row][col].set_xlabel(\"\")\n",
        "    axes[row][col].set_ylabel(\"\")\n",
        "    axes[row][col].legend()\n",
        "    \n",
        "fig.tight_layout(pad = 1.5)"
      ]
    },
    {
      "cell_type": "markdown",
      "metadata": {
        "id": "b8e-WO_qB8U7"
      },
      "source": [
        "#### 로그변환"
      ]
    },
    {
      "cell_type": "code",
      "execution_count": 49,
      "metadata": {
        "colab": {
          "base_uri": "https://localhost:8080/"
        },
        "id": "ydvsn3fkB-vi",
        "outputId": "417736aa-d4c0-4334-8832-4b3a9462746e"
      },
      "outputs": [
        {
          "output_type": "stream",
          "name": "stdout",
          "text": [
            "age             Skewness:0.5347514796971361 Kurtosis:-0.1394013821130593\n",
            "fnlwgt          Skewness:1.4170239926716877 Kurtosis:6.231188254166485\n",
            "education.num   Skewness:-0.34014523794894624 Kurtosis:0.6163769181677043\n",
            "capital.gain    Skewness:11.585169593969049 Kurtosis:144.5462131916584\n",
            "capital.loss    Skewness:4.583033052806039 Kurtosis:20.085963911239503\n",
            "hours.per.week  Skewness:0.3535615391484752 Kurtosis:3.2267895362092025\n"
          ]
        }
      ],
      "source": [
        "# 왜도와 첨도를 관측하고, 왜도와 첨도가 큰 데이터에 로그를 취한다.\n",
        "numeric_columns = ['age', 'fnlwgt', 'education.num', 'capital.gain', 'capital.loss', 'hours.per.week']\n",
        "for column in numeric_columns:\n",
        "  print(\"{:15}\".format(column),\n",
        "        'Skewness:{}'.format(train[column].skew()),\n",
        "        'Kurtosis:{}'.format(train[column].kurt()))"
      ]
    },
    {
      "cell_type": "code",
      "execution_count": 50,
      "metadata": {
        "id": "7OUiHgt1Dlm-"
      },
      "outputs": [],
      "source": [
        "# fnlwgt, capital.gain, capital.loss에 대해서 log변환을 사용해 주기로 함.\n",
        "train[\"fnlwgt\"] = train[\"fnlwgt\"].apply(lambda x: np.log1p(x))\n",
        "train[\"capital.gain\"] = train[\"capital.gain\"].apply(lambda x: np.log1p(x))\n",
        "train[\"capital.loss\"] = train[\"capital.loss\"].apply(lambda x: np.log1p(x))"
      ]
    },
    {
      "cell_type": "code",
      "execution_count": 51,
      "metadata": {
        "colab": {
          "base_uri": "https://localhost:8080/"
        },
        "id": "V-PqLa-gEUAC",
        "outputId": "a8949219-f18c-49e9-f6cc-2d5f1282138d"
      },
      "outputs": [
        {
          "output_type": "stream",
          "name": "stdout",
          "text": [
            "age             Skewness:0.5347514796971361 Kurtosis:-0.1394013821130593\n",
            "fnlwgt          Skewness:-0.8616098997379611 Kurtosis:0.8897593266708816\n",
            "education.num   Skewness:-0.34014523794894624 Kurtosis:0.6163769181677043\n",
            "capital.gain    Skewness:3.0687133282593284 Kurtosis:7.6234161812546954\n",
            "capital.loss    Skewness:4.332038680942931 Kurtosis:16.78697586510876\n",
            "hours.per.week  Skewness:0.3535615391484752 Kurtosis:3.2267895362092025\n"
          ]
        }
      ],
      "source": [
        "# 여전히 정규분포에서는 많이 벗어난 모습을 보이지만 이전에 비해서는 훨씬 낫다\n",
        "numeric_columns = ['age', 'fnlwgt', 'education.num', 'capital.gain', 'capital.loss', 'hours.per.week']\n",
        "for column in numeric_columns:\n",
        "  print(\"{:15}\".format(column),\n",
        "        'Skewness:{}'.format(train[column].skew()),\n",
        "        'Kurtosis:{}'.format(train[column].kurt()))"
      ]
    },
    {
      "cell_type": "code",
      "execution_count": 52,
      "metadata": {
        "id": "iaZxpQ_WEV7A"
      },
      "outputs": [],
      "source": [
        "# test에 대해서도 log변환을 적용\n",
        "test[\"fnlwgt\"] = test[\"fnlwgt\"].apply(lambda x: np.log1p(x))\n",
        "test[\"capital.gain\"] = test[\"capital.gain\"].apply(lambda x: np.log1p(x))\n",
        "test[\"capital.loss\"] = test[\"capital.loss\"].apply(lambda x: np.log1p(x))"
      ]
    },
    {
      "cell_type": "markdown",
      "source": [
        "#### education.num과 education 비교(변수 선택)"
      ],
      "metadata": {
        "id": "FZ_i5FxuWkPT"
      }
    },
    {
      "cell_type": "code",
      "source": [
        "# 앞서 히스토그램을 살펴보았을 때, 상당히 유사한 분포를 지닌 것을 확인할 수 있었다. 실제로 두 변수의 상관관계도 0.88로 매우 높다\n",
        "sns.heatmap(train[['education.num', 'education', 'target']].corr(), annot=True)\n",
        "plt.show()"
      ],
      "metadata": {
        "colab": {
          "base_uri": "https://localhost:8080/",
          "height": 0
        },
        "id": "w3229dZSWv6p",
        "outputId": "d3205b11-22d6-4463-9978-7e348dd296f1"
      },
      "execution_count": 53,
      "outputs": [
        {
          "output_type": "display_data",
          "data": {
            "text/plain": [
              "<Figure size 432x288 with 2 Axes>"
            ],
            "image/png": "[encoded data removed]"
          },
          "metadata": {
            "needs_background": "light"
          }
        }
      ]
    },
    {
      "cell_type": "code",
      "source": [
        "# test set도 마찬가지다. 따라서 둘 중 target과의 상관관계가 더 높은 education.num을 남기고, education은 제거하기로 한다.\n",
        "sns.heatmap(test[['education.num', 'education']].corr(), annot=True)\n",
        "plt.show()"
      ],
      "metadata": {
        "colab": {
          "base_uri": "https://localhost:8080/",
          "height": 0
        },
        "id": "fDqOi5LFXNab",
        "outputId": "38773fa8-d710-4e4b-e4d1-9764ba66bcec"
      },
      "execution_count": 54,
      "outputs": [
        {
          "output_type": "display_data",
          "data": {
            "text/plain": [
              "<Figure size 432x288 with 2 Axes>"
            ],
            "image/png": "[encoded data removed]"
          },
          "metadata": {
            "needs_background": "light"
          }
        }
      ]
    },
    {
      "cell_type": "code",
      "source": [
        "train.drop('education', axis=1, inplace=True)\n",
        "test.drop('education', axis=1, inplace=True)"
      ],
      "metadata": {
        "id": "LalnmdNEXPLR"
      },
      "execution_count": 55,
      "outputs": []
    },
    {
      "cell_type": "markdown",
      "metadata": {
        "id": "f9LKd4SGCwKR"
      },
      "source": [
        "#### 스케일링"
      ]
    },
    {
      "cell_type": "code",
      "execution_count": 56,
      "metadata": {
        "id": "IGvwG-Gy-PoE"
      },
      "outputs": [],
      "source": [
        "from sklearn.preprocessing import MinMaxScaler, StandardScaler\n",
        "scaler = MinMaxScaler()\n",
        "train.iloc[:,:-1] = scaler.fit_transform(train.iloc[:,:-1])\n",
        "test = scaler.transform(test)"
      ]
    },
    {
      "cell_type": "code",
      "execution_count": 57,
      "metadata": {
        "id": "GjLu4aJBFCna"
      },
      "outputs": [],
      "source": [
        "test = pd.DataFrame(test, columns=train.columns[:-1])"
      ]
    },
    {
      "cell_type": "markdown",
      "metadata": {
        "id": "yF05gFF2Fm6f"
      },
      "source": [
        "#### 로그변환과 스케일링을 모두 적용 후 분포 확인"
      ]
    },
    {
      "cell_type": "code",
      "execution_count": 58,
      "metadata": {
        "colab": {
          "base_uri": "https://localhost:8080/",
          "height": 0
        },
        "id": "mfkrZiw4FrxP",
        "outputId": "21214c0c-cfea-421e-ec73-f6847cec939f"
      },
      "outputs": [
        {
          "output_type": "display_data",
          "data": {
            "text/plain": [
              "<Figure size 1080x1080 with 16 Axes>"
            ],
            "image/png": "[encoded data removed]"
          },
          "metadata": {
            "needs_background": "light"
          }
        }
      ],
      "source": [
        "fig, axes = plt.subplots(nrows = 4, ncols = 4, figsize = (15, 15))\n",
        "\n",
        "column_list = test.columns\n",
        "\n",
        "for index, column in enumerate(column_list):\n",
        "    \n",
        "    row = index // 4\n",
        "    col = index % 4\n",
        "    \n",
        "    # Train data visualization\n",
        "    sns.histplot(x = column, data = train, stat = \"percent\", color = \"blue\", alpha = 0.3, label = \"Train\", ax = axes[row][col])\n",
        "    \n",
        "    # Test data visualization\n",
        "    sns.histplot(x = column, data = test, stat = \"percent\", color = \"yellow\", alpha = 0.3, label = \"Test\", ax = axes[row][col])\n",
        "    \n",
        "    axes[row][col].set_title(\"Histplot of {}\".format(column))\n",
        "    axes[row][col].set_xlabel(\"\")\n",
        "    axes[row][col].set_ylabel(\"\")\n",
        "    axes[row][col].legend()\n",
        "    \n",
        "fig.tight_layout(pad = 1.5)"
      ]
    },
    {
      "cell_type": "markdown",
      "metadata": {
        "id": "Yl_lS2XXHBY3"
      },
      "source": [
        "#### X와 y 나누기"
      ]
    },
    {
      "cell_type": "code",
      "execution_count": 59,
      "metadata": {
        "id": "yEntWh_GG_z6"
      },
      "outputs": [],
      "source": [
        "X_train = train.drop('target', axis=1)\n",
        "y_train = train[['target']]\n",
        "X_test = test"
      ]
    },
    {
      "cell_type": "markdown",
      "metadata": {
        "id": "r64AqAt4IsL9"
      },
      "source": [
        "## 모델 사용하기"
      ]
    },
    {
      "cell_type": "code",
      "execution_count": 60,
      "metadata": {
        "id": "Kmbl4HGkIub2"
      },
      "outputs": [],
      "source": [
        "np.random.seed(42)"
      ]
    },
    {
      "cell_type": "code",
      "execution_count": 61,
      "metadata": {
        "colab": {
          "base_uri": "https://localhost:8080/"
        },
        "id": "v22QLoxFI4S7",
        "outputId": "4e519eee-cf25-49bb-8c14-8396029919cf"
      },
      "outputs": [
        {
          "output_type": "stream",
          "name": "stdout",
          "text": [
            "Requirement already satisfied: catboost in /usr/local/lib/python3.7/dist-packages (1.0.5)\n",
            "Requirement already satisfied: scipy in /usr/local/lib/python3.7/dist-packages (from catboost) (1.4.1)\n",
            "Requirement already satisfied: graphviz in /usr/local/lib/python3.7/dist-packages (from catboost) (0.10.1)\n",
            "Requirement already satisfied: six in /usr/local/lib/python3.7/dist-packages (from catboost) (1.15.0)\n",
            "Requirement already satisfied: matplotlib in /usr/local/lib/python3.7/dist-packages (from catboost) (3.2.2)\n",
            "Requirement already satisfied: pandas>=0.24.0 in /usr/local/lib/python3.7/dist-packages (from catboost) (1.3.5)\n",
            "Requirement already satisfied: numpy>=1.16.0 in /usr/local/lib/python3.7/dist-packages (from catboost) (1.21.6)\n",
            "Requirement already satisfied: plotly in /usr/local/lib/python3.7/dist-packages (from catboost) (5.5.0)\n",
            "Requirement already satisfied: pytz>=2017.3 in /usr/local/lib/python3.7/dist-packages (from pandas>=0.24.0->catboost) (2022.1)\n",
            "Requirement already satisfied: python-dateutil>=2.7.3 in /usr/local/lib/python3.7/dist-packages (from pandas>=0.24.0->catboost) (2.8.2)\n",
            "Requirement already satisfied: kiwisolver>=1.0.1 in /usr/local/lib/python3.7/dist-packages (from matplotlib->catboost) (1.4.2)\n",
            "Requirement already satisfied: pyparsing!=2.0.4,!=2.1.2,!=2.1.6,>=2.0.1 in /usr/local/lib/python3.7/dist-packages (from matplotlib->catboost) (3.0.8)\n",
            "Requirement already satisfied: cycler>=0.10 in /usr/local/lib/python3.7/dist-packages (from matplotlib->catboost) (0.11.0)\n",
            "Requirement already satisfied: typing-extensions in /usr/local/lib/python3.7/dist-packages (from kiwisolver>=1.0.1->matplotlib->catboost) (4.2.0)\n",
            "Requirement already satisfied: tenacity>=6.2.0 in /usr/local/lib/python3.7/dist-packages (from plotly->catboost) (8.0.1)\n",
            "Requirement already satisfied: Bayesian-Optimization in /usr/local/lib/python3.7/dist-packages (1.2.0)\n",
            "Requirement already satisfied: scikit-learn>=0.18.0 in /usr/local/lib/python3.7/dist-packages (from Bayesian-Optimization) (1.0.2)\n",
            "Requirement already satisfied: scipy>=0.14.0 in /usr/local/lib/python3.7/dist-packages (from Bayesian-Optimization) (1.4.1)\n",
            "Requirement already satisfied: numpy>=1.9.0 in /usr/local/lib/python3.7/dist-packages (from Bayesian-Optimization) (1.21.6)\n",
            "Requirement already satisfied: threadpoolctl>=2.0.0 in /usr/local/lib/python3.7/dist-packages (from scikit-learn>=0.18.0->Bayesian-Optimization) (3.1.0)\n",
            "Requirement already satisfied: joblib>=0.11 in /usr/local/lib/python3.7/dist-packages (from scikit-learn>=0.18.0->Bayesian-Optimization) (1.1.0)\n"
          ]
        }
      ],
      "source": [
        "!pip install catboost\n",
        "!pip install Bayesian-Optimization"
      ]
    },
    {
      "cell_type": "markdown",
      "metadata": {
        "id": "9ePxhlzsKgkf"
      },
      "source": [
        "### 다양한 모델 사용해보기"
      ]
    },
    {
      "cell_type": "code",
      "execution_count": 62,
      "metadata": {
        "id": "_Pi-fqBzI5v_"
      },
      "outputs": [],
      "source": [
        "from sklearn.neighbors import KNeighborsClassifier #KNN\n",
        "from sklearn.svm import SVC    #SVC\n",
        "from sklearn.linear_model import LogisticRegression  #LogisticRegression\n",
        "from sklearn.tree import DecisionTreeClassifier  #DecisionTree\n",
        "from sklearn.naive_bayes import GaussianNB   #가우시안\n",
        "from sklearn.naive_bayes import ComplementNB #complement 가우지안\n",
        "from sklearn.ensemble import RandomForestClassifier #RandomForest\n",
        "from sklearn.ensemble import AdaBoostClassifier   #Adaboost   \n",
        "from xgboost import XGBClassifier   #XGBoost\n",
        "from lightgbm import LGBMClassifier  #Light GBM\n",
        "from catboost import CatBoostClassifier #Catboost\n",
        "from sklearn.ensemble import ExtraTreesClassifier #extra\n",
        "\n",
        "from sklearn.ensemble import VotingClassifier #voting \n",
        "from sklearn.ensemble import StackingClassifier\n",
        "\n",
        "from sklearn.model_selection import GridSearchCV, RandomizedSearchCV\n",
        "from sklearn.model_selection import train_test_split, cross_validate\n",
        "from sklearn.model_selection import KFold, StratifiedKFold\n",
        "from bayes_opt import BayesianOptimization\n",
        "import warnings\n",
        "warnings.filterwarnings('ignore')\n",
        "from sklearn.metrics import accuracy_score, precision_score, recall_score, f1_score"
      ]
    },
    {
      "cell_type": "code",
      "execution_count": 63,
      "metadata": {
        "id": "5KrdvDbBJ3Y3"
      },
      "outputs": [],
      "source": [
        "def return_score(model):\n",
        "  average_accuracy = cross_validate(model,X_train,y_train, scoring=\"accuracy\", cv=10)['test_score'].mean()\n",
        "  print(model)\n",
        "  print(\"average_accuracy: \", average_accuracy)"
      ]
    },
    {
      "cell_type": "code",
      "execution_count": 64,
      "metadata": {
        "id": "dwRbQSiMJ6on"
      },
      "outputs": [],
      "source": [
        "knn = KNeighborsClassifier()\n",
        "svm = SVC()\n",
        "lr = LogisticRegression()\n",
        "dt = DecisionTreeClassifier()\n",
        "gnb = GaussianNB()\n",
        "cnb = ComplementNB()\n",
        "rf = RandomForestClassifier()\n",
        "ada = AdaBoostClassifier()\n",
        "xgb = XGBClassifier()\n",
        "lgbm = LGBMClassifier()\n",
        "etc= ExtraTreesClassifier()\n",
        "cat = CatBoostClassifier(silent=True)\n",
        "\n",
        "model_list = [knn,svm,lr, dt,gnb, cnb, rf,ada,xgb,lgbm,etc,cat]"
      ]
    },
    {
      "cell_type": "code",
      "execution_count": 65,
      "metadata": {
        "colab": {
          "base_uri": "https://localhost:8080/"
        },
        "id": "iXZNBQadKRR3",
        "outputId": "459fa6b5-8c03-438c-c3d6-ea3134f277ab"
      },
      "outputs": [
        {
          "output_type": "stream",
          "name": "stdout",
          "text": [
            "KNeighborsClassifier()\n",
            "average_accuracy:  0.8270007510640074\n",
            "SVC()\n",
            "average_accuracy:  0.8416468264682155\n",
            "LogisticRegression()\n",
            "average_accuracy:  0.8376815275889209\n",
            "DecisionTreeClassifier()\n",
            "average_accuracy:  0.8063442818502683\n",
            "GaussianNB()\n",
            "average_accuracy:  0.7907397816841834\n",
            "ComplementNB()\n",
            "average_accuracy:  0.7357394380601276\n",
            "RandomForestClassifier()\n",
            "average_accuracy:  0.8527751324179842\n",
            "AdaBoostClassifier()\n",
            "average_accuracy:  0.8567412085421667\n",
            "XGBClassifier()\n",
            "average_accuracy:  0.8583395512924357\n",
            "LGBMClassifier()\n",
            "average_accuracy:  0.8652468038872062\n",
            "ExtraTreesClassifier()\n",
            "average_accuracy:  0.8427984988537685\n",
            "<catboost.core.CatBoostClassifier object at 0x7fecb379f310>\n",
            "average_accuracy:  0.8667185375360191\n"
          ]
        }
      ],
      "source": [
        "\"\"\"다양한 모델들을 사용해 본 결과, svc, rf, ada, xgb \n",
        "lgb, etc, catboost등이 좋은 성능을 보여주었다.\"\"\"\n",
        "for model in model_list:\n",
        "  return_score(model)"
      ]
    },
    {
      "cell_type": "markdown",
      "metadata": {
        "id": "rt2LQM70Lf30"
      },
      "source": [
        "### 하이퍼파라미터 튜닝(그리드 서치, BO사용)"
      ]
    },
    {
      "cell_type": "code",
      "execution_count": 66,
      "metadata": {
        "id": "fgoediE5NmRK"
      },
      "outputs": [],
      "source": [
        "skf = StratifiedKFold(n_splits=10, shuffle=True, random_state=42)"
      ]
    },
    {
      "cell_type": "markdown",
      "metadata": {
        "id": "DTqJc4tvMhiD"
      },
      "source": [
        "####knn"
      ]
    },
    {
      "cell_type": "code",
      "execution_count": 67,
      "metadata": {
        "id": "s9k3mxvPKTLf"
      },
      "outputs": [],
      "source": [
        "knn = KNeighborsClassifier()\n",
        "param_grid = {'n_neighbors':range(5,251,5), 'weights': ['uniform', 'distance']}"
      ]
    },
    {
      "cell_type": "code",
      "execution_count": 68,
      "metadata": {
        "id": "rNMic5z3RM68",
        "colab": {
          "base_uri": "https://localhost:8080/"
        },
        "outputId": "34039c6b-e12c-49c7-f074-0aed19078905"
      },
      "outputs": [
        {
          "output_type": "execute_result",
          "data": {
            "text/plain": [
              "GridSearchCV(cv=10, estimator=KNeighborsClassifier(),\n",
              "             param_grid={'n_neighbors': range(5, 251, 5),\n",
              "                         'weights': ['uniform', 'distance']},\n",
              "             scoring='accuracy')"
            ]
          },
          "metadata": {},
          "execution_count": 68
        }
      ],
      "source": [
        "knn_gs = GridSearchCV(estimator=knn, param_grid=param_grid, scoring='accuracy', cv=10)\n",
        "knn_gs.fit(X_train, y_train)"
      ]
    },
    {
      "cell_type": "code",
      "execution_count": 69,
      "metadata": {
        "id": "l6iGgoTkRTU9",
        "colab": {
          "base_uri": "https://localhost:8080/"
        },
        "outputId": "ac3beacb-cdac-4d8f-a423-2d090a03409f"
      },
      "outputs": [
        {
          "output_type": "stream",
          "name": "stdout",
          "text": [
            "best parameters: {'n_neighbors': 45, 'weights': 'distance'}\n",
            "best score: 0.8399833996855021\n"
          ]
        }
      ],
      "source": [
        "print(f\"best parameters: {knn_gs.best_params_}\")\n",
        "print(f\"best score: {knn_gs.best_score_}\")"
      ]
    },
    {
      "cell_type": "markdown",
      "metadata": {
        "id": "v6dJ0tQ-b2Nb"
      },
      "source": [
        "#### svm"
      ]
    },
    {
      "cell_type": "code",
      "execution_count": 70,
      "metadata": {
        "id": "PrsgVE7jb5Hz"
      },
      "outputs": [],
      "source": [
        "svc = SVC()\n",
        "param_grid = {'C':[0.01,0.1,1,5,10,100], 'kernel':['rbf', 'linear']}"
      ]
    },
    {
      "cell_type": "code",
      "execution_count": 71,
      "metadata": {
        "id": "uvAA2ypOcHTP",
        "colab": {
          "base_uri": "https://localhost:8080/"
        },
        "outputId": "a76a3bb2-129e-412e-cb28-28e1609382bf"
      },
      "outputs": [
        {
          "output_type": "execute_result",
          "data": {
            "text/plain": [
              "GridSearchCV(cv=10, estimator=SVC(),\n",
              "             param_grid={'C': [0.01, 0.1, 1, 5, 10, 100],\n",
              "                         'kernel': ['rbf', 'linear']},\n",
              "             scoring='accuracy')"
            ]
          },
          "metadata": {},
          "execution_count": 71
        }
      ],
      "source": [
        "svc_gs = GridSearchCV(estimator=svc, param_grid=param_grid, scoring='accuracy', cv=10)\n",
        "svc_gs.fit(X_train, y_train)"
      ]
    },
    {
      "cell_type": "code",
      "source": [
        "print(f\"best parameters: {svc_gs.best_params_}\")\n",
        "print(f\"best score: {svc_gs.best_score_}\")"
      ],
      "metadata": {
        "id": "NCbFIF7pJJea",
        "colab": {
          "base_uri": "https://localhost:8080/"
        },
        "outputId": "791be92f-bd32-4cee-b053-ecaff3ab0c34"
      },
      "execution_count": 72,
      "outputs": [
        {
          "output_type": "stream",
          "name": "stdout",
          "text": [
            "best parameters: {'C': 100, 'kernel': 'rbf'}\n",
            "best score: 0.8466354296037034\n"
          ]
        }
      ]
    },
    {
      "cell_type": "markdown",
      "metadata": {
        "id": "T8-YZ7-ZMjfA"
      },
      "source": [
        "#### 의사결정나무"
      ]
    },
    {
      "cell_type": "code",
      "source": [
        "dt_parameter_bound = {\n",
        "    'max_depth':(2,30),\n",
        "    'min_samples_leaf':(2,20),\n",
        "    'min_samples_split':(2,20)\n",
        "}"
      ],
      "metadata": {
        "id": "AutxAzBgKOQK"
      },
      "execution_count": 73,
      "outputs": []
    },
    {
      "cell_type": "code",
      "execution_count": 74,
      "metadata": {
        "id": "gpuye1EgM0W5"
      },
      "outputs": [],
      "source": [
        "def dt_bo(max_depth, min_samples_leaf, min_samples_split):\n",
        "  score_list = []\n",
        "  for tr_idx, val_idx in skf.split(X_train, y_train):\n",
        "    X_tr, X_val = np.array(X_train)[tr_idx], np.array(X_train)[val_idx]\n",
        "    y_tr, y_val = np.array(y_train)[tr_idx], np.array(y_train)[val_idx]\n",
        "    dt_params = {\n",
        "        'max_depth':int(round(max_depth)),\n",
        "        'min_samples_leaf':int(round(min_samples_leaf)),\n",
        "        'min_samples_split':int(round(min_samples_split))\n",
        "    }\n",
        "    dt = DecisionTreeClassifier(**dt_params, random_state=42)\n",
        "    dt.fit(X_tr, y_tr)\n",
        "    predictions = dt.predict(X_val)\n",
        "    score = accuracy_score(y_val, predictions)\n",
        "    score_list.append(score)\n",
        "  return np.mean(score_list)"
      ]
    },
    {
      "cell_type": "code",
      "execution_count": 75,
      "metadata": {
        "id": "Eb7-OcVKR_2G"
      },
      "outputs": [],
      "source": [
        "BO_dt = BayesianOptimization(f=dt_bo, pbounds=dt_parameter_bound, verbose=1, random_state=42)"
      ]
    },
    {
      "cell_type": "code",
      "source": [
        "BO_dt.maximize(init_points=5, n_iter=100)"
      ],
      "metadata": {
        "id": "6DV8nwl1McKw",
        "colab": {
          "base_uri": "https://localhost:8080/"
        },
        "outputId": "f672f504-ed5c-4f93-c709-2488e2715431"
      },
      "execution_count": 76,
      "outputs": [
        {
          "output_type": "stream",
          "name": "stdout",
          "text": [
            "|   iter    |  target   | max_depth | min_sa... | min_sa... |\n",
            "-------------------------------------------------------------\n",
            "| \u001b[95m 6       \u001b[0m | \u001b[95m 0.8489  \u001b[0m | \u001b[95m 10.92   \u001b[0m | \u001b[95m 20.0    \u001b[0m | \u001b[95m 2.0     \u001b[0m |\n",
            "| \u001b[95m 11      \u001b[0m | \u001b[95m 0.8498  \u001b[0m | \u001b[95m 7.831   \u001b[0m | \u001b[95m 14.07   \u001b[0m | \u001b[95m 20.0    \u001b[0m |\n",
            "| \u001b[95m 21      \u001b[0m | \u001b[95m 0.8502  \u001b[0m | \u001b[95m 8.497   \u001b[0m | \u001b[95m 15.88   \u001b[0m | \u001b[95m 16.23   \u001b[0m |\n",
            "=============================================================\n"
          ]
        }
      ]
    },
    {
      "cell_type": "code",
      "execution_count": 77,
      "metadata": {
        "id": "XD3LUxj2SHMZ",
        "colab": {
          "base_uri": "https://localhost:8080/"
        },
        "outputId": "73457e08-635f-49dc-f86d-cecf852679ec"
      },
      "outputs": [
        {
          "output_type": "stream",
          "name": "stdout",
          "text": [
            "{'max_depth': 8, 'min_samples_leaf': 15, 'min_samples_split': 16}\n"
          ]
        }
      ],
      "source": [
        "dt_max_params = BO_dt.max['params']\n",
        "dt_max_params['max_depth'] = int(dt_max_params['max_depth'])\n",
        "dt_max_params['min_samples_split'] = int(dt_max_params['min_samples_split'])\n",
        "dt_max_params['min_samples_leaf'] = int(dt_max_params['min_samples_leaf'])\n",
        "print(dt_max_params)"
      ]
    },
    {
      "cell_type": "markdown",
      "metadata": {
        "id": "G95HBgP7MzFO"
      },
      "source": [
        "#### 랜덤포레스트"
      ]
    },
    {
      "cell_type": "code",
      "source": [
        "rf_parameter_bound = {\n",
        "    'max_depth':(2,30),\n",
        "    'min_samples_leaf':(2,20),\n",
        "    'min_samples_split':(2,20),\n",
        "    'n_estimators':(100,550)\n",
        "}"
      ],
      "metadata": {
        "id": "KebMCNB7M-mU"
      },
      "execution_count": 78,
      "outputs": []
    },
    {
      "cell_type": "code",
      "execution_count": 79,
      "metadata": {
        "id": "9ekLrcbIM3ck"
      },
      "outputs": [],
      "source": [
        "def rf_bo(max_depth, min_samples_leaf, min_samples_split, n_estimators):\n",
        "  score_list = []\n",
        "  for tr_idx, val_idx in skf.split(X_train, y_train):\n",
        "    X_tr, X_val = np.array(X_train)[tr_idx], np.array(X_train)[val_idx]\n",
        "    y_tr, y_val = np.array(y_train)[tr_idx], np.array(y_train)[val_idx]\n",
        "    rf_params = {\n",
        "        'max_depth':int(round(max_depth)),\n",
        "        'min_samples_leaf':int(round(min_samples_leaf)),\n",
        "        'min_samples_split':int(round(min_samples_split)),\n",
        "        'n_estimators':int(round(n_estimators))\n",
        "    }\n",
        "    rf = RandomForestClassifier(**rf_params, random_state=42)\n",
        "    rf.fit(X_tr, y_tr)\n",
        "    predictions = rf.predict(X_val)\n",
        "    score = accuracy_score(y_val, predictions)\n",
        "    score_list.append(score)\n",
        "  return np.mean(score_list)"
      ]
    },
    {
      "cell_type": "code",
      "source": [
        "BO_rf = BayesianOptimization(f=rf_bo, pbounds=rf_parameter_bound, verbose=1, random_state=42)"
      ],
      "metadata": {
        "id": "qI1e0L3gNiF5"
      },
      "execution_count": 80,
      "outputs": []
    },
    {
      "cell_type": "code",
      "source": [
        "BO_rf.maximize(init_points=5, n_iter=50)"
      ],
      "metadata": {
        "id": "Et34HoiFNqmw",
        "colab": {
          "base_uri": "https://localhost:8080/"
        },
        "outputId": "1c3aa132-0cb8-4127-9879-780f8841a4d5"
      },
      "execution_count": 81,
      "outputs": [
        {
          "output_type": "stream",
          "name": "stdout",
          "text": [
            "|   iter    |  target   | max_depth | min_sa... | min_sa... | n_esti... |\n",
            "-------------------------------------------------------------------------\n",
            "| \u001b[95m 3       \u001b[0m | \u001b[95m 0.8575  \u001b[0m | \u001b[95m 18.83   \u001b[0m | \u001b[95m 14.75   \u001b[0m | \u001b[95m 2.371   \u001b[0m | \u001b[95m 536.5   \u001b[0m |\n",
            "| \u001b[95m 4       \u001b[0m | \u001b[95m 0.8584  \u001b[0m | \u001b[95m 25.31   \u001b[0m | \u001b[95m 5.822   \u001b[0m | \u001b[95m 5.273   \u001b[0m | \u001b[95m 182.5   \u001b[0m |\n",
            "| \u001b[95m 6       \u001b[0m | \u001b[95m 0.8594  \u001b[0m | \u001b[95m 24.17   \u001b[0m | \u001b[95m 5.074   \u001b[0m | \u001b[95m 2.661   \u001b[0m | \u001b[95m 183.5   \u001b[0m |\n",
            "| \u001b[95m 7       \u001b[0m | \u001b[95m 0.8601  \u001b[0m | \u001b[95m 15.81   \u001b[0m | \u001b[95m 3.346   \u001b[0m | \u001b[95m 2.0     \u001b[0m | \u001b[95m 188.4   \u001b[0m |\n",
            "| \u001b[95m 10      \u001b[0m | \u001b[95m 0.8608  \u001b[0m | \u001b[95m 18.85   \u001b[0m | \u001b[95m 2.0     \u001b[0m | \u001b[95m 10.42   \u001b[0m | \u001b[95m 193.4   \u001b[0m |\n",
            "| \u001b[95m 18      \u001b[0m | \u001b[95m 0.861   \u001b[0m | \u001b[95m 17.89   \u001b[0m | \u001b[95m 2.0     \u001b[0m | \u001b[95m 20.0    \u001b[0m | \u001b[95m 200.5   \u001b[0m |\n",
            "=========================================================================\n"
          ]
        }
      ]
    },
    {
      "cell_type": "code",
      "source": [
        "rf_max_params = BO_rf.max['params']\n",
        "rf_max_params['max_depth'] = int(rf_max_params['max_depth'])\n",
        "rf_max_params['min_samples_split'] = int(rf_max_params['min_samples_split'])\n",
        "rf_max_params['min_samples_leaf'] = int(rf_max_params['min_samples_leaf'])\n",
        "rf_max_params['n_estimators'] = int(rf_max_params['n_estimators'])\n",
        "print(rf_max_params)"
      ],
      "metadata": {
        "id": "H77zLISWNtQ7",
        "colab": {
          "base_uri": "https://localhost:8080/"
        },
        "outputId": "d8ec2402-5c64-4bef-b538-0efabdb5c316"
      },
      "execution_count": 82,
      "outputs": [
        {
          "output_type": "stream",
          "name": "stdout",
          "text": [
            "{'max_depth': 17, 'min_samples_leaf': 2, 'min_samples_split': 20, 'n_estimators': 200}\n"
          ]
        }
      ]
    },
    {
      "cell_type": "markdown",
      "metadata": {
        "id": "Uw5PCBUEe3CU"
      },
      "source": [
        "#### adaboost"
      ]
    },
    {
      "cell_type": "code",
      "source": [
        "ada_parameter_bound = {\n",
        "    'n_estimators':(100,550),\n",
        "    'learning_rate':(0.5,1)\n",
        "}"
      ],
      "metadata": {
        "id": "tj6Sp0oxOfJ4"
      },
      "execution_count": 83,
      "outputs": []
    },
    {
      "cell_type": "code",
      "execution_count": 84,
      "metadata": {
        "id": "0cg8Lfzre5Sf"
      },
      "outputs": [],
      "source": [
        "def ada_bo(n_estimators, learning_rate):\n",
        "  score_list = []\n",
        "  for tr_idx, val_idx in skf.split(X_train, y_train):\n",
        "    X_tr, X_val = np.array(X_train)[tr_idx], np.array(X_train)[val_idx]\n",
        "    y_tr, y_val = np.array(y_train)[tr_idx], np.array(y_train)[val_idx]\n",
        "    ada_params = {\n",
        "        'n_estimators':int(round(n_estimators)),\n",
        "        'learning_rate':learning_rate\n",
        "    }\n",
        "    ada = AdaBoostClassifier(**ada_params, random_state=42)\n",
        "    ada.fit(X_tr, y_tr)\n",
        "    predictions = ada.predict(X_val)\n",
        "    score = accuracy_score(y_val, predictions)\n",
        "    score_list.append(score)\n",
        "  return np.mean(score_list)"
      ]
    },
    {
      "cell_type": "code",
      "execution_count": 85,
      "metadata": {
        "id": "8_W585aafsD3"
      },
      "outputs": [],
      "source": [
        "BO_ada = BayesianOptimization(f=ada_bo, pbounds=ada_parameter_bound, verbose=1, random_state=42)"
      ]
    },
    {
      "cell_type": "code",
      "source": [
        "BO_ada.maximize(init_points=5, n_iter=30)"
      ],
      "metadata": {
        "id": "t8Hnwz5FPc4e",
        "colab": {
          "base_uri": "https://localhost:8080/"
        },
        "outputId": "4af0ab46-e856-4cdd-b525-f13a9e2bc40c"
      },
      "execution_count": 86,
      "outputs": [
        {
          "output_type": "stream",
          "name": "stdout",
          "text": [
            "|   iter    |  target   | learni... | n_esti... |\n",
            "-------------------------------------------------\n",
            "| \u001b[95m 4       \u001b[0m | \u001b[95m 0.865   \u001b[0m | \u001b[95m 0.529   \u001b[0m | \u001b[95m 489.8   \u001b[0m |\n",
            "=================================================\n"
          ]
        }
      ]
    },
    {
      "cell_type": "code",
      "source": [
        "ada_max_params = BO_ada.max['params']\n",
        "ada_max_params['n_estimators'] = int(ada_max_params['n_estimators'])\n",
        "ada_max_params['learning_rate'] = ada_max_params['learning_rate']\n",
        "print(ada_max_params)"
      ],
      "metadata": {
        "id": "igajVGefPfPr",
        "colab": {
          "base_uri": "https://localhost:8080/"
        },
        "outputId": "f4ea17df-92bb-46f1-f245-7c7c98af0f2a"
      },
      "execution_count": 87,
      "outputs": [
        {
          "output_type": "stream",
          "name": "stdout",
          "text": [
            "{'learning_rate': 0.5290418060840998, 'n_estimators': 489}\n"
          ]
        }
      ]
    },
    {
      "cell_type": "markdown",
      "metadata": {
        "id": "s1Drq2hmIfrT"
      },
      "source": [
        "#### XGBoost"
      ]
    },
    {
      "cell_type": "code",
      "source": [
        "xgb_parameter_bound = {\n",
        "    'max_depth':(2,30),\n",
        "    'n_estimators':(100,550),\n",
        "    'learning_rate':(0.001,0.05),\n",
        "    'subsample':(0.7,1),\n",
        "    'colsample_bytree':(0.7,1)\n",
        "}"
      ],
      "metadata": {
        "id": "vszYBxcuP1yP"
      },
      "execution_count": 88,
      "outputs": []
    },
    {
      "cell_type": "code",
      "execution_count": 89,
      "metadata": {
        "id": "etf_PiwEIh0N"
      },
      "outputs": [],
      "source": [
        "def xgb_bo(max_depth, n_estimators, learning_rate, subsample, colsample_bytree):\n",
        "  score_list = []\n",
        "  for tr_idx, val_idx in skf.split(X_train, y_train):\n",
        "    X_tr, X_val = np.array(X_train)[tr_idx], np.array(X_train)[val_idx]\n",
        "    y_tr, y_val = np.array(y_train)[tr_idx], np.array(y_train)[val_idx]\n",
        "    xgb_params = {\n",
        "        'max_depth':int(round(max_depth)),\n",
        "        'n_estimators':int(round(n_estimators)),\n",
        "        'learning_rate':learning_rate,\n",
        "        'subsample':subsample,\n",
        "        'colsample_bytree':colsample_bytree\n",
        "    }\n",
        "    xgb = XGBClassifier(**xgb_params, random_state=42)\n",
        "    xgb.fit(X_tr, y_tr)\n",
        "    predictions = xgb.predict(X_val)\n",
        "    score = accuracy_score(y_val, predictions)\n",
        "    score_list.append(score)\n",
        "  return np.mean(score_list)"
      ]
    },
    {
      "cell_type": "code",
      "execution_count": 90,
      "metadata": {
        "id": "0FWheR4OJJ-0"
      },
      "outputs": [],
      "source": [
        "BO_xgb = BayesianOptimization(f=xgb_bo, pbounds=xgb_parameter_bound, verbose=1, random_state=42)"
      ]
    },
    {
      "cell_type": "code",
      "source": [
        "BO_xgb.maximize(init_points=5, n_iter=30)"
      ],
      "metadata": {
        "id": "Ov1u-A1lQwaV",
        "colab": {
          "base_uri": "https://localhost:8080/"
        },
        "outputId": "33331228-f5e1-4fba-f38d-10150b558ede"
      },
      "execution_count": 91,
      "outputs": [
        {
          "output_type": "stream",
          "name": "stdout",
          "text": [
            "|   iter    |  target   | colsam... | learni... | max_depth | n_esti... | subsample |\n",
            "-------------------------------------------------------------------------------------\n",
            "| \u001b[95m 2       \u001b[0m | \u001b[95m 0.8591  \u001b[0m | \u001b[95m 0.7468  \u001b[0m | \u001b[95m 0.003846\u001b[0m | \u001b[95m 26.25   \u001b[0m | \u001b[95m 370.5   \u001b[0m | \u001b[95m 0.9124  \u001b[0m |\n",
            "| \u001b[95m 4       \u001b[0m | \u001b[95m 0.8631  \u001b[0m | \u001b[95m 0.755   \u001b[0m | \u001b[95m 0.01591 \u001b[0m | \u001b[95m 16.69   \u001b[0m | \u001b[95m 294.4   \u001b[0m | \u001b[95m 0.7874  \u001b[0m |\n",
            "| \u001b[95m 9       \u001b[0m | \u001b[95m 0.8658  \u001b[0m | \u001b[95m 0.8422  \u001b[0m | \u001b[95m 0.01687 \u001b[0m | \u001b[95m 10.33   \u001b[0m | \u001b[95m 265.2   \u001b[0m | \u001b[95m 0.9755  \u001b[0m |\n",
            "| \u001b[95m 15      \u001b[0m | \u001b[95m 0.866   \u001b[0m | \u001b[95m 0.7401  \u001b[0m | \u001b[95m 0.03713 \u001b[0m | \u001b[95m 10.44   \u001b[0m | \u001b[95m 185.3   \u001b[0m | \u001b[95m 0.7681  \u001b[0m |\n",
            "| \u001b[95m 21      \u001b[0m | \u001b[95m 0.8665  \u001b[0m | \u001b[95m 0.8202  \u001b[0m | \u001b[95m 0.03331 \u001b[0m | \u001b[95m 9.909   \u001b[0m | \u001b[95m 185.3   \u001b[0m | \u001b[95m 0.9304  \u001b[0m |\n",
            "=====================================================================================\n"
          ]
        }
      ]
    },
    {
      "cell_type": "code",
      "source": [
        "xgb_max_params = BO_xgb.max['params']\n",
        "xgb_max_params['max_depth'] = int(xgb_max_params['max_depth'])\n",
        "xgb_max_params['n_estimators'] = int(xgb_max_params['n_estimators'])\n",
        "xgb_max_params['learning_rate'] = xgb_max_params['learning_rate']\n",
        "xgb_max_params['subsample'] = xgb_max_params['subsample']\n",
        "xgb_max_params['colsample_bytree'] = xgb_max_params['colsample_bytree']\n",
        "print(xgb_max_params)"
      ],
      "metadata": {
        "id": "NXbjP9kkQy9N",
        "colab": {
          "base_uri": "https://localhost:8080/"
        },
        "outputId": "88b80b5f-8af2-46b4-e637-44ee5f6c3dc9"
      },
      "execution_count": 92,
      "outputs": [
        {
          "output_type": "stream",
          "name": "stdout",
          "text": [
            "{'colsample_bytree': 0.8201648053323486, 'learning_rate': 0.0333055223761056, 'max_depth': 9, 'n_estimators': 185, 'subsample': 0.930365791280749}\n"
          ]
        }
      ]
    },
    {
      "cell_type": "markdown",
      "metadata": {
        "id": "rG5BKmDJM4Ja"
      },
      "source": [
        "#### LightGBM"
      ]
    },
    {
      "cell_type": "code",
      "source": [
        "lgb_parameter_bound = {\n",
        "    'max_depth':(2,30),\n",
        "    'n_estimators':(100,550),\n",
        "    'learning_rate':(0.001,0.05),\n",
        "    'subsample':(0.7,1),\n",
        "    'colsample_bytree':(0.7,1)\n",
        "}"
      ],
      "metadata": {
        "id": "9mAtk1xxRtgL"
      },
      "execution_count": 93,
      "outputs": []
    },
    {
      "cell_type": "code",
      "execution_count": 94,
      "metadata": {
        "id": "sK7nxTIgM7qt"
      },
      "outputs": [],
      "source": [
        "def lgb_bo(max_depth, n_estimators, learning_rate, subsample, colsample_bytree):\n",
        "  score_list = []\n",
        "  for tr_idx, val_idx in skf.split(X_train, y_train):\n",
        "    X_tr, X_val = np.array(X_train)[tr_idx], np.array(X_train)[val_idx]\n",
        "    y_tr, y_val = np.array(y_train)[tr_idx], np.array(y_train)[val_idx]\n",
        "    lgb_params = {\n",
        "        'max_depth':int(round(max_depth)),\n",
        "        'n_estimators':int(round(n_estimators)),\n",
        "        'learning_rate':learning_rate,\n",
        "        'subsample':subsample,\n",
        "        'colsample_bytree':colsample_bytree\n",
        "    }\n",
        "    lgb = LGBMClassifier(**lgb_params, random_state=42)\n",
        "    lgb.fit(X_tr, y_tr)\n",
        "    predictions = lgb.predict(X_val)\n",
        "    score = accuracy_score(y_val, predictions)\n",
        "    score_list.append(score)\n",
        "  return np.mean(score_list)"
      ]
    },
    {
      "cell_type": "code",
      "execution_count": 95,
      "metadata": {
        "id": "o6eVsnWTTjn3"
      },
      "outputs": [],
      "source": [
        "BO_lgb = BayesianOptimization(f=lgb_bo, pbounds=lgb_parameter_bound, verbose=1, random_state=42)"
      ]
    },
    {
      "cell_type": "code",
      "source": [
        "BO_lgb.maximize(init_points=5, n_iter=50)"
      ],
      "metadata": {
        "id": "RaCPgN8CSAWz",
        "colab": {
          "base_uri": "https://localhost:8080/"
        },
        "outputId": "4dfb71e6-c312-45e5-f2a0-2473a0839ad2"
      },
      "execution_count": 96,
      "outputs": [
        {
          "output_type": "stream",
          "name": "stdout",
          "text": [
            "|   iter    |  target   | colsam... | learni... | max_depth | n_esti... | subsample |\n",
            "-------------------------------------------------------------------------------------\n",
            "| \u001b[95m 3       \u001b[0m | \u001b[95m 0.8677  \u001b[0m | \u001b[95m 0.7062  \u001b[0m | \u001b[95m 0.04853 \u001b[0m | \u001b[95m 25.31   \u001b[0m | \u001b[95m 195.6   \u001b[0m | \u001b[95m 0.7545  \u001b[0m |\n",
            "=====================================================================================\n"
          ]
        }
      ]
    },
    {
      "cell_type": "code",
      "execution_count": 97,
      "metadata": {
        "id": "RoV1vAHyTqct",
        "colab": {
          "base_uri": "https://localhost:8080/"
        },
        "outputId": "b405f620-6944-45d7-da9a-c19447996837"
      },
      "outputs": [
        {
          "output_type": "stream",
          "name": "stdout",
          "text": [
            "{'colsample_bytree': 0.7061753482887407, 'learning_rate': 0.04852558275593773, 'max_depth': 25, 'n_estimators': 195, 'subsample': 0.7545474901621302}\n"
          ]
        }
      ],
      "source": [
        "lgb_max_params = BO_lgb.max['params']\n",
        "lgb_max_params['max_depth'] = int(lgb_max_params['max_depth'])\n",
        "lgb_max_params['n_estimators'] = int(lgb_max_params['n_estimators'])\n",
        "lgb_max_params['learning_rate'] = lgb_max_params['learning_rate']\n",
        "lgb_max_params['subsample'] = lgb_max_params['subsample']\n",
        "lgb_max_params['colsample_bytree'] = lgb_max_params['colsample_bytree']\n",
        "print(lgb_max_params)"
      ]
    },
    {
      "cell_type": "markdown",
      "metadata": {
        "id": "LVCW4DiDM8K_"
      },
      "source": [
        "#### etc"
      ]
    },
    {
      "cell_type": "code",
      "source": [
        "etc_parameter_bound = {\n",
        "    'max_depth':(2,30),\n",
        "    'min_samples_leaf':(2,20),\n",
        "    'min_samples_split':(2,20),\n",
        "    'n_estimators':(100,550)\n",
        "}"
      ],
      "metadata": {
        "id": "ewuJkU0ZSW4J"
      },
      "execution_count": 98,
      "outputs": []
    },
    {
      "cell_type": "code",
      "execution_count": 99,
      "metadata": {
        "id": "EwO6-vXLTE1g"
      },
      "outputs": [],
      "source": [
        "def etc_bo(max_depth, min_samples_leaf, min_samples_split, n_estimators):\n",
        "  score_list = []\n",
        "  for tr_idx, val_idx in skf.split(X_train, y_train):\n",
        "    X_tr, X_val = np.array(X_train)[tr_idx], np.array(X_train)[val_idx]\n",
        "    y_tr, y_val = np.array(y_train)[tr_idx], np.array(y_train)[val_idx]\n",
        "    rf_params = {\n",
        "        'max_depth':int(round(max_depth)),\n",
        "        'min_samples_leaf':int(round(min_samples_leaf)),\n",
        "        'min_samples_split':int(round(min_samples_split)),\n",
        "        'n_estimators':int(round(n_estimators))\n",
        "    }\n",
        "    etc = ExtraTreesClassifier(**rf_params)\n",
        "    etc.fit(X_tr, y_tr)\n",
        "    predictions = etc.predict(X_val)\n",
        "    score = accuracy_score(y_val, predictions)\n",
        "    score_list.append(score)\n",
        "  return np.mean(score_list)"
      ]
    },
    {
      "cell_type": "code",
      "source": [
        "BO_etc = BayesianOptimization(f=etc_bo, pbounds=etc_parameter_bound, verbose=1, random_state=42)"
      ],
      "metadata": {
        "id": "yb4phuAnSrtI"
      },
      "execution_count": 100,
      "outputs": []
    },
    {
      "cell_type": "code",
      "source": [
        "BO_etc.maximize(init_points=5, n_iter=100)"
      ],
      "metadata": {
        "id": "aYmElF9USrtJ",
        "colab": {
          "base_uri": "https://localhost:8080/"
        },
        "outputId": "588aa7e2-337a-44a9-e491-cc51b6d840d0"
      },
      "execution_count": 101,
      "outputs": [
        {
          "output_type": "stream",
          "name": "stdout",
          "text": [
            "|   iter    |  target   | max_depth | min_sa... | min_sa... | n_esti... |\n",
            "-------------------------------------------------------------------------\n",
            "| \u001b[95m 3       \u001b[0m | \u001b[95m 0.8441  \u001b[0m | \u001b[95m 18.83   \u001b[0m | \u001b[95m 14.75   \u001b[0m | \u001b[95m 2.371   \u001b[0m | \u001b[95m 536.5   \u001b[0m |\n",
            "| \u001b[95m 4       \u001b[0m | \u001b[95m 0.8482  \u001b[0m | \u001b[95m 25.31   \u001b[0m | \u001b[95m 5.822   \u001b[0m | \u001b[95m 5.273   \u001b[0m | \u001b[95m 182.5   \u001b[0m |\n",
            "| \u001b[95m 6       \u001b[0m | \u001b[95m 0.8485  \u001b[0m | \u001b[95m 24.17   \u001b[0m | \u001b[95m 5.074   \u001b[0m | \u001b[95m 2.661   \u001b[0m | \u001b[95m 183.5   \u001b[0m |\n",
            "| \u001b[95m 13      \u001b[0m | \u001b[95m 0.8514  \u001b[0m | \u001b[95m 30.0    \u001b[0m | \u001b[95m 2.0     \u001b[0m | \u001b[95m 20.0    \u001b[0m | \u001b[95m 514.1   \u001b[0m |\n",
            "| \u001b[95m 19      \u001b[0m | \u001b[95m 0.8525  \u001b[0m | \u001b[95m 30.0    \u001b[0m | \u001b[95m 2.0     \u001b[0m | \u001b[95m 2.0     \u001b[0m | \u001b[95m 365.8   \u001b[0m |\n",
            "| \u001b[95m 37      \u001b[0m | \u001b[95m 0.853   \u001b[0m | \u001b[95m 30.0    \u001b[0m | \u001b[95m 2.0     \u001b[0m | \u001b[95m 2.0     \u001b[0m | \u001b[95m 490.2   \u001b[0m |\n",
            "| \u001b[95m 62      \u001b[0m | \u001b[95m 0.8532  \u001b[0m | \u001b[95m 30.0    \u001b[0m | \u001b[95m 2.0     \u001b[0m | \u001b[95m 2.0     \u001b[0m | \u001b[95m 292.6   \u001b[0m |\n",
            "| \u001b[95m 69      \u001b[0m | \u001b[95m 0.8537  \u001b[0m | \u001b[95m 28.73   \u001b[0m | \u001b[95m 2.141   \u001b[0m | \u001b[95m 3.627   \u001b[0m | \u001b[95m 131.4   \u001b[0m |\n",
            "=========================================================================\n"
          ]
        }
      ]
    },
    {
      "cell_type": "code",
      "source": [
        "etc_max_params = BO_etc.max['params']\n",
        "etc_max_params['max_depth'] = int(etc_max_params['max_depth'])\n",
        "etc_max_params['min_samples_split'] = int(etc_max_params['min_samples_split'])\n",
        "etc_max_params['min_samples_leaf'] = int(etc_max_params['min_samples_leaf'])\n",
        "etc_max_params['n_estimators'] = int(etc_max_params['n_estimators'])\n",
        "print(etc_max_params)"
      ],
      "metadata": {
        "id": "EiZnacZ5SrtJ",
        "colab": {
          "base_uri": "https://localhost:8080/"
        },
        "outputId": "a81a493b-b08e-4b4a-a6ec-7a2e5e085aaa"
      },
      "execution_count": 102,
      "outputs": [
        {
          "output_type": "stream",
          "name": "stdout",
          "text": [
            "{'max_depth': 28, 'min_samples_leaf': 2, 'min_samples_split': 3, 'n_estimators': 131}\n"
          ]
        }
      ]
    },
    {
      "cell_type": "markdown",
      "metadata": {
        "id": "3Uw36gxQUlY5"
      },
      "source": [
        "#### 튜닝 후 적합한 하이퍼파라미터를 찾아 모델 돌리기"
      ]
    },
    {
      "cell_type": "code",
      "execution_count": 103,
      "metadata": {
        "id": "s6mcRGEVU2IK"
      },
      "outputs": [],
      "source": [
        "knn = KNeighborsClassifier(**knn_gs.best_params_)\n",
        "svc = SVC(**svc_gs.best_params_)\n",
        "dt = DecisionTreeClassifier(**dt_max_params, random_state=42)\n",
        "rf = RandomForestClassifier(**rf_max_params, random_state=42)\n",
        "ada = AdaBoostClassifier(**ada_max_params,random_state=42)\n",
        "xgb = XGBClassifier(**xgb_max_params, random_state=42)\n",
        "lgb = LGBMClassifier(**lgb_max_params, random_state=42)\n",
        "etc = ExtraTreesClassifier(**etc_max_params, random_state=42)\n",
        "cat = CatBoostClassifier(silent=True)\n",
        "\n",
        "tuned_model_list = [knn,svc, dt, rf, ada, xgb,lgb,etc,cat]"
      ]
    },
    {
      "cell_type": "code",
      "execution_count": 104,
      "metadata": {
        "id": "xdBgBvCgWFwq",
        "colab": {
          "base_uri": "https://localhost:8080/"
        },
        "outputId": "447f6fc5-42de-40f6-ae0d-942012287458"
      },
      "outputs": [
        {
          "output_type": "stream",
          "name": "stdout",
          "text": [
            "KNeighborsClassifier(n_neighbors=45, weights='distance')\n",
            "average_accuracy:  0.8399833996855021\n",
            "SVC(C=100)\n",
            "average_accuracy:  0.8466354296037034\n",
            "DecisionTreeClassifier(max_depth=8, min_samples_leaf=15, min_samples_split=16,\n",
            "                       random_state=42)\n",
            "average_accuracy:  0.8491298129866985\n",
            "RandomForestClassifier(max_depth=17, min_samples_leaf=2, min_samples_split=20,\n",
            "                       n_estimators=200, random_state=42)\n",
            "average_accuracy:  0.8617285844488842\n",
            "AdaBoostClassifier(learning_rate=0.5290418060840998, n_estimators=489,\n",
            "                   random_state=42)\n",
            "average_accuracy:  0.863328808949934\n",
            "XGBClassifier(colsample_bytree=0.8201648053323486,\n",
            "              learning_rate=0.0333055223761056, max_depth=9, n_estimators=185,\n",
            "              random_state=42, subsample=0.930365791280749)\n",
            "average_accuracy:  0.8669096988707858\n",
            "LGBMClassifier(colsample_bytree=0.7061753482887407,\n",
            "               learning_rate=0.04852558275593773, max_depth=25,\n",
            "               n_estimators=195, random_state=42, subsample=0.7545474901621302)\n",
            "average_accuracy:  0.8671018419885688\n",
            "ExtraTreesClassifier(max_depth=28, min_samples_leaf=2, min_samples_split=3,\n",
            "                     n_estimators=131)\n",
            "average_accuracy:  0.8527109483533046\n",
            "<catboost.core.CatBoostClassifier object at 0x7fecb7111610>\n",
            "average_accuracy:  0.8667185375360191\n"
          ]
        }
      ],
      "source": [
        "# 성능이 가장 좋은 모델 3개(XGBoost, LightGBM, CatBoost)를 사용해보기로 한다\n",
        "for model in tuned_model_list:\n",
        "  return_score(model)"
      ]
    },
    {
      "cell_type": "markdown",
      "metadata": {
        "id": "FpVZmcsBWh_p"
      },
      "source": [
        "## 제출할 파일 생성"
      ]
    },
    {
      "cell_type": "code",
      "execution_count": 112,
      "metadata": {
        "id": "io11WkGqWlO7"
      },
      "outputs": [],
      "source": [
        "submission = pd.read_csv('sample_submission.csv')"
      ]
    },
    {
      "cell_type": "code",
      "execution_count": 113,
      "metadata": {
        "id": "rwhPfWREXW-t",
        "colab": {
          "base_uri": "https://localhost:8080/"
        },
        "outputId": "18c457b3-eb82-4909-860b-5ca16524d4a5"
      },
      "outputs": [
        {
          "output_type": "execute_result",
          "data": {
            "text/plain": [
              "<catboost.core.CatBoostClassifier at 0x7fecb7111610>"
            ]
          },
          "metadata": {},
          "execution_count": 113
        }
      ],
      "source": [
        "xgb.fit(X_train, y_train)\n",
        "lgb.fit(X_train, y_train)\n",
        "cat.fit(X_train, y_train)"
      ]
    },
    {
      "cell_type": "code",
      "source": [
        "pred1 = xgb.predict(X_test)\n",
        "submission['target'] = pred1\n",
        "submission.to_csv('xgb.csv', index=False)\n",
        "submission.target.value_counts()"
      ],
      "metadata": {
        "colab": {
          "base_uri": "https://localhost:8080/"
        },
        "id": "Gu5rlUBHIf51",
        "outputId": "748df2fc-cefe-4fda-b8c8-c4c499d83dd9"
      },
      "execution_count": 114,
      "outputs": [
        {
          "output_type": "execute_result",
          "data": {
            "text/plain": [
              "0    11999\n",
              "1     3082\n",
              "Name: target, dtype: int64"
            ]
          },
          "metadata": {},
          "execution_count": 114
        }
      ]
    },
    {
      "cell_type": "code",
      "execution_count": 115,
      "metadata": {
        "id": "WN7YqZ2-XblS",
        "colab": {
          "base_uri": "https://localhost:8080/"
        },
        "outputId": "46620605-018c-411d-823c-d86f4df1c21b"
      },
      "outputs": [
        {
          "output_type": "execute_result",
          "data": {
            "text/plain": [
              "0    11890\n",
              "1     3191\n",
              "Name: target, dtype: int64"
            ]
          },
          "metadata": {},
          "execution_count": 115
        }
      ],
      "source": [
        "pred2 = lgb.predict(X_test)\n",
        "submission['target'] = pred2\n",
        "submission.to_csv('lgb.csv', index=False)\n",
        "submission.target.value_counts()"
      ]
    },
    {
      "cell_type": "code",
      "source": [
        "pred3 = cat.predict(X_test)\n",
        "submission['target'] = pred3\n",
        "submission.to_csv('cat.csv', index=False)\n",
        "submission.target.value_counts()"
      ],
      "metadata": {
        "colab": {
          "base_uri": "https://localhost:8080/"
        },
        "id": "1_VXAgo2IzlY",
        "outputId": "75be90c6-c90c-4dc8-ea82-da866fbdb8af"
      },
      "execution_count": 116,
      "outputs": [
        {
          "output_type": "execute_result",
          "data": {
            "text/plain": [
              "0    11956\n",
              "1     3125\n",
              "Name: target, dtype: int64"
            ]
          },
          "metadata": {},
          "execution_count": 116
        }
      ]
    }
  ],
  "metadata": {
    "colab": {
      "collapsed_sections": [
        "ONxiUYzNeNWN",
        "6gbyz5dQgC9A",
        "5xuGHLJ0kkgJ",
        "Ngptt9Tev7Ib",
        "v2kjcwzVmurB",
        "iwnR75-KpShJ",
        "onRAEMrjsf0L",
        "tHk0wz1I6ety",
        "Kb0jtvmK778g",
        "D16_wTjU86E-",
        "IT3QYv6Y9fOt",
        "3PIX7Aiy_dxu",
        "b8e-WO_qB8U7",
        "FZ_i5FxuWkPT",
        "f9LKd4SGCwKR",
        "yF05gFF2Fm6f",
        "DTqJc4tvMhiD",
        "v6dJ0tQ-b2Nb",
        "T8-YZ7-ZMjfA",
        "G95HBgP7MzFO",
        "rG5BKmDJM4Ja",
        "LVCW4DiDM8K_"
      ],
      "name": "소득예측4.ipynb",
      "provenance": []
    },
    "kernelspec": {
      "display_name": "Python 3",
      "name": "python3"
    },
    "language_info": {
      "name": "python"
    }
  },
  "nbformat": 4,
  "nbformat_minor": 0
}