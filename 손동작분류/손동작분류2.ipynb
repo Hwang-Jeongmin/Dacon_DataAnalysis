{
  "cells": [
    {
      "cell_type": "markdown",
      "source": [
        "## EDA 및 데이터전처리"
      ],
      "metadata": {
        "id": "xKs9sZH_DYb3"
      }
    },
    {
      "cell_type": "markdown",
      "source": [
        "### train set"
      ],
      "metadata": {
        "id": "DpaAntaxOADc"
      }
    },
    {
      "cell_type": "code",
      "source": [
        "import pandas as pd\n",
        "import numpy as np\n",
        "import matplotlib.pyplot as plt\n",
        "import seaborn as sns"
      ],
      "metadata": {
        "id": "p3mn-9yaVopj"
      },
      "execution_count": null,
      "outputs": []
    },
    {
      "cell_type": "code",
      "execution_count": null,
      "metadata": {
        "colab": {
          "base_uri": "https://localhost:8080/",
          "height": 331
        },
        "outputId": "ab83730e-64f4-488c-9897-d39ef32300c6",
        "id": "i1nzQIjrOFBM"
      },
      "outputs": [
        {
          "output_type": "execute_result",
          "data": {
            "text/plain": [
              "     sensor_1  sensor_2   sensor_3   sensor_4   sensor_5   sensor_6  \\\n",
              "id                                                                    \n",
              "1   -6.149463 -0.929714   9.058368  -7.017854  -2.958471   0.179233   \n",
              "2   -2.238836 -1.003511   5.098079 -10.880357  -0.804562  -2.992123   \n",
              "3   19.087934 -2.092514   0.946750 -21.831788   9.119235  17.853587   \n",
              "4   -2.211629 -1.930904  21.888406  -3.067560  -0.240634   2.985056   \n",
              "5    3.953852  2.964892 -36.044802   0.899838  26.930210  11.004409   \n",
              "\n",
              "     sensor_7   sensor_8   sensor_9  sensor_10  ...  sensor_24  sensor_25  \\\n",
              "id                                              ...                         \n",
              "1   -0.956591  -0.972401   5.956213   4.145636  ...  -7.026436  -6.006282   \n",
              "2   26.972724  -8.900861  -5.968298  -4.060134  ...  -1.996714  -7.933806   \n",
              "3  -21.069954 -15.933212  -9.016039  -5.975194  ...  -6.889685  54.052330   \n",
              "4  -29.073369   0.200774  -1.043742   2.099845  ...  -2.126170  -1.035526   \n",
              "5  -21.962423 -11.950189 -20.933785  -4.000506  ...  -2.051761  10.917567   \n",
              "\n",
              "    sensor_26  sensor_27  sensor_28  sensor_29  sensor_30  sensor_31  \\\n",
              "id                                                                     \n",
              "1   -6.005836   7.043084  21.884650  -3.064152  -5.247552  -6.026107   \n",
              "2   -3.136773   8.774211  10.944759   9.858186  -0.969241  -3.935553   \n",
              "3   -6.109238  12.154595   6.095989 -40.195088  -3.958124  -8.079537   \n",
              "4    2.178769  10.032723  -1.010897  -3.912848  -2.980338 -12.983597   \n",
              "5    1.905335 -13.004707  17.169552   2.105194   3.967986  11.861657   \n",
              "\n",
              "    sensor_32  target  \n",
              "id                     \n",
              "1  -11.990822       1  \n",
              "2  -15.892421       1  \n",
              "3   -5.160090       0  \n",
              "4   -3.001077       1  \n",
              "5  -27.088846       2  \n",
              "\n",
              "[5 rows x 33 columns]"
            ],
            "text/html": [
              "\n",
              "  <div id=\"df-d840c5af-0711-4d04-a849-61d08845d0ae\">\n",
              "    <div class=\"colab-df-container\">\n",
              "      <div>\n",
              "<style scoped>\n",
              "    .dataframe tbody tr th:only-of-type {\n",
              "        vertical-align: middle;\n",
              "    }\n",
              "\n",
              "    .dataframe tbody tr th {\n",
              "        vertical-align: top;\n",
              "    }\n",
              "\n",
              "    .dataframe thead th {\n",
              "        text-align: right;\n",
              "    }\n",
              "</style>\n",
              "<table border=\"1\" class=\"dataframe\">\n",
              "  <thead>\n",
              "    <tr style=\"text-align: right;\">\n",
              "      <th></th>\n",
              "      <th>sensor_1</th>\n",
              "      <th>sensor_2</th>\n",
              "      <th>sensor_3</th>\n",
              "      <th>sensor_4</th>\n",
              "      <th>sensor_5</th>\n",
              "      <th>sensor_6</th>\n",
              "      <th>sensor_7</th>\n",
              "      <th>sensor_8</th>\n",
              "      <th>sensor_9</th>\n",
              "      <th>sensor_10</th>\n",
              "      <th>...</th>\n",
              "      <th>sensor_24</th>\n",
              "      <th>sensor_25</th>\n",
              "      <th>sensor_26</th>\n",
              "      <th>sensor_27</th>\n",
              "      <th>sensor_28</th>\n",
              "      <th>sensor_29</th>\n",
              "      <th>sensor_30</th>\n",
              "      <th>sensor_31</th>\n",
              "      <th>sensor_32</th>\n",
              "      <th>target</th>\n",
              "    </tr>\n",
              "    <tr>\n",
              "      <th>id</th>\n",
              "      <th></th>\n",
              "      <th></th>\n",
              "      <th></th>\n",
              "      <th></th>\n",
              "      <th></th>\n",
              "      <th></th>\n",
              "      <th></th>\n",
              "      <th></th>\n",
              "      <th></th>\n",
              "      <th></th>\n",
              "      <th></th>\n",
              "      <th></th>\n",
              "      <th></th>\n",
              "      <th></th>\n",
              "      <th></th>\n",
              "      <th></th>\n",
              "      <th></th>\n",
              "      <th></th>\n",
              "      <th></th>\n",
              "      <th></th>\n",
              "      <th></th>\n",
              "    </tr>\n",
              "  </thead>\n",
              "  <tbody>\n",
              "    <tr>\n",
              "      <th>1</th>\n",
              "      <td>-6.149463</td>\n",
              "      <td>-0.929714</td>\n",
              "      <td>9.058368</td>\n",
              "      <td>-7.017854</td>\n",
              "      <td>-2.958471</td>\n",
              "      <td>0.179233</td>\n",
              "      <td>-0.956591</td>\n",
              "      <td>-0.972401</td>\n",
              "      <td>5.956213</td>\n",
              "      <td>4.145636</td>\n",
              "      <td>...</td>\n",
              "      <td>-7.026436</td>\n",
              "      <td>-6.006282</td>\n",
              "      <td>-6.005836</td>\n",
              "      <td>7.043084</td>\n",
              "      <td>21.884650</td>\n",
              "      <td>-3.064152</td>\n",
              "      <td>-5.247552</td>\n",
              "      <td>-6.026107</td>\n",
              "      <td>-11.990822</td>\n",
              "      <td>1</td>\n",
              "    </tr>\n",
              "    <tr>\n",
              "      <th>2</th>\n",
              "      <td>-2.238836</td>\n",
              "      <td>-1.003511</td>\n",
              "      <td>5.098079</td>\n",
              "      <td>-10.880357</td>\n",
              "      <td>-0.804562</td>\n",
              "      <td>-2.992123</td>\n",
              "      <td>26.972724</td>\n",
              "      <td>-8.900861</td>\n",
              "      <td>-5.968298</td>\n",
              "      <td>-4.060134</td>\n",
              "      <td>...</td>\n",
              "      <td>-1.996714</td>\n",
              "      <td>-7.933806</td>\n",
              "      <td>-3.136773</td>\n",
              "      <td>8.774211</td>\n",
              "      <td>10.944759</td>\n",
              "      <td>9.858186</td>\n",
              "      <td>-0.969241</td>\n",
              "      <td>-3.935553</td>\n",
              "      <td>-15.892421</td>\n",
              "      <td>1</td>\n",
              "    </tr>\n",
              "    <tr>\n",
              "      <th>3</th>\n",
              "      <td>19.087934</td>\n",
              "      <td>-2.092514</td>\n",
              "      <td>0.946750</td>\n",
              "      <td>-21.831788</td>\n",
              "      <td>9.119235</td>\n",
              "      <td>17.853587</td>\n",
              "      <td>-21.069954</td>\n",
              "      <td>-15.933212</td>\n",
              "      <td>-9.016039</td>\n",
              "      <td>-5.975194</td>\n",
              "      <td>...</td>\n",
              "      <td>-6.889685</td>\n",
              "      <td>54.052330</td>\n",
              "      <td>-6.109238</td>\n",
              "      <td>12.154595</td>\n",
              "      <td>6.095989</td>\n",
              "      <td>-40.195088</td>\n",
              "      <td>-3.958124</td>\n",
              "      <td>-8.079537</td>\n",
              "      <td>-5.160090</td>\n",
              "      <td>0</td>\n",
              "    </tr>\n",
              "    <tr>\n",
              "      <th>4</th>\n",
              "      <td>-2.211629</td>\n",
              "      <td>-1.930904</td>\n",
              "      <td>21.888406</td>\n",
              "      <td>-3.067560</td>\n",
              "      <td>-0.240634</td>\n",
              "      <td>2.985056</td>\n",
              "      <td>-29.073369</td>\n",
              "      <td>0.200774</td>\n",
              "      <td>-1.043742</td>\n",
              "      <td>2.099845</td>\n",
              "      <td>...</td>\n",
              "      <td>-2.126170</td>\n",
              "      <td>-1.035526</td>\n",
              "      <td>2.178769</td>\n",
              "      <td>10.032723</td>\n",
              "      <td>-1.010897</td>\n",
              "      <td>-3.912848</td>\n",
              "      <td>-2.980338</td>\n",
              "      <td>-12.983597</td>\n",
              "      <td>-3.001077</td>\n",
              "      <td>1</td>\n",
              "    </tr>\n",
              "    <tr>\n",
              "      <th>5</th>\n",
              "      <td>3.953852</td>\n",
              "      <td>2.964892</td>\n",
              "      <td>-36.044802</td>\n",
              "      <td>0.899838</td>\n",
              "      <td>26.930210</td>\n",
              "      <td>11.004409</td>\n",
              "      <td>-21.962423</td>\n",
              "      <td>-11.950189</td>\n",
              "      <td>-20.933785</td>\n",
              "      <td>-4.000506</td>\n",
              "      <td>...</td>\n",
              "      <td>-2.051761</td>\n",
              "      <td>10.917567</td>\n",
              "      <td>1.905335</td>\n",
              "      <td>-13.004707</td>\n",
              "      <td>17.169552</td>\n",
              "      <td>2.105194</td>\n",
              "      <td>3.967986</td>\n",
              "      <td>11.861657</td>\n",
              "      <td>-27.088846</td>\n",
              "      <td>2</td>\n",
              "    </tr>\n",
              "  </tbody>\n",
              "</table>\n",
              "<p>5 rows × 33 columns</p>\n",
              "</div>\n",
              "      <button class=\"colab-df-convert\" onclick=\"convertToInteractive('df-d840c5af-0711-4d04-a849-61d08845d0ae')\"\n",
              "              title=\"Convert this dataframe to an interactive table.\"\n",
              "              style=\"display:none;\">\n",
              "        \n",
              "  <svg xmlns=\"http://www.w3.org/2000/svg\" height=\"24px\"viewBox=\"0 0 24 24\"\n",
              "       width=\"24px\">\n",
              "    <path d=\"M0 0h24v24H0V0z\" fill=\"none\"/>\n",
              "    <path d=\"M18.56 5.44l.94 2.06.94-2.06 2.06-.94-2.06-.94-.94-2.06-.94 2.06-2.06.94zm-11 1L8.5 8.5l.94-2.06 2.06-.94-2.06-.94L8.5 2.5l-.94 2.06-2.06.94zm10 10l.94 2.06.94-2.06 2.06-.94-2.06-.94-.94-2.06-.94 2.06-2.06.94z\"/><path d=\"M17.41 7.96l-1.37-1.37c-.4-.4-.92-.59-1.43-.59-.52 0-1.04.2-1.43.59L10.3 9.45l-7.72 7.72c-.78.78-.78 2.05 0 2.83L4 21.41c.39.39.9.59 1.41.59.51 0 1.02-.2 1.41-.59l7.78-7.78 2.81-2.81c.8-.78.8-2.07 0-2.86zM5.41 20L4 18.59l7.72-7.72 1.47 1.35L5.41 20z\"/>\n",
              "  </svg>\n",
              "      </button>\n",
              "      \n",
              "  <style>\n",
              "    .colab-df-container {\n",
              "      display:flex;\n",
              "      flex-wrap:wrap;\n",
              "      gap: 12px;\n",
              "    }\n",
              "\n",
              "    .colab-df-convert {\n",
              "      background-color: #E8F0FE;\n",
              "      border: none;\n",
              "      border-radius: 50%;\n",
              "      cursor: pointer;\n",
              "      display: none;\n",
              "      fill: #1967D2;\n",
              "      height: 32px;\n",
              "      padding: 0 0 0 0;\n",
              "      width: 32px;\n",
              "    }\n",
              "\n",
              "    .colab-df-convert:hover {\n",
              "      background-color: #E2EBFA;\n",
              "      box-shadow: 0px 1px 2px rgba(60, 64, 67, 0.3), 0px 1px 3px 1px rgba(60, 64, 67, 0.15);\n",
              "      fill: #174EA6;\n",
              "    }\n",
              "\n",
              "    [theme=dark] .colab-df-convert {\n",
              "      background-color: #3B4455;\n",
              "      fill: #D2E3FC;\n",
              "    }\n",
              "\n",
              "    [theme=dark] .colab-df-convert:hover {\n",
              "      background-color: #434B5C;\n",
              "      box-shadow: 0px 1px 3px 1px rgba(0, 0, 0, 0.15);\n",
              "      filter: drop-shadow(0px 1px 2px rgba(0, 0, 0, 0.3));\n",
              "      fill: #FFFFFF;\n",
              "    }\n",
              "  </style>\n",
              "\n",
              "      <script>\n",
              "        const buttonEl =\n",
              "          document.querySelector('#df-d840c5af-0711-4d04-a849-61d08845d0ae button.colab-df-convert');\n",
              "        buttonEl.style.display =\n",
              "          google.colab.kernel.accessAllowed ? 'block' : 'none';\n",
              "\n",
              "        async function convertToInteractive(key) {\n",
              "          const element = document.querySelector('#df-d840c5af-0711-4d04-a849-61d08845d0ae');\n",
              "          const dataTable =\n",
              "            await google.colab.kernel.invokeFunction('convertToInteractive',\n",
              "                                                     [key], {});\n",
              "          if (!dataTable) return;\n",
              "\n",
              "          const docLinkHtml = 'Like what you see? Visit the ' +\n",
              "            '<a target=\"_blank\" href=https://colab.research.google.com/notebooks/data_table.ipynb>data table notebook</a>'\n",
              "            + ' to learn more about interactive tables.';\n",
              "          element.innerHTML = '';\n",
              "          dataTable['output_type'] = 'display_data';\n",
              "          await google.colab.output.renderOutput(dataTable, element);\n",
              "          const docLink = document.createElement('div');\n",
              "          docLink.innerHTML = docLinkHtml;\n",
              "          element.appendChild(docLink);\n",
              "        }\n",
              "      </script>\n",
              "    </div>\n",
              "  </div>\n",
              "  "
            ]
          },
          "metadata": {},
          "execution_count": 11
        }
      ],
      "source": [
        "train_df = pd.read_csv('train.csv', index_col=0)\n",
        "train_df.head()"
      ]
    },
    {
      "cell_type": "code",
      "source": [
        "train_df.info()"
      ],
      "metadata": {
        "colab": {
          "base_uri": "https://localhost:8080/"
        },
        "outputId": "7a97553f-cc1f-4d51-f5bc-a7ce118b702c",
        "id": "UOvK7MlKOFBN"
      },
      "execution_count": null,
      "outputs": [
        {
          "output_type": "stream",
          "name": "stdout",
          "text": [
            "<class 'pandas.core.frame.DataFrame'>\n",
            "Int64Index: 2335 entries, 1 to 2335\n",
            "Data columns (total 33 columns):\n",
            " #   Column     Non-Null Count  Dtype  \n",
            "---  ------     --------------  -----  \n",
            " 0   sensor_1   2335 non-null   float64\n",
            " 1   sensor_2   2335 non-null   float64\n",
            " 2   sensor_3   2335 non-null   float64\n",
            " 3   sensor_4   2335 non-null   float64\n",
            " 4   sensor_5   2335 non-null   float64\n",
            " 5   sensor_6   2335 non-null   float64\n",
            " 6   sensor_7   2335 non-null   float64\n",
            " 7   sensor_8   2335 non-null   float64\n",
            " 8   sensor_9   2335 non-null   float64\n",
            " 9   sensor_10  2335 non-null   float64\n",
            " 10  sensor_11  2335 non-null   float64\n",
            " 11  sensor_12  2335 non-null   float64\n",
            " 12  sensor_13  2335 non-null   float64\n",
            " 13  sensor_14  2335 non-null   float64\n",
            " 14  sensor_15  2335 non-null   float64\n",
            " 15  sensor_16  2335 non-null   float64\n",
            " 16  sensor_17  2335 non-null   float64\n",
            " 17  sensor_18  2335 non-null   float64\n",
            " 18  sensor_19  2335 non-null   float64\n",
            " 19  sensor_20  2335 non-null   float64\n",
            " 20  sensor_21  2335 non-null   float64\n",
            " 21  sensor_22  2335 non-null   float64\n",
            " 22  sensor_23  2335 non-null   float64\n",
            " 23  sensor_24  2335 non-null   float64\n",
            " 24  sensor_25  2335 non-null   float64\n",
            " 25  sensor_26  2335 non-null   float64\n",
            " 26  sensor_27  2335 non-null   float64\n",
            " 27  sensor_28  2335 non-null   float64\n",
            " 28  sensor_29  2335 non-null   float64\n",
            " 29  sensor_30  2335 non-null   float64\n",
            " 30  sensor_31  2335 non-null   float64\n",
            " 31  sensor_32  2335 non-null   float64\n",
            " 32  target     2335 non-null   int64  \n",
            "dtypes: float64(32), int64(1)\n",
            "memory usage: 620.2 KB\n"
          ]
        }
      ]
    },
    {
      "cell_type": "code",
      "source": [
        "train_df.describe()"
      ],
      "metadata": {
        "colab": {
          "base_uri": "https://localhost:8080/",
          "height": 394
        },
        "outputId": "730c21cb-d67e-4049-85ad-24cc8018d96a",
        "id": "layn8dytOFBN"
      },
      "execution_count": null,
      "outputs": [
        {
          "output_type": "execute_result",
          "data": {
            "text/plain": [
              "          sensor_1     sensor_2     sensor_3     sensor_4     sensor_5  \\\n",
              "count  2335.000000  2335.000000  2335.000000  2335.000000  2335.000000   \n",
              "mean     -1.122174    -1.024673    -0.672769    -0.147724    -0.327494   \n",
              "std      11.486353     7.399859    26.519159    15.551500    11.461970   \n",
              "min     -94.746969   -63.942094  -122.195138  -111.870691   -94.147972   \n",
              "25%      -4.036597    -4.031957   -14.878500    -7.116633    -3.968687   \n",
              "50%      -0.951398    -1.015582    -0.961088    -0.890469    -0.871690   \n",
              "75%       2.895540     2.140456    13.974075     6.110973     2.970387   \n",
              "max      68.876142    39.913391   127.124171   102.015561    89.059852   \n",
              "\n",
              "          sensor_6     sensor_7     sensor_8     sensor_9    sensor_10  ...  \\\n",
              "count  2335.000000  2335.000000  2335.000000  2335.000000  2335.000000  ...   \n",
              "mean     -0.423462     0.676275    -0.936019    -0.797432    -0.704585  ...   \n",
              "std       7.314322    26.869479    15.598104    12.015022     7.384626  ...   \n",
              "min     -70.916786  -105.956553  -102.965354   -81.268085   -47.937561  ...   \n",
              "25%      -3.957699   -13.937806    -8.053214    -4.031148    -3.983620  ...   \n",
              "50%      -0.804810     0.058910    -1.095551    -0.944613    -0.932964  ...   \n",
              "75%       3.006144    13.934438     4.955494     2.235557     2.883284  ...   \n",
              "max      34.923040   120.046277   125.160611    74.101715    47.030119  ...   \n",
              "\n",
              "         sensor_24    sensor_25    sensor_26    sensor_27    sensor_28  \\\n",
              "count  2335.000000  2335.000000  2335.000000  2335.000000  2335.000000   \n",
              "mean     -0.356441    -0.927744    -0.589060    -0.081374    -0.370812   \n",
              "std      16.531906    12.021560     7.440983    25.923355    15.541803   \n",
              "min    -127.797649   -99.115177   -86.193378  -105.751637  -105.890010   \n",
              "25%      -7.980628    -4.004750    -4.001112   -14.096840    -8.004561   \n",
              "50%      -0.926120    -0.907301    -0.897015    -0.954791    -0.989293   \n",
              "75%       6.002985     2.863184     2.951682    13.903783     5.922250   \n",
              "max     127.161055    58.113657    59.105536   123.179253   111.137925   \n",
              "\n",
              "         sensor_29    sensor_30    sensor_31    sensor_32       target  \n",
              "count  2335.000000  2335.000000  2335.000000  2335.000000  2335.000000  \n",
              "mean     -0.726941    -0.809534    -0.495062    -0.743585     1.523340  \n",
              "std      11.636507     7.469744    25.291238    16.300385     1.118221  \n",
              "min     -74.977182   -74.006065  -121.097086  -123.876153     0.000000  \n",
              "25%      -3.981055    -3.988965   -13.998874    -7.873898     1.000000  \n",
              "50%      -0.889780    -0.928504    -0.955684    -1.019547     2.000000  \n",
              "75%       2.972719     2.519426    13.926128     5.121679     3.000000  \n",
              "max      54.098746    35.896503   125.974107   104.959621     3.000000  \n",
              "\n",
              "[8 rows x 33 columns]"
            ],
            "text/html": [
              "\n",
              "  <div id=\"df-192a391a-52dd-4cd3-bcc7-7b2c61796aa8\">\n",
              "    <div class=\"colab-df-container\">\n",
              "      <div>\n",
              "<style scoped>\n",
              "    .dataframe tbody tr th:only-of-type {\n",
              "        vertical-align: middle;\n",
              "    }\n",
              "\n",
              "    .dataframe tbody tr th {\n",
              "        vertical-align: top;\n",
              "    }\n",
              "\n",
              "    .dataframe thead th {\n",
              "        text-align: right;\n",
              "    }\n",
              "</style>\n",
              "<table border=\"1\" class=\"dataframe\">\n",
              "  <thead>\n",
              "    <tr style=\"text-align: right;\">\n",
              "      <th></th>\n",
              "      <th>sensor_1</th>\n",
              "      <th>sensor_2</th>\n",
              "      <th>sensor_3</th>\n",
              "      <th>sensor_4</th>\n",
              "      <th>sensor_5</th>\n",
              "      <th>sensor_6</th>\n",
              "      <th>sensor_7</th>\n",
              "      <th>sensor_8</th>\n",
              "      <th>sensor_9</th>\n",
              "      <th>sensor_10</th>\n",
              "      <th>...</th>\n",
              "      <th>sensor_24</th>\n",
              "      <th>sensor_25</th>\n",
              "      <th>sensor_26</th>\n",
              "      <th>sensor_27</th>\n",
              "      <th>sensor_28</th>\n",
              "      <th>sensor_29</th>\n",
              "      <th>sensor_30</th>\n",
              "      <th>sensor_31</th>\n",
              "      <th>sensor_32</th>\n",
              "      <th>target</th>\n",
              "    </tr>\n",
              "  </thead>\n",
              "  <tbody>\n",
              "    <tr>\n",
              "      <th>count</th>\n",
              "      <td>2335.000000</td>\n",
              "      <td>2335.000000</td>\n",
              "      <td>2335.000000</td>\n",
              "      <td>2335.000000</td>\n",
              "      <td>2335.000000</td>\n",
              "      <td>2335.000000</td>\n",
              "      <td>2335.000000</td>\n",
              "      <td>2335.000000</td>\n",
              "      <td>2335.000000</td>\n",
              "      <td>2335.000000</td>\n",
              "      <td>...</td>\n",
              "      <td>2335.000000</td>\n",
              "      <td>2335.000000</td>\n",
              "      <td>2335.000000</td>\n",
              "      <td>2335.000000</td>\n",
              "      <td>2335.000000</td>\n",
              "      <td>2335.000000</td>\n",
              "      <td>2335.000000</td>\n",
              "      <td>2335.000000</td>\n",
              "      <td>2335.000000</td>\n",
              "      <td>2335.000000</td>\n",
              "    </tr>\n",
              "    <tr>\n",
              "      <th>mean</th>\n",
              "      <td>-1.122174</td>\n",
              "      <td>-1.024673</td>\n",
              "      <td>-0.672769</td>\n",
              "      <td>-0.147724</td>\n",
              "      <td>-0.327494</td>\n",
              "      <td>-0.423462</td>\n",
              "      <td>0.676275</td>\n",
              "      <td>-0.936019</td>\n",
              "      <td>-0.797432</td>\n",
              "      <td>-0.704585</td>\n",
              "      <td>...</td>\n",
              "      <td>-0.356441</td>\n",
              "      <td>-0.927744</td>\n",
              "      <td>-0.589060</td>\n",
              "      <td>-0.081374</td>\n",
              "      <td>-0.370812</td>\n",
              "      <td>-0.726941</td>\n",
              "      <td>-0.809534</td>\n",
              "      <td>-0.495062</td>\n",
              "      <td>-0.743585</td>\n",
              "      <td>1.523340</td>\n",
              "    </tr>\n",
              "    <tr>\n",
              "      <th>std</th>\n",
              "      <td>11.486353</td>\n",
              "      <td>7.399859</td>\n",
              "      <td>26.519159</td>\n",
              "      <td>15.551500</td>\n",
              "      <td>11.461970</td>\n",
              "      <td>7.314322</td>\n",
              "      <td>26.869479</td>\n",
              "      <td>15.598104</td>\n",
              "      <td>12.015022</td>\n",
              "      <td>7.384626</td>\n",
              "      <td>...</td>\n",
              "      <td>16.531906</td>\n",
              "      <td>12.021560</td>\n",
              "      <td>7.440983</td>\n",
              "      <td>25.923355</td>\n",
              "      <td>15.541803</td>\n",
              "      <td>11.636507</td>\n",
              "      <td>7.469744</td>\n",
              "      <td>25.291238</td>\n",
              "      <td>16.300385</td>\n",
              "      <td>1.118221</td>\n",
              "    </tr>\n",
              "    <tr>\n",
              "      <th>min</th>\n",
              "      <td>-94.746969</td>\n",
              "      <td>-63.942094</td>\n",
              "      <td>-122.195138</td>\n",
              "      <td>-111.870691</td>\n",
              "      <td>-94.147972</td>\n",
              "      <td>-70.916786</td>\n",
              "      <td>-105.956553</td>\n",
              "      <td>-102.965354</td>\n",
              "      <td>-81.268085</td>\n",
              "      <td>-47.937561</td>\n",
              "      <td>...</td>\n",
              "      <td>-127.797649</td>\n",
              "      <td>-99.115177</td>\n",
              "      <td>-86.193378</td>\n",
              "      <td>-105.751637</td>\n",
              "      <td>-105.890010</td>\n",
              "      <td>-74.977182</td>\n",
              "      <td>-74.006065</td>\n",
              "      <td>-121.097086</td>\n",
              "      <td>-123.876153</td>\n",
              "      <td>0.000000</td>\n",
              "    </tr>\n",
              "    <tr>\n",
              "      <th>25%</th>\n",
              "      <td>-4.036597</td>\n",
              "      <td>-4.031957</td>\n",
              "      <td>-14.878500</td>\n",
              "      <td>-7.116633</td>\n",
              "      <td>-3.968687</td>\n",
              "      <td>-3.957699</td>\n",
              "      <td>-13.937806</td>\n",
              "      <td>-8.053214</td>\n",
              "      <td>-4.031148</td>\n",
              "      <td>-3.983620</td>\n",
              "      <td>...</td>\n",
              "      <td>-7.980628</td>\n",
              "      <td>-4.004750</td>\n",
              "      <td>-4.001112</td>\n",
              "      <td>-14.096840</td>\n",
              "      <td>-8.004561</td>\n",
              "      <td>-3.981055</td>\n",
              "      <td>-3.988965</td>\n",
              "      <td>-13.998874</td>\n",
              "      <td>-7.873898</td>\n",
              "      <td>1.000000</td>\n",
              "    </tr>\n",
              "    <tr>\n",
              "      <th>50%</th>\n",
              "      <td>-0.951398</td>\n",
              "      <td>-1.015582</td>\n",
              "      <td>-0.961088</td>\n",
              "      <td>-0.890469</td>\n",
              "      <td>-0.871690</td>\n",
              "      <td>-0.804810</td>\n",
              "      <td>0.058910</td>\n",
              "      <td>-1.095551</td>\n",
              "      <td>-0.944613</td>\n",
              "      <td>-0.932964</td>\n",
              "      <td>...</td>\n",
              "      <td>-0.926120</td>\n",
              "      <td>-0.907301</td>\n",
              "      <td>-0.897015</td>\n",
              "      <td>-0.954791</td>\n",
              "      <td>-0.989293</td>\n",
              "      <td>-0.889780</td>\n",
              "      <td>-0.928504</td>\n",
              "      <td>-0.955684</td>\n",
              "      <td>-1.019547</td>\n",
              "      <td>2.000000</td>\n",
              "    </tr>\n",
              "    <tr>\n",
              "      <th>75%</th>\n",
              "      <td>2.895540</td>\n",
              "      <td>2.140456</td>\n",
              "      <td>13.974075</td>\n",
              "      <td>6.110973</td>\n",
              "      <td>2.970387</td>\n",
              "      <td>3.006144</td>\n",
              "      <td>13.934438</td>\n",
              "      <td>4.955494</td>\n",
              "      <td>2.235557</td>\n",
              "      <td>2.883284</td>\n",
              "      <td>...</td>\n",
              "      <td>6.002985</td>\n",
              "      <td>2.863184</td>\n",
              "      <td>2.951682</td>\n",
              "      <td>13.903783</td>\n",
              "      <td>5.922250</td>\n",
              "      <td>2.972719</td>\n",
              "      <td>2.519426</td>\n",
              "      <td>13.926128</td>\n",
              "      <td>5.121679</td>\n",
              "      <td>3.000000</td>\n",
              "    </tr>\n",
              "    <tr>\n",
              "      <th>max</th>\n",
              "      <td>68.876142</td>\n",
              "      <td>39.913391</td>\n",
              "      <td>127.124171</td>\n",
              "      <td>102.015561</td>\n",
              "      <td>89.059852</td>\n",
              "      <td>34.923040</td>\n",
              "      <td>120.046277</td>\n",
              "      <td>125.160611</td>\n",
              "      <td>74.101715</td>\n",
              "      <td>47.030119</td>\n",
              "      <td>...</td>\n",
              "      <td>127.161055</td>\n",
              "      <td>58.113657</td>\n",
              "      <td>59.105536</td>\n",
              "      <td>123.179253</td>\n",
              "      <td>111.137925</td>\n",
              "      <td>54.098746</td>\n",
              "      <td>35.896503</td>\n",
              "      <td>125.974107</td>\n",
              "      <td>104.959621</td>\n",
              "      <td>3.000000</td>\n",
              "    </tr>\n",
              "  </tbody>\n",
              "</table>\n",
              "<p>8 rows × 33 columns</p>\n",
              "</div>\n",
              "      <button class=\"colab-df-convert\" onclick=\"convertToInteractive('df-192a391a-52dd-4cd3-bcc7-7b2c61796aa8')\"\n",
              "              title=\"Convert this dataframe to an interactive table.\"\n",
              "              style=\"display:none;\">\n",
              "        \n",
              "  <svg xmlns=\"http://www.w3.org/2000/svg\" height=\"24px\"viewBox=\"0 0 24 24\"\n",
              "       width=\"24px\">\n",
              "    <path d=\"M0 0h24v24H0V0z\" fill=\"none\"/>\n",
              "    <path d=\"M18.56 5.44l.94 2.06.94-2.06 2.06-.94-2.06-.94-.94-2.06-.94 2.06-2.06.94zm-11 1L8.5 8.5l.94-2.06 2.06-.94-2.06-.94L8.5 2.5l-.94 2.06-2.06.94zm10 10l.94 2.06.94-2.06 2.06-.94-2.06-.94-.94-2.06-.94 2.06-2.06.94z\"/><path d=\"M17.41 7.96l-1.37-1.37c-.4-.4-.92-.59-1.43-.59-.52 0-1.04.2-1.43.59L10.3 9.45l-7.72 7.72c-.78.78-.78 2.05 0 2.83L4 21.41c.39.39.9.59 1.41.59.51 0 1.02-.2 1.41-.59l7.78-7.78 2.81-2.81c.8-.78.8-2.07 0-2.86zM5.41 20L4 18.59l7.72-7.72 1.47 1.35L5.41 20z\"/>\n",
              "  </svg>\n",
              "      </button>\n",
              "      \n",
              "  <style>\n",
              "    .colab-df-container {\n",
              "      display:flex;\n",
              "      flex-wrap:wrap;\n",
              "      gap: 12px;\n",
              "    }\n",
              "\n",
              "    .colab-df-convert {\n",
              "      background-color: #E8F0FE;\n",
              "      border: none;\n",
              "      border-radius: 50%;\n",
              "      cursor: pointer;\n",
              "      display: none;\n",
              "      fill: #1967D2;\n",
              "      height: 32px;\n",
              "      padding: 0 0 0 0;\n",
              "      width: 32px;\n",
              "    }\n",
              "\n",
              "    .colab-df-convert:hover {\n",
              "      background-color: #E2EBFA;\n",
              "      box-shadow: 0px 1px 2px rgba(60, 64, 67, 0.3), 0px 1px 3px 1px rgba(60, 64, 67, 0.15);\n",
              "      fill: #174EA6;\n",
              "    }\n",
              "\n",
              "    [theme=dark] .colab-df-convert {\n",
              "      background-color: #3B4455;\n",
              "      fill: #D2E3FC;\n",
              "    }\n",
              "\n",
              "    [theme=dark] .colab-df-convert:hover {\n",
              "      background-color: #434B5C;\n",
              "      box-shadow: 0px 1px 3px 1px rgba(0, 0, 0, 0.15);\n",
              "      filter: drop-shadow(0px 1px 2px rgba(0, 0, 0, 0.3));\n",
              "      fill: #FFFFFF;\n",
              "    }\n",
              "  </style>\n",
              "\n",
              "      <script>\n",
              "        const buttonEl =\n",
              "          document.querySelector('#df-192a391a-52dd-4cd3-bcc7-7b2c61796aa8 button.colab-df-convert');\n",
              "        buttonEl.style.display =\n",
              "          google.colab.kernel.accessAllowed ? 'block' : 'none';\n",
              "\n",
              "        async function convertToInteractive(key) {\n",
              "          const element = document.querySelector('#df-192a391a-52dd-4cd3-bcc7-7b2c61796aa8');\n",
              "          const dataTable =\n",
              "            await google.colab.kernel.invokeFunction('convertToInteractive',\n",
              "                                                     [key], {});\n",
              "          if (!dataTable) return;\n",
              "\n",
              "          const docLinkHtml = 'Like what you see? Visit the ' +\n",
              "            '<a target=\"_blank\" href=https://colab.research.google.com/notebooks/data_table.ipynb>data table notebook</a>'\n",
              "            + ' to learn more about interactive tables.';\n",
              "          element.innerHTML = '';\n",
              "          dataTable['output_type'] = 'display_data';\n",
              "          await google.colab.output.renderOutput(dataTable, element);\n",
              "          const docLink = document.createElement('div');\n",
              "          docLink.innerHTML = docLinkHtml;\n",
              "          element.appendChild(docLink);\n",
              "        }\n",
              "      </script>\n",
              "    </div>\n",
              "  </div>\n",
              "  "
            ]
          },
          "metadata": {},
          "execution_count": 13
        }
      ]
    },
    {
      "cell_type": "code",
      "source": [
        "def check_missing_col(dataframe):\n",
        "    missing_col = []\n",
        "    counted_missing_col = 0\n",
        "    for i, col in enumerate(dataframe.columns):\n",
        "        missing_values = sum(dataframe[col].isna())\n",
        "        is_missing = True if missing_values >= 1 else False\n",
        "        if is_missing:\n",
        "            counted_missing_col += 1\n",
        "            print(f'결측치가 있는 컬럼은: {col}입니다')\n",
        "            print(f'해당 컬럼에 총 {missing_values}개의 결측치가 존재합니다.')\n",
        "            missing_col.append([col, dataframe[col].dtype])\n",
        "    if counted_missing_col == 0:\n",
        "        print('결측치가 존재하지 않습니다')\n",
        "    return missing_col"
      ],
      "metadata": {
        "id": "qz-SXG9MOFBN"
      },
      "execution_count": null,
      "outputs": []
    },
    {
      "cell_type": "code",
      "source": [
        "check_missing_col(train_df)"
      ],
      "metadata": {
        "colab": {
          "base_uri": "https://localhost:8080/"
        },
        "outputId": "4ca8c4a3-f5ea-4309-a296-3715e792fc36",
        "id": "8UgN6ArqOFBN"
      },
      "execution_count": null,
      "outputs": [
        {
          "output_type": "stream",
          "name": "stdout",
          "text": [
            "결측치가 존재하지 않습니다\n"
          ]
        },
        {
          "output_type": "execute_result",
          "data": {
            "text/plain": [
              "[]"
            ]
          },
          "metadata": {},
          "execution_count": 15
        }
      ]
    },
    {
      "cell_type": "code",
      "source": [
        "# 앞에서도 확인했 듯이 데이터들은 모두 수치형 데이터이다. 그리고 히스토그램을 그려서 간단하게 확인해 본 결과, 대략적으로 정규분포를 띄고 있는 것 같다.\n",
        "# 다만 첨도가 조금 높은 것 같다는 생각이 든다.\n",
        "column_list = train_df.columns[:-1]\n",
        "plt.figure(figsize=(20,20))\n",
        "i = 1\n",
        "for col in column_list:\n",
        "  plt.subplot(6,6, i)\n",
        "  sns.histplot(x=col, data=train_df, kde=True)\n",
        "  i += 1\n",
        "plt.show()"
      ],
      "metadata": {
        "colab": {
          "base_uri": "https://localhost:8080/"
        },
        "outputId": "97bc7764-529b-4845-ed1f-db9d02fafeec",
        "id": "YQj1sslvOFBN"
      },
      "execution_count": null,
      "outputs": [
        {
          "output_type": "display_data",
          "data": {
            "text/plain": [
              "<Figure size 1440x1440 with 32 Axes>"
            ],
            "image/png": "[encoded data removed]"
          },
          "metadata": {
            "needs_background": "light"
          }
        }
      ]
    },
    {
      "cell_type": "code",
      "source": [
        "# Boxplot을 그려서 확인해 보니 이상치가 제법있는 것을 확인 할 수 있다.\n",
        "# 아마 첨도가 높아서 그런 것이 아닐까 생각 된다.\n",
        "column_list = train_df.columns[:-1]\n",
        "plt.figure(figsize=(20,20))\n",
        "i = 1\n",
        "for col in column_list:\n",
        "  plt.subplot(6,6, i)\n",
        "  sns.boxplot(x=col, data=train_df)\n",
        "  i += 1\n",
        "plt.show()"
      ],
      "metadata": {
        "colab": {
          "base_uri": "https://localhost:8080/"
        },
        "outputId": "06db20d0-42a2-4f89-d18f-39cd1f284a4c",
        "id": "wiXwQhwhOFBO"
      },
      "execution_count": null,
      "outputs": [
        {
          "output_type": "display_data",
          "data": {
            "text/plain": [
              "<Figure size 1440x1440 with 32 Axes>"
            ],
            "image/png": "[encoded data removed]"
          },
          "metadata": {
            "needs_background": "light"
          }
        }
      ]
    },
    {
      "cell_type": "code",
      "source": [
        "column_list = train_df.columns[:-1]\n",
        "skew_column_list = []\n",
        "kurt_column_list = []\n",
        "for col in column_list:\n",
        "  skewness = train_df[col].skew()\n",
        "  kurtosis = train_df[col].kurt()\n",
        "  print(col)\n",
        "  print(f\"skewness:{skewness} kurtosis: {kurtosis}\")\n",
        "  if abs(skewness) > 3:\n",
        "    skew_column_list.append(col)\n",
        "  if abs(kurtosis) > 8:\n",
        "    kurt_column_list.append(col)"
      ],
      "metadata": {
        "colab": {
          "base_uri": "https://localhost:8080/"
        },
        "outputId": "d8d46d4b-85b0-4ca7-b78b-36e31a49f857",
        "id": "J4v28GRAOFBO"
      },
      "execution_count": null,
      "outputs": [
        {
          "output_type": "stream",
          "name": "stdout",
          "text": [
            "sensor_1\n",
            "skewness:-1.1525669432968573 kurtosis: 11.626633296811097\n",
            "sensor_2\n",
            "skewness:-1.1786746003029955 kurtosis: 10.342740718909237\n",
            "sensor_3\n",
            "skewness:0.0136982937946553 kurtosis: 1.6577710753573243\n",
            "sensor_4\n",
            "skewness:-0.041436780344152054 kurtosis: 6.990929877737986\n",
            "sensor_5\n",
            "skewness:0.012282570042520478 kurtosis: 11.117932951587367\n",
            "sensor_6\n",
            "skewness:-0.9355182152036309 kurtosis: 9.209064906296888\n",
            "sensor_7\n",
            "skewness:0.23591348757338965 kurtosis: 1.7723000962889612\n",
            "sensor_8\n",
            "skewness:0.7273457996948146 kurtosis: 9.232677801464696\n",
            "sensor_9\n",
            "skewness:-0.24533381636516105 kurtosis: 8.345092655953383\n",
            "sensor_10\n",
            "skewness:-0.368304345582371 kurtosis: 6.759119606579161\n",
            "sensor_11\n",
            "skewness:0.04832911217010053 kurtosis: 1.733748556047499\n",
            "sensor_12\n",
            "skewness:-0.03394356071617746 kurtosis: 6.8297086459450975\n",
            "sensor_13\n",
            "skewness:-0.6743015219331838 kurtosis: 15.984340712076808\n",
            "sensor_14\n",
            "skewness:-0.8959544844957215 kurtosis: 8.056880997077783\n",
            "sensor_15\n",
            "skewness:0.18199997355885927 kurtosis: 1.6095535621046784\n",
            "sensor_16\n",
            "skewness:0.2813649324810363 kurtosis: 8.089333748214205\n",
            "sensor_17\n",
            "skewness:-0.8426250279533725 kurtosis: 11.351979436150206\n",
            "sensor_18\n",
            "skewness:-0.6097772928064056 kurtosis: 11.416755687193294\n",
            "sensor_19\n",
            "skewness:0.08271374086810614 kurtosis: 1.4990074404929805\n",
            "sensor_20\n",
            "skewness:0.3240836069388139 kurtosis: 9.162479767574474\n",
            "sensor_21\n",
            "skewness:-0.040539948242492393 kurtosis: 13.729051579279584\n",
            "sensor_22\n",
            "skewness:-0.8352287498003526 kurtosis: 8.330331649611264\n",
            "sensor_23\n",
            "skewness:0.5148721358253915 kurtosis: 1.9886869088698242\n",
            "sensor_24\n",
            "skewness:0.173859801593707 kurtosis: 10.56142534459756\n",
            "sensor_25\n",
            "skewness:-1.2136841009124195 kurtosis: 11.02399372546111\n",
            "sensor_26\n",
            "skewness:-1.0473802038443432 kurtosis: 16.157865745214064\n",
            "sensor_27\n",
            "skewness:0.16676240063447823 kurtosis: 1.7711652331530106\n",
            "sensor_28\n",
            "skewness:0.7054769713269444 kurtosis: 7.562198320200406\n",
            "sensor_29\n",
            "skewness:-0.5490725321990199 kurtosis: 6.503730335940699\n",
            "sensor_30\n",
            "skewness:-1.0234186956206575 kurtosis: 10.355840159807798\n",
            "sensor_31\n",
            "skewness:0.13187760597991605 kurtosis: 2.0564091216003613\n",
            "sensor_32\n",
            "skewness:-0.15691198138300322 kurtosis: 8.207165931846987\n"
          ]
        }
      ]
    },
    {
      "cell_type": "code",
      "source": [
        "print(f\"skew_column_list :{skew_column_list}\")\n",
        "print(f\"kurt_column_list :{kurt_column_list}\")\n",
        "print(len(kurt_column_list))"
      ],
      "metadata": {
        "colab": {
          "base_uri": "https://localhost:8080/"
        },
        "outputId": "dee3019b-71bc-4110-8fec-f0b83d63f9a5",
        "id": "7VzphUO1OFBO"
      },
      "execution_count": null,
      "outputs": [
        {
          "output_type": "stream",
          "name": "stdout",
          "text": [
            "skew_column_list :[]\n",
            "kurt_column_list :['sensor_1', 'sensor_2', 'sensor_5', 'sensor_6', 'sensor_8', 'sensor_9', 'sensor_13', 'sensor_14', 'sensor_16', 'sensor_17', 'sensor_18', 'sensor_20', 'sensor_21', 'sensor_22', 'sensor_24', 'sensor_25', 'sensor_26', 'sensor_30', 'sensor_32']\n",
            "19\n"
          ]
        }
      ]
    },
    {
      "cell_type": "code",
      "source": [
        "# target 값은 전체적으로 고르게 분포하고 있음을 확인할 수 있다.\n",
        "# 불균형데이터 처리를 할 필요는 없을 것 같다.\n",
        "sns.countplot(x=train_df['target'])\n",
        "print(train_df['target'].value_counts())"
      ],
      "metadata": {
        "colab": {
          "base_uri": "https://localhost:8080/"
        },
        "outputId": "ebf6e5fc-fee9-4a21-bf8d-95dae55cd374",
        "id": "53BG8ht3OFBO"
      },
      "execution_count": null,
      "outputs": [
        {
          "output_type": "stream",
          "name": "stdout",
          "text": [
            "3    599\n",
            "2    593\n",
            "1    574\n",
            "0    569\n",
            "Name: target, dtype: int64\n"
          ]
        },
        {
          "output_type": "display_data",
          "data": {
            "text/plain": [
              "<Figure size 432x288 with 1 Axes>"
            ],
            "image/png": "[encoded data removed]"
          },
          "metadata": {
            "needs_background": "light"
          }
        }
      ]
    },
    {
      "cell_type": "code",
      "source": [
        "from sklearn.preprocessing import StandardScaler, MinMaxScaler\n",
        "\n",
        "scaler = MinMaxScaler()\n",
        "train_df.iloc[:,:-1] = scaler.fit_transform(train_df.iloc[:,:-1])\n",
        "train_df.head()"
      ],
      "metadata": {
        "colab": {
          "base_uri": "https://localhost:8080/"
        },
        "outputId": "4a1757a4-63d5-42e4-8725-29297ce16a9f",
        "id": "wK_mmFRrOFBO"
      },
      "execution_count": null,
      "outputs": [
        {
          "output_type": "execute_result",
          "data": {
            "text/plain": [
              "    sensor_1  sensor_2  sensor_3  sensor_4  sensor_5  sensor_6  sensor_7  \\\n",
              "id                                                                         \n",
              "1   0.541473  0.606731  0.526447  0.490227  0.497738  0.671732  0.464596   \n",
              "2   0.565373  0.606021  0.510563  0.472168  0.509495  0.641768  0.588175   \n",
              "3   0.695714  0.595535  0.493912  0.420966  0.563662  0.838724  0.375600   \n",
              "4   0.565540  0.597091  0.577908  0.508696  0.512573  0.698242  0.340187   \n",
              "5   0.603221  0.644232  0.345542  0.527245  0.660879  0.774011  0.371651   \n",
              "\n",
              "    sensor_8  sensor_9  sensor_10  ...  sensor_24  sensor_25  sensor_26  \\\n",
              "id                                 ...                                    \n",
              "1   0.447091  0.561398   0.548431  ...   0.473689   0.592187   0.551880   \n",
              "2   0.412336  0.484649   0.462025  ...   0.493417   0.579928   0.571626   \n",
              "3   0.381509  0.465033   0.441859  ...   0.474226   0.974169   0.551168   \n",
              "4   0.452233  0.516345   0.526889  ...   0.492909   0.623802   0.608209   \n",
              "5   0.398969  0.388327   0.462653  ...   0.493201   0.699825   0.606327   \n",
              "\n",
              "    sensor_27  sensor_28  sensor_29  sensor_30  sensor_31  sensor_32  target  \n",
              "id                                                                            \n",
              "1    0.492702   0.588748   0.557137   0.625632   0.465740   0.488933       1  \n",
              "2    0.500264   0.538340   0.657252   0.664560   0.474202   0.471883       1  \n",
              "3    0.515030   0.515998   0.269470   0.637364   0.457429   0.518783       0  \n",
              "4    0.505761   0.483252   0.550562   0.646261   0.437580   0.528218       1  \n",
              "5    0.405131   0.567022   0.597186   0.709483   0.538139   0.422955       2  \n",
              "\n",
              "[5 rows x 33 columns]"
            ],
            "text/html": [
              "\n",
              "  <div id=\"df-2de48ef6-ef8f-48f5-9fe6-0507d22d19da\">\n",
              "    <div class=\"colab-df-container\">\n",
              "      <div>\n",
              "<style scoped>\n",
              "    .dataframe tbody tr th:only-of-type {\n",
              "        vertical-align: middle;\n",
              "    }\n",
              "\n",
              "    .dataframe tbody tr th {\n",
              "        vertical-align: top;\n",
              "    }\n",
              "\n",
              "    .dataframe thead th {\n",
              "        text-align: right;\n",
              "    }\n",
              "</style>\n",
              "<table border=\"1\" class=\"dataframe\">\n",
              "  <thead>\n",
              "    <tr style=\"text-align: right;\">\n",
              "      <th></th>\n",
              "      <th>sensor_1</th>\n",
              "      <th>sensor_2</th>\n",
              "      <th>sensor_3</th>\n",
              "      <th>sensor_4</th>\n",
              "      <th>sensor_5</th>\n",
              "      <th>sensor_6</th>\n",
              "      <th>sensor_7</th>\n",
              "      <th>sensor_8</th>\n",
              "      <th>sensor_9</th>\n",
              "      <th>sensor_10</th>\n",
              "      <th>...</th>\n",
              "      <th>sensor_24</th>\n",
              "      <th>sensor_25</th>\n",
              "      <th>sensor_26</th>\n",
              "      <th>sensor_27</th>\n",
              "      <th>sensor_28</th>\n",
              "      <th>sensor_29</th>\n",
              "      <th>sensor_30</th>\n",
              "      <th>sensor_31</th>\n",
              "      <th>sensor_32</th>\n",
              "      <th>target</th>\n",
              "    </tr>\n",
              "    <tr>\n",
              "      <th>id</th>\n",
              "      <th></th>\n",
              "      <th></th>\n",
              "      <th></th>\n",
              "      <th></th>\n",
              "      <th></th>\n",
              "      <th></th>\n",
              "      <th></th>\n",
              "      <th></th>\n",
              "      <th></th>\n",
              "      <th></th>\n",
              "      <th></th>\n",
              "      <th></th>\n",
              "      <th></th>\n",
              "      <th></th>\n",
              "      <th></th>\n",
              "      <th></th>\n",
              "      <th></th>\n",
              "      <th></th>\n",
              "      <th></th>\n",
              "      <th></th>\n",
              "      <th></th>\n",
              "    </tr>\n",
              "  </thead>\n",
              "  <tbody>\n",
              "    <tr>\n",
              "      <th>1</th>\n",
              "      <td>0.541473</td>\n",
              "      <td>0.606731</td>\n",
              "      <td>0.526447</td>\n",
              "      <td>0.490227</td>\n",
              "      <td>0.497738</td>\n",
              "      <td>0.671732</td>\n",
              "      <td>0.464596</td>\n",
              "      <td>0.447091</td>\n",
              "      <td>0.561398</td>\n",
              "      <td>0.548431</td>\n",
              "      <td>...</td>\n",
              "      <td>0.473689</td>\n",
              "      <td>0.592187</td>\n",
              "      <td>0.551880</td>\n",
              "      <td>0.492702</td>\n",
              "      <td>0.588748</td>\n",
              "      <td>0.557137</td>\n",
              "      <td>0.625632</td>\n",
              "      <td>0.465740</td>\n",
              "      <td>0.488933</td>\n",
              "      <td>1</td>\n",
              "    </tr>\n",
              "    <tr>\n",
              "      <th>2</th>\n",
              "      <td>0.565373</td>\n",
              "      <td>0.606021</td>\n",
              "      <td>0.510563</td>\n",
              "      <td>0.472168</td>\n",
              "      <td>0.509495</td>\n",
              "      <td>0.641768</td>\n",
              "      <td>0.588175</td>\n",
              "      <td>0.412336</td>\n",
              "      <td>0.484649</td>\n",
              "      <td>0.462025</td>\n",
              "      <td>...</td>\n",
              "      <td>0.493417</td>\n",
              "      <td>0.579928</td>\n",
              "      <td>0.571626</td>\n",
              "      <td>0.500264</td>\n",
              "      <td>0.538340</td>\n",
              "      <td>0.657252</td>\n",
              "      <td>0.664560</td>\n",
              "      <td>0.474202</td>\n",
              "      <td>0.471883</td>\n",
              "      <td>1</td>\n",
              "    </tr>\n",
              "    <tr>\n",
              "      <th>3</th>\n",
              "      <td>0.695714</td>\n",
              "      <td>0.595535</td>\n",
              "      <td>0.493912</td>\n",
              "      <td>0.420966</td>\n",
              "      <td>0.563662</td>\n",
              "      <td>0.838724</td>\n",
              "      <td>0.375600</td>\n",
              "      <td>0.381509</td>\n",
              "      <td>0.465033</td>\n",
              "      <td>0.441859</td>\n",
              "      <td>...</td>\n",
              "      <td>0.474226</td>\n",
              "      <td>0.974169</td>\n",
              "      <td>0.551168</td>\n",
              "      <td>0.515030</td>\n",
              "      <td>0.515998</td>\n",
              "      <td>0.269470</td>\n",
              "      <td>0.637364</td>\n",
              "      <td>0.457429</td>\n",
              "      <td>0.518783</td>\n",
              "      <td>0</td>\n",
              "    </tr>\n",
              "    <tr>\n",
              "      <th>4</th>\n",
              "      <td>0.565540</td>\n",
              "      <td>0.597091</td>\n",
              "      <td>0.577908</td>\n",
              "      <td>0.508696</td>\n",
              "      <td>0.512573</td>\n",
              "      <td>0.698242</td>\n",
              "      <td>0.340187</td>\n",
              "      <td>0.452233</td>\n",
              "      <td>0.516345</td>\n",
              "      <td>0.526889</td>\n",
              "      <td>...</td>\n",
              "      <td>0.492909</td>\n",
              "      <td>0.623802</td>\n",
              "      <td>0.608209</td>\n",
              "      <td>0.505761</td>\n",
              "      <td>0.483252</td>\n",
              "      <td>0.550562</td>\n",
              "      <td>0.646261</td>\n",
              "      <td>0.437580</td>\n",
              "      <td>0.528218</td>\n",
              "      <td>1</td>\n",
              "    </tr>\n",
              "    <tr>\n",
              "      <th>5</th>\n",
              "      <td>0.603221</td>\n",
              "      <td>0.644232</td>\n",
              "      <td>0.345542</td>\n",
              "      <td>0.527245</td>\n",
              "      <td>0.660879</td>\n",
              "      <td>0.774011</td>\n",
              "      <td>0.371651</td>\n",
              "      <td>0.398969</td>\n",
              "      <td>0.388327</td>\n",
              "      <td>0.462653</td>\n",
              "      <td>...</td>\n",
              "      <td>0.493201</td>\n",
              "      <td>0.699825</td>\n",
              "      <td>0.606327</td>\n",
              "      <td>0.405131</td>\n",
              "      <td>0.567022</td>\n",
              "      <td>0.597186</td>\n",
              "      <td>0.709483</td>\n",
              "      <td>0.538139</td>\n",
              "      <td>0.422955</td>\n",
              "      <td>2</td>\n",
              "    </tr>\n",
              "  </tbody>\n",
              "</table>\n",
              "<p>5 rows × 33 columns</p>\n",
              "</div>\n",
              "      <button class=\"colab-df-convert\" onclick=\"convertToInteractive('df-2de48ef6-ef8f-48f5-9fe6-0507d22d19da')\"\n",
              "              title=\"Convert this dataframe to an interactive table.\"\n",
              "              style=\"display:none;\">\n",
              "        \n",
              "  <svg xmlns=\"http://www.w3.org/2000/svg\" height=\"24px\"viewBox=\"0 0 24 24\"\n",
              "       width=\"24px\">\n",
              "    <path d=\"M0 0h24v24H0V0z\" fill=\"none\"/>\n",
              "    <path d=\"M18.56 5.44l.94 2.06.94-2.06 2.06-.94-2.06-.94-.94-2.06-.94 2.06-2.06.94zm-11 1L8.5 8.5l.94-2.06 2.06-.94-2.06-.94L8.5 2.5l-.94 2.06-2.06.94zm10 10l.94 2.06.94-2.06 2.06-.94-2.06-.94-.94-2.06-.94 2.06-2.06.94z\"/><path d=\"M17.41 7.96l-1.37-1.37c-.4-.4-.92-.59-1.43-.59-.52 0-1.04.2-1.43.59L10.3 9.45l-7.72 7.72c-.78.78-.78 2.05 0 2.83L4 21.41c.39.39.9.59 1.41.59.51 0 1.02-.2 1.41-.59l7.78-7.78 2.81-2.81c.8-.78.8-2.07 0-2.86zM5.41 20L4 18.59l7.72-7.72 1.47 1.35L5.41 20z\"/>\n",
              "  </svg>\n",
              "      </button>\n",
              "      \n",
              "  <style>\n",
              "    .colab-df-container {\n",
              "      display:flex;\n",
              "      flex-wrap:wrap;\n",
              "      gap: 12px;\n",
              "    }\n",
              "\n",
              "    .colab-df-convert {\n",
              "      background-color: #E8F0FE;\n",
              "      border: none;\n",
              "      border-radius: 50%;\n",
              "      cursor: pointer;\n",
              "      display: none;\n",
              "      fill: #1967D2;\n",
              "      height: 32px;\n",
              "      padding: 0 0 0 0;\n",
              "      width: 32px;\n",
              "    }\n",
              "\n",
              "    .colab-df-convert:hover {\n",
              "      background-color: #E2EBFA;\n",
              "      box-shadow: 0px 1px 2px rgba(60, 64, 67, 0.3), 0px 1px 3px 1px rgba(60, 64, 67, 0.15);\n",
              "      fill: #174EA6;\n",
              "    }\n",
              "\n",
              "    [theme=dark] .colab-df-convert {\n",
              "      background-color: #3B4455;\n",
              "      fill: #D2E3FC;\n",
              "    }\n",
              "\n",
              "    [theme=dark] .colab-df-convert:hover {\n",
              "      background-color: #434B5C;\n",
              "      box-shadow: 0px 1px 3px 1px rgba(0, 0, 0, 0.15);\n",
              "      filter: drop-shadow(0px 1px 2px rgba(0, 0, 0, 0.3));\n",
              "      fill: #FFFFFF;\n",
              "    }\n",
              "  </style>\n",
              "\n",
              "      <script>\n",
              "        const buttonEl =\n",
              "          document.querySelector('#df-2de48ef6-ef8f-48f5-9fe6-0507d22d19da button.colab-df-convert');\n",
              "        buttonEl.style.display =\n",
              "          google.colab.kernel.accessAllowed ? 'block' : 'none';\n",
              "\n",
              "        async function convertToInteractive(key) {\n",
              "          const element = document.querySelector('#df-2de48ef6-ef8f-48f5-9fe6-0507d22d19da');\n",
              "          const dataTable =\n",
              "            await google.colab.kernel.invokeFunction('convertToInteractive',\n",
              "                                                     [key], {});\n",
              "          if (!dataTable) return;\n",
              "\n",
              "          const docLinkHtml = 'Like what you see? Visit the ' +\n",
              "            '<a target=\"_blank\" href=https://colab.research.google.com/notebooks/data_table.ipynb>data table notebook</a>'\n",
              "            + ' to learn more about interactive tables.';\n",
              "          element.innerHTML = '';\n",
              "          dataTable['output_type'] = 'display_data';\n",
              "          await google.colab.output.renderOutput(dataTable, element);\n",
              "          const docLink = document.createElement('div');\n",
              "          docLink.innerHTML = docLinkHtml;\n",
              "          element.appendChild(docLink);\n",
              "        }\n",
              "      </script>\n",
              "    </div>\n",
              "  </div>\n",
              "  "
            ]
          },
          "metadata": {},
          "execution_count": 21
        }
      ]
    },
    {
      "cell_type": "markdown",
      "source": [
        "### test set"
      ],
      "metadata": {
        "id": "WqkPSvv3O7oh"
      }
    },
    {
      "cell_type": "code",
      "execution_count": null,
      "metadata": {
        "colab": {
          "base_uri": "https://localhost:8080/"
        },
        "id": "z4DBVNc1Cr0Y",
        "outputId": "2e8e4798-2ee2-4c3f-fd40-962431bd72e9"
      },
      "outputs": [
        {
          "output_type": "execute_result",
          "data": {
            "text/plain": [
              "    sensor_1   sensor_2   sensor_3   sensor_4   sensor_5   sensor_6  \\\n",
              "id                                                                    \n",
              "1   0.067135   5.040383  -2.965405 -12.952880  -1.938465 -10.997802   \n",
              "2   6.890655 -12.010728  24.881907  38.943245  -4.757496   5.926453   \n",
              "3  -4.809695   0.962863  -1.893647  -6.168084  -3.948282   0.977219   \n",
              "4   0.018158  -3.993114  12.001667  22.960746  -2.121793  -6.002385   \n",
              "5  -7.841592  -2.129997   7.872448  -8.953428  28.080007  -5.019895   \n",
              "\n",
              "     sensor_7   sensor_8   sensor_9  sensor_10  ...  sensor_23  sensor_24  \\\n",
              "id                                              ...                         \n",
              "1    1.853669  21.077862   7.963131   0.009773  ...   8.128448   5.871833   \n",
              "2    7.923851   3.925545   4.012127  -6.921524  ...  -7.941582 -27.106928   \n",
              "3   12.960620  -9.048958   5.969053   0.874370  ...  -0.895094  -7.984137   \n",
              "4    2.173744   1.045248   1.073869  -0.019322  ... -10.084452   2.828070   \n",
              "5  -10.922551 -15.045833 -56.981894  -8.831718  ...  -2.000975 -23.942689   \n",
              "\n",
              "    sensor_25  sensor_26  sensor_27  sensor_28  sensor_29  sensor_30  \\\n",
              "id                                                                     \n",
              "1    1.889536  -3.926719   0.929041   4.999071  -7.963270   4.044370   \n",
              "2  -16.940167 -11.169073   0.202975   6.846631   7.911875  -2.852819   \n",
              "3   -0.025761   2.981749   4.948704 -10.841968  -4.860024  -6.917495   \n",
              "4    0.903349   5.156367  40.827713  -1.160840  -1.215552   0.037914   \n",
              "5   -6.741350   0.831967  11.905613   3.106004  46.899363   3.001353   \n",
              "\n",
              "    sensor_31  sensor_32  \n",
              "id                        \n",
              "1   -1.993315  10.855771  \n",
              "2   56.028042  52.967175  \n",
              "3    2.842422  -3.081374  \n",
              "4  -24.968873  -7.148603  \n",
              "5  -17.881074  -6.882390  \n",
              "\n",
              "[5 rows x 32 columns]"
            ],
            "text/html": [
              "\n",
              "  <div id=\"df-67f4340c-ae77-4c35-977e-a5e8fed89986\">\n",
              "    <div class=\"colab-df-container\">\n",
              "      <div>\n",
              "<style scoped>\n",
              "    .dataframe tbody tr th:only-of-type {\n",
              "        vertical-align: middle;\n",
              "    }\n",
              "\n",
              "    .dataframe tbody tr th {\n",
              "        vertical-align: top;\n",
              "    }\n",
              "\n",
              "    .dataframe thead th {\n",
              "        text-align: right;\n",
              "    }\n",
              "</style>\n",
              "<table border=\"1\" class=\"dataframe\">\n",
              "  <thead>\n",
              "    <tr style=\"text-align: right;\">\n",
              "      <th></th>\n",
              "      <th>sensor_1</th>\n",
              "      <th>sensor_2</th>\n",
              "      <th>sensor_3</th>\n",
              "      <th>sensor_4</th>\n",
              "      <th>sensor_5</th>\n",
              "      <th>sensor_6</th>\n",
              "      <th>sensor_7</th>\n",
              "      <th>sensor_8</th>\n",
              "      <th>sensor_9</th>\n",
              "      <th>sensor_10</th>\n",
              "      <th>...</th>\n",
              "      <th>sensor_23</th>\n",
              "      <th>sensor_24</th>\n",
              "      <th>sensor_25</th>\n",
              "      <th>sensor_26</th>\n",
              "      <th>sensor_27</th>\n",
              "      <th>sensor_28</th>\n",
              "      <th>sensor_29</th>\n",
              "      <th>sensor_30</th>\n",
              "      <th>sensor_31</th>\n",
              "      <th>sensor_32</th>\n",
              "    </tr>\n",
              "    <tr>\n",
              "      <th>id</th>\n",
              "      <th></th>\n",
              "      <th></th>\n",
              "      <th></th>\n",
              "      <th></th>\n",
              "      <th></th>\n",
              "      <th></th>\n",
              "      <th></th>\n",
              "      <th></th>\n",
              "      <th></th>\n",
              "      <th></th>\n",
              "      <th></th>\n",
              "      <th></th>\n",
              "      <th></th>\n",
              "      <th></th>\n",
              "      <th></th>\n",
              "      <th></th>\n",
              "      <th></th>\n",
              "      <th></th>\n",
              "      <th></th>\n",
              "      <th></th>\n",
              "      <th></th>\n",
              "    </tr>\n",
              "  </thead>\n",
              "  <tbody>\n",
              "    <tr>\n",
              "      <th>1</th>\n",
              "      <td>0.067135</td>\n",
              "      <td>5.040383</td>\n",
              "      <td>-2.965405</td>\n",
              "      <td>-12.952880</td>\n",
              "      <td>-1.938465</td>\n",
              "      <td>-10.997802</td>\n",
              "      <td>1.853669</td>\n",
              "      <td>21.077862</td>\n",
              "      <td>7.963131</td>\n",
              "      <td>0.009773</td>\n",
              "      <td>...</td>\n",
              "      <td>8.128448</td>\n",
              "      <td>5.871833</td>\n",
              "      <td>1.889536</td>\n",
              "      <td>-3.926719</td>\n",
              "      <td>0.929041</td>\n",
              "      <td>4.999071</td>\n",
              "      <td>-7.963270</td>\n",
              "      <td>4.044370</td>\n",
              "      <td>-1.993315</td>\n",
              "      <td>10.855771</td>\n",
              "    </tr>\n",
              "    <tr>\n",
              "      <th>2</th>\n",
              "      <td>6.890655</td>\n",
              "      <td>-12.010728</td>\n",
              "      <td>24.881907</td>\n",
              "      <td>38.943245</td>\n",
              "      <td>-4.757496</td>\n",
              "      <td>5.926453</td>\n",
              "      <td>7.923851</td>\n",
              "      <td>3.925545</td>\n",
              "      <td>4.012127</td>\n",
              "      <td>-6.921524</td>\n",
              "      <td>...</td>\n",
              "      <td>-7.941582</td>\n",
              "      <td>-27.106928</td>\n",
              "      <td>-16.940167</td>\n",
              "      <td>-11.169073</td>\n",
              "      <td>0.202975</td>\n",
              "      <td>6.846631</td>\n",
              "      <td>7.911875</td>\n",
              "      <td>-2.852819</td>\n",
              "      <td>56.028042</td>\n",
              "      <td>52.967175</td>\n",
              "    </tr>\n",
              "    <tr>\n",
              "      <th>3</th>\n",
              "      <td>-4.809695</td>\n",
              "      <td>0.962863</td>\n",
              "      <td>-1.893647</td>\n",
              "      <td>-6.168084</td>\n",
              "      <td>-3.948282</td>\n",
              "      <td>0.977219</td>\n",
              "      <td>12.960620</td>\n",
              "      <td>-9.048958</td>\n",
              "      <td>5.969053</td>\n",
              "      <td>0.874370</td>\n",
              "      <td>...</td>\n",
              "      <td>-0.895094</td>\n",
              "      <td>-7.984137</td>\n",
              "      <td>-0.025761</td>\n",
              "      <td>2.981749</td>\n",
              "      <td>4.948704</td>\n",
              "      <td>-10.841968</td>\n",
              "      <td>-4.860024</td>\n",
              "      <td>-6.917495</td>\n",
              "      <td>2.842422</td>\n",
              "      <td>-3.081374</td>\n",
              "    </tr>\n",
              "    <tr>\n",
              "      <th>4</th>\n",
              "      <td>0.018158</td>\n",
              "      <td>-3.993114</td>\n",
              "      <td>12.001667</td>\n",
              "      <td>22.960746</td>\n",
              "      <td>-2.121793</td>\n",
              "      <td>-6.002385</td>\n",
              "      <td>2.173744</td>\n",
              "      <td>1.045248</td>\n",
              "      <td>1.073869</td>\n",
              "      <td>-0.019322</td>\n",
              "      <td>...</td>\n",
              "      <td>-10.084452</td>\n",
              "      <td>2.828070</td>\n",
              "      <td>0.903349</td>\n",
              "      <td>5.156367</td>\n",
              "      <td>40.827713</td>\n",
              "      <td>-1.160840</td>\n",
              "      <td>-1.215552</td>\n",
              "      <td>0.037914</td>\n",
              "      <td>-24.968873</td>\n",
              "      <td>-7.148603</td>\n",
              "    </tr>\n",
              "    <tr>\n",
              "      <th>5</th>\n",
              "      <td>-7.841592</td>\n",
              "      <td>-2.129997</td>\n",
              "      <td>7.872448</td>\n",
              "      <td>-8.953428</td>\n",
              "      <td>28.080007</td>\n",
              "      <td>-5.019895</td>\n",
              "      <td>-10.922551</td>\n",
              "      <td>-15.045833</td>\n",
              "      <td>-56.981894</td>\n",
              "      <td>-8.831718</td>\n",
              "      <td>...</td>\n",
              "      <td>-2.000975</td>\n",
              "      <td>-23.942689</td>\n",
              "      <td>-6.741350</td>\n",
              "      <td>0.831967</td>\n",
              "      <td>11.905613</td>\n",
              "      <td>3.106004</td>\n",
              "      <td>46.899363</td>\n",
              "      <td>3.001353</td>\n",
              "      <td>-17.881074</td>\n",
              "      <td>-6.882390</td>\n",
              "    </tr>\n",
              "  </tbody>\n",
              "</table>\n",
              "<p>5 rows × 32 columns</p>\n",
              "</div>\n",
              "      <button class=\"colab-df-convert\" onclick=\"convertToInteractive('df-67f4340c-ae77-4c35-977e-a5e8fed89986')\"\n",
              "              title=\"Convert this dataframe to an interactive table.\"\n",
              "              style=\"display:none;\">\n",
              "        \n",
              "  <svg xmlns=\"http://www.w3.org/2000/svg\" height=\"24px\"viewBox=\"0 0 24 24\"\n",
              "       width=\"24px\">\n",
              "    <path d=\"M0 0h24v24H0V0z\" fill=\"none\"/>\n",
              "    <path d=\"M18.56 5.44l.94 2.06.94-2.06 2.06-.94-2.06-.94-.94-2.06-.94 2.06-2.06.94zm-11 1L8.5 8.5l.94-2.06 2.06-.94-2.06-.94L8.5 2.5l-.94 2.06-2.06.94zm10 10l.94 2.06.94-2.06 2.06-.94-2.06-.94-.94-2.06-.94 2.06-2.06.94z\"/><path d=\"M17.41 7.96l-1.37-1.37c-.4-.4-.92-.59-1.43-.59-.52 0-1.04.2-1.43.59L10.3 9.45l-7.72 7.72c-.78.78-.78 2.05 0 2.83L4 21.41c.39.39.9.59 1.41.59.51 0 1.02-.2 1.41-.59l7.78-7.78 2.81-2.81c.8-.78.8-2.07 0-2.86zM5.41 20L4 18.59l7.72-7.72 1.47 1.35L5.41 20z\"/>\n",
              "  </svg>\n",
              "      </button>\n",
              "      \n",
              "  <style>\n",
              "    .colab-df-container {\n",
              "      display:flex;\n",
              "      flex-wrap:wrap;\n",
              "      gap: 12px;\n",
              "    }\n",
              "\n",
              "    .colab-df-convert {\n",
              "      background-color: #E8F0FE;\n",
              "      border: none;\n",
              "      border-radius: 50%;\n",
              "      cursor: pointer;\n",
              "      display: none;\n",
              "      fill: #1967D2;\n",
              "      height: 32px;\n",
              "      padding: 0 0 0 0;\n",
              "      width: 32px;\n",
              "    }\n",
              "\n",
              "    .colab-df-convert:hover {\n",
              "      background-color: #E2EBFA;\n",
              "      box-shadow: 0px 1px 2px rgba(60, 64, 67, 0.3), 0px 1px 3px 1px rgba(60, 64, 67, 0.15);\n",
              "      fill: #174EA6;\n",
              "    }\n",
              "\n",
              "    [theme=dark] .colab-df-convert {\n",
              "      background-color: #3B4455;\n",
              "      fill: #D2E3FC;\n",
              "    }\n",
              "\n",
              "    [theme=dark] .colab-df-convert:hover {\n",
              "      background-color: #434B5C;\n",
              "      box-shadow: 0px 1px 3px 1px rgba(0, 0, 0, 0.15);\n",
              "      filter: drop-shadow(0px 1px 2px rgba(0, 0, 0, 0.3));\n",
              "      fill: #FFFFFF;\n",
              "    }\n",
              "  </style>\n",
              "\n",
              "      <script>\n",
              "        const buttonEl =\n",
              "          document.querySelector('#df-67f4340c-ae77-4c35-977e-a5e8fed89986 button.colab-df-convert');\n",
              "        buttonEl.style.display =\n",
              "          google.colab.kernel.accessAllowed ? 'block' : 'none';\n",
              "\n",
              "        async function convertToInteractive(key) {\n",
              "          const element = document.querySelector('#df-67f4340c-ae77-4c35-977e-a5e8fed89986');\n",
              "          const dataTable =\n",
              "            await google.colab.kernel.invokeFunction('convertToInteractive',\n",
              "                                                     [key], {});\n",
              "          if (!dataTable) return;\n",
              "\n",
              "          const docLinkHtml = 'Like what you see? Visit the ' +\n",
              "            '<a target=\"_blank\" href=https://colab.research.google.com/notebooks/data_table.ipynb>data table notebook</a>'\n",
              "            + ' to learn more about interactive tables.';\n",
              "          element.innerHTML = '';\n",
              "          dataTable['output_type'] = 'display_data';\n",
              "          await google.colab.output.renderOutput(dataTable, element);\n",
              "          const docLink = document.createElement('div');\n",
              "          docLink.innerHTML = docLinkHtml;\n",
              "          element.appendChild(docLink);\n",
              "        }\n",
              "      </script>\n",
              "    </div>\n",
              "  </div>\n",
              "  "
            ]
          },
          "metadata": {},
          "execution_count": 22
        }
      ],
      "source": [
        "test_df = pd.read_csv('test.csv', index_col=0)\n",
        "test_df.head()"
      ]
    },
    {
      "cell_type": "code",
      "source": [
        "test_df.info()"
      ],
      "metadata": {
        "colab": {
          "base_uri": "https://localhost:8080/"
        },
        "id": "AwNUPlesDq9h",
        "outputId": "23a3f94b-bf59-44c8-b847-ef176c4d16ed"
      },
      "execution_count": null,
      "outputs": [
        {
          "output_type": "stream",
          "name": "stdout",
          "text": [
            "<class 'pandas.core.frame.DataFrame'>\n",
            "Int64Index: 9343 entries, 1 to 9343\n",
            "Data columns (total 32 columns):\n",
            " #   Column     Non-Null Count  Dtype  \n",
            "---  ------     --------------  -----  \n",
            " 0   sensor_1   9343 non-null   float64\n",
            " 1   sensor_2   9343 non-null   float64\n",
            " 2   sensor_3   9343 non-null   float64\n",
            " 3   sensor_4   9343 non-null   float64\n",
            " 4   sensor_5   9343 non-null   float64\n",
            " 5   sensor_6   9343 non-null   float64\n",
            " 6   sensor_7   9343 non-null   float64\n",
            " 7   sensor_8   9343 non-null   float64\n",
            " 8   sensor_9   9343 non-null   float64\n",
            " 9   sensor_10  9343 non-null   float64\n",
            " 10  sensor_11  9343 non-null   float64\n",
            " 11  sensor_12  9343 non-null   float64\n",
            " 12  sensor_13  9343 non-null   float64\n",
            " 13  sensor_14  9343 non-null   float64\n",
            " 14  sensor_15  9343 non-null   float64\n",
            " 15  sensor_16  9343 non-null   float64\n",
            " 16  sensor_17  9343 non-null   float64\n",
            " 17  sensor_18  9343 non-null   float64\n",
            " 18  sensor_19  9343 non-null   float64\n",
            " 19  sensor_20  9343 non-null   float64\n",
            " 20  sensor_21  9343 non-null   float64\n",
            " 21  sensor_22  9343 non-null   float64\n",
            " 22  sensor_23  9343 non-null   float64\n",
            " 23  sensor_24  9343 non-null   float64\n",
            " 24  sensor_25  9343 non-null   float64\n",
            " 25  sensor_26  9343 non-null   float64\n",
            " 26  sensor_27  9343 non-null   float64\n",
            " 27  sensor_28  9343 non-null   float64\n",
            " 28  sensor_29  9343 non-null   float64\n",
            " 29  sensor_30  9343 non-null   float64\n",
            " 30  sensor_31  9343 non-null   float64\n",
            " 31  sensor_32  9343 non-null   float64\n",
            "dtypes: float64(32)\n",
            "memory usage: 2.4 MB\n"
          ]
        }
      ]
    },
    {
      "cell_type": "code",
      "source": [
        "test_df.describe()"
      ],
      "metadata": {
        "colab": {
          "base_uri": "https://localhost:8080/"
        },
        "id": "zDtynYxJE0yj",
        "outputId": "ae7d95f7-8950-46a8-c560-17d31d29040f"
      },
      "execution_count": null,
      "outputs": [
        {
          "output_type": "execute_result",
          "data": {
            "text/plain": [
              "          sensor_1     sensor_2     sensor_3     sensor_4     sensor_5  \\\n",
              "count  9343.000000  9343.000000  9343.000000  9343.000000  9343.000000   \n",
              "mean     -0.628258    -0.656799    -0.525379    -0.790890    -0.734214   \n",
              "std      11.832964     7.452133    25.631510    15.372176    11.933031   \n",
              "min    -104.044027   -75.059695  -114.018432  -127.943995  -127.983210   \n",
              "25%      -3.979736    -3.966381   -14.974971    -7.969307    -3.971995   \n",
              "50%      -0.904598    -0.887505    -1.021169    -1.033398    -0.903961   \n",
              "75%       2.987203     2.935523    13.019911     5.852302     2.966576   \n",
              "max      90.037923    54.977145   126.805849   126.130615   106.023697   \n",
              "\n",
              "          sensor_6     sensor_7     sensor_8     sensor_9    sensor_10  ...  \\\n",
              "count  9343.000000  9343.000000  9343.000000  9343.000000  9343.000000  ...   \n",
              "mean     -0.801868    -0.382038    -0.808731    -0.605111    -0.740536  ...   \n",
              "std       7.390419    25.755418    15.330627    11.902088     7.396929  ...   \n",
              "min     -84.030386  -128.033637  -128.036004  -109.116907   -99.014745  ...   \n",
              "25%      -3.978190   -14.104783    -8.007179    -4.001779    -4.012557  ...   \n",
              "50%      -0.944097    -0.889134    -1.100708    -0.909196    -0.924022  ...   \n",
              "75%       2.833633    13.188271     5.118780     2.946251     2.950737  ...   \n",
              "max      61.102433   127.202233   126.957325   118.063610    38.874365  ...   \n",
              "\n",
              "         sensor_23    sensor_24    sensor_25    sensor_26    sensor_27  \\\n",
              "count  9343.000000  9343.000000  9343.000000  9343.000000  9343.000000   \n",
              "mean     -0.638059    -0.763211    -0.790750    -0.755255    -0.437697   \n",
              "std      26.038906    15.235777    11.946456     7.344751    25.936114   \n",
              "min    -123.101594  -127.893767  -119.994449   -69.954064  -128.013570   \n",
              "25%     -15.035832    -7.982726    -3.995787    -3.994754   -14.850654   \n",
              "50%      -1.022250    -1.024196    -0.908620    -0.916166    -1.012729   \n",
              "75%      13.038944     5.214487     2.911339     2.888456    13.814711   \n",
              "max     127.139450   126.935040   110.988863    76.122970   126.826318   \n",
              "\n",
              "         sensor_28    sensor_29    sensor_30    sensor_31    sensor_32  \n",
              "count  9343.000000  9343.000000  9343.000000  9343.000000  9343.000000  \n",
              "mean     -1.071997    -0.743311    -0.678331    -0.344835    -0.576254  \n",
              "std      15.060080    12.097549     7.363458    25.618149    15.332268  \n",
              "min    -128.067795  -128.032877   -68.973719  -127.952703  -107.960724  \n",
              "25%      -8.017426    -3.982730    -3.988324   -14.005003    -7.834823  \n",
              "50%      -1.045174    -0.919393    -0.935407    -0.913188    -1.004701  \n",
              "75%       5.172807     2.942584     2.862274    13.010044     5.942596  \n",
              "max     114.034898   105.070831    51.066778   127.040313   126.967283  \n",
              "\n",
              "[8 rows x 32 columns]"
            ],
            "text/html": [
              "\n",
              "  <div id=\"df-50ab2566-c78a-485d-a1ca-8b249d3037c5\">\n",
              "    <div class=\"colab-df-container\">\n",
              "      <div>\n",
              "<style scoped>\n",
              "    .dataframe tbody tr th:only-of-type {\n",
              "        vertical-align: middle;\n",
              "    }\n",
              "\n",
              "    .dataframe tbody tr th {\n",
              "        vertical-align: top;\n",
              "    }\n",
              "\n",
              "    .dataframe thead th {\n",
              "        text-align: right;\n",
              "    }\n",
              "</style>\n",
              "<table border=\"1\" class=\"dataframe\">\n",
              "  <thead>\n",
              "    <tr style=\"text-align: right;\">\n",
              "      <th></th>\n",
              "      <th>sensor_1</th>\n",
              "      <th>sensor_2</th>\n",
              "      <th>sensor_3</th>\n",
              "      <th>sensor_4</th>\n",
              "      <th>sensor_5</th>\n",
              "      <th>sensor_6</th>\n",
              "      <th>sensor_7</th>\n",
              "      <th>sensor_8</th>\n",
              "      <th>sensor_9</th>\n",
              "      <th>sensor_10</th>\n",
              "      <th>...</th>\n",
              "      <th>sensor_23</th>\n",
              "      <th>sensor_24</th>\n",
              "      <th>sensor_25</th>\n",
              "      <th>sensor_26</th>\n",
              "      <th>sensor_27</th>\n",
              "      <th>sensor_28</th>\n",
              "      <th>sensor_29</th>\n",
              "      <th>sensor_30</th>\n",
              "      <th>sensor_31</th>\n",
              "      <th>sensor_32</th>\n",
              "    </tr>\n",
              "  </thead>\n",
              "  <tbody>\n",
              "    <tr>\n",
              "      <th>count</th>\n",
              "      <td>9343.000000</td>\n",
              "      <td>9343.000000</td>\n",
              "      <td>9343.000000</td>\n",
              "      <td>9343.000000</td>\n",
              "      <td>9343.000000</td>\n",
              "      <td>9343.000000</td>\n",
              "      <td>9343.000000</td>\n",
              "      <td>9343.000000</td>\n",
              "      <td>9343.000000</td>\n",
              "      <td>9343.000000</td>\n",
              "      <td>...</td>\n",
              "      <td>9343.000000</td>\n",
              "      <td>9343.000000</td>\n",
              "      <td>9343.000000</td>\n",
              "      <td>9343.000000</td>\n",
              "      <td>9343.000000</td>\n",
              "      <td>9343.000000</td>\n",
              "      <td>9343.000000</td>\n",
              "      <td>9343.000000</td>\n",
              "      <td>9343.000000</td>\n",
              "      <td>9343.000000</td>\n",
              "    </tr>\n",
              "    <tr>\n",
              "      <th>mean</th>\n",
              "      <td>-0.628258</td>\n",
              "      <td>-0.656799</td>\n",
              "      <td>-0.525379</td>\n",
              "      <td>-0.790890</td>\n",
              "      <td>-0.734214</td>\n",
              "      <td>-0.801868</td>\n",
              "      <td>-0.382038</td>\n",
              "      <td>-0.808731</td>\n",
              "      <td>-0.605111</td>\n",
              "      <td>-0.740536</td>\n",
              "      <td>...</td>\n",
              "      <td>-0.638059</td>\n",
              "      <td>-0.763211</td>\n",
              "      <td>-0.790750</td>\n",
              "      <td>-0.755255</td>\n",
              "      <td>-0.437697</td>\n",
              "      <td>-1.071997</td>\n",
              "      <td>-0.743311</td>\n",
              "      <td>-0.678331</td>\n",
              "      <td>-0.344835</td>\n",
              "      <td>-0.576254</td>\n",
              "    </tr>\n",
              "    <tr>\n",
              "      <th>std</th>\n",
              "      <td>11.832964</td>\n",
              "      <td>7.452133</td>\n",
              "      <td>25.631510</td>\n",
              "      <td>15.372176</td>\n",
              "      <td>11.933031</td>\n",
              "      <td>7.390419</td>\n",
              "      <td>25.755418</td>\n",
              "      <td>15.330627</td>\n",
              "      <td>11.902088</td>\n",
              "      <td>7.396929</td>\n",
              "      <td>...</td>\n",
              "      <td>26.038906</td>\n",
              "      <td>15.235777</td>\n",
              "      <td>11.946456</td>\n",
              "      <td>7.344751</td>\n",
              "      <td>25.936114</td>\n",
              "      <td>15.060080</td>\n",
              "      <td>12.097549</td>\n",
              "      <td>7.363458</td>\n",
              "      <td>25.618149</td>\n",
              "      <td>15.332268</td>\n",
              "    </tr>\n",
              "    <tr>\n",
              "      <th>min</th>\n",
              "      <td>-104.044027</td>\n",
              "      <td>-75.059695</td>\n",
              "      <td>-114.018432</td>\n",
              "      <td>-127.943995</td>\n",
              "      <td>-127.983210</td>\n",
              "      <td>-84.030386</td>\n",
              "      <td>-128.033637</td>\n",
              "      <td>-128.036004</td>\n",
              "      <td>-109.116907</td>\n",
              "      <td>-99.014745</td>\n",
              "      <td>...</td>\n",
              "      <td>-123.101594</td>\n",
              "      <td>-127.893767</td>\n",
              "      <td>-119.994449</td>\n",
              "      <td>-69.954064</td>\n",
              "      <td>-128.013570</td>\n",
              "      <td>-128.067795</td>\n",
              "      <td>-128.032877</td>\n",
              "      <td>-68.973719</td>\n",
              "      <td>-127.952703</td>\n",
              "      <td>-107.960724</td>\n",
              "    </tr>\n",
              "    <tr>\n",
              "      <th>25%</th>\n",
              "      <td>-3.979736</td>\n",
              "      <td>-3.966381</td>\n",
              "      <td>-14.974971</td>\n",
              "      <td>-7.969307</td>\n",
              "      <td>-3.971995</td>\n",
              "      <td>-3.978190</td>\n",
              "      <td>-14.104783</td>\n",
              "      <td>-8.007179</td>\n",
              "      <td>-4.001779</td>\n",
              "      <td>-4.012557</td>\n",
              "      <td>...</td>\n",
              "      <td>-15.035832</td>\n",
              "      <td>-7.982726</td>\n",
              "      <td>-3.995787</td>\n",
              "      <td>-3.994754</td>\n",
              "      <td>-14.850654</td>\n",
              "      <td>-8.017426</td>\n",
              "      <td>-3.982730</td>\n",
              "      <td>-3.988324</td>\n",
              "      <td>-14.005003</td>\n",
              "      <td>-7.834823</td>\n",
              "    </tr>\n",
              "    <tr>\n",
              "      <th>50%</th>\n",
              "      <td>-0.904598</td>\n",
              "      <td>-0.887505</td>\n",
              "      <td>-1.021169</td>\n",
              "      <td>-1.033398</td>\n",
              "      <td>-0.903961</td>\n",
              "      <td>-0.944097</td>\n",
              "      <td>-0.889134</td>\n",
              "      <td>-1.100708</td>\n",
              "      <td>-0.909196</td>\n",
              "      <td>-0.924022</td>\n",
              "      <td>...</td>\n",
              "      <td>-1.022250</td>\n",
              "      <td>-1.024196</td>\n",
              "      <td>-0.908620</td>\n",
              "      <td>-0.916166</td>\n",
              "      <td>-1.012729</td>\n",
              "      <td>-1.045174</td>\n",
              "      <td>-0.919393</td>\n",
              "      <td>-0.935407</td>\n",
              "      <td>-0.913188</td>\n",
              "      <td>-1.004701</td>\n",
              "    </tr>\n",
              "    <tr>\n",
              "      <th>75%</th>\n",
              "      <td>2.987203</td>\n",
              "      <td>2.935523</td>\n",
              "      <td>13.019911</td>\n",
              "      <td>5.852302</td>\n",
              "      <td>2.966576</td>\n",
              "      <td>2.833633</td>\n",
              "      <td>13.188271</td>\n",
              "      <td>5.118780</td>\n",
              "      <td>2.946251</td>\n",
              "      <td>2.950737</td>\n",
              "      <td>...</td>\n",
              "      <td>13.038944</td>\n",
              "      <td>5.214487</td>\n",
              "      <td>2.911339</td>\n",
              "      <td>2.888456</td>\n",
              "      <td>13.814711</td>\n",
              "      <td>5.172807</td>\n",
              "      <td>2.942584</td>\n",
              "      <td>2.862274</td>\n",
              "      <td>13.010044</td>\n",
              "      <td>5.942596</td>\n",
              "    </tr>\n",
              "    <tr>\n",
              "      <th>max</th>\n",
              "      <td>90.037923</td>\n",
              "      <td>54.977145</td>\n",
              "      <td>126.805849</td>\n",
              "      <td>126.130615</td>\n",
              "      <td>106.023697</td>\n",
              "      <td>61.102433</td>\n",
              "      <td>127.202233</td>\n",
              "      <td>126.957325</td>\n",
              "      <td>118.063610</td>\n",
              "      <td>38.874365</td>\n",
              "      <td>...</td>\n",
              "      <td>127.139450</td>\n",
              "      <td>126.935040</td>\n",
              "      <td>110.988863</td>\n",
              "      <td>76.122970</td>\n",
              "      <td>126.826318</td>\n",
              "      <td>114.034898</td>\n",
              "      <td>105.070831</td>\n",
              "      <td>51.066778</td>\n",
              "      <td>127.040313</td>\n",
              "      <td>126.967283</td>\n",
              "    </tr>\n",
              "  </tbody>\n",
              "</table>\n",
              "<p>8 rows × 32 columns</p>\n",
              "</div>\n",
              "      <button class=\"colab-df-convert\" onclick=\"convertToInteractive('df-50ab2566-c78a-485d-a1ca-8b249d3037c5')\"\n",
              "              title=\"Convert this dataframe to an interactive table.\"\n",
              "              style=\"display:none;\">\n",
              "        \n",
              "  <svg xmlns=\"http://www.w3.org/2000/svg\" height=\"24px\"viewBox=\"0 0 24 24\"\n",
              "       width=\"24px\">\n",
              "    <path d=\"M0 0h24v24H0V0z\" fill=\"none\"/>\n",
              "    <path d=\"M18.56 5.44l.94 2.06.94-2.06 2.06-.94-2.06-.94-.94-2.06-.94 2.06-2.06.94zm-11 1L8.5 8.5l.94-2.06 2.06-.94-2.06-.94L8.5 2.5l-.94 2.06-2.06.94zm10 10l.94 2.06.94-2.06 2.06-.94-2.06-.94-.94-2.06-.94 2.06-2.06.94z\"/><path d=\"M17.41 7.96l-1.37-1.37c-.4-.4-.92-.59-1.43-.59-.52 0-1.04.2-1.43.59L10.3 9.45l-7.72 7.72c-.78.78-.78 2.05 0 2.83L4 21.41c.39.39.9.59 1.41.59.51 0 1.02-.2 1.41-.59l7.78-7.78 2.81-2.81c.8-.78.8-2.07 0-2.86zM5.41 20L4 18.59l7.72-7.72 1.47 1.35L5.41 20z\"/>\n",
              "  </svg>\n",
              "      </button>\n",
              "      \n",
              "  <style>\n",
              "    .colab-df-container {\n",
              "      display:flex;\n",
              "      flex-wrap:wrap;\n",
              "      gap: 12px;\n",
              "    }\n",
              "\n",
              "    .colab-df-convert {\n",
              "      background-color: #E8F0FE;\n",
              "      border: none;\n",
              "      border-radius: 50%;\n",
              "      cursor: pointer;\n",
              "      display: none;\n",
              "      fill: #1967D2;\n",
              "      height: 32px;\n",
              "      padding: 0 0 0 0;\n",
              "      width: 32px;\n",
              "    }\n",
              "\n",
              "    .colab-df-convert:hover {\n",
              "      background-color: #E2EBFA;\n",
              "      box-shadow: 0px 1px 2px rgba(60, 64, 67, 0.3), 0px 1px 3px 1px rgba(60, 64, 67, 0.15);\n",
              "      fill: #174EA6;\n",
              "    }\n",
              "\n",
              "    [theme=dark] .colab-df-convert {\n",
              "      background-color: #3B4455;\n",
              "      fill: #D2E3FC;\n",
              "    }\n",
              "\n",
              "    [theme=dark] .colab-df-convert:hover {\n",
              "      background-color: #434B5C;\n",
              "      box-shadow: 0px 1px 3px 1px rgba(0, 0, 0, 0.15);\n",
              "      filter: drop-shadow(0px 1px 2px rgba(0, 0, 0, 0.3));\n",
              "      fill: #FFFFFF;\n",
              "    }\n",
              "  </style>\n",
              "\n",
              "      <script>\n",
              "        const buttonEl =\n",
              "          document.querySelector('#df-50ab2566-c78a-485d-a1ca-8b249d3037c5 button.colab-df-convert');\n",
              "        buttonEl.style.display =\n",
              "          google.colab.kernel.accessAllowed ? 'block' : 'none';\n",
              "\n",
              "        async function convertToInteractive(key) {\n",
              "          const element = document.querySelector('#df-50ab2566-c78a-485d-a1ca-8b249d3037c5');\n",
              "          const dataTable =\n",
              "            await google.colab.kernel.invokeFunction('convertToInteractive',\n",
              "                                                     [key], {});\n",
              "          if (!dataTable) return;\n",
              "\n",
              "          const docLinkHtml = 'Like what you see? Visit the ' +\n",
              "            '<a target=\"_blank\" href=https://colab.research.google.com/notebooks/data_table.ipynb>data table notebook</a>'\n",
              "            + ' to learn more about interactive tables.';\n",
              "          element.innerHTML = '';\n",
              "          dataTable['output_type'] = 'display_data';\n",
              "          await google.colab.output.renderOutput(dataTable, element);\n",
              "          const docLink = document.createElement('div');\n",
              "          docLink.innerHTML = docLinkHtml;\n",
              "          element.appendChild(docLink);\n",
              "        }\n",
              "      </script>\n",
              "    </div>\n",
              "  </div>\n",
              "  "
            ]
          },
          "metadata": {},
          "execution_count": 24
        }
      ]
    },
    {
      "cell_type": "code",
      "source": [
        "check_missing_col(test_df)"
      ],
      "metadata": {
        "colab": {
          "base_uri": "https://localhost:8080/"
        },
        "id": "PnTbxH5DEFdR",
        "outputId": "452f15c0-3dd6-4bcc-875b-ebe4397cc6a8"
      },
      "execution_count": null,
      "outputs": [
        {
          "output_type": "stream",
          "name": "stdout",
          "text": [
            "결측치가 존재하지 않습니다\n"
          ]
        },
        {
          "output_type": "execute_result",
          "data": {
            "text/plain": [
              "[]"
            ]
          },
          "metadata": {},
          "execution_count": 25
        }
      ]
    },
    {
      "cell_type": "code",
      "source": [
        "# 앞에서도 확인했 듯이 데이터들은 모두 수치형 데이터이다. 그리고 히스토그램을 그려서 간단하게 확인해 본 결과, 대략적으로 정규분포를 띄고 있는 것 같다.\n",
        "# 다만 첨도가 조금 높은 것 같다는 생각이 든다.\n",
        "column_list = test_df.columns\n",
        "plt.figure(figsize=(20,20))\n",
        "i = 1\n",
        "for col in column_list:\n",
        "  plt.subplot(6,6, i)\n",
        "  sns.histplot(x=col, data=test_df, kde=True)\n",
        "  i += 1\n",
        "plt.show()"
      ],
      "metadata": {
        "colab": {
          "base_uri": "https://localhost:8080/"
        },
        "id": "TWTtl192EJER",
        "outputId": "a0d4244c-80f7-473e-b6cc-63eefb08fc2d"
      },
      "execution_count": null,
      "outputs": [
        {
          "output_type": "display_data",
          "data": {
            "text/plain": [
              "<Figure size 1440x1440 with 32 Axes>"
            ],
            "image/png": "[encoded data removed]"
          },
          "metadata": {
            "needs_background": "light"
          }
        }
      ]
    },
    {
      "cell_type": "code",
      "source": [
        "# Boxplot을 그려서 확인해 보니 이상치가 제법있는 것을 확인 할 수 있다.\n",
        "# 아마 첨도가 높아서 그런 것이 아닐까 생각 된다.\n",
        "column_list = test_df.columns\n",
        "plt.figure(figsize=(20,20))\n",
        "i = 1\n",
        "for col in column_list:\n",
        "  plt.subplot(6,6, i)\n",
        "  sns.boxplot(x=col, data=test_df)\n",
        "  i += 1\n",
        "plt.show()"
      ],
      "metadata": {
        "colab": {
          "base_uri": "https://localhost:8080/"
        },
        "id": "3ErQLPT5FS08",
        "outputId": "8dfa450b-7d84-4803-f96e-166582580cb8"
      },
      "execution_count": null,
      "outputs": [
        {
          "output_type": "display_data",
          "data": {
            "text/plain": [
              "<Figure size 1440x1440 with 32 Axes>"
            ],
            "image/png": "[encoded data removed]"
          },
          "metadata": {
            "needs_background": "light"
          }
        }
      ]
    },
    {
      "cell_type": "code",
      "source": [
        "column_list = test_df.columns[:-1]\n",
        "test_skew_column_list = []\n",
        "test_kurt_column_list = []\n",
        "for col in column_list:\n",
        "  skewness = test_df[col].skew()\n",
        "  kurtosis = test_df[col].kurt()\n",
        "  print(col)\n",
        "  print(f\"skewness:{skewness} kurtosis: {kurtosis}\")\n",
        "  if abs(skewness) > 3:\n",
        "    test_skew_column_list.append(col)\n",
        "  if abs(kurtosis) > 8:\n",
        "    test_kurt_column_list.append(col)"
      ],
      "metadata": {
        "colab": {
          "base_uri": "https://localhost:8080/"
        },
        "id": "g_88btnFHvKB",
        "outputId": "daae77f9-ab60-4931-aaca-6a69e6e01acd"
      },
      "execution_count": null,
      "outputs": [
        {
          "output_type": "stream",
          "name": "stdout",
          "text": [
            "sensor_1\n",
            "skewness:-0.6458847518790858 kurtosis: 11.814054114445554\n",
            "sensor_2\n",
            "skewness:-0.8151664063842196 kurtosis: 10.686028191611676\n",
            "sensor_3\n",
            "skewness:0.2005439770681216 kurtosis: 1.5486566338973633\n",
            "sensor_4\n",
            "skewness:0.13346870981216857 kurtosis: 7.563802112519887\n",
            "sensor_5\n",
            "skewness:-0.7019967960502604 kurtosis: 11.712647565492514\n",
            "sensor_6\n",
            "skewness:-0.7059182098978417 kurtosis: 9.094358228968467\n",
            "sensor_7\n",
            "skewness:0.1149926073274424 kurtosis: 1.7964626977008251\n",
            "sensor_8\n",
            "skewness:0.2473309584180462 kurtosis: 7.890778297998447\n",
            "sensor_9\n",
            "skewness:-0.12959206715389365 kurtosis: 11.632780315989926\n",
            "sensor_10\n",
            "skewness:-1.3088629081041392 kurtosis: 13.31193188288104\n",
            "sensor_11\n",
            "skewness:0.2042946040280425 kurtosis: 1.7058587912449257\n",
            "sensor_12\n",
            "skewness:0.3032994463479557 kurtosis: 7.267452138134847\n",
            "sensor_13\n",
            "skewness:-0.19484029434823555 kurtosis: 12.231172422319869\n",
            "sensor_14\n",
            "skewness:-1.0589151030120902 kurtosis: 12.034798854575083\n",
            "sensor_15\n",
            "skewness:0.10855075728596585 kurtosis: 1.8644841326572816\n",
            "sensor_16\n",
            "skewness:0.2694354819726117 kurtosis: 8.776608384033224\n",
            "sensor_17\n",
            "skewness:-0.5151219002339038 kurtosis: 10.578512844294053\n",
            "sensor_18\n",
            "skewness:-0.865905316425579 kurtosis: 11.246692130680124\n",
            "sensor_19\n",
            "skewness:0.22092722368417164 kurtosis: 1.9915452627038093\n",
            "sensor_20\n",
            "skewness:0.1795800077365815 kurtosis: 8.45238384232411\n",
            "sensor_21\n",
            "skewness:-0.6701304028660015 kurtosis: 11.533630811254966\n",
            "sensor_22\n",
            "skewness:-0.7741011800389302 kurtosis: 9.181077274671129\n",
            "sensor_23\n",
            "skewness:0.14177680314446203 kurtosis: 1.8016822441963463\n",
            "sensor_24\n",
            "skewness:0.273600382223084 kurtosis: 7.160868961530151\n",
            "sensor_25\n",
            "skewness:-0.4200528240248855 kurtosis: 10.442233794974655\n",
            "sensor_26\n",
            "skewness:-0.6294766824543724 kurtosis: 9.211626879089906\n",
            "sensor_27\n",
            "skewness:0.13512721991442495 kurtosis: 1.811874890031003\n",
            "sensor_28\n",
            "skewness:-0.05026014894633132 kurtosis: 7.358309513576706\n",
            "sensor_29\n",
            "skewness:-0.6047088024731269 kurtosis: 12.755136641414385\n",
            "sensor_30\n",
            "skewness:-0.3736049217308544 kurtosis: 8.370588913249325\n",
            "sensor_31\n",
            "skewness:0.13362058705223576 kurtosis: 1.753834305668141\n"
          ]
        }
      ]
    },
    {
      "cell_type": "code",
      "source": [
        "print(f\"skew_column_list :{test_skew_column_list}\")\n",
        "print(f\"kurt_column_list :{test_kurt_column_list}\")\n",
        "print(len(test_kurt_column_list))"
      ],
      "metadata": {
        "colab": {
          "base_uri": "https://localhost:8080/"
        },
        "id": "Pw4-mE7SJSJ7",
        "outputId": "13b60b1f-2e12-41f3-92e5-589286c6e2c2"
      },
      "execution_count": null,
      "outputs": [
        {
          "output_type": "stream",
          "name": "stdout",
          "text": [
            "skew_column_list :[]\n",
            "kurt_column_list :['sensor_1', 'sensor_2', 'sensor_5', 'sensor_6', 'sensor_9', 'sensor_10', 'sensor_13', 'sensor_14', 'sensor_16', 'sensor_17', 'sensor_18', 'sensor_20', 'sensor_21', 'sensor_22', 'sensor_25', 'sensor_26', 'sensor_29', 'sensor_30']\n",
            "18\n"
          ]
        }
      ]
    },
    {
      "cell_type": "code",
      "source": [
        "test_df = scaler.transform(test_df)\n",
        "test_df"
      ],
      "metadata": {
        "colab": {
          "base_uri": "https://localhost:8080/"
        },
        "id": "aTwsb5ENGTr3",
        "outputId": "ac6526da-62e2-4ac6-a909-93f4cad2793c"
      },
      "execution_count": null,
      "outputs": [
        {
          "output_type": "execute_result",
          "data": {
            "text/plain": [
              "array([[0.57946646, 0.66421602, 0.47822101, ..., 0.71017845, 0.48206256,\n",
              "        0.58877125],\n",
              "       [0.62116912, 0.50003489, 0.58991438, ..., 0.64742114, 0.71689915,\n",
              "        0.77279581],\n",
              "       [0.54966119, 0.62495454, 0.48251975, ..., 0.61043679, 0.5016348 ,\n",
              "        0.52786667],\n",
              "       ...,\n",
              "       [0.60372208, 0.51806376, 0.51395262, ..., 0.69086426, 0.54660149,\n",
              "        0.59318803],\n",
              "       [0.63357472, 0.6160027 , 0.57056731, ..., 0.76408194, 0.47759506,\n",
              "        0.57614406],\n",
              "       [0.58542553, 0.58748681, 0.34980326, ..., 0.70806017, 0.80567543,\n",
              "        0.44093778]])"
            ]
          },
          "metadata": {},
          "execution_count": 30
        }
      ]
    },
    {
      "cell_type": "markdown",
      "source": [
        "## 모델 사용하기"
      ],
      "metadata": {
        "id": "OxMJ4rBEPkuH"
      }
    },
    {
      "cell_type": "code",
      "source": [
        "np.random.seed(42)"
      ],
      "metadata": {
        "id": "3pD3TJitsgG5"
      },
      "execution_count": null,
      "outputs": []
    },
    {
      "cell_type": "markdown",
      "source": [
        "### 다양한 모델 사용해보기"
      ],
      "metadata": {
        "id": "ogclu_vb46Rz"
      }
    },
    {
      "cell_type": "code",
      "source": [
        "X_train = train_df.drop('target', axis=1)\n",
        "X_test = test_df\n",
        "y_train = train_df[['target']]"
      ],
      "metadata": {
        "id": "IOrDx0WnQCKx"
      },
      "execution_count": null,
      "outputs": []
    },
    {
      "cell_type": "code",
      "source": [
        "!pip install catboost\n",
        "!pip install Bayesian-Optimization\n",
        "!pip install optuna"
      ],
      "metadata": {
        "colab": {
          "base_uri": "https://localhost:8080/"
        },
        "id": "7_l_L43TZSdS",
        "outputId": "36102b72-ce80-4caf-d882-808716e48f05"
      },
      "execution_count": null,
      "outputs": [
        {
          "output_type": "stream",
          "name": "stdout",
          "text": [
            "Collecting catboost\n",
            "  Downloading catboost-1.0.5-cp37-none-manylinux1_x86_64.whl (76.6 MB)\n",
            "\u001b[K     |████████████████████████████████| 76.6 MB 1.2 MB/s \n",
            "\u001b[?25hRequirement already satisfied: six in /usr/local/lib/python3.7/dist-packages (from catboost) (1.15.0)\n",
            "Requirement already satisfied: numpy>=1.16.0 in /usr/local/lib/python3.7/dist-packages (from catboost) (1.21.6)\n",
            "Requirement already satisfied: plotly in /usr/local/lib/python3.7/dist-packages (from catboost) (5.5.0)\n",
            "Requirement already satisfied: pandas>=0.24.0 in /usr/local/lib/python3.7/dist-packages (from catboost) (1.3.5)\n",
            "Requirement already satisfied: scipy in /usr/local/lib/python3.7/dist-packages (from catboost) (1.4.1)\n",
            "Requirement already satisfied: graphviz in /usr/local/lib/python3.7/dist-packages (from catboost) (0.10.1)\n",
            "Requirement already satisfied: matplotlib in /usr/local/lib/python3.7/dist-packages (from catboost) (3.2.2)\n",
            "Requirement already satisfied: pytz>=2017.3 in /usr/local/lib/python3.7/dist-packages (from pandas>=0.24.0->catboost) (2022.1)\n",
            "Requirement already satisfied: python-dateutil>=2.7.3 in /usr/local/lib/python3.7/dist-packages (from pandas>=0.24.0->catboost) (2.8.2)\n",
            "Requirement already satisfied: cycler>=0.10 in /usr/local/lib/python3.7/dist-packages (from matplotlib->catboost) (0.11.0)\n",
            "Requirement already satisfied: kiwisolver>=1.0.1 in /usr/local/lib/python3.7/dist-packages (from matplotlib->catboost) (1.4.2)\n",
            "Requirement already satisfied: pyparsing!=2.0.4,!=2.1.2,!=2.1.6,>=2.0.1 in /usr/local/lib/python3.7/dist-packages (from matplotlib->catboost) (3.0.8)\n",
            "Requirement already satisfied: typing-extensions in /usr/local/lib/python3.7/dist-packages (from kiwisolver>=1.0.1->matplotlib->catboost) (4.2.0)\n",
            "Requirement already satisfied: tenacity>=6.2.0 in /usr/local/lib/python3.7/dist-packages (from plotly->catboost) (8.0.1)\n",
            "Installing collected packages: catboost\n",
            "Successfully installed catboost-1.0.5\n",
            "Collecting Bayesian-Optimization\n",
            "  Downloading bayesian-optimization-1.2.0.tar.gz (14 kB)\n",
            "Requirement already satisfied: numpy>=1.9.0 in /usr/local/lib/python3.7/dist-packages (from Bayesian-Optimization) (1.21.6)\n",
            "Requirement already satisfied: scipy>=0.14.0 in /usr/local/lib/python3.7/dist-packages (from Bayesian-Optimization) (1.4.1)\n",
            "Requirement already satisfied: scikit-learn>=0.18.0 in /usr/local/lib/python3.7/dist-packages (from Bayesian-Optimization) (1.0.2)\n",
            "Requirement already satisfied: threadpoolctl>=2.0.0 in /usr/local/lib/python3.7/dist-packages (from scikit-learn>=0.18.0->Bayesian-Optimization) (3.1.0)\n",
            "Requirement already satisfied: joblib>=0.11 in /usr/local/lib/python3.7/dist-packages (from scikit-learn>=0.18.0->Bayesian-Optimization) (1.1.0)\n",
            "Building wheels for collected packages: Bayesian-Optimization\n",
            "  Building wheel for Bayesian-Optimization (setup.py) ... \u001b[?25l\u001b[?25hdone\n",
            "  Created wheel for Bayesian-Optimization: filename=bayesian_optimization-1.2.0-py3-none-any.whl size=11685 sha256=0ad84b168335f4f68d5b74f685369b5937df01d392c5cac05b4640b4858432ae\n",
            "  Stored in directory: /root/.cache/pip/wheels/fd/9b/71/f127d694e02eb40bcf18c7ae9613b88a6be4470f57a8528c5b\n",
            "Successfully built Bayesian-Optimization\n",
            "Installing collected packages: Bayesian-Optimization\n",
            "Successfully installed Bayesian-Optimization-1.2.0\n",
            "Collecting optuna\n",
            "  Downloading optuna-2.10.0-py3-none-any.whl (308 kB)\n",
            "\u001b[K     |████████████████████████████████| 308 kB 5.3 MB/s \n",
            "\u001b[?25hRequirement already satisfied: PyYAML in /usr/local/lib/python3.7/dist-packages (from optuna) (3.13)\n",
            "Collecting colorlog\n",
            "  Downloading colorlog-6.6.0-py2.py3-none-any.whl (11 kB)\n",
            "Requirement already satisfied: packaging>=20.0 in /usr/local/lib/python3.7/dist-packages (from optuna) (21.3)\n",
            "Requirement already satisfied: scipy!=1.4.0 in /usr/local/lib/python3.7/dist-packages (from optuna) (1.4.1)\n",
            "Requirement already satisfied: sqlalchemy>=1.1.0 in /usr/local/lib/python3.7/dist-packages (from optuna) (1.4.36)\n",
            "Collecting alembic\n",
            "  Downloading alembic-1.7.7-py3-none-any.whl (210 kB)\n",
            "\u001b[K     |████████████████████████████████| 210 kB 54.6 MB/s \n",
            "\u001b[?25hRequirement already satisfied: tqdm in /usr/local/lib/python3.7/dist-packages (from optuna) (4.64.0)\n",
            "Requirement already satisfied: numpy in /usr/local/lib/python3.7/dist-packages (from optuna) (1.21.6)\n",
            "Collecting cliff\n",
            "  Downloading cliff-3.10.1-py3-none-any.whl (81 kB)\n",
            "\u001b[K     |████████████████████████████████| 81 kB 9.2 MB/s \n",
            "\u001b[?25hCollecting cmaes>=0.8.2\n",
            "  Downloading cmaes-0.8.2-py3-none-any.whl (15 kB)\n",
            "Requirement already satisfied: pyparsing!=3.0.5,>=2.0.2 in /usr/local/lib/python3.7/dist-packages (from packaging>=20.0->optuna) (3.0.8)\n",
            "Requirement already satisfied: importlib-metadata in /usr/local/lib/python3.7/dist-packages (from sqlalchemy>=1.1.0->optuna) (4.11.3)\n",
            "Requirement already satisfied: greenlet!=0.4.17 in /usr/local/lib/python3.7/dist-packages (from sqlalchemy>=1.1.0->optuna) (1.1.2)\n",
            "Collecting Mako\n",
            "  Downloading Mako-1.2.0-py3-none-any.whl (78 kB)\n",
            "\u001b[K     |████████████████████████████████| 78 kB 7.0 MB/s \n",
            "\u001b[?25hRequirement already satisfied: importlib-resources in /usr/local/lib/python3.7/dist-packages (from alembic->optuna) (5.7.1)\n",
            "Collecting cmd2>=1.0.0\n",
            "  Downloading cmd2-2.4.1-py3-none-any.whl (146 kB)\n",
            "\u001b[K     |████████████████████████████████| 146 kB 61.7 MB/s \n",
            "\u001b[?25hCollecting stevedore>=2.0.1\n",
            "  Downloading stevedore-3.5.0-py3-none-any.whl (49 kB)\n",
            "\u001b[K     |████████████████████████████████| 49 kB 5.2 MB/s \n",
            "\u001b[?25hCollecting pbr!=2.1.0,>=2.0.0\n",
            "  Downloading pbr-5.8.1-py2.py3-none-any.whl (113 kB)\n",
            "\u001b[K     |████████████████████████████████| 113 kB 65.7 MB/s \n",
            "\u001b[?25hRequirement already satisfied: PrettyTable>=0.7.2 in /usr/local/lib/python3.7/dist-packages (from cliff->optuna) (3.2.0)\n",
            "Collecting autopage>=0.4.0\n",
            "  Downloading autopage-0.5.0-py3-none-any.whl (29 kB)\n",
            "Requirement already satisfied: wcwidth>=0.1.7 in /usr/local/lib/python3.7/dist-packages (from cmd2>=1.0.0->cliff->optuna) (0.2.5)\n",
            "Requirement already satisfied: typing-extensions in /usr/local/lib/python3.7/dist-packages (from cmd2>=1.0.0->cliff->optuna) (4.2.0)\n",
            "Collecting pyperclip>=1.6\n",
            "  Downloading pyperclip-1.8.2.tar.gz (20 kB)\n",
            "Requirement already satisfied: attrs>=16.3.0 in /usr/local/lib/python3.7/dist-packages (from cmd2>=1.0.0->cliff->optuna) (21.4.0)\n",
            "Requirement already satisfied: zipp>=0.5 in /usr/local/lib/python3.7/dist-packages (from importlib-metadata->sqlalchemy>=1.1.0->optuna) (3.8.0)\n",
            "Requirement already satisfied: MarkupSafe>=0.9.2 in /usr/local/lib/python3.7/dist-packages (from Mako->alembic->optuna) (2.0.1)\n",
            "Building wheels for collected packages: pyperclip\n",
            "  Building wheel for pyperclip (setup.py) ... \u001b[?25l\u001b[?25hdone\n",
            "  Created wheel for pyperclip: filename=pyperclip-1.8.2-py3-none-any.whl size=11137 sha256=9a9359ce7393b289472e94f26f0eef3cf9df3f31143be0808cc1240d950cb806\n",
            "  Stored in directory: /root/.cache/pip/wheels/9f/18/84/8f69f8b08169c7bae2dde6bd7daf0c19fca8c8e500ee620a28\n",
            "Successfully built pyperclip\n",
            "Installing collected packages: pyperclip, pbr, stevedore, Mako, cmd2, autopage, colorlog, cmaes, cliff, alembic, optuna\n",
            "Successfully installed Mako-1.2.0 alembic-1.7.7 autopage-0.5.0 cliff-3.10.1 cmaes-0.8.2 cmd2-2.4.1 colorlog-6.6.0 optuna-2.10.0 pbr-5.8.1 pyperclip-1.8.2 stevedore-3.5.0\n"
          ]
        }
      ]
    },
    {
      "cell_type": "code",
      "source": [
        "from sklearn.neighbors import KNeighborsClassifier #KNN\n",
        "from sklearn.svm import SVC    #SVC\n",
        "from sklearn.linear_model import LogisticRegression  #LogisticRegression\n",
        "from sklearn.tree import DecisionTreeClassifier  #DecisionTree\n",
        "from sklearn.naive_bayes import GaussianNB   #가우시안\n",
        "from sklearn.ensemble import RandomForestClassifier #RandomForest\n",
        "from sklearn.ensemble import AdaBoostClassifier   #Adaboost   \n",
        "from xgboost import XGBClassifier   #XGBoost\n",
        "from lightgbm import LGBMClassifier  #Light GBM\n",
        "from catboost import CatBoostClassifier #Catboost\n",
        "from sklearn.ensemble import ExtraTreesClassifier #etc\n",
        "\n",
        "from sklearn.ensemble import VotingClassifier #voting \n",
        "from sklearn.ensemble import StackingClassifier # stacking\n",
        "\n",
        "import optuna\n",
        "from optuna import Trial,visualization\n",
        "from optuna.samplers import TPESampler\n",
        "\n",
        "from sklearn.model_selection import StratifiedKFold, KFold\n",
        "from sklearn.model_selection import GridSearchCV, RandomizedSearchCV\n",
        "from sklearn.model_selection import train_test_split, cross_validate\n",
        "from bayes_opt import BayesianOptimization\n",
        "import warnings\n",
        "warnings.filterwarnings('ignore')\n",
        "from sklearn.metrics import accuracy_score, precision_score, recall_score, f1_score"
      ],
      "metadata": {
        "id": "jG_tkGIpZ6FR"
      },
      "execution_count": null,
      "outputs": []
    },
    {
      "cell_type": "code",
      "source": [
        "def return_score(model):\n",
        "  average_accuracy = cross_validate(model,X_train,y_train, scoring=\"accuracy\", cv=10)['test_score'].mean()\n",
        "  print(model)\n",
        "  print(\"average_accuracy: \", average_accuracy)"
      ],
      "metadata": {
        "id": "IBHUKu_NZ-ZA"
      },
      "execution_count": null,
      "outputs": []
    },
    {
      "cell_type": "code",
      "source": [
        "knn = KNeighborsClassifier()\n",
        "svm = SVC()\n",
        "lr = LogisticRegression()\n",
        "dt = DecisionTreeClassifier()\n",
        "rf = RandomForestClassifier()\n",
        "ada = AdaBoostClassifier()\n",
        "xgb = XGBClassifier()\n",
        "lgbm = LGBMClassifier()\n",
        "etc= ExtraTreesClassifier()\n",
        "cat = CatBoostClassifier(silent=True)\n",
        "\n",
        "model_list = [knn,svm, lr,dt,rf,ada,xgb,lgbm,etc,cat]"
      ],
      "metadata": {
        "id": "kuKBTjDKaARW"
      },
      "execution_count": null,
      "outputs": []
    },
    {
      "cell_type": "code",
      "source": [
        "# RandomForest, XGBoost, LightGBM, ETC, Catboost등이 좋은 성능을 보여주었다.\n",
        "for model in model_list:\n",
        "  return_score(model)"
      ],
      "metadata": {
        "colab": {
          "base_uri": "https://localhost:8080/"
        },
        "id": "pIln4K2japLO",
        "outputId": "3f613568-8723-4425-ac96-5eaeb0a304d8"
      },
      "execution_count": null,
      "outputs": [
        {
          "output_type": "stream",
          "name": "stdout",
          "text": [
            "KNeighborsClassifier()\n",
            "average_accuracy:  0.567004145115733\n",
            "SVC()\n",
            "average_accuracy:  0.7215931183742343\n",
            "LogisticRegression()\n",
            "average_accuracy:  0.286093686952056\n",
            "DecisionTreeClassifier()\n",
            "average_accuracy:  0.5443105535380214\n",
            "RandomForestClassifier()\n",
            "average_accuracy:  0.7725523641832654\n",
            "AdaBoostClassifier()\n",
            "average_accuracy:  0.6423810571879243\n",
            "XGBClassifier()\n",
            "average_accuracy:  0.7755804996148343\n",
            "LGBMClassifier()\n",
            "average_accuracy:  0.8295330325373245\n",
            "ExtraTreesClassifier()\n",
            "average_accuracy:  0.8012783830380397\n",
            "<catboost.core.CatBoostClassifier object at 0x7fae406b3150>\n",
            "average_accuracy:  0.8346667400315468\n"
          ]
        }
      ]
    },
    {
      "cell_type": "markdown",
      "source": [
        "### 하이퍼파라미터 튜닝 (Oputna 사용)\n"
      ],
      "metadata": {
        "id": "otyqW1XNDSut"
      }
    },
    {
      "cell_type": "code",
      "source": [
        "skf = StratifiedKFold(n_splits=10, random_state=42, shuffle=True)"
      ],
      "metadata": {
        "id": "7xA09K6rPcpS"
      },
      "execution_count": null,
      "outputs": []
    },
    {
      "cell_type": "markdown",
      "source": [
        "#### knn"
      ],
      "metadata": {
        "id": "OLSIL_x9J2gF"
      }
    },
    {
      "cell_type": "code",
      "source": [
        "def objectiveKNN(trial:Trial) -> float:\n",
        "  score_list = []\n",
        "  params = {\n",
        "    'n_neighbors' : trial.suggest_int('n_neighbors', 5, 200),\n",
        "    'weights': trial.suggest_categorical('weights', ['distance', 'uniform'])}\n",
        "  for tr_idx, val_idx in skf.split(X_train, y_train):\n",
        "    X_tr, X_val = X_train.to_numpy()[tr_idx], X_train.to_numpy()[val_idx]\n",
        "    y_tr, y_val = y_train.to_numpy()[tr_idx], y_train.to_numpy()[val_idx]\n",
        "    knn = KNeighborsClassifier(**params)\n",
        "    knn = knn.fit(X_tr, y_tr)\n",
        "    score = accuracy_score(knn.predict(X_val), y_val)\n",
        "    score_list.append(score)\n",
        "  return np.mean(score_list)"
      ],
      "metadata": {
        "id": "z18kUTo0J1aW"
      },
      "execution_count": null,
      "outputs": []
    },
    {
      "cell_type": "code",
      "source": [
        "knn_study = optuna.create_study(\n",
        "    study_name = 'knn_test',\n",
        "    direction='maximize',\n",
        "    sampler = TPESampler(seed=42)\n",
        ")"
      ],
      "metadata": {
        "colab": {
          "base_uri": "https://localhost:8080/"
        },
        "id": "s1LzyGNZTDve",
        "outputId": "4c1e2fbb-6022-4c9a-cb6b-b1036b27d8db"
      },
      "execution_count": null,
      "outputs": [
        {
          "output_type": "stream",
          "name": "stderr",
          "text": [
            "\u001b[32m[I 2022-05-01 03:55:16,901]\u001b[0m A new study created in memory with name: knn_test\u001b[0m\n"
          ]
        }
      ]
    },
    {
      "cell_type": "code",
      "source": [
        "knn_study.optimize(objectiveKNN, n_trials=30)\n",
        "print(\"Best Score:\", knn_study.best_value)\n",
        "print(\"Best trial:\", knn_study.best_trial.params)"
      ],
      "metadata": {
        "colab": {
          "base_uri": "https://localhost:8080/"
        },
        "id": "7dGx2szLUwBE",
        "outputId": "34e875fa-c40e-4c5f-e204-6294213b920d"
      },
      "execution_count": null,
      "outputs": [
        {
          "output_type": "stream",
          "name": "stderr",
          "text": [
            "\u001b[32m[I 2022-05-01 03:55:17,114]\u001b[0m Trial 0 finished with value: 0.35503283078390374 and parameters: {'n_neighbors': 78, 'weights': 'distance'}. Best is trial 0 with value: 0.35503283078390374.\u001b[0m\n",
            "\u001b[32m[I 2022-05-01 03:55:17,335]\u001b[0m Trial 1 finished with value: 0.31048567550713474 and parameters: {'n_neighbors': 122, 'weights': 'distance'}. Best is trial 0 with value: 0.35503283078390374.\u001b[0m\n",
            "\u001b[32m[I 2022-05-01 03:55:17,500]\u001b[0m Trial 2 finished with value: 0.5045082718902462 and parameters: {'n_neighbors': 16, 'weights': 'distance'}. Best is trial 2 with value: 0.5045082718902462.\u001b[0m\n",
            "\u001b[32m[I 2022-05-01 03:55:17,806]\u001b[0m Trial 3 finished with value: 0.288213931990756 and parameters: {'n_neighbors': 143, 'weights': 'uniform'}. Best is trial 2 with value: 0.5045082718902462.\u001b[0m\n",
            "\u001b[32m[I 2022-05-01 03:55:18,070]\u001b[0m Trial 4 finished with value: 0.28393675947324015 and parameters: {'n_neighbors': 168, 'weights': 'distance'}. Best is trial 2 with value: 0.5045082718902462.\u001b[0m\n",
            "\u001b[32m[I 2022-05-01 03:55:18,349]\u001b[0m Trial 5 finished with value: 0.41370272550530063 and parameters: {'n_neighbors': 40, 'weights': 'uniform'}. Best is trial 2 with value: 0.5045082718902462.\u001b[0m\n",
            "\u001b[32m[I 2022-05-01 03:55:18,617]\u001b[0m Trial 6 finished with value: 0.33148270422948534 and parameters: {'n_neighbors': 89, 'weights': 'uniform'}. Best is trial 2 with value: 0.5045082718902462.\u001b[0m\n",
            "\u001b[32m[I 2022-05-01 03:55:18,872]\u001b[0m Trial 7 finished with value: 0.4338432192509446 and parameters: {'n_neighbors': 32, 'weights': 'uniform'}. Best is trial 2 with value: 0.5045082718902462.\u001b[0m\n",
            "\u001b[32m[I 2022-05-01 03:55:19,098]\u001b[0m Trial 8 finished with value: 0.3344851619529731 and parameters: {'n_neighbors': 94, 'weights': 'distance'}. Best is trial 2 with value: 0.5045082718902462.\u001b[0m\n",
            "\u001b[32m[I 2022-05-01 03:55:19,308]\u001b[0m Trial 9 finished with value: 0.322484501669051 and parameters: {'n_neighbors': 105, 'weights': 'distance'}. Best is trial 2 with value: 0.5045082718902462.\u001b[0m\n",
            "\u001b[32m[I 2022-05-01 03:55:19,467]\u001b[0m Trial 10 finished with value: 0.537900297127765 and parameters: {'n_neighbors': 9, 'weights': 'distance'}. Best is trial 10 with value: 0.537900297127765.\u001b[0m\n",
            "\u001b[32m[I 2022-05-01 03:55:19,623]\u001b[0m Trial 11 finished with value: 0.5678881919225267 and parameters: {'n_neighbors': 6, 'weights': 'distance'}. Best is trial 11 with value: 0.5678881919225267.\u001b[0m\n",
            "\u001b[32m[I 2022-05-01 03:55:19,776]\u001b[0m Trial 12 finished with value: 0.5507574923883938 and parameters: {'n_neighbors': 7, 'weights': 'distance'}. Best is trial 11 with value: 0.5678881919225267.\u001b[0m\n",
            "\u001b[32m[I 2022-05-01 03:55:19,965]\u001b[0m Trial 13 finished with value: 0.38758666226477384 and parameters: {'n_neighbors': 56, 'weights': 'distance'}. Best is trial 11 with value: 0.5678881919225267.\u001b[0m\n",
            "\u001b[32m[I 2022-05-01 03:55:20,159]\u001b[0m Trial 14 finished with value: 0.3790176442536958 and parameters: {'n_neighbors': 59, 'weights': 'distance'}. Best is trial 11 with value: 0.5678881919225267.\u001b[0m\n",
            "\u001b[32m[I 2022-05-01 03:55:20,414]\u001b[0m Trial 15 finished with value: 0.2719452697993471 and parameters: {'n_neighbors': 194, 'weights': 'distance'}. Best is trial 11 with value: 0.5678881919225267.\u001b[0m\n",
            "\u001b[32m[I 2022-05-01 03:55:20,569]\u001b[0m Trial 16 finished with value: 0.5507574923883938 and parameters: {'n_neighbors': 7, 'weights': 'distance'}. Best is trial 11 with value: 0.5678881919225267.\u001b[0m\n",
            "\u001b[32m[I 2022-05-01 03:55:20,735]\u001b[0m Trial 17 finished with value: 0.4402663145152415 and parameters: {'n_neighbors': 32, 'weights': 'distance'}. Best is trial 11 with value: 0.5678881919225267.\u001b[0m\n",
            "\u001b[32m[I 2022-05-01 03:55:20,988]\u001b[0m Trial 18 finished with value: 0.3781629433989949 and parameters: {'n_neighbors': 57, 'weights': 'uniform'}. Best is trial 11 with value: 0.5678881919225267.\u001b[0m\n",
            "\u001b[32m[I 2022-05-01 03:55:21,169]\u001b[0m Trial 19 finished with value: 0.4599647848574887 and parameters: {'n_neighbors': 27, 'weights': 'distance'}. Best is trial 11 with value: 0.5678881919225267.\u001b[0m\n",
            "\u001b[32m[I 2022-05-01 03:55:21,353]\u001b[0m Trial 20 finished with value: 0.3695957595099226 and parameters: {'n_neighbors': 66, 'weights': 'distance'}. Best is trial 11 with value: 0.5678881919225267.\u001b[0m\n",
            "\u001b[32m[I 2022-05-01 03:55:21,506]\u001b[0m Trial 21 finished with value: 0.5507574923883938 and parameters: {'n_neighbors': 7, 'weights': 'distance'}. Best is trial 11 with value: 0.5678881919225267.\u001b[0m\n",
            "\u001b[32m[I 2022-05-01 03:55:21,684]\u001b[0m Trial 22 finished with value: 0.40900370492645177 and parameters: {'n_neighbors': 45, 'weights': 'distance'}. Best is trial 11 with value: 0.5678881919225267.\u001b[0m\n",
            "\u001b[32m[I 2022-05-01 03:55:21,843]\u001b[0m Trial 23 finished with value: 0.5678881919225267 and parameters: {'n_neighbors': 6, 'weights': 'distance'}. Best is trial 11 with value: 0.5678881919225267.\u001b[0m\n",
            "\u001b[32m[I 2022-05-01 03:55:22,006]\u001b[0m Trial 24 finished with value: 0.47537691207219107 and parameters: {'n_neighbors': 21, 'weights': 'distance'}. Best is trial 11 with value: 0.5678881919225267.\u001b[0m\n",
            "\u001b[32m[I 2022-05-01 03:55:22,194]\u001b[0m Trial 25 finished with value: 0.4124243424672609 and parameters: {'n_neighbors': 43, 'weights': 'distance'}. Best is trial 11 with value: 0.5678881919225267.\u001b[0m\n",
            "\u001b[32m[I 2022-05-01 03:55:22,446]\u001b[0m Trial 26 finished with value: 0.4655258427790616 and parameters: {'n_neighbors': 23, 'weights': 'uniform'}. Best is trial 11 with value: 0.5678881919225267.\u001b[0m\n",
            "\u001b[32m[I 2022-05-01 03:55:22,638]\u001b[0m Trial 27 finished with value: 0.35803345438538575 and parameters: {'n_neighbors': 77, 'weights': 'distance'}. Best is trial 11 with value: 0.5678881919225267.\u001b[0m\n",
            "\u001b[32m[I 2022-05-01 03:55:22,848]\u001b[0m Trial 28 finished with value: 0.31391731777997867 and parameters: {'n_neighbors': 116, 'weights': 'distance'}. Best is trial 11 with value: 0.5678881919225267.\u001b[0m\n",
            "\u001b[32m[I 2022-05-01 03:55:23,014]\u001b[0m Trial 29 finished with value: 0.4890833058215033 and parameters: {'n_neighbors': 19, 'weights': 'distance'}. Best is trial 11 with value: 0.5678881919225267.\u001b[0m\n"
          ]
        },
        {
          "output_type": "stream",
          "name": "stdout",
          "text": [
            "Best Score: 0.5678881919225267\n",
            "Best trial: {'n_neighbors': 6, 'weights': 'distance'}\n"
          ]
        }
      ]
    },
    {
      "cell_type": "markdown",
      "source": [
        "#### svm"
      ],
      "metadata": {
        "id": "KzoX7hhaVrr6"
      }
    },
    {
      "cell_type": "code",
      "source": [
        "def objectiveSVM(trial:Trial) -> float:\n",
        "  score_list = []\n",
        "  params = {\n",
        "    'random_state':42,\n",
        "    'C' : trial.suggest_categorical('C', [0.001,0.01,0.1,1,10,100]),\n",
        "    'kernel': trial.suggest_categorical('kernel', ['linear', 'rbf'])}\n",
        "  for tr_idx, val_idx in skf.split(X_train, y_train):\n",
        "    X_tr, X_val = X_train.to_numpy()[tr_idx], X_train.to_numpy()[val_idx]\n",
        "    y_tr, y_val = y_train.to_numpy()[tr_idx], y_train.to_numpy()[val_idx]\n",
        "    svc = SVC(**params)\n",
        "    svc = svc.fit(X_tr, y_tr)\n",
        "    score = accuracy_score(svc.predict(X_val), y_val)\n",
        "    score_list.append(score)\n",
        "  return np.mean(score_list)"
      ],
      "metadata": {
        "id": "bJ7eiIcDVrT9"
      },
      "execution_count": null,
      "outputs": []
    },
    {
      "cell_type": "code",
      "source": [
        "svm_study = optuna.create_study(\n",
        "    study_name = 'svm_test',\n",
        "    direction='maximize',\n",
        "    sampler = TPESampler(seed=42)\n",
        ")"
      ],
      "metadata": {
        "colab": {
          "base_uri": "https://localhost:8080/"
        },
        "outputId": "130cdf37-7d98-4578-e82f-65e51049f2fd",
        "id": "LhaIHNaTWwv4"
      },
      "execution_count": null,
      "outputs": [
        {
          "output_type": "stream",
          "name": "stderr",
          "text": [
            "\u001b[32m[I 2022-05-01 03:57:17,431]\u001b[0m A new study created in memory with name: svm_test\u001b[0m\n"
          ]
        }
      ]
    },
    {
      "cell_type": "code",
      "source": [
        "svm_study.optimize(objectiveSVM, n_trials=10)\n",
        "print(\"Best Score:\", svm_study.best_value)\n",
        "print(\"Best trial:\", svm_study.best_trial.params)"
      ],
      "metadata": {
        "colab": {
          "base_uri": "https://localhost:8080/"
        },
        "outputId": "9d170d2a-bc75-4694-ddcf-18b6ac9d4b4d",
        "id": "PPPcyDFKWwv5"
      },
      "execution_count": null,
      "outputs": [
        {
          "output_type": "stream",
          "name": "stderr",
          "text": [
            "\u001b[32m[I 2022-05-01 03:57:25,398]\u001b[0m Trial 0 finished with value: 0.25653130846263894 and parameters: {'C': 0.01, 'kernel': 'rbf'}. Best is trial 0 with value: 0.25653130846263894.\u001b[0m\n",
            "\u001b[32m[I 2022-05-01 03:57:28,438]\u001b[0m Trial 1 finished with value: 0.7173544624188402 and parameters: {'C': 1, 'kernel': 'rbf'}. Best is trial 1 with value: 0.7173544624188402.\u001b[0m\n",
            "\u001b[32m[I 2022-05-01 03:57:31,185]\u001b[0m Trial 2 finished with value: 0.793576904735703 and parameters: {'C': 10, 'kernel': 'rbf'}. Best is trial 2 with value: 0.793576904735703.\u001b[0m\n",
            "\u001b[32m[I 2022-05-01 03:57:33,317]\u001b[0m Trial 3 finished with value: 0.25653130846263894 and parameters: {'C': 0.01, 'kernel': 'linear'}. Best is trial 2 with value: 0.793576904735703.\u001b[0m\n",
            "\u001b[32m[I 2022-05-01 03:57:35,636]\u001b[0m Trial 4 finished with value: 0.25396353765452473 and parameters: {'C': 0.1, 'kernel': 'linear'}. Best is trial 2 with value: 0.793576904735703.\u001b[0m\n",
            "\u001b[32m[I 2022-05-01 03:57:38,686]\u001b[0m Trial 5 finished with value: 0.7173544624188402 and parameters: {'C': 1, 'kernel': 'rbf'}. Best is trial 2 with value: 0.793576904735703.\u001b[0m\n",
            "\u001b[32m[I 2022-05-01 03:57:42,450]\u001b[0m Trial 6 finished with value: 0.5087982832618027 and parameters: {'C': 0.1, 'kernel': 'rbf'}. Best is trial 2 with value: 0.793576904735703.\u001b[0m\n",
            "\u001b[32m[I 2022-05-01 03:57:45,039]\u001b[0m Trial 7 finished with value: 0.3122244231686292 and parameters: {'C': 10, 'kernel': 'linear'}. Best is trial 2 with value: 0.793576904735703.\u001b[0m\n",
            "\u001b[32m[I 2022-05-01 03:57:51,647]\u001b[0m Trial 8 finished with value: 0.3083690987124464 and parameters: {'C': 100, 'kernel': 'linear'}. Best is trial 2 with value: 0.793576904735703.\u001b[0m\n",
            "\u001b[32m[I 2022-05-01 03:57:53,738]\u001b[0m Trial 9 finished with value: 0.25653130846263894 and parameters: {'C': 0.01, 'kernel': 'linear'}. Best is trial 2 with value: 0.793576904735703.\u001b[0m\n"
          ]
        },
        {
          "output_type": "stream",
          "name": "stdout",
          "text": [
            "Best Score: 0.793576904735703\n",
            "Best trial: {'C': 10, 'kernel': 'rbf'}\n"
          ]
        }
      ]
    },
    {
      "cell_type": "markdown",
      "source": [
        "#### 로지스틱 회귀"
      ],
      "metadata": {
        "id": "KCmbz0QBXMPx"
      }
    },
    {
      "cell_type": "code",
      "source": [
        "def objectivelr(trial:Trial) -> float:\n",
        "  score_list = []\n",
        "  params = {\n",
        "    'random_state':42,\n",
        "    'C' : trial.suggest_categorical('C', [0.001,0.01,0.1,1,5,10]),\n",
        "    'penalty': 'l2'}\n",
        "  for tr_idx, val_idx in skf.split(X_train, y_train):\n",
        "    X_tr, X_val = X_train.to_numpy()[tr_idx], X_train.to_numpy()[val_idx]\n",
        "    y_tr, y_val = y_train.to_numpy()[tr_idx], y_train.to_numpy()[val_idx]\n",
        "    lr = LogisticRegression(**params)\n",
        "    lr = lr.fit(X_tr, y_tr)\n",
        "    score = accuracy_score(lr.predict(X_val), y_val)\n",
        "    score_list.append(score)\n",
        "  return np.mean(score_list)"
      ],
      "metadata": {
        "id": "k4s8fUPPXQX8"
      },
      "execution_count": null,
      "outputs": []
    },
    {
      "cell_type": "code",
      "source": [
        "lr_study = optuna.create_study(\n",
        "    study_name = 'lr_test',\n",
        "    direction='maximize',\n",
        "    sampler = TPESampler(seed=42)\n",
        ")"
      ],
      "metadata": {
        "colab": {
          "base_uri": "https://localhost:8080/"
        },
        "outputId": "7f2f2335-fd3c-43a4-fa48-81cdc2d66cb0",
        "id": "UNvU1cIEXQX9"
      },
      "execution_count": null,
      "outputs": [
        {
          "output_type": "stream",
          "name": "stderr",
          "text": [
            "\u001b[32m[I 2022-05-01 03:57:53,769]\u001b[0m A new study created in memory with name: lr_test\u001b[0m\n"
          ]
        }
      ]
    },
    {
      "cell_type": "code",
      "source": [
        "lr_study.optimize(objectivelr, n_trials=10)\n",
        "print(\"Best Score:\", lr_study.best_value)\n",
        "print(\"Best trial:\", lr_study.best_trial.params)"
      ],
      "metadata": {
        "colab": {
          "base_uri": "https://localhost:8080/"
        },
        "outputId": "4b2b6b7a-3868-4bf1-a685-72f9311fb85f",
        "id": "jn4cBnIZXQX-"
      },
      "execution_count": null,
      "outputs": [
        {
          "output_type": "stream",
          "name": "stderr",
          "text": [
            "\u001b[32m[I 2022-05-01 03:57:54,318]\u001b[0m Trial 0 finished with value: 0.26939584021129087 and parameters: {'C': 0.01}. Best is trial 0 with value: 0.26939584021129087.\u001b[0m\n",
            "\u001b[32m[I 2022-05-01 03:57:56,412]\u001b[0m Trial 1 finished with value: 0.30365723927955685 and parameters: {'C': 10}. Best is trial 1 with value: 0.30365723927955685.\u001b[0m\n",
            "\u001b[32m[I 2022-05-01 03:57:56,744]\u001b[0m Trial 2 finished with value: 0.2548200726312314 and parameters: {'C': 0.001}. Best is trial 1 with value: 0.30365723927955685.\u001b[0m\n",
            "\u001b[32m[I 2022-05-01 03:57:58,076]\u001b[0m Trial 3 finished with value: 0.2770973185136275 and parameters: {'C': 0.1}. Best is trial 1 with value: 0.30365723927955685.\u001b[0m\n",
            "\u001b[32m[I 2022-05-01 03:57:58,646]\u001b[0m Trial 4 finished with value: 0.26939584021129087 and parameters: {'C': 0.01}. Best is trial 1 with value: 0.30365723927955685.\u001b[0m\n",
            "\u001b[32m[I 2022-05-01 03:58:00,691]\u001b[0m Trial 5 finished with value: 0.3053684751109643 and parameters: {'C': 5}. Best is trial 5 with value: 0.3053684751109643.\u001b[0m\n",
            "\u001b[32m[I 2022-05-01 03:58:02,015]\u001b[0m Trial 6 finished with value: 0.2770973185136275 and parameters: {'C': 0.1}. Best is trial 5 with value: 0.3053684751109643.\u001b[0m\n",
            "\u001b[32m[I 2022-05-01 03:58:02,556]\u001b[0m Trial 7 finished with value: 0.26939584021129087 and parameters: {'C': 0.01}. Best is trial 5 with value: 0.3053684751109643.\u001b[0m\n",
            "\u001b[32m[I 2022-05-01 03:58:03,872]\u001b[0m Trial 8 finished with value: 0.2770973185136275 and parameters: {'C': 0.1}. Best is trial 5 with value: 0.3053684751109643.\u001b[0m\n",
            "\u001b[32m[I 2022-05-01 03:58:04,420]\u001b[0m Trial 9 finished with value: 0.26939584021129087 and parameters: {'C': 0.01}. Best is trial 5 with value: 0.3053684751109643.\u001b[0m\n"
          ]
        },
        {
          "output_type": "stream",
          "name": "stdout",
          "text": [
            "Best Score: 0.3053684751109643\n",
            "Best trial: {'C': 5}\n"
          ]
        }
      ]
    },
    {
      "cell_type": "markdown",
      "source": [
        "#### 의사결정나무"
      ],
      "metadata": {
        "id": "CQVx6wcBYQgX"
      }
    },
    {
      "cell_type": "code",
      "source": [
        "def objectiveDT(trial:Trial) -> float:\n",
        "  score_list = []\n",
        "  params = {\n",
        "    'random_state':42,\n",
        "    'max_depth' : int(trial.suggest_discrete_uniform('max_depth',2, 20,2)),\n",
        "    'min_samples_leaf': int(trial.suggest_discrete_uniform('min_samples_leaf',2,50,1)),\n",
        "    'min_samples_split': int(trial.suggest_discrete_uniform('min_samples_split',2,30,1))}\n",
        "  for tr_idx, val_idx in skf.split(X_train, y_train):\n",
        "    X_tr, X_val = X_train.to_numpy()[tr_idx], X_train.to_numpy()[val_idx]\n",
        "    y_tr, y_val = y_train.to_numpy()[tr_idx], y_train.to_numpy()[val_idx]\n",
        "    dt = DecisionTreeClassifier(**params)\n",
        "    dt = dt.fit(X_tr, y_tr)\n",
        "    score = accuracy_score(dt.predict(X_val), y_val)\n",
        "    score_list.append(score)\n",
        "  return np.mean(score_list)"
      ],
      "metadata": {
        "id": "fMXhQJfZYb1i"
      },
      "execution_count": null,
      "outputs": []
    },
    {
      "cell_type": "code",
      "source": [
        "dt_study = optuna.create_study(\n",
        "    study_name = 'DT_test',\n",
        "    direction='maximize',\n",
        "    sampler = TPESampler(seed=42)\n",
        ")"
      ],
      "metadata": {
        "colab": {
          "base_uri": "https://localhost:8080/"
        },
        "outputId": "e5786c5b-fc57-4f7d-b114-5fd6c1398eec",
        "id": "EKtcHRimYb1j"
      },
      "execution_count": null,
      "outputs": [
        {
          "output_type": "stream",
          "name": "stderr",
          "text": [
            "\u001b[32m[I 2022-05-01 03:58:32,399]\u001b[0m A new study created in memory with name: DT_test\u001b[0m\n"
          ]
        }
      ]
    },
    {
      "cell_type": "code",
      "source": [
        "dt_study.optimize(objectiveDT, n_trials=100)\n",
        "print(\"Best Score:\", dt_study.best_value)\n",
        "print(\"Best trial:\", dt_study.best_trial.params)"
      ],
      "metadata": {
        "colab": {
          "base_uri": "https://localhost:8080/"
        },
        "outputId": "8e4a7832-4b70-4a57-b991-dea142368837",
        "id": "Dk8kX_ZHYb1k"
      },
      "execution_count": null,
      "outputs": [
        {
          "output_type": "stream",
          "name": "stderr",
          "text": [
            "\u001b[32m[I 2022-05-01 03:58:35,017]\u001b[0m Trial 0 finished with value: 0.4770918161476101 and parameters: {'max_depth': 8.0, 'min_samples_leaf': 48.0, 'min_samples_split': 23.0}. Best is trial 0 with value: 0.4770918161476101.\u001b[0m\n",
            "\u001b[32m[I 2022-05-01 03:58:35,830]\u001b[0m Trial 1 finished with value: 0.5122152525586001 and parameters: {'max_depth': 12.0, 'min_samples_leaf': 9.0, 'min_samples_split': 6.0}. Best is trial 1 with value: 0.5122152525586001.\u001b[0m\n",
            "\u001b[32m[I 2022-05-01 03:58:36,022]\u001b[0m Trial 2 finished with value: 0.3820182678551778 and parameters: {'max_depth': 2.0, 'min_samples_leaf': 44.0, 'min_samples_split': 19.0}. Best is trial 1 with value: 0.5122152525586001.\u001b[0m\n",
            "\u001b[32m[I 2022-05-01 03:58:36,987]\u001b[0m Trial 3 finished with value: 0.5409119254612818 and parameters: {'max_depth': 16.0, 'min_samples_leaf': 3.0, 'min_samples_split': 30.0}. Best is trial 3 with value: 0.5409119254612818.\u001b[0m\n",
            "\u001b[32m[I 2022-05-01 03:58:37,928]\u001b[0m Trial 4 finished with value: 0.5610524192069256 and parameters: {'max_depth': 18.0, 'min_samples_leaf': 12.0, 'min_samples_split': 7.0}. Best is trial 4 with value: 0.5610524192069256.\u001b[0m\n",
            "\u001b[32m[I 2022-05-01 03:58:38,273]\u001b[0m Trial 5 finished with value: 0.4424049007739995 and parameters: {'max_depth': 4.0, 'min_samples_leaf': 16.0, 'min_samples_split': 17.0}. Best is trial 4 with value: 0.5610524192069256.\u001b[0m\n",
            "\u001b[32m[I 2022-05-01 03:58:38,959]\u001b[0m Trial 6 finished with value: 0.4963776090385532 and parameters: {'max_depth': 10.0, 'min_samples_leaf': 16.0, 'min_samples_split': 19.0}. Best is trial 4 with value: 0.5610524192069256.\u001b[0m\n",
            "\u001b[32m[I 2022-05-01 03:58:39,300]\u001b[0m Trial 7 finished with value: 0.4424049007739995 and parameters: {'max_depth': 4.0, 'min_samples_leaf': 16.0, 'min_samples_split': 12.0}. Best is trial 4 with value: 0.5610524192069256.\u001b[0m\n",
            "\u001b[32m[I 2022-05-01 03:58:39,908]\u001b[0m Trial 8 finished with value: 0.4843842852426543 and parameters: {'max_depth': 10.0, 'min_samples_leaf': 40.0, 'min_samples_split': 7.0}. Best is trial 4 with value: 0.5610524192069256.\u001b[0m\n",
            "\u001b[32m[I 2022-05-01 03:58:40,742]\u001b[0m Trial 9 finished with value: 0.5091962877370603 and parameters: {'max_depth': 12.0, 'min_samples_leaf': 31.0, 'min_samples_split': 3.0}. Best is trial 4 with value: 0.5610524192069256.\u001b[0m\n",
            "\u001b[32m[I 2022-05-01 03:58:41,997]\u001b[0m Trial 10 finished with value: 0.5559077069806684 and parameters: {'max_depth': 20.0, 'min_samples_leaf': 27.0, 'min_samples_split': 11.0}. Best is trial 4 with value: 0.5610524192069256.\u001b[0m\n",
            "\u001b[32m[I 2022-05-01 03:58:43,783]\u001b[0m Trial 11 finished with value: 0.5571732511646675 and parameters: {'max_depth': 20.0, 'min_samples_leaf': 29.0, 'min_samples_split': 11.0}. Best is trial 4 with value: 0.5610524192069256.\u001b[0m\n",
            "\u001b[32m[I 2022-05-01 03:58:44,949]\u001b[0m Trial 12 finished with value: 0.5473405230915961 and parameters: {'max_depth': 20.0, 'min_samples_leaf': 34.0, 'min_samples_split': 11.0}. Best is trial 4 with value: 0.5610524192069256.\u001b[0m\n",
            "\u001b[32m[I 2022-05-01 03:58:46,129]\u001b[0m Trial 13 finished with value: 0.5520688896225376 and parameters: {'max_depth': 16.0, 'min_samples_leaf': 19.0, 'min_samples_split': 2.0}. Best is trial 4 with value: 0.5610524192069256.\u001b[0m\n",
            "\u001b[32m[I 2022-05-01 03:58:47,382]\u001b[0m Trial 14 finished with value: 0.5516415391951872 and parameters: {'max_depth': 16.0, 'min_samples_leaf': 23.0, 'min_samples_split': 8.0}. Best is trial 4 with value: 0.5610524192069256.\u001b[0m\n",
            "\u001b[32m[I 2022-05-01 03:58:48,407]\u001b[0m Trial 15 finished with value: 0.5584571365687245 and parameters: {'max_depth': 18.0, 'min_samples_leaf': 7.0, 'min_samples_split': 13.0}. Best is trial 4 with value: 0.5610524192069256.\u001b[0m\n",
            "\u001b[32m[I 2022-05-01 03:58:49,385]\u001b[0m Trial 16 finished with value: 0.5396262059352189 and parameters: {'max_depth': 16.0, 'min_samples_leaf': 2.0, 'min_samples_split': 15.0}. Best is trial 4 with value: 0.5610524192069256.\u001b[0m\n",
            "\u001b[32m[I 2022-05-01 03:58:50,338]\u001b[0m Trial 17 finished with value: 0.5631891713436779 and parameters: {'max_depth': 18.0, 'min_samples_leaf': 9.0, 'min_samples_split': 24.0}. Best is trial 17 with value: 0.5631891713436779.\u001b[0m\n",
            "\u001b[32m[I 2022-05-01 03:58:51,208]\u001b[0m Trial 18 finished with value: 0.5460437988334984 and parameters: {'max_depth': 14.0, 'min_samples_leaf': 10.0, 'min_samples_split': 25.0}. Best is trial 17 with value: 0.5631891713436779.\u001b[0m\n",
            "\u001b[32m[I 2022-05-01 03:58:52,150]\u001b[0m Trial 19 finished with value: 0.561057921572943 and parameters: {'max_depth': 18.0, 'min_samples_leaf': 12.0, 'min_samples_split': 29.0}. Best is trial 17 with value: 0.5631891713436779.\u001b[0m\n",
            "\u001b[32m[I 2022-05-01 03:58:52,943]\u001b[0m Trial 20 finished with value: 0.5409284325593339 and parameters: {'max_depth': 14.0, 'min_samples_leaf': 22.0, 'min_samples_split': 29.0}. Best is trial 17 with value: 0.5631891713436779.\u001b[0m\n",
            "\u001b[32m[I 2022-05-01 03:58:53,910]\u001b[0m Trial 21 finished with value: 0.5631855030996662 and parameters: {'max_depth': 18.0, 'min_samples_leaf': 11.0, 'min_samples_split': 27.0}. Best is trial 17 with value: 0.5631891713436779.\u001b[0m\n",
            "\u001b[32m[I 2022-05-01 03:58:54,909]\u001b[0m Trial 22 finished with value: 0.5648912365650564 and parameters: {'max_depth': 18.0, 'min_samples_leaf': 6.0, 'min_samples_split': 26.0}. Best is trial 22 with value: 0.5648912365650564.\u001b[0m\n",
            "\u001b[32m[I 2022-05-01 03:58:55,817]\u001b[0m Trial 23 finished with value: 0.5434760280253842 and parameters: {'max_depth': 14.0, 'min_samples_leaf': 6.0, 'min_samples_split': 24.0}. Best is trial 22 with value: 0.5648912365650564.\u001b[0m\n",
            "\u001b[32m[I 2022-05-01 03:58:56,831]\u001b[0m Trial 24 finished with value: 0.5520450460364624 and parameters: {'max_depth': 18.0, 'min_samples_leaf': 5.0, 'min_samples_split': 22.0}. Best is trial 22 with value: 0.5648912365650564.\u001b[0m\n",
            "\u001b[32m[I 2022-05-01 03:58:57,865]\u001b[0m Trial 25 finished with value: 0.5803217049998166 and parameters: {'max_depth': 20.0, 'min_samples_leaf': 13.0, 'min_samples_split': 26.0}. Best is trial 25 with value: 0.5803217049998166.\u001b[0m\n",
            "\u001b[32m[I 2022-05-01 03:58:58,851]\u001b[0m Trial 26 finished with value: 0.565766112761821 and parameters: {'max_depth': 20.0, 'min_samples_leaf': 15.0, 'min_samples_split': 26.0}. Best is trial 25 with value: 0.5803217049998166.\u001b[0m\n",
            "\u001b[32m[I 2022-05-01 03:58:59,790]\u001b[0m Trial 27 finished with value: 0.5683503906679872 and parameters: {'max_depth': 20.0, 'min_samples_leaf': 20.0, 'min_samples_split': 27.0}. Best is trial 25 with value: 0.5803217049998166.\u001b[0m\n",
            "\u001b[32m[I 2022-05-01 03:59:00,725]\u001b[0m Trial 28 finished with value: 0.5645042368218334 and parameters: {'max_depth': 20.0, 'min_samples_leaf': 21.0, 'min_samples_split': 22.0}. Best is trial 25 with value: 0.5803217049998166.\u001b[0m\n",
            "\u001b[32m[I 2022-05-01 03:59:01,644]\u001b[0m Trial 29 finished with value: 0.5640677157844539 and parameters: {'max_depth': 20.0, 'min_samples_leaf': 25.0, 'min_samples_split': 27.0}. Best is trial 25 with value: 0.5803217049998166.\u001b[0m\n",
            "\u001b[32m[I 2022-05-01 03:59:02,239]\u001b[0m Trial 30 finished with value: 0.4882432779428488 and parameters: {'max_depth': 8.0, 'min_samples_leaf': 18.0, 'min_samples_split': 21.0}. Best is trial 25 with value: 0.5803217049998166.\u001b[0m\n",
            "\u001b[32m[I 2022-05-01 03:59:03,218]\u001b[0m Trial 31 finished with value: 0.5687649022412972 and parameters: {'max_depth': 20.0, 'min_samples_leaf': 14.0, 'min_samples_split': 27.0}. Best is trial 25 with value: 0.5803217049998166.\u001b[0m\n",
            "\u001b[32m[I 2022-05-01 03:59:04,195]\u001b[0m Trial 32 finished with value: 0.5687649022412972 and parameters: {'max_depth': 20.0, 'min_samples_leaf': 14.0, 'min_samples_split': 27.0}. Best is trial 25 with value: 0.5803217049998166.\u001b[0m\n",
            "\u001b[32m[I 2022-05-01 03:59:05,171]\u001b[0m Trial 33 finished with value: 0.5687649022412972 and parameters: {'max_depth': 20.0, 'min_samples_leaf': 14.0, 'min_samples_split': 28.0}. Best is trial 25 with value: 0.5803217049998166.\u001b[0m\n",
            "\u001b[32m[I 2022-05-01 03:59:06,062]\u001b[0m Trial 34 finished with value: 0.5486299108616706 and parameters: {'max_depth': 16.0, 'min_samples_leaf': 14.0, 'min_samples_split': 30.0}. Best is trial 25 with value: 0.5803217049998166.\u001b[0m\n",
            "\u001b[32m[I 2022-05-01 03:59:07,050]\u001b[0m Trial 35 finished with value: 0.579896188694472 and parameters: {'max_depth': 20.0, 'min_samples_leaf': 13.0, 'min_samples_split': 28.0}. Best is trial 25 with value: 0.5803217049998166.\u001b[0m\n",
            "\u001b[32m[I 2022-05-01 03:59:08,034]\u001b[0m Trial 36 finished with value: 0.5421976449873446 and parameters: {'max_depth': 16.0, 'min_samples_leaf': 9.0, 'min_samples_split': 20.0}. Best is trial 25 with value: 0.5803217049998166.\u001b[0m\n",
            "\u001b[32m[I 2022-05-01 03:59:09,051]\u001b[0m Trial 37 finished with value: 0.5657789516158616 and parameters: {'max_depth': 18.0, 'min_samples_leaf': 18.0, 'min_samples_split': 29.0}. Best is trial 25 with value: 0.5803217049998166.\u001b[0m\n",
            "\u001b[32m[I 2022-05-01 03:59:09,320]\u001b[0m Trial 38 finished with value: 0.38587175818935476 and parameters: {'max_depth': 2.0, 'min_samples_leaf': 12.0, 'min_samples_split': 23.0}. Best is trial 25 with value: 0.5803217049998166.\u001b[0m\n",
            "\u001b[32m[I 2022-05-01 03:59:09,901]\u001b[0m Trial 39 finished with value: 0.4573878434393456 and parameters: {'max_depth': 6.0, 'min_samples_leaf': 47.0, 'min_samples_split': 30.0}. Best is trial 25 with value: 0.5803217049998166.\u001b[0m\n",
            "\u001b[32m[I 2022-05-01 03:59:10,707]\u001b[0m Trial 40 finished with value: 0.5074850519056527 and parameters: {'max_depth': 12.0, 'min_samples_leaf': 34.0, 'min_samples_split': 28.0}. Best is trial 25 with value: 0.5803217049998166.\u001b[0m\n",
            "\u001b[32m[I 2022-05-01 03:59:12,117]\u001b[0m Trial 41 finished with value: 0.5687649022412972 and parameters: {'max_depth': 20.0, 'min_samples_leaf': 14.0, 'min_samples_split': 25.0}. Best is trial 25 with value: 0.5803217049998166.\u001b[0m\n",
            "\u001b[32m[I 2022-05-01 03:59:13,431]\u001b[0m Trial 42 finished with value: 0.5803217049998166 and parameters: {'max_depth': 20.0, 'min_samples_leaf': 13.0, 'min_samples_split': 25.0}. Best is trial 25 with value: 0.5803217049998166.\u001b[0m\n",
            "\u001b[32m[I 2022-05-01 03:59:15,967]\u001b[0m Trial 43 finished with value: 0.5640603792964308 and parameters: {'max_depth': 18.0, 'min_samples_leaf': 17.0, 'min_samples_split': 17.0}. Best is trial 25 with value: 0.5803217049998166.\u001b[0m\n",
            "\u001b[32m[I 2022-05-01 03:59:18,090]\u001b[0m Trial 44 finished with value: 0.565324089358424 and parameters: {'max_depth': 20.0, 'min_samples_leaf': 4.0, 'min_samples_split': 24.0}. Best is trial 25 with value: 0.5803217049998166.\u001b[0m\n",
            "\u001b[32m[I 2022-05-01 03:59:19,855]\u001b[0m Trial 45 finished with value: 0.5713418436594403 and parameters: {'max_depth': 20.0, 'min_samples_leaf': 24.0, 'min_samples_split': 25.0}. Best is trial 25 with value: 0.5803217049998166.\u001b[0m\n",
            "\u001b[32m[I 2022-05-01 03:59:20,822]\u001b[0m Trial 46 finished with value: 0.5610762627930009 and parameters: {'max_depth': 18.0, 'min_samples_leaf': 25.0, 'min_samples_split': 19.0}. Best is trial 25 with value: 0.5803217049998166.\u001b[0m\n",
            "\u001b[32m[I 2022-05-01 03:59:21,770]\u001b[0m Trial 47 finished with value: 0.5396738931073695 and parameters: {'max_depth': 20.0, 'min_samples_leaf': 41.0, 'min_samples_split': 25.0}. Best is trial 25 with value: 0.5803217049998166.\u001b[0m\n",
            "\u001b[32m[I 2022-05-01 03:59:22,699]\u001b[0m Trial 48 finished with value: 0.5481732144822274 and parameters: {'max_depth': 16.0, 'min_samples_leaf': 32.0, 'min_samples_split': 23.0}. Best is trial 25 with value: 0.5803217049998166.\u001b[0m\n",
            "\u001b[32m[I 2022-05-01 03:59:23,851]\u001b[0m Trial 49 finished with value: 0.5533234290745022 and parameters: {'max_depth': 18.0, 'min_samples_leaf': 28.0, 'min_samples_split': 21.0}. Best is trial 25 with value: 0.5803217049998166.\u001b[0m\n",
            "\u001b[32m[I 2022-05-01 03:59:25,168]\u001b[0m Trial 50 finished with value: 0.5469040020542166 and parameters: {'max_depth': 14.0, 'min_samples_leaf': 7.0, 'min_samples_split': 26.0}. Best is trial 25 with value: 0.5803217049998166.\u001b[0m\n",
            "\u001b[32m[I 2022-05-01 03:59:26,508]\u001b[0m Trial 51 finished with value: 0.570481640438722 and parameters: {'max_depth': 20.0, 'min_samples_leaf': 16.0, 'min_samples_split': 28.0}. Best is trial 25 with value: 0.5803217049998166.\u001b[0m\n",
            "\u001b[32m[I 2022-05-01 03:59:28,110]\u001b[0m Trial 52 finished with value: 0.5734969370162504 and parameters: {'max_depth': 20.0, 'min_samples_leaf': 23.0, 'min_samples_split': 28.0}. Best is trial 25 with value: 0.5803217049998166.\u001b[0m\n",
            "\u001b[32m[I 2022-05-01 03:59:29,023]\u001b[0m Trial 53 finished with value: 0.5734969370162504 and parameters: {'max_depth': 20.0, 'min_samples_leaf': 23.0, 'min_samples_split': 29.0}. Best is trial 25 with value: 0.5803217049998166.\u001b[0m\n",
            "\u001b[32m[I 2022-05-01 03:59:29,916]\u001b[0m Trial 54 finished with value: 0.5700781335974469 and parameters: {'max_depth': 18.0, 'min_samples_leaf': 23.0, 'min_samples_split': 29.0}. Best is trial 25 with value: 0.5803217049998166.\u001b[0m\n",
            "\u001b[32m[I 2022-05-01 03:59:30,819]\u001b[0m Trial 55 finished with value: 0.5640677157844539 and parameters: {'max_depth': 20.0, 'min_samples_leaf': 25.0, 'min_samples_split': 30.0}. Best is trial 25 with value: 0.5803217049998166.\u001b[0m\n",
            "\u001b[32m[I 2022-05-01 03:59:31,678]\u001b[0m Trial 56 finished with value: 0.5490370859469571 and parameters: {'max_depth': 18.0, 'min_samples_leaf': 30.0, 'min_samples_split': 25.0}. Best is trial 25 with value: 0.5803217049998166.\u001b[0m\n",
            "\u001b[32m[I 2022-05-01 03:59:32,570]\u001b[0m Trial 57 finished with value: 0.5430725211841092 and parameters: {'max_depth': 20.0, 'min_samples_leaf': 36.0, 'min_samples_split': 28.0}. Best is trial 25 with value: 0.5803217049998166.\u001b[0m\n",
            "\u001b[32m[I 2022-05-01 03:59:33,636]\u001b[0m Trial 58 finished with value: 0.546487656358901 and parameters: {'max_depth': 16.0, 'min_samples_leaf': 27.0, 'min_samples_split': 26.0}. Best is trial 25 with value: 0.5803217049998166.\u001b[0m\n",
            "\u001b[32m[I 2022-05-01 03:59:34,394]\u001b[0m Trial 59 finished with value: 0.5032335570962181 and parameters: {'max_depth': 10.0, 'min_samples_leaf': 23.0, 'min_samples_split': 24.0}. Best is trial 25 with value: 0.5803217049998166.\u001b[0m\n",
            "\u001b[32m[I 2022-05-01 03:59:35,816]\u001b[0m Trial 60 finished with value: 0.5572191042148125 and parameters: {'max_depth': 18.0, 'min_samples_leaf': 21.0, 'min_samples_split': 9.0}. Best is trial 25 with value: 0.5803217049998166.\u001b[0m\n",
            "\u001b[32m[I 2022-05-01 03:59:37,173]\u001b[0m Trial 61 finished with value: 0.5735006052602619 and parameters: {'max_depth': 20.0, 'min_samples_leaf': 19.0, 'min_samples_split': 28.0}. Best is trial 25 with value: 0.5803217049998166.\u001b[0m\n",
            "\u001b[32m[I 2022-05-01 03:59:38,513]\u001b[0m Trial 62 finished with value: 0.5735006052602619 and parameters: {'max_depth': 20.0, 'min_samples_leaf': 19.0, 'min_samples_split': 29.0}. Best is trial 25 with value: 0.5803217049998166.\u001b[0m\n",
            "\u001b[32m[I 2022-05-01 03:59:39,609]\u001b[0m Trial 63 finished with value: 0.578206962327134 and parameters: {'max_depth': 20.0, 'min_samples_leaf': 18.0, 'min_samples_split': 29.0}. Best is trial 25 with value: 0.5803217049998166.\u001b[0m\n",
            "\u001b[32m[I 2022-05-01 03:59:40,549]\u001b[0m Trial 64 finished with value: 0.5683503906679872 and parameters: {'max_depth': 20.0, 'min_samples_leaf': 20.0, 'min_samples_split': 29.0}. Best is trial 25 with value: 0.5803217049998166.\u001b[0m\n",
            "\u001b[32m[I 2022-05-01 03:59:41,519]\u001b[0m Trial 65 finished with value: 0.5713308389274054 and parameters: {'max_depth': 18.0, 'min_samples_leaf': 10.0, 'min_samples_split': 30.0}. Best is trial 25 with value: 0.5803217049998166.\u001b[0m\n",
            "\u001b[32m[I 2022-05-01 03:59:42,459]\u001b[0m Trial 66 finished with value: 0.578206962327134 and parameters: {'max_depth': 20.0, 'min_samples_leaf': 18.0, 'min_samples_split': 29.0}. Best is trial 25 with value: 0.5803217049998166.\u001b[0m\n",
            "\u001b[32m[I 2022-05-01 03:59:43,357]\u001b[0m Trial 67 finished with value: 0.5627874986244085 and parameters: {'max_depth': 18.0, 'min_samples_leaf': 19.0, 'min_samples_split': 27.0}. Best is trial 25 with value: 0.5803217049998166.\u001b[0m\n",
            "\u001b[32m[I 2022-05-01 03:59:44,315]\u001b[0m Trial 68 finished with value: 0.5717746964528081 and parameters: {'max_depth': 20.0, 'min_samples_leaf': 17.0, 'min_samples_split': 30.0}. Best is trial 25 with value: 0.5803217049998166.\u001b[0m\n",
            "\u001b[32m[I 2022-05-01 03:59:45,302]\u001b[0m Trial 69 finished with value: 0.5691867503026302 and parameters: {'max_depth': 20.0, 'min_samples_leaf': 12.0, 'min_samples_split': 5.0}. Best is trial 25 with value: 0.5803217049998166.\u001b[0m\n",
            "\u001b[32m[I 2022-05-01 03:59:46,241]\u001b[0m Trial 70 finished with value: 0.5627673232823448 and parameters: {'max_depth': 18.0, 'min_samples_leaf': 12.0, 'min_samples_split': 26.0}. Best is trial 25 with value: 0.5803217049998166.\u001b[0m\n",
            "\u001b[32m[I 2022-05-01 03:59:47,194]\u001b[0m Trial 71 finished with value: 0.5735006052602619 and parameters: {'max_depth': 20.0, 'min_samples_leaf': 19.0, 'min_samples_split': 29.0}. Best is trial 25 with value: 0.5803217049998166.\u001b[0m\n",
            "\u001b[32m[I 2022-05-01 03:59:48,154]\u001b[0m Trial 72 finished with value: 0.570481640438722 and parameters: {'max_depth': 20.0, 'min_samples_leaf': 16.0, 'min_samples_split': 28.0}. Best is trial 25 with value: 0.5803217049998166.\u001b[0m\n",
            "\u001b[32m[I 2022-05-01 03:59:49,120]\u001b[0m Trial 73 finished with value: 0.578206962327134 and parameters: {'max_depth': 20.0, 'min_samples_leaf': 18.0, 'min_samples_split': 29.0}. Best is trial 25 with value: 0.5803217049998166.\u001b[0m\n",
            "\u001b[32m[I 2022-05-01 03:59:50,023]\u001b[0m Trial 74 finished with value: 0.5657789516158616 and parameters: {'max_depth': 18.0, 'min_samples_leaf': 18.0, 'min_samples_split': 27.0}. Best is trial 25 with value: 0.5803217049998166.\u001b[0m\n",
            "\u001b[32m[I 2022-05-01 03:59:50,986]\u001b[0m Trial 75 finished with value: 0.565766112761821 and parameters: {'max_depth': 20.0, 'min_samples_leaf': 15.0, 'min_samples_split': 30.0}. Best is trial 25 with value: 0.5803217049998166.\u001b[0m\n",
            "\u001b[32m[I 2022-05-01 03:59:51,870]\u001b[0m Trial 76 finished with value: 0.5572191042148125 and parameters: {'max_depth': 18.0, 'min_samples_leaf': 21.0, 'min_samples_split': 29.0}. Best is trial 25 with value: 0.5803217049998166.\u001b[0m\n",
            "\u001b[32m[I 2022-05-01 03:59:52,882]\u001b[0m Trial 77 finished with value: 0.5691812479366127 and parameters: {'max_depth': 20.0, 'min_samples_leaf': 8.0, 'min_samples_split': 14.0}. Best is trial 25 with value: 0.5803217049998166.\u001b[0m\n",
            "\u001b[32m[I 2022-05-01 03:59:53,856]\u001b[0m Trial 78 finished with value: 0.5803217049998166 and parameters: {'max_depth': 20.0, 'min_samples_leaf': 13.0, 'min_samples_split': 26.0}. Best is trial 25 with value: 0.5803217049998166.\u001b[0m\n",
            "\u001b[32m[I 2022-05-01 03:59:54,852]\u001b[0m Trial 79 finished with value: 0.5747404717361799 and parameters: {'max_depth': 20.0, 'min_samples_leaf': 11.0, 'min_samples_split': 26.0}. Best is trial 25 with value: 0.5803217049998166.\u001b[0m\n",
            "\u001b[32m[I 2022-05-01 03:59:55,807]\u001b[0m Trial 80 finished with value: 0.5563258867979898 and parameters: {'max_depth': 18.0, 'min_samples_leaf': 11.0, 'min_samples_split': 17.0}. Best is trial 25 with value: 0.5803217049998166.\u001b[0m\n",
            "\u001b[32m[I 2022-05-01 03:59:56,801]\u001b[0m Trial 81 finished with value: 0.5803217049998166 and parameters: {'max_depth': 20.0, 'min_samples_leaf': 13.0, 'min_samples_split': 27.0}. Best is trial 25 with value: 0.5803217049998166.\u001b[0m\n",
            "\u001b[32m[I 2022-05-01 03:59:57,787]\u001b[0m Trial 82 finished with value: 0.5803217049998166 and parameters: {'max_depth': 20.0, 'min_samples_leaf': 13.0, 'min_samples_split': 23.0}. Best is trial 25 with value: 0.5803217049998166.\u001b[0m\n",
            "\u001b[32m[I 2022-05-01 03:59:58,136]\u001b[0m Trial 83 finished with value: 0.44326326987271186 and parameters: {'max_depth': 4.0, 'min_samples_leaf': 13.0, 'min_samples_split': 25.0}. Best is trial 25 with value: 0.5803217049998166.\u001b[0m\n",
            "\u001b[32m[I 2022-05-01 03:59:59,165]\u001b[0m Trial 84 finished with value: 0.5717600234767617 and parameters: {'max_depth': 20.0, 'min_samples_leaf': 9.0, 'min_samples_split': 24.0}. Best is trial 25 with value: 0.5803217049998166.\u001b[0m\n",
            "\u001b[32m[I 2022-05-01 04:00:00,125]\u001b[0m Trial 85 finished with value: 0.565766112761821 and parameters: {'max_depth': 20.0, 'min_samples_leaf': 15.0, 'min_samples_split': 27.0}. Best is trial 25 with value: 0.5803217049998166.\u001b[0m\n",
            "\u001b[32m[I 2022-05-01 04:00:01,074]\u001b[0m Trial 86 finished with value: 0.5717746964528081 and parameters: {'max_depth': 20.0, 'min_samples_leaf': 17.0, 'min_samples_split': 22.0}. Best is trial 25 with value: 0.5803217049998166.\u001b[0m\n",
            "\u001b[32m[I 2022-05-01 04:00:02,021]\u001b[0m Trial 87 finished with value: 0.569619603095998 and parameters: {'max_depth': 18.0, 'min_samples_leaf': 13.0, 'min_samples_split': 23.0}. Best is trial 25 with value: 0.5803217049998166.\u001b[0m\n",
            "\u001b[32m[I 2022-05-01 04:00:03,036]\u001b[0m Trial 88 finished with value: 0.5777502659476907 and parameters: {'max_depth': 20.0, 'min_samples_leaf': 10.0, 'min_samples_split': 27.0}. Best is trial 25 with value: 0.5803217049998166.\u001b[0m\n",
            "\u001b[32m[I 2022-05-01 04:00:03,656]\u001b[0m Trial 89 finished with value: 0.4890796375774917 and parameters: {'max_depth': 8.0, 'min_samples_leaf': 8.0, 'min_samples_split': 26.0}. Best is trial 25 with value: 0.5803217049998166.\u001b[0m\n",
            "\u001b[32m[I 2022-05-01 04:00:04,593]\u001b[0m Trial 90 finished with value: 0.5691940867906533 and parameters: {'max_depth': 18.0, 'min_samples_leaf': 13.0, 'min_samples_split': 28.0}. Best is trial 25 with value: 0.5803217049998166.\u001b[0m\n",
            "\u001b[32m[I 2022-05-01 04:00:05,602]\u001b[0m Trial 91 finished with value: 0.5777502659476907 and parameters: {'max_depth': 20.0, 'min_samples_leaf': 10.0, 'min_samples_split': 27.0}. Best is trial 25 with value: 0.5803217049998166.\u001b[0m\n",
            "\u001b[32m[I 2022-05-01 04:00:06,578]\u001b[0m Trial 92 finished with value: 0.565766112761821 and parameters: {'max_depth': 20.0, 'min_samples_leaf': 15.0, 'min_samples_split': 25.0}. Best is trial 25 with value: 0.5803217049998166.\u001b[0m\n",
            "\u001b[32m[I 2022-05-01 04:00:07,601]\u001b[0m Trial 93 finished with value: 0.5756080114449214 and parameters: {'max_depth': 20.0, 'min_samples_leaf': 10.0, 'min_samples_split': 26.0}. Best is trial 25 with value: 0.5803217049998166.\u001b[0m\n",
            "\u001b[32m[I 2022-05-01 04:00:08,645]\u001b[0m Trial 94 finished with value: 0.5768918968489783 and parameters: {'max_depth': 20.0, 'min_samples_leaf': 6.0, 'min_samples_split': 27.0}. Best is trial 25 with value: 0.5803217049998166.\u001b[0m\n",
            "\u001b[32m[I 2022-05-01 04:00:09,602]\u001b[0m Trial 95 finished with value: 0.564040203954367 and parameters: {'max_depth': 18.0, 'min_samples_leaf': 11.0, 'min_samples_split': 28.0}. Best is trial 25 with value: 0.5803217049998166.\u001b[0m\n",
            "\u001b[32m[I 2022-05-01 04:00:10,588]\u001b[0m Trial 96 finished with value: 0.5803217049998166 and parameters: {'max_depth': 20.0, 'min_samples_leaf': 13.0, 'min_samples_split': 23.0}. Best is trial 25 with value: 0.5803217049998166.\u001b[0m\n",
            "\u001b[32m[I 2022-05-01 04:00:11,555]\u001b[0m Trial 97 finished with value: 0.570481640438722 and parameters: {'max_depth': 20.0, 'min_samples_leaf': 16.0, 'min_samples_split': 23.0}. Best is trial 25 with value: 0.5803217049998166.\u001b[0m\n",
            "\u001b[32m[I 2022-05-01 04:00:12,557]\u001b[0m Trial 98 finished with value: 0.5803217049998166 and parameters: {'max_depth': 20.0, 'min_samples_leaf': 13.0, 'min_samples_split': 22.0}. Best is trial 25 with value: 0.5803217049998166.\u001b[0m\n",
            "\u001b[32m[I 2022-05-01 04:00:13,514]\u001b[0m Trial 99 finished with value: 0.569619603095998 and parameters: {'max_depth': 18.0, 'min_samples_leaf': 13.0, 'min_samples_split': 21.0}. Best is trial 25 with value: 0.5803217049998166.\u001b[0m\n"
          ]
        },
        {
          "output_type": "stream",
          "name": "stdout",
          "text": [
            "Best Score: 0.5803217049998166\n",
            "Best trial: {'max_depth': 20.0, 'min_samples_leaf': 13.0, 'min_samples_split': 26.0}\n"
          ]
        }
      ]
    },
    {
      "cell_type": "markdown",
      "source": [
        "#### 랜덤포레스트"
      ],
      "metadata": {
        "id": "vPWPG_X5Z_87"
      }
    },
    {
      "cell_type": "code",
      "source": [
        "def objectiveRF(trial:Trial) -> float:\n",
        "  score_list = []\n",
        "  params = {\n",
        "    'random_state':42,\n",
        "    'max_depth' : int(trial.suggest_discrete_uniform('max_depth',2, 20,2)),\n",
        "    'min_samples_leaf': int(trial.suggest_discrete_uniform('min_samples_leaf',2,50,1)),\n",
        "    'min_samples_split': int(trial.suggest_discrete_uniform('min_samples_split',2,30,1)),\n",
        "    'n_estimators': int(trial.suggest_discrete_uniform('n_estimators',100,550,10))}\n",
        "  for tr_idx, val_idx in skf.split(X_train, y_train):\n",
        "    X_tr, X_val = X_train.to_numpy()[tr_idx], X_train.to_numpy()[val_idx]\n",
        "    y_tr, y_val = y_train.to_numpy()[tr_idx], y_train.to_numpy()[val_idx]\n",
        "    rf = RandomForestClassifier(**params)\n",
        "    rf = rf.fit(X_tr, y_tr)\n",
        "    score = accuracy_score(rf.predict(X_val), y_val)\n",
        "    score_list.append(score)\n",
        "  return np.mean(score_list)"
      ],
      "metadata": {
        "id": "kyk1pNKuaK4y"
      },
      "execution_count": null,
      "outputs": []
    },
    {
      "cell_type": "code",
      "source": [
        "rf_study = optuna.create_study(\n",
        "    study_name = 'RF_test',\n",
        "    direction='maximize',\n",
        "    sampler = TPESampler(seed=42)\n",
        ")"
      ],
      "metadata": {
        "colab": {
          "base_uri": "https://localhost:8080/"
        },
        "outputId": "b625244a-bce7-4cb6-c8e8-a9bbeaafa10e",
        "id": "wecBRWBNaK4z"
      },
      "execution_count": null,
      "outputs": [
        {
          "output_type": "stream",
          "name": "stderr",
          "text": [
            "\u001b[32m[I 2022-05-01 04:00:13,551]\u001b[0m A new study created in memory with name: RF_test\u001b[0m\n"
          ]
        }
      ]
    },
    {
      "cell_type": "code",
      "source": [
        "rf_study.optimize(objectiveRF, n_trials=50)\n",
        "print(\"Best Score:\", rf_study.best_value)\n",
        "print(\"Best trial:\", rf_study.best_trial.params)"
      ],
      "metadata": {
        "colab": {
          "base_uri": "https://localhost:8080/"
        },
        "outputId": "e1f685ab-0e3a-4bf8-c0b8-14402fcc812a",
        "id": "rJKFaEhMaK4z"
      },
      "execution_count": null,
      "outputs": [
        {
          "output_type": "stream",
          "name": "stderr",
          "text": [
            "\u001b[32m[I 2022-05-01 04:00:36,623]\u001b[0m Trial 0 finished with value: 0.6295422031473533 and parameters: {'max_depth': 8.0, 'min_samples_leaf': 48.0, 'min_samples_split': 23.0, 'n_estimators': 370.0}. Best is trial 0 with value: 0.6295422031473533.\u001b[0m\n",
            "\u001b[32m[I 2022-05-01 04:00:59,852]\u001b[0m Trial 1 finished with value: 0.5682843622757786 and parameters: {'max_depth': 4.0, 'min_samples_leaf': 9.0, 'min_samples_split': 3.0, 'n_estimators': 490.0}. Best is trial 0 with value: 0.6295422031473533.\u001b[0m\n",
            "\u001b[32m[I 2022-05-01 04:01:42,376]\u001b[0m Trial 2 finished with value: 0.6757877554014893 and parameters: {'max_depth': 14.0, 'min_samples_leaf': 36.0, 'min_samples_split': 2.0, 'n_estimators': 540.0}. Best is trial 2 with value: 0.6757877554014893.\u001b[0m\n",
            "\u001b[32m[I 2022-05-01 04:01:59,947]\u001b[0m Trial 3 finished with value: 0.7237610505850849 and parameters: {'max_depth': 18.0, 'min_samples_leaf': 12.0, 'min_samples_split': 7.0, 'n_estimators': 180.0}. Best is trial 3 with value: 0.7237610505850849.\u001b[0m\n",
            "\u001b[32m[I 2022-05-01 04:02:15,063]\u001b[0m Trial 4 finished with value: 0.6458126994607681 and parameters: {'max_depth': 8.0, 'min_samples_leaf': 27.0, 'min_samples_split': 14.0, 'n_estimators': 230.0}. Best is trial 3 with value: 0.7237610505850849.\u001b[0m\n",
            "\u001b[32m[I 2022-05-01 04:02:39,410]\u001b[0m Trial 5 finished with value: 0.7293239426286637 and parameters: {'max_depth': 14.0, 'min_samples_leaf': 8.0, 'min_samples_split': 10.0, 'n_estimators': 260.0}. Best is trial 5 with value: 0.7293239426286637.\u001b[0m\n",
            "\u001b[32m[I 2022-05-01 04:03:02,423]\u001b[0m Trial 6 finished with value: 0.6535251824951397 and parameters: {'max_depth': 10.0, 'min_samples_leaf': 40.0, 'min_samples_split': 7.0, 'n_estimators': 330.0}. Best is trial 5 with value: 0.7293239426286637.\u001b[0m\n",
            "\u001b[32m[I 2022-05-01 04:03:17,983]\u001b[0m Trial 7 finished with value: 0.7348868346722424 and parameters: {'max_depth': 12.0, 'min_samples_leaf': 4.0, 'min_samples_split': 19.0, 'n_estimators': 170.0}. Best is trial 7 with value: 0.7348868346722424.\u001b[0m\n",
            "\u001b[32m[I 2022-05-01 04:03:33,117]\u001b[0m Trial 8 finished with value: 0.4886431165401122 and parameters: {'max_depth': 2.0, 'min_samples_leaf': 48.0, 'min_samples_split': 30.0, 'n_estimators': 470.0}. Best is trial 7 with value: 0.7348868346722424.\u001b[0m\n",
            "\u001b[32m[I 2022-05-01 04:03:57,037]\u001b[0m Trial 9 finished with value: 0.6817926708484648 and parameters: {'max_depth': 8.0, 'min_samples_leaf': 6.0, 'min_samples_split': 21.0, 'n_estimators': 300.0}. Best is trial 7 with value: 0.7348868346722424.\u001b[0m\n",
            "\u001b[32m[I 2022-05-01 04:04:06,563]\u001b[0m Trial 10 finished with value: 0.7010436154212978 and parameters: {'max_depth': 20.0, 'min_samples_leaf': 19.0, 'min_samples_split': 18.0, 'n_estimators': 100.0}. Best is trial 7 with value: 0.7348868346722424.\u001b[0m\n",
            "\u001b[32m[I 2022-05-01 04:04:26,517]\u001b[0m Trial 11 finished with value: 0.744314221782033 and parameters: {'max_depth': 14.0, 'min_samples_leaf': 3.0, 'min_samples_split': 13.0, 'n_estimators': 200.0}. Best is trial 11 with value: 0.744314221782033.\u001b[0m\n",
            "\u001b[32m[I 2022-05-01 04:04:42,475]\u001b[0m Trial 12 finished with value: 0.7353380286856682 and parameters: {'max_depth': 14.0, 'min_samples_leaf': 2.0, 'min_samples_split': 15.0, 'n_estimators': 140.0}. Best is trial 11 with value: 0.744314221782033.\u001b[0m\n",
            "\u001b[32m[I 2022-05-01 04:04:54,931]\u001b[0m Trial 13 finished with value: 0.6993415501999194 and parameters: {'max_depth': 16.0, 'min_samples_leaf': 17.0, 'min_samples_split': 14.0, 'n_estimators': 100.0}. Best is trial 11 with value: 0.744314221782033.\u001b[0m\n",
            "\u001b[32m[I 2022-05-01 04:05:13,974]\u001b[0m Trial 14 finished with value: 0.7464564762848025 and parameters: {'max_depth': 16.0, 'min_samples_leaf': 2.0, 'min_samples_split': 25.0, 'n_estimators': 170.0}. Best is trial 14 with value: 0.7464564762848025.\u001b[0m\n",
            "\u001b[32m[I 2022-05-01 04:05:43,580]\u001b[0m Trial 15 finished with value: 0.702758519496717 and parameters: {'max_depth': 20.0, 'min_samples_leaf': 22.0, 'min_samples_split': 28.0, 'n_estimators': 220.0}. Best is trial 14 with value: 0.7464564762848025.\u001b[0m\n",
            "\u001b[32m[I 2022-05-01 04:06:40,039]\u001b[0m Trial 16 finished with value: 0.7181779831994424 and parameters: {'max_depth': 16.0, 'min_samples_leaf': 13.0, 'min_samples_split': 25.0, 'n_estimators': 390.0}. Best is trial 14 with value: 0.7464564762848025.\u001b[0m\n",
            "\u001b[32m[I 2022-05-01 04:07:13,686]\u001b[0m Trial 17 finished with value: 0.6899086607241113 and parameters: {'max_depth': 18.0, 'min_samples_leaf': 27.0, 'min_samples_split': 26.0, 'n_estimators': 270.0}. Best is trial 14 with value: 0.7464564762848025.\u001b[0m\n",
            "\u001b[32m[I 2022-05-01 04:07:37,369]\u001b[0m Trial 18 finished with value: 0.6766589633542424 and parameters: {'max_depth': 12.0, 'min_samples_leaf': 34.0, 'min_samples_split': 11.0, 'n_estimators': 190.0}. Best is trial 14 with value: 0.7464564762848025.\u001b[0m\n",
            "\u001b[32m[I 2022-05-01 04:07:52,334]\u001b[0m Trial 19 finished with value: 0.7468948314441877 and parameters: {'max_depth': 16.0, 'min_samples_leaf': 2.0, 'min_samples_split': 18.0, 'n_estimators': 130.0}. Best is trial 19 with value: 0.7468948314441877.\u001b[0m\n",
            "\u001b[32m[I 2022-05-01 04:08:05,676]\u001b[0m Trial 20 finished with value: 0.7177579692601153 and parameters: {'max_depth': 18.0, 'min_samples_leaf': 14.0, 'min_samples_split': 22.0, 'n_estimators': 130.0}. Best is trial 19 with value: 0.7468948314441877.\u001b[0m\n",
            "\u001b[32m[I 2022-05-01 04:08:21,433]\u001b[0m Trial 21 finished with value: 0.7537324382817945 and parameters: {'max_depth': 16.0, 'min_samples_leaf': 2.0, 'min_samples_split': 18.0, 'n_estimators': 150.0}. Best is trial 21 with value: 0.7537324382817945.\u001b[0m\n",
            "\u001b[32m[I 2022-05-01 04:08:37,009]\u001b[0m Trial 22 finished with value: 0.7537324382817945 and parameters: {'max_depth': 16.0, 'min_samples_leaf': 2.0, 'min_samples_split': 18.0, 'n_estimators': 150.0}. Best is trial 21 with value: 0.7537324382817945.\u001b[0m\n",
            "\u001b[32m[I 2022-05-01 04:08:50,695]\u001b[0m Trial 23 finished with value: 0.7378892923957301 and parameters: {'max_depth': 16.0, 'min_samples_leaf': 8.0, 'min_samples_split': 18.0, 'n_estimators': 140.0}. Best is trial 21 with value: 0.7537324382817945.\u001b[0m\n",
            "\u001b[32m[I 2022-05-01 04:09:01,107]\u001b[0m Trial 24 finished with value: 0.737019918564983 and parameters: {'max_depth': 20.0, 'min_samples_leaf': 9.0, 'min_samples_split': 17.0, 'n_estimators': 100.0}. Best is trial 21 with value: 0.7537324382817945.\u001b[0m\n",
            "\u001b[32m[I 2022-05-01 04:09:24,349]\u001b[0m Trial 25 finished with value: 0.7258978027218371 and parameters: {'max_depth': 18.0, 'min_samples_leaf': 12.0, 'min_samples_split': 20.0, 'n_estimators': 230.0}. Best is trial 21 with value: 0.7537324382817945.\u001b[0m\n",
            "\u001b[32m[I 2022-05-01 04:09:35,066]\u001b[0m Trial 26 finished with value: 0.6993635596639889 and parameters: {'max_depth': 10.0, 'min_samples_leaf': 6.0, 'min_samples_split': 16.0, 'n_estimators': 130.0}. Best is trial 21 with value: 0.7537324382817945.\u001b[0m\n",
            "\u001b[32m[I 2022-05-01 04:09:57,912]\u001b[0m Trial 27 finished with value: 0.6877700744653534 and parameters: {'max_depth': 12.0, 'min_samples_leaf': 23.0, 'min_samples_split': 23.0, 'n_estimators': 280.0}. Best is trial 21 with value: 0.7537324382817945.\u001b[0m\n",
            "\u001b[32m[I 2022-05-01 04:10:11,772]\u001b[0m Trial 28 finished with value: 0.7126114229118521 and parameters: {'max_depth': 16.0, 'min_samples_leaf': 16.0, 'min_samples_split': 12.0, 'n_estimators': 150.0}. Best is trial 21 with value: 0.7537324382817945.\u001b[0m\n",
            "\u001b[32m[I 2022-05-01 04:10:33,762]\u001b[0m Trial 29 finished with value: 0.6415575364073218 and parameters: {'max_depth': 6.0, 'min_samples_leaf': 5.0, 'min_samples_split': 20.0, 'n_estimators': 360.0}. Best is trial 21 with value: 0.7537324382817945.\u001b[0m\n",
            "\u001b[32m[I 2022-05-01 04:11:06,250]\u001b[0m Trial 30 finished with value: 0.6847786214739005 and parameters: {'max_depth': 14.0, 'min_samples_leaf': 31.0, 'min_samples_split': 9.0, 'n_estimators': 400.0}. Best is trial 21 with value: 0.7537324382817945.\u001b[0m\n",
            "\u001b[32m[I 2022-05-01 04:11:23,909]\u001b[0m Trial 31 finished with value: 0.7515956861450424 and parameters: {'max_depth': 16.0, 'min_samples_leaf': 2.0, 'min_samples_split': 24.0, 'n_estimators': 170.0}. Best is trial 21 with value: 0.7537324382817945.\u001b[0m\n",
            "\u001b[32m[I 2022-05-01 04:11:47,964]\u001b[0m Trial 32 finished with value: 0.7387458273724368 and parameters: {'max_depth': 18.0, 'min_samples_leaf': 9.0, 'min_samples_split': 22.0, 'n_estimators': 240.0}. Best is trial 21 with value: 0.7537324382817945.\u001b[0m\n",
            "\u001b[32m[I 2022-05-01 04:12:08,907]\u001b[0m Trial 33 finished with value: 0.7545944756245185 and parameters: {'max_depth': 16.0, 'min_samples_leaf': 2.0, 'min_samples_split': 17.0, 'n_estimators': 200.0}. Best is trial 33 with value: 0.7545944756245185.\u001b[0m\n",
            "\u001b[32m[I 2022-05-01 04:12:28,869]\u001b[0m Trial 34 finished with value: 0.7327299071934265 and parameters: {'max_depth': 18.0, 'min_samples_leaf': 10.0, 'min_samples_split': 16.0, 'n_estimators': 200.0}. Best is trial 33 with value: 0.7545944756245185.\u001b[0m\n",
            "\u001b[32m[I 2022-05-01 04:12:44,092]\u001b[0m Trial 35 finished with value: 0.7336066175121969 and parameters: {'max_depth': 14.0, 'min_samples_leaf': 6.0, 'min_samples_split': 23.0, 'n_estimators': 160.0}. Best is trial 33 with value: 0.7545944756245185.\u001b[0m\n",
            "\u001b[32m[I 2022-05-01 04:13:02,122]\u001b[0m Trial 36 finished with value: 0.7160357286966729 and parameters: {'max_depth': 12.0, 'min_samples_leaf': 11.0, 'min_samples_split': 24.0, 'n_estimators': 210.0}. Best is trial 33 with value: 0.7545944756245185.\u001b[0m\n",
            "\u001b[32m[I 2022-05-01 04:13:21,040]\u001b[0m Trial 37 finished with value: 0.7387513297384543 and parameters: {'max_depth': 20.0, 'min_samples_leaf': 6.0, 'min_samples_split': 28.0, 'n_estimators': 180.0}. Best is trial 33 with value: 0.7545944756245185.\u001b[0m\n",
            "\u001b[32m[I 2022-05-01 04:13:38,266]\u001b[0m Trial 38 finished with value: 0.6539525329224899 and parameters: {'max_depth': 10.0, 'min_samples_leaf': 43.0, 'min_samples_split': 20.0, 'n_estimators': 250.0}. Best is trial 33 with value: 0.7545944756245185.\u001b[0m\n",
            "\u001b[32m[I 2022-05-01 04:14:09,931]\u001b[0m Trial 39 finished with value: 0.7468783243461355 and parameters: {'max_depth': 14.0, 'min_samples_leaf': 4.0, 'min_samples_split': 6.0, 'n_estimators': 320.0}. Best is trial 33 with value: 0.7545944756245185.\u001b[0m\n",
            "\u001b[32m[I 2022-05-01 04:14:52,987]\u001b[0m Trial 40 finished with value: 0.7404478925938154 and parameters: {'max_depth': 16.0, 'min_samples_leaf': 7.0, 'min_samples_split': 14.0, 'n_estimators': 430.0}. Best is trial 33 with value: 0.7545944756245185.\u001b[0m\n",
            "\u001b[32m[I 2022-05-01 04:15:50,674]\u001b[0m Trial 41 finished with value: 0.7588771505080517 and parameters: {'max_depth': 16.0, 'min_samples_leaf': 2.0, 'min_samples_split': 18.0, 'n_estimators': 550.0}. Best is trial 41 with value: 0.7588771505080517.\u001b[0m\n",
            "\u001b[32m[I 2022-05-01 04:16:08,916]\u001b[0m Trial 42 finished with value: 0.7524577234877665 and parameters: {'max_depth': 18.0, 'min_samples_leaf': 3.0, 'min_samples_split': 17.0, 'n_estimators': 170.0}. Best is trial 41 with value: 0.7588771505080517.\u001b[0m\n",
            "\u001b[32m[I 2022-05-01 04:17:07,186]\u001b[0m Trial 43 finished with value: 0.7558856975165987 and parameters: {'max_depth': 18.0, 'min_samples_leaf': 4.0, 'min_samples_split': 17.0, 'n_estimators': 550.0}. Best is trial 41 with value: 0.7588771505080517.\u001b[0m\n",
            "\u001b[32m[I 2022-05-01 04:18:05,266]\u001b[0m Trial 44 finished with value: 0.752452221121749 and parameters: {'max_depth': 20.0, 'min_samples_leaf': 5.0, 'min_samples_split': 19.0, 'n_estimators': 540.0}. Best is trial 41 with value: 0.7588771505080517.\u001b[0m\n",
            "\u001b[32m[I 2022-05-01 04:18:58,504]\u001b[0m Trial 45 finished with value: 0.7571567440666153 and parameters: {'max_depth': 18.0, 'min_samples_leaf': 4.0, 'min_samples_split': 15.0, 'n_estimators': 500.0}. Best is trial 41 with value: 0.7588771505080517.\u001b[0m\n",
            "\u001b[32m[I 2022-05-01 04:19:54,426]\u001b[0m Trial 46 finished with value: 0.7413062616925277 and parameters: {'max_depth': 18.0, 'min_samples_leaf': 8.0, 'min_samples_split': 15.0, 'n_estimators': 550.0}. Best is trial 41 with value: 0.7588771505080517.\u001b[0m\n",
            "\u001b[32m[I 2022-05-01 04:20:43,971]\u001b[0m Trial 47 finished with value: 0.718172480833425 and parameters: {'max_depth': 20.0, 'min_samples_leaf': 15.0, 'min_samples_split': 13.0, 'n_estimators': 510.0}. Best is trial 41 with value: 0.7588771505080517.\u001b[0m\n",
            "\u001b[32m[I 2022-05-01 04:21:31,066]\u001b[0m Trial 48 finished with value: 0.7031950405340963 and parameters: {'max_depth': 18.0, 'min_samples_leaf': 19.0, 'min_samples_split': 15.0, 'n_estimators': 510.0}. Best is trial 41 with value: 0.7588771505080517.\u001b[0m\n",
            "\u001b[32m[I 2022-05-01 04:22:15,666]\u001b[0m Trial 49 finished with value: 0.7216022889842633 and parameters: {'max_depth': 14.0, 'min_samples_leaf': 11.0, 'min_samples_split': 17.0, 'n_estimators': 490.0}. Best is trial 41 with value: 0.7588771505080517.\u001b[0m\n"
          ]
        },
        {
          "output_type": "stream",
          "name": "stdout",
          "text": [
            "Best Score: 0.7588771505080517\n",
            "Best trial: {'max_depth': 16.0, 'min_samples_leaf': 2.0, 'min_samples_split': 18.0, 'n_estimators': 550.0}\n"
          ]
        }
      ]
    },
    {
      "cell_type": "markdown",
      "source": [
        "#### AdaBoost"
      ],
      "metadata": {
        "id": "jelDk0h-a1pb"
      }
    },
    {
      "cell_type": "code",
      "source": [
        "def objectiveAda(trial:Trial) -> float:\n",
        "  score_list = []\n",
        "  params = {\n",
        "    'random_state':42,\n",
        "    'n_estimators': int(trial.suggest_discrete_uniform('n_estimators',100,550,10)),\n",
        "     'learning_rate': trial.suggest_discrete_uniform('learning_rate',0.5,1,0.05)}\n",
        "  for tr_idx, val_idx in skf.split(X_train, y_train):\n",
        "    X_tr, X_val = X_train.to_numpy()[tr_idx], X_train.to_numpy()[val_idx]\n",
        "    y_tr, y_val = y_train.to_numpy()[tr_idx], y_train.to_numpy()[val_idx]\n",
        "    ada = AdaBoostClassifier(**params)\n",
        "    ada = ada.fit(X_tr, y_tr)\n",
        "    score = accuracy_score(ada.predict(X_val), y_val)\n",
        "    score_list.append(score)\n",
        "  return np.mean(score_list)"
      ],
      "metadata": {
        "id": "sFkD5cueYWwF"
      },
      "execution_count": null,
      "outputs": []
    },
    {
      "cell_type": "code",
      "source": [
        "ada_study = optuna.create_study(\n",
        "    study_name = 'Ada_test',\n",
        "    direction='maximize',\n",
        "    sampler = TPESampler(seed=42)\n",
        ")"
      ],
      "metadata": {
        "colab": {
          "base_uri": "https://localhost:8080/"
        },
        "id": "AmWofSoKb4tt",
        "outputId": "d3683b31-94b4-4573-d08c-d59520e86a76"
      },
      "execution_count": null,
      "outputs": [
        {
          "output_type": "stream",
          "name": "stderr",
          "text": [
            "\u001b[32m[I 2022-05-01 04:22:15,692]\u001b[0m A new study created in memory with name: Ada_test\u001b[0m\n"
          ]
        }
      ]
    },
    {
      "cell_type": "code",
      "source": [
        "ada_study.optimize(objectiveAda, n_trials=50)\n",
        "print(\"Best Score:\", ada_study.best_value)\n",
        "print(\"Best trial:\", ada_study.best_trial.params)"
      ],
      "metadata": {
        "colab": {
          "base_uri": "https://localhost:8080/"
        },
        "id": "EM5rIbxHb753",
        "outputId": "14e33dbf-4671-445b-8628-5df74b3f28ae"
      },
      "execution_count": null,
      "outputs": [
        {
          "output_type": "stream",
          "name": "stderr",
          "text": [
            "\u001b[32m[I 2022-05-01 04:22:45,293]\u001b[0m Trial 0 finished with value: 0.701050951909321 and parameters: {'n_estimators': 270.0, 'learning_rate': 1.0}. Best is trial 0 with value: 0.701050951909321.\u001b[0m\n",
            "\u001b[32m[I 2022-05-01 04:23:31,925]\u001b[0m Trial 1 finished with value: 0.7211896115329592 and parameters: {'n_estimators': 430.0, 'learning_rate': 0.8}. Best is trial 1 with value: 0.7211896115329592.\u001b[0m\n",
            "\u001b[32m[I 2022-05-01 04:23:50,648]\u001b[0m Trial 2 finished with value: 0.6954935622317596 and parameters: {'n_estimators': 170.0, 'learning_rate': 0.55}. Best is trial 1 with value: 0.7211896115329592.\u001b[0m\n",
            "\u001b[32m[I 2022-05-01 04:24:03,914]\u001b[0m Trial 3 finished with value: 0.6886504530281354 and parameters: {'n_estimators': 120.0, 'learning_rate': 0.95}. Best is trial 1 with value: 0.7211896115329592.\u001b[0m\n",
            "\u001b[32m[I 2022-05-01 04:24:44,655]\u001b[0m Trial 4 finished with value: 0.722915520340413 and parameters: {'n_estimators': 370.0, 'learning_rate': 0.8500000000000001}. Best is trial 4 with value: 0.722915520340413.\u001b[0m\n",
            "\u001b[32m[I 2022-05-01 04:24:55,674]\u001b[0m Trial 5 finished with value: 0.6882029272587212 and parameters: {'n_estimators': 100.0, 'learning_rate': 1.0}. Best is trial 4 with value: 0.722915520340413.\u001b[0m\n",
            "\u001b[32m[I 2022-05-01 04:25:48,429]\u001b[0m Trial 6 finished with value: 0.7177763104801731 and parameters: {'n_estimators': 480.0, 'learning_rate': 0.6}. Best is trial 4 with value: 0.722915520340413.\u001b[0m\n",
            "\u001b[32m[I 2022-05-01 04:26:08,303]\u001b[0m Trial 7 finished with value: 0.69633542423242 and parameters: {'n_estimators': 180.0, 'learning_rate': 0.6}. Best is trial 4 with value: 0.722915520340413.\u001b[0m\n",
            "\u001b[32m[I 2022-05-01 04:26:33,631]\u001b[0m Trial 8 finished with value: 0.7087781079197388 and parameters: {'n_estimators': 230.0, 'learning_rate': 0.75}. Best is trial 4 with value: 0.722915520340413.\u001b[0m\n",
            "\u001b[32m[I 2022-05-01 04:27:05,482]\u001b[0m Trial 9 finished with value: 0.7117640585451744 and parameters: {'n_estimators': 290.0, 'learning_rate': 0.65}. Best is trial 4 with value: 0.722915520340413.\u001b[0m\n",
            "\u001b[32m[I 2022-05-01 04:27:48,456]\u001b[0m Trial 10 finished with value: 0.7216242984483328 and parameters: {'n_estimators': 390.0, 'learning_rate': 0.8500000000000001}. Best is trial 4 with value: 0.722915520340413.\u001b[0m\n",
            "\u001b[32m[I 2022-05-01 04:28:28,953]\u001b[0m Trial 11 finished with value: 0.722915520340413 and parameters: {'n_estimators': 370.0, 'learning_rate': 0.8500000000000001}. Best is trial 4 with value: 0.722915520340413.\u001b[0m\n",
            "\u001b[32m[I 2022-05-01 04:29:08,484]\u001b[0m Trial 12 finished with value: 0.7134862991086167 and parameters: {'n_estimators': 360.0, 'learning_rate': 0.9}. Best is trial 4 with value: 0.722915520340413.\u001b[0m\n",
            "\u001b[32m[I 2022-05-01 04:30:05,355]\u001b[0m Trial 13 finished with value: 0.7147573456586332 and parameters: {'n_estimators': 520.0, 'learning_rate': 0.75}. Best is trial 4 with value: 0.722915520340413.\u001b[0m\n",
            "\u001b[32m[I 2022-05-01 04:30:43,628]\u001b[0m Trial 14 finished with value: 0.7229301933164594 and parameters: {'n_estimators': 350.0, 'learning_rate': 0.8500000000000001}. Best is trial 14 with value: 0.7229301933164594.\u001b[0m\n",
            "\u001b[32m[I 2022-05-01 04:31:31,712]\u001b[0m Trial 15 finished with value: 0.719914896738931 and parameters: {'n_estimators': 440.0, 'learning_rate': 0.7}. Best is trial 14 with value: 0.7229301933164594.\u001b[0m\n",
            "\u001b[32m[I 2022-05-01 04:32:05,807]\u001b[0m Trial 16 finished with value: 0.7134918014746341 and parameters: {'n_estimators': 310.0, 'learning_rate': 0.9}. Best is trial 14 with value: 0.7229301933164594.\u001b[0m\n",
            "\u001b[32m[I 2022-05-01 04:33:06,301]\u001b[0m Trial 17 finished with value: 0.7177543010161036 and parameters: {'n_estimators': 550.0, 'learning_rate': 0.8}. Best is trial 14 with value: 0.7229301933164594.\u001b[0m\n",
            "\u001b[32m[I 2022-05-01 04:33:44,611]\u001b[0m Trial 18 finished with value: 0.7160595722827482 and parameters: {'n_estimators': 350.0, 'learning_rate': 0.9}. Best is trial 14 with value: 0.7229301933164594.\u001b[0m\n",
            "\u001b[32m[I 2022-05-01 04:34:31,864]\u001b[0m Trial 19 finished with value: 0.7211896115329592 and parameters: {'n_estimators': 430.0, 'learning_rate': 0.8}. Best is trial 14 with value: 0.7229301933164594.\u001b[0m\n",
            "\u001b[32m[I 2022-05-01 04:34:59,206]\u001b[0m Trial 20 finished with value: 0.6997707347492754 and parameters: {'n_estimators': 250.0, 'learning_rate': 0.5}. Best is trial 14 with value: 0.7229301933164594.\u001b[0m\n",
            "\u001b[32m[I 2022-05-01 04:35:40,837]\u001b[0m Trial 21 finished with value: 0.7241939033784528 and parameters: {'n_estimators': 380.0, 'learning_rate': 0.8500000000000001}. Best is trial 21 with value: 0.7241939033784528.\u001b[0m\n",
            "\u001b[32m[I 2022-05-01 04:36:16,988]\u001b[0m Trial 22 finished with value: 0.7126150911558637 and parameters: {'n_estimators': 330.0, 'learning_rate': 0.95}. Best is trial 21 with value: 0.7241939033784528.\u001b[0m\n",
            "\u001b[32m[I 2022-05-01 04:37:00,989]\u001b[0m Trial 23 finished with value: 0.7241847327684238 and parameters: {'n_estimators': 400.0, 'learning_rate': 0.8500000000000001}. Best is trial 21 with value: 0.7241939033784528.\u001b[0m\n",
            "\u001b[32m[I 2022-05-01 04:37:45,046]\u001b[0m Trial 24 finished with value: 0.7190730347382708 and parameters: {'n_estimators': 400.0, 'learning_rate': 0.7}. Best is trial 21 with value: 0.7241939033784528.\u001b[0m\n",
            "\u001b[32m[I 2022-05-01 04:38:36,690]\u001b[0m Trial 25 finished with value: 0.7233318660357287 and parameters: {'n_estimators': 470.0, 'learning_rate': 0.8500000000000001}. Best is trial 21 with value: 0.7241939033784528.\u001b[0m\n",
            "\u001b[32m[I 2022-05-01 04:39:29,555]\u001b[0m Trial 26 finished with value: 0.7224734969370162 and parameters: {'n_estimators': 480.0, 'learning_rate': 0.95}. Best is trial 21 with value: 0.7241939033784528.\u001b[0m\n",
            "\u001b[32m[I 2022-05-01 04:40:22,483]\u001b[0m Trial 27 finished with value: 0.701041781299292 and parameters: {'n_estimators': 480.0, 'learning_rate': 0.9}. Best is trial 21 with value: 0.7241939033784528.\u001b[0m\n",
            "\u001b[32m[I 2022-05-01 04:41:13,136]\u001b[0m Trial 28 finished with value: 0.7207567587395914 and parameters: {'n_estimators': 460.0, 'learning_rate': 0.8}. Best is trial 21 with value: 0.7241939033784528.\u001b[0m\n",
            "\u001b[32m[I 2022-05-01 04:42:10,562]\u001b[0m Trial 29 finished with value: 0.7194783757015516 and parameters: {'n_estimators': 520.0, 'learning_rate': 1.0}. Best is trial 21 with value: 0.7241939033784528.\u001b[0m\n",
            "\u001b[32m[I 2022-05-01 04:42:55,485]\u001b[0m Trial 30 finished with value: 0.7169124390154433 and parameters: {'n_estimators': 410.0, 'learning_rate': 0.75}. Best is trial 21 with value: 0.7241939033784528.\u001b[0m\n",
            "\u001b[32m[I 2022-05-01 04:43:30,633]\u001b[0m Trial 31 finished with value: 0.7100656615678075 and parameters: {'n_estimators': 320.0, 'learning_rate': 0.8500000000000001}. Best is trial 21 with value: 0.7241939033784528.\u001b[0m\n",
            "\u001b[32m[I 2022-05-01 04:44:01,391]\u001b[0m Trial 32 finished with value: 0.7143336634752945 and parameters: {'n_estimators': 280.0, 'learning_rate': 0.8500000000000001}. Best is trial 21 with value: 0.7241939033784528.\u001b[0m\n",
            "\u001b[32m[I 2022-05-01 04:44:46,601]\u001b[0m Trial 33 finished with value: 0.7177469645280803 and parameters: {'n_estimators': 410.0, 'learning_rate': 0.8}. Best is trial 21 with value: 0.7241939033784528.\u001b[0m\n",
            "\u001b[32m[I 2022-05-01 04:45:36,204]\u001b[0m Trial 34 finished with value: 0.7211896115329592 and parameters: {'n_estimators': 450.0, 'learning_rate': 0.95}. Best is trial 21 with value: 0.7241939033784528.\u001b[0m\n",
            "\u001b[32m[I 2022-05-01 04:46:13,657]\u001b[0m Trial 35 finished with value: 0.7147756868786912 and parameters: {'n_estimators': 340.0, 'learning_rate': 0.9}. Best is trial 21 with value: 0.7241939033784528.\u001b[0m\n",
            "\u001b[32m[I 2022-05-01 04:46:55,329]\u001b[0m Trial 36 finished with value: 0.7241939033784528 and parameters: {'n_estimators': 380.0, 'learning_rate': 0.8500000000000001}. Best is trial 21 with value: 0.7241939033784528.\u001b[0m\n",
            "\u001b[32m[I 2022-05-01 04:47:36,950]\u001b[0m Trial 37 finished with value: 0.7113385422398297 and parameters: {'n_estimators': 380.0, 'learning_rate': 0.75}. Best is trial 21 with value: 0.7241939033784528.\u001b[0m\n",
            "\u001b[32m[I 2022-05-01 04:48:22,971]\u001b[0m Trial 38 finished with value: 0.7156450607094385 and parameters: {'n_estimators': 420.0, 'learning_rate': 0.7}. Best is trial 21 with value: 0.7241939033784528.\u001b[0m\n",
            "\u001b[32m[I 2022-05-01 04:49:13,621]\u001b[0m Trial 39 finished with value: 0.7207567587395914 and parameters: {'n_estimators': 460.0, 'learning_rate': 0.8}. Best is trial 21 with value: 0.7241939033784528.\u001b[0m\n",
            "\u001b[32m[I 2022-05-01 04:50:09,359]\u001b[0m Trial 40 finished with value: 0.7229301933164594 and parameters: {'n_estimators': 510.0, 'learning_rate': 0.8500000000000001}. Best is trial 21 with value: 0.7241939033784528.\u001b[0m\n",
            "\u001b[32m[I 2022-05-01 04:50:50,912]\u001b[0m Trial 41 finished with value: 0.7241939033784528 and parameters: {'n_estimators': 380.0, 'learning_rate': 0.8500000000000001}. Best is trial 21 with value: 0.7241939033784528.\u001b[0m\n",
            "\u001b[32m[I 2022-05-01 04:51:33,497]\u001b[0m Trial 42 finished with value: 0.7100601592017901 and parameters: {'n_estimators': 390.0, 'learning_rate': 0.9}. Best is trial 21 with value: 0.7241939033784528.\u001b[0m\n",
            "\u001b[32m[I 2022-05-01 04:52:06,401]\u001b[0m Trial 43 finished with value: 0.7190308499321375 and parameters: {'n_estimators': 300.0, 'learning_rate': 0.95}. Best is trial 21 with value: 0.7241939033784528.\u001b[0m\n",
            "\u001b[32m[I 2022-05-01 04:52:47,113]\u001b[0m Trial 44 finished with value: 0.722915520340413 and parameters: {'n_estimators': 370.0, 'learning_rate': 0.8500000000000001}. Best is trial 21 with value: 0.7241939033784528.\u001b[0m\n",
            "\u001b[32m[I 2022-05-01 04:53:30,052]\u001b[0m Trial 45 finished with value: 0.7181798173214482 and parameters: {'n_estimators': 390.0, 'learning_rate': 0.8}. Best is trial 21 with value: 0.7241939033784528.\u001b[0m\n",
            "\u001b[32m[I 2022-05-01 04:53:50,995]\u001b[0m Trial 46 finished with value: 0.7079013976009685 and parameters: {'n_estimators': 190.0, 'learning_rate': 0.8500000000000001}. Best is trial 21 with value: 0.7241939033784528.\u001b[0m\n",
            "\u001b[32m[I 2022-05-01 04:54:37,561]\u001b[0m Trial 47 finished with value: 0.7096218040424049 and parameters: {'n_estimators': 420.0, 'learning_rate': 0.9}. Best is trial 21 with value: 0.7241939033784528.\u001b[0m\n",
            "\u001b[32m[I 2022-05-01 04:55:32,452]\u001b[0m Trial 48 finished with value: 0.7109130259344851 and parameters: {'n_estimators': 500.0, 'learning_rate': 0.75}. Best is trial 21 with value: 0.7241939033784528.\u001b[0m\n",
            "\u001b[32m[I 2022-05-01 04:56:21,095]\u001b[0m Trial 49 finished with value: 0.7254686181724809 and parameters: {'n_estimators': 440.0, 'learning_rate': 0.8}. Best is trial 49 with value: 0.7254686181724809.\u001b[0m\n"
          ]
        },
        {
          "output_type": "stream",
          "name": "stdout",
          "text": [
            "Best Score: 0.7254686181724809\n",
            "Best trial: {'n_estimators': 440.0, 'learning_rate': 0.8}\n"
          ]
        }
      ]
    },
    {
      "cell_type": "markdown",
      "source": [
        "#### XGBoost"
      ],
      "metadata": {
        "id": "JOW5bUumcJiH"
      }
    },
    {
      "cell_type": "code",
      "source": [
        "def objectiveXGB(trial:Trial) -> float:\n",
        "  score_list = []\n",
        "  params = {\n",
        "    'random_state':42,\n",
        "    'max_depth' : int(trial.suggest_discrete_uniform('max_depth',2, 20,2)),\n",
        "    'n_estimators': int(trial.suggest_discrete_uniform('n_estimators',100,550,10)),\n",
        "     'learning_rate': trial.suggest_loguniform('learning_rate', 1e-3, 0.05),\n",
        "     'subsample': trial.suggest_loguniform('subsample',0.7,1),\n",
        "     'colsample_bytree':trial.suggest_loguniform('colsample_bytree',0.7,1)\n",
        "     }\n",
        "  for tr_idx, val_idx in skf.split(X_train, y_train):\n",
        "    X_tr, X_val = X_train.to_numpy()[tr_idx], X_train.to_numpy()[val_idx]\n",
        "    y_tr, y_val = y_train.to_numpy()[tr_idx], y_train.to_numpy()[val_idx]\n",
        "    xgb = XGBClassifier(**params)\n",
        "    xgb = xgb.fit(X_tr, y_tr)\n",
        "    score = accuracy_score(xgb.predict(X_val), y_val)\n",
        "    score_list.append(score)\n",
        "  return np.mean(score_list)"
      ],
      "metadata": {
        "id": "ssH__WSycNbT"
      },
      "execution_count": null,
      "outputs": []
    },
    {
      "cell_type": "code",
      "source": [
        "xgb_study = optuna.create_study(\n",
        "    study_name = 'XGB_test',\n",
        "    direction='maximize',\n",
        "    sampler = TPESampler(seed=42)\n",
        ")"
      ],
      "metadata": {
        "colab": {
          "base_uri": "https://localhost:8080/"
        },
        "id": "igQVbj13dOqi",
        "outputId": "e29bccf5-41cc-415f-9121-c5e13a9a3c99"
      },
      "execution_count": null,
      "outputs": [
        {
          "output_type": "stream",
          "name": "stderr",
          "text": [
            "\u001b[32m[I 2022-05-01 04:56:21,125]\u001b[0m A new study created in memory with name: XGB_test\u001b[0m\n"
          ]
        }
      ]
    },
    {
      "cell_type": "code",
      "source": [
        "xgb_study.optimize(objectiveXGB, n_trials=50)\n",
        "print(\"Best Score:\", xgb_study.best_value)\n",
        "print(\"Best trial:\", xgb_study.best_trial.params)"
      ],
      "metadata": {
        "colab": {
          "base_uri": "https://localhost:8080/"
        },
        "id": "srG__llAdRoe",
        "outputId": "f5956a50-ce1f-4d43-97db-d65d243b5d43"
      },
      "execution_count": null,
      "outputs": [
        {
          "output_type": "stream",
          "name": "stderr",
          "text": [
            "\u001b[32m[I 2022-05-01 04:59:30,002]\u001b[0m Trial 0 finished with value: 0.8218297201129818 and parameters: {'max_depth': 8.0, 'n_estimators': 530.0, 'learning_rate': 0.01752410111812814, 'subsample': 0.8666253978417815, 'colsample_bytree': 0.7400577878782706}. Best is trial 0 with value: 0.8218297201129818.\u001b[0m\n",
            "\u001b[32m[I 2022-05-01 04:59:54,468]\u001b[0m Trial 1 finished with value: 0.7571622464326329 and parameters: {'max_depth': 4.0, 'n_estimators': 120.0, 'learning_rate': 0.029621516588303493, 'subsample': 0.867385052013284, 'colsample_bytree': 0.9011142760532918}. Best is trial 0 with value: 0.8218297201129818.\u001b[0m\n",
            "\u001b[32m[I 2022-05-01 05:00:41,429]\u001b[0m Trial 2 finished with value: 0.764454715527677 and parameters: {'max_depth': 2.0, 'n_estimators': 540.0, 'learning_rate': 0.025959425503112647, 'subsample': 0.7550744664467341, 'colsample_bytree': 0.746901073793237}. Best is trial 0 with value: 0.8218297201129818.\u001b[0m\n",
            "\u001b[32m[I 2022-05-01 05:01:22,331]\u001b[0m Trial 3 finished with value: 0.7284802465059975 and parameters: {'max_depth': 4.0, 'n_estimators': 230.0, 'learning_rate': 0.0077901431262762414, 'subsample': 0.8165958528802547, 'colsample_bytree': 0.7766225644402593}. Best is trial 0 with value: 0.8218297201129818.\u001b[0m\n",
            "\u001b[32m[I 2022-05-01 05:03:01,345]\u001b[0m Trial 4 finished with value: 0.7832893144051942 and parameters: {'max_depth': 14.0, 'n_estimators': 160.0, 'learning_rate': 0.0031357757322577457, 'subsample': 0.7977158249649767, 'colsample_bytree': 0.8236527911100895}. Best is trial 0 with value: 0.8218297201129818.\u001b[0m\n",
            "\u001b[32m[I 2022-05-01 05:04:57,602]\u001b[0m Trial 5 finished with value: 0.7922801804776054 and parameters: {'max_depth': 16.0, 'n_estimators': 190.0, 'learning_rate': 0.007475992999956505, 'subsample': 0.8646975288763031, 'colsample_bytree': 0.7116939926304295}. Best is trial 0 with value: 0.8218297201129818.\u001b[0m\n",
            "\u001b[32m[I 2022-05-01 05:07:08,172]\u001b[0m Trial 6 finished with value: 0.7207695975936319 and parameters: {'max_depth': 14.0, 'n_estimators': 170.0, 'learning_rate': 0.0012897950480855534, 'subsample': 0.9819339357105158, 'colsample_bytree': 0.9878166329131964}. Best is trial 0 with value: 0.8218297201129818.\u001b[0m\n",
            "\u001b[32m[I 2022-05-01 05:10:07,859]\u001b[0m Trial 7 finished with value: 0.778997468911632 and parameters: {'max_depth': 18.0, 'n_estimators': 240.0, 'learning_rate': 0.0014653521030672135, 'subsample': 0.8934846112177743, 'colsample_bytree': 0.8189898585654789}. Best is trial 0 with value: 0.8218297201129818.\u001b[0m\n",
            "\u001b[32m[I 2022-05-01 05:11:05,911]\u001b[0m Trial 8 finished with value: 0.6389787608671729 and parameters: {'max_depth': 4.0, 'n_estimators': 320.0, 'learning_rate': 0.0011439974749291274, 'subsample': 0.9681743052536671, 'colsample_bytree': 0.7676859041127272}. Best is trial 0 with value: 0.8218297201129818.\u001b[0m\n",
            "\u001b[32m[I 2022-05-01 05:13:25,230]\u001b[0m Trial 9 finished with value: 0.8017002310993728 and parameters: {'max_depth': 14.0, 'n_estimators': 240.0, 'learning_rate': 0.00764856511236995, 'subsample': 0.8507158685078077, 'colsample_bytree': 0.7477085683912128}. Best is trial 0 with value: 0.8218297201129818.\u001b[0m\n",
            "\u001b[32m[I 2022-05-01 05:16:17,155]\u001b[0m Trial 10 finished with value: 0.8256795422031473 and parameters: {'max_depth': 8.0, 'n_estimators': 520.0, 'learning_rate': 0.015229416615648682, 'subsample': 0.7044989817746417, 'colsample_bytree': 0.7038474356112341}. Best is trial 10 with value: 0.8256795422031473.\u001b[0m\n",
            "\u001b[32m[I 2022-05-01 05:19:19,118]\u001b[0m Trial 11 finished with value: 0.8261123949965151 and parameters: {'max_depth': 8.0, 'n_estimators': 550.0, 'learning_rate': 0.01624018209440578, 'subsample': 0.721697722637088, 'colsample_bytree': 0.700933642527879}. Best is trial 11 with value: 0.8261123949965151.\u001b[0m\n",
            "\u001b[32m[I 2022-05-01 05:21:48,748]\u001b[0m Trial 12 finished with value: 0.8166868420087304 and parameters: {'max_depth': 8.0, 'n_estimators': 450.0, 'learning_rate': 0.01406386952198916, 'subsample': 0.7084751355909192, 'colsample_bytree': 0.7041156562893638}. Best is trial 11 with value: 0.8261123949965151.\u001b[0m\n",
            "\u001b[32m[I 2022-05-01 05:24:27,000]\u001b[0m Trial 13 finished with value: 0.8295348666593302 and parameters: {'max_depth': 10.0, 'n_estimators': 410.0, 'learning_rate': 0.04936136705399827, 'subsample': 0.7010782988732652, 'colsample_bytree': 0.8813379449398991}. Best is trial 13 with value: 0.8295348666593302.\u001b[0m\n",
            "\u001b[32m[I 2022-05-01 05:27:08,321]\u001b[0m Trial 14 finished with value: 0.8312626095887898 and parameters: {'max_depth': 10.0, 'n_estimators': 410.0, 'learning_rate': 0.0493831934415054, 'subsample': 0.7541391845870541, 'colsample_bytree': 0.8889922745422918}. Best is trial 14 with value: 0.8312626095887898.\u001b[0m\n",
            "\u001b[32m[I 2022-05-01 05:29:56,176]\u001b[0m Trial 15 finished with value: 0.8329811819082206 and parameters: {'max_depth': 12.0, 'n_estimators': 400.0, 'learning_rate': 0.04922686868821576, 'subsample': 0.7608193777080609, 'colsample_bytree': 0.888087368190407}. Best is trial 15 with value: 0.8329811819082206.\u001b[0m\n",
            "\u001b[32m[I 2022-05-01 05:33:14,443]\u001b[0m Trial 16 finished with value: 0.8274036168885953 and parameters: {'max_depth': 20.0, 'n_estimators': 380.0, 'learning_rate': 0.03798458426400095, 'subsample': 0.7665683162966658, 'colsample_bytree': 0.9304842134135195}. Best is trial 15 with value: 0.8329811819082206.\u001b[0m\n",
            "\u001b[32m[I 2022-05-01 05:36:25,140]\u001b[0m Trial 17 finished with value: 0.7918454935622318 and parameters: {'max_depth': 12.0, 'n_estimators': 340.0, 'learning_rate': 0.0032775261327010977, 'subsample': 0.7478166609148339, 'colsample_bytree': 0.8597355671582968}. Best is trial 15 with value: 0.8329811819082206.\u001b[0m\n",
            "\u001b[32m[I 2022-05-01 05:39:49,094]\u001b[0m Trial 18 finished with value: 0.8295422031473534 and parameters: {'max_depth': 12.0, 'n_estimators': 460.0, 'learning_rate': 0.04403347942749727, 'subsample': 0.7833881471903476, 'colsample_bytree': 0.9519235771404079}. Best is trial 15 with value: 0.8329811819082206.\u001b[0m\n",
            "\u001b[32m[I 2022-05-01 05:42:17,428]\u001b[0m Trial 19 finished with value: 0.8214023696856314 and parameters: {'max_depth': 10.0, 'n_estimators': 320.0, 'learning_rate': 0.024645874871841486, 'subsample': 0.7385120665334625, 'colsample_bytree': 0.8566367294241981}. Best is trial 15 with value: 0.8329811819082206.\u001b[0m\n",
            "\u001b[32m[I 2022-05-01 05:48:05,964]\u001b[0m Trial 20 finished with value: 0.7961318366897766 and parameters: {'max_depth': 16.0, 'n_estimators': 470.0, 'learning_rate': 0.003840956883789454, 'subsample': 0.8248266553692177, 'colsample_bytree': 0.9157482418369278}. Best is trial 15 with value: 0.8329811819082206.\u001b[0m\n",
            "\u001b[32m[I 2022-05-01 05:51:25,980]\u001b[0m Trial 21 finished with value: 0.8325428267488354 and parameters: {'max_depth': 12.0, 'n_estimators': 460.0, 'learning_rate': 0.047954072642513196, 'subsample': 0.7849021634407822, 'colsample_bytree': 0.960762504448388}. Best is trial 15 with value: 0.8329811819082206.\u001b[0m\n",
            "\u001b[32m[I 2022-05-01 05:54:54,188]\u001b[0m Trial 22 finished with value: 0.8248321778364696 and parameters: {'max_depth': 12.0, 'n_estimators': 400.0, 'learning_rate': 0.033844489046329494, 'subsample': 0.7831293459670231, 'colsample_bytree': 0.9867025402736417}. Best is trial 15 with value: 0.8329811819082206.\u001b[0m\n",
            "\u001b[32m[I 2022-05-01 05:57:49,210]\u001b[0m Trial 23 finished with value: 0.826106892630498 and parameters: {'max_depth': 10.0, 'n_estimators': 350.0, 'learning_rate': 0.024248119123583607, 'subsample': 0.735087185610821, 'colsample_bytree': 0.9525330860486975}. Best is trial 15 with value: 0.8329811819082206.\u001b[0m\n",
            "\u001b[32m[I 2022-05-01 05:59:55,013]\u001b[0m Trial 24 finished with value: 0.8282564836212906 and parameters: {'max_depth': 6.0, 'n_estimators': 430.0, 'learning_rate': 0.04986258889517988, 'subsample': 0.7719243084886772, 'colsample_bytree': 0.882745667865419}. Best is trial 15 with value: 0.8329811819082206.\u001b[0m\n",
            "\u001b[32m[I 2022-05-01 06:05:34,862]\u001b[0m Trial 25 finished with value: 0.8154029566046734 and parameters: {'max_depth': 16.0, 'n_estimators': 490.0, 'learning_rate': 0.011069654552604507, 'subsample': 0.8073570692597788, 'colsample_bytree': 0.943169919490934}. Best is trial 15 with value: 0.8329811819082206.\u001b[0m\n",
            "\u001b[32m[I 2022-05-01 06:08:17,789]\u001b[0m Trial 26 finished with value: 0.8183962437181321 and parameters: {'max_depth': 12.0, 'n_estimators': 290.0, 'learning_rate': 0.021018331229318708, 'subsample': 0.7954856646863133, 'colsample_bytree': 0.8980518616490695}. Best is trial 15 with value: 0.8329811819082206.\u001b[0m\n",
            "\u001b[32m[I 2022-05-01 06:11:22,028]\u001b[0m Trial 27 finished with value: 0.8261087267525037 and parameters: {'max_depth': 14.0, 'n_estimators': 380.0, 'learning_rate': 0.03516246950254222, 'subsample': 0.7621470901603142, 'colsample_bytree': 0.8491815494938616}. Best is trial 15 with value: 0.8329811819082206.\u001b[0m\n",
            "\u001b[32m[I 2022-05-01 06:14:18,584]\u001b[0m Trial 28 finished with value: 0.826105058508492 and parameters: {'max_depth': 10.0, 'n_estimators': 430.0, 'learning_rate': 0.036531672832633776, 'subsample': 0.9073920876813566, 'colsample_bytree': 0.8048875789060436}. Best is trial 15 with value: 0.8329811819082206.\u001b[0m\n",
            "\u001b[32m[I 2022-05-01 06:17:02,622]\u001b[0m Trial 29 finished with value: 0.827398114522578 and parameters: {'max_depth': 6.0, 'n_estimators': 510.0, 'learning_rate': 0.020196474150791725, 'subsample': 0.7279161483711959, 'colsample_bytree': 0.9624401992739936}. Best is trial 15 with value: 0.8329811819082206.\u001b[0m\n",
            "\u001b[32m[I 2022-05-01 06:18:32,641]\u001b[0m Trial 30 finished with value: 0.7858442463592678 and parameters: {'max_depth': 6.0, 'n_estimators': 280.0, 'learning_rate': 0.010672723097486236, 'subsample': 0.8438665705530758, 'colsample_bytree': 0.9220170904912413}. Best is trial 15 with value: 0.8329811819082206.\u001b[0m\n",
            "\u001b[32m[I 2022-05-01 06:21:50,065]\u001b[0m Trial 31 finished with value: 0.8299713876967096 and parameters: {'max_depth': 12.0, 'n_estimators': 470.0, 'learning_rate': 0.04936748218416001, 'subsample': 0.7804888560902269, 'colsample_bytree': 0.9679170370346188}. Best is trial 15 with value: 0.8329811819082206.\u001b[0m\n",
            "\u001b[32m[I 2022-05-01 06:25:54,185]\u001b[0m Trial 32 finished with value: 0.8265434136678772 and parameters: {'max_depth': 12.0, 'n_estimators': 480.0, 'learning_rate': 0.030182624809767307, 'subsample': 0.7781617311027919, 'colsample_bytree': 0.972681238250206}. Best is trial 15 with value: 0.8329811819082206.\u001b[0m\n",
            "\u001b[32m[I 2022-05-01 06:28:34,062]\u001b[0m Trial 33 finished with value: 0.8282528153772789 and parameters: {'max_depth': 10.0, 'n_estimators': 380.0, 'learning_rate': 0.04276009535132343, 'subsample': 0.7510127139624737, 'colsample_bytree': 0.8956112340623353}. Best is trial 15 with value: 0.8329811819082206.\u001b[0m\n",
            "\u001b[32m[I 2022-05-01 06:32:42,733]\u001b[0m Trial 34 finished with value: 0.825683210447159 and parameters: {'max_depth': 14.0, 'n_estimators': 430.0, 'learning_rate': 0.027329787101750398, 'subsample': 0.8262886673681126, 'colsample_bytree': 0.9952497733551517}. Best is trial 15 with value: 0.8329811819082206.\u001b[0m\n",
            "\u001b[32m[I 2022-05-01 06:37:48,283]\u001b[0m Trial 35 finished with value: 0.8029841165034298 and parameters: {'max_depth': 12.0, 'n_estimators': 500.0, 'learning_rate': 0.005050683452210103, 'subsample': 0.8007259020668532, 'colsample_bytree': 0.932379169810295}. Best is trial 15 with value: 0.8329811819082206.\u001b[0m\n",
            "\u001b[32m[I 2022-05-01 06:40:29,780]\u001b[0m Trial 36 finished with value: 0.7717270092806574 and parameters: {'max_depth': 8.0, 'n_estimators': 410.0, 'learning_rate': 0.0019595449688674985, 'subsample': 0.7617650575657786, 'colsample_bytree': 0.8704554893516757}. Best is trial 15 with value: 0.8329811819082206.\u001b[0m\n",
            "\u001b[32m[I 2022-05-01 06:41:34,332]\u001b[0m Trial 37 finished with value: 0.803844319724148 and parameters: {'max_depth': 14.0, 'n_estimators': 100.0, 'learning_rate': 0.03175373271280214, 'subsample': 0.7446158440170569, 'colsample_bytree': 0.9082166578370747}. Best is trial 15 with value: 0.8329811819082206.\u001b[0m\n",
            "\u001b[32m[I 2022-05-01 06:44:30,686]\u001b[0m Trial 38 finished with value: 0.8295403690253476 and parameters: {'max_depth': 10.0, 'n_estimators': 450.0, 'learning_rate': 0.040452986137473064, 'subsample': 0.7864308924782353, 'colsample_bytree': 0.832748951523757}. Best is trial 15 with value: 0.8329811819082206.\u001b[0m\n",
            "\u001b[32m[I 2022-05-01 06:49:30,742]\u001b[0m Trial 39 finished with value: 0.8295477055133708 and parameters: {'max_depth': 16.0, 'n_estimators': 530.0, 'learning_rate': 0.02158662086834047, 'subsample': 0.7198875117927439, 'colsample_bytree': 0.9733198688721689}. Best is trial 15 with value: 0.8329811819082206.\u001b[0m\n",
            "\u001b[32m[I 2022-05-01 06:52:03,369]\u001b[0m Trial 40 finished with value: 0.8274017827665896 and parameters: {'max_depth': 12.0, 'n_estimators': 360.0, 'learning_rate': 0.047731173117959234, 'subsample': 0.8095732850863436, 'colsample_bytree': 0.8135447037582096}. Best is trial 15 with value: 0.8329811819082206.\u001b[0m\n",
            "\u001b[32m[I 2022-05-01 06:56:45,767]\u001b[0m Trial 41 finished with value: 0.830831590917428 and parameters: {'max_depth': 18.0, 'n_estimators': 530.0, 'learning_rate': 0.026927664659581806, 'subsample': 0.721583149112382, 'colsample_bytree': 0.9765013727871328}. Best is trial 15 with value: 0.8329811819082206.\u001b[0m\n",
            "\u001b[32m[I 2022-05-01 07:01:17,570]\u001b[0m Trial 42 finished with value: 0.8256905469351821 and parameters: {'max_depth': 20.0, 'n_estimators': 490.0, 'learning_rate': 0.028349624380154773, 'subsample': 0.755047082131065, 'colsample_bytree': 0.9987807096551904}. Best is trial 15 with value: 0.8329811819082206.\u001b[0m\n",
            "\u001b[32m[I 2022-05-01 07:05:28,691]\u001b[0m Trial 43 finished with value: 0.83039873812406 and parameters: {'max_depth': 18.0, 'n_estimators': 550.0, 'learning_rate': 0.03807688142204234, 'subsample': 0.7182122313695845, 'colsample_bytree': 0.9692879736076101}. Best is trial 15 with value: 0.8329811819082206.\u001b[0m\n",
            "\u001b[32m[I 2022-05-01 07:09:29,168]\u001b[0m Trial 44 finished with value: 0.8274017827665896 and parameters: {'max_depth': 18.0, 'n_estimators': 530.0, 'learning_rate': 0.03768725933394238, 'subsample': 0.7136703572022509, 'colsample_bytree': 0.94412774955647}. Best is trial 15 with value: 0.8329811819082206.\u001b[0m\n",
            "\u001b[32m[I 2022-05-01 07:14:43,278]\u001b[0m Trial 45 finished with value: 0.8282546494992846 and parameters: {'max_depth': 18.0, 'n_estimators': 540.0, 'learning_rate': 0.01822053793997986, 'subsample': 0.7255942004904425, 'colsample_bytree': 0.9315017232385431}. Best is trial 15 with value: 0.8329811819082206.\u001b[0m\n",
            "\u001b[32m[I 2022-05-01 07:19:12,392]\u001b[0m Trial 46 finished with value: 0.8304042404900775 and parameters: {'max_depth': 18.0, 'n_estimators': 520.0, 'learning_rate': 0.03142717263847105, 'subsample': 0.7356161183793928, 'colsample_bytree': 0.9834493189132357}. Best is trial 15 with value: 0.8329811819082206.\u001b[0m\n",
            "\u001b[32m[I 2022-05-01 07:25:48,005]\u001b[0m Trial 47 finished with value: 0.8149774402993287 and parameters: {'max_depth': 20.0, 'n_estimators': 510.0, 'learning_rate': 0.013594048009505012, 'subsample': 0.9462982700644877, 'colsample_bytree': 0.9831567306054795}. Best is trial 15 with value: 0.8329811819082206.\u001b[0m\n",
            "\u001b[32m[I 2022-05-01 07:29:30,047]\u001b[0m Trial 48 finished with value: 0.8325391585048237 and parameters: {'max_depth': 16.0, 'n_estimators': 450.0, 'learning_rate': 0.031635448779550886, 'subsample': 0.7358464002172247, 'colsample_bytree': 0.8771883090246767}. Best is trial 15 with value: 0.8329811819082206.\u001b[0m\n",
            "\u001b[32m[I 2022-05-01 07:33:23,932]\u001b[0m Trial 49 finished with value: 0.8286930046586699 and parameters: {'max_depth': 16.0, 'n_estimators': 440.0, 'learning_rate': 0.02622034657607449, 'subsample': 0.7465558656329943, 'colsample_bytree': 0.8831253170109877}. Best is trial 15 with value: 0.8329811819082206.\u001b[0m\n"
          ]
        },
        {
          "output_type": "stream",
          "name": "stdout",
          "text": [
            "Best Score: 0.8329811819082206\n",
            "Best trial: {'max_depth': 12.0, 'n_estimators': 400.0, 'learning_rate': 0.04922686868821576, 'subsample': 0.7608193777080609, 'colsample_bytree': 0.888087368190407}\n"
          ]
        }
      ]
    },
    {
      "cell_type": "markdown",
      "source": [
        "#### Light GBM"
      ],
      "metadata": {
        "id": "DrxBOgXzdW6X"
      }
    },
    {
      "cell_type": "code",
      "source": [
        "def objectiveLGB(trial:Trial) -> float:\n",
        "  score_list = []\n",
        "  params = {\n",
        "    'random_state':42,\n",
        "    'max_depth' : int(trial.suggest_discrete_uniform('max_depth',2, 20,2)),\n",
        "    'n_estimators': int(trial.suggest_discrete_uniform('n_estimators',100,550,10)),\n",
        "     'learning_rate': trial.suggest_loguniform('learning_rate', 1e-3, 0.05),\n",
        "     'subsample': trial.suggest_loguniform('subsample',0.7,1),\n",
        "     'colsample_bytree':trial.suggest_loguniform('colsample_bytree',0.7,1)\n",
        "     }\n",
        "  for tr_idx, val_idx in skf.split(X_train, y_train):\n",
        "    X_tr, X_val = X_train.to_numpy()[tr_idx], X_train.to_numpy()[val_idx]\n",
        "    y_tr, y_val = y_train.to_numpy()[tr_idx], y_train.to_numpy()[val_idx]\n",
        "    lgb = LGBMClassifier(**params)\n",
        "    lgb = lgb.fit(X_tr, y_tr)\n",
        "    score = accuracy_score(lgb.predict(X_val), y_val)\n",
        "    score_list.append(score)\n",
        "  return np.mean(score_list)"
      ],
      "metadata": {
        "id": "eFL8QPcbdgL9"
      },
      "execution_count": null,
      "outputs": []
    },
    {
      "cell_type": "code",
      "source": [
        "lgb_study = optuna.create_study(\n",
        "    study_name = 'LGB_test',\n",
        "    direction='maximize',\n",
        "    sampler = TPESampler(seed=42)\n",
        ")"
      ],
      "metadata": {
        "colab": {
          "base_uri": "https://localhost:8080/"
        },
        "id": "hDSjpyOrdpWL",
        "outputId": "6b02c2fb-4f95-4357-8012-e915ad4284a0"
      },
      "execution_count": null,
      "outputs": [
        {
          "output_type": "stream",
          "name": "stderr",
          "text": [
            "\u001b[32m[I 2022-05-01 07:33:23,963]\u001b[0m A new study created in memory with name: LGB_test\u001b[0m\n"
          ]
        }
      ]
    },
    {
      "cell_type": "code",
      "source": [
        "lgb_study.optimize(objectiveLGB, n_trials=50)\n",
        "print(\"Best Score:\", lgb_study.best_value)\n",
        "print(\"Best trial:\", lgb_study.best_trial.params)"
      ],
      "metadata": {
        "colab": {
          "base_uri": "https://localhost:8080/"
        },
        "id": "vBzlncOLdgSh",
        "outputId": "dffd4d40-fcad-4180-c8ab-3d84b6e1c198"
      },
      "execution_count": null,
      "outputs": [
        {
          "output_type": "stream",
          "name": "stderr",
          "text": [
            "\u001b[32m[I 2022-05-01 07:34:32,376]\u001b[0m Trial 0 finished with value: 0.8063974175562159 and parameters: {'max_depth': 8.0, 'n_estimators': 530.0, 'learning_rate': 0.01752410111812814, 'subsample': 0.8666253978417815, 'colsample_bytree': 0.7400577878782706}. Best is trial 0 with value: 0.8063974175562159.\u001b[0m\n",
            "\u001b[32m[I 2022-05-01 07:34:40,130]\u001b[0m Trial 1 finished with value: 0.7383276475551154 and parameters: {'max_depth': 4.0, 'n_estimators': 120.0, 'learning_rate': 0.029621516588303493, 'subsample': 0.867385052013284, 'colsample_bytree': 0.9011142760532918}. Best is trial 0 with value: 0.8063974175562159.\u001b[0m\n",
            "\u001b[32m[I 2022-05-01 07:34:51,070]\u001b[0m Trial 2 finished with value: 0.746487656358901 and parameters: {'max_depth': 2.0, 'n_estimators': 540.0, 'learning_rate': 0.025959425503112647, 'subsample': 0.7550744664467341, 'colsample_bytree': 0.746901073793237}. Best is trial 0 with value: 0.8063974175562159.\u001b[0m\n",
            "\u001b[32m[I 2022-05-01 07:35:03,951]\u001b[0m Trial 3 finished with value: 0.7006456109460402 and parameters: {'max_depth': 4.0, 'n_estimators': 230.0, 'learning_rate': 0.0077901431262762414, 'subsample': 0.8165958528802547, 'colsample_bytree': 0.7766225644402593}. Best is trial 0 with value: 0.8063974175562159.\u001b[0m\n",
            "\u001b[32m[I 2022-05-01 07:35:29,976]\u001b[0m Trial 4 finished with value: 0.7272055317119696 and parameters: {'max_depth': 14.0, 'n_estimators': 160.0, 'learning_rate': 0.0031357757322577457, 'subsample': 0.7977158249649767, 'colsample_bytree': 0.8236527911100895}. Best is trial 0 with value: 0.8063974175562159.\u001b[0m\n",
            "\u001b[32m[I 2022-05-01 07:35:57,561]\u001b[0m Trial 5 finished with value: 0.767015149847768 and parameters: {'max_depth': 16.0, 'n_estimators': 190.0, 'learning_rate': 0.007475992999956505, 'subsample': 0.8646975288763031, 'colsample_bytree': 0.7116939926304295}. Best is trial 0 with value: 0.8063974175562159.\u001b[0m\n",
            "\u001b[32m[I 2022-05-01 07:36:29,674]\u001b[0m Trial 6 finished with value: 0.6728329848501522 and parameters: {'max_depth': 14.0, 'n_estimators': 170.0, 'learning_rate': 0.0012897950480855534, 'subsample': 0.9819339357105158, 'colsample_bytree': 0.9878166329131964}. Best is trial 0 with value: 0.8063974175562159.\u001b[0m\n",
            "\u001b[32m[I 2022-05-01 07:37:09,298]\u001b[0m Trial 7 finished with value: 0.7233538754997982 and parameters: {'max_depth': 18.0, 'n_estimators': 240.0, 'learning_rate': 0.0014653521030672135, 'subsample': 0.8934846112177743, 'colsample_bytree': 0.8189898585654789}. Best is trial 0 with value: 0.8063974175562159.\u001b[0m\n",
            "\u001b[32m[I 2022-05-01 07:37:27,940]\u001b[0m Trial 8 finished with value: 0.6098529034151352 and parameters: {'max_depth': 4.0, 'n_estimators': 320.0, 'learning_rate': 0.0011439974749291274, 'subsample': 0.9681743052536671, 'colsample_bytree': 0.7676859041127272}. Best is trial 0 with value: 0.8063974175562159.\u001b[0m\n",
            "\u001b[32m[I 2022-05-01 07:38:04,036]\u001b[0m Trial 9 finished with value: 0.7678716848244744 and parameters: {'max_depth': 14.0, 'n_estimators': 240.0, 'learning_rate': 0.00764856511236995, 'subsample': 0.8507158685078077, 'colsample_bytree': 0.7477085683912128}. Best is trial 0 with value: 0.8063974175562159.\u001b[0m\n",
            "\u001b[32m[I 2022-05-01 07:39:09,264]\u001b[0m Trial 10 finished with value: 0.8017020652213785 and parameters: {'max_depth': 8.0, 'n_estimators': 520.0, 'learning_rate': 0.015229416615648682, 'subsample': 0.7044989817746417, 'colsample_bytree': 0.7038474356112341}. Best is trial 0 with value: 0.8063974175562159.\u001b[0m\n",
            "\u001b[32m[I 2022-05-01 07:40:18,086]\u001b[0m Trial 11 finished with value: 0.8085396720589854 and parameters: {'max_depth': 8.0, 'n_estimators': 550.0, 'learning_rate': 0.01624018209440578, 'subsample': 0.721697722637088, 'colsample_bytree': 0.700933642527879}. Best is trial 11 with value: 0.8085396720589854.\u001b[0m\n",
            "\u001b[32m[I 2022-05-01 07:41:14,849]\u001b[0m Trial 12 finished with value: 0.7961263343237592 and parameters: {'max_depth': 8.0, 'n_estimators': 450.0, 'learning_rate': 0.014264681201116, 'subsample': 0.713069765416469, 'colsample_bytree': 0.7041156562893638}. Best is trial 11 with value: 0.8085396720589854.\u001b[0m\n",
            "\u001b[32m[I 2022-05-01 07:42:26,597]\u001b[0m Trial 13 finished with value: 0.8248285095924581 and parameters: {'max_depth': 10.0, 'n_estimators': 410.0, 'learning_rate': 0.04936136705399827, 'subsample': 0.9269156675702644, 'colsample_bytree': 0.8813379449398991}. Best is trial 13 with value: 0.8248285095924581.\u001b[0m\n",
            "\u001b[32m[I 2022-05-01 07:43:37,951]\u001b[0m Trial 14 finished with value: 0.8222607387843439 and parameters: {'max_depth': 10.0, 'n_estimators': 410.0, 'learning_rate': 0.0493831934415054, 'subsample': 0.9276616114129212, 'colsample_bytree': 0.8889922745422918}. Best is trial 13 with value: 0.8248285095924581.\u001b[0m\n",
            "\u001b[32m[I 2022-05-01 07:44:52,388]\u001b[0m Trial 15 finished with value: 0.8269836029492682 and parameters: {'max_depth': 12.0, 'n_estimators': 400.0, 'learning_rate': 0.04922686868821576, 'subsample': 0.946889715661252, 'colsample_bytree': 0.888087368190407}. Best is trial 15 with value: 0.8269836029492682.\u001b[0m\n",
            "\u001b[32m[I 2022-05-01 07:46:08,658]\u001b[0m Trial 16 finished with value: 0.8295367007813359 and parameters: {'max_depth': 20.0, 'n_estimators': 380.0, 'learning_rate': 0.03798137895137138, 'subsample': 0.929549370662671, 'colsample_bytree': 0.8975089795633884}. Best is trial 16 with value: 0.8295367007813359.\u001b[0m\n",
            "\u001b[32m[I 2022-05-01 07:47:20,900]\u001b[0m Trial 17 finished with value: 0.8231191078830562 and parameters: {'max_depth': 20.0, 'n_estimators': 340.0, 'learning_rate': 0.030430702364390903, 'subsample': 0.9338326462576907, 'colsample_bytree': 0.956336951718161}. Best is trial 16 with value: 0.8295367007813359.\u001b[0m\n",
            "\u001b[32m[I 2022-05-01 07:48:22,325]\u001b[0m Trial 18 finished with value: 0.7417482850959246 and parameters: {'max_depth': 20.0, 'n_estimators': 320.0, 'learning_rate': 0.003511758749062596, 'subsample': 0.9958997821972583, 'colsample_bytree': 0.9379739998875383}. Best is trial 16 with value: 0.8295367007813359.\u001b[0m\n",
            "\u001b[32m[I 2022-05-01 07:49:48,694]\u001b[0m Trial 19 finished with value: 0.824821173104435 and parameters: {'max_depth': 16.0, 'n_estimators': 460.0, 'learning_rate': 0.024615259651544607, 'subsample': 0.9050005749207168, 'colsample_bytree': 0.8559279599724385}. Best is trial 16 with value: 0.8295367007813359.\u001b[0m\n",
            "\u001b[32m[I 2022-05-01 07:50:58,914]\u001b[0m Trial 20 finished with value: 0.8261178973625325 and parameters: {'max_depth': 12.0, 'n_estimators': 370.0, 'learning_rate': 0.04180301872969487, 'subsample': 0.9513675388051939, 'colsample_bytree': 0.9170449727663104}. Best is trial 16 with value: 0.8295367007813359.\u001b[0m\n",
            "\u001b[32m[I 2022-05-01 07:52:09,720]\u001b[0m Trial 21 finished with value: 0.8248211731044348 and parameters: {'max_depth': 12.0, 'n_estimators': 370.0, 'learning_rate': 0.04061076189753671, 'subsample': 0.9569296531280883, 'colsample_bytree': 0.9150166227920177}. Best is trial 16 with value: 0.8295367007813359.\u001b[0m\n",
            "\u001b[32m[I 2022-05-01 07:53:17,987]\u001b[0m Trial 22 finished with value: 0.8248266754704522 and parameters: {'max_depth': 12.0, 'n_estimators': 380.0, 'learning_rate': 0.03660839258400462, 'subsample': 0.9534488288926476, 'colsample_bytree': 0.8614607351321112}. Best is trial 16 with value: 0.8295367007813359.\u001b[0m\n",
            "\u001b[32m[I 2022-05-01 07:54:16,168]\u001b[0m Trial 23 finished with value: 0.807275961996992 and parameters: {'max_depth': 18.0, 'n_estimators': 290.0, 'learning_rate': 0.021585635980017698, 'subsample': 0.9069085020169801, 'colsample_bytree': 0.9312701587662757}. Best is trial 16 with value: 0.8295367007813359.\u001b[0m\n",
            "\u001b[32m[I 2022-05-01 07:55:55,522]\u001b[0m Trial 24 finished with value: 0.8333938593595246 and parameters: {'max_depth': 16.0, 'n_estimators': 460.0, 'learning_rate': 0.03525128955674866, 'subsample': 0.888260601025345, 'colsample_bytree': 0.9857824129190181}. Best is trial 24 with value: 0.8333938593595246.\u001b[0m\n",
            "\u001b[32m[I 2022-05-01 07:57:37,854]\u001b[0m Trial 25 finished with value: 0.8034096328087745 and parameters: {'max_depth': 18.0, 'n_estimators': 480.0, 'learning_rate': 0.01056858626806416, 'subsample': 0.8910981284902474, 'colsample_bytree': 0.9771989010677478}. Best is trial 24 with value: 0.8333938593595246.\u001b[0m\n",
            "\u001b[32m[I 2022-05-01 07:58:59,799]\u001b[0m Trial 26 finished with value: 0.7657275961996992 and parameters: {'max_depth': 16.0, 'n_estimators': 420.0, 'learning_rate': 0.004412575130718343, 'subsample': 0.8252703514088018, 'colsample_bytree': 0.9577722285915529}. Best is trial 24 with value: 0.8333938593595246.\u001b[0m\n",
            "\u001b[32m[I 2022-05-01 08:00:28,506]\u001b[0m Trial 27 finished with value: 0.8308169179413815 and parameters: {'max_depth': 20.0, 'n_estimators': 490.0, 'learning_rate': 0.03216210578197379, 'subsample': 0.7947389471867241, 'colsample_bytree': 0.8009060558631124}. Best is trial 24 with value: 0.8333938593595246.\u001b[0m\n",
            "\u001b[32m[I 2022-05-01 08:01:52,376]\u001b[0m Trial 28 finished with value: 0.8154102930926964 and parameters: {'max_depth': 20.0, 'n_estimators': 470.0, 'learning_rate': 0.019506902543592605, 'subsample': 0.7678547465872185, 'colsample_bytree': 0.8085457007719233}. Best is trial 24 with value: 0.8333938593595246.\u001b[0m\n",
            "\u001b[32m[I 2022-05-01 08:03:20,001]\u001b[0m Trial 29 finished with value: 0.8059792377388945 and parameters: {'max_depth': 18.0, 'n_estimators': 500.0, 'learning_rate': 0.011482285122230576, 'subsample': 0.7922326103615801, 'colsample_bytree': 0.7891930191766565}. Best is trial 24 with value: 0.8333938593595246.\u001b[0m\n",
            "\u001b[32m[I 2022-05-01 08:04:45,565]\u001b[0m Trial 30 finished with value: 0.8282564836212905 and parameters: {'max_depth': 20.0, 'n_estimators': 440.0, 'learning_rate': 0.03499163349987588, 'subsample': 0.8438665705530758, 'colsample_bytree': 0.8460142234936296}. Best is trial 24 with value: 0.8333938593595246.\u001b[0m\n",
            "\u001b[32m[I 2022-05-01 08:06:09,272]\u001b[0m Trial 31 finished with value: 0.8269689299732217 and parameters: {'max_depth': 20.0, 'n_estimators': 430.0, 'learning_rate': 0.03153035574900941, 'subsample': 0.8381164337200883, 'colsample_bytree': 0.8530324090164181}. Best is trial 24 with value: 0.8333938593595246.\u001b[0m\n",
            "\u001b[32m[I 2022-05-01 08:07:38,208]\u001b[0m Trial 32 finished with value: 0.8235354535783721 and parameters: {'max_depth': 20.0, 'n_estimators': 490.0, 'learning_rate': 0.022477398383871104, 'subsample': 0.8709998212685269, 'colsample_bytree': 0.8020897662127314}. Best is trial 24 with value: 0.8333938593595246.\u001b[0m\n",
            "\u001b[32m[I 2022-05-01 08:09:13,723]\u001b[0m Trial 33 finished with value: 0.8351087634349437 and parameters: {'max_depth': 18.0, 'n_estimators': 510.0, 'learning_rate': 0.03302177445552241, 'subsample': 0.8080804989778588, 'colsample_bytree': 0.8380883799529597}. Best is trial 33 with value: 0.8351087634349437.\u001b[0m\n",
            "\u001b[32m[I 2022-05-01 08:10:50,098]\u001b[0m Trial 34 finished with value: 0.8291020138659624 and parameters: {'max_depth': 18.0, 'n_estimators': 520.0, 'learning_rate': 0.028018798882196536, 'subsample': 0.762842857598293, 'colsample_bytree': 0.8363644624166403}. Best is trial 33 with value: 0.8351087634349437.\u001b[0m\n",
            "\u001b[32m[I 2022-05-01 08:12:17,484]\u001b[0m Trial 35 finished with value: 0.8252540258978026 and parameters: {'max_depth': 16.0, 'n_estimators': 510.0, 'learning_rate': 0.025417108308165848, 'subsample': 0.798866572880521, 'colsample_bytree': 0.7703029793190943}. Best is trial 33 with value: 0.8351087634349437.\u001b[0m\n",
            "\u001b[32m[I 2022-05-01 08:14:00,799]\u001b[0m Trial 36 finished with value: 0.8222589046623382 and parameters: {'max_depth': 18.0, 'n_estimators': 540.0, 'learning_rate': 0.01871672358585048, 'subsample': 0.7422967524897102, 'colsample_bytree': 0.8704554893516757}. Best is trial 33 with value: 0.8351087634349437.\u001b[0m\n",
            "\u001b[32m[I 2022-05-01 08:14:18,070]\u001b[0m Trial 37 finished with value: 0.791852830050255 and parameters: {'max_depth': 16.0, 'n_estimators': 100.0, 'learning_rate': 0.036857055066606983, 'subsample': 0.7773359226006413, 'colsample_bytree': 0.8322542995054207}. Best is trial 33 with value: 0.8351087634349437.\u001b[0m\n",
            "\u001b[32m[I 2022-05-01 08:15:28,252]\u001b[0m Trial 38 finished with value: 0.7811488940244304 and parameters: {'max_depth': 14.0, 'n_estimators': 460.0, 'learning_rate': 0.005749135577215179, 'subsample': 0.8055098412040869, 'colsample_bytree': 0.729520084891583}. Best is trial 33 with value: 0.8351087634349437.\u001b[0m\n",
            "\u001b[32m[I 2022-05-01 08:17:11,292]\u001b[0m Trial 39 finished with value: 0.8055537214335498 and parameters: {'max_depth': 18.0, 'n_estimators': 480.0, 'learning_rate': 0.012195732151167461, 'subsample': 0.8231017081431817, 'colsample_bytree': 0.9967871310819925}. Best is trial 33 with value: 0.8351087634349437.\u001b[0m\n",
            "\u001b[32m[I 2022-05-01 08:17:58,607]\u001b[0m Trial 40 finished with value: 0.7451890979787976 and parameters: {'max_depth': 16.0, 'n_estimators': 290.0, 'learning_rate': 0.00239430119482064, 'subsample': 0.8670892159820128, 'colsample_bytree': 0.7822549371107791}. Best is trial 33 with value: 0.8351087634349437.\u001b[0m\n",
            "\u001b[32m[I 2022-05-01 08:19:36,484]\u001b[0m Trial 41 finished with value: 0.8312497707347493 and parameters: {'max_depth': 18.0, 'n_estimators': 520.0, 'learning_rate': 0.02770735345766008, 'subsample': 0.7481803198083801, 'colsample_bytree': 0.8339107321075665}. Best is trial 33 with value: 0.8351087634349437.\u001b[0m\n",
            "\u001b[32m[I 2022-05-01 08:21:14,884]\u001b[0m Trial 42 finished with value: 0.8308187520633872 and parameters: {'max_depth': 20.0, 'n_estimators': 540.0, 'learning_rate': 0.0296657416055458, 'subsample': 0.7419137603079293, 'colsample_bytree': 0.8115106878692464}. Best is trial 33 with value: 0.8351087634349437.\u001b[0m\n",
            "\u001b[32m[I 2022-05-01 08:21:27,162]\u001b[0m Trial 43 finished with value: 0.7473423572136019 and parameters: {'max_depth': 2.0, 'n_estimators': 550.0, 'learning_rate': 0.026533436028794877, 'subsample': 0.7430108078966422, 'colsample_bytree': 0.8163724432615431}. Best is trial 33 with value: 0.8351087634349437.\u001b[0m\n",
            "\u001b[32m[I 2022-05-01 08:23:00,922]\u001b[0m Trial 44 finished with value: 0.8312497707347493 and parameters: {'max_depth': 18.0, 'n_estimators': 530.0, 'learning_rate': 0.03044921625603395, 'subsample': 0.7368950493972876, 'colsample_bytree': 0.7582356173218792}. Best is trial 33 with value: 0.8351087634349437.\u001b[0m\n",
            "\u001b[32m[I 2022-05-01 08:24:30,938]\u001b[0m Trial 45 finished with value: 0.8017057334653902 and parameters: {'max_depth': 18.0, 'n_estimators': 530.0, 'learning_rate': 0.009764450103533332, 'subsample': 0.7291263164834665, 'colsample_bytree': 0.751592215252191}. Best is trial 33 with value: 0.8351087634349437.\u001b[0m\n",
            "\u001b[32m[I 2022-05-01 08:25:52,224]\u001b[0m Trial 46 finished with value: 0.8162558233373683 and parameters: {'max_depth': 14.0, 'n_estimators': 510.0, 'learning_rate': 0.016855012240744757, 'subsample': 0.7438961812778881, 'colsample_bytree': 0.7328847837795426}. Best is trial 33 with value: 0.8351087634349437.\u001b[0m\n",
            "\u001b[32m[I 2022-05-01 08:27:23,410]\u001b[0m Trial 47 finished with value: 0.817983566266828 and parameters: {'max_depth': 16.0, 'n_estimators': 540.0, 'learning_rate': 0.013668828128777784, 'subsample': 0.7294746107670942, 'colsample_bytree': 0.7521245791318796}. Best is trial 33 with value: 0.8351087634349437.\u001b[0m\n",
            "\u001b[32m[I 2022-05-01 08:28:50,622]\u001b[0m Trial 48 finished with value: 0.8252448552877738 and parameters: {'max_depth': 18.0, 'n_estimators': 520.0, 'learning_rate': 0.021280532917771357, 'subsample': 0.7738848513044267, 'colsample_bytree': 0.7192641338097053}. Best is trial 33 with value: 0.8351087634349437.\u001b[0m\n",
            "\u001b[32m[I 2022-05-01 08:30:31,034]\u001b[0m Trial 49 finished with value: 0.8303969040020542 and parameters: {'max_depth': 14.0, 'n_estimators': 550.0, 'learning_rate': 0.04293755419794659, 'subsample': 0.7039794258264654, 'colsample_bytree': 0.8230637581936108}. Best is trial 33 with value: 0.8351087634349437.\u001b[0m\n"
          ]
        },
        {
          "output_type": "stream",
          "name": "stdout",
          "text": [
            "Best Score: 0.8351087634349437\n",
            "Best trial: {'max_depth': 18.0, 'n_estimators': 510.0, 'learning_rate': 0.03302177445552241, 'subsample': 0.8080804989778588, 'colsample_bytree': 0.8380883799529597}\n"
          ]
        }
      ]
    },
    {
      "cell_type": "markdown",
      "source": [
        "#### ExtraTreesclassifier"
      ],
      "metadata": {
        "id": "hbrXOXDmdzgD"
      }
    },
    {
      "cell_type": "code",
      "source": [
        "def objectiveETC(trial:Trial) -> float:\n",
        "  score_list = []\n",
        "  params = {\n",
        "    'random_state':42,\n",
        "    'max_depth' : int(trial.suggest_discrete_uniform('max_depth',2, 20,2)),\n",
        "    'min_samples_leaf': int(trial.suggest_discrete_uniform('min_samples_leaf',2,50,1)),\n",
        "    'min_samples_split': int(trial.suggest_discrete_uniform('min_samples_split',2,30,1)),\n",
        "    'n_estimators': int(trial.suggest_discrete_uniform('n_estimators',100,550,10))}\n",
        "  for tr_idx, val_idx in skf.split(X_train, y_train):\n",
        "    X_tr, X_val = X_train.to_numpy()[tr_idx], X_train.to_numpy()[val_idx]\n",
        "    y_tr, y_val = y_train.to_numpy()[tr_idx], y_train.to_numpy()[val_idx]\n",
        "    etc = ExtraTreesClassifier(**params)\n",
        "    etc = etc.fit(X_tr, y_tr)\n",
        "    score = accuracy_score(etc.predict(X_val), y_val)\n",
        "    score_list.append(score)\n",
        "  return np.mean(score_list)"
      ],
      "metadata": {
        "id": "TNheSnvSd21G"
      },
      "execution_count": null,
      "outputs": []
    },
    {
      "cell_type": "code",
      "source": [
        "etc_study = optuna.create_study(\n",
        "    study_name = 'ETC_test',\n",
        "    direction='maximize',\n",
        "    sampler = TPESampler(seed=42)\n",
        ")"
      ],
      "metadata": {
        "colab": {
          "base_uri": "https://localhost:8080/"
        },
        "id": "wV3udOt3eMUl",
        "outputId": "8c954d23-6e24-4e8e-aa68-02eb0c566f61"
      },
      "execution_count": null,
      "outputs": [
        {
          "output_type": "stream",
          "name": "stderr",
          "text": [
            "\u001b[32m[I 2022-05-01 08:30:31,073]\u001b[0m A new study created in memory with name: ETC_test\u001b[0m\n"
          ]
        }
      ]
    },
    {
      "cell_type": "code",
      "source": [
        "etc_study.optimize(objectiveETC, n_trials=50)\n",
        "print(\"Best Score:\", etc_study.best_value)\n",
        "print(\"Best trial:\", etc_study.best_trial.params)"
      ],
      "metadata": {
        "colab": {
          "base_uri": "https://localhost:8080/"
        },
        "id": "bklSPmYUeQcp",
        "outputId": "12ac3a62-9da3-455c-ae79-b663705fd62d"
      },
      "execution_count": null,
      "outputs": [
        {
          "output_type": "stream",
          "name": "stderr",
          "text": [
            "\u001b[32m[I 2022-05-01 08:30:36,451]\u001b[0m Trial 0 finished with value: 0.7143226587432595 and parameters: {'max_depth': 8.0, 'min_samples_leaf': 48.0, 'min_samples_split': 23.0, 'n_estimators': 370.0}. Best is trial 0 with value: 0.7143226587432595.\u001b[0m\n",
            "\u001b[32m[I 2022-05-01 08:30:43,444]\u001b[0m Trial 1 finished with value: 0.6817761637504127 and parameters: {'max_depth': 4.0, 'min_samples_leaf': 9.0, 'min_samples_split': 3.0, 'n_estimators': 490.0}. Best is trial 0 with value: 0.7143226587432595.\u001b[0m\n",
            "\u001b[32m[I 2022-05-01 08:30:51,760]\u001b[0m Trial 2 finished with value: 0.7276108726752504 and parameters: {'max_depth': 14.0, 'min_samples_leaf': 36.0, 'min_samples_split': 2.0, 'n_estimators': 540.0}. Best is trial 2 with value: 0.7276108726752504.\u001b[0m\n",
            "\u001b[32m[I 2022-05-01 08:30:55,188]\u001b[0m Trial 3 finished with value: 0.7447397380873776 and parameters: {'max_depth': 18.0, 'min_samples_leaf': 12.0, 'min_samples_split': 7.0, 'n_estimators': 180.0}. Best is trial 3 with value: 0.7447397380873776.\u001b[0m\n",
            "\u001b[32m[I 2022-05-01 08:30:58,696]\u001b[0m Trial 4 finished with value: 0.7134862991086168 and parameters: {'max_depth': 8.0, 'min_samples_leaf': 27.0, 'min_samples_split': 14.0, 'n_estimators': 230.0}. Best is trial 3 with value: 0.7447397380873776.\u001b[0m\n",
            "\u001b[32m[I 2022-05-01 08:31:03,811]\u001b[0m Trial 5 finished with value: 0.7477421958108652 and parameters: {'max_depth': 14.0, 'min_samples_leaf': 8.0, 'min_samples_split': 10.0, 'n_estimators': 260.0}. Best is trial 5 with value: 0.7477421958108652.\u001b[0m\n",
            "\u001b[32m[I 2022-05-01 08:31:08,685]\u001b[0m Trial 6 finished with value: 0.7177653057481383 and parameters: {'max_depth': 10.0, 'min_samples_leaf': 40.0, 'min_samples_split': 7.0, 'n_estimators': 330.0}. Best is trial 5 with value: 0.7477421958108652.\u001b[0m\n",
            "\u001b[32m[I 2022-05-01 08:31:12,083]\u001b[0m Trial 7 finished with value: 0.7400425516305345 and parameters: {'max_depth': 12.0, 'min_samples_leaf': 4.0, 'min_samples_split': 19.0, 'n_estimators': 170.0}. Best is trial 5 with value: 0.7477421958108652.\u001b[0m\n",
            "\u001b[32m[I 2022-05-01 08:31:18,039]\u001b[0m Trial 8 finished with value: 0.6124096694912146 and parameters: {'max_depth': 2.0, 'min_samples_leaf': 48.0, 'min_samples_split': 30.0, 'n_estimators': 470.0}. Best is trial 5 with value: 0.7477421958108652.\u001b[0m\n",
            "\u001b[32m[I 2022-05-01 08:31:23,144]\u001b[0m Trial 9 finished with value: 0.7237683870731082 and parameters: {'max_depth': 8.0, 'min_samples_leaf': 6.0, 'min_samples_split': 21.0, 'n_estimators': 300.0}. Best is trial 5 with value: 0.7477421958108652.\u001b[0m\n",
            "\u001b[32m[I 2022-05-01 08:31:24,925]\u001b[0m Trial 10 finished with value: 0.7310425149480945 and parameters: {'max_depth': 20.0, 'min_samples_leaf': 19.0, 'min_samples_split': 12.0, 'n_estimators': 100.0}. Best is trial 5 with value: 0.7477421958108652.\u001b[0m\n",
            "\u001b[32m[I 2022-05-01 08:31:28,915]\u001b[0m Trial 11 finished with value: 0.7383166428230806 and parameters: {'max_depth': 18.0, 'min_samples_leaf': 16.0, 'min_samples_split': 9.0, 'n_estimators': 220.0}. Best is trial 5 with value: 0.7477421958108652.\u001b[0m\n",
            "\u001b[32m[I 2022-05-01 08:31:30,740]\u001b[0m Trial 12 finished with value: 0.7378874582737244 and parameters: {'max_depth': 16.0, 'min_samples_leaf': 15.0, 'min_samples_split': 8.0, 'n_estimators': 100.0}. Best is trial 5 with value: 0.7477421958108652.\u001b[0m\n",
            "\u001b[32m[I 2022-05-01 08:31:34,728]\u001b[0m Trial 13 finished with value: 0.728467407651957 and parameters: {'max_depth': 16.0, 'min_samples_leaf': 24.0, 'min_samples_split': 12.0, 'n_estimators': 240.0}. Best is trial 5 with value: 0.7477421958108652.\u001b[0m\n",
            "\u001b[32m[I 2022-05-01 08:31:37,917]\u001b[0m Trial 14 finished with value: 0.7528850739151167 and parameters: {'max_depth': 20.0, 'min_samples_leaf': 11.0, 'min_samples_split': 6.0, 'n_estimators': 160.0}. Best is trial 14 with value: 0.7528850739151167.\u001b[0m\n",
            "\u001b[32m[I 2022-05-01 08:31:45,069]\u001b[0m Trial 15 finished with value: 0.789723414401526 and parameters: {'max_depth': 20.0, 'min_samples_leaf': 2.0, 'min_samples_split': 16.0, 'n_estimators': 290.0}. Best is trial 15 with value: 0.789723414401526.\u001b[0m\n",
            "\u001b[32m[I 2022-05-01 08:31:54,368]\u001b[0m Trial 16 finished with value: 0.7850060526026192 and parameters: {'max_depth': 20.0, 'min_samples_leaf': 3.0, 'min_samples_split': 17.0, 'n_estimators': 390.0}. Best is trial 15 with value: 0.789723414401526.\u001b[0m\n",
            "\u001b[32m[I 2022-05-01 08:32:03,898]\u001b[0m Trial 17 finished with value: 0.787144638861377 and parameters: {'max_depth': 20.0, 'min_samples_leaf': 2.0, 'min_samples_split': 17.0, 'n_estimators': 390.0}. Best is trial 15 with value: 0.789723414401526.\u001b[0m\n",
            "\u001b[32m[I 2022-05-01 08:32:13,539]\u001b[0m Trial 18 finished with value: 0.7798650086203734 and parameters: {'max_depth': 18.0, 'min_samples_leaf': 2.0, 'min_samples_split': 25.0, 'n_estimators': 420.0}. Best is trial 15 with value: 0.789723414401526.\u001b[0m\n",
            "\u001b[32m[I 2022-05-01 08:32:18,900]\u001b[0m Trial 19 finished with value: 0.7340247973295183 and parameters: {'max_depth': 16.0, 'min_samples_leaf': 23.0, 'min_samples_split': 17.0, 'n_estimators': 320.0}. Best is trial 15 with value: 0.789723414401526.\u001b[0m\n",
            "\u001b[32m[I 2022-05-01 08:32:25,834]\u001b[0m Trial 20 finished with value: 0.7254594475624518 and parameters: {'max_depth': 12.0, 'min_samples_leaf': 29.0, 'min_samples_split': 27.0, 'n_estimators': 440.0}. Best is trial 15 with value: 0.789723414401526.\u001b[0m\n",
            "\u001b[32m[I 2022-05-01 08:32:35,095]\u001b[0m Trial 21 finished with value: 0.7862862697626646 and parameters: {'max_depth': 20.0, 'min_samples_leaf': 2.0, 'min_samples_split': 17.0, 'n_estimators': 380.0}. Best is trial 15 with value: 0.789723414401526.\u001b[0m\n",
            "\u001b[32m[I 2022-05-01 08:32:44,194]\u001b[0m Trial 22 finished with value: 0.7841531858699241 and parameters: {'max_depth': 20.0, 'min_samples_leaf': 2.0, 'min_samples_split': 15.0, 'n_estimators': 370.0}. Best is trial 15 with value: 0.789723414401526.\u001b[0m\n",
            "\u001b[32m[I 2022-05-01 08:32:51,341]\u001b[0m Trial 23 finished with value: 0.7665859652984117 and parameters: {'max_depth': 18.0, 'min_samples_leaf': 7.0, 'min_samples_split': 20.0, 'n_estimators': 340.0}. Best is trial 15 with value: 0.789723414401526.\u001b[0m\n",
            "\u001b[32m[I 2022-05-01 08:32:56,780]\u001b[0m Trial 24 finished with value: 0.7524558893657606 and parameters: {'max_depth': 20.0, 'min_samples_leaf': 14.0, 'min_samples_split': 18.0, 'n_estimators': 290.0}. Best is trial 15 with value: 0.789723414401526.\u001b[0m\n",
            "\u001b[32m[I 2022-05-01 08:33:03,815]\u001b[0m Trial 25 finished with value: 0.7430174975239353 and parameters: {'max_depth': 16.0, 'min_samples_leaf': 19.0, 'min_samples_split': 14.0, 'n_estimators': 410.0}. Best is trial 15 with value: 0.789723414401526.\u001b[0m\n",
            "\u001b[32m[I 2022-05-01 08:33:11,610]\u001b[0m Trial 26 finished with value: 0.7640236968563149 and parameters: {'max_depth': 18.0, 'min_samples_leaf': 6.0, 'min_samples_split': 23.0, 'n_estimators': 360.0}. Best is trial 15 with value: 0.789723414401526.\u001b[0m\n",
            "\u001b[32m[I 2022-05-01 08:33:20,331]\u001b[0m Trial 27 finished with value: 0.7438721983786362 and parameters: {'max_depth': 14.0, 'min_samples_leaf': 10.0, 'min_samples_split': 22.0, 'n_estimators': 460.0}. Best is trial 15 with value: 0.789723414401526.\u001b[0m\n",
            "\u001b[32m[I 2022-05-01 08:33:28,221]\u001b[0m Trial 28 finished with value: 0.737029089175012 and parameters: {'max_depth': 20.0, 'min_samples_leaf': 34.0, 'min_samples_split': 12.0, 'n_estimators': 510.0}. Best is trial 15 with value: 0.789723414401526.\u001b[0m\n",
            "\u001b[32m[I 2022-05-01 08:33:32,318]\u001b[0m Trial 29 finished with value: 0.7053391291588716 and parameters: {'max_depth': 6.0, 'min_samples_leaf': 19.0, 'min_samples_split': 16.0, 'n_estimators': 270.0}. Best is trial 15 with value: 0.789723414401526.\u001b[0m\n",
            "\u001b[32m[I 2022-05-01 08:33:40,809]\u001b[0m Trial 30 finished with value: 0.7605883863394594 and parameters: {'max_depth': 18.0, 'min_samples_leaf': 6.0, 'min_samples_split': 25.0, 'n_estimators': 400.0}. Best is trial 15 with value: 0.789723414401526.\u001b[0m\n",
            "\u001b[32m[I 2022-05-01 08:33:50,262]\u001b[0m Trial 31 finished with value: 0.7854370712739811 and parameters: {'max_depth': 20.0, 'min_samples_leaf': 2.0, 'min_samples_split': 18.0, 'n_estimators': 390.0}. Best is trial 15 with value: 0.789723414401526.\u001b[0m\n",
            "\u001b[32m[I 2022-05-01 08:33:58,768]\u001b[0m Trial 32 finished with value: 0.7807160412310626 and parameters: {'max_depth': 20.0, 'min_samples_leaf': 2.0, 'min_samples_split': 19.0, 'n_estimators': 350.0}. Best is trial 15 with value: 0.789723414401526.\u001b[0m\n",
            "\u001b[32m[I 2022-05-01 08:34:07,663]\u001b[0m Trial 33 finished with value: 0.7635926781849529 and parameters: {'max_depth': 18.0, 'min_samples_leaf': 9.0, 'min_samples_split': 15.0, 'n_estimators': 440.0}. Best is trial 15 with value: 0.789723414401526.\u001b[0m\n",
            "\u001b[32m[I 2022-05-01 08:34:15,731]\u001b[0m Trial 34 finished with value: 0.7618741058655221 and parameters: {'max_depth': 16.0, 'min_samples_leaf': 5.0, 'min_samples_split': 20.0, 'n_estimators': 380.0}. Best is trial 15 with value: 0.789723414401526.\u001b[0m\n",
            "\u001b[32m[I 2022-05-01 08:34:21,756]\u001b[0m Trial 35 finished with value: 0.7507336488023183 and parameters: {'max_depth': 20.0, 'min_samples_leaf': 12.0, 'min_samples_split': 17.0, 'n_estimators': 310.0}. Best is trial 15 with value: 0.789723414401526.\u001b[0m\n",
            "\u001b[32m[I 2022-05-01 08:34:31,424]\u001b[0m Trial 36 finished with value: 0.745616448406148 and parameters: {'max_depth': 14.0, 'min_samples_leaf': 9.0, 'min_samples_split': 13.0, 'n_estimators': 500.0}. Best is trial 15 with value: 0.789723414401526.\u001b[0m\n",
            "\u001b[32m[I 2022-05-01 08:34:43,566]\u001b[0m Trial 37 finished with value: 0.7704412897545944 and parameters: {'max_depth': 18.0, 'min_samples_leaf': 4.0, 'min_samples_split': 23.0, 'n_estimators': 550.0}. Best is trial 15 with value: 0.789723414401526.\u001b[0m\n",
            "\u001b[32m[I 2022-05-01 08:34:51,264]\u001b[0m Trial 38 finished with value: 0.73190822053483 and parameters: {'max_depth': 10.0, 'min_samples_leaf': 8.0, 'min_samples_split': 10.0, 'n_estimators': 430.0}. Best is trial 15 with value: 0.789723414401526.\u001b[0m\n",
            "\u001b[32m[I 2022-05-01 08:34:57,907]\u001b[0m Trial 39 finished with value: 0.7494644363743077 and parameters: {'max_depth': 20.0, 'min_samples_leaf': 13.0, 'min_samples_split': 18.0, 'n_estimators': 350.0}. Best is trial 15 with value: 0.789723414401526.\u001b[0m\n",
            "\u001b[32m[I 2022-05-01 08:35:01,851]\u001b[0m Trial 40 finished with value: 0.7143263269872712 and parameters: {'max_depth': 16.0, 'min_samples_leaf': 45.0, 'min_samples_split': 15.0, 'n_estimators': 270.0}. Best is trial 15 with value: 0.789723414401526.\u001b[0m\n",
            "\u001b[32m[I 2022-05-01 08:35:11,328]\u001b[0m Trial 41 finished with value: 0.787144638861377 and parameters: {'max_depth': 20.0, 'min_samples_leaf': 2.0, 'min_samples_split': 17.0, 'n_estimators': 390.0}. Best is trial 15 with value: 0.789723414401526.\u001b[0m\n",
            "\u001b[32m[I 2022-05-01 08:35:20,129]\u001b[0m Trial 42 finished with value: 0.7713014929753127 and parameters: {'max_depth': 20.0, 'min_samples_leaf': 5.0, 'min_samples_split': 19.0, 'n_estimators': 390.0}. Best is trial 15 with value: 0.789723414401526.\u001b[0m\n",
            "\u001b[32m[I 2022-05-01 08:35:30,797]\u001b[0m Trial 43 finished with value: 0.7811470599024247 and parameters: {'max_depth': 18.0, 'min_samples_leaf': 2.0, 'min_samples_split': 21.0, 'n_estimators': 460.0}. Best is trial 15 with value: 0.789723414401526.\u001b[0m\n",
            "\u001b[32m[I 2022-05-01 08:35:35,084]\u001b[0m Trial 44 finished with value: 0.5815799126957925 and parameters: {'max_depth': 2.0, 'min_samples_leaf': 4.0, 'min_samples_split': 16.0, 'n_estimators': 330.0}. Best is trial 15 with value: 0.789723414401526.\u001b[0m\n",
            "\u001b[32m[I 2022-05-01 08:35:42,977]\u001b[0m Trial 45 finished with value: 0.761012068522798 and parameters: {'max_depth': 18.0, 'min_samples_leaf': 7.0, 'min_samples_split': 14.0, 'n_estimators': 370.0}. Best is trial 15 with value: 0.789723414401526.\u001b[0m\n",
            "\u001b[32m[I 2022-05-01 08:35:51,278]\u001b[0m Trial 46 finished with value: 0.756314882065955 and parameters: {'max_depth': 20.0, 'min_samples_leaf': 10.0, 'min_samples_split': 18.0, 'n_estimators': 410.0}. Best is trial 15 with value: 0.789723414401526.\u001b[0m\n",
            "\u001b[32m[I 2022-05-01 08:35:55,504]\u001b[0m Trial 47 finished with value: 0.6813469792010565 and parameters: {'max_depth': 4.0, 'min_samples_leaf': 4.0, 'min_samples_split': 11.0, 'n_estimators': 290.0}. Best is trial 15 with value: 0.789723414401526.\u001b[0m\n",
            "\u001b[32m[I 2022-05-01 08:36:00,644]\u001b[0m Trial 48 finished with value: 0.7623142951469132 and parameters: {'max_depth': 20.0, 'min_samples_leaf': 7.0, 'min_samples_split': 21.0, 'n_estimators': 240.0}. Best is trial 15 with value: 0.789723414401526.\u001b[0m\n",
            "\u001b[32m[I 2022-05-01 08:36:12,007]\u001b[0m Trial 49 finished with value: 0.7837295036865852 and parameters: {'max_depth': 18.0, 'min_samples_leaf': 2.0, 'min_samples_split': 13.0, 'n_estimators': 470.0}. Best is trial 15 with value: 0.789723414401526.\u001b[0m\n"
          ]
        },
        {
          "output_type": "stream",
          "name": "stdout",
          "text": [
            "Best Score: 0.789723414401526\n",
            "Best trial: {'max_depth': 20.0, 'min_samples_leaf': 2.0, 'min_samples_split': 16.0, 'n_estimators': 290.0}\n"
          ]
        }
      ]
    },
    {
      "cell_type": "markdown",
      "source": [
        "#### 튜닝 후 적합한 하이퍼파라미터를 찾아 모델 돌리기"
      ],
      "metadata": {
        "id": "tJzqPcMDfOyi"
      }
    },
    {
      "cell_type": "code",
      "source": [
        "knn = KNeighborsClassifier(n_neighbors=6, weights='distance')\n",
        "svc = SVC(C=10, kernel='rbf', random_state=42)\n",
        "lr = LogisticRegression(C=5, penalty='l2', random_state=42)\n",
        "dt = DecisionTreeClassifier(max_depth=10, min_samples_leaf=20, min_samples_split=16, random_state=42)\n",
        "rf = RandomForestClassifier(max_depth=int(rf_study.best_params['max_depth']),min_samples_leaf=int(rf_study.best_params['min_samples_leaf']),\n",
        "                           min_samples_split=int(rf_study.best_params['min_samples_split']),\n",
        "                           n_estimators=int(rf_study.best_params['n_estimators']), random_state=42)\n",
        "ada = AdaBoostClassifier(learning_rate=ada_study.best_params['learning_rate'], n_estimators=int(ada_study.best_params['n_estimators']), random_state=42)\n",
        "xgb = XGBClassifier(max_depth=int(xgb_study.best_params['max_depth']), colsample_bytree=xgb_study.best_params['colsample_bytree'],\n",
        "                   learning_rate=xgb_study.best_params['learning_rate'], n_estimators=int(xgb_study.best_params['n_estimators']), \n",
        "                    subsample=xgb_study.best_params['subsample'], random_state=42)\n",
        "lgb = LGBMClassifier(max_depth=int(lgb_study.best_params['max_depth']), colsample_bytree=lgb_study.best_params['colsample_bytree'],\n",
        "                    learning_rate=lgb_study.best_params['learning_rate'], n_estimators=int(lgb_study.best_params['n_estimators']),\n",
        "                    subsample=lgb_study.best_params['subsample'], random_state=42)\n",
        "etc = ExtraTreesClassifier(max_depth=int(etc_study.best_params['max_depth']), min_samples_leaf=int(etc_study.best_params['min_samples_leaf']),\n",
        "                          min_samples_split=int(etc_study.best_params['min_samples_split']), n_estimators=int(etc_study.best_params['n_estimators']), random_state=42)\n",
        "cat = CatBoostClassifier(silent=True)\n",
        "\n",
        "tuned_model_list = [knn, svc, lr,dt,rf,ada,xgb,lgb,etc,cat]"
      ],
      "metadata": {
        "id": "9KYAdOl8fScM"
      },
      "execution_count": null,
      "outputs": []
    },
    {
      "cell_type": "code",
      "source": [
        "for model in tuned_model_list:\n",
        "  return_score(model)"
      ],
      "metadata": {
        "colab": {
          "base_uri": "https://localhost:8080/"
        },
        "id": "PrpmuwfkfUZ-",
        "outputId": "df346155-df52-44fb-e453-e4242a0e1629"
      },
      "execution_count": null,
      "outputs": [
        {
          "output_type": "stream",
          "name": "stdout",
          "text": [
            "KNeighborsClassifier(n_neighbors=6, weights='distance')\n",
            "average_accuracy:  0.5691555702285316\n",
            "SVC(C=10, random_state=42)\n",
            "average_accuracy:  0.7965665236051502\n",
            "LogisticRegression(C=5, random_state=42)\n",
            "average_accuracy:  0.2929386302776861\n",
            "DecisionTreeClassifier(max_depth=10, min_samples_leaf=20, min_samples_split=16,\n",
            "                       random_state=42)\n",
            "average_accuracy:  0.5151700231099373\n",
            "RandomForestClassifier(max_depth=16, min_samples_leaf=2, min_samples_split=18,\n",
            "                       n_estimators=550, random_state=42)\n",
            "average_accuracy:  0.7503264737170317\n",
            "AdaBoostClassifier(learning_rate=0.8, n_estimators=440, random_state=42)\n",
            "average_accuracy:  0.7263178166611644\n",
            "XGBClassifier(colsample_bytree=0.888087368190407,\n",
            "              learning_rate=0.04922686868821576, max_depth=12, n_estimators=400,\n",
            "              random_state=42, subsample=0.7608193777080609)\n",
            "average_accuracy:  0.8286654928285829\n",
            "LGBMClassifier(colsample_bytree=0.8380883799529597,\n",
            "               learning_rate=0.03302177445552241, max_depth=18,\n",
            "               n_estimators=510, random_state=42, subsample=0.8080804989778588)\n",
            "average_accuracy:  0.8338175415428635\n",
            "ExtraTreesClassifier(max_depth=20, min_samples_leaf=2, min_samples_split=16,\n",
            "                     n_estimators=290, random_state=42)\n",
            "average_accuracy:  0.7815817468177982\n",
            "<catboost.core.CatBoostClassifier object at 0x7fae3aeff2d0>\n",
            "average_accuracy:  0.8346667400315468\n"
          ]
        }
      ]
    },
    {
      "cell_type": "markdown",
      "source": [
        "### 여러 모델들을 종합해서 사용"
      ],
      "metadata": {
        "id": "XirXX4JzfbNL"
      }
    },
    {
      "cell_type": "code",
      "source": [
        "knn = KNeighborsClassifier(n_neighbors=6, weights='distance')\n",
        "svc = SVC(C=10, kernel='rbf', random_state=42)\n",
        "lr = LogisticRegression(C=5, penalty='l2', random_state=42)\n",
        "dt = DecisionTreeClassifier(max_depth=10, min_samples_leaf=20, min_samples_split=16, random_state=42)\n",
        "rf = RandomForestClassifier(max_depth=int(rf_study.best_params['max_depth']),min_samples_leaf=int(rf_study.best_params['min_samples_leaf']),\n",
        "                           min_samples_split=int(rf_study.best_params['min_samples_split']),\n",
        "                           n_estimators=int(rf_study.best_params['n_estimators']), random_state=42)\n",
        "ada = AdaBoostClassifier(learning_rate=ada_study.best_params['learning_rate'], n_estimators=int(ada_study.best_params['n_estimators']), random_state=42)\n",
        "xgb = XGBClassifier(max_depth=int(xgb_study.best_params['max_depth']), colsample_bytree=xgb_study.best_params['colsample_bytree'],\n",
        "                   learning_rate=xgb_study.best_params['learning_rate'], n_estimators=int(xgb_study.best_params['n_estimators']), \n",
        "                    subsample=xgb_study.best_params['subsample'], random_state=42)\n",
        "lgb = LGBMClassifier(max_depth=int(lgb_study.best_params['max_depth']), colsample_bytree=lgb_study.best_params['colsample_bytree'],\n",
        "                    learning_rate=lgb_study.best_params['learning_rate'], n_estimators=int(lgb_study.best_params['n_estimators']),\n",
        "                    subsample=lgb_study.best_params['subsample'], random_state=42)\n",
        "etc = ExtraTreesClassifier(max_depth=int(etc_study.best_params['max_depth']), min_samples_leaf=int(etc_study.best_params['min_samples_leaf']),\n",
        "                          min_samples_split=int(etc_study.best_params['min_samples_split']), n_estimators=int(etc_study.best_params['n_estimators']), random_state=42)\n",
        "cat = CatBoostClassifier(silent=True)\n",
        "\n",
        "tuned_model_list = [knn, svc, lr,dt,rf,ada,xgb,lgb,etc,cat]"
      ],
      "metadata": {
        "id": "S_I84l_ZffAD"
      },
      "execution_count": null,
      "outputs": []
    },
    {
      "cell_type": "code",
      "source": [
        "cat._estimator_type = 'classifier'"
      ],
      "metadata": {
        "id": "jYfuCiKnfgd9"
      },
      "execution_count": null,
      "outputs": []
    },
    {
      "cell_type": "code",
      "source": [
        "soft_voting = VotingClassifier(estimators=[('xgb',xgb),('lgb',lgb),('etc',etc),('cat',cat)],voting='soft') \n",
        "stacking = StackingClassifier(estimators = [('svc',svc),('xgb', xgb), ('lgb',lgb),('etc',etc),('cat',cat)], final_estimator=rf)"
      ],
      "metadata": {
        "id": "Q21eI8Jqfhq7"
      },
      "execution_count": null,
      "outputs": []
    },
    {
      "cell_type": "markdown",
      "source": [
        "## 제출할 파일 생성"
      ],
      "metadata": {
        "id": "8OhdqQYRBpjL"
      }
    },
    {
      "cell_type": "code",
      "source": [
        "submission = pd.read_csv('sample_submission.csv')"
      ],
      "metadata": {
        "id": "_5c7ekNNBoGT"
      },
      "execution_count": null,
      "outputs": []
    },
    {
      "cell_type": "code",
      "source": [
        "X_train = np.array(X_train)\n",
        "y_train = np.array(y_train)\n",
        "X_test = np.array(X_test)"
      ],
      "metadata": {
        "id": "WkBTfTdCGKId"
      },
      "execution_count": null,
      "outputs": []
    },
    {
      "cell_type": "code",
      "source": [
        "stacking.fit(X_train, y_train)\n",
        "soft_voting.fit(X_train, y_train)"
      ],
      "metadata": {
        "id": "fxjcns-vCLm8",
        "colab": {
          "base_uri": "https://localhost:8080/"
        },
        "outputId": "abc6a937-a7da-4025-bda9-cb0295748dc3"
      },
      "execution_count": null,
      "outputs": [
        {
          "output_type": "execute_result",
          "data": {
            "text/plain": [
              "VotingClassifier(estimators=[('xgb',\n",
              "                              XGBClassifier(colsample_bytree=0.888087368190407,\n",
              "                                            learning_rate=0.04922686868821576,\n",
              "                                            max_depth=12, n_estimators=400,\n",
              "                                            random_state=42,\n",
              "                                            subsample=0.7608193777080609)),\n",
              "                             ('lgb',\n",
              "                              LGBMClassifier(colsample_bytree=0.8380883799529597,\n",
              "                                             learning_rate=0.03302177445552241,\n",
              "                                             max_depth=18, n_estimators=510,\n",
              "                                             random_state=42,\n",
              "                                             subsample=0.8080804989778588)),\n",
              "                             ('etc',\n",
              "                              ExtraTreesClassifier(max_depth=20,\n",
              "                                                   min_samples_leaf=2,\n",
              "                                                   min_samples_split=16,\n",
              "                                                   n_estimators=290,\n",
              "                                                   random_state=42)),\n",
              "                             ('cat',\n",
              "                              <catboost.core.CatBoostClassifier object at 0x7fae3d88c3d0>)],\n",
              "                 voting='soft')"
            ]
          },
          "metadata": {},
          "execution_count": 84
        }
      ]
    },
    {
      "cell_type": "code",
      "source": [
        "pred1 = stacking.predict(X_test)\n",
        "submission['target'] = pred1\n",
        "submission.to_csv('stacking2.csv', index=False)\n",
        "submission.target.value_counts()"
      ],
      "metadata": {
        "id": "dxhxNR3CWKwS",
        "colab": {
          "base_uri": "https://localhost:8080/"
        },
        "outputId": "b2acaa21-2142-4020-bce1-7486e3ce7d49"
      },
      "execution_count": null,
      "outputs": [
        {
          "output_type": "execute_result",
          "data": {
            "text/plain": [
              "1    2436\n",
              "2    2427\n",
              "0    2303\n",
              "3    2177\n",
              "Name: target, dtype: int64"
            ]
          },
          "metadata": {},
          "execution_count": 85
        }
      ]
    },
    {
      "cell_type": "code",
      "source": [
        "pred2 = soft_voting.predict(X_test)\n",
        "submission['target'] = pred2\n",
        "submission.to_csv('soft_voting2.csv', index=False)\n",
        "submission.target.value_counts()"
      ],
      "metadata": {
        "colab": {
          "base_uri": "https://localhost:8080/"
        },
        "id": "GH_ACVomzFzc",
        "outputId": "7a8b19a3-4bb7-43aa-e9ad-e96f439987b2"
      },
      "execution_count": null,
      "outputs": [
        {
          "output_type": "execute_result",
          "data": {
            "text/plain": [
              "2    2588\n",
              "1    2428\n",
              "0    2215\n",
              "3    2112\n",
              "Name: target, dtype: int64"
            ]
          },
          "metadata": {},
          "execution_count": 87
        }
      ]
    }
  ],
  "metadata": {
    "colab": {
      "name": "손동작분류2(머신러닝).ipynb",
      "provenance": [],
      "collapsed_sections": [
        "xKs9sZH_DYb3",
        "DpaAntaxOADc",
        "WqkPSvv3O7oh",
        "ogclu_vb46Rz",
        "otyqW1XNDSut",
        "OLSIL_x9J2gF",
        "KzoX7hhaVrr6",
        "KCmbz0QBXMPx",
        "CQVx6wcBYQgX",
        "vPWPG_X5Z_87",
        "jelDk0h-a1pb",
        "JOW5bUumcJiH",
        "DrxBOgXzdW6X",
        "hbrXOXDmdzgD",
        "tJzqPcMDfOyi",
        "8OhdqQYRBpjL"
      ]
    },
    "kernelspec": {
      "display_name": "Python 3",
      "name": "python3"
    },
    "language_info": {
      "name": "python"
    }
  },
  "nbformat": 4,
  "nbformat_minor": 0
}