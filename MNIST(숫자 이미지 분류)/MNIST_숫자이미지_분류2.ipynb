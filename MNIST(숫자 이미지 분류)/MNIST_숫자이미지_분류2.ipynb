{
  "nbformat": 4,
  "nbformat_minor": 0,
  "metadata": {
    "colab": {
      "name": "MNIST 숫자이미지 분류2",
      "provenance": [],
      "collapsed_sections": [
        "f5XK0GTGG5Eg",
        "TbN6AZc1QsDU",
        "yhT_ocu-WGil"
      ]
    },
    "kernelspec": {
      "name": "python3",
      "display_name": "Python 3"
    },
    "language_info": {
      "name": "python"
    },
    "accelerator": "GPU"
  },
  "cells": [
    {
      "cell_type": "markdown",
      "source": [
        "## EDA"
      ],
      "metadata": {
        "id": "f5XK0GTGG5Eg"
      }
    },
    {
      "cell_type": "code",
      "execution_count": null,
      "metadata": {
        "id": "E10kEY299upL"
      },
      "outputs": [],
      "source": [
        "import pandas as pd\n",
        "import numpy as np\n",
        "import matplotlib.pyplot as plt\n",
        "import seaborn as sns\n",
        "\n",
        "import tensorflow as tf\n",
        "from tensorflow import keras\n",
        "\n",
        "from sklearn.preprocessing import MinMaxScaler"
      ]
    },
    {
      "cell_type": "code",
      "source": [
        "train_df = pd.read_csv('train.csv', index_col=0)\n",
        "test_df = pd.read_csv('test.csv', index_col=0)\n",
        "\n",
        "print(f\"shape of train_df: {train_df.shape}\")\n",
        "print(f\"shape of test_df: {test_df.shape}\")\n",
        "\n",
        "print(\"train_df\")\n",
        "display(train_df.head())\n",
        "print(\"test_df\")\n",
        "display(test_df.head())"
      ],
      "metadata": {
        "colab": {
          "base_uri": "https://localhost:8080/"
        },
        "id": "UjDlwJurHN68",
        "outputId": "9f843a37-235c-40f0-d114-b7a0d101b091"
      },
      "execution_count": null,
      "outputs": [
        {
          "output_type": "stream",
          "name": "stdout",
          "text": [
            "shape of train_df: (60000, 785)\n",
            "shape of test_df: (10000, 784)\n",
            "train_df\n"
          ]
        },
        {
          "output_type": "display_data",
          "data": {
            "text/plain": [
              "       label  px1  px2  px3  px4  px5  px6  px7  px8  px9  ...  px775  px776  \\\n",
              "index                                                      ...                 \n",
              "0          5    0    0    0    0    0    0    0    0    0  ...      0      0   \n",
              "1          0    0    0    0    0    0    0    0    0    0  ...      0      0   \n",
              "2          4    0    0    0    0    0    0    0    0    0  ...      0      0   \n",
              "3          1    0    0    0    0    0    0    0    0    0  ...      0      0   \n",
              "4          9    0    0    0    0    0    0    0    0    0  ...      0      0   \n",
              "\n",
              "       px777  px778  px779  px780  px781  px782  px783  px784  \n",
              "index                                                          \n",
              "0          0      0      0      0      0      0      0      0  \n",
              "1          0      0      0      0      0      0      0      0  \n",
              "2          0      0      0      0      0      0      0      0  \n",
              "3          0      0      0      0      0      0      0      0  \n",
              "4          0      0      0      0      0      0      0      0  \n",
              "\n",
              "[5 rows x 785 columns]"
            ],
            "text/html": [
              "\n",
              "  <div id=\"df-f66b6c42-6342-4ce9-b918-b17c7942b593\">\n",
              "    <div class=\"colab-df-container\">\n",
              "      <div>\n",
              "<style scoped>\n",
              "    .dataframe tbody tr th:only-of-type {\n",
              "        vertical-align: middle;\n",
              "    }\n",
              "\n",
              "    .dataframe tbody tr th {\n",
              "        vertical-align: top;\n",
              "    }\n",
              "\n",
              "    .dataframe thead th {\n",
              "        text-align: right;\n",
              "    }\n",
              "</style>\n",
              "<table border=\"1\" class=\"dataframe\">\n",
              "  <thead>\n",
              "    <tr style=\"text-align: right;\">\n",
              "      <th></th>\n",
              "      <th>label</th>\n",
              "      <th>px1</th>\n",
              "      <th>px2</th>\n",
              "      <th>px3</th>\n",
              "      <th>px4</th>\n",
              "      <th>px5</th>\n",
              "      <th>px6</th>\n",
              "      <th>px7</th>\n",
              "      <th>px8</th>\n",
              "      <th>px9</th>\n",
              "      <th>...</th>\n",
              "      <th>px775</th>\n",
              "      <th>px776</th>\n",
              "      <th>px777</th>\n",
              "      <th>px778</th>\n",
              "      <th>px779</th>\n",
              "      <th>px780</th>\n",
              "      <th>px781</th>\n",
              "      <th>px782</th>\n",
              "      <th>px783</th>\n",
              "      <th>px784</th>\n",
              "    </tr>\n",
              "    <tr>\n",
              "      <th>index</th>\n",
              "      <th></th>\n",
              "      <th></th>\n",
              "      <th></th>\n",
              "      <th></th>\n",
              "      <th></th>\n",
              "      <th></th>\n",
              "      <th></th>\n",
              "      <th></th>\n",
              "      <th></th>\n",
              "      <th></th>\n",
              "      <th></th>\n",
              "      <th></th>\n",
              "      <th></th>\n",
              "      <th></th>\n",
              "      <th></th>\n",
              "      <th></th>\n",
              "      <th></th>\n",
              "      <th></th>\n",
              "      <th></th>\n",
              "      <th></th>\n",
              "      <th></th>\n",
              "    </tr>\n",
              "  </thead>\n",
              "  <tbody>\n",
              "    <tr>\n",
              "      <th>0</th>\n",
              "      <td>5</td>\n",
              "      <td>0</td>\n",
              "      <td>0</td>\n",
              "      <td>0</td>\n",
              "      <td>0</td>\n",
              "      <td>0</td>\n",
              "      <td>0</td>\n",
              "      <td>0</td>\n",
              "      <td>0</td>\n",
              "      <td>0</td>\n",
              "      <td>...</td>\n",
              "      <td>0</td>\n",
              "      <td>0</td>\n",
              "      <td>0</td>\n",
              "      <td>0</td>\n",
              "      <td>0</td>\n",
              "      <td>0</td>\n",
              "      <td>0</td>\n",
              "      <td>0</td>\n",
              "      <td>0</td>\n",
              "      <td>0</td>\n",
              "    </tr>\n",
              "    <tr>\n",
              "      <th>1</th>\n",
              "      <td>0</td>\n",
              "      <td>0</td>\n",
              "      <td>0</td>\n",
              "      <td>0</td>\n",
              "      <td>0</td>\n",
              "      <td>0</td>\n",
              "      <td>0</td>\n",
              "      <td>0</td>\n",
              "      <td>0</td>\n",
              "      <td>0</td>\n",
              "      <td>...</td>\n",
              "      <td>0</td>\n",
              "      <td>0</td>\n",
              "      <td>0</td>\n",
              "      <td>0</td>\n",
              "      <td>0</td>\n",
              "      <td>0</td>\n",
              "      <td>0</td>\n",
              "      <td>0</td>\n",
              "      <td>0</td>\n",
              "      <td>0</td>\n",
              "    </tr>\n",
              "    <tr>\n",
              "      <th>2</th>\n",
              "      <td>4</td>\n",
              "      <td>0</td>\n",
              "      <td>0</td>\n",
              "      <td>0</td>\n",
              "      <td>0</td>\n",
              "      <td>0</td>\n",
              "      <td>0</td>\n",
              "      <td>0</td>\n",
              "      <td>0</td>\n",
              "      <td>0</td>\n",
              "      <td>...</td>\n",
              "      <td>0</td>\n",
              "      <td>0</td>\n",
              "      <td>0</td>\n",
              "      <td>0</td>\n",
              "      <td>0</td>\n",
              "      <td>0</td>\n",
              "      <td>0</td>\n",
              "      <td>0</td>\n",
              "      <td>0</td>\n",
              "      <td>0</td>\n",
              "    </tr>\n",
              "    <tr>\n",
              "      <th>3</th>\n",
              "      <td>1</td>\n",
              "      <td>0</td>\n",
              "      <td>0</td>\n",
              "      <td>0</td>\n",
              "      <td>0</td>\n",
              "      <td>0</td>\n",
              "      <td>0</td>\n",
              "      <td>0</td>\n",
              "      <td>0</td>\n",
              "      <td>0</td>\n",
              "      <td>...</td>\n",
              "      <td>0</td>\n",
              "      <td>0</td>\n",
              "      <td>0</td>\n",
              "      <td>0</td>\n",
              "      <td>0</td>\n",
              "      <td>0</td>\n",
              "      <td>0</td>\n",
              "      <td>0</td>\n",
              "      <td>0</td>\n",
              "      <td>0</td>\n",
              "    </tr>\n",
              "    <tr>\n",
              "      <th>4</th>\n",
              "      <td>9</td>\n",
              "      <td>0</td>\n",
              "      <td>0</td>\n",
              "      <td>0</td>\n",
              "      <td>0</td>\n",
              "      <td>0</td>\n",
              "      <td>0</td>\n",
              "      <td>0</td>\n",
              "      <td>0</td>\n",
              "      <td>0</td>\n",
              "      <td>...</td>\n",
              "      <td>0</td>\n",
              "      <td>0</td>\n",
              "      <td>0</td>\n",
              "      <td>0</td>\n",
              "      <td>0</td>\n",
              "      <td>0</td>\n",
              "      <td>0</td>\n",
              "      <td>0</td>\n",
              "      <td>0</td>\n",
              "      <td>0</td>\n",
              "    </tr>\n",
              "  </tbody>\n",
              "</table>\n",
              "<p>5 rows × 785 columns</p>\n",
              "</div>\n",
              "      <button class=\"colab-df-convert\" onclick=\"convertToInteractive('df-f66b6c42-6342-4ce9-b918-b17c7942b593')\"\n",
              "              title=\"Convert this dataframe to an interactive table.\"\n",
              "              style=\"display:none;\">\n",
              "        \n",
              "  <svg xmlns=\"http://www.w3.org/2000/svg\" height=\"24px\"viewBox=\"0 0 24 24\"\n",
              "       width=\"24px\">\n",
              "    <path d=\"M0 0h24v24H0V0z\" fill=\"none\"/>\n",
              "    <path d=\"M18.56 5.44l.94 2.06.94-2.06 2.06-.94-2.06-.94-.94-2.06-.94 2.06-2.06.94zm-11 1L8.5 8.5l.94-2.06 2.06-.94-2.06-.94L8.5 2.5l-.94 2.06-2.06.94zm10 10l.94 2.06.94-2.06 2.06-.94-2.06-.94-.94-2.06-.94 2.06-2.06.94z\"/><path d=\"M17.41 7.96l-1.37-1.37c-.4-.4-.92-.59-1.43-.59-.52 0-1.04.2-1.43.59L10.3 9.45l-7.72 7.72c-.78.78-.78 2.05 0 2.83L4 21.41c.39.39.9.59 1.41.59.51 0 1.02-.2 1.41-.59l7.78-7.78 2.81-2.81c.8-.78.8-2.07 0-2.86zM5.41 20L4 18.59l7.72-7.72 1.47 1.35L5.41 20z\"/>\n",
              "  </svg>\n",
              "      </button>\n",
              "      \n",
              "  <style>\n",
              "    .colab-df-container {\n",
              "      display:flex;\n",
              "      flex-wrap:wrap;\n",
              "      gap: 12px;\n",
              "    }\n",
              "\n",
              "    .colab-df-convert {\n",
              "      background-color: #E8F0FE;\n",
              "      border: none;\n",
              "      border-radius: 50%;\n",
              "      cursor: pointer;\n",
              "      display: none;\n",
              "      fill: #1967D2;\n",
              "      height: 32px;\n",
              "      padding: 0 0 0 0;\n",
              "      width: 32px;\n",
              "    }\n",
              "\n",
              "    .colab-df-convert:hover {\n",
              "      background-color: #E2EBFA;\n",
              "      box-shadow: 0px 1px 2px rgba(60, 64, 67, 0.3), 0px 1px 3px 1px rgba(60, 64, 67, 0.15);\n",
              "      fill: #174EA6;\n",
              "    }\n",
              "\n",
              "    [theme=dark] .colab-df-convert {\n",
              "      background-color: #3B4455;\n",
              "      fill: #D2E3FC;\n",
              "    }\n",
              "\n",
              "    [theme=dark] .colab-df-convert:hover {\n",
              "      background-color: #434B5C;\n",
              "      box-shadow: 0px 1px 3px 1px rgba(0, 0, 0, 0.15);\n",
              "      filter: drop-shadow(0px 1px 2px rgba(0, 0, 0, 0.3));\n",
              "      fill: #FFFFFF;\n",
              "    }\n",
              "  </style>\n",
              "\n",
              "      <script>\n",
              "        const buttonEl =\n",
              "          document.querySelector('#df-f66b6c42-6342-4ce9-b918-b17c7942b593 button.colab-df-convert');\n",
              "        buttonEl.style.display =\n",
              "          google.colab.kernel.accessAllowed ? 'block' : 'none';\n",
              "\n",
              "        async function convertToInteractive(key) {\n",
              "          const element = document.querySelector('#df-f66b6c42-6342-4ce9-b918-b17c7942b593');\n",
              "          const dataTable =\n",
              "            await google.colab.kernel.invokeFunction('convertToInteractive',\n",
              "                                                     [key], {});\n",
              "          if (!dataTable) return;\n",
              "\n",
              "          const docLinkHtml = 'Like what you see? Visit the ' +\n",
              "            '<a target=\"_blank\" href=https://colab.research.google.com/notebooks/data_table.ipynb>data table notebook</a>'\n",
              "            + ' to learn more about interactive tables.';\n",
              "          element.innerHTML = '';\n",
              "          dataTable['output_type'] = 'display_data';\n",
              "          await google.colab.output.renderOutput(dataTable, element);\n",
              "          const docLink = document.createElement('div');\n",
              "          docLink.innerHTML = docLinkHtml;\n",
              "          element.appendChild(docLink);\n",
              "        }\n",
              "      </script>\n",
              "    </div>\n",
              "  </div>\n",
              "  "
            ]
          },
          "metadata": {}
        },
        {
          "output_type": "stream",
          "name": "stdout",
          "text": [
            "test_df\n"
          ]
        },
        {
          "output_type": "display_data",
          "data": {
            "text/plain": [
              "       px1  px2  px3  px4  px5  px6  px7  px8  px9  px10  ...  px775  px776  \\\n",
              "index                                                     ...                 \n",
              "0        0    0    0    0    0    0    0    0    0     0  ...      0      0   \n",
              "1        0    0    0    0    0    0    0    0    0     0  ...      0      0   \n",
              "2        0    0    0    0    0    0    0    0    0     0  ...      0      0   \n",
              "3        0    0    0    0    0    0    0    0    0     0  ...      0      0   \n",
              "4        0    0    0    0    0    0    0    0    0     0  ...      0      0   \n",
              "\n",
              "       px777  px778  px779  px780  px781  px782  px783  px784  \n",
              "index                                                          \n",
              "0          0      0      0      0      0      0      0      0  \n",
              "1          0      0      0      0      0      0      0      0  \n",
              "2          0      0      0      0      0      0      0      0  \n",
              "3          0      0      0      0      0      0      0      0  \n",
              "4          0      0      0      0      0      0      0      0  \n",
              "\n",
              "[5 rows x 784 columns]"
            ],
            "text/html": [
              "\n",
              "  <div id=\"df-7a7abd16-e1c0-498b-b6aa-9ad266e95bfc\">\n",
              "    <div class=\"colab-df-container\">\n",
              "      <div>\n",
              "<style scoped>\n",
              "    .dataframe tbody tr th:only-of-type {\n",
              "        vertical-align: middle;\n",
              "    }\n",
              "\n",
              "    .dataframe tbody tr th {\n",
              "        vertical-align: top;\n",
              "    }\n",
              "\n",
              "    .dataframe thead th {\n",
              "        text-align: right;\n",
              "    }\n",
              "</style>\n",
              "<table border=\"1\" class=\"dataframe\">\n",
              "  <thead>\n",
              "    <tr style=\"text-align: right;\">\n",
              "      <th></th>\n",
              "      <th>px1</th>\n",
              "      <th>px2</th>\n",
              "      <th>px3</th>\n",
              "      <th>px4</th>\n",
              "      <th>px5</th>\n",
              "      <th>px6</th>\n",
              "      <th>px7</th>\n",
              "      <th>px8</th>\n",
              "      <th>px9</th>\n",
              "      <th>px10</th>\n",
              "      <th>...</th>\n",
              "      <th>px775</th>\n",
              "      <th>px776</th>\n",
              "      <th>px777</th>\n",
              "      <th>px778</th>\n",
              "      <th>px779</th>\n",
              "      <th>px780</th>\n",
              "      <th>px781</th>\n",
              "      <th>px782</th>\n",
              "      <th>px783</th>\n",
              "      <th>px784</th>\n",
              "    </tr>\n",
              "    <tr>\n",
              "      <th>index</th>\n",
              "      <th></th>\n",
              "      <th></th>\n",
              "      <th></th>\n",
              "      <th></th>\n",
              "      <th></th>\n",
              "      <th></th>\n",
              "      <th></th>\n",
              "      <th></th>\n",
              "      <th></th>\n",
              "      <th></th>\n",
              "      <th></th>\n",
              "      <th></th>\n",
              "      <th></th>\n",
              "      <th></th>\n",
              "      <th></th>\n",
              "      <th></th>\n",
              "      <th></th>\n",
              "      <th></th>\n",
              "      <th></th>\n",
              "      <th></th>\n",
              "      <th></th>\n",
              "    </tr>\n",
              "  </thead>\n",
              "  <tbody>\n",
              "    <tr>\n",
              "      <th>0</th>\n",
              "      <td>0</td>\n",
              "      <td>0</td>\n",
              "      <td>0</td>\n",
              "      <td>0</td>\n",
              "      <td>0</td>\n",
              "      <td>0</td>\n",
              "      <td>0</td>\n",
              "      <td>0</td>\n",
              "      <td>0</td>\n",
              "      <td>0</td>\n",
              "      <td>...</td>\n",
              "      <td>0</td>\n",
              "      <td>0</td>\n",
              "      <td>0</td>\n",
              "      <td>0</td>\n",
              "      <td>0</td>\n",
              "      <td>0</td>\n",
              "      <td>0</td>\n",
              "      <td>0</td>\n",
              "      <td>0</td>\n",
              "      <td>0</td>\n",
              "    </tr>\n",
              "    <tr>\n",
              "      <th>1</th>\n",
              "      <td>0</td>\n",
              "      <td>0</td>\n",
              "      <td>0</td>\n",
              "      <td>0</td>\n",
              "      <td>0</td>\n",
              "      <td>0</td>\n",
              "      <td>0</td>\n",
              "      <td>0</td>\n",
              "      <td>0</td>\n",
              "      <td>0</td>\n",
              "      <td>...</td>\n",
              "      <td>0</td>\n",
              "      <td>0</td>\n",
              "      <td>0</td>\n",
              "      <td>0</td>\n",
              "      <td>0</td>\n",
              "      <td>0</td>\n",
              "      <td>0</td>\n",
              "      <td>0</td>\n",
              "      <td>0</td>\n",
              "      <td>0</td>\n",
              "    </tr>\n",
              "    <tr>\n",
              "      <th>2</th>\n",
              "      <td>0</td>\n",
              "      <td>0</td>\n",
              "      <td>0</td>\n",
              "      <td>0</td>\n",
              "      <td>0</td>\n",
              "      <td>0</td>\n",
              "      <td>0</td>\n",
              "      <td>0</td>\n",
              "      <td>0</td>\n",
              "      <td>0</td>\n",
              "      <td>...</td>\n",
              "      <td>0</td>\n",
              "      <td>0</td>\n",
              "      <td>0</td>\n",
              "      <td>0</td>\n",
              "      <td>0</td>\n",
              "      <td>0</td>\n",
              "      <td>0</td>\n",
              "      <td>0</td>\n",
              "      <td>0</td>\n",
              "      <td>0</td>\n",
              "    </tr>\n",
              "    <tr>\n",
              "      <th>3</th>\n",
              "      <td>0</td>\n",
              "      <td>0</td>\n",
              "      <td>0</td>\n",
              "      <td>0</td>\n",
              "      <td>0</td>\n",
              "      <td>0</td>\n",
              "      <td>0</td>\n",
              "      <td>0</td>\n",
              "      <td>0</td>\n",
              "      <td>0</td>\n",
              "      <td>...</td>\n",
              "      <td>0</td>\n",
              "      <td>0</td>\n",
              "      <td>0</td>\n",
              "      <td>0</td>\n",
              "      <td>0</td>\n",
              "      <td>0</td>\n",
              "      <td>0</td>\n",
              "      <td>0</td>\n",
              "      <td>0</td>\n",
              "      <td>0</td>\n",
              "    </tr>\n",
              "    <tr>\n",
              "      <th>4</th>\n",
              "      <td>0</td>\n",
              "      <td>0</td>\n",
              "      <td>0</td>\n",
              "      <td>0</td>\n",
              "      <td>0</td>\n",
              "      <td>0</td>\n",
              "      <td>0</td>\n",
              "      <td>0</td>\n",
              "      <td>0</td>\n",
              "      <td>0</td>\n",
              "      <td>...</td>\n",
              "      <td>0</td>\n",
              "      <td>0</td>\n",
              "      <td>0</td>\n",
              "      <td>0</td>\n",
              "      <td>0</td>\n",
              "      <td>0</td>\n",
              "      <td>0</td>\n",
              "      <td>0</td>\n",
              "      <td>0</td>\n",
              "      <td>0</td>\n",
              "    </tr>\n",
              "  </tbody>\n",
              "</table>\n",
              "<p>5 rows × 784 columns</p>\n",
              "</div>\n",
              "      <button class=\"colab-df-convert\" onclick=\"convertToInteractive('df-7a7abd16-e1c0-498b-b6aa-9ad266e95bfc')\"\n",
              "              title=\"Convert this dataframe to an interactive table.\"\n",
              "              style=\"display:none;\">\n",
              "        \n",
              "  <svg xmlns=\"http://www.w3.org/2000/svg\" height=\"24px\"viewBox=\"0 0 24 24\"\n",
              "       width=\"24px\">\n",
              "    <path d=\"M0 0h24v24H0V0z\" fill=\"none\"/>\n",
              "    <path d=\"M18.56 5.44l.94 2.06.94-2.06 2.06-.94-2.06-.94-.94-2.06-.94 2.06-2.06.94zm-11 1L8.5 8.5l.94-2.06 2.06-.94-2.06-.94L8.5 2.5l-.94 2.06-2.06.94zm10 10l.94 2.06.94-2.06 2.06-.94-2.06-.94-.94-2.06-.94 2.06-2.06.94z\"/><path d=\"M17.41 7.96l-1.37-1.37c-.4-.4-.92-.59-1.43-.59-.52 0-1.04.2-1.43.59L10.3 9.45l-7.72 7.72c-.78.78-.78 2.05 0 2.83L4 21.41c.39.39.9.59 1.41.59.51 0 1.02-.2 1.41-.59l7.78-7.78 2.81-2.81c.8-.78.8-2.07 0-2.86zM5.41 20L4 18.59l7.72-7.72 1.47 1.35L5.41 20z\"/>\n",
              "  </svg>\n",
              "      </button>\n",
              "      \n",
              "  <style>\n",
              "    .colab-df-container {\n",
              "      display:flex;\n",
              "      flex-wrap:wrap;\n",
              "      gap: 12px;\n",
              "    }\n",
              "\n",
              "    .colab-df-convert {\n",
              "      background-color: #E8F0FE;\n",
              "      border: none;\n",
              "      border-radius: 50%;\n",
              "      cursor: pointer;\n",
              "      display: none;\n",
              "      fill: #1967D2;\n",
              "      height: 32px;\n",
              "      padding: 0 0 0 0;\n",
              "      width: 32px;\n",
              "    }\n",
              "\n",
              "    .colab-df-convert:hover {\n",
              "      background-color: #E2EBFA;\n",
              "      box-shadow: 0px 1px 2px rgba(60, 64, 67, 0.3), 0px 1px 3px 1px rgba(60, 64, 67, 0.15);\n",
              "      fill: #174EA6;\n",
              "    }\n",
              "\n",
              "    [theme=dark] .colab-df-convert {\n",
              "      background-color: #3B4455;\n",
              "      fill: #D2E3FC;\n",
              "    }\n",
              "\n",
              "    [theme=dark] .colab-df-convert:hover {\n",
              "      background-color: #434B5C;\n",
              "      box-shadow: 0px 1px 3px 1px rgba(0, 0, 0, 0.15);\n",
              "      filter: drop-shadow(0px 1px 2px rgba(0, 0, 0, 0.3));\n",
              "      fill: #FFFFFF;\n",
              "    }\n",
              "  </style>\n",
              "\n",
              "      <script>\n",
              "        const buttonEl =\n",
              "          document.querySelector('#df-7a7abd16-e1c0-498b-b6aa-9ad266e95bfc button.colab-df-convert');\n",
              "        buttonEl.style.display =\n",
              "          google.colab.kernel.accessAllowed ? 'block' : 'none';\n",
              "\n",
              "        async function convertToInteractive(key) {\n",
              "          const element = document.querySelector('#df-7a7abd16-e1c0-498b-b6aa-9ad266e95bfc');\n",
              "          const dataTable =\n",
              "            await google.colab.kernel.invokeFunction('convertToInteractive',\n",
              "                                                     [key], {});\n",
              "          if (!dataTable) return;\n",
              "\n",
              "          const docLinkHtml = 'Like what you see? Visit the ' +\n",
              "            '<a target=\"_blank\" href=https://colab.research.google.com/notebooks/data_table.ipynb>data table notebook</a>'\n",
              "            + ' to learn more about interactive tables.';\n",
              "          element.innerHTML = '';\n",
              "          dataTable['output_type'] = 'display_data';\n",
              "          await google.colab.output.renderOutput(dataTable, element);\n",
              "          const docLink = document.createElement('div');\n",
              "          docLink.innerHTML = docLinkHtml;\n",
              "          element.appendChild(docLink);\n",
              "        }\n",
              "      </script>\n",
              "    </div>\n",
              "  </div>\n",
              "  "
            ]
          },
          "metadata": {}
        }
      ]
    },
    {
      "cell_type": "code",
      "source": [
        "train_df.info()"
      ],
      "metadata": {
        "colab": {
          "base_uri": "https://localhost:8080/"
        },
        "id": "KakpGOumHVp2",
        "outputId": "f5337f83-94bf-4a92-b095-aa4b56cc7be0"
      },
      "execution_count": null,
      "outputs": [
        {
          "output_type": "stream",
          "name": "stdout",
          "text": [
            "<class 'pandas.core.frame.DataFrame'>\n",
            "Int64Index: 60000 entries, 0 to 59999\n",
            "Columns: 785 entries, label to px784\n",
            "dtypes: int64(785)\n",
            "memory usage: 359.8 MB\n"
          ]
        }
      ]
    },
    {
      "cell_type": "code",
      "source": [
        "train_df.describe()"
      ],
      "metadata": {
        "colab": {
          "base_uri": "https://localhost:8080/"
        },
        "id": "IRypb6t6HbD6",
        "outputId": "b33ce764-2703-43ab-cd7c-ddc215c15402"
      },
      "execution_count": null,
      "outputs": [
        {
          "output_type": "execute_result",
          "data": {
            "text/plain": [
              "              label      px1      px2      px3      px4      px5      px6  \\\n",
              "count  60000.000000  60000.0  60000.0  60000.0  60000.0  60000.0  60000.0   \n",
              "mean       4.453933      0.0      0.0      0.0      0.0      0.0      0.0   \n",
              "std        2.889270      0.0      0.0      0.0      0.0      0.0      0.0   \n",
              "min        0.000000      0.0      0.0      0.0      0.0      0.0      0.0   \n",
              "25%        2.000000      0.0      0.0      0.0      0.0      0.0      0.0   \n",
              "50%        4.000000      0.0      0.0      0.0      0.0      0.0      0.0   \n",
              "75%        7.000000      0.0      0.0      0.0      0.0      0.0      0.0   \n",
              "max        9.000000      0.0      0.0      0.0      0.0      0.0      0.0   \n",
              "\n",
              "           px7      px8      px9  ...         px775         px776  \\\n",
              "count  60000.0  60000.0  60000.0  ...  60000.000000  60000.000000   \n",
              "mean       0.0      0.0      0.0  ...      0.200433      0.088867   \n",
              "std        0.0      0.0      0.0  ...      6.042472      3.956189   \n",
              "min        0.0      0.0      0.0  ...      0.000000      0.000000   \n",
              "25%        0.0      0.0      0.0  ...      0.000000      0.000000   \n",
              "50%        0.0      0.0      0.0  ...      0.000000      0.000000   \n",
              "75%        0.0      0.0      0.0  ...      0.000000      0.000000   \n",
              "max        0.0      0.0      0.0  ...    254.000000    254.000000   \n",
              "\n",
              "              px777         px778         px779       px780    px781    px782  \\\n",
              "count  60000.000000  60000.000000  60000.000000  60000.0000  60000.0  60000.0   \n",
              "mean       0.045633      0.019283      0.015117      0.0020      0.0      0.0   \n",
              "std        2.839845      1.686770      1.678283      0.3466      0.0      0.0   \n",
              "min        0.000000      0.000000      0.000000      0.0000      0.0      0.0   \n",
              "25%        0.000000      0.000000      0.000000      0.0000      0.0      0.0   \n",
              "50%        0.000000      0.000000      0.000000      0.0000      0.0      0.0   \n",
              "75%        0.000000      0.000000      0.000000      0.0000      0.0      0.0   \n",
              "max      253.000000    253.000000    254.000000     62.0000      0.0      0.0   \n",
              "\n",
              "         px783    px784  \n",
              "count  60000.0  60000.0  \n",
              "mean       0.0      0.0  \n",
              "std        0.0      0.0  \n",
              "min        0.0      0.0  \n",
              "25%        0.0      0.0  \n",
              "50%        0.0      0.0  \n",
              "75%        0.0      0.0  \n",
              "max        0.0      0.0  \n",
              "\n",
              "[8 rows x 785 columns]"
            ],
            "text/html": [
              "\n",
              "  <div id=\"df-8bcb0078-9647-4ce3-9251-f2cb6fca7be1\">\n",
              "    <div class=\"colab-df-container\">\n",
              "      <div>\n",
              "<style scoped>\n",
              "    .dataframe tbody tr th:only-of-type {\n",
              "        vertical-align: middle;\n",
              "    }\n",
              "\n",
              "    .dataframe tbody tr th {\n",
              "        vertical-align: top;\n",
              "    }\n",
              "\n",
              "    .dataframe thead th {\n",
              "        text-align: right;\n",
              "    }\n",
              "</style>\n",
              "<table border=\"1\" class=\"dataframe\">\n",
              "  <thead>\n",
              "    <tr style=\"text-align: right;\">\n",
              "      <th></th>\n",
              "      <th>label</th>\n",
              "      <th>px1</th>\n",
              "      <th>px2</th>\n",
              "      <th>px3</th>\n",
              "      <th>px4</th>\n",
              "      <th>px5</th>\n",
              "      <th>px6</th>\n",
              "      <th>px7</th>\n",
              "      <th>px8</th>\n",
              "      <th>px9</th>\n",
              "      <th>...</th>\n",
              "      <th>px775</th>\n",
              "      <th>px776</th>\n",
              "      <th>px777</th>\n",
              "      <th>px778</th>\n",
              "      <th>px779</th>\n",
              "      <th>px780</th>\n",
              "      <th>px781</th>\n",
              "      <th>px782</th>\n",
              "      <th>px783</th>\n",
              "      <th>px784</th>\n",
              "    </tr>\n",
              "  </thead>\n",
              "  <tbody>\n",
              "    <tr>\n",
              "      <th>count</th>\n",
              "      <td>60000.000000</td>\n",
              "      <td>60000.0</td>\n",
              "      <td>60000.0</td>\n",
              "      <td>60000.0</td>\n",
              "      <td>60000.0</td>\n",
              "      <td>60000.0</td>\n",
              "      <td>60000.0</td>\n",
              "      <td>60000.0</td>\n",
              "      <td>60000.0</td>\n",
              "      <td>60000.0</td>\n",
              "      <td>...</td>\n",
              "      <td>60000.000000</td>\n",
              "      <td>60000.000000</td>\n",
              "      <td>60000.000000</td>\n",
              "      <td>60000.000000</td>\n",
              "      <td>60000.000000</td>\n",
              "      <td>60000.0000</td>\n",
              "      <td>60000.0</td>\n",
              "      <td>60000.0</td>\n",
              "      <td>60000.0</td>\n",
              "      <td>60000.0</td>\n",
              "    </tr>\n",
              "    <tr>\n",
              "      <th>mean</th>\n",
              "      <td>4.453933</td>\n",
              "      <td>0.0</td>\n",
              "      <td>0.0</td>\n",
              "      <td>0.0</td>\n",
              "      <td>0.0</td>\n",
              "      <td>0.0</td>\n",
              "      <td>0.0</td>\n",
              "      <td>0.0</td>\n",
              "      <td>0.0</td>\n",
              "      <td>0.0</td>\n",
              "      <td>...</td>\n",
              "      <td>0.200433</td>\n",
              "      <td>0.088867</td>\n",
              "      <td>0.045633</td>\n",
              "      <td>0.019283</td>\n",
              "      <td>0.015117</td>\n",
              "      <td>0.0020</td>\n",
              "      <td>0.0</td>\n",
              "      <td>0.0</td>\n",
              "      <td>0.0</td>\n",
              "      <td>0.0</td>\n",
              "    </tr>\n",
              "    <tr>\n",
              "      <th>std</th>\n",
              "      <td>2.889270</td>\n",
              "      <td>0.0</td>\n",
              "      <td>0.0</td>\n",
              "      <td>0.0</td>\n",
              "      <td>0.0</td>\n",
              "      <td>0.0</td>\n",
              "      <td>0.0</td>\n",
              "      <td>0.0</td>\n",
              "      <td>0.0</td>\n",
              "      <td>0.0</td>\n",
              "      <td>...</td>\n",
              "      <td>6.042472</td>\n",
              "      <td>3.956189</td>\n",
              "      <td>2.839845</td>\n",
              "      <td>1.686770</td>\n",
              "      <td>1.678283</td>\n",
              "      <td>0.3466</td>\n",
              "      <td>0.0</td>\n",
              "      <td>0.0</td>\n",
              "      <td>0.0</td>\n",
              "      <td>0.0</td>\n",
              "    </tr>\n",
              "    <tr>\n",
              "      <th>min</th>\n",
              "      <td>0.000000</td>\n",
              "      <td>0.0</td>\n",
              "      <td>0.0</td>\n",
              "      <td>0.0</td>\n",
              "      <td>0.0</td>\n",
              "      <td>0.0</td>\n",
              "      <td>0.0</td>\n",
              "      <td>0.0</td>\n",
              "      <td>0.0</td>\n",
              "      <td>0.0</td>\n",
              "      <td>...</td>\n",
              "      <td>0.000000</td>\n",
              "      <td>0.000000</td>\n",
              "      <td>0.000000</td>\n",
              "      <td>0.000000</td>\n",
              "      <td>0.000000</td>\n",
              "      <td>0.0000</td>\n",
              "      <td>0.0</td>\n",
              "      <td>0.0</td>\n",
              "      <td>0.0</td>\n",
              "      <td>0.0</td>\n",
              "    </tr>\n",
              "    <tr>\n",
              "      <th>25%</th>\n",
              "      <td>2.000000</td>\n",
              "      <td>0.0</td>\n",
              "      <td>0.0</td>\n",
              "      <td>0.0</td>\n",
              "      <td>0.0</td>\n",
              "      <td>0.0</td>\n",
              "      <td>0.0</td>\n",
              "      <td>0.0</td>\n",
              "      <td>0.0</td>\n",
              "      <td>0.0</td>\n",
              "      <td>...</td>\n",
              "      <td>0.000000</td>\n",
              "      <td>0.000000</td>\n",
              "      <td>0.000000</td>\n",
              "      <td>0.000000</td>\n",
              "      <td>0.000000</td>\n",
              "      <td>0.0000</td>\n",
              "      <td>0.0</td>\n",
              "      <td>0.0</td>\n",
              "      <td>0.0</td>\n",
              "      <td>0.0</td>\n",
              "    </tr>\n",
              "    <tr>\n",
              "      <th>50%</th>\n",
              "      <td>4.000000</td>\n",
              "      <td>0.0</td>\n",
              "      <td>0.0</td>\n",
              "      <td>0.0</td>\n",
              "      <td>0.0</td>\n",
              "      <td>0.0</td>\n",
              "      <td>0.0</td>\n",
              "      <td>0.0</td>\n",
              "      <td>0.0</td>\n",
              "      <td>0.0</td>\n",
              "      <td>...</td>\n",
              "      <td>0.000000</td>\n",
              "      <td>0.000000</td>\n",
              "      <td>0.000000</td>\n",
              "      <td>0.000000</td>\n",
              "      <td>0.000000</td>\n",
              "      <td>0.0000</td>\n",
              "      <td>0.0</td>\n",
              "      <td>0.0</td>\n",
              "      <td>0.0</td>\n",
              "      <td>0.0</td>\n",
              "    </tr>\n",
              "    <tr>\n",
              "      <th>75%</th>\n",
              "      <td>7.000000</td>\n",
              "      <td>0.0</td>\n",
              "      <td>0.0</td>\n",
              "      <td>0.0</td>\n",
              "      <td>0.0</td>\n",
              "      <td>0.0</td>\n",
              "      <td>0.0</td>\n",
              "      <td>0.0</td>\n",
              "      <td>0.0</td>\n",
              "      <td>0.0</td>\n",
              "      <td>...</td>\n",
              "      <td>0.000000</td>\n",
              "      <td>0.000000</td>\n",
              "      <td>0.000000</td>\n",
              "      <td>0.000000</td>\n",
              "      <td>0.000000</td>\n",
              "      <td>0.0000</td>\n",
              "      <td>0.0</td>\n",
              "      <td>0.0</td>\n",
              "      <td>0.0</td>\n",
              "      <td>0.0</td>\n",
              "    </tr>\n",
              "    <tr>\n",
              "      <th>max</th>\n",
              "      <td>9.000000</td>\n",
              "      <td>0.0</td>\n",
              "      <td>0.0</td>\n",
              "      <td>0.0</td>\n",
              "      <td>0.0</td>\n",
              "      <td>0.0</td>\n",
              "      <td>0.0</td>\n",
              "      <td>0.0</td>\n",
              "      <td>0.0</td>\n",
              "      <td>0.0</td>\n",
              "      <td>...</td>\n",
              "      <td>254.000000</td>\n",
              "      <td>254.000000</td>\n",
              "      <td>253.000000</td>\n",
              "      <td>253.000000</td>\n",
              "      <td>254.000000</td>\n",
              "      <td>62.0000</td>\n",
              "      <td>0.0</td>\n",
              "      <td>0.0</td>\n",
              "      <td>0.0</td>\n",
              "      <td>0.0</td>\n",
              "    </tr>\n",
              "  </tbody>\n",
              "</table>\n",
              "<p>8 rows × 785 columns</p>\n",
              "</div>\n",
              "      <button class=\"colab-df-convert\" onclick=\"convertToInteractive('df-8bcb0078-9647-4ce3-9251-f2cb6fca7be1')\"\n",
              "              title=\"Convert this dataframe to an interactive table.\"\n",
              "              style=\"display:none;\">\n",
              "        \n",
              "  <svg xmlns=\"http://www.w3.org/2000/svg\" height=\"24px\"viewBox=\"0 0 24 24\"\n",
              "       width=\"24px\">\n",
              "    <path d=\"M0 0h24v24H0V0z\" fill=\"none\"/>\n",
              "    <path d=\"M18.56 5.44l.94 2.06.94-2.06 2.06-.94-2.06-.94-.94-2.06-.94 2.06-2.06.94zm-11 1L8.5 8.5l.94-2.06 2.06-.94-2.06-.94L8.5 2.5l-.94 2.06-2.06.94zm10 10l.94 2.06.94-2.06 2.06-.94-2.06-.94-.94-2.06-.94 2.06-2.06.94z\"/><path d=\"M17.41 7.96l-1.37-1.37c-.4-.4-.92-.59-1.43-.59-.52 0-1.04.2-1.43.59L10.3 9.45l-7.72 7.72c-.78.78-.78 2.05 0 2.83L4 21.41c.39.39.9.59 1.41.59.51 0 1.02-.2 1.41-.59l7.78-7.78 2.81-2.81c.8-.78.8-2.07 0-2.86zM5.41 20L4 18.59l7.72-7.72 1.47 1.35L5.41 20z\"/>\n",
              "  </svg>\n",
              "      </button>\n",
              "      \n",
              "  <style>\n",
              "    .colab-df-container {\n",
              "      display:flex;\n",
              "      flex-wrap:wrap;\n",
              "      gap: 12px;\n",
              "    }\n",
              "\n",
              "    .colab-df-convert {\n",
              "      background-color: #E8F0FE;\n",
              "      border: none;\n",
              "      border-radius: 50%;\n",
              "      cursor: pointer;\n",
              "      display: none;\n",
              "      fill: #1967D2;\n",
              "      height: 32px;\n",
              "      padding: 0 0 0 0;\n",
              "      width: 32px;\n",
              "    }\n",
              "\n",
              "    .colab-df-convert:hover {\n",
              "      background-color: #E2EBFA;\n",
              "      box-shadow: 0px 1px 2px rgba(60, 64, 67, 0.3), 0px 1px 3px 1px rgba(60, 64, 67, 0.15);\n",
              "      fill: #174EA6;\n",
              "    }\n",
              "\n",
              "    [theme=dark] .colab-df-convert {\n",
              "      background-color: #3B4455;\n",
              "      fill: #D2E3FC;\n",
              "    }\n",
              "\n",
              "    [theme=dark] .colab-df-convert:hover {\n",
              "      background-color: #434B5C;\n",
              "      box-shadow: 0px 1px 3px 1px rgba(0, 0, 0, 0.15);\n",
              "      filter: drop-shadow(0px 1px 2px rgba(0, 0, 0, 0.3));\n",
              "      fill: #FFFFFF;\n",
              "    }\n",
              "  </style>\n",
              "\n",
              "      <script>\n",
              "        const buttonEl =\n",
              "          document.querySelector('#df-8bcb0078-9647-4ce3-9251-f2cb6fca7be1 button.colab-df-convert');\n",
              "        buttonEl.style.display =\n",
              "          google.colab.kernel.accessAllowed ? 'block' : 'none';\n",
              "\n",
              "        async function convertToInteractive(key) {\n",
              "          const element = document.querySelector('#df-8bcb0078-9647-4ce3-9251-f2cb6fca7be1');\n",
              "          const dataTable =\n",
              "            await google.colab.kernel.invokeFunction('convertToInteractive',\n",
              "                                                     [key], {});\n",
              "          if (!dataTable) return;\n",
              "\n",
              "          const docLinkHtml = 'Like what you see? Visit the ' +\n",
              "            '<a target=\"_blank\" href=https://colab.research.google.com/notebooks/data_table.ipynb>data table notebook</a>'\n",
              "            + ' to learn more about interactive tables.';\n",
              "          element.innerHTML = '';\n",
              "          dataTable['output_type'] = 'display_data';\n",
              "          await google.colab.output.renderOutput(dataTable, element);\n",
              "          const docLink = document.createElement('div');\n",
              "          docLink.innerHTML = docLinkHtml;\n",
              "          element.appendChild(docLink);\n",
              "        }\n",
              "      </script>\n",
              "    </div>\n",
              "  </div>\n",
              "  "
            ]
          },
          "metadata": {},
          "execution_count": 4
        }
      ]
    },
    {
      "cell_type": "code",
      "source": [
        "test_df.info()"
      ],
      "metadata": {
        "colab": {
          "base_uri": "https://localhost:8080/"
        },
        "id": "y2-S6sq8HZZM",
        "outputId": "a56c3bea-4741-4eba-96af-fd324bb4a6cc"
      },
      "execution_count": null,
      "outputs": [
        {
          "output_type": "stream",
          "name": "stdout",
          "text": [
            "<class 'pandas.core.frame.DataFrame'>\n",
            "Int64Index: 10000 entries, 0 to 9999\n",
            "Columns: 784 entries, px1 to px784\n",
            "dtypes: int64(784)\n",
            "memory usage: 59.9 MB\n"
          ]
        }
      ]
    },
    {
      "cell_type": "code",
      "source": [
        "test_df.describe()"
      ],
      "metadata": {
        "colab": {
          "base_uri": "https://localhost:8080/"
        },
        "id": "bbiLGplcHcy6",
        "outputId": "e645b0ea-318d-4c23-aa55-a7233c5900f2"
      },
      "execution_count": null,
      "outputs": [
        {
          "output_type": "execute_result",
          "data": {
            "text/plain": [
              "           px1      px2      px3      px4      px5      px6      px7      px8  \\\n",
              "count  10000.0  10000.0  10000.0  10000.0  10000.0  10000.0  10000.0  10000.0   \n",
              "mean       0.0      0.0      0.0      0.0      0.0      0.0      0.0      0.0   \n",
              "std        0.0      0.0      0.0      0.0      0.0      0.0      0.0      0.0   \n",
              "min        0.0      0.0      0.0      0.0      0.0      0.0      0.0      0.0   \n",
              "25%        0.0      0.0      0.0      0.0      0.0      0.0      0.0      0.0   \n",
              "50%        0.0      0.0      0.0      0.0      0.0      0.0      0.0      0.0   \n",
              "75%        0.0      0.0      0.0      0.0      0.0      0.0      0.0      0.0   \n",
              "max        0.0      0.0      0.0      0.0      0.0      0.0      0.0      0.0   \n",
              "\n",
              "           px9     px10  ...         px775         px776         px777  \\\n",
              "count  10000.0  10000.0  ...  10000.000000  10000.000000  10000.000000   \n",
              "mean       0.0      0.0  ...      0.179300      0.163600      0.052600   \n",
              "std        0.0      0.0  ...      5.674149      5.736072      2.420004   \n",
              "min        0.0      0.0  ...      0.000000      0.000000      0.000000   \n",
              "25%        0.0      0.0  ...      0.000000      0.000000      0.000000   \n",
              "50%        0.0      0.0  ...      0.000000      0.000000      0.000000   \n",
              "75%        0.0      0.0  ...      0.000000      0.000000      0.000000   \n",
              "max        0.0      0.0  ...    253.000000    253.000000    156.000000   \n",
              "\n",
              "            px778    px779    px780    px781    px782    px783    px784  \n",
              "count  10000.0000  10000.0  10000.0  10000.0  10000.0  10000.0  10000.0  \n",
              "mean       0.0006      0.0      0.0      0.0      0.0      0.0      0.0  \n",
              "std        0.0600      0.0      0.0      0.0      0.0      0.0      0.0  \n",
              "min        0.0000      0.0      0.0      0.0      0.0      0.0      0.0  \n",
              "25%        0.0000      0.0      0.0      0.0      0.0      0.0      0.0  \n",
              "50%        0.0000      0.0      0.0      0.0      0.0      0.0      0.0  \n",
              "75%        0.0000      0.0      0.0      0.0      0.0      0.0      0.0  \n",
              "max        6.0000      0.0      0.0      0.0      0.0      0.0      0.0  \n",
              "\n",
              "[8 rows x 784 columns]"
            ],
            "text/html": [
              "\n",
              "  <div id=\"df-27538b25-fb0d-4e7f-b066-e60cb37e4dd1\">\n",
              "    <div class=\"colab-df-container\">\n",
              "      <div>\n",
              "<style scoped>\n",
              "    .dataframe tbody tr th:only-of-type {\n",
              "        vertical-align: middle;\n",
              "    }\n",
              "\n",
              "    .dataframe tbody tr th {\n",
              "        vertical-align: top;\n",
              "    }\n",
              "\n",
              "    .dataframe thead th {\n",
              "        text-align: right;\n",
              "    }\n",
              "</style>\n",
              "<table border=\"1\" class=\"dataframe\">\n",
              "  <thead>\n",
              "    <tr style=\"text-align: right;\">\n",
              "      <th></th>\n",
              "      <th>px1</th>\n",
              "      <th>px2</th>\n",
              "      <th>px3</th>\n",
              "      <th>px4</th>\n",
              "      <th>px5</th>\n",
              "      <th>px6</th>\n",
              "      <th>px7</th>\n",
              "      <th>px8</th>\n",
              "      <th>px9</th>\n",
              "      <th>px10</th>\n",
              "      <th>...</th>\n",
              "      <th>px775</th>\n",
              "      <th>px776</th>\n",
              "      <th>px777</th>\n",
              "      <th>px778</th>\n",
              "      <th>px779</th>\n",
              "      <th>px780</th>\n",
              "      <th>px781</th>\n",
              "      <th>px782</th>\n",
              "      <th>px783</th>\n",
              "      <th>px784</th>\n",
              "    </tr>\n",
              "  </thead>\n",
              "  <tbody>\n",
              "    <tr>\n",
              "      <th>count</th>\n",
              "      <td>10000.0</td>\n",
              "      <td>10000.0</td>\n",
              "      <td>10000.0</td>\n",
              "      <td>10000.0</td>\n",
              "      <td>10000.0</td>\n",
              "      <td>10000.0</td>\n",
              "      <td>10000.0</td>\n",
              "      <td>10000.0</td>\n",
              "      <td>10000.0</td>\n",
              "      <td>10000.0</td>\n",
              "      <td>...</td>\n",
              "      <td>10000.000000</td>\n",
              "      <td>10000.000000</td>\n",
              "      <td>10000.000000</td>\n",
              "      <td>10000.0000</td>\n",
              "      <td>10000.0</td>\n",
              "      <td>10000.0</td>\n",
              "      <td>10000.0</td>\n",
              "      <td>10000.0</td>\n",
              "      <td>10000.0</td>\n",
              "      <td>10000.0</td>\n",
              "    </tr>\n",
              "    <tr>\n",
              "      <th>mean</th>\n",
              "      <td>0.0</td>\n",
              "      <td>0.0</td>\n",
              "      <td>0.0</td>\n",
              "      <td>0.0</td>\n",
              "      <td>0.0</td>\n",
              "      <td>0.0</td>\n",
              "      <td>0.0</td>\n",
              "      <td>0.0</td>\n",
              "      <td>0.0</td>\n",
              "      <td>0.0</td>\n",
              "      <td>...</td>\n",
              "      <td>0.179300</td>\n",
              "      <td>0.163600</td>\n",
              "      <td>0.052600</td>\n",
              "      <td>0.0006</td>\n",
              "      <td>0.0</td>\n",
              "      <td>0.0</td>\n",
              "      <td>0.0</td>\n",
              "      <td>0.0</td>\n",
              "      <td>0.0</td>\n",
              "      <td>0.0</td>\n",
              "    </tr>\n",
              "    <tr>\n",
              "      <th>std</th>\n",
              "      <td>0.0</td>\n",
              "      <td>0.0</td>\n",
              "      <td>0.0</td>\n",
              "      <td>0.0</td>\n",
              "      <td>0.0</td>\n",
              "      <td>0.0</td>\n",
              "      <td>0.0</td>\n",
              "      <td>0.0</td>\n",
              "      <td>0.0</td>\n",
              "      <td>0.0</td>\n",
              "      <td>...</td>\n",
              "      <td>5.674149</td>\n",
              "      <td>5.736072</td>\n",
              "      <td>2.420004</td>\n",
              "      <td>0.0600</td>\n",
              "      <td>0.0</td>\n",
              "      <td>0.0</td>\n",
              "      <td>0.0</td>\n",
              "      <td>0.0</td>\n",
              "      <td>0.0</td>\n",
              "      <td>0.0</td>\n",
              "    </tr>\n",
              "    <tr>\n",
              "      <th>min</th>\n",
              "      <td>0.0</td>\n",
              "      <td>0.0</td>\n",
              "      <td>0.0</td>\n",
              "      <td>0.0</td>\n",
              "      <td>0.0</td>\n",
              "      <td>0.0</td>\n",
              "      <td>0.0</td>\n",
              "      <td>0.0</td>\n",
              "      <td>0.0</td>\n",
              "      <td>0.0</td>\n",
              "      <td>...</td>\n",
              "      <td>0.000000</td>\n",
              "      <td>0.000000</td>\n",
              "      <td>0.000000</td>\n",
              "      <td>0.0000</td>\n",
              "      <td>0.0</td>\n",
              "      <td>0.0</td>\n",
              "      <td>0.0</td>\n",
              "      <td>0.0</td>\n",
              "      <td>0.0</td>\n",
              "      <td>0.0</td>\n",
              "    </tr>\n",
              "    <tr>\n",
              "      <th>25%</th>\n",
              "      <td>0.0</td>\n",
              "      <td>0.0</td>\n",
              "      <td>0.0</td>\n",
              "      <td>0.0</td>\n",
              "      <td>0.0</td>\n",
              "      <td>0.0</td>\n",
              "      <td>0.0</td>\n",
              "      <td>0.0</td>\n",
              "      <td>0.0</td>\n",
              "      <td>0.0</td>\n",
              "      <td>...</td>\n",
              "      <td>0.000000</td>\n",
              "      <td>0.000000</td>\n",
              "      <td>0.000000</td>\n",
              "      <td>0.0000</td>\n",
              "      <td>0.0</td>\n",
              "      <td>0.0</td>\n",
              "      <td>0.0</td>\n",
              "      <td>0.0</td>\n",
              "      <td>0.0</td>\n",
              "      <td>0.0</td>\n",
              "    </tr>\n",
              "    <tr>\n",
              "      <th>50%</th>\n",
              "      <td>0.0</td>\n",
              "      <td>0.0</td>\n",
              "      <td>0.0</td>\n",
              "      <td>0.0</td>\n",
              "      <td>0.0</td>\n",
              "      <td>0.0</td>\n",
              "      <td>0.0</td>\n",
              "      <td>0.0</td>\n",
              "      <td>0.0</td>\n",
              "      <td>0.0</td>\n",
              "      <td>...</td>\n",
              "      <td>0.000000</td>\n",
              "      <td>0.000000</td>\n",
              "      <td>0.000000</td>\n",
              "      <td>0.0000</td>\n",
              "      <td>0.0</td>\n",
              "      <td>0.0</td>\n",
              "      <td>0.0</td>\n",
              "      <td>0.0</td>\n",
              "      <td>0.0</td>\n",
              "      <td>0.0</td>\n",
              "    </tr>\n",
              "    <tr>\n",
              "      <th>75%</th>\n",
              "      <td>0.0</td>\n",
              "      <td>0.0</td>\n",
              "      <td>0.0</td>\n",
              "      <td>0.0</td>\n",
              "      <td>0.0</td>\n",
              "      <td>0.0</td>\n",
              "      <td>0.0</td>\n",
              "      <td>0.0</td>\n",
              "      <td>0.0</td>\n",
              "      <td>0.0</td>\n",
              "      <td>...</td>\n",
              "      <td>0.000000</td>\n",
              "      <td>0.000000</td>\n",
              "      <td>0.000000</td>\n",
              "      <td>0.0000</td>\n",
              "      <td>0.0</td>\n",
              "      <td>0.0</td>\n",
              "      <td>0.0</td>\n",
              "      <td>0.0</td>\n",
              "      <td>0.0</td>\n",
              "      <td>0.0</td>\n",
              "    </tr>\n",
              "    <tr>\n",
              "      <th>max</th>\n",
              "      <td>0.0</td>\n",
              "      <td>0.0</td>\n",
              "      <td>0.0</td>\n",
              "      <td>0.0</td>\n",
              "      <td>0.0</td>\n",
              "      <td>0.0</td>\n",
              "      <td>0.0</td>\n",
              "      <td>0.0</td>\n",
              "      <td>0.0</td>\n",
              "      <td>0.0</td>\n",
              "      <td>...</td>\n",
              "      <td>253.000000</td>\n",
              "      <td>253.000000</td>\n",
              "      <td>156.000000</td>\n",
              "      <td>6.0000</td>\n",
              "      <td>0.0</td>\n",
              "      <td>0.0</td>\n",
              "      <td>0.0</td>\n",
              "      <td>0.0</td>\n",
              "      <td>0.0</td>\n",
              "      <td>0.0</td>\n",
              "    </tr>\n",
              "  </tbody>\n",
              "</table>\n",
              "<p>8 rows × 784 columns</p>\n",
              "</div>\n",
              "      <button class=\"colab-df-convert\" onclick=\"convertToInteractive('df-27538b25-fb0d-4e7f-b066-e60cb37e4dd1')\"\n",
              "              title=\"Convert this dataframe to an interactive table.\"\n",
              "              style=\"display:none;\">\n",
              "        \n",
              "  <svg xmlns=\"http://www.w3.org/2000/svg\" height=\"24px\"viewBox=\"0 0 24 24\"\n",
              "       width=\"24px\">\n",
              "    <path d=\"M0 0h24v24H0V0z\" fill=\"none\"/>\n",
              "    <path d=\"M18.56 5.44l.94 2.06.94-2.06 2.06-.94-2.06-.94-.94-2.06-.94 2.06-2.06.94zm-11 1L8.5 8.5l.94-2.06 2.06-.94-2.06-.94L8.5 2.5l-.94 2.06-2.06.94zm10 10l.94 2.06.94-2.06 2.06-.94-2.06-.94-.94-2.06-.94 2.06-2.06.94z\"/><path d=\"M17.41 7.96l-1.37-1.37c-.4-.4-.92-.59-1.43-.59-.52 0-1.04.2-1.43.59L10.3 9.45l-7.72 7.72c-.78.78-.78 2.05 0 2.83L4 21.41c.39.39.9.59 1.41.59.51 0 1.02-.2 1.41-.59l7.78-7.78 2.81-2.81c.8-.78.8-2.07 0-2.86zM5.41 20L4 18.59l7.72-7.72 1.47 1.35L5.41 20z\"/>\n",
              "  </svg>\n",
              "      </button>\n",
              "      \n",
              "  <style>\n",
              "    .colab-df-container {\n",
              "      display:flex;\n",
              "      flex-wrap:wrap;\n",
              "      gap: 12px;\n",
              "    }\n",
              "\n",
              "    .colab-df-convert {\n",
              "      background-color: #E8F0FE;\n",
              "      border: none;\n",
              "      border-radius: 50%;\n",
              "      cursor: pointer;\n",
              "      display: none;\n",
              "      fill: #1967D2;\n",
              "      height: 32px;\n",
              "      padding: 0 0 0 0;\n",
              "      width: 32px;\n",
              "    }\n",
              "\n",
              "    .colab-df-convert:hover {\n",
              "      background-color: #E2EBFA;\n",
              "      box-shadow: 0px 1px 2px rgba(60, 64, 67, 0.3), 0px 1px 3px 1px rgba(60, 64, 67, 0.15);\n",
              "      fill: #174EA6;\n",
              "    }\n",
              "\n",
              "    [theme=dark] .colab-df-convert {\n",
              "      background-color: #3B4455;\n",
              "      fill: #D2E3FC;\n",
              "    }\n",
              "\n",
              "    [theme=dark] .colab-df-convert:hover {\n",
              "      background-color: #434B5C;\n",
              "      box-shadow: 0px 1px 3px 1px rgba(0, 0, 0, 0.15);\n",
              "      filter: drop-shadow(0px 1px 2px rgba(0, 0, 0, 0.3));\n",
              "      fill: #FFFFFF;\n",
              "    }\n",
              "  </style>\n",
              "\n",
              "      <script>\n",
              "        const buttonEl =\n",
              "          document.querySelector('#df-27538b25-fb0d-4e7f-b066-e60cb37e4dd1 button.colab-df-convert');\n",
              "        buttonEl.style.display =\n",
              "          google.colab.kernel.accessAllowed ? 'block' : 'none';\n",
              "\n",
              "        async function convertToInteractive(key) {\n",
              "          const element = document.querySelector('#df-27538b25-fb0d-4e7f-b066-e60cb37e4dd1');\n",
              "          const dataTable =\n",
              "            await google.colab.kernel.invokeFunction('convertToInteractive',\n",
              "                                                     [key], {});\n",
              "          if (!dataTable) return;\n",
              "\n",
              "          const docLinkHtml = 'Like what you see? Visit the ' +\n",
              "            '<a target=\"_blank\" href=https://colab.research.google.com/notebooks/data_table.ipynb>data table notebook</a>'\n",
              "            + ' to learn more about interactive tables.';\n",
              "          element.innerHTML = '';\n",
              "          dataTable['output_type'] = 'display_data';\n",
              "          await google.colab.output.renderOutput(dataTable, element);\n",
              "          const docLink = document.createElement('div');\n",
              "          docLink.innerHTML = docLinkHtml;\n",
              "          element.appendChild(docLink);\n",
              "        }\n",
              "      </script>\n",
              "    </div>\n",
              "  </div>\n",
              "  "
            ]
          },
          "metadata": {},
          "execution_count": 6
        }
      ]
    },
    {
      "cell_type": "code",
      "source": [
        "# 결측치는 존재하지 않습니다\n",
        "def check_missing_col(dataframe):\n",
        "  missing_col = []\n",
        "  counted_missing_col = 0\n",
        "  for i, col in enumerate(dataframe.columns):\n",
        "    missing_values = sum(dataframe[col].isna())\n",
        "    is_missing = True if missing_values >= 1 else False\n",
        "    if is_missing:\n",
        "      counted_missing_col += 1\n",
        "      print(f'결측치가 있는 컬럼은: {col}입니다.')\n",
        "      print(f'해당 컬럼에 총 {missing_values}개의 결측치가 존재합니다.')\n",
        "      missing_col.append([col, dataframe[col].dtype])\n",
        "    if counted_missing_col == 0:\n",
        "      print('결측치가 존재하지 않습니다.')\n",
        "    return missing_col "
      ],
      "metadata": {
        "id": "vdHJqwfDHe2k"
      },
      "execution_count": null,
      "outputs": []
    },
    {
      "cell_type": "code",
      "source": [
        "print(\"missing_col of train_df\")\n",
        "print(check_missing_col(train_df))\n",
        "print(\"missing_col of test_df\")\n",
        "print(check_missing_col(test_df))"
      ],
      "metadata": {
        "colab": {
          "base_uri": "https://localhost:8080/"
        },
        "id": "p3zLGZSTJQMv",
        "outputId": "4cd0da4f-4bbf-4829-9da0-0bcc005be9dc"
      },
      "execution_count": null,
      "outputs": [
        {
          "output_type": "stream",
          "name": "stdout",
          "text": [
            "missing_col of train_df\n",
            "결측치가 존재하지 않습니다.\n",
            "[]\n",
            "missing_col of test_df\n",
            "결측치가 존재하지 않습니다.\n",
            "[]\n"
          ]
        }
      ]
    },
    {
      "cell_type": "code",
      "source": [
        "# 1과 7이 다른 숫자에 비해서 많기는 하지만 심각한 정도는 아닌 것 같다.\n",
        "# 따로 불균형 데이터 처리는 해주지 않기로 한다.\n",
        "print(train_df.label.value_counts())\n",
        "sns.countplot(x='label', data=train_df)\n",
        "plt.show()"
      ],
      "metadata": {
        "colab": {
          "base_uri": "https://localhost:8080/"
        },
        "id": "C3RdYVz6o8It",
        "outputId": "c3520b60-dcbb-4ce8-f832-3ec1b98ba79f"
      },
      "execution_count": null,
      "outputs": [
        {
          "output_type": "stream",
          "name": "stdout",
          "text": [
            "1    6742\n",
            "7    6265\n",
            "3    6131\n",
            "2    5958\n",
            "9    5949\n",
            "0    5923\n",
            "6    5918\n",
            "8    5851\n",
            "4    5842\n",
            "5    5421\n",
            "Name: label, dtype: int64\n"
          ]
        },
        {
          "output_type": "display_data",
          "data": {
            "text/plain": [
              "<Figure size 432x288 with 1 Axes>"
            ],
            "image/png": "[encoded data removed]"
          },
          "metadata": {
            "needs_background": "light"
          }
        }
      ]
    },
    {
      "cell_type": "code",
      "source": [
        "img = np.array(train_df.iloc[40,1:],dtype = 'float32').reshape((28,28))\n",
        "plt.imshow(img, cmap = 'gray')\n",
        "plt.show()"
      ],
      "metadata": {
        "id": "IR-pXDnEThlg",
        "colab": {
          "base_uri": "https://localhost:8080/"
        },
        "outputId": "b84b598c-b1ac-47ed-b857-4456e38d8936"
      },
      "execution_count": null,
      "outputs": [
        {
          "output_type": "display_data",
          "data": {
            "text/plain": [
              "<Figure size 432x288 with 1 Axes>"
            ],
            "image/png": "[encoded data removed]"
          },
          "metadata": {
            "needs_background": "light"
          }
        }
      ]
    },
    {
      "cell_type": "code",
      "source": [
        "# 변수가 너무 많기도 하고, 각각의 변수가 무엇을 의미하는 지도 알기 때문에 분포를 살펴보는 것은 생략합니다."
      ],
      "metadata": {
        "id": "-_tdAAy2JhUA"
      },
      "execution_count": null,
      "outputs": []
    },
    {
      "cell_type": "markdown",
      "source": [
        "## 모델 사용하기"
      ],
      "metadata": {
        "id": "fMPPY3mMMLpV"
      }
    },
    {
      "cell_type": "code",
      "source": [
        "from keras.models import Sequential\n",
        "from keras.layers import Dense, Activation, Dropout\n",
        "from keras.layers import Conv2D, MaxPooling2D, Flatten, GlobalAveragePooling2D\n",
        "from keras.layers import BatchNormalization\n",
        "from keras.callbacks import EarlyStopping, ModelCheckpoint\n",
        "from sklearn.metrics import accuracy_score"
      ],
      "metadata": {
        "id": "0OA8wCqxMYCC"
      },
      "execution_count": null,
      "outputs": []
    },
    {
      "cell_type": "code",
      "source": [
        "tf.random.set_seed(42)\n",
        "np.random.seed(42)"
      ],
      "metadata": {
        "id": "p4FuwMUzYMnP"
      },
      "execution_count": null,
      "outputs": []
    },
    {
      "cell_type": "markdown",
      "source": [
        "### MLP"
      ],
      "metadata": {
        "id": "e2FaVECcMSYV"
      }
    },
    {
      "cell_type": "code",
      "source": [
        "X_train = train_df.drop(\"label\", axis=1)\n",
        "y_train = train_df[['label']]\n",
        "\n",
        "X_test = test_df"
      ],
      "metadata": {
        "id": "p4kkLaA5J26M"
      },
      "execution_count": null,
      "outputs": []
    },
    {
      "cell_type": "code",
      "source": [
        "X_train = np.array(X_train.astype('float32')/255.0)\n",
        "X_test = np.array(X_test.astype('float32')/255.0)"
      ],
      "metadata": {
        "id": "e1gdLiU4KJmh"
      },
      "execution_count": null,
      "outputs": []
    },
    {
      "cell_type": "code",
      "source": [
        "y_train = keras.utils.to_categorical(y_train,10)"
      ],
      "metadata": {
        "id": "8ZulM_I8KXLD"
      },
      "execution_count": null,
      "outputs": []
    },
    {
      "cell_type": "code",
      "source": [
        "mlp1 = Sequential(name='mlp1')\n",
        "mlp1.add(Dense(units=1024, input_dim=(28*28), activation='relu', name='hidden1'))\n",
        "mlp1.add(Dropout(0.25, name='dropout1'))\n",
        "mlp1.add(Dense(units=256, activation='relu', name='hidden2'))\n",
        "mlp1.add(Dropout(0.25, name='dropout2'))\n",
        "mlp1.add(Dense(units=64, activation='relu', name='hidden3'))\n",
        "mlp1.add(Dropout(0.25, name='dropout3'))\n",
        "mlp1.add(Dense(units=10, activation='softmax', name='output'))\n",
        "\n",
        "mlp1.summary()"
      ],
      "metadata": {
        "colab": {
          "base_uri": "https://localhost:8080/"
        },
        "id": "NGLCBaIuMIqk",
        "outputId": "d98a6c64-6959-4cc8-bc2d-442e84693a77"
      },
      "execution_count": null,
      "outputs": [
        {
          "output_type": "stream",
          "name": "stdout",
          "text": [
            "Model: \"mlp1\"\n",
            "_________________________________________________________________\n",
            " Layer (type)                Output Shape              Param #   \n",
            "=================================================================\n",
            " hidden1 (Dense)             (None, 1024)              803840    \n",
            "                                                                 \n",
            " dropout1 (Dropout)          (None, 1024)              0         \n",
            "                                                                 \n",
            " hidden2 (Dense)             (None, 256)               262400    \n",
            "                                                                 \n",
            " dropout2 (Dropout)          (None, 256)               0         \n",
            "                                                                 \n",
            " hidden3 (Dense)             (None, 64)                16448     \n",
            "                                                                 \n",
            " dropout3 (Dropout)          (None, 64)                0         \n",
            "                                                                 \n",
            " output (Dense)              (None, 10)                650       \n",
            "                                                                 \n",
            "=================================================================\n",
            "Total params: 1,083,338\n",
            "Trainable params: 1,083,338\n",
            "Non-trainable params: 0\n",
            "_________________________________________________________________\n"
          ]
        }
      ]
    },
    {
      "cell_type": "code",
      "source": [
        "mlp1.compile(optimizer='adam', loss='categorical_crossentropy', metrics=['accuracy'])\n",
        "\n",
        "es = EarlyStopping(monitor='val_loss', patience=15, restore_best_weights=True)\n",
        "mc = ModelCheckpoint(filepath='mlp1_best.h5', monitor='val_accuracy', save_best_only=10)"
      ],
      "metadata": {
        "id": "Fss1l1wxOoeD"
      },
      "execution_count": null,
      "outputs": []
    },
    {
      "cell_type": "code",
      "source": [
        "history = mlp1.fit(X_train, y_train, epochs=100, batch_size=64,\n",
        "                   validation_split=0.2, callbacks=[es,mc])"
      ],
      "metadata": {
        "colab": {
          "base_uri": "https://localhost:8080/"
        },
        "id": "hYNs34cpPNCd",
        "outputId": "0f6b0dea-ada1-4b78-e272-e4bcb79e45f1"
      },
      "execution_count": null,
      "outputs": [
        {
          "output_type": "stream",
          "name": "stdout",
          "text": [
            "Epoch 1/100\n",
            "750/750 [==============================] - 8s 6ms/step - loss: 0.3235 - accuracy: 0.9047 - val_loss: 0.1454 - val_accuracy: 0.9556\n",
            "Epoch 2/100\n",
            "750/750 [==============================] - 4s 6ms/step - loss: 0.1344 - accuracy: 0.9609 - val_loss: 0.1284 - val_accuracy: 0.9649\n",
            "Epoch 3/100\n",
            "750/750 [==============================] - 4s 6ms/step - loss: 0.1074 - accuracy: 0.9688 - val_loss: 0.0969 - val_accuracy: 0.9720\n",
            "Epoch 4/100\n",
            "750/750 [==============================] - 4s 6ms/step - loss: 0.0824 - accuracy: 0.9757 - val_loss: 0.0875 - val_accuracy: 0.9746\n",
            "Epoch 5/100\n",
            "750/750 [==============================] - 4s 6ms/step - loss: 0.0714 - accuracy: 0.9783 - val_loss: 0.0877 - val_accuracy: 0.9756\n",
            "Epoch 6/100\n",
            "750/750 [==============================] - 4s 6ms/step - loss: 0.0627 - accuracy: 0.9815 - val_loss: 0.0817 - val_accuracy: 0.9788\n",
            "Epoch 7/100\n",
            "750/750 [==============================] - 4s 6ms/step - loss: 0.0518 - accuracy: 0.9845 - val_loss: 0.0846 - val_accuracy: 0.9769\n",
            "Epoch 8/100\n",
            "750/750 [==============================] - 4s 6ms/step - loss: 0.0495 - accuracy: 0.9851 - val_loss: 0.0837 - val_accuracy: 0.9780\n",
            "Epoch 9/100\n",
            "750/750 [==============================] - 4s 6ms/step - loss: 0.0449 - accuracy: 0.9859 - val_loss: 0.0833 - val_accuracy: 0.9804\n",
            "Epoch 10/100\n",
            "750/750 [==============================] - 4s 6ms/step - loss: 0.0442 - accuracy: 0.9870 - val_loss: 0.0945 - val_accuracy: 0.9778\n",
            "Epoch 11/100\n",
            "750/750 [==============================] - 4s 6ms/step - loss: 0.0355 - accuracy: 0.9895 - val_loss: 0.0988 - val_accuracy: 0.9782\n",
            "Epoch 12/100\n",
            "750/750 [==============================] - 4s 6ms/step - loss: 0.0376 - accuracy: 0.9886 - val_loss: 0.0853 - val_accuracy: 0.9807\n",
            "Epoch 13/100\n",
            "750/750 [==============================] - 4s 6ms/step - loss: 0.0341 - accuracy: 0.9898 - val_loss: 0.0936 - val_accuracy: 0.9797\n",
            "Epoch 14/100\n",
            "750/750 [==============================] - 4s 6ms/step - loss: 0.0333 - accuracy: 0.9896 - val_loss: 0.0973 - val_accuracy: 0.9787\n",
            "Epoch 15/100\n",
            "750/750 [==============================] - 4s 6ms/step - loss: 0.0277 - accuracy: 0.9916 - val_loss: 0.0941 - val_accuracy: 0.9800\n",
            "Epoch 16/100\n",
            "750/750 [==============================] - 7s 9ms/step - loss: 0.0275 - accuracy: 0.9920 - val_loss: 0.1125 - val_accuracy: 0.9799\n",
            "Epoch 17/100\n",
            "750/750 [==============================] - 4s 6ms/step - loss: 0.0282 - accuracy: 0.9917 - val_loss: 0.1061 - val_accuracy: 0.9802\n",
            "Epoch 18/100\n",
            "750/750 [==============================] - 4s 6ms/step - loss: 0.0244 - accuracy: 0.9931 - val_loss: 0.1074 - val_accuracy: 0.9800\n",
            "Epoch 19/100\n",
            "750/750 [==============================] - 4s 6ms/step - loss: 0.0231 - accuracy: 0.9930 - val_loss: 0.1095 - val_accuracy: 0.9780\n",
            "Epoch 20/100\n",
            "750/750 [==============================] - 4s 6ms/step - loss: 0.0228 - accuracy: 0.9931 - val_loss: 0.0937 - val_accuracy: 0.9818\n",
            "Epoch 21/100\n",
            "750/750 [==============================] - 4s 6ms/step - loss: 0.0246 - accuracy: 0.9925 - val_loss: 0.1037 - val_accuracy: 0.9803\n"
          ]
        }
      ]
    },
    {
      "cell_type": "code",
      "source": [
        "def plt_show_loss(history):\n",
        "  plt.plot(history.history['loss'])\n",
        "  plt.plot(history.history['val_loss'])\n",
        "  plt.title(\"Model Loss\")\n",
        "  plt.ylabel(\"Loss\")\n",
        "  plt.xlabel('Epoch')\n",
        "  plt.legend(['train', 'test'], loc=0)\n",
        "\n",
        "plt_show_loss(history)\n",
        "plt.show()"
      ],
      "metadata": {
        "colab": {
          "base_uri": "https://localhost:8080/",
          "height": 295
        },
        "id": "WJpaM7B2Pood",
        "outputId": "88134462-37be-4797-d2ff-549254b67d49"
      },
      "execution_count": null,
      "outputs": [
        {
          "output_type": "display_data",
          "data": {
            "text/plain": [
              "<Figure size 432x288 with 1 Axes>"
            ],
            "image/png": "[encoded data removed]"
          },
          "metadata": {
            "needs_background": "light"
          }
        }
      ]
    },
    {
      "cell_type": "code",
      "source": [
        "def plt_show_acc(history):\n",
        "  plt.plot(history.history['accuracy'])\n",
        "  plt.plot(history.history['val_accuracy'])\n",
        "  plt.title(\"Model accuracy\")\n",
        "  plt.ylabel(\"Accuracy\")\n",
        "  plt.xlabel(\"Epoch\")\n",
        "  plt.legend(['train', 'test'], loc=0)\n",
        "\n",
        "plt_show_acc(history)\n",
        "plt.show()"
      ],
      "metadata": {
        "colab": {
          "base_uri": "https://localhost:8080/",
          "height": 295
        },
        "id": "hF2NkTBrQCGe",
        "outputId": "0e81a82f-d7fa-46bc-9f9f-9bf295070284"
      },
      "execution_count": null,
      "outputs": [
        {
          "output_type": "display_data",
          "data": {
            "text/plain": [
              "<Figure size 432x288 with 1 Axes>"
            ],
            "image/png": "[encoded data removed]"
          },
          "metadata": {
            "needs_background": "light"
          }
        }
      ]
    },
    {
      "cell_type": "markdown",
      "source": [
        "### CNN(BatchNormalization X)"
      ],
      "metadata": {
        "id": "TbN6AZc1QsDU"
      }
    },
    {
      "cell_type": "code",
      "source": [
        "X_train = train_df.drop(\"label\", axis=1)\n",
        "y_train = train_df[['label']]\n",
        "\n",
        "X_test = test_df"
      ],
      "metadata": {
        "id": "Jk1ZYlmSRlLD"
      },
      "execution_count": null,
      "outputs": []
    },
    {
      "cell_type": "code",
      "source": [
        "X_train = np.array(X_train.astype('float32')/255.0).reshape(-1,28,28,1)\n",
        "X_test = np.array(X_test.astype('float32')/255.0).reshape(-1,28,28,1)"
      ],
      "metadata": {
        "id": "U5rMfez_SfgO"
      },
      "execution_count": null,
      "outputs": []
    },
    {
      "cell_type": "code",
      "source": [
        "y_train = keras.utils.to_categorical(y_train,10)"
      ],
      "metadata": {
        "id": "owFOj1NYS1Lh"
      },
      "execution_count": null,
      "outputs": []
    },
    {
      "cell_type": "code",
      "source": [
        "cnn1 = Sequential(name='cnn1')\n",
        "cnn1.add(Conv2D(64, (7,7), activation='elu', padding='same', input_shape=[28,28,1], name='conv1'))\n",
        "cnn1.add(MaxPooling2D((2,2), name='pooling1'))\n",
        "cnn1.add(Conv2D(128,(3,3), activation='elu', padding='same', name='conv2_1'))\n",
        "cnn1.add(Conv2D(128,(3,3), activation='elu', padding='same', name='conv2_2'))\n",
        "cnn1.add(MaxPooling2D((2,2), name='pooling2'))\n",
        "cnn1.add(Conv2D(256,(3,3), activation='elu', padding='same', name='conv3_1'))\n",
        "cnn1.add(Conv2D(256,(3,3), activation='elu', padding='same', name='conv3_2'))\n",
        "cnn1.add(MaxPooling2D((2,2), name='pooling3'))\n",
        "\n",
        "cnn1.add(GlobalAveragePooling2D(name='global'))\n",
        "cnn1.add(Dense(256, activation='relu', name='dense1'))\n",
        "cnn1.add(Dropout(0.25, name='dropout1'))\n",
        "cnn1.add(Dense(64, activation='relu', name='dense2'))\n",
        "cnn1.add(Dropout(0.25, name='dropout2'))\n",
        "cnn1.add(Dense(10, activation='softmax', name='output'))\n",
        "\n",
        "cnn1.summary()"
      ],
      "metadata": {
        "colab": {
          "base_uri": "https://localhost:8080/"
        },
        "id": "759DR5hCQ0jj",
        "outputId": "4f5f7f38-adb7-4d87-ca34-0c87144e4937"
      },
      "execution_count": null,
      "outputs": [
        {
          "output_type": "stream",
          "name": "stdout",
          "text": [
            "Model: \"cnn1\"\n",
            "_________________________________________________________________\n",
            " Layer (type)                Output Shape              Param #   \n",
            "=================================================================\n",
            " conv1 (Conv2D)              (None, 28, 28, 64)        3200      \n",
            "                                                                 \n",
            " pooling1 (MaxPooling2D)     (None, 14, 14, 64)        0         \n",
            "                                                                 \n",
            " conv2_1 (Conv2D)            (None, 14, 14, 128)       73856     \n",
            "                                                                 \n",
            " conv2_2 (Conv2D)            (None, 14, 14, 128)       147584    \n",
            "                                                                 \n",
            " pooling2 (MaxPooling2D)     (None, 7, 7, 128)         0         \n",
            "                                                                 \n",
            " conv3_1 (Conv2D)            (None, 7, 7, 256)         295168    \n",
            "                                                                 \n",
            " conv3_2 (Conv2D)            (None, 7, 7, 256)         590080    \n",
            "                                                                 \n",
            " pooling3 (MaxPooling2D)     (None, 3, 3, 256)         0         \n",
            "                                                                 \n",
            " global (GlobalAveragePoolin  (None, 256)              0         \n",
            " g2D)                                                            \n",
            "                                                                 \n",
            " dense1 (Dense)              (None, 256)               65792     \n",
            "                                                                 \n",
            " dropout1 (Dropout)          (None, 256)               0         \n",
            "                                                                 \n",
            " dense2 (Dense)              (None, 64)                16448     \n",
            "                                                                 \n",
            " dropout2 (Dropout)          (None, 64)                0         \n",
            "                                                                 \n",
            " output (Dense)              (None, 10)                650       \n",
            "                                                                 \n",
            "=================================================================\n",
            "Total params: 1,192,778\n",
            "Trainable params: 1,192,778\n",
            "Non-trainable params: 0\n",
            "_________________________________________________________________\n"
          ]
        }
      ]
    },
    {
      "cell_type": "code",
      "source": [
        "cnn1.compile(optimizer='adam', loss='categorical_crossentropy', metrics=['accuracy'])\n",
        "\n",
        "es = EarlyStopping(monitor='val_accuracy', patience=15, restore_best_weights=True)\n",
        "mc = ModelCheckpoint(filepath='cnn1_best.h5', monitor='val_accuracy', save_best_only=True)"
      ],
      "metadata": {
        "id": "HEGut8dJUukW"
      },
      "execution_count": null,
      "outputs": []
    },
    {
      "cell_type": "code",
      "source": [
        "history2 = cnn1.fit(X_train, y_train, epochs=100, batch_size=64,\n",
        "                   validation_split=0.2, callbacks=[es,mc])"
      ],
      "metadata": {
        "colab": {
          "base_uri": "https://localhost:8080/"
        },
        "id": "Jm2hpP_wVBHJ",
        "outputId": "866a889c-243c-4f61-d5cf-e95ef5aadff7"
      },
      "execution_count": null,
      "outputs": [
        {
          "output_type": "stream",
          "name": "stdout",
          "text": [
            "Epoch 1/100\n",
            "750/750 [==============================] - 29s 28ms/step - loss: 0.3263 - accuracy: 0.8979 - val_loss: 0.0870 - val_accuracy: 0.9758\n",
            "Epoch 2/100\n",
            "750/750 [==============================] - 20s 27ms/step - loss: 0.0977 - accuracy: 0.9730 - val_loss: 0.0564 - val_accuracy: 0.9845\n",
            "Epoch 3/100\n",
            "750/750 [==============================] - 20s 26ms/step - loss: 0.0703 - accuracy: 0.9813 - val_loss: 0.0487 - val_accuracy: 0.9867\n",
            "Epoch 4/100\n",
            "750/750 [==============================] - 20s 26ms/step - loss: 0.0574 - accuracy: 0.9841 - val_loss: 0.0508 - val_accuracy: 0.9858\n",
            "Epoch 5/100\n",
            "750/750 [==============================] - 20s 26ms/step - loss: 0.0478 - accuracy: 0.9867 - val_loss: 0.0504 - val_accuracy: 0.9863\n",
            "Epoch 6/100\n",
            "750/750 [==============================] - 20s 26ms/step - loss: 0.0421 - accuracy: 0.9880 - val_loss: 0.0503 - val_accuracy: 0.9871\n",
            "Epoch 7/100\n",
            "750/750 [==============================] - 20s 26ms/step - loss: 0.0445 - accuracy: 0.9883 - val_loss: 0.0375 - val_accuracy: 0.9897\n",
            "Epoch 8/100\n",
            "750/750 [==============================] - 20s 26ms/step - loss: 0.0316 - accuracy: 0.9911 - val_loss: 0.0438 - val_accuracy: 0.9908\n",
            "Epoch 9/100\n",
            "750/750 [==============================] - 20s 26ms/step - loss: 0.0380 - accuracy: 0.9903 - val_loss: 0.0452 - val_accuracy: 0.9909\n",
            "Epoch 10/100\n",
            "750/750 [==============================] - 20s 27ms/step - loss: 0.0348 - accuracy: 0.9909 - val_loss: 0.0544 - val_accuracy: 0.9872\n",
            "Epoch 11/100\n",
            "750/750 [==============================] - 24s 32ms/step - loss: 0.0287 - accuracy: 0.9920 - val_loss: 0.1134 - val_accuracy: 0.9821\n",
            "Epoch 12/100\n",
            "750/750 [==============================] - 20s 26ms/step - loss: 0.0300 - accuracy: 0.9919 - val_loss: 0.0589 - val_accuracy: 0.9889\n",
            "Epoch 13/100\n",
            "750/750 [==============================] - 21s 28ms/step - loss: 0.0239 - accuracy: 0.9935 - val_loss: 0.0847 - val_accuracy: 0.9857\n",
            "Epoch 14/100\n",
            "750/750 [==============================] - 21s 28ms/step - loss: 0.0270 - accuracy: 0.9930 - val_loss: 0.0736 - val_accuracy: 0.9871\n",
            "Epoch 15/100\n",
            "750/750 [==============================] - 20s 26ms/step - loss: 0.0299 - accuracy: 0.9932 - val_loss: 0.0513 - val_accuracy: 0.9901\n",
            "Epoch 16/100\n",
            "750/750 [==============================] - 20s 26ms/step - loss: 0.0207 - accuracy: 0.9948 - val_loss: 0.0709 - val_accuracy: 0.9881\n",
            "Epoch 17/100\n",
            "750/750 [==============================] - 22s 29ms/step - loss: 0.0335 - accuracy: 0.9927 - val_loss: 0.0592 - val_accuracy: 0.9903\n",
            "Epoch 18/100\n",
            "750/750 [==============================] - 20s 26ms/step - loss: 0.0195 - accuracy: 0.9952 - val_loss: 0.0497 - val_accuracy: 0.9927\n",
            "Epoch 19/100\n",
            "750/750 [==============================] - 20s 26ms/step - loss: 0.0144 - accuracy: 0.9963 - val_loss: 0.0666 - val_accuracy: 0.9908\n",
            "Epoch 20/100\n",
            "750/750 [==============================] - 20s 26ms/step - loss: 0.0289 - accuracy: 0.9928 - val_loss: 0.0625 - val_accuracy: 0.9923\n",
            "Epoch 21/100\n",
            "750/750 [==============================] - 20s 27ms/step - loss: 0.0271 - accuracy: 0.9949 - val_loss: 0.0898 - val_accuracy: 0.9850\n",
            "Epoch 22/100\n",
            "750/750 [==============================] - 19s 26ms/step - loss: 0.0184 - accuracy: 0.9954 - val_loss: 0.0607 - val_accuracy: 0.9904\n",
            "Epoch 23/100\n",
            "750/750 [==============================] - 19s 26ms/step - loss: 0.0152 - accuracy: 0.9963 - val_loss: 0.0745 - val_accuracy: 0.9881\n",
            "Epoch 24/100\n",
            "750/750 [==============================] - 19s 26ms/step - loss: 0.0273 - accuracy: 0.9944 - val_loss: 0.0534 - val_accuracy: 0.9901\n",
            "Epoch 25/100\n",
            "750/750 [==============================] - 19s 26ms/step - loss: 0.0174 - accuracy: 0.9963 - val_loss: 0.0597 - val_accuracy: 0.9911\n",
            "Epoch 26/100\n",
            "750/750 [==============================] - 19s 26ms/step - loss: 0.0151 - accuracy: 0.9961 - val_loss: 0.0798 - val_accuracy: 0.9868\n",
            "Epoch 27/100\n",
            "750/750 [==============================] - 19s 26ms/step - loss: 0.0260 - accuracy: 0.9940 - val_loss: 0.0808 - val_accuracy: 0.9898\n",
            "Epoch 28/100\n",
            "750/750 [==============================] - 19s 26ms/step - loss: 0.0201 - accuracy: 0.9953 - val_loss: 0.0671 - val_accuracy: 0.9918\n",
            "Epoch 29/100\n",
            "750/750 [==============================] - 19s 26ms/step - loss: 0.0164 - accuracy: 0.9967 - val_loss: 0.0871 - val_accuracy: 0.9913\n",
            "Epoch 30/100\n",
            "750/750 [==============================] - 20s 26ms/step - loss: 0.0131 - accuracy: 0.9974 - val_loss: 0.0880 - val_accuracy: 0.9902\n",
            "Epoch 31/100\n",
            "750/750 [==============================] - 20s 27ms/step - loss: 0.0245 - accuracy: 0.9952 - val_loss: 0.0710 - val_accuracy: 0.9918\n",
            "Epoch 32/100\n",
            "750/750 [==============================] - 21s 27ms/step - loss: 0.0224 - accuracy: 0.9955 - val_loss: 0.0860 - val_accuracy: 0.9909\n",
            "Epoch 33/100\n",
            "750/750 [==============================] - 20s 27ms/step - loss: 0.0134 - accuracy: 0.9972 - val_loss: 0.1064 - val_accuracy: 0.9917\n"
          ]
        }
      ]
    },
    {
      "cell_type": "code",
      "source": [
        "plt_show_loss(history2)\n",
        "plt.show()"
      ],
      "metadata": {
        "colab": {
          "base_uri": "https://localhost:8080/"
        },
        "id": "zslhVJdhVR6s",
        "outputId": "2d3e6bd4-c5ef-4e7f-a1fb-237431b4fcb9"
      },
      "execution_count": null,
      "outputs": [
        {
          "output_type": "display_data",
          "data": {
            "text/plain": [
              "<Figure size 432x288 with 1 Axes>"
            ],
            "image/png": "[encoded data removed]"
          },
          "metadata": {
            "needs_background": "light"
          }
        }
      ]
    },
    {
      "cell_type": "code",
      "source": [
        "plt_show_acc(history2)\n",
        "plt.show()"
      ],
      "metadata": {
        "colab": {
          "base_uri": "https://localhost:8080/"
        },
        "id": "h6UR9Yr2VUo6",
        "outputId": "835034d1-4696-4b28-d276-40ef5a19194a"
      },
      "execution_count": null,
      "outputs": [
        {
          "output_type": "display_data",
          "data": {
            "text/plain": [
              "<Figure size 432x288 with 1 Axes>"
            ],
            "image/png": "[encoded data removed]"
          },
          "metadata": {
            "needs_background": "light"
          }
        }
      ]
    },
    {
      "cell_type": "markdown",
      "source": [
        "### CNN(BatchNormalization O)"
      ],
      "metadata": {
        "id": "yhT_ocu-WGil"
      }
    },
    {
      "cell_type": "code",
      "source": [
        "cnn2 = Sequential(name='cnn1')\n",
        "cnn2.add(Conv2D(64, (7,7), activation='elu', padding='same', input_shape=[28,28,1], name='conv1'))\n",
        "cnn2.add(BatchNormalization(name='batch1'))\n",
        "cnn2.add(MaxPooling2D((2,2), name='pooling1'))\n",
        "cnn2.add(Conv2D(128,(3,3), activation='elu', padding='same', name='conv2_1'))\n",
        "cnn2.add(Conv2D(128,(3,3), activation='elu', padding='same', name='conv2_2'))\n",
        "cnn2.add(BatchNormalization(name='batch2'))\n",
        "cnn2.add(MaxPooling2D((2,2), name='pooling2'))\n",
        "cnn2.add(Conv2D(256,(3,3), activation='elu', padding='same', name='conv3_1'))\n",
        "cnn2.add(Conv2D(256,(3,3), activation='elu', padding='same', name='conv3_2'))\n",
        "cnn2.add(BatchNormalization(name='batch3'))\n",
        "cnn2.add(MaxPooling2D((2,2), name='pooling3'))\n",
        "\n",
        "cnn2.add(GlobalAveragePooling2D(name='global'))\n",
        "cnn2.add(Dense(256, activation='relu', name='dense1'))\n",
        "cnn2.add(Dropout(0.25, name='dropout1'))\n",
        "cnn2.add(Dense(64, activation='relu', name='dense2'))\n",
        "cnn2.add(Dropout(0.25, name='dropout2'))\n",
        "cnn2.add(Dense(10, activation='softmax', name='output'))\n",
        "\n",
        "cnn2.summary()"
      ],
      "metadata": {
        "colab": {
          "base_uri": "https://localhost:8080/"
        },
        "id": "JeYgkLLbWKQk",
        "outputId": "46556d62-0a73-4b88-a972-014bc62831b0"
      },
      "execution_count": null,
      "outputs": [
        {
          "output_type": "stream",
          "name": "stdout",
          "text": [
            "Model: \"cnn1\"\n",
            "_________________________________________________________________\n",
            " Layer (type)                Output Shape              Param #   \n",
            "=================================================================\n",
            " conv1 (Conv2D)              (None, 28, 28, 64)        3200      \n",
            "                                                                 \n",
            " batch1 (BatchNormalization)  (None, 28, 28, 64)       256       \n",
            "                                                                 \n",
            " pooling1 (MaxPooling2D)     (None, 14, 14, 64)        0         \n",
            "                                                                 \n",
            " conv2_1 (Conv2D)            (None, 14, 14, 128)       73856     \n",
            "                                                                 \n",
            " conv2_2 (Conv2D)            (None, 14, 14, 128)       147584    \n",
            "                                                                 \n",
            " batch2 (BatchNormalization)  (None, 14, 14, 128)      512       \n",
            "                                                                 \n",
            " pooling2 (MaxPooling2D)     (None, 7, 7, 128)         0         \n",
            "                                                                 \n",
            " conv3_1 (Conv2D)            (None, 7, 7, 256)         295168    \n",
            "                                                                 \n",
            " conv3_2 (Conv2D)            (None, 7, 7, 256)         590080    \n",
            "                                                                 \n",
            " batch3 (BatchNormalization)  (None, 7, 7, 256)        1024      \n",
            "                                                                 \n",
            " pooling3 (MaxPooling2D)     (None, 3, 3, 256)         0         \n",
            "                                                                 \n",
            " global (GlobalAveragePoolin  (None, 256)              0         \n",
            " g2D)                                                            \n",
            "                                                                 \n",
            " dense1 (Dense)              (None, 256)               65792     \n",
            "                                                                 \n",
            " dropout1 (Dropout)          (None, 256)               0         \n",
            "                                                                 \n",
            " dense2 (Dense)              (None, 64)                16448     \n",
            "                                                                 \n",
            " dropout2 (Dropout)          (None, 64)                0         \n",
            "                                                                 \n",
            " output (Dense)              (None, 10)                650       \n",
            "                                                                 \n",
            "=================================================================\n",
            "Total params: 1,194,570\n",
            "Trainable params: 1,193,674\n",
            "Non-trainable params: 896\n",
            "_________________________________________________________________\n"
          ]
        }
      ]
    },
    {
      "cell_type": "code",
      "source": [
        "cnn2.compile(optimizer='adam', loss='categorical_crossentropy', metrics=['accuracy'])\n",
        "\n",
        "es = EarlyStopping(monitor='val_accuracy', patience=15, restore_best_weights=True)\n",
        "mc = ModelCheckpoint(filepath='cnn2_best.h5', monitor='val_accuracy', save_best_only=True)"
      ],
      "metadata": {
        "id": "aobiHwHaXnKs"
      },
      "execution_count": null,
      "outputs": []
    },
    {
      "cell_type": "code",
      "source": [
        "history3 = cnn2.fit(X_train, y_train, epochs=100, batch_size=64,\n",
        "                   validation_split=0.2, callbacks=[es,mc])"
      ],
      "metadata": {
        "colab": {
          "base_uri": "https://localhost:8080/"
        },
        "id": "8GV-YMBCXwO3",
        "outputId": "6d7f24fd-eb5e-4fb9-8823-b344861616b6"
      },
      "execution_count": null,
      "outputs": [
        {
          "output_type": "stream",
          "name": "stdout",
          "text": [
            "Epoch 1/100\n",
            "750/750 [==============================] - 23s 29ms/step - loss: 0.1852 - accuracy: 0.9456 - val_loss: 0.0874 - val_accuracy: 0.9756\n",
            "Epoch 2/100\n",
            "750/750 [==============================] - 21s 28ms/step - loss: 0.0631 - accuracy: 0.9829 - val_loss: 0.1097 - val_accuracy: 0.9705\n",
            "Epoch 3/100\n",
            "750/750 [==============================] - 21s 29ms/step - loss: 0.0448 - accuracy: 0.9876 - val_loss: 0.0682 - val_accuracy: 0.9820\n",
            "Epoch 4/100\n",
            "750/750 [==============================] - 21s 29ms/step - loss: 0.0353 - accuracy: 0.9893 - val_loss: 0.0493 - val_accuracy: 0.9862\n",
            "Epoch 5/100\n",
            "750/750 [==============================] - 21s 28ms/step - loss: 0.0333 - accuracy: 0.9908 - val_loss: 0.0590 - val_accuracy: 0.9842\n",
            "Epoch 6/100\n",
            "750/750 [==============================] - 22s 29ms/step - loss: 0.0257 - accuracy: 0.9927 - val_loss: 0.0615 - val_accuracy: 0.9822\n",
            "Epoch 7/100\n",
            "750/750 [==============================] - 22s 30ms/step - loss: 0.0258 - accuracy: 0.9928 - val_loss: 0.0359 - val_accuracy: 0.9902\n",
            "Epoch 8/100\n",
            "750/750 [==============================] - 21s 28ms/step - loss: 0.0190 - accuracy: 0.9942 - val_loss: 0.0389 - val_accuracy: 0.9898\n",
            "Epoch 9/100\n",
            "750/750 [==============================] - 21s 28ms/step - loss: 0.0205 - accuracy: 0.9943 - val_loss: 0.0288 - val_accuracy: 0.9931\n",
            "Epoch 10/100\n",
            "750/750 [==============================] - 22s 29ms/step - loss: 0.0147 - accuracy: 0.9960 - val_loss: 0.0387 - val_accuracy: 0.9913\n",
            "Epoch 11/100\n",
            "750/750 [==============================] - 22s 29ms/step - loss: 0.0176 - accuracy: 0.9952 - val_loss: 0.0446 - val_accuracy: 0.9893\n",
            "Epoch 12/100\n",
            "750/750 [==============================] - 22s 29ms/step - loss: 0.0149 - accuracy: 0.9954 - val_loss: 0.0466 - val_accuracy: 0.9901\n",
            "Epoch 13/100\n",
            "750/750 [==============================] - 21s 28ms/step - loss: 0.0142 - accuracy: 0.9959 - val_loss: 0.0375 - val_accuracy: 0.9917\n",
            "Epoch 14/100\n",
            "750/750 [==============================] - 22s 29ms/step - loss: 0.0118 - accuracy: 0.9966 - val_loss: 0.0407 - val_accuracy: 0.9922\n",
            "Epoch 15/100\n",
            "750/750 [==============================] - 22s 29ms/step - loss: 0.0103 - accuracy: 0.9972 - val_loss: 0.0443 - val_accuracy: 0.9904\n",
            "Epoch 16/100\n",
            "750/750 [==============================] - 21s 28ms/step - loss: 0.0117 - accuracy: 0.9966 - val_loss: 0.0362 - val_accuracy: 0.9919\n",
            "Epoch 17/100\n",
            "750/750 [==============================] - 21s 28ms/step - loss: 0.0100 - accuracy: 0.9971 - val_loss: 0.0508 - val_accuracy: 0.9900\n",
            "Epoch 18/100\n",
            "750/750 [==============================] - 22s 29ms/step - loss: 0.0084 - accuracy: 0.9976 - val_loss: 0.0345 - val_accuracy: 0.9932\n",
            "Epoch 19/100\n",
            "750/750 [==============================] - 21s 28ms/step - loss: 0.0071 - accuracy: 0.9980 - val_loss: 0.0474 - val_accuracy: 0.9922\n",
            "Epoch 20/100\n",
            "750/750 [==============================] - 21s 29ms/step - loss: 0.0084 - accuracy: 0.9979 - val_loss: 0.0489 - val_accuracy: 0.9902\n",
            "Epoch 21/100\n",
            "750/750 [==============================] - 21s 28ms/step - loss: 0.0066 - accuracy: 0.9979 - val_loss: 0.0522 - val_accuracy: 0.9917\n",
            "Epoch 22/100\n",
            "750/750 [==============================] - 21s 28ms/step - loss: 0.0094 - accuracy: 0.9976 - val_loss: 0.0857 - val_accuracy: 0.9841\n",
            "Epoch 23/100\n",
            "750/750 [==============================] - 22s 29ms/step - loss: 0.0071 - accuracy: 0.9980 - val_loss: 0.0620 - val_accuracy: 0.9883\n",
            "Epoch 24/100\n",
            "750/750 [==============================] - 21s 28ms/step - loss: 0.0062 - accuracy: 0.9983 - val_loss: 0.0551 - val_accuracy: 0.9916\n",
            "Epoch 25/100\n",
            "750/750 [==============================] - 21s 28ms/step - loss: 0.0047 - accuracy: 0.9984 - val_loss: 0.0600 - val_accuracy: 0.9911\n",
            "Epoch 26/100\n",
            "750/750 [==============================] - 21s 28ms/step - loss: 0.0088 - accuracy: 0.9976 - val_loss: 0.0397 - val_accuracy: 0.9931\n",
            "Epoch 27/100\n",
            "750/750 [==============================] - 21s 28ms/step - loss: 0.0067 - accuracy: 0.9981 - val_loss: 0.0420 - val_accuracy: 0.9939\n",
            "Epoch 28/100\n",
            "750/750 [==============================] - 22s 29ms/step - loss: 0.0065 - accuracy: 0.9982 - val_loss: 0.0537 - val_accuracy: 0.9911\n",
            "Epoch 29/100\n",
            "750/750 [==============================] - 21s 28ms/step - loss: 0.0058 - accuracy: 0.9983 - val_loss: 0.0734 - val_accuracy: 0.9872\n",
            "Epoch 30/100\n",
            "750/750 [==============================] - 22s 29ms/step - loss: 0.0043 - accuracy: 0.9987 - val_loss: 0.0419 - val_accuracy: 0.9930\n",
            "Epoch 31/100\n",
            "750/750 [==============================] - 21s 28ms/step - loss: 0.0045 - accuracy: 0.9988 - val_loss: 0.0390 - val_accuracy: 0.9943\n",
            "Epoch 32/100\n",
            "750/750 [==============================] - 21s 28ms/step - loss: 0.0034 - accuracy: 0.9992 - val_loss: 0.0407 - val_accuracy: 0.9940\n",
            "Epoch 33/100\n",
            "750/750 [==============================] - 22s 29ms/step - loss: 0.0060 - accuracy: 0.9985 - val_loss: 0.0447 - val_accuracy: 0.9933\n",
            "Epoch 34/100\n",
            "750/750 [==============================] - 22s 29ms/step - loss: 0.0046 - accuracy: 0.9989 - val_loss: 0.0487 - val_accuracy: 0.9942\n",
            "Epoch 35/100\n",
            "750/750 [==============================] - 21s 28ms/step - loss: 0.0074 - accuracy: 0.9983 - val_loss: 0.0500 - val_accuracy: 0.9922\n",
            "Epoch 36/100\n",
            "750/750 [==============================] - 21s 28ms/step - loss: 0.0053 - accuracy: 0.9987 - val_loss: 0.0462 - val_accuracy: 0.9933\n",
            "Epoch 37/100\n",
            "750/750 [==============================] - 21s 28ms/step - loss: 0.0051 - accuracy: 0.9987 - val_loss: 0.0418 - val_accuracy: 0.9935\n",
            "Epoch 38/100\n",
            "750/750 [==============================] - 21s 28ms/step - loss: 0.0034 - accuracy: 0.9991 - val_loss: 0.0574 - val_accuracy: 0.9927\n",
            "Epoch 39/100\n",
            "750/750 [==============================] - 21s 29ms/step - loss: 0.0051 - accuracy: 0.9984 - val_loss: 0.0563 - val_accuracy: 0.9918\n",
            "Epoch 40/100\n",
            "750/750 [==============================] - 21s 29ms/step - loss: 0.0030 - accuracy: 0.9992 - val_loss: 0.0461 - val_accuracy: 0.9942\n",
            "Epoch 41/100\n",
            "750/750 [==============================] - 21s 28ms/step - loss: 0.0046 - accuracy: 0.9989 - val_loss: 0.0485 - val_accuracy: 0.9936\n",
            "Epoch 42/100\n",
            "750/750 [==============================] - 21s 28ms/step - loss: 0.0048 - accuracy: 0.9988 - val_loss: 0.0703 - val_accuracy: 0.9915\n",
            "Epoch 43/100\n",
            "750/750 [==============================] - 21s 28ms/step - loss: 0.0045 - accuracy: 0.9990 - val_loss: 0.0694 - val_accuracy: 0.9907\n",
            "Epoch 44/100\n",
            "750/750 [==============================] - 21s 28ms/step - loss: 0.0040 - accuracy: 0.9990 - val_loss: 0.0534 - val_accuracy: 0.9918\n",
            "Epoch 45/100\n",
            "750/750 [==============================] - 21s 28ms/step - loss: 0.0049 - accuracy: 0.9986 - val_loss: 0.0767 - val_accuracy: 0.9908\n",
            "Epoch 46/100\n",
            "750/750 [==============================] - 21s 28ms/step - loss: 0.0034 - accuracy: 0.9991 - val_loss: 0.0644 - val_accuracy: 0.9941\n"
          ]
        }
      ]
    },
    {
      "cell_type": "code",
      "source": [
        "plt_show_loss(history3)\n",
        "plt.show()"
      ],
      "metadata": {
        "colab": {
          "base_uri": "https://localhost:8080/"
        },
        "id": "K9qEvYcpX0Px",
        "outputId": "f912c9fb-6399-482e-eac2-17a49d96b023"
      },
      "execution_count": null,
      "outputs": [
        {
          "output_type": "display_data",
          "data": {
            "text/plain": [
              "<Figure size 432x288 with 1 Axes>"
            ],
            "image/png": "[encoded data removed]"
          },
          "metadata": {
            "needs_background": "light"
          }
        }
      ]
    },
    {
      "cell_type": "code",
      "source": [
        "plt_show_acc(history3)\n",
        "plt.show()"
      ],
      "metadata": {
        "colab": {
          "base_uri": "https://localhost:8080/"
        },
        "id": "qs_Z7iFrX4Mv",
        "outputId": "8d253d05-26e5-4708-bf40-ad8a1cfb47ea"
      },
      "execution_count": null,
      "outputs": [
        {
          "output_type": "display_data",
          "data": {
            "text/plain": [
              "<Figure size 432x288 with 1 Axes>"
            ],
            "image/png": "[encoded data removed]"
          },
          "metadata": {
            "needs_background": "light"
          }
        }
      ]
    },
    {
      "cell_type": "markdown",
      "source": [
        "## 제출 파일 만들기"
      ],
      "metadata": {
        "id": "ue-wdUv4hZE2"
      }
    },
    {
      "cell_type": "code",
      "source": [
        "submission= pd.read_csv('sample_submission.csv')"
      ],
      "metadata": {
        "id": "XmliekU0hb6b"
      },
      "execution_count": null,
      "outputs": []
    },
    {
      "cell_type": "code",
      "source": [
        "X_test = test_df\n",
        "X_test = np.array(X_test.astype('float32')/255.0)\n",
        "mlp1_preds = mlp1.predict(X_test)"
      ],
      "metadata": {
        "id": "5KBUY5mWkwFO"
      },
      "execution_count": null,
      "outputs": []
    },
    {
      "cell_type": "code",
      "source": [
        "# cnn1은 배치정규화를 적용하지 않은 모델이고, cnn2는 배치정규화를 적용한 모델입니다.\n",
        "X_test = test_df\n",
        "X_test = np.array(X_test.astype('float32')/255.0).reshape(-1,28,28,1)\n",
        "cnn1_preds = cnn1.predict(X_test)\n",
        "cnn2_preds = cnn2.predict(X_test)"
      ],
      "metadata": {
        "id": "W821qb6fh6bp"
      },
      "execution_count": null,
      "outputs": []
    },
    {
      "cell_type": "code",
      "source": [
        "mlp1_predictions = np.argmax(mlp1_preds, axis=1)\n",
        "cnn1_predictions = np.argmax(cnn1_preds, axis=1)\n",
        "cnn2_predictions = np.argmax(cnn2_preds, axis=1)"
      ],
      "metadata": {
        "id": "xGeuI6u5apKH"
      },
      "execution_count": null,
      "outputs": []
    },
    {
      "cell_type": "code",
      "source": [
        "submission['label'] = mlp1_predictions\n",
        "submission.to_csv('mlp1_2.csv', index=False)\n",
        "submission.label.value_counts()"
      ],
      "metadata": {
        "colab": {
          "base_uri": "https://localhost:8080/"
        },
        "id": "Zvv-MtSybFBo",
        "outputId": "6be0b509-dba1-4df4-d075-d2f2e51c7020"
      },
      "execution_count": null,
      "outputs": [
        {
          "output_type": "execute_result",
          "data": {
            "text/plain": [
              "1    1148\n",
              "2    1038\n",
              "7    1019\n",
              "3    1002\n",
              "8     992\n",
              "0     987\n",
              "9     982\n",
              "4     977\n",
              "6     957\n",
              "5     898\n",
              "Name: label, dtype: int64"
            ]
          },
          "metadata": {},
          "execution_count": 39
        }
      ]
    },
    {
      "cell_type": "code",
      "source": [
        "submission['label'] = cnn1_predictions\n",
        "submission.to_csv('cnn1_2.csv', index=False)\n",
        "submission.label.value_counts()"
      ],
      "metadata": {
        "colab": {
          "base_uri": "https://localhost:8080/"
        },
        "id": "cATgBfRMhzmd",
        "outputId": "ed5d94f0-7271-40b1-86f9-2643f79fb593"
      },
      "execution_count": null,
      "outputs": [
        {
          "output_type": "execute_result",
          "data": {
            "text/plain": [
              "1    1144\n",
              "2    1028\n",
              "7    1024\n",
              "3    1016\n",
              "9    1006\n",
              "0     985\n",
              "4     985\n",
              "8     975\n",
              "6     933\n",
              "5     904\n",
              "Name: label, dtype: int64"
            ]
          },
          "metadata": {},
          "execution_count": 40
        }
      ]
    },
    {
      "cell_type": "code",
      "source": [
        "submission['label'] = cnn2_predictions\n",
        "submission.to_csv('cnn2_2.csv', index=False)\n",
        "submission.label.value_counts()"
      ],
      "metadata": {
        "colab": {
          "base_uri": "https://localhost:8080/"
        },
        "id": "Dpy6pTisbJik",
        "outputId": "597ebf78-3138-41f2-bd8e-289c0e602d99"
      },
      "execution_count": null,
      "outputs": [
        {
          "output_type": "execute_result",
          "data": {
            "text/plain": [
              "1    1139\n",
              "2    1038\n",
              "7    1026\n",
              "3    1005\n",
              "9     997\n",
              "4     988\n",
              "0     987\n",
              "8     969\n",
              "6     942\n",
              "5     909\n",
              "Name: label, dtype: int64"
            ]
          },
          "metadata": {},
          "execution_count": 41
        }
      ]
    }
  ]
}